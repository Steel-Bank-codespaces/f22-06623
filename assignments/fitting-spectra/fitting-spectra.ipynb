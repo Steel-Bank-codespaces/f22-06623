{
 "cells": [
  {
   "cell_type": "markdown",
   "metadata": {},
   "source": [
    "Before you turn this problem in, make sure everything runs as expected. First, **restart the kernel** (in the menubar, select Kernel$\\rightarrow$Restart) and then **run all cells** (in the menubar, select Cell$\\rightarrow$Run All).\n",
    "\n",
    "Make sure you fill in any place that says `YOUR CODE HERE` or \"YOUR ANSWER HERE\", as well as your name and collaborators below:\n",
    "\n"
   ]
  },
  {
   "cell_type": "code",
   "execution_count": null,
   "metadata": {},
   "outputs": [],
   "source": [
    "NAME = \"\"\n",
    "COLLABORATORS = \"\"\n",
    "\n"
   ]
  },
  {
   "cell_type": "markdown",
   "metadata": {},
   "source": [
    "---\n",
    "\n"
   ]
  },
  {
   "cell_type": "markdown",
   "metadata": {
    "id": "RqFvAirizF9g"
   },
   "source": [
    "---\n",
    "\n",
    "tags: nonlinear regression\n",
    "\n",
    "---\n",
    "\n",
    "# Fitting spectra with nonlinear functions\n",
    "\n",
    "\n",
    "\n"
   ]
  },
  {
   "cell_type": "markdown",
   "metadata": {
    "id": "vP0L_l2izF9h"
   },
   "source": [
    "In spectroscopy, peaks are often modeled by a Lorentzian function:\n",
    "\n",
    "$L(x) = \\frac{A}{\\pi}\\frac{0.5 \\Gamma}{(x - x_0)^2 + (0.5\\Gamma)^2}$\n",
    "\n",
    "Where $A$ is related to the intensity, &Gamma; is a parameter specifying the width, and $x_0$ is the position of the peak.\n",
    "\n",
    "In the following spectrum, there appear to be two peaks.\n",
    "\n"
   ]
  },
  {
   "cell_type": "code",
   "execution_count": 1,
   "metadata": {
    "id": "A837Q0WrzF9j",
    "outputId": "886e5b0a-e5c9-48e7-f199-1f1c153845c3"
   },
   "outputs": [
    {
     "data": {
      "image/png": "[encoded data removed]",
      "text/plain": [
       "<Figure size 432x288 with 1 Axes>"
      ]
     },
     "metadata": {
      "needs_background": "light"
     },
     "output_type": "display_data"
    }
   ],
   "source": [
    "import numpy as np\n",
    "import matplotlib.pyplot as plt\n",
    "\n",
    "w = np.array([ 0.   ,  0.102,  0.204,  0.306,  0.408,  0.51 ,  0.612,  0.714,\n",
    "               0.816,  0.918,  1.02 ,  1.122,  1.224,  1.327,  1.429,  1.531,\n",
    "               1.633,  1.735,  1.837,  1.939,  2.041,  2.143,  2.245,  2.347,\n",
    "               2.449,  2.551,  2.653,  2.755,  2.857,  2.959,  3.061,  3.163,\n",
    "               3.265,  3.367,  3.469,  3.571,  3.673,  3.776,  3.878,  3.98 ,\n",
    "               4.082,  4.184,  4.286,  4.388,  4.49 ,  4.592,  4.694,  4.796,\n",
    "               4.898,  5.   ])\n",
    "\n",
    "intensity = np.array([ 0.629,  0.559,  0.703,  0.686,  0.917,  1.018,  1.158,  1.346,\n",
    "                       1.608,  1.845,  2.1  ,  2.644,  3.02 ,  3.57 ,  3.946,  4.314,\n",
    "                       4.486,  4.569,  4.793,  5.03 ,  5.659,  6.436,  7.397,  8.378,\n",
    "                       8.746,  8.662,  7.973,  7.018,  5.799,  4.77 ,  3.84 ,  3.184,\n",
    "                       2.749,  2.221,  1.929,  1.652,  1.412,  1.156,  1.068,  0.996,\n",
    "                       0.809,  0.808,  0.735,  0.65 ,  0.556,  0.605,  0.528,  0.433,\n",
    "                       0.502,  0.297])\n",
    "plt.plot(w, intensity)\n",
    "plt.xlabel('w')\n",
    "plt.ylabel('intensity');\n",
    "\n"
   ]
  },
  {
   "cell_type": "markdown",
   "metadata": {
    "id": "q9yaJ0SHzF9p"
   },
   "source": [
    "Use this information to find the parameters for the two peaks. You can assume that the intensity can be modeled as $i = L(w; p1) + L(w; p2)$ where $p1, p2$ are the parameters for each Lorentzian peak.\n",
    "\n",
    "\n",
    "\n"
   ]
  },
  {
   "cell_type": "markdown",
   "metadata": {},
   "source": [
    "\n",
    "\n"
   ]
  },
  {
   "cell_type": "code",
   "execution_count": null,
   "metadata": {
    "id": "23ODe_8_zF9q"
   },
   "outputs": [],
   "source": [
    "\n",
    "\n"
   ]
  },
  {
   "cell_type": "markdown",
   "metadata": {
    "id": "QQ5B2tC2zF9u"
   },
   "source": [
    "The two peaks are caused by there being two species present. The relative amounts of each species can be computed two different ways. The first way is the ratio of the $A$ parameters, which is essentially related to the heights of the peaks. Compute the ratio of the $A$ parameters to estimate the relative amounts of each species.\n",
    "\n",
    "\n",
    "\n"
   ]
  },
  {
   "cell_type": "code",
   "execution_count": null,
   "metadata": {
    "id": "Sbyb732azF9v"
   },
   "outputs": [],
   "source": [
    "\n",
    "\n"
   ]
  },
  {
   "cell_type": "markdown",
   "metadata": {
    "id": "0NV6RUdpzF92"
   },
   "source": [
    "The second way is to compute the ratio of the areas under each fitted peak. Compute this ratio, and compare it to the height ratio. Explain why the are similar in this case.\n",
    "\n",
    "\n",
    "\n"
   ]
  },
  {
   "cell_type": "code",
   "execution_count": null,
   "metadata": {
    "id": "y_64cSmrzF93"
   },
   "outputs": [],
   "source": [
    "\n",
    "\n"
   ]
  },
  {
   "cell_type": "markdown",
   "metadata": {},
   "source": [
    "\n",
    "\n"
   ]
  },
  {
   "cell_type": "code",
   "execution_count": null,
   "metadata": {},
   "outputs": [],
   "source": [
    "# Run this cell to generate a pdf from this notebook\n",
    "# Click the generated links to preview and download it.\n",
    "# Report errors to Professor Kitchin\n",
    "from f22_06623 import pdf\n",
    "%pdf\n",
    "\n"
   ]
  }
 ],
 "metadata": {
  "colab": {
   "name": "exam2-1.ipynb",
   "provenance": []
  },
  "kernelspec": {
   "display_name": "Python 3",
   "language": "python",
   "name": "python3"
  },
  "language_info": {
   "codemirror_mode": {
    "name": "ipython",
    "version": 3
   },
   "file_extension": ".py",
   "mimetype": "text/x-python",
   "name": "python",
   "nbconvert_exporter": "python",
   "pygments_lexer": "ipython3",
   "version": "3.9.7"
  },
  "org": null,
  "widgets": {
   "application/vnd.jupyter.widget-state+json": {
    "state": {},
    "version_major": 2,
    "version_minor": 0
   }
  }
 },
 "nbformat": 4,
 "nbformat_minor": 4
}
