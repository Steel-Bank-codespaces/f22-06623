{
 "cells": [
  {
   "cell_type": "markdown",
   "id": "80d1a5e7",
   "metadata": {},
   "source": [
    "Before you turn this problem in, make sure everything runs as expected. First, **restart the kernel** (in the menubar, select Kernel$\\rightarrow$Restart) and then **run all cells** (in the menubar, select Cell$\\rightarrow$Run All).\n",
    "\n",
    "Make sure you fill in any place that says `YOUR CODE HERE` or \"YOUR ANSWER HERE\", as well as your name and collaborators below:\n",
    "\n"
   ]
  },
  {
   "cell_type": "code",
   "execution_count": 1,
   "id": "55be69c8",
   "metadata": {},
   "outputs": [],
   "source": [
    "NAME = \"\"\n",
    "COLLABORATORS = \"\"\n",
    "\n"
   ]
  },
  {
   "cell_type": "markdown",
   "id": "8caaff59",
   "metadata": {},
   "source": [
    "---\n",
    "\n"
   ]
  },
  {
   "cell_type": "markdown",
   "id": "14ee19d5-2762-4f62-92c4-99a1a2a8a5a5",
   "metadata": {
    "nbgrader": {
     "grade": false,
     "grade_id": "cell-1b30de58b556ca22",
     "locked": true,
     "schema_version": 3,
     "solution": false,
     "task": false
    },
    "tags": []
   },
   "source": [
    "# Introduction assignment\n",
    "\n",
    "Insert a Markdown cell below this. In it do these things:\n",
    "\n",
    "1. tell me something about yourself, \n",
    "2. and put a photograph of yourself in it. \n",
    "\n",
    "There are two ways to do that, one is to copy an image (e.g. from a screenshot, or right click on an image and copy it), and then paste it in to a Markdown cell. The second way is to drag an image into this folder, say it is called headshot.png, then use a syntax like this (but without the four leading spaces).\n",
    "\n",
    "    ![Some description](./headshot.png)\n",
    "\n",
    "\n"
   ]
  },
  {
   "cell_type": "markdown",
   "id": "9cee615c-8778-4ef1-a1c3-95ce88486131",
   "metadata": {},
   "source": [
    "\n",
    "\n"
   ]
  },
  {
   "cell_type": "markdown",
   "id": "fac164fd-d340-4e25-a615-a6f6fdb546c2",
   "metadata": {
    "nbgrader": {
     "grade": false,
     "grade_id": "cell-12996a895eb8f315",
     "locked": true,
     "schema_version": 3,
     "solution": false,
     "task": false
    },
    "tags": []
   },
   "source": [
    "# Part 2\n",
    "Tell me about your experience with using programming to solve engineering problems.\n",
    "\n"
   ]
  },
  {
   "cell_type": "code",
   "execution_count": null,
   "id": "2adc7957-0d1a-4899-a26a-d43f153f42e7",
   "metadata": {},
   "outputs": [],
   "source": [
    "# uggg\n",
    "\n"
   ]
  },
  {
   "cell_type": "markdown",
   "id": "578683bb-83e5-4bdd-a841-8138303e3f99",
   "metadata": {},
   "source": [
    "# Python cells\n",
    "\n",
    "Fix this code so it prints exactly \"Hello World.\"\n",
    "\n",
    "```python\n",
    "a = \"hello world\"\n",
    "print a\n",
    "```\n",
    "\n"
   ]
  },
  {
   "cell_type": "code",
   "execution_count": 1,
   "id": "b3875f0d-7ccd-4985-a398-f3df5da051b5",
   "metadata": {
    "nbgrader": {
     "grade": true,
     "grade_id": "cell-96f85d4274853ccd",
     "locked": false,
     "points": 0,
     "schema_version": 3,
     "solution": true,
     "task": false
    },
    "tags": []
   },
   "outputs": [],
   "source": [
    "\n",
    "\n"
   ]
  },
  {
   "cell_type": "markdown",
   "id": "322eb43c-28f6-42bd-86a5-12dc54135717",
   "metadata": {
    "nbgrader": {
     "grade": true,
     "grade_id": "cell-d67c72c75840baa4",
     "locked": false,
     "points": 0,
     "schema_version": 3,
     "solution": true,
     "task": false
    },
    "tags": []
   },
   "source": [
    "# Define a function\n",
    "\n",
    "Define a function that implements $f(x) = e^{-0.5 x} \\sin(x)$. Show that it works with a single number, and an array of numbers.\n",
    "\n"
   ]
  },
  {
   "cell_type": "code",
   "execution_count": 3,
   "id": "81d33870-36e4-4158-a1c3-c1e3cbf3f5ef",
   "metadata": {},
   "outputs": [],
   "source": [
    "\n",
    "\n"
   ]
  },
  {
   "cell_type": "markdown",
   "id": "5d4774d9-0b66-4218-ac8b-a3c6990d93d1",
   "metadata": {},
   "source": [
    "# Make a plot\n",
    "\n",
    "Using the function above, plot it from x=0 to x=$6\\pi$. Make sure to include axis labels.\n",
    "\n",
    "\n",
    "\n"
   ]
  },
  {
   "cell_type": "code",
   "execution_count": 7,
   "id": "0f0de12d-c16f-4aac-868c-11f0d072eb3e",
   "metadata": {
    "nbgrader": {
     "grade": true,
     "grade_id": "cell-92da3734a5a2e41e",
     "locked": false,
     "points": 0,
     "schema_version": 3,
     "solution": true,
     "task": false
    },
    "tags": []
   },
   "outputs": [],
   "source": [
    "\n",
    "\n"
   ]
  },
  {
   "cell_type": "markdown",
   "id": "613d1a50-b2bb-41c8-b643-4883566ecee7",
   "metadata": {},
   "source": [
    "When you are done, download a PDF and turn it in on Canvas. I recommend you use:\n",
    "\n",
    "    File -> Save and Export Notebook As... -> Webpdf\n",
    "\n"
   ]
  }
 ],
 "metadata": {
  "kernelspec": {
   "display_name": "Python 3 (ipykernel)",
   "language": "python",
   "name": "python3"
  },
  "language_info": {
   "codemirror_mode": {
    "name": "ipython",
    "version": 3
   },
   "file_extension": ".py",
   "mimetype": "text/x-python",
   "name": "python",
   "nbconvert_exporter": "python",
   "pygments_lexer": "ipython3",
   "version": "3.9.7"
  }
 },
 "nbformat": 4,
 "nbformat_minor": 5
}
