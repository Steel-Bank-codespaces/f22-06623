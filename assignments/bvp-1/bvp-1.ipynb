{
 "cells": [
  {
   "cell_type": "markdown",
   "metadata": {},
   "source": [
    "Before you turn this problem in, make sure everything runs as expected. First, **restart the kernel** (in the menubar, select Kernel$\\rightarrow$Restart) and then **run all cells** (in the menubar, select Cell$\\rightarrow$Run All).\n",
    "\n",
    "Make sure you fill in any place that says `YOUR CODE HERE` or \"YOUR ANSWER HERE\", as well as your name and collaborators below:\n",
    "\n"
   ]
  },
  {
   "cell_type": "code",
   "execution_count": null,
   "metadata": {},
   "outputs": [],
   "source": [
    "NAME = \"\"\n",
    "COLLABORATORS = \"\"\n",
    "\n"
   ]
  },
  {
   "cell_type": "markdown",
   "metadata": {},
   "source": [
    "---\n",
    "\n"
   ]
  },
  {
   "cell_type": "markdown",
   "metadata": {
    "id": "ErNeBV4yQPb1"
   },
   "source": [
    "---\n",
    "\n",
    "tags: bvp\n",
    "\n",
    "---\n",
    "\n",
    "# Flow between plates\n",
    "\n"
   ]
  },
  {
   "cell_type": "markdown",
   "metadata": {
    "id": "LIF6KLrlQPb4"
   },
   "source": [
    "The flow of an incompressible fluid between two solid plates and driven by a pressure drop is given by:\n",
    "\n",
    "$\\frac{d^2 v}{dy^2} = \\frac{\\Delta P}{\\mu L}$\n",
    "\n",
    "where v(y) is the velocity in the flow direction (x) as a function of position between the plates. The fluid is glycerol with a viscosity $\\mu = 0.9$ Pa-s., the gap between the plates is 0.5 mm and the pressure drop $\\frac{\\Delta P}{L}$ is 200 MPa / m.  Calculate the velocity profile using solve\\_bvp for the situation that (a) both plates are stationary and (b) for the situation that the upper plate is stationary and the bottom plate is moving at 10 m/s in the opposite direction as the pressure drop; plot these together on the same plot.\n",
    "\n",
    "\n",
    "\n"
   ]
  },
  {
   "cell_type": "markdown",
   "metadata": {
    "id": "LeMyucmwQPb5"
   },
   "source": [
    "\n",
    "\n",
    "\n"
   ]
  },
  {
   "cell_type": "code",
   "execution_count": null,
   "metadata": {
    "id": "mXRQ5hGIQPb6",
    "outputId": "293c5666-a0e5-40da-f516-13edc2a54d08"
   },
   "outputs": [],
   "source": [
    "\n",
    "\n"
   ]
  },
  {
   "cell_type": "markdown",
   "metadata": {
    "id": "12RXndzfQPb9"
   },
   "source": [
    "\n",
    "\n"
   ]
  },
  {
   "cell_type": "code",
   "execution_count": null,
   "metadata": {},
   "outputs": [],
   "source": [
    "# Run this cell to generate a pdf from this notebook\n",
    "# Click the generated links to preview and download it.\n",
    "# Report errors to Professor Kitchin\n",
    "from f22_06623 import pdf\n",
    "%pdf\n",
    "\n"
   ]
  }
 ],
 "metadata": {
  "colab": {
   "name": "bvp-1.ipynb",
   "provenance": []
  },
  "kernelspec": {
   "display_name": "Python 3",
   "language": "python",
   "name": "python3"
  },
  "language_info": {
   "codemirror_mode": {
    "name": "ipython",
    "version": 3
   },
   "file_extension": ".py",
   "mimetype": "text/x-python",
   "name": "python",
   "nbconvert_exporter": "python",
   "pygments_lexer": "ipython3",
   "version": "3.9.7"
  },
  "org": {},
  "widgets": {
   "application/vnd.jupyter.widget-state+json": {
    "state": {},
    "version_major": 2,
    "version_minor": 0
   }
  }
 },
 "nbformat": 4,
 "nbformat_minor": 4
}
