{
 "cells": [
  {
   "cell_type": "markdown",
   "metadata": {
    "id": "94eD27dPeOIQ"
   },
   "outputs": [],
   "source": [
    "[TOC](../toc.ipynb)\n",
    "\n",
    "Jupyter Lab\n",
    "===========\n",
    "\n"
   ]
  },
  {
   "cell_type": "markdown",
   "metadata": {
    "id": "l7FIxyInXazg"
   },
   "outputs": [],
   "source": [
    "![roadmap](https://drive.google.com/uc?id=15S6Sxv3kGygykkez1Tn1ICTXaBA7Tz3p)\n",
    "\n"
   ]
  },
  {
   "cell_type": "markdown",
   "metadata": {
    "id": "2O1bPcObV18o"
   },
   "outputs": [],
   "source": [
    "Goals today:\n",
    "\n",
    "-   Explore Jupyter Lab\n",
    "-   Practice some Markdown\n",
    "-   Practice making and using functions\n",
    "-   Practice printing formatted strings\n",
    "\n",
    "There are two kinds of cells in Jupyter notebooks: Markdown and Code.\n",
    "\n",
    "If you have this cell selected you can either press shift-enter to go to the next cell, or the down arrow key. \n",
    "\n",
    "\n",
    "\n"
   ]
  },
  {
   "cell_type": "markdown",
   "metadata": {
    "id": "bQ7jRdtCV18o"
   },
   "outputs": [],
   "source": [
    "## Markdown\n",
    "\n",
    "\n",
    "\n"
   ]
  },
  {
   "cell_type": "markdown",
   "metadata": {
    "id": "mrjtSA6tV18p"
   },
   "outputs": [],
   "source": [
    "Markdown is a lightweight markup language for text that is meant for humans to read. Select this cell and either double-click on it, or press Enter to see the source.\n",
    "\n",
    "Double click on this cell to see how to make:\n",
    "\n",
    "1.  A\n",
    "2.  Numbered\n",
    "3.  List\n",
    "   1. sublists are indented\n",
    "\n",
    "You can also make bulleted lists:\n",
    "\n",
    "-   A\n",
    "-   bulleted\n",
    "-   list\n",
    "    -   Including\n",
    "        -   different\n",
    "        -   levels\n",
    "\n",
    "Text that is **bold**, *italics*, <del>crossed-out</del>. Some <font color=\"red\">red text</font>.\n",
    "\n",
    "Math is written in LaTeX format ([https://en.wikibooks.org/wiki/LaTeX/Mathematics](https://en.wikibooks.org/wiki/LaTeX/Mathematics)). Here are a few examples:\n",
    "\n",
    "-   this fraction $\\frac{1}{2}$,\n",
    "-   square root $\\sqrt{3}$\n",
    "-   sum $\\sum_{i=1}^{10} t_i$\n",
    "-   A chemical formula: H$_2$O\n",
    "-   An integral $\\int_a^b f(x)dx$\n",
    "\n",
    "---\n",
    "\n",
    "You can see more details at [https://jupyter-notebook.readthedocs.io/en/stable/examples/Notebook/Working%20With%20Markdown%20Cells.html](https://jupyter-notebook.readthedocs.io/en/stable/examples/Notebook/Working%20With%20Markdown%20Cells.html).\n",
    "\n",
    "---\n",
    "\n",
    "You do not need to learn all of these right now. It will be useful to pay attention to what is in the notes. It will help you express your ideas more clearly.\n",
    "\n",
    "\n",
    "\n",
    "\n"
   ]
  },
  {
   "cell_type": "markdown",
   "metadata": {
    "id": "7F_2RWc8V18p"
   },
   "outputs": [],
   "source": [
    "Try it here. Double click on this cell and add some text.\n",
    "\n",
    "\n",
    "\n"
   ]
  },
  {
   "cell_type": "markdown",
   "metadata": {
    "id": "HNUc4fynV18q"
   },
   "outputs": [],
   "source": [
    "### Headings and subheadings\n",
    "\n",
    "\n",
    "\n"
   ]
  },
  {
   "cell_type": "markdown",
   "metadata": {
    "id": "amos3XDVV18q"
   },
   "outputs": [],
   "source": [
    "It can be helpful to organize your notebook into sections. You can use headings and subheadings to make logical sections. This makes it easier to read. Double click on the headings to see the syntax for making a heading.\n",
    "\n",
    "Headings are lines that start with one or more #. The number of # determines the level of the heading. \n",
    "\n",
    "Checkout the Table of Contents on the left.\n",
    "\n",
    "\n",
    "\n"
   ]
  },
  {
   "cell_type": "markdown",
   "metadata": {
    "id": "s9aiGbDlV18r"
   },
   "outputs": [],
   "source": [
    "#### Subsubheadings\n",
    "\n",
    "\n",
    "\n"
   ]
  },
  {
   "cell_type": "markdown",
   "metadata": {
    "id": "Gd9LyMH_V18r"
   },
   "outputs": [],
   "source": [
    "### Keyboard shortcuts\n",
    "\n",
    "\n",
    "\n"
   ]
  },
  {
   "cell_type": "markdown",
   "metadata": {
    "id": "DGOXGJgcV18s"
   },
   "outputs": [],
   "source": [
    "You can do most things by clicking in cells and typing, or clicking on the menus. Eventually, you may want to learn some keyboard shortcuts to speed up your work.\n",
    "\n",
    "<div class=\"alert alert-warning\">\n",
    "You can access a list of keyboard shortcuts in the following ways:\n",
    "\n",
    "From the menus:\n",
    "Settings -> Advanced Settings Editor\n",
    "</div>\n",
    "\n",
    "You do not need to learn these if you don't want to; you can always use the mouse and menus.\n",
    "\n",
    "\n",
    "\n"
   ]
  },
  {
   "cell_type": "code",
   "execution_count": null,
   "metadata": {
    "colab": {
     "base_uri": "https://localhost:8080/"
    },
    "executionInfo": {
     "elapsed": 216,
     "status": "ok",
     "timestamp": 1630585417635,
     "user": {
      "displayName": "John Kitchin",
      "photoUrl": "",
      "userId": "14782011281593705406"
     },
     "user_tz": 240
    },
    "id": "CbGBEt68dfu5",
    "outputId": "3da70929-94ae-4578-fdea-8201b40d4216"
   },
   "outputs": [],
   "source": [
    "2 + 4\n",
    "\n"
   ]
  },
  {
   "cell_type": "code",
   "execution_count": null,
   "metadata": {
    "colab": {
     "base_uri": "https://localhost:8080/"
    },
    "executionInfo": {
     "elapsed": 139,
     "status": "ok",
     "timestamp": 1630585420350,
     "user": {
      "displayName": "John Kitchin",
      "photoUrl": "",
      "userId": "14782011281593705406"
     },
     "user_tz": 240
    },
    "id": "ORArl4Ocdu37",
    "outputId": "59216e7d-b28d-46bd-da84-ad12bd49a48a"
   },
   "outputs": [],
   "source": [
    "3 + 5\n",
    "\n"
   ]
  },
  {
   "cell_type": "markdown",
   "metadata": {
    "id": "qDmzunOadN0f"
   },
   "outputs": [],
   "source": [
    "3 + 4\n",
    "\n"
   ]
  },
  {
   "cell_type": "markdown",
   "metadata": {
    "id": "NhOl-zr1V18s"
   },
   "outputs": [],
   "source": [
    "## Running code\n",
    "\n",
    "\n",
    "\n"
   ]
  },
  {
   "cell_type": "markdown",
   "metadata": {
    "id": "NL3XarvUV18t"
   },
   "outputs": [],
   "source": [
    "Jupyter notebooks serve two purposes:\n",
    "\n",
    "1.  To document your work\n",
    "2.  To run code\n",
    "\n",
    "It is important to have a basic understanding of how the notebooks work. The browser displays the notebook. The actual computations are run on a server on your computer. When you \"run\" a code cell, the code is sent to the server, and the server sends the results back to the browser where they are rendered.\n",
    "\n",
    "When you first open a notebook, *nothing* has been executed. If you try to execute cells out of order, you will get errors if anything in the cell depends on a previous cell. You should run the cells in order. Here are some ways to do that.\n",
    "\n",
    "1.  Starting in the first cell, click the Kernel menu and Restart Kernel and Run all button .\n",
    "2.  Starting in the first cell, type shift-Enter to run each cell and move to the next one.\n",
    "\n",
    "Occasionally, you may want to restart the server and rerun all the cells. Select the menu: Kernel -> Restart Kernel. If you run cells out of order, or something seems messed up for some reason, sometimes this fixes it. It also makes sure the output of each cell is consistent with running them in order from scratch.\n",
    "\n",
    "\n",
    "\n"
   ]
  },
  {
   "cell_type": "markdown",
   "metadata": {},
   "outputs": [],
   "source": [
    "These cells are used to show what happens when you run things out of order.\n",
    "\n"
   ]
  },
  {
   "cell_type": "code",
   "execution_count": null,
   "metadata": {
    "id": "cBCuYYOc5_yt"
   },
   "outputs": [],
   "source": [
    "a = 5\n",
    "\n"
   ]
  },
  {
   "cell_type": "code",
   "execution_count": null,
   "metadata": {
    "colab": {
     "base_uri": "https://localhost:8080/"
    },
    "executionInfo": {
     "elapsed": 201,
     "status": "ok",
     "timestamp": 1630585700810,
     "user": {
      "displayName": "John Kitchin",
      "photoUrl": "",
      "userId": "14782011281593705406"
     },
     "user_tz": 240
    },
    "id": "kUOW8x3s6A0U",
    "outputId": "6736921e-f677-4506-e73a-ffe0bee4782c"
   },
   "outputs": [],
   "source": [
    "b = a + 1\n",
    "b\n",
    "\n"
   ]
  },
  {
   "cell_type": "code",
   "execution_count": null,
   "metadata": {
    "id": "3hMdqr1a6Eb1"
   },
   "outputs": [],
   "source": [
    "a = 3\n",
    "\n"
   ]
  },
  {
   "cell_type": "markdown",
   "metadata": {
    "id": "W_HIzLKQV18t"
   },
   "outputs": [],
   "source": [
    "### Debugging/getting help\n",
    "\n",
    "\n",
    "\n"
   ]
  },
  {
   "cell_type": "markdown",
   "metadata": {
    "id": "g3o7ZV4PV18u"
   },
   "outputs": [],
   "source": [
    "See the Help menu to access general documentation about the notebook and the main libraries we will be using. I would get familiar with their contents, but I would not try to read them all at once.\n",
    "\n"
   ]
  },
  {
   "cell_type": "code",
   "execution_count": null,
   "metadata": {
    "colab": {
     "base_uri": "https://localhost:8080/"
    },
    "executionInfo": {
     "elapsed": 215,
     "status": "ok",
     "timestamp": 1630585729800,
     "user": {
      "displayName": "John Kitchin",
      "photoUrl": "",
      "userId": "14782011281593705406"
     },
     "user_tz": 240
    },
    "id": "HsOpzUbMV18v",
    "outputId": "fea35b88-03da-4db9-a416-90e2b88b471d"
   },
   "outputs": [],
   "source": [
    "print(a + 3)\n",
    "\n"
   ]
  },
  {
   "cell_type": "markdown",
   "metadata": {
    "id": "U572hgAFV18z"
   },
   "outputs": [],
   "source": [
    "While debugging a cell, you should use the run button in the cell or  C-Enter to run the cell so that you see the output, but your cursor stays in the cell so you can continue editing it. To go back to editing the cell, just press Enter. It is good practice to run cells whenever you think they should work correctly, because it is easier to debug the last few lines you wrote than a long block of lines. Let's work an example.\n",
    "\n",
    "Create a code cell that defines two variables $x=5$ and $y=4$, and then compute $x^2 + y^2$.\n",
    "\n"
   ]
  },
  {
   "cell_type": "code",
   "execution_count": 2,
   "metadata": {
    "colab": {
     "base_uri": "https://localhost:8080/"
    },
    "executionInfo": {
     "elapsed": 214,
     "status": "ok",
     "timestamp": 1630586086830,
     "user": {
      "displayName": "John Kitchin",
      "photoUrl": "",
      "userId": "14782011281593705406"
     },
     "user_tz": 240
    },
    "id": "90AYxKnjf9eG",
    "outputId": "1cff4025-d101-4fd5-ad85-8416ffc25a4e"
   },
   "outputs": [],
   "source": [
    "x = 5\n",
    "y = 4\n",
    "x**2 + y**2\n",
    "\n"
   ]
  },
  {
   "cell_type": "code",
   "execution_count": 3,
   "metadata": {
    "colab": {
     "base_uri": "https://localhost:8080/"
    },
    "executionInfo": {
     "elapsed": 137,
     "status": "ok",
     "timestamp": 1630585992770,
     "user": {
      "displayName": "John Kitchin",
      "photoUrl": "",
      "userId": "14782011281593705406"
     },
     "user_tz": 240
    },
    "id": "oazuG_rLV180",
    "outputId": "ce887fbe-6ed2-4182-e355-5bd5ab70c1bd"
   },
   "outputs": [],
   "source": [
    "x = 5\n",
    "y = 4.0\n",
    "\n",
    "x**2 + y**2\n",
    "\n"
   ]
  },
  {
   "cell_type": "code",
   "execution_count": null,
   "metadata": {
    "colab": {
     "base_uri": "https://localhost:8080/"
    },
    "executionInfo": {
     "elapsed": 135,
     "status": "ok",
     "timestamp": 1630586218337,
     "user": {
      "displayName": "John Kitchin",
      "photoUrl": "",
      "userId": "14782011281593705406"
     },
     "user_tz": 240
    },
    "id": "YLfC26tp7Zau",
    "outputId": "90b05576-ebd1-45d8-e321-2ac4d5eb0242"
   },
   "outputs": [],
   "source": [
    "1 / 3\n",
    "\n"
   ]
  },
  {
   "cell_type": "code",
   "execution_count": null,
   "metadata": {
    "colab": {
     "base_uri": "https://localhost:8080/"
    },
    "executionInfo": {
     "elapsed": 262,
     "status": "ok",
     "timestamp": 1630586223137,
     "user": {
      "displayName": "John Kitchin",
      "photoUrl": "",
      "userId": "14782011281593705406"
     },
     "user_tz": 240
    },
    "id": "LNYWVgtd7bOe",
    "outputId": "9ec6a138-c382-48fa-db23-f9d8c4431060"
   },
   "outputs": [],
   "source": [
    "1 // 3  # // is the integer division\n",
    "\n"
   ]
  },
  {
   "cell_type": "markdown",
   "metadata": {
    "id": "tRAbRDkiV184"
   },
   "outputs": [],
   "source": [
    "When you are happy with the cell and its output, you can insert a new cell above or below it by typing:\n",
    "\n",
    "- Esc a for above\n",
    "- Esc b for below\n",
    "\n",
    "\n",
    "Alternatively, in the cell, type shift-enter to execute it one more time, and then move to the next cell (adds a new cell if you are at the end).\n",
    "\n",
    "There are some other options, you can click the insert cell buttons in the cell menu, or Ctrl-shift-c to get the command window where you can type \"insert cell\" to select the command.\n",
    "\n",
    "Jupyter notebooks can act in unexpected ways if you evaluate the cells out of order. It can be very difficult to debug this. When that happens, you are often best off if you restart the kernel and execute the cells from the beginning. \n",
    "\n"
   ]
  },
  {
   "cell_type": "code",
   "execution_count": null,
   "metadata": {
    "id": "nBN6-DErV184"
   },
   "outputs": [],
   "source": [
    "a = 4\n",
    "\n"
   ]
  },
  {
   "cell_type": "code",
   "execution_count": null,
   "metadata": {
    "id": "_wqmPNG2V187"
   },
   "outputs": [],
   "source": [
    "a += 1  # this increments the value of a by one.  equivalent to a = a + 1\n",
    "\n"
   ]
  },
  {
   "cell_type": "code",
   "execution_count": null,
   "metadata": {
    "colab": {
     "base_uri": "https://localhost:8080/"
    },
    "executionInfo": {
     "elapsed": 230,
     "status": "ok",
     "timestamp": 1630586566473,
     "user": {
      "displayName": "John Kitchin",
      "photoUrl": "",
      "userId": "14782011281593705406"
     },
     "user_tz": 240
    },
    "id": "F0U_PfniV189",
    "outputId": "add6e140-c91b-48ea-a62c-ea98c0a3a4f6"
   },
   "outputs": [],
   "source": [
    "print(a)\n",
    "\n"
   ]
  },
  {
   "cell_type": "markdown",
   "metadata": {
    "id": "wFtQlaOTV19A"
   },
   "outputs": [],
   "source": [
    "## Functions\n",
    "\n",
    "\n",
    "\n"
   ]
  },
  {
   "cell_type": "markdown",
   "metadata": {
    "id": "u3DHaq-AV19A"
   },
   "outputs": [],
   "source": [
    "Functions are an important part of any programming language. They allow you to reuse code, and make programs more readable.\n",
    "\n",
    "\n",
    "\n"
   ]
  },
  {
   "cell_type": "markdown",
   "metadata": {
    "id": "rXrQVukxV19B"
   },
   "outputs": [],
   "source": [
    "### Minimal definition of a function with one input\n",
    "\n",
    "\n",
    "\n"
   ]
  },
  {
   "cell_type": "markdown",
   "metadata": {
    "id": "qm0EWIwxV19B"
   },
   "outputs": [],
   "source": [
    "Functions are defined with the `def` keyword. You specify a name, and the arguments in parentheses, and end the line with a colon. The body of the function must be indented (conventionally by 4 spaces). The function ends when the indentation goes back down one level. You have to define what is returned from the function using the `return` keyword.\n",
    "\n",
    "Here is a minimal function definition that simply multiplies the input by two and returns it.\n",
    "\n",
    "\n",
    "\n"
   ]
  },
  {
   "cell_type": "code",
   "execution_count": null,
   "metadata": {
    "id": "q1uJkp8h9oEs"
   },
   "outputs": [],
   "source": [
    "# minimal function template\n",
    "def function_name(optional_arguments):\n",
    "    \"optional docstring\"\n",
    "    body\n",
    "    return value\n",
    "\n",
    "\n",
    "print(function_name())\n",
    "# This is not part of the function\n",
    "\n"
   ]
  },
  {
   "cell_type": "code",
   "execution_count": null,
   "metadata": {
    "id": "p1d6oDsnV19C"
   },
   "outputs": [],
   "source": [
    "def f(x):\n",
    "    \"compute 2*x\"\n",
    "    y = x * 2\n",
    "    return y\n",
    "\n"
   ]
  },
  {
   "cell_type": "code",
   "execution_count": null,
   "metadata": {
    "id": "aoboCZVxjRql"
   },
   "outputs": [],
   "source": [
    "?f\n",
    "\n"
   ]
  },
  {
   "cell_type": "markdown",
   "metadata": {
    "id": "jYjaRbXsV19E"
   },
   "outputs": [],
   "source": [
    "Let's evaluate our function with a few values:\n",
    "\n",
    "\n",
    "\n"
   ]
  },
  {
   "cell_type": "code",
   "execution_count": null,
   "metadata": {
    "colab": {
     "base_uri": "https://localhost:8080/"
    },
    "executionInfo": {
     "elapsed": 217,
     "status": "ok",
     "timestamp": 1630587000488,
     "user": {
      "displayName": "John Kitchin",
      "photoUrl": "",
      "userId": "14782011281593705406"
     },
     "user_tz": 240
    },
    "id": "ll1FA8UfV19F",
    "outputId": "7db6dcad-7e0f-4b43-ef6e-fed70e572519"
   },
   "outputs": [],
   "source": [
    "# Try an integer, float, string, a list, an array (don't forget to import numpy first)\n",
    "f(3)\n",
    "\n"
   ]
  },
  {
   "cell_type": "code",
   "execution_count": null,
   "metadata": {
    "colab": {
     "base_uri": "https://localhost:8080/"
    },
    "executionInfo": {
     "elapsed": 245,
     "status": "ok",
     "timestamp": 1630587029846,
     "user": {
      "displayName": "John Kitchin",
      "photoUrl": "",
      "userId": "14782011281593705406"
     },
     "user_tz": 240
    },
    "id": "xkd3-SgF-DxX",
    "outputId": "2619e179-8caa-4e18-c606-6aa7c1357217"
   },
   "outputs": [],
   "source": [
    "f(4.0)\n",
    "\n"
   ]
  },
  {
   "cell_type": "code",
   "execution_count": null,
   "metadata": {
    "colab": {
     "base_uri": "https://localhost:8080/",
     "height": 35
    },
    "executionInfo": {
     "elapsed": 127,
     "status": "ok",
     "timestamp": 1630587039019,
     "user": {
      "displayName": "John Kitchin",
      "photoUrl": "",
      "userId": "14782011281593705406"
     },
     "user_tz": 240
    },
    "id": "NTiO5UYh-GnA",
    "outputId": "7f981142-c67a-4f31-a05e-0a78fb29b7af"
   },
   "outputs": [],
   "source": [
    "f(\"CMU\")\n",
    "\n"
   ]
  },
  {
   "cell_type": "code",
   "execution_count": null,
   "metadata": {
    "colab": {
     "base_uri": "https://localhost:8080/"
    },
    "executionInfo": {
     "elapsed": 129,
     "status": "ok",
     "timestamp": 1630587051090,
     "user": {
      "displayName": "John Kitchin",
      "photoUrl": "",
      "userId": "14782011281593705406"
     },
     "user_tz": 240
    },
    "id": "RenhKk6h-OxP",
    "outputId": "62f8d88e-7fe6-43fb-e7db-3edf12ad4857"
   },
   "outputs": [],
   "source": [
    "a = [2, 3, 5.0]\n",
    "f(a)\n",
    "\n"
   ]
  },
  {
   "cell_type": "code",
   "execution_count": null,
   "metadata": {
    "colab": {
     "base_uri": "https://localhost:8080/"
    },
    "executionInfo": {
     "elapsed": 265,
     "status": "ok",
     "timestamp": 1630587061959,
     "user": {
      "displayName": "John Kitchin",
      "photoUrl": "",
      "userId": "14782011281593705406"
     },
     "user_tz": 240
    },
    "id": "1olraLRe-nhc",
    "outputId": "33f78631-af46-4271-8f12-90ce87ea2d5e"
   },
   "outputs": [],
   "source": [
    "import numpy as np\n",
    "\n",
    "b = np.array([2, 3, 5.0])\n",
    "f(b)\n",
    "\n"
   ]
  },
  {
   "cell_type": "code",
   "execution_count": null,
   "metadata": {
    "colab": {
     "base_uri": "https://localhost:8080/"
    },
    "executionInfo": {
     "elapsed": 140,
     "status": "ok",
     "timestamp": 1630587089506,
     "user": {
      "displayName": "John Kitchin",
      "photoUrl": "",
      "userId": "14782011281593705406"
     },
     "user_tz": 240
    },
    "id": "aUx_comp_VI5",
    "outputId": "e8d65bbb-ed20-4b6f-cea8-2ff1a145aeb0"
   },
   "outputs": [],
   "source": [
    "help(f)\n",
    "\n"
   ]
  },
  {
   "cell_type": "code",
   "execution_count": null,
   "metadata": {
    "colab": {
     "base_uri": "https://localhost:8080/"
    },
    "executionInfo": {
     "elapsed": 146,
     "status": "ok",
     "timestamp": 1630587186872,
     "user": {
      "displayName": "John Kitchin",
      "photoUrl": "",
      "userId": "14782011281593705406"
     },
     "user_tz": 240
    },
    "id": "qbdPKAzFkW8i",
    "outputId": "770cf842-43ec-44a6-adc0-25a915638c68"
   },
   "outputs": [],
   "source": [
    "# You can have multiple returns in a function, but only one of them returns.\n",
    "def f1(x):\n",
    "    if x > 5:\n",
    "        return True\n",
    "    else:\n",
    "        return False\n",
    "\n",
    "\n",
    "f1(-6)\n",
    "\n"
   ]
  },
  {
   "cell_type": "code",
   "execution_count": 2,
   "metadata": {
    "colab": {
     "base_uri": "https://localhost:8080/"
    },
    "executionInfo": {
     "elapsed": 145,
     "status": "ok",
     "timestamp": 1630587283720,
     "user": {
      "displayName": "John Kitchin",
      "photoUrl": "",
      "userId": "14782011281593705406"
     },
     "user_tz": 240
    },
    "id": "g8z5KZx2k1Mn",
    "outputId": "16735ed2-c4a2-4aea-fff6-40ca7d2ff6eb"
   },
   "outputs": [],
   "source": [
    "4.11**2  # The extra 0's are from float math\n",
    "\n"
   ]
  },
  {
   "cell_type": "code",
   "execution_count": null,
   "metadata": {
    "colab": {
     "base_uri": "https://localhost:8080/"
    },
    "executionInfo": {
     "elapsed": 133,
     "status": "ok",
     "timestamp": 1630587355332,
     "user": {
      "displayName": "John Kitchin",
      "photoUrl": "",
      "userId": "14782011281593705406"
     },
     "user_tz": 240
    },
    "id": "a_SlQY1rlDqH",
    "outputId": "088870a7-0027-4c0b-cb6d-d5f40b2ae316"
   },
   "outputs": [],
   "source": [
    "16.8921**0.5\n",
    "\n"
   ]
  },
  {
   "cell_type": "markdown",
   "metadata": {
    "id": "Gk34te-oV19I"
   },
   "outputs": [],
   "source": [
    "Python uses \"duck-typing\" to figure out what multiply by two means. Many languages use types to figure this out, e.g. adding two integers is not the same as adding two strings. Python is more flexible, and will allow things to work if they are like each other in the right way. \n",
    "\n",
    "That can lead to some surprising results when you use data types that were not intended for your function.\n",
    "\n",
    "Minimal is not always the most informative. You can add an optional documentation string like this.\n",
    "\n",
    "\n",
    "\n"
   ]
  },
  {
   "cell_type": "code",
   "execution_count": null,
   "metadata": {
    "id": "L7m6BTpmV19I"
   },
   "outputs": [],
   "source": [
    "def f(x):\n",
    "    \"\"\"Optional, multiline documentation string\n",
    "    x should be a number. It is still not an error to use a string or array.\n",
    "    \"\"\"\n",
    "    y = x + 2\n",
    "    return y\n",
    "\n"
   ]
  },
  {
   "cell_type": "markdown",
   "metadata": {
    "id": "DvsJxXA_V19K"
   },
   "outputs": [],
   "source": [
    "The input argument `x` is mandatory here, and has no default value.\n",
    "\n",
    "Try this function with and without arguments here. Add a code cell to do that.\n",
    "\n"
   ]
  },
  {
   "cell_type": "code",
   "execution_count": null,
   "metadata": {
    "id": "fy7kuVaA_msl"
   },
   "outputs": [],
   "source": [
    "?f\n",
    "\n"
   ]
  },
  {
   "cell_type": "code",
   "execution_count": null,
   "metadata": {
    "colab": {
     "base_uri": "https://localhost:8080/",
     "height": 164
    },
    "executionInfo": {
     "elapsed": 132,
     "status": "error",
     "timestamp": 1630587512880,
     "user": {
      "displayName": "John Kitchin",
      "photoUrl": "",
      "userId": "14782011281593705406"
     },
     "user_tz": 240
    },
    "id": "WLY07dCE_vD0",
    "outputId": "4040e313-84d7-4c33-8345-f2b4ea5a52e1"
   },
   "outputs": [],
   "source": [
    "f()  # This is an error because x is required\n",
    "\n"
   ]
  },
  {
   "cell_type": "markdown",
   "metadata": {
    "id": "hjAaqErhV19K"
   },
   "outputs": [],
   "source": [
    "### Functions with multiple arguments\n",
    "\n",
    "\n",
    "\n"
   ]
  },
  {
   "cell_type": "markdown",
   "metadata": {
    "id": "sd2xgk34V19L"
   },
   "outputs": [],
   "source": [
    "Suppose you want a function where you can multiply the argument by a user-specified value, that defaults to 2. We can define a function with two arguments, where one is optional with a default value. The optional argument is sometimes called a parameter.\n",
    "\n",
    "\n",
    "\n"
   ]
  },
  {
   "cell_type": "code",
   "execution_count": null,
   "metadata": {
    "id": "mgyvTbVcV19L"
   },
   "outputs": [],
   "source": [
    "def f(x, a=2):\n",
    "    # The next string is a one line documentation string. The comment here will\n",
    "    # not be visible in the help.\n",
    "    \"Return a * x. a is optional with default value of 2.\"\n",
    "    y = x * a\n",
    "    return y\n",
    "\n"
   ]
  },
  {
   "cell_type": "markdown",
   "metadata": {
    "id": "OIncvW1rV19N"
   },
   "outputs": [],
   "source": [
    "Now, there are several ways to evaluate this function. If you just provide the value of `x`, then the default value of `a` will be used.\n",
    "\n",
    "\n",
    "\n"
   ]
  },
  {
   "cell_type": "code",
   "execution_count": null,
   "metadata": {
    "colab": {
     "base_uri": "https://localhost:8080/"
    },
    "executionInfo": {
     "elapsed": 129,
     "status": "ok",
     "timestamp": 1630587578826,
     "user": {
      "displayName": "John Kitchin",
      "photoUrl": "",
      "userId": "14782011281593705406"
     },
     "user_tz": 240
    },
    "id": "5dFdoIDuV19O",
    "outputId": "4fc75f8c-b032-4c2d-d2d5-ea422d355150"
   },
   "outputs": [],
   "source": [
    "f(2)  # x = 2, since a is not provided, the default a=2 is used\n",
    "\n"
   ]
  },
  {
   "cell_type": "markdown",
   "metadata": {
    "id": "0qTIUvEkV19R"
   },
   "outputs": [],
   "source": [
    "Here we use the position of each argument to define the arguments as x=2 and a=3.\n",
    "\n",
    "\n",
    "\n"
   ]
  },
  {
   "cell_type": "code",
   "execution_count": null,
   "metadata": {
    "colab": {
     "base_uri": "https://localhost:8080/"
    },
    "executionInfo": {
     "elapsed": 148,
     "status": "ok",
     "timestamp": 1630587580269,
     "user": {
      "displayName": "John Kitchin",
      "photoUrl": "",
      "userId": "14782011281593705406"
     },
     "user_tz": 240
    },
    "id": "2K2R1ZKvV19S",
    "outputId": "efaa82f3-69cb-4f09-c8e8-2068e102056d"
   },
   "outputs": [],
   "source": [
    "f(2, 3)  # x=2, a=3\n",
    "\n"
   ]
  },
  {
   "cell_type": "markdown",
   "metadata": {
    "id": "J9tBe1ldV19V"
   },
   "outputs": [],
   "source": [
    "We can be very clear about the second value by defining it as a keyword argument:\n",
    "\n",
    "\n",
    "\n"
   ]
  },
  {
   "cell_type": "code",
   "execution_count": null,
   "metadata": {
    "colab": {
     "base_uri": "https://localhost:8080/"
    },
    "executionInfo": {
     "elapsed": 148,
     "status": "ok",
     "timestamp": 1630587610291,
     "user": {
      "displayName": "John Kitchin",
      "photoUrl": "",
      "userId": "14782011281593705406"
     },
     "user_tz": 240
    },
    "id": "j1-2NkLVV19V",
    "outputId": "785f0ea0-063c-4591-a575-b3bb1d69dd14"
   },
   "outputs": [],
   "source": [
    "f(2, a=4)\n",
    "\n"
   ]
  },
  {
   "cell_type": "markdown",
   "metadata": {
    "id": "7aOi1gM1V19Z"
   },
   "outputs": [],
   "source": [
    "Note, however, that since the first argument has no default value, it is called a positional argument, and so in this case you must *always* define the first argument as the value of x. This will be an error:\n",
    "\n",
    "\n",
    "\n"
   ]
  },
  {
   "cell_type": "code",
   "execution_count": null,
   "metadata": {
    "colab": {
     "base_uri": "https://localhost:8080/",
     "height": 130
    },
    "executionInfo": {
     "elapsed": 153,
     "status": "error",
     "timestamp": 1630587622123,
     "user": {
      "displayName": "John Kitchin",
      "photoUrl": "",
      "userId": "14782011281593705406"
     },
     "user_tz": 240
    },
    "id": "J7hsjsuvV19Z",
    "outputId": "f4bd70f4-5cec-4689-f97b-c7daa6167d16"
   },
   "outputs": [],
   "source": [
    "f(a=4, 2)\n",
    "\n"
   ]
  },
  {
   "cell_type": "markdown",
   "metadata": {
    "id": "OPTyG0tNV19c"
   },
   "outputs": [],
   "source": [
    "You cannot put positional arguments after keyword arguments. This is ok, since every argument is defined by a keyword. This allows you to specify arguments in the order you want, and when there are lots of arguments makes it easier to remember what each one is for.\n",
    "\n",
    "\n",
    "\n"
   ]
  },
  {
   "cell_type": "code",
   "execution_count": null,
   "metadata": {
    "colab": {
     "base_uri": "https://localhost:8080/"
    },
    "executionInfo": {
     "elapsed": 132,
     "status": "ok",
     "timestamp": 1630587639548,
     "user": {
      "displayName": "John Kitchin",
      "photoUrl": "",
      "userId": "14782011281593705406"
     },
     "user_tz": 240
    },
    "id": "VcYiTSbSV19d",
    "outputId": "29e28908-6425-41e1-d50c-b336050e69cc"
   },
   "outputs": [],
   "source": [
    "f(a=4, x=2)\n",
    "\n"
   ]
  },
  {
   "cell_type": "markdown",
   "metadata": {
    "id": "BnMoM7itV19f"
   },
   "outputs": [],
   "source": [
    "You should be careful about when and where you define variables. In most programming languages, there is a concept of *variable scope*, that is where is the variable defined, and what value does it have there. Here, `a` is defined outside the function, so the function inherits the value of `a` when it is defined. If you change `a`, you change the function. That can be confusing.\n",
    "\n",
    "\n",
    "\n"
   ]
  },
  {
   "cell_type": "code",
   "execution_count": null,
   "metadata": {
    "colab": {
     "base_uri": "https://localhost:8080/"
    },
    "executionInfo": {
     "elapsed": 191,
     "status": "ok",
     "timestamp": 1630587847819,
     "user": {
      "displayName": "John Kitchin",
      "photoUrl": "",
      "userId": "14782011281593705406"
     },
     "user_tz": 240
    },
    "id": "aHLzlyvHV19g",
    "outputId": "f13e0130-82a2-4c6a-eada-4b9302ec1d33"
   },
   "outputs": [],
   "source": [
    "a = 3\n",
    "\n",
    "\n",
    "def f(x):\n",
    "    y = a * x\n",
    "    return y\n",
    "\n",
    "\n",
    "f(2)\n",
    "\n"
   ]
  },
  {
   "cell_type": "code",
   "execution_count": null,
   "metadata": {
    "colab": {
     "base_uri": "https://localhost:8080/"
    },
    "executionInfo": {
     "elapsed": 140,
     "status": "ok",
     "timestamp": 1630587857774,
     "user": {
      "displayName": "John Kitchin",
      "photoUrl": "",
      "userId": "14782011281593705406"
     },
     "user_tz": 240
    },
    "id": "ioSRyJktV19i",
    "outputId": "61b00cbb-6838-4378-c158-b525100018f3"
   },
   "outputs": [],
   "source": [
    "a = 2  # changing the global value of a changes the function.\n",
    "f(2)\n",
    "\n"
   ]
  },
  {
   "cell_type": "markdown",
   "metadata": {
    "id": "jk5od4PNV19k"
   },
   "outputs": [],
   "source": [
    "However, you can \"shadow\" a variable. In this example, we use an internal definition of `a` in the function, which replaces the external value of `a` *only inside the function*.\n",
    "\n",
    "\n",
    "\n"
   ]
  },
  {
   "cell_type": "code",
   "execution_count": null,
   "metadata": {
    "colab": {
     "base_uri": "https://localhost:8080/"
    },
    "executionInfo": {
     "elapsed": 141,
     "status": "ok",
     "timestamp": 1630587902296,
     "user": {
      "displayName": "John Kitchin",
      "photoUrl": "",
      "userId": "14782011281593705406"
     },
     "user_tz": 240
    },
    "id": "VNjvnBc6V19l",
    "outputId": "cfb5131d-273a-4df9-8763-476b43c984dc"
   },
   "outputs": [],
   "source": [
    "a = 2\n",
    "\n",
    "\n",
    "def f(x):\n",
    "    a = 3  # This only changes a inside the function\n",
    "    y = a * x\n",
    "    return y\n",
    "\n",
    "\n",
    "f(2)\n",
    "\n"
   ]
  },
  {
   "cell_type": "markdown",
   "metadata": {
    "id": "iC5-CtVNV19m"
   },
   "outputs": [],
   "source": [
    "The global value of `a` is unchanged.\n",
    "\n",
    "\n",
    "\n"
   ]
  },
  {
   "cell_type": "code",
   "execution_count": null,
   "metadata": {
    "colab": {
     "base_uri": "https://localhost:8080/"
    },
    "executionInfo": {
     "elapsed": 184,
     "status": "ok",
     "timestamp": 1630587908191,
     "user": {
      "displayName": "John Kitchin",
      "photoUrl": "",
      "userId": "14782011281593705406"
     },
     "user_tz": 240
    },
    "id": "YXRN6lLFV19n",
    "outputId": "c18d067a-12bd-4ae2-eaba-716590b70033"
   },
   "outputs": [],
   "source": [
    "a\n",
    "\n"
   ]
  },
  {
   "cell_type": "markdown",
   "metadata": {
    "id": "uxViIBVqV19p"
   },
   "outputs": [],
   "source": [
    "A similar behavior is observed with arguments. Here the argument `a` will shadow (redefine) the global value of `a`, but only inside the function.\n",
    "\n",
    "\n",
    "\n"
   ]
  },
  {
   "cell_type": "code",
   "execution_count": null,
   "metadata": {
    "colab": {
     "base_uri": "https://localhost:8080/"
    },
    "executionInfo": {
     "elapsed": 139,
     "status": "ok",
     "timestamp": 1630587988181,
     "user": {
      "displayName": "John Kitchin",
      "photoUrl": "",
      "userId": "14782011281593705406"
     },
     "user_tz": 240
    },
    "id": "w0zsRQ_wV19q",
    "outputId": "60b1b446-39f6-476a-8aa3-0cc49e2ff83e"
   },
   "outputs": [],
   "source": [
    "def f(x, a):\n",
    "    y = a * x\n",
    "    return y\n",
    "\n",
    "\n",
    "f(2, a=3), a\n",
    "\n"
   ]
  },
  {
   "cell_type": "markdown",
   "metadata": {
    "id": "eFfX7FmwV19r"
   },
   "outputs": [],
   "source": [
    "The external value of `a` is unchanged in this case.\n",
    "\n",
    "\n",
    "\n"
   ]
  },
  {
   "cell_type": "code",
   "execution_count": null,
   "metadata": {
    "colab": {
     "base_uri": "https://localhost:8080/"
    },
    "executionInfo": {
     "elapsed": 138,
     "status": "ok",
     "timestamp": 1630587998965,
     "user": {
      "displayName": "John Kitchin",
      "photoUrl": "",
      "userId": "14782011281593705406"
     },
     "user_tz": 240
    },
    "id": "tS4P7ynmV19s",
    "outputId": "e0c412f6-9acc-41e2-e181-8f67823f49ff"
   },
   "outputs": [],
   "source": [
    "a\n",
    "\n"
   ]
  },
  {
   "cell_type": "markdown",
   "metadata": {
    "id": "sWzwluRBV19u"
   },
   "outputs": [],
   "source": [
    "The point here is to be careful with how you define and reuse variable names. In this example, it is more clear that we are using an internal definition of `a`, simply by prefixing the variable name with an underscore (you can also just give it another name, e.g. `b`).\n",
    "\n",
    "\n",
    "\n"
   ]
  },
  {
   "cell_type": "code",
   "execution_count": null,
   "metadata": {
    "colab": {
     "base_uri": "https://localhost:8080/"
    },
    "executionInfo": {
     "elapsed": 132,
     "status": "ok",
     "timestamp": 1630588036963,
     "user": {
      "displayName": "John Kitchin",
      "photoUrl": "",
      "userId": "14782011281593705406"
     },
     "user_tz": 240
    },
    "id": "0DaClva1V19u",
    "outputId": "66bc72f6-f165-4aac-aa1c-81b850b8b1f3"
   },
   "outputs": [],
   "source": [
    "a = 2\n",
    "\n",
    "\n",
    "def f(x, _a=2):\n",
    "    y = _a * x\n",
    "    return y\n",
    "\n",
    "\n",
    "f(2, _a=3)\n",
    "\n"
   ]
  },
  {
   "cell_type": "markdown",
   "metadata": {
    "id": "Fjaf4D9tV19w"
   },
   "outputs": [],
   "source": [
    "### Functions that return multiple values\n",
    "\n",
    "\n",
    "\n"
   ]
  },
  {
   "cell_type": "markdown",
   "metadata": {
    "id": "jog7Uph5V19w"
   },
   "outputs": [],
   "source": [
    "A function can return multiple values.\n",
    "\n",
    "\n",
    "\n"
   ]
  },
  {
   "cell_type": "code",
   "execution_count": null,
   "metadata": {
    "id": "gyWSAGuLV19x"
   },
   "outputs": [],
   "source": [
    "def f(x):\n",
    "    even = x % 2 == 0\n",
    "    return x, even  # This returns a tuple\n",
    "\n"
   ]
  },
  {
   "cell_type": "code",
   "execution_count": null,
   "metadata": {
    "colab": {
     "base_uri": "https://localhost:8080/"
    },
    "executionInfo": {
     "elapsed": 185,
     "status": "ok",
     "timestamp": 1630588149908,
     "user": {
      "displayName": "John Kitchin",
      "photoUrl": "",
      "userId": "14782011281593705406"
     },
     "user_tz": 240
    },
    "id": "8fvKYBpRV19z",
    "outputId": "e77cb59f-75fd-4737-91a8-7e5d8e6fb347"
   },
   "outputs": [],
   "source": [
    "f(43)\n",
    "\n"
   ]
  },
  {
   "cell_type": "code",
   "execution_count": null,
   "metadata": {
    "colab": {
     "base_uri": "https://localhost:8080/"
    },
    "executionInfo": {
     "elapsed": 136,
     "status": "ok",
     "timestamp": 1630588179650,
     "user": {
      "displayName": "John Kitchin",
      "photoUrl": "",
      "userId": "14782011281593705406"
     },
     "user_tz": 240
    },
    "id": "Twgo7_q-EGBy",
    "outputId": "53bb4de9-95d9-4418-c921-043c0449261e"
   },
   "outputs": [],
   "source": [
    "6 % 2  # mod operator\n",
    "\n"
   ]
  },
  {
   "cell_type": "code",
   "execution_count": null,
   "metadata": {
    "colab": {
     "base_uri": "https://localhost:8080/"
    },
    "executionInfo": {
     "elapsed": 163,
     "status": "ok",
     "timestamp": 1630588194600,
     "user": {
      "displayName": "John Kitchin",
      "photoUrl": "",
      "userId": "14782011281593705406"
     },
     "user_tz": 240
    },
    "id": "xpp3R_YYV191",
    "outputId": "2e09cc72-c542-4da9-aa56-f6310daf1d6c"
   },
   "outputs": [],
   "source": [
    "type(f(2))\n",
    "\n"
   ]
  },
  {
   "cell_type": "code",
   "execution_count": null,
   "metadata": {
    "colab": {
     "base_uri": "https://localhost:8080/"
    },
    "executionInfo": {
     "elapsed": 125,
     "status": "ok",
     "timestamp": 1630588206332,
     "user": {
      "displayName": "John Kitchin",
      "photoUrl": "",
      "userId": "14782011281593705406"
     },
     "user_tz": 240
    },
    "id": "rDfR6A5dV193",
    "outputId": "9c6c604a-9435-4021-ac92-1aa8738aa31a"
   },
   "outputs": [],
   "source": [
    "f(3)\n",
    "\n"
   ]
  },
  {
   "cell_type": "markdown",
   "metadata": {
    "id": "8NHAeEQbV195"
   },
   "outputs": [],
   "source": [
    "If you assign the output of the function to a variable, it will be a tuple.\n",
    "\n",
    "\n",
    "\n"
   ]
  },
  {
   "cell_type": "code",
   "execution_count": null,
   "metadata": {
    "colab": {
     "base_uri": "https://localhost:8080/"
    },
    "executionInfo": {
     "elapsed": 213,
     "status": "ok",
     "timestamp": 1630588212662,
     "user": {
      "displayName": "John Kitchin",
      "photoUrl": "",
      "userId": "14782011281593705406"
     },
     "user_tz": 240
    },
    "id": "W6CQJL_OV196",
    "outputId": "e44d4fd5-6545-4218-9654-3dc148b67607"
   },
   "outputs": [],
   "source": [
    "z = f(3)\n",
    "z\n",
    "\n"
   ]
  },
  {
   "cell_type": "markdown",
   "metadata": {
    "id": "24OMBNyjV197"
   },
   "outputs": [],
   "source": [
    "You can access the elements of the tuple by indexing.\n",
    "\n",
    "\n",
    "\n"
   ]
  },
  {
   "cell_type": "code",
   "execution_count": null,
   "metadata": {
    "colab": {
     "base_uri": "https://localhost:8080/"
    },
    "executionInfo": {
     "elapsed": 131,
     "status": "ok",
     "timestamp": 1630588254492,
     "user": {
      "displayName": "John Kitchin",
      "photoUrl": "",
      "userId": "14782011281593705406"
     },
     "user_tz": 240
    },
    "id": "EPneJ-2yV198",
    "outputId": "5e26c4c2-ea9f-42f5-cc2a-f0ac53ea745a"
   },
   "outputs": [],
   "source": [
    "print(z[0])\n",
    "print(z[1])\n",
    "\n"
   ]
  },
  {
   "cell_type": "markdown",
   "metadata": {
    "id": "dowqmQ_NV19_"
   },
   "outputs": [],
   "source": [
    "You can also *unpack* the tuple into variable names. Here there are two elements in the output, and we can assign them to two variable names.\n",
    "\n",
    "\n",
    "\n"
   ]
  },
  {
   "cell_type": "code",
   "execution_count": null,
   "metadata": {
    "colab": {
     "base_uri": "https://localhost:8080/"
    },
    "executionInfo": {
     "elapsed": 210,
     "status": "ok",
     "timestamp": 1630588304066,
     "user": {
      "displayName": "John Kitchin",
      "photoUrl": "",
      "userId": "14782011281593705406"
     },
     "user_tz": 240
    },
    "id": "_TiV6-cnV1-A",
    "outputId": "8c36d04c-d3c6-4926-ed1b-17e77e05f7f5"
   },
   "outputs": [],
   "source": [
    "value, even = f(3)\n",
    "print(value)\n",
    "print(even)\n",
    "\n"
   ]
  },
  {
   "cell_type": "code",
   "execution_count": null,
   "metadata": {
    "colab": {
     "base_uri": "https://localhost:8080/"
    },
    "executionInfo": {
     "elapsed": 152,
     "status": "ok",
     "timestamp": 1630589087254,
     "user": {
      "displayName": "John Kitchin",
      "photoUrl": "",
      "userId": "14782011281593705406"
     },
     "user_tz": 240
    },
    "id": "P4Lo4NMQo2Xo",
    "outputId": "0a953d05-3050-4672-9b88-c3832566d82a"
   },
   "outputs": [],
   "source": [
    "def f(x):\n",
    "    even = x % 2 == 0\n",
    "    return [x, even]\n",
    "\n",
    "\n",
    "f(42)\n",
    "\n"
   ]
  },
  {
   "cell_type": "code",
   "execution_count": null,
   "metadata": {
    "colab": {
     "base_uri": "https://localhost:8080/"
    },
    "executionInfo": {
     "elapsed": 140,
     "status": "ok",
     "timestamp": 1630588381037,
     "user": {
      "displayName": "John Kitchin",
      "photoUrl": "",
      "userId": "14782011281593705406"
     },
     "user_tz": 240
    },
    "id": "QacnNJ6qo86c",
    "outputId": "44f4283c-6d53-4654-ed4d-ed4a5f7e5d60"
   },
   "outputs": [],
   "source": [
    "import numpy as np\n",
    "\n",
    "\n",
    "def f(x):\n",
    "    even = x % 2 == 0\n",
    "    return np.array([x, even])\n",
    "\n",
    "\n",
    "f(4)\n",
    "\n"
   ]
  },
  {
   "cell_type": "code",
   "execution_count": null,
   "metadata": {
    "colab": {
     "base_uri": "https://localhost:8080/"
    },
    "executionInfo": {
     "elapsed": 135,
     "status": "ok",
     "timestamp": 1630588519186,
     "user": {
      "displayName": "John Kitchin",
      "photoUrl": "",
      "userId": "14782011281593705406"
     },
     "user_tz": 240
    },
    "id": "DfAC3cgNpXY8",
    "outputId": "586c7391-95b3-4159-8897-dc663143df16"
   },
   "outputs": [],
   "source": [
    "# Always put a return in the function\n",
    "def f(x):\n",
    "    even = x % 2 == 0\n",
    "    print(x, even)\n",
    "\n",
    "\n",
    "print(f(3))\n",
    "z = f(3)\n",
    "print(z)\n",
    "\n"
   ]
  },
  {
   "cell_type": "code",
   "execution_count": null,
   "metadata": {
    "colab": {
     "base_uri": "https://localhost:8080/"
    },
    "executionInfo": {
     "elapsed": 126,
     "status": "ok",
     "timestamp": 1630588430169,
     "user": {
      "displayName": "John Kitchin",
      "photoUrl": "",
      "userId": "14782011281593705406"
     },
     "user_tz": 240
    },
    "id": "_cSqM7DvpFop",
    "outputId": "48966a08-ee47-4882-8c75-03e577ff5ce8"
   },
   "outputs": [],
   "source": [
    "True == 1\n",
    "\n"
   ]
  },
  {
   "cell_type": "code",
   "execution_count": null,
   "metadata": {
    "colab": {
     "base_uri": "https://localhost:8080/"
    },
    "executionInfo": {
     "elapsed": 138,
     "status": "ok",
     "timestamp": 1630588406573,
     "user": {
      "displayName": "John Kitchin",
      "photoUrl": "",
      "userId": "14782011281593705406"
     },
     "user_tz": 240
    },
    "id": "4hwtxnRSpFfX",
    "outputId": "52f56a71-4eb0-48a3-811a-277466e917d4"
   },
   "outputs": [],
   "source": [
    "False == 0\n",
    "\n"
   ]
  },
  {
   "cell_type": "markdown",
   "metadata": {
    "id": "EhJJXqxaV1-C"
   },
   "outputs": [],
   "source": [
    "You can have the function return any kind of data type. If you just use comma-separated return values, you will return a tuple. If you put them in square brackets, you will return a list. In some cases you will want to return an array. When you write functions, you have to decide what they return, and then use them accordingly. When you use functions that others have written (e.g. from a library), you have to read the documentation to see what arguments are required, and what the function returns.\n",
    "\n",
    "\n",
    "\n"
   ]
  },
  {
   "cell_type": "markdown",
   "metadata": {
    "id": "uYOvsTm4E7U-"
   },
   "outputs": [],
   "source": [
    "List looks like [a, b, c]. (square brackets)\n",
    "\n",
    "tuple looks like (a, b, c) (parentheses)\n",
    "\n",
    "Arrays are different\n",
    "\n",
    "\n"
   ]
  },
  {
   "cell_type": "code",
   "execution_count": null,
   "metadata": {
    "id": "TeyoxGRcFK6c"
   },
   "outputs": [],
   "source": [
    "a_list = [1, 2, 3]\n",
    "a_tuple = (1, 2, 3)\n",
    "an_Array = np.array([1, 2, 3])\n",
    "\n"
   ]
  },
  {
   "cell_type": "code",
   "execution_count": null,
   "metadata": {
    "colab": {
     "base_uri": "https://localhost:8080/",
     "height": 34
    },
    "executionInfo": {
     "elapsed": 319,
     "status": "ok",
     "timestamp": 1599138514338,
     "user": {
      "displayName": "John Kitchin",
      "photoUrl": "",
      "userId": "14782011281593705406"
     },
     "user_tz": 240
    },
    "id": "qLwDFAm-FR-F",
    "outputId": "f3eb851f-4a4f-42b8-f085-ac973f14556b"
   },
   "outputs": [],
   "source": [
    "a_list, a_tuple, an_Array\n",
    "\n"
   ]
  },
  {
   "cell_type": "markdown",
   "metadata": {
    "id": "Cz7gV8ftV1-D"
   },
   "outputs": [],
   "source": [
    "## Strings\n",
    "\n",
    "\n",
    "\n"
   ]
  },
  {
   "cell_type": "markdown",
   "metadata": {
    "id": "IsS21G38V1-D"
   },
   "outputs": [],
   "source": [
    "We will use strings a lot to present the output of our work. Suppose Amy has 10 apples, and she gives Bob 3 apples. How many apples does Amy have left?\n",
    "\n",
    "You could solve it like this:\n",
    "\n",
    "\n",
    "\n"
   ]
  },
  {
   "cell_type": "code",
   "execution_count": null,
   "metadata": {
    "colab": {
     "base_uri": "https://localhost:8080/"
    },
    "executionInfo": {
     "elapsed": 135,
     "status": "ok",
     "timestamp": 1630589235050,
     "user": {
      "displayName": "John Kitchin",
      "photoUrl": "",
      "userId": "14782011281593705406"
     },
     "user_tz": 240
    },
    "id": "QVUCGp1VsSP8",
    "outputId": "1ef61d1d-efc1-48cb-c98e-6343306552a9"
   },
   "outputs": [],
   "source": [
    "7  # not good, where did you get 7?\n",
    "\n"
   ]
  },
  {
   "cell_type": "code",
   "execution_count": null,
   "metadata": {
    "colab": {
     "base_uri": "https://localhost:8080/"
    },
    "executionInfo": {
     "elapsed": 128,
     "status": "ok",
     "timestamp": 1630589245927,
     "user": {
      "displayName": "John Kitchin",
      "photoUrl": "",
      "userId": "14782011281593705406"
     },
     "user_tz": 240
    },
    "id": "TJMkDNx7sUx8",
    "outputId": "fbcee59f-c0cc-4a21-ab47-249a3e48918a"
   },
   "outputs": [],
   "source": [
    "10 - 3  # better, but what are 10 and 3?\n",
    "\n"
   ]
  },
  {
   "cell_type": "code",
   "execution_count": null,
   "metadata": {
    "colab": {
     "base_uri": "https://localhost:8080/"
    },
    "executionInfo": {
     "elapsed": 421,
     "status": "ok",
     "timestamp": 1630589271330,
     "user": {
      "displayName": "John Kitchin",
      "photoUrl": "",
      "userId": "14782011281593705406"
     },
     "user_tz": 240
    },
    "id": "MlSmot4jV1-E",
    "outputId": "72714435-748a-474f-a725-99bc1761c5f4"
   },
   "outputs": [],
   "source": [
    "print(\"Amy has\", 10 - 3, \"apples left\")  # better still, now there is context\n",
    "\n"
   ]
  },
  {
   "cell_type": "markdown",
   "metadata": {
    "id": "SHdWLBWaV1-G"
   },
   "outputs": [],
   "source": [
    "Or, this more clear code.\n",
    "\n",
    "\n",
    "\n"
   ]
  },
  {
   "cell_type": "code",
   "execution_count": null,
   "metadata": {
    "colab": {
     "base_uri": "https://localhost:8080/"
    },
    "executionInfo": {
     "elapsed": 129,
     "status": "ok",
     "timestamp": 1630589398878,
     "user": {
      "displayName": "John Kitchin",
      "photoUrl": "",
      "userId": "14782011281593705406"
     },
     "user_tz": 240
    },
    "id": "92hy8iQ6V1-G",
    "outputId": "8f3279d7-2057-484e-d403-525e2e57df8c"
   },
   "outputs": [],
   "source": [
    "original_count = 10\n",
    "count_given = 3\n",
    "apples_remaining = original_count - count_given\n",
    "print(f\"Amy has {apples_remaining} apples left.\")\n",
    "\n"
   ]
  },
  {
   "cell_type": "code",
   "execution_count": null,
   "metadata": {
    "colab": {
     "base_uri": "https://localhost:8080/"
    },
    "executionInfo": {
     "elapsed": 132,
     "status": "ok",
     "timestamp": 1630589503744,
     "user": {
      "displayName": "John Kitchin",
      "photoUrl": "",
      "userId": "14782011281593705406"
     },
     "user_tz": 240
    },
    "id": "qKOxfstyHDmu",
    "outputId": "4a031896-caca-4467-a9fe-a8f273b601e4"
   },
   "outputs": [],
   "source": [
    "print(\n",
    "    f\"\"\"Amy had {original_count} apples.\n",
    "She gave away {count_given}.\n",
    "She has {apples_remaining} left.\"\"\"\n",
    ")\n",
    "\n"
   ]
  },
  {
   "cell_type": "markdown",
   "metadata": {
    "id": "irpmBmDPV1-I"
   },
   "outputs": [],
   "source": [
    "We have used a *formatted string* here. A formatted string looks like f'&#x2026;', and it has elements inside it in curly brackets that are replaced with values from the environment. We can format the values using formatting codes.\n",
    "\n",
    "The most common use will be formatting floats. If you just print these, you will get a lot of decimal places, more than is commonly needed for engineering problems.\n",
    "\n",
    "\n",
    "\n"
   ]
  },
  {
   "cell_type": "code",
   "execution_count": null,
   "metadata": {
    "colab": {
     "base_uri": "https://localhost:8080/"
    },
    "executionInfo": {
     "elapsed": 181,
     "status": "ok",
     "timestamp": 1630589519167,
     "user": {
      "displayName": "John Kitchin",
      "photoUrl": "",
      "userId": "14782011281593705406"
     },
     "user_tz": 240
    },
    "id": "pKQlGGatV1-I",
    "outputId": "8733b91e-441f-4355-88b1-b6188ca9f7f7"
   },
   "outputs": [],
   "source": [
    "a = 2 / 3\n",
    "print(a)\n",
    "\n"
   ]
  },
  {
   "cell_type": "markdown",
   "metadata": {
    "id": "2zswRDAiV1-L"
   },
   "outputs": [],
   "source": [
    "We can print this as a float with only three decimal places like this:\n",
    "\n",
    "\n",
    "\n"
   ]
  },
  {
   "cell_type": "code",
   "execution_count": null,
   "metadata": {
    "colab": {
     "base_uri": "https://localhost:8080/"
    },
    "executionInfo": {
     "elapsed": 156,
     "status": "ok",
     "timestamp": 1630589751672,
     "user": {
      "displayName": "John Kitchin",
      "photoUrl": "",
      "userId": "14782011281593705406"
     },
     "user_tz": 240
    },
    "id": "7_stX7djV1-M",
    "outputId": "cfa38e38-d49e-40f6-d2f9-698cfddbe287"
   },
   "outputs": [],
   "source": [
    "print(f\"a = {a:1.2f}.\")\n",
    "\n"
   ]
  },
  {
   "cell_type": "markdown",
   "metadata": {
    "id": "ed8pgYE3V1-P"
   },
   "outputs": [],
   "source": [
    "The syntax here for float numbers is {varname:width.decimalsf}. We will usually set the width to 1, and just change the number of decimal places.\n",
    "\n",
    "There are other ways to format strings in Python, but I will try to only use this method. It is the most readable in my opinion (note: this only works in Python 3. For Python 2, you may have to use one of the other methods.).\n",
    "\n",
    "You can do some math inside these strings\n",
    "\n",
    "\n",
    "\n"
   ]
  },
  {
   "cell_type": "code",
   "execution_count": null,
   "metadata": {
    "colab": {
     "base_uri": "https://localhost:8080/"
    },
    "executionInfo": {
     "elapsed": 137,
     "status": "ok",
     "timestamp": 1630589777404,
     "user": {
      "displayName": "John Kitchin",
      "photoUrl": "",
      "userId": "14782011281593705406"
     },
     "user_tz": 240
    },
    "id": "TJIEDhhhV1-P",
    "outputId": "09d5742a-5eec-42bb-fef7-ad0ebb128cca"
   },
   "outputs": [],
   "source": [
    "volume = 10.0  # L\n",
    "flowrate = 4.0  # L/s\n",
    "\n",
    "print(f\"The residence time is {volume / flowrate:1.2f} seconds.\")\n",
    "\n"
   ]
  },
  {
   "cell_type": "markdown",
   "metadata": {
    "id": "gI43B47IV1-S"
   },
   "outputs": [],
   "source": [
    "You can also call functions in the formatted strings:\n",
    "\n",
    "\n",
    "\n"
   ]
  },
  {
   "cell_type": "code",
   "execution_count": null,
   "metadata": {
    "colab": {
     "base_uri": "https://localhost:8080/"
    },
    "executionInfo": {
     "elapsed": 145,
     "status": "ok",
     "timestamp": 1630589809859,
     "user": {
      "displayName": "John Kitchin",
      "photoUrl": "",
      "userId": "14782011281593705406"
     },
     "user_tz": 240
    },
    "id": "hSCXzz-OV1-U",
    "outputId": "5e90bb4a-6894-4cf1-e87f-fe21df87e915"
   },
   "outputs": [],
   "source": [
    "def f(x):\n",
    "    return 1 / x\n",
    "\n",
    "\n",
    "x0 = 21\n",
    "\n",
    "print(f\"The value of 1 / {x0} to 4 decimal places is {f(x0):1.4f}.\")\n",
    "\n"
   ]
  },
  {
   "cell_type": "markdown",
   "metadata": {
    "id": "Nt9lFU2PV1-X"
   },
   "outputs": [],
   "source": [
    "There are many ways to use these, and you should use the method that is most readable.\n",
    "\n",
    "We will see many examples of this in the class. For complete reference on the formatting codes see [https://docs.python.org/3.6/library/string.html#format-specification-mini-language](https://docs.python.org/3.6/library/string.html#format-specification-mini-language).\n",
    "\n",
    "\n",
    "\n"
   ]
  },
  {
   "cell_type": "markdown",
   "metadata": {
    "id": "J1nFJPC9V1-X"
   },
   "outputs": [],
   "source": [
    "### Printing arrays\n",
    "\n",
    "\n",
    "\n"
   ]
  },
  {
   "cell_type": "markdown",
   "metadata": {
    "id": "hVaMfaWyV1-Y"
   },
   "outputs": [],
   "source": [
    "Arrays are printed in full accuracy by default. This often results in hard to read outputs. Consider this array.\n",
    "\n",
    "\n",
    "\n"
   ]
  },
  {
   "cell_type": "code",
   "execution_count": null,
   "metadata": {
    "colab": {
     "base_uri": "https://localhost:8080/"
    },
    "executionInfo": {
     "elapsed": 220,
     "status": "ok",
     "timestamp": 1630589997767,
     "user": {
      "displayName": "John Kitchin",
      "photoUrl": "",
      "userId": "14782011281593705406"
     },
     "user_tz": 240
    },
    "id": "T1dx1qtKV1-Y",
    "outputId": "696d3a11-4b14-489d-f989-38fa30884b41"
   },
   "outputs": [],
   "source": [
    "import numpy as np\n",
    "\n",
    "x = np.linspace(0, 10, 4) + 1e-15  # add tiny number\n",
    "x\n",
    "\n"
   ]
  },
  {
   "cell_type": "markdown",
   "metadata": {
    "id": "rDlCkCzQV1-a"
   },
   "outputs": [],
   "source": [
    "You cannot use formatted strings on arrays like this:\n",
    "\n",
    "\n",
    "\n"
   ]
  },
  {
   "cell_type": "code",
   "execution_count": null,
   "metadata": {
    "colab": {
     "base_uri": "https://localhost:8080/",
     "height": 164
    },
    "executionInfo": {
     "elapsed": 382,
     "status": "error",
     "timestamp": 1630590030969,
     "user": {
      "displayName": "John Kitchin",
      "photoUrl": "",
      "userId": "14782011281593705406"
     },
     "user_tz": 240
    },
    "id": "zmcfa5DFV1-a",
    "outputId": "253c6e7f-8159-4aa4-b894-e2e51a7bb798"
   },
   "outputs": [],
   "source": [
    "print(f\"x = {x:1.3f}\")\n",
    "\n"
   ]
  },
  {
   "cell_type": "markdown",
   "metadata": {
    "id": "8vjCeBJsV1-c"
   },
   "outputs": [],
   "source": [
    "You can use this to print individual elements of the array (you access them with [] indexing). First, we print the first element as a float:\n",
    "\n",
    "\n",
    "\n"
   ]
  },
  {
   "cell_type": "code",
   "execution_count": null,
   "metadata": {
    "colab": {
     "base_uri": "https://localhost:8080/"
    },
    "executionInfo": {
     "elapsed": 256,
     "status": "ok",
     "timestamp": 1630590073906,
     "user": {
      "displayName": "John Kitchin",
      "photoUrl": "",
      "userId": "14782011281593705406"
     },
     "user_tz": 240
    },
    "id": "cnklZToGJpsi",
    "outputId": "5d16f1f2-664a-46b4-972e-e2e3c682d27c"
   },
   "outputs": [],
   "source": [
    "x[0]\n",
    "\n"
   ]
  },
  {
   "cell_type": "code",
   "execution_count": null,
   "metadata": {
    "colab": {
     "base_uri": "https://localhost:8080/"
    },
    "executionInfo": {
     "elapsed": 150,
     "status": "ok",
     "timestamp": 1630590081300,
     "user": {
      "displayName": "John Kitchin",
      "photoUrl": "",
      "userId": "14782011281593705406"
     },
     "user_tz": 240
    },
    "id": "z-q9zijOV1-c",
    "outputId": "08ffeddc-9dc7-44f3-f46d-006bfd648793"
   },
   "outputs": [],
   "source": [
    "print(f\"x = {x[0]:1.3f}\")\n",
    "\n"
   ]
  },
  {
   "cell_type": "markdown",
   "metadata": {
    "id": "zN-hD08sV1-f"
   },
   "outputs": [],
   "source": [
    "And in exponential (Scientific notation):\n",
    "\n",
    "\n",
    "\n"
   ]
  },
  {
   "cell_type": "code",
   "execution_count": null,
   "metadata": {
    "colab": {
     "base_uri": "https://localhost:8080/"
    },
    "executionInfo": {
     "elapsed": 157,
     "status": "ok",
     "timestamp": 1630590094937,
     "user": {
      "displayName": "John Kitchin",
      "photoUrl": "",
      "userId": "14782011281593705406"
     },
     "user_tz": 240
    },
    "id": "RZTGJiVvV1-g",
    "outputId": "f40844ea-120a-492a-c08f-48b24cb181e6"
   },
   "outputs": [],
   "source": [
    "print(f\"x = {x[0]:1.3e}\")\n",
    "\n"
   ]
  },
  {
   "cell_type": "markdown",
   "metadata": {
    "id": "CgUd66EdV1-i"
   },
   "outputs": [],
   "source": [
    "Instead, you can control how arrays are *printed* with this line. Note this does not affect the value of the arrays, just how they are printed. The precision argument specifies how many decimal places, and suppress means do not print very small numbers, e.g. 1e-15 is approximately zero, so print it as zero. Note that this affects printing of all arrays globally.\n",
    "\n",
    "\n",
    "\n"
   ]
  },
  {
   "cell_type": "code",
   "execution_count": null,
   "metadata": {
    "colab": {
     "base_uri": "https://localhost:8080/"
    },
    "executionInfo": {
     "elapsed": 147,
     "status": "ok",
     "timestamp": 1630590867055,
     "user": {
      "displayName": "John Kitchin",
      "photoUrl": "",
      "userId": "14782011281593705406"
     },
     "user_tz": 240
    },
    "id": "9BeN-J1GV1-i",
    "outputId": "f165ac2f-3e43-4144-bf58-1235ba83179c"
   },
   "outputs": [],
   "source": [
    "np.set_printoptions(precision=3, suppress=True)\n",
    "x\n",
    "\n"
   ]
  },
  {
   "cell_type": "code",
   "execution_count": null,
   "metadata": {
    "colab": {
     "base_uri": "https://localhost:8080/"
    },
    "executionInfo": {
     "elapsed": 137,
     "status": "ok",
     "timestamp": 1630590196720,
     "user": {
      "displayName": "John Kitchin",
      "photoUrl": "",
      "userId": "14782011281593705406"
     },
     "user_tz": 240
    },
    "id": "9kqyea2YKA8u",
    "outputId": "0f40e090-3306-496d-f08e-d221723857ad"
   },
   "outputs": [],
   "source": [
    "np.linspace(0, 1, 4)\n",
    "\n"
   ]
  },
  {
   "cell_type": "markdown",
   "metadata": {
    "id": "0MgZl7UNV1-k"
   },
   "outputs": [],
   "source": [
    "It is possible to only *temporarily* affect how this prints with this syntax:\n",
    "\n",
    "\n",
    "\n"
   ]
  },
  {
   "cell_type": "code",
   "execution_count": null,
   "metadata": {
    "colab": {
     "base_uri": "https://localhost:8080/"
    },
    "executionInfo": {
     "elapsed": 136,
     "status": "ok",
     "timestamp": 1630590229342,
     "user": {
      "displayName": "John Kitchin",
      "photoUrl": "",
      "userId": "14782011281593705406"
     },
     "user_tz": 240
    },
    "id": "wHtoOW_aV1-k",
    "outputId": "15ec6b94-36ef-4577-94ce-3e0307a21bc1"
   },
   "outputs": [],
   "source": [
    "with np.printoptions(precision=4, suppress=True):\n",
    "    print(x)\n",
    "print(x)\n",
    "\n"
   ]
  },
  {
   "cell_type": "markdown",
   "metadata": {
    "id": "Z62DL6oWV1-n"
   },
   "outputs": [],
   "source": [
    "Here we just illustrate that x[0] is not zero as printed. If it was, we would get a ZeroDivisionError error here.\n",
    "\n",
    "\n",
    "\n"
   ]
  },
  {
   "cell_type": "code",
   "execution_count": null,
   "metadata": {
    "colab": {
     "base_uri": "https://localhost:8080/"
    },
    "executionInfo": {
     "elapsed": 127,
     "status": "ok",
     "timestamp": 1630590296049,
     "user": {
      "displayName": "John Kitchin",
      "photoUrl": "",
      "userId": "14782011281593705406"
     },
     "user_tz": 240
    },
    "id": "FH3K39y4wU9_",
    "outputId": "2c2b9941-7d92-42ca-bb5f-7ba46aed3e84"
   },
   "outputs": [],
   "source": [
    "x[0]\n",
    "\n"
   ]
  },
  {
   "cell_type": "code",
   "execution_count": null,
   "metadata": {
    "colab": {
     "base_uri": "https://localhost:8080/"
    },
    "executionInfo": {
     "elapsed": 136,
     "status": "ok",
     "timestamp": 1630590301530,
     "user": {
      "displayName": "John Kitchin",
      "photoUrl": "",
      "userId": "14782011281593705406"
     },
     "user_tz": 240
    },
    "id": "xwtBg9OyV1-n",
    "outputId": "2ce254f0-cd82-4ad7-835e-22d9f063bab3"
   },
   "outputs": [],
   "source": [
    "1 / x[0]\n",
    "\n"
   ]
  },
  {
   "cell_type": "code",
   "execution_count": null,
   "metadata": {
    "colab": {
     "base_uri": "https://localhost:8080/",
     "height": 164
    },
    "executionInfo": {
     "elapsed": 145,
     "status": "error",
     "timestamp": 1630590307140,
     "user": {
      "displayName": "John Kitchin",
      "photoUrl": "",
      "userId": "14782011281593705406"
     },
     "user_tz": 240
    },
    "id": "Z0kDGD8BKXuL",
    "outputId": "35c4e774-33ff-436f-afe6-9ee3180ca23e"
   },
   "outputs": [],
   "source": [
    "1 / 0\n",
    "\n"
   ]
  },
  {
   "cell_type": "code",
   "execution_count": null,
   "metadata": {
    "id": "ZnMrM81uwhOl"
   },
   "outputs": [],
   "source": [
    "?np.set_printoptions\n",
    "\n"
   ]
  },
  {
   "cell_type": "code",
   "execution_count": null,
   "metadata": {
    "colab": {
     "base_uri": "https://localhost:8080/"
    },
    "executionInfo": {
     "elapsed": 127,
     "status": "ok",
     "timestamp": 1630590390960,
     "user": {
      "displayName": "John Kitchin",
      "photoUrl": "",
      "userId": "14782011281593705406"
     },
     "user_tz": 240
    },
    "id": "trqf0AUJK875",
    "outputId": "0bd9651e-ecb1-488b-8d3e-a6588ef2887e"
   },
   "outputs": [],
   "source": [
    "with np.printoptions(threshold=10):\n",
    "    print(np.linspace(0, 1, 500))\n",
    "\n"
   ]
  },
  {
   "cell_type": "code",
   "execution_count": null,
   "metadata": {
    "colab": {
     "base_uri": "https://localhost:8080/",
     "height": 35
    },
    "executionInfo": {
     "elapsed": 311,
     "status": "ok",
     "timestamp": 1630590446995,
     "user": {
      "displayName": "John Kitchin",
      "photoUrl": "",
      "userId": "14782011281593705406"
     },
     "user_tz": 240
    },
    "id": "4Q70VjlBNNg1",
    "outputId": "c693a17b-82c9-4d1d-e5f3-49f99e5441b9"
   },
   "outputs": [],
   "source": [
    "# Answer to question in class see https://docs.python.org/3/library/string.html\n",
    "import string\n",
    "\n",
    "string.ascii_lowercase[0:5]\n",
    "\n"
   ]
  },
  {
   "cell_type": "code",
   "execution_count": null,
   "metadata": {
    "colab": {
     "base_uri": "https://localhost:8080/",
     "height": 35
    },
    "executionInfo": {
     "elapsed": 199,
     "status": "ok",
     "timestamp": 1630590650662,
     "user": {
      "displayName": "John Kitchin",
      "photoUrl": "",
      "userId": "14782011281593705406"
     },
     "user_tz": 240
    },
    "id": "vxQYZhAbxpiG",
    "outputId": "42e32608-fbbd-4cb0-b958-fe6afc23eb61"
   },
   "outputs": [],
   "source": [
    "# example of a multiline string with triple quotes\n",
    "\"\"\"line1\n",
    "\n",
    "line2\n",
    "\n",
    "line3\"\"\"\n",
    "\n"
   ]
  },
  {
   "cell_type": "code",
   "execution_count": null,
   "metadata": {
    "colab": {
     "base_uri": "https://localhost:8080/",
     "height": 35
    },
    "executionInfo": {
     "elapsed": 229,
     "status": "ok",
     "timestamp": 1630590675279,
     "user": {
      "displayName": "John Kitchin",
      "photoUrl": "",
      "userId": "14782011281593705406"
     },
     "user_tz": 240
    },
    "id": "KM8lOa0kxsdA",
    "outputId": "d0e71b75-36a8-4c7a-ddd9-43e22837c9e0"
   },
   "outputs": [],
   "source": [
    "\"\"\"line1\n",
    "\n",
    "line2\n",
    "\n",
    "line3\"\"\"\n",
    "\n"
   ]
  },
  {
   "cell_type": "markdown",
   "metadata": {
    "id": "6RAsivPDV1-p"
   },
   "outputs": [],
   "source": [
    "## Summary\n",
    "\n",
    "\n",
    "\n"
   ]
  },
  {
   "cell_type": "markdown",
   "metadata": {
    "id": "_IvTaROoV1-p"
   },
   "outputs": [],
   "source": [
    "You should get comfortable with:\n",
    "\n",
    "-   Creating markdown cells in Jupyter notebooks that express the problem you are solving, and your approach to it.\n",
    "-   Creating code cells to evaluate Python expressions\n",
    "-   Defining functions with arguments\n",
    "-   Printing formatted strings containing your results\n",
    "\n",
    "Next time:\n",
    "We will start using functions to solve integrals and differential equations.\n",
    "\n",
    "\n",
    "\n"
   ]
  }
 ],
 "metadata": {
  "colab": {
   "collapsed_sections": [],
   "name": "01-jupyter.ipynb",
   "provenance": []
  },
  "kernelspec": {
   "display_name": "Python 3 (ipykernel)",
   "language": "python",
   "name": "python3"
  },
  "language_info": {
   "codemirror_mode": {
    "name": "ipython",
    "version": 3
   },
   "file_extension": ".py",
   "mimetype": "text/x-python",
   "name": "python",
   "nbconvert_exporter": "python",
   "pygments_lexer": "ipython3",
   "version": "3.9.7"
  },
  "org": {
   "KEYWORDS": "jupyter"
  },
  "widgets": {
   "application/vnd.jupyter.widget-state+json": {
    "state": {},
    "version_major": 2,
    "version_minor": 0
   }
  }
 },
 "nbformat": 4,
 "nbformat_minor": 4
}
