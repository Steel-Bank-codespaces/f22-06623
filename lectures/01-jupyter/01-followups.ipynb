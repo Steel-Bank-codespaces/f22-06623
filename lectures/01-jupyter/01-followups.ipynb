{
 "cells": [
  {
   "cell_type": "markdown",
   "metadata": {
    "id": "M3RBT0eSwsv6"
   },
   "source": [
    "# Example 1\n",
    "\n",
    "Write a function that takes a list as argument and outputs another list which consists of the same numbers in the original list but doubled."
   ]
  },
  {
   "cell_type": "code",
   "execution_count": null,
   "metadata": {
    "id": "4T5wbJ2lwqMW"
   },
   "outputs": [],
   "source": [
    "def f1(x):\n",
    "    return"
   ]
  },
  {
   "cell_type": "markdown",
   "metadata": {
    "id": "hBdA_Xvx-y4K"
   },
   "source": [
    "# Review of builtin data types"
   ]
  },
  {
   "cell_type": "markdown",
   "metadata": {
    "id": "3lerAzNt-34Q"
   },
   "source": [
    "## Integers\n",
    "\n",
    "These are discrete numbers with no decimal place. Integer math with other integers usually leads to integers."
   ]
  },
  {
   "cell_type": "code",
   "execution_count": null,
   "metadata": {
    "id": "7BmBECfh_FKZ"
   },
   "outputs": [],
   "source": [
    "a = 1\n",
    "b = 2"
   ]
  },
  {
   "cell_type": "code",
   "execution_count": null,
   "metadata": {
    "colab": {
     "base_uri": "https://localhost:8080/",
     "height": 34
    },
    "executionInfo": {
     "elapsed": 606,
     "status": "ok",
     "timestamp": 1599522771712,
     "user": {
      "displayName": "John Kitchin",
      "photoUrl": "",
      "userId": "14782011281593705406"
     },
     "user_tz": 240
    },
    "id": "fq2Cv5nf_G2J",
    "outputId": "c221e478-816a-4bad-c11a-b91fcf43c4a7"
   },
   "outputs": [
    {
     "data": {
      "text/plain": [
       "(-1, 3, 2)"
      ]
     },
     "execution_count": 2,
     "metadata": {
      "tags": []
     },
     "output_type": "execute_result"
    }
   ],
   "source": [
    "a - b, a + b, a * b"
   ]
  },
  {
   "cell_type": "markdown",
   "metadata": {
    "id": "hvoRsO28_NWJ"
   },
   "source": [
    "One exception is division. In Python3, the default division leads to floats."
   ]
  },
  {
   "cell_type": "code",
   "execution_count": null,
   "metadata": {
    "colab": {
     "base_uri": "https://localhost:8080/",
     "height": 34
    },
    "executionInfo": {
     "elapsed": 651,
     "status": "ok",
     "timestamp": 1599522775645,
     "user": {
      "displayName": "John Kitchin",
      "photoUrl": "",
      "userId": "14782011281593705406"
     },
     "user_tz": 240
    },
    "id": "HV-bDdrG_JAK",
    "outputId": "74e9849d-4008-4281-b6d0-2b2df6c6569c"
   },
   "outputs": [
    {
     "data": {
      "text/plain": [
       "0.5"
      ]
     },
     "execution_count": 3,
     "metadata": {
      "tags": []
     },
     "output_type": "execute_result"
    }
   ],
   "source": [
    "a / b"
   ]
  },
  {
   "cell_type": "markdown",
   "metadata": {
    "id": "XM5HtZkK_Uyq"
   },
   "source": [
    "You have to use // to get integer division. This is *usually* not what we want in engineering programs, but if you do want it, hear is how you get it."
   ]
  },
  {
   "cell_type": "code",
   "execution_count": null,
   "metadata": {
    "colab": {
     "base_uri": "https://localhost:8080/",
     "height": 34
    },
    "executionInfo": {
     "elapsed": 310,
     "status": "ok",
     "timestamp": 1599522816638,
     "user": {
      "displayName": "John Kitchin",
      "photoUrl": "",
      "userId": "14782011281593705406"
     },
     "user_tz": 240
    },
    "id": "ZSnb2Uza_J7Q",
    "outputId": "fe67ed18-a304-46ff-91e8-5ba7a3a467de"
   },
   "outputs": [
    {
     "data": {
      "text/plain": [
       "0"
      ]
     },
     "execution_count": 4,
     "metadata": {
      "tags": []
     },
     "output_type": "execute_result"
    }
   ],
   "source": [
    "a // b"
   ]
  },
  {
   "cell_type": "markdown",
   "metadata": {
    "id": "uX-YEH-c_fyc"
   },
   "source": [
    "## Floats\n",
    "\n",
    "Floats are continuous numbers, often with a decimal. Floats are not exact, but are approximate. The approximation is usually very good, but there are times you should be careful."
   ]
  },
  {
   "cell_type": "code",
   "execution_count": null,
   "metadata": {
    "colab": {
     "base_uri": "https://localhost:8080/",
     "height": 35
    },
    "executionInfo": {
     "elapsed": 885,
     "status": "ok",
     "timestamp": 1599523067463,
     "user": {
      "displayName": "John Kitchin",
      "photoUrl": "",
      "userId": "14782011281593705406"
     },
     "user_tz": 240
    },
    "id": "X3K0Q033_fQl",
    "outputId": "fcea7b40-43d0-4c81-a683-34fd0876733c"
   },
   "outputs": [
    {
     "data": {
      "application/vnd.google.colaboratory.intrinsic+json": {
       "type": "string"
      },
      "text/plain": [
       "'0.10000000000000001'"
      ]
     },
     "execution_count": 9,
     "metadata": {
      "tags": []
     },
     "output_type": "execute_result"
    }
   ],
   "source": [
    "x = 0.1\n",
    "f\"{x:1.17f}\""
   ]
  },
  {
   "cell_type": "markdown",
   "metadata": {
    "id": "2W4snzdXAfKm"
   },
   "source": [
    "## Lists\n",
    "Lists are a container that can hold many kinds of values. They are surrounded by []."
   ]
  },
  {
   "cell_type": "code",
   "execution_count": null,
   "metadata": {
    "colab": {
     "base_uri": "https://localhost:8080/",
     "height": 34
    },
    "executionInfo": {
     "elapsed": 620,
     "status": "ok",
     "timestamp": 1599523171337,
     "user": {
      "displayName": "John Kitchin",
      "photoUrl": "",
      "userId": "14782011281593705406"
     },
     "user_tz": 240
    },
    "id": "H6JGqaBuAZdo",
    "outputId": "3b9be886-9d2c-4a7c-931b-51d965b73d12"
   },
   "outputs": [
    {
     "data": {
      "text/plain": [
       "['a', 2, [2, 'b']]"
      ]
     },
     "execution_count": 11,
     "metadata": {
      "tags": []
     },
     "output_type": "execute_result"
    }
   ],
   "source": [
    "a = [\"a\", 2, [2, \"b\"]]\n",
    "a"
   ]
  },
  {
   "cell_type": "markdown",
   "metadata": {
    "id": "1nWjL-YqArPG"
   },
   "source": [
    "Lists are mutable. You can change them after you make them."
   ]
  },
  {
   "cell_type": "code",
   "execution_count": null,
   "metadata": {
    "colab": {
     "base_uri": "https://localhost:8080/",
     "height": 34
    },
    "executionInfo": {
     "elapsed": 1039,
     "status": "ok",
     "timestamp": 1599523209729,
     "user": {
      "displayName": "John Kitchin",
      "photoUrl": "",
      "userId": "14782011281593705406"
     },
     "user_tz": 240
    },
    "id": "kD8yEhNYAqlp",
    "outputId": "558cfac0-92b3-4a76-8e22-cd0b48794e15"
   },
   "outputs": [
    {
     "data": {
      "text/plain": [
       "[1, 2, 3]"
      ]
     },
     "execution_count": 13,
     "metadata": {
      "tags": []
     },
     "output_type": "execute_result"
    }
   ],
   "source": [
    "a[0] = 1\n",
    "a[2] = 3\n",
    "a"
   ]
  },
  {
   "cell_type": "markdown",
   "metadata": {
    "id": "4JQNsDEFA1HN"
   },
   "source": [
    "There are limited operations you can do with a list. You can add two lists, which simply concatenates the two lists. "
   ]
  },
  {
   "cell_type": "code",
   "execution_count": null,
   "metadata": {
    "colab": {
     "base_uri": "https://localhost:8080/",
     "height": 34
    },
    "executionInfo": {
     "elapsed": 1032,
     "status": "ok",
     "timestamp": 1599523273625,
     "user": {
      "displayName": "John Kitchin",
      "photoUrl": "",
      "userId": "14782011281593705406"
     },
     "user_tz": 240
    },
    "id": "UQvi9WsBAwhG",
    "outputId": "6fd927b6-a911-4dcd-b96a-6432d513ba3e"
   },
   "outputs": [
    {
     "data": {
      "text/plain": [
       "[1, 2, 3, 5]"
      ]
     },
     "execution_count": 15,
     "metadata": {
      "tags": []
     },
     "output_type": "execute_result"
    }
   ],
   "source": [
    "b = [5]\n",
    "a + b"
   ]
  },
  {
   "cell_type": "markdown",
   "metadata": {
    "id": "1ZWX1_cVBFdW"
   },
   "source": [
    "You can multiply them by an integer, which repeates the list that many times."
   ]
  },
  {
   "cell_type": "code",
   "execution_count": null,
   "metadata": {
    "colab": {
     "base_uri": "https://localhost:8080/"
    },
    "executionInfo": {
     "elapsed": 1369,
     "status": "ok",
     "timestamp": 1599523303037,
     "user": {
      "displayName": "John Kitchin",
      "photoUrl": "",
      "userId": "14782011281593705406"
     },
     "user_tz": 240
    },
    "id": "poMB-KO9A6Y0",
    "outputId": "4364958c-aa18-4e22-f830-cb1501170c23"
   },
   "outputs": [
    {
     "data": {
      "text/plain": [
       "[5, 5, 5]"
      ]
     },
     "execution_count": 16,
     "metadata": {
      "tags": []
     },
     "output_type": "execute_result"
    }
   ],
   "source": [
    "3 * b"
   ]
  },
  {
   "cell_type": "markdown",
   "metadata": {
    "id": "w8nMTaHxBMjC"
   },
   "source": [
    "You can append a list to a list with +="
   ]
  },
  {
   "cell_type": "code",
   "execution_count": null,
   "metadata": {
    "colab": {
     "base_uri": "https://localhost:8080/"
    },
    "executionInfo": {
     "elapsed": 928,
     "status": "ok",
     "timestamp": 1599523330458,
     "user": {
      "displayName": "John Kitchin",
      "photoUrl": "",
      "userId": "14782011281593705406"
     },
     "user_tz": 240
    },
    "id": "zl0lFxaoBKjA",
    "outputId": "b57e021c-f553-47fa-c2c0-38959c2bd70a"
   },
   "outputs": [
    {
     "data": {
      "text/plain": [
       "[5, 6]"
      ]
     },
     "execution_count": 17,
     "metadata": {
      "tags": []
     },
     "output_type": "execute_result"
    }
   ],
   "source": [
    "b += [6]\n",
    "b"
   ]
  },
  {
   "cell_type": "markdown",
   "metadata": {
    "id": "XgJozm6FBSfZ"
   },
   "source": [
    "You can also perform an inplace repeat like this."
   ]
  },
  {
   "cell_type": "code",
   "execution_count": null,
   "metadata": {
    "colab": {
     "base_uri": "https://localhost:8080/"
    },
    "executionInfo": {
     "elapsed": 1228,
     "status": "ok",
     "timestamp": 1599523355959,
     "user": {
      "displayName": "John Kitchin",
      "photoUrl": "",
      "userId": "14782011281593705406"
     },
     "user_tz": 240
    },
    "id": "mGI5SwcLBRVZ",
    "outputId": "118a7321-cebb-4a1e-f1b3-44e623d976ba"
   },
   "outputs": [
    {
     "data": {
      "text/plain": [
       "[5,\n",
       " 6,\n",
       " 5,\n",
       " 6,\n",
       " 5,\n",
       " 6,\n",
       " 5,\n",
       " 6,\n",
       " 5,\n",
       " 6,\n",
       " 5,\n",
       " 6,\n",
       " 5,\n",
       " 6,\n",
       " 5,\n",
       " 6,\n",
       " 5,\n",
       " 6,\n",
       " 5,\n",
       " 6,\n",
       " 5,\n",
       " 6,\n",
       " 5,\n",
       " 6,\n",
       " 5,\n",
       " 6,\n",
       " 5,\n",
       " 6,\n",
       " 5,\n",
       " 6,\n",
       " 5,\n",
       " 6]"
      ]
     },
     "execution_count": 19,
     "metadata": {
      "tags": []
     },
     "output_type": "execute_result"
    }
   ],
   "source": [
    "b *= 4\n",
    "b"
   ]
  },
  {
   "cell_type": "markdown",
   "metadata": {
    "id": "Kj3uCM6PBfzM"
   },
   "source": [
    "There are not many other operations you can do with math though."
   ]
  },
  {
   "cell_type": "markdown",
   "metadata": {
    "id": "UJ7JZMrlBm2R"
   },
   "source": [
    "## Tuples\n",
    "Tuples are like lists, but are surrounded by parentheses, and they are *immutable*, which means you cannot change them after you make them. This avoids some kinds of bugs that occur when list contents change."
   ]
  },
  {
   "cell_type": "code",
   "execution_count": null,
   "metadata": {
    "id": "Si9p-YFIBhtT"
   },
   "outputs": [],
   "source": [
    "t = (1, 2, 3)"
   ]
  },
  {
   "cell_type": "code",
   "execution_count": null,
   "metadata": {
    "colab": {
     "base_uri": "https://localhost:8080/",
     "height": 181
    },
    "executionInfo": {
     "elapsed": 502,
     "status": "error",
     "timestamp": 1599523564242,
     "user": {
      "displayName": "John Kitchin",
      "photoUrl": "",
      "userId": "14782011281593705406"
     },
     "user_tz": 240
    },
    "id": "uhVG9U6NCJwD",
    "outputId": "8832a8e9-9398-48b5-c213-814665e74016"
   },
   "outputs": [
    {
     "ename": "TypeError",
     "evalue": "ignored",
     "output_type": "error",
     "traceback": [
      "\u001b[0;31m---------------------------------------------------------------------------\u001b[0m",
      "\u001b[0;31mTypeError\u001b[0m                                 Traceback (most recent call last)",
      "\u001b[0;32m<ipython-input-30-ad071f0ffadd>\u001b[0m in \u001b[0;36m<module>\u001b[0;34m()\u001b[0m\n\u001b[1;32m      1\u001b[0m \u001b[0;34m\u001b[0m\u001b[0m\n\u001b[0;32m----> 2\u001b[0;31m \u001b[0mt\u001b[0m\u001b[0;34m[\u001b[0m\u001b[0;36m0\u001b[0m\u001b[0;34m]\u001b[0m \u001b[0;34m=\u001b[0m \u001b[0;36m0\u001b[0m\u001b[0;34m\u001b[0m\u001b[0;34m\u001b[0m\u001b[0m\n\u001b[0m",
      "\u001b[0;31mTypeError\u001b[0m: 'tuple' object does not support item assignment"
     ]
    }
   ],
   "source": [
    "# you cannot change an element in a tuple\n",
    "t[0] = 0"
   ]
  },
  {
   "cell_type": "markdown",
   "metadata": {
    "id": "PcS3rvhyB803"
   },
   "source": [
    "Similar to lists, you can repeat and add them. "
   ]
  },
  {
   "cell_type": "code",
   "execution_count": null,
   "metadata": {
    "colab": {
     "base_uri": "https://localhost:8080/",
     "height": 34
    },
    "executionInfo": {
     "elapsed": 550,
     "status": "ok",
     "timestamp": 1599523591277,
     "user": {
      "displayName": "John Kitchin",
      "photoUrl": "",
      "userId": "14782011281593705406"
     },
     "user_tz": 240
    },
    "id": "lDnPkiWtB21b",
    "outputId": "68f8d2e4-f3dd-4d83-8153-68849d96e197"
   },
   "outputs": [
    {
     "data": {
      "text/plain": [
       "(1, 2, 3, 1, 2, 3)"
      ]
     },
     "execution_count": 31,
     "metadata": {
      "tags": []
     },
     "output_type": "execute_result"
    }
   ],
   "source": [
    "t * 2"
   ]
  },
  {
   "cell_type": "code",
   "execution_count": null,
   "metadata": {
    "colab": {
     "base_uri": "https://localhost:8080/",
     "height": 34
    },
    "executionInfo": {
     "elapsed": 701,
     "status": "ok",
     "timestamp": 1599523593421,
     "user": {
      "displayName": "John Kitchin",
      "photoUrl": "",
      "userId": "14782011281593705406"
     },
     "user_tz": 240
    },
    "id": "Q1gIHHwRB63x",
    "outputId": "28dcb935-26be-46f4-9973-f547cc7d47b7"
   },
   "outputs": [
    {
     "data": {
      "text/plain": [
       "(1, 2, 3, 1, 2, 3)"
      ]
     },
     "execution_count": 32,
     "metadata": {
      "tags": []
     },
     "output_type": "execute_result"
    }
   ],
   "source": [
    "t + t"
   ]
  },
  {
   "cell_type": "code",
   "execution_count": null,
   "metadata": {
    "colab": {
     "base_uri": "https://localhost:8080/",
     "height": 34
    },
    "executionInfo": {
     "elapsed": 529,
     "status": "ok",
     "timestamp": 1599523594822,
     "user": {
      "displayName": "John Kitchin",
      "photoUrl": "",
      "userId": "14782011281593705406"
     },
     "user_tz": 240
    },
    "id": "ZgkzLoRoB73i",
    "outputId": "b6528db0-ce19-4d29-dd77-e9b68d84bdd9"
   },
   "outputs": [
    {
     "data": {
      "text/plain": [
       "(1, 2, 3, 5)"
      ]
     },
     "execution_count": 33,
     "metadata": {
      "tags": []
     },
     "output_type": "execute_result"
    }
   ],
   "source": [
    "# You can add to a tuple though. that might seem like a mutation, but items 0-2 remain the same.\n",
    "t += (5,)\n",
    "t"
   ]
  },
  {
   "cell_type": "code",
   "execution_count": null,
   "metadata": {
    "id": "kNZnMKawCAoA"
   },
   "outputs": [],
   "source": []
  },
  {
   "cell_type": "markdown",
   "metadata": {
    "id": "AQwoG2VzCqV3"
   },
   "source": [
    "# Numpy arrays\n",
    "\n",
    "Numpy arrays are like lists, but you can use them for math purposes. You create them from a list, or from a numpy function."
   ]
  },
  {
   "cell_type": "code",
   "execution_count": null,
   "metadata": {
    "id": "haYjuJytCy_A"
   },
   "outputs": [],
   "source": [
    "import numpy as np\n",
    "\n",
    "n = np.array([1, 2, 3])"
   ]
  },
  {
   "cell_type": "markdown",
   "metadata": {
    "id": "vraZK6FOC5oU"
   },
   "source": [
    "Most math operations are elementwise."
   ]
  },
  {
   "cell_type": "code",
   "execution_count": null,
   "metadata": {
    "colab": {
     "base_uri": "https://localhost:8080/",
     "height": 34
    },
    "executionInfo": {
     "elapsed": 697,
     "status": "ok",
     "timestamp": 1599523775592,
     "user": {
      "displayName": "John Kitchin",
      "photoUrl": "",
      "userId": "14782011281593705406"
     },
     "user_tz": 240
    },
    "id": "G2TgEnGzC5Jg",
    "outputId": "354f47fb-9e99-43be-daa8-07a3b6302e84"
   },
   "outputs": [
    {
     "data": {
      "text/plain": [
       "(array([3, 4, 5]), array([ 1,  0, -1]))"
      ]
     },
     "execution_count": 35,
     "metadata": {
      "tags": []
     },
     "output_type": "execute_result"
    }
   ],
   "source": [
    "2 + n, 2 - n"
   ]
  },
  {
   "cell_type": "code",
   "execution_count": null,
   "metadata": {
    "colab": {
     "base_uri": "https://localhost:8080/",
     "height": 34
    },
    "executionInfo": {
     "elapsed": 548,
     "status": "ok",
     "timestamp": 1599523781024,
     "user": {
      "displayName": "John Kitchin",
      "photoUrl": "",
      "userId": "14782011281593705406"
     },
     "user_tz": 240
    },
    "id": "X-yHVDi9C3Kn",
    "outputId": "1a9d8507-1a7b-469c-eca1-c2e34db8aab2"
   },
   "outputs": [
    {
     "data": {
      "text/plain": [
       "(array([2, 4, 6]), array([2.        , 1.        , 0.66666667]))"
      ]
     },
     "execution_count": 36,
     "metadata": {
      "tags": []
     },
     "output_type": "execute_result"
    }
   ],
   "source": [
    "2 * n, 2 / n"
   ]
  },
  {
   "cell_type": "code",
   "execution_count": null,
   "metadata": {
    "colab": {
     "base_uri": "https://localhost:8080/",
     "height": 34
    },
    "executionInfo": {
     "elapsed": 1081,
     "status": "ok",
     "timestamp": 1599523834881,
     "user": {
      "displayName": "John Kitchin",
      "photoUrl": "",
      "userId": "14782011281593705406"
     },
     "user_tz": 240
    },
    "id": "ZvwDrq25C_cf",
    "outputId": "9aa9745d-68ad-4c5f-ad48-5314fa1cff7d"
   },
   "outputs": [
    {
     "data": {
      "text/plain": [
       "array([1, 2, 3, 1, 2, 3])"
      ]
     },
     "execution_count": 38,
     "metadata": {
      "tags": []
     },
     "output_type": "execute_result"
    }
   ],
   "source": [
    "# we need a function to concatenate arrays\n",
    "np.concatenate((n, n))"
   ]
  },
  {
   "cell_type": "code",
   "execution_count": null,
   "metadata": {
    "id": "BQfMHGAtDEme"
   },
   "outputs": [],
   "source": []
  },
  {
   "cell_type": "markdown",
   "metadata": {
    "id": "a9ZPAMvEF8_v"
   },
   "source": [
    "# Avoid mutable default arguments\n",
    "Why did I go to the trouble of describing mutable and immutable? Because you can run into to trouble. Here is one example of this. Suppose we write a function to collect $n$ random integers"
   ]
  },
  {
   "cell_type": "code",
   "execution_count": null,
   "metadata": {
    "id": "ksSxMeZ6GG6T"
   },
   "outputs": [],
   "source": [
    "def bad_func(n=2, L=[]):\n",
    "    for i in range(n):\n",
    "        L += [np.random.randint(10)]\n",
    "    return L"
   ]
  },
  {
   "cell_type": "code",
   "execution_count": null,
   "metadata": {
    "colab": {
     "base_uri": "https://localhost:8080/",
     "height": 34
    },
    "executionInfo": {
     "elapsed": 990,
     "status": "ok",
     "timestamp": 1599525031747,
     "user": {
      "displayName": "John Kitchin",
      "photoUrl": "",
      "userId": "14782011281593705406"
     },
     "user_tz": 240
    },
    "id": "OdNWv_fyGLnU",
    "outputId": "c6594610-c8b2-4bd4-cf4b-94218f97459e"
   },
   "outputs": [
    {
     "data": {
      "text/plain": [
       "[8, 4]"
      ]
     },
     "execution_count": 57,
     "metadata": {
      "tags": []
     },
     "output_type": "execute_result"
    }
   ],
   "source": [
    "bad_func()"
   ]
  },
  {
   "cell_type": "code",
   "execution_count": null,
   "metadata": {
    "colab": {
     "base_uri": "https://localhost:8080/",
     "height": 34
    },
    "executionInfo": {
     "elapsed": 799,
     "status": "ok",
     "timestamp": 1599525034817,
     "user": {
      "displayName": "John Kitchin",
      "photoUrl": "",
      "userId": "14782011281593705406"
     },
     "user_tz": 240
    },
    "id": "4ucd_PPXGMOU",
    "outputId": "f9ffa041-0ef1-4bd1-c108-3f36a6f08c15"
   },
   "outputs": [
    {
     "data": {
      "text/plain": [
       "[8, 4, 1, 1]"
      ]
     },
     "execution_count": 58,
     "metadata": {
      "tags": []
     },
     "output_type": "execute_result"
    }
   ],
   "source": [
    "bad_func()  # Surprise! you get 4 numbers, including the first two."
   ]
  },
  {
   "cell_type": "code",
   "execution_count": null,
   "metadata": {
    "colab": {
     "base_uri": "https://localhost:8080/",
     "height": 34
    },
    "executionInfo": {
     "elapsed": 552,
     "status": "ok",
     "timestamp": 1599525036631,
     "user": {
      "displayName": "John Kitchin",
      "photoUrl": "",
      "userId": "14782011281593705406"
     },
     "user_tz": 240
    },
    "id": "OWPNcHEAGM-t",
    "outputId": "a4a2cfda-cdad-4368-a0d9-2cc232d177e6"
   },
   "outputs": [
    {
     "data": {
      "text/plain": [
       "[0, 0, 3, 1, 8]"
      ]
     },
     "execution_count": 59,
     "metadata": {
      "tags": []
     },
     "output_type": "execute_result"
    }
   ],
   "source": [
    "bad_func(n=3, L=[0, 0])  # Another surprise if you specify L."
   ]
  },
  {
   "cell_type": "code",
   "execution_count": null,
   "metadata": {
    "colab": {
     "base_uri": "https://localhost:8080/",
     "height": 34
    },
    "executionInfo": {
     "elapsed": 661,
     "status": "ok",
     "timestamp": 1599525038961,
     "user": {
      "displayName": "John Kitchin",
      "photoUrl": "",
      "userId": "14782011281593705406"
     },
     "user_tz": 240
    },
    "id": "kdbqFWuWHhAE",
    "outputId": "769c7fe2-15e9-4c90-d0e4-2114ecd54784"
   },
   "outputs": [
    {
     "data": {
      "text/plain": [
       "[8, 4, 1, 1, 3, 5]"
      ]
     },
     "execution_count": 60,
     "metadata": {
      "tags": []
     },
     "output_type": "execute_result"
    }
   ],
   "source": [
    "bad_func()  # And yet another surprise"
   ]
  },
  {
   "cell_type": "markdown",
   "metadata": {
    "id": "wQXOh_jnH2Ko"
   },
   "source": [
    "The big lesson here is DO NOT USE MUTABLE DEFAULT ARGUMENTS!\n",
    "\n",
    "Here is a better way to do this."
   ]
  },
  {
   "cell_type": "code",
   "execution_count": null,
   "metadata": {
    "id": "UQXNbP7nH-uZ"
   },
   "outputs": [],
   "source": [
    "def good_func(n=2, L=None):\n",
    "    if L is None:\n",
    "        L = []\n",
    "    for i in range(n):\n",
    "        L += [np.random.randint(10)]\n",
    "    return L"
   ]
  },
  {
   "cell_type": "code",
   "execution_count": null,
   "metadata": {
    "colab": {
     "base_uri": "https://localhost:8080/",
     "height": 34
    },
    "executionInfo": {
     "elapsed": 630,
     "status": "ok",
     "timestamp": 1599525146384,
     "user": {
      "displayName": "John Kitchin",
      "photoUrl": "",
      "userId": "14782011281593705406"
     },
     "user_tz": 240
    },
    "id": "K5oMSM3JIK-Y",
    "outputId": "fa5a28b3-e591-4531-9a2e-f3719fea15f4"
   },
   "outputs": [
    {
     "data": {
      "text/plain": [
       "[2, 6]"
      ]
     },
     "execution_count": 62,
     "metadata": {
      "tags": []
     },
     "output_type": "execute_result"
    }
   ],
   "source": [
    "good_func()"
   ]
  },
  {
   "cell_type": "code",
   "execution_count": null,
   "metadata": {
    "colab": {
     "base_uri": "https://localhost:8080/",
     "height": 34
    },
    "executionInfo": {
     "elapsed": 907,
     "status": "ok",
     "timestamp": 1599525152791,
     "user": {
      "displayName": "John Kitchin",
      "photoUrl": "",
      "userId": "14782011281593705406"
     },
     "user_tz": 240
    },
    "id": "37ozRiziIMxa",
    "outputId": "8fffee1f-cd7b-49df-d1b6-ba91146bf0b2"
   },
   "outputs": [
    {
     "data": {
      "text/plain": [
       "[8, 1]"
      ]
     },
     "execution_count": 63,
     "metadata": {
      "tags": []
     },
     "output_type": "execute_result"
    }
   ],
   "source": [
    "good_func()"
   ]
  },
  {
   "cell_type": "code",
   "execution_count": null,
   "metadata": {
    "colab": {
     "base_uri": "https://localhost:8080/",
     "height": 34
    },
    "executionInfo": {
     "elapsed": 1128,
     "status": "ok",
     "timestamp": 1599525159684,
     "user": {
      "displayName": "John Kitchin",
      "photoUrl": "",
      "userId": "14782011281593705406"
     },
     "user_tz": 240
    },
    "id": "CheiYw4KIORS",
    "outputId": "fa632919-74d3-4d23-afd9-6cc6360ccc95"
   },
   "outputs": [
    {
     "data": {
      "text/plain": [
       "[0, 0, 8, 9]"
      ]
     },
     "execution_count": 64,
     "metadata": {
      "tags": []
     },
     "output_type": "execute_result"
    }
   ],
   "source": [
    "good_func(L=[0, 0])"
   ]
  },
  {
   "cell_type": "code",
   "execution_count": null,
   "metadata": {
    "id": "cnJKZYf7IP0G"
   },
   "outputs": [],
   "source": []
  }
 ],
 "metadata": {
  "colab": {
   "name": "01-followups.ipynb",
   "provenance": []
  },
  "kernelspec": {
   "display_name": "Python 3",
   "name": "python3"
  }
 },
 "nbformat": 4,
 "nbformat_minor": 0
}
