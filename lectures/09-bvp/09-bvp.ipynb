{
 "cells": [
  {
   "cell_type": "markdown",
   "metadata": {
    "id": "Se7N4ritLxA0"
   },
   "source": [
    "[TOC](../toc.ipynb)\n",
    "\n",
    "Boundary Value Problems in differential equations\n",
    "=================================================\n",
    "\n",
    "- KEYWORDS: scipy.integrate.solve_bvp, numpy.polyfit\n"
   ]
  },
  {
   "cell_type": "markdown",
   "metadata": {
    "id": "0-2UcGuBxhVo"
   },
   "source": [
    "![image](https://www.simiode.org/app/site/media/Humor/CS172712_hi-deferentialequations.jpg)"
   ]
  },
  {
   "cell_type": "markdown",
   "metadata": {
    "id": "OX_x007xkdYS"
   },
   "source": [
    "So far we have focused on *initial value* ordinary differential equations. That means all the initial conditions are defined at the *same* independent variable value. \n",
    "\n",
    "Sometimes that is not the case, and the initial conditions are defined at *different* independent variable values. These problems are called *boundary value* problems, because we only know part of the solution at different boundaries.\n",
    "\n",
    "We cannot solve these directly with `solve_ivp`, we need some different approaches."
   ]
  },
  {
   "cell_type": "markdown",
   "metadata": {
    "id": "kRWOdhYPLxA4"
   },
   "source": [
    "## Solving nonlinear BVPs by finite differences\n",
    "\n"
   ]
  },
  {
   "cell_type": "markdown",
   "metadata": {
    "id": "iLgHYpaELxA7"
   },
   "source": [
    "Adapted from Example 8.7 in <span class=\"underline\">Numerical Methods in Engineering with Python</span> by Jaan Kiusalaas.\n",
    "\n",
    "We want to solve $y''(x) = -3 y(x) y'(x)$ with $y(0) = 0$ and $y(2) = 1$.\n",
    "\n",
    "This is a boundary value problem *not an initial value problem*. First we consider using a finite difference method. We discretize the region and approximate the derivatives as:\n",
    "\n",
    "$y''(x) \\approx \\frac{y_{i-1} - 2 y_i + y_{i+1}}{h^2} $\n",
    "\n",
    "$y'(x) \\approx \\frac{y_{i+1} - y_{i-1}}{2 h} $\n",
    "\n",
    "We define a function $y''(x) = F(x, y, y')$. At each node in our discretized region, we will have an equation that looks like $y''(x) - F(x, y, y') = 0$, which will be nonlinear in the unknown solution $y$. The set of equations to solve is:\n",
    "\n",
    "\\begin{eqnarray}\n",
    "y_0 - \\alpha &=& 0 \\\\\n",
    "\\frac{y_{i-1} - 2 y_i + y_{i+1}}{h^2} + (3 y_i) \\left(\\frac{y_{i+1} - y_{i-1}}{2 h}\\right) &=& 0 \\\\\n",
    "y_L - \\beta &=&0\n",
    "\\end{eqnarray}\n",
    "\n",
    "Since we use a nonlinear solver, we will have to provide an initial guess to the solution. We will in this case assume a line. In other cases, a bad initial guess may lead to no solution."
   ]
  },
  {
   "cell_type": "code",
   "execution_count": 2,
   "metadata": {
    "id": "89a_84vXLxA-"
   },
   "outputs": [],
   "source": [
    "import numpy as np\n",
    "from scipy.optimize import root\n",
    "import matplotlib.pyplot as plt\n",
    "\n",
    "x1 = 0.0\n",
    "x2 = 2.0\n",
    "\n",
    "alpha = 0.0\n",
    "beta = 1.0"
   ]
  },
  {
   "cell_type": "markdown",
   "metadata": {
    "id": "OPPw2c0eLxBQ"
   },
   "source": [
    "We need to specify a grid of points to discretize the solution on. We will start with a small grid because it is easy to visualize, but note that the grid spacing determines how good the approximation to the derivative is, so we will have to return here to see what the impact of our spacing is.\n",
    "\n"
   ]
  },
  {
   "cell_type": "code",
   "execution_count": 3,
   "metadata": {
    "colab": {
     "base_uri": "https://localhost:8080/"
    },
    "executionInfo": {
     "elapsed": 408,
     "status": "ok",
     "timestamp": 1633437623958,
     "user": {
      "displayName": "John Kitchin",
      "photoUrl": "https://lh3.googleusercontent.com/a/default-user=s64",
      "userId": "14782011281593705406"
     },
     "user_tz": 240
    },
    "id": "lWmTMzjXLxBS",
    "outputId": "592a9f2d-f32b-4c57-eb70-08d7d7e9a966"
   },
   "outputs": [
    {
     "data": {
      "text/plain": [
       "(array([0.        , 0.22222222, 0.44444444, 0.66666667, 0.88888889,\n",
       "        1.11111111, 1.33333333, 1.55555556, 1.77777778, 2.        ]),\n",
       " 0.2222222222222222)"
      ]
     },
     "execution_count": 3,
     "metadata": {},
     "output_type": "execute_result"
    }
   ],
   "source": [
    "N = 10\n",
    "X, h = np.linspace(x1, x2, N, retstep=True)\n",
    "X, h"
   ]
  },
  {
   "cell_type": "markdown",
   "metadata": {
    "id": "j2wpaNjvLxBe"
   },
   "source": [
    "Now, we can define functions for the differential equation, and for the nonlinear equations.\n",
    "\n"
   ]
  },
  {
   "cell_type": "code",
   "execution_count": 4,
   "metadata": {
    "id": "eDyv1rP5LxBg"
   },
   "outputs": [],
   "source": [
    "def residuals(y):\n",
    "    \"When we have the right values of y, this function will be zero.\"\n",
    "\n",
    "    res = np.zeros(y.shape)  # we need a zero for each node\n",
    "\n",
    "    res[0] = y[0] - alpha  # this is the boundary value y(alpha) = 0\n",
    "\n",
    "    for i in range(1, N - 1):\n",
    "        x = X[i]  # we don't actually need this, but this is the current x-point\n",
    "\n",
    "        # Approximation of y'' from the current point\n",
    "        YPP = (y[i - 1] - 2 * y[i] + y[i + 1]) / h**2\n",
    "\n",
    "        # Approximation of y'\n",
    "        YP = (y[i + 1] - y[i - 1]) / (2 * h)\n",
    "\n",
    "        # y'' + 3 * y * y' = 0\n",
    "        res[i] = YPP + 3 * y[i] * YP\n",
    "\n",
    "    res[-1] = y[-1] - beta  # y(beta) = 0\n",
    "\n",
    "    return res"
   ]
  },
  {
   "cell_type": "code",
   "execution_count": 5,
   "metadata": {
    "colab": {
     "base_uri": "https://localhost:8080/"
    },
    "executionInfo": {
     "elapsed": 172,
     "status": "ok",
     "timestamp": 1633437631026,
     "user": {
      "displayName": "John Kitchin",
      "photoUrl": "https://lh3.googleusercontent.com/a/default-user=s64",
      "userId": "14782011281593705406"
     },
     "user_tz": 240
    },
    "id": "Ntt28cfd5HUJ",
    "outputId": "e97976f0-d2df-4c23-edd4-9c32c6651d59"
   },
   "outputs": [
    {
     "data": {
      "text/plain": [
       "array([0.        , 0.66666667, 1.33333333, 2.        , 2.66666667,\n",
       "       3.33333333, 4.        , 4.66666667, 5.33333333, 1.        ])"
      ]
     },
     "execution_count": 5,
     "metadata": {},
     "output_type": "execute_result"
    }
   ],
   "source": [
    "residuals(X)"
   ]
  },
  {
   "cell_type": "markdown",
   "metadata": {
    "id": "6uDz77r0LxBr"
   },
   "source": [
    "We need a guess, and here we guess a line. It is always a good idea to plot your guess just to make sure it does what you want. Here, we want it to have the right boundary values.\n",
    "\n"
   ]
  },
  {
   "cell_type": "code",
   "execution_count": 6,
   "metadata": {
    "colab": {
     "base_uri": "https://localhost:8080/",
     "height": 1000
    },
    "executionInfo": {
     "elapsed": 271,
     "status": "ok",
     "timestamp": 1633437632966,
     "user": {
      "displayName": "John Kitchin",
      "photoUrl": "https://lh3.googleusercontent.com/a/default-user=s64",
      "userId": "14782011281593705406"
     },
     "user_tz": 240
    },
    "id": "PUVF_9lRLxBt",
    "outputId": "ac840423-57c3-44c7-ea20-f0755ce49cff"
   },
   "outputs": [
    {
     "data": {
      "text/plain": [
       "array([0.        , 0.11111111, 0.22222222, 0.33333333, 0.44444444,\n",
       "       0.55555556, 0.66666667, 0.77777778, 0.88888889, 1.        ])"
      ]
     },
     "execution_count": 6,
     "metadata": {},
     "output_type": "execute_result"
    },
    {
     "data": {
      "image/png": "[encoded data removed]",
      "text/plain": [
       "<Figure size 432x288 with 1 Axes>"
      ]
     },
     "metadata": {
      "needs_background": "light"
     },
     "output_type": "display_data"
    }
   ],
   "source": [
    "# we need an initial guess\n",
    "# a line from (x1, alpha) to (x2, beta)\n",
    "init = alpha + (beta - alpha) / (x2 - x1) * X  # an array\n",
    "plt.plot(X, init, \"r.\")\n",
    "init"
   ]
  },
  {
   "cell_type": "markdown",
   "metadata": {
    "id": "6GOxE6jJLxB4"
   },
   "source": [
    "We should check our residuals function. We mostly want to see that it runs, and produces the right shaped output.\n",
    "\n"
   ]
  },
  {
   "cell_type": "code",
   "execution_count": 7,
   "metadata": {
    "id": "XBMuVkbYLxB7"
   },
   "outputs": [
    {
     "data": {
      "text/plain": [
       "array([0.        , 0.16666667, 0.33333333, 0.5       , 0.66666667,\n",
       "       0.83333333, 1.        , 1.16666667, 1.33333333, 0.        ])"
      ]
     },
     "execution_count": 7,
     "metadata": {},
     "output_type": "execute_result"
    }
   ],
   "source": [
    "residuals(init)"
   ]
  },
  {
   "cell_type": "markdown",
   "metadata": {
    "id": "mF-u0n7pLxCC"
   },
   "source": [
    "Now, we solve the BVP.\n",
    "\n"
   ]
  },
  {
   "cell_type": "code",
   "execution_count": 8,
   "metadata": {
    "colab": {
     "base_uri": "https://localhost:8080/",
     "height": 296
    },
    "executionInfo": {
     "elapsed": 5216,
     "status": "ok",
     "timestamp": 1633437641765,
     "user": {
      "displayName": "John Kitchin",
      "photoUrl": "https://lh3.googleusercontent.com/a/default-user=s64",
      "userId": "14782011281593705406"
     },
     "user_tz": 240
    },
    "id": "qnMkgyC2LxCE",
    "outputId": "5553a952-0618-443c-ab33-9f849167ac42"
   },
   "outputs": [
    {
     "data": {
      "text/plain": [
       "    fjac: array([[-5.12147520e-02, -9.98687663e-01, -4.47558657e-16,\n",
       "         9.05525654e-16,  8.70831185e-16, -1.21864324e-15,\n",
       "        -5.89805982e-16,  2.43728648e-16,  1.92554306e-16,\n",
       "         0.00000000e+00],\n",
       "       [ 1.03407577e-01, -5.30295264e-03,  9.94289014e-01,\n",
       "        -1.98270636e-02, -6.76892125e-03, -2.45845848e-03,\n",
       "        -1.26052263e-02,  1.26552583e-03,  7.91458834e-03,\n",
       "         0.00000000e+00],\n",
       "       [ 1.72006383e-01, -8.82084014e-03,  5.29544034e-06,\n",
       "         9.76968653e-01, -1.02899810e-01,  3.37945832e-02,\n",
       "        -4.96633691e-02, -1.25242192e-02,  3.89165378e-02,\n",
       "         0.00000000e+00],\n",
       "       [-3.66998678e-01,  1.88204450e-02,  3.37517807e-02,\n",
       "        -1.49137499e-02, -9.03862626e-01, -1.23932748e-01,\n",
       "         1.09342295e-01,  7.21024709e-02, -1.18805226e-01,\n",
       "         0.00000000e+00],\n",
       "       [-3.37125829e-01,  1.72885040e-02,  4.05954862e-02,\n",
       "         1.34606046e-01,  2.97424623e-01, -8.52687734e-01,\n",
       "         1.46232846e-01,  9.90065119e-02, -1.39844162e-01,\n",
       "         0.00000000e+00],\n",
       "       [-5.98181854e-01,  3.06759925e-02,  6.09981272e-02,\n",
       "         1.00442711e-01,  1.90878388e-01,  2.99137840e-01,\n",
       "        -5.91341477e-01,  2.47890973e-01, -3.00624782e-01,\n",
       "         0.00000000e+00],\n",
       "       [ 4.05949148e-01, -2.08179050e-02, -5.78810796e-02,\n",
       "        -1.19159376e-01, -1.99510256e-01, -3.64234670e-01,\n",
       "        -6.60730451e-01,  3.75690963e-01,  2.58926751e-01,\n",
       "         0.00000000e+00],\n",
       "       [ 2.58918497e-01, -1.32778716e-02, -1.95597949e-02,\n",
       "        -1.34610387e-03,  3.69963009e-02,  1.30189577e-01,\n",
       "         3.55458352e-01,  7.79526318e-01, -4.24347193e-01,\n",
       "         0.00000000e+00],\n",
       "       [ 3.45109900e-01, -1.76979436e-02, -3.38910642e-02,\n",
       "        -5.00841670e-02, -7.95558305e-02, -1.31592233e-01,\n",
       "        -2.26792337e-01, -4.17834385e-01, -7.91999324e-01,\n",
       "         0.00000000e+00],\n",
       "       [ 0.00000000e+00, -0.00000000e+00, -0.00000000e+00,\n",
       "        -0.00000000e+00, -0.00000000e+00,  0.00000000e+00,\n",
       "         0.00000000e+00,  0.00000000e+00,  0.00000000e+00,\n",
       "        -1.00000000e+00]])\n",
       "     fun: array([-1.77928174e-24,  1.88617344e-10, -8.08311640e-10,  1.85495663e-09,\n",
       "       -2.00028138e-09,  5.30350541e-10,  7.04126257e-10, -8.99436609e-10,\n",
       "        4.29967839e-10,  0.00000000e+00])\n",
       " message: 'The solution converged.'\n",
       "    nfev: 20\n",
       "     qtf: array([-4.33644075e-09,  2.47101254e-08, -2.00726364e-08,  5.16586187e-08,\n",
       "        7.09100043e-09, -5.45144919e-08, -4.98890554e-08,  2.37152204e-08,\n",
       "        1.02200844e-08,  0.00000000e+00])\n",
       "       r: array([-1.95256242e+01,  3.85745194e+01, -2.19685334e+01, -5.46147857e-01,\n",
       "       -2.87907247e-01, -6.49649120e-01, -1.44691117e-01,  5.84830144e-01,\n",
       "        4.54971636e-01,  6.38378239e-15,  1.91048326e+01, -3.77000819e+01,\n",
       "        2.45619813e+01,  3.40720171e-01, -5.83457603e-01,  5.74054473e-01,\n",
       "       -2.22906134e-01, -4.63284547e-01,  2.07757944e-01,  1.61235942e+01,\n",
       "       -3.97881049e+01,  2.77171236e+01, -5.19802376e+00,  1.53825027e+00,\n",
       "        3.08183740e-01, -1.07549108e+00,  1.02155912e+00, -1.16511107e+01,\n",
       "        3.27654969e+01, -1.72001343e+01, -7.81783633e+00, -2.16192120e+00,\n",
       "        6.31185300e+00, -3.11863718e+00, -2.13789426e+01,  4.24439059e+01,\n",
       "       -2.62609112e+01, -2.82381416e+00,  8.25973168e+00, -3.67090924e+00,\n",
       "       -1.49079514e+01,  3.51306134e+01, -2.83544429e+01,  1.80485352e+01,\n",
       "       -7.89140053e+00,  2.20736210e+01, -2.83479736e+01, -9.23367821e-01,\n",
       "        6.79682722e+00, -2.78029107e+01,  3.64961469e+01, -1.11391138e+01,\n",
       "        2.05118122e+01, -2.07899822e+01, -1.00000000e+00])\n",
       "  status: 1\n",
       " success: True\n",
       "       x: array([-1.77928174e-24,  3.35880968e-01,  6.04124016e-01,  7.82441153e-01,\n",
       "        8.86984418e-01,  9.43815504e-01,  9.73445490e-01,  9.88557508e-01,\n",
       "        9.96178548e-01,  1.00000000e+00])"
      ]
     },
     "execution_count": 8,
     "metadata": {},
     "output_type": "execute_result"
    }
   ],
   "source": [
    "sol = root(residuals, init)\n",
    "sol"
   ]
  },
  {
   "cell_type": "code",
   "execution_count": 15,
   "metadata": {},
   "outputs": [
    {
     "data": {
      "image/png": "[encoded data removed]",
      "text/plain": [
       "<Figure size 432x288 with 1 Axes>"
      ]
     },
     "metadata": {
      "needs_background": "light"
     },
     "output_type": "display_data"
    }
   ],
   "source": [
    "Y = sol.x\n",
    "plt.plot(X, Y)\n",
    "plt.xlabel(\"x\")\n",
    "plt.ylabel(\"y\");"
   ]
  },
  {
   "cell_type": "code",
   "execution_count": 16,
   "metadata": {
    "id": "5RlUfwXscQbl"
   },
   "outputs": [
    {
     "name": "stdout",
     "output_type": "stream",
     "text": [
      "[-0.  0. -0.  0. -0.  0.  0. -0.  0.  0.]\n"
     ]
    }
   ],
   "source": [
    "with np.printoptions(suppress=True):\n",
    "    print(residuals(Y))"
   ]
  },
  {
   "cell_type": "code",
   "execution_count": 17,
   "metadata": {
    "colab": {
     "base_uri": "https://localhost:8080/"
    },
    "executionInfo": {
     "elapsed": 127,
     "status": "ok",
     "timestamp": 1633437650768,
     "user": {
      "displayName": "John Kitchin",
      "photoUrl": "https://lh3.googleusercontent.com/a/default-user=s64",
      "userId": "14782011281593705406"
     },
     "user_tz": 240
    },
    "id": "z8z4pfi26AoR",
    "outputId": "1d71c42c-51d5-4560-dfce-3cbeef734cc9"
   },
   "outputs": [
    {
     "data": {
      "text/plain": [
       "True"
      ]
     },
     "execution_count": 17,
     "metadata": {},
     "output_type": "execute_result"
    }
   ],
   "source": [
    "np.allclose(residuals(Y), 0, atol=1e-7)  # shows that we got a good solution"
   ]
  },
  {
   "cell_type": "code",
   "execution_count": 18,
   "metadata": {
    "colab": {
     "base_uri": "https://localhost:8080/"
    },
    "executionInfo": {
     "elapsed": 120,
     "status": "ok",
     "timestamp": 1633437659253,
     "user": {
      "displayName": "John Kitchin",
      "photoUrl": "https://lh3.googleusercontent.com/a/default-user=s64",
      "userId": "14782011281593705406"
     },
     "user_tz": 240
    },
    "id": "YAShzuKp7MCj",
    "outputId": "e9cc4548-cbda-47c5-e4e2-28b0d95a2002"
   },
   "outputs": [
    {
     "data": {
      "text/plain": [
       "1.854956632740823e-09"
      ]
     },
     "execution_count": 18,
     "metadata": {},
     "output_type": "execute_result"
    }
   ],
   "source": [
    "residuals(Y).max()"
   ]
  },
  {
   "cell_type": "markdown",
   "metadata": {
    "id": "SyLde_-7LxCK"
   },
   "source": [
    "The solution is has some apparent kinks because we only used about 10 points. How can you tell if the solution is correct? We can estimate the derivatives, and see how well they fit the equation. We look for:\n",
    "\n",
    "$y'' + 3 y y' = 0$ for all $x$.\n",
    "\n"
   ]
  },
  {
   "cell_type": "code",
   "execution_count": 19,
   "metadata": {
    "colab": {
     "base_uri": "https://localhost:8080/",
     "height": 279
    },
    "executionInfo": {
     "elapsed": 306,
     "status": "ok",
     "timestamp": 1633437666819,
     "user": {
      "displayName": "John Kitchin",
      "photoUrl": "https://lh3.googleusercontent.com/a/default-user=s64",
      "userId": "14782011281593705406"
     },
     "user_tz": 240
    },
    "id": "hhzq-YsxLxCL",
    "outputId": "b5565e04-60ae-498b-c046-904573e9c271"
   },
   "outputs": [
    {
     "data": {
      "image/png": "[encoded data removed]",
      "text/plain": [
       "<Figure size 432x288 with 1 Axes>"
      ]
     },
     "metadata": {
      "needs_background": "light"
     },
     "output_type": "display_data"
    }
   ],
   "source": [
    "yp = np.gradient(Y, X, edge_order=2)\n",
    "ypp = np.gradient(yp, X, edge_order=2)\n",
    "\n",
    "plt.plot(X, ypp + 3 * Y * yp)  # This should be zero everywhere\n",
    "plt.xlabel(\"x\")\n",
    "plt.ylabel(\"residuals\");"
   ]
  },
  {
   "cell_type": "code",
   "execution_count": 20,
   "metadata": {
    "colab": {
     "base_uri": "https://localhost:8080/"
    },
    "executionInfo": {
     "elapsed": 113,
     "status": "ok",
     "timestamp": 1633437503789,
     "user": {
      "displayName": "John Kitchin",
      "photoUrl": "https://lh3.googleusercontent.com/a/default-user=s64",
      "userId": "14782011281593705406"
     },
     "user_tz": 240
    },
    "id": "TySAWx9_9q9J",
    "outputId": "d7b00b72-70b4-4612-8ff3-958e85e5b4f9"
   },
   "outputs": [
    {
     "data": {
      "text/plain": [
       "-1.7792817396280564e-24"
      ]
     },
     "execution_count": 20,
     "metadata": {},
     "output_type": "execute_result"
    }
   ],
   "source": [
    "Y[0]"
   ]
  },
  {
   "cell_type": "markdown",
   "metadata": {
    "id": "hFJ4s9e7LxCQ"
   },
   "source": [
    "This result doesn't look great at the origin, but remember:\n",
    "\n",
    "1.  we used a coarse grid, so the derivative *approximations* are probably not that accurate\n",
    "2.  Numerical derivatives at the end-points are less accurate than in the middle.\n",
    "\n",
    "**exercise** Go back and repeat this for a finer grid, e.g. with 50, 100 points.\n",
    "\n",
    "The approach described here is pretty general. Here, we were able to solve a second-order BVP by discretizing it, approximating the derivatives at the points, and solving the corresponding nonlinear algebra equations. This approach can be extended in a variety of ways, including to systems of equations, and to 2D or 3D systems (where this approach is called finite-element). You will see these kinds of problems extensively in the spring semster in the Transport class.\n",
    "\n",
    "As we have seen before, however, there are functions in `scipy` that can help solve these problems.\n",
    "\n"
   ]
  },
  {
   "cell_type": "markdown",
   "metadata": {
    "id": "KX9FVaqWLxCQ"
   },
   "source": [
    "## Introduction to solve_bvp\n",
    "\n"
   ]
  },
  {
   "cell_type": "code",
   "execution_count": 21,
   "metadata": {
    "id": "GHNyBgF3LxCR"
   },
   "outputs": [
    {
     "data": {
      "text/plain": [
       "\u001b[0;31mSignature:\u001b[0m\n",
       "\u001b[0msolve_bvp\u001b[0m\u001b[0;34m(\u001b[0m\u001b[0;34m\u001b[0m\n",
       "\u001b[0;34m\u001b[0m    \u001b[0mfun\u001b[0m\u001b[0;34m,\u001b[0m\u001b[0;34m\u001b[0m\n",
       "\u001b[0;34m\u001b[0m    \u001b[0mbc\u001b[0m\u001b[0;34m,\u001b[0m\u001b[0;34m\u001b[0m\n",
       "\u001b[0;34m\u001b[0m    \u001b[0mx\u001b[0m\u001b[0;34m,\u001b[0m\u001b[0;34m\u001b[0m\n",
       "\u001b[0;34m\u001b[0m    \u001b[0my\u001b[0m\u001b[0;34m,\u001b[0m\u001b[0;34m\u001b[0m\n",
       "\u001b[0;34m\u001b[0m    \u001b[0mp\u001b[0m\u001b[0;34m=\u001b[0m\u001b[0;32mNone\u001b[0m\u001b[0;34m,\u001b[0m\u001b[0;34m\u001b[0m\n",
       "\u001b[0;34m\u001b[0m    \u001b[0mS\u001b[0m\u001b[0;34m=\u001b[0m\u001b[0;32mNone\u001b[0m\u001b[0;34m,\u001b[0m\u001b[0;34m\u001b[0m\n",
       "\u001b[0;34m\u001b[0m    \u001b[0mfun_jac\u001b[0m\u001b[0;34m=\u001b[0m\u001b[0;32mNone\u001b[0m\u001b[0;34m,\u001b[0m\u001b[0;34m\u001b[0m\n",
       "\u001b[0;34m\u001b[0m    \u001b[0mbc_jac\u001b[0m\u001b[0;34m=\u001b[0m\u001b[0;32mNone\u001b[0m\u001b[0;34m,\u001b[0m\u001b[0;34m\u001b[0m\n",
       "\u001b[0;34m\u001b[0m    \u001b[0mtol\u001b[0m\u001b[0;34m=\u001b[0m\u001b[0;36m0.001\u001b[0m\u001b[0;34m,\u001b[0m\u001b[0;34m\u001b[0m\n",
       "\u001b[0;34m\u001b[0m    \u001b[0mmax_nodes\u001b[0m\u001b[0;34m=\u001b[0m\u001b[0;36m1000\u001b[0m\u001b[0;34m,\u001b[0m\u001b[0;34m\u001b[0m\n",
       "\u001b[0;34m\u001b[0m    \u001b[0mverbose\u001b[0m\u001b[0;34m=\u001b[0m\u001b[0;36m0\u001b[0m\u001b[0;34m,\u001b[0m\u001b[0;34m\u001b[0m\n",
       "\u001b[0;34m\u001b[0m    \u001b[0mbc_tol\u001b[0m\u001b[0;34m=\u001b[0m\u001b[0;32mNone\u001b[0m\u001b[0;34m,\u001b[0m\u001b[0;34m\u001b[0m\n",
       "\u001b[0;34m\u001b[0m\u001b[0;34m)\u001b[0m\u001b[0;34m\u001b[0m\u001b[0;34m\u001b[0m\u001b[0m\n",
       "\u001b[0;31mDocstring:\u001b[0m\n",
       "Solve a boundary value problem for a system of ODEs.\n",
       "\n",
       "This function numerically solves a first order system of ODEs subject to\n",
       "two-point boundary conditions::\n",
       "\n",
       "    dy / dx = f(x, y, p) + S * y / (x - a), a <= x <= b\n",
       "    bc(y(a), y(b), p) = 0\n",
       "\n",
       "Here x is a 1-D independent variable, y(x) is an N-D\n",
       "vector-valued function and p is a k-D vector of unknown\n",
       "parameters which is to be found along with y(x). For the problem to be\n",
       "determined, there must be n + k boundary conditions, i.e., bc must be an\n",
       "(n + k)-D function.\n",
       "\n",
       "The last singular term on the right-hand side of the system is optional.\n",
       "It is defined by an n-by-n matrix S, such that the solution must satisfy\n",
       "S y(a) = 0. This condition will be forced during iterations, so it must not\n",
       "contradict boundary conditions. See [2]_ for the explanation how this term\n",
       "is handled when solving BVPs numerically.\n",
       "\n",
       "Problems in a complex domain can be solved as well. In this case, y and p\n",
       "are considered to be complex, and f and bc are assumed to be complex-valued\n",
       "functions, but x stays real. Note that f and bc must be complex\n",
       "differentiable (satisfy Cauchy-Riemann equations [4]_), otherwise you\n",
       "should rewrite your problem for real and imaginary parts separately. To\n",
       "solve a problem in a complex domain, pass an initial guess for y with a\n",
       "complex data type (see below).\n",
       "\n",
       "Parameters\n",
       "----------\n",
       "fun : callable\n",
       "    Right-hand side of the system. The calling signature is ``fun(x, y)``,\n",
       "    or ``fun(x, y, p)`` if parameters are present. All arguments are\n",
       "    ndarray: ``x`` with shape (m,), ``y`` with shape (n, m), meaning that\n",
       "    ``y[:, i]`` corresponds to ``x[i]``, and ``p`` with shape (k,). The\n",
       "    return value must be an array with shape (n, m) and with the same\n",
       "    layout as ``y``.\n",
       "bc : callable\n",
       "    Function evaluating residuals of the boundary conditions. The calling\n",
       "    signature is ``bc(ya, yb)``, or ``bc(ya, yb, p)`` if parameters are\n",
       "    present. All arguments are ndarray: ``ya`` and ``yb`` with shape (n,),\n",
       "    and ``p`` with shape (k,). The return value must be an array with\n",
       "    shape (n + k,).\n",
       "x : array_like, shape (m,)\n",
       "    Initial mesh. Must be a strictly increasing sequence of real numbers\n",
       "    with ``x[0]=a`` and ``x[-1]=b``.\n",
       "y : array_like, shape (n, m)\n",
       "    Initial guess for the function values at the mesh nodes, ith column\n",
       "    corresponds to ``x[i]``. For problems in a complex domain pass `y`\n",
       "    with a complex data type (even if the initial guess is purely real).\n",
       "p : array_like with shape (k,) or None, optional\n",
       "    Initial guess for the unknown parameters. If None (default), it is\n",
       "    assumed that the problem doesn't depend on any parameters.\n",
       "S : array_like with shape (n, n) or None\n",
       "    Matrix defining the singular term. If None (default), the problem is\n",
       "    solved without the singular term.\n",
       "fun_jac : callable or None, optional\n",
       "    Function computing derivatives of f with respect to y and p. The\n",
       "    calling signature is ``fun_jac(x, y)``, or ``fun_jac(x, y, p)`` if\n",
       "    parameters are present. The return must contain 1 or 2 elements in the\n",
       "    following order:\n",
       "\n",
       "        * df_dy : array_like with shape (n, n, m), where an element\n",
       "          (i, j, q) equals to d f_i(x_q, y_q, p) / d (y_q)_j.\n",
       "        * df_dp : array_like with shape (n, k, m), where an element\n",
       "          (i, j, q) equals to d f_i(x_q, y_q, p) / d p_j.\n",
       "\n",
       "    Here q numbers nodes at which x and y are defined, whereas i and j\n",
       "    number vector components. If the problem is solved without unknown\n",
       "    parameters, df_dp should not be returned.\n",
       "\n",
       "    If `fun_jac` is None (default), the derivatives will be estimated\n",
       "    by the forward finite differences.\n",
       "bc_jac : callable or None, optional\n",
       "    Function computing derivatives of bc with respect to ya, yb, and p.\n",
       "    The calling signature is ``bc_jac(ya, yb)``, or ``bc_jac(ya, yb, p)``\n",
       "    if parameters are present. The return must contain 2 or 3 elements in\n",
       "    the following order:\n",
       "\n",
       "        * dbc_dya : array_like with shape (n, n), where an element (i, j)\n",
       "          equals to d bc_i(ya, yb, p) / d ya_j.\n",
       "        * dbc_dyb : array_like with shape (n, n), where an element (i, j)\n",
       "          equals to d bc_i(ya, yb, p) / d yb_j.\n",
       "        * dbc_dp : array_like with shape (n, k), where an element (i, j)\n",
       "          equals to d bc_i(ya, yb, p) / d p_j.\n",
       "\n",
       "    If the problem is solved without unknown parameters, dbc_dp should not\n",
       "    be returned.\n",
       "\n",
       "    If `bc_jac` is None (default), the derivatives will be estimated by\n",
       "    the forward finite differences.\n",
       "tol : float, optional\n",
       "    Desired tolerance of the solution. If we define ``r = y' - f(x, y)``,\n",
       "    where y is the found solution, then the solver tries to achieve on each\n",
       "    mesh interval ``norm(r / (1 + abs(f)) < tol``, where ``norm`` is\n",
       "    estimated in a root mean squared sense (using a numerical quadrature\n",
       "    formula). Default is 1e-3.\n",
       "max_nodes : int, optional\n",
       "    Maximum allowed number of the mesh nodes. If exceeded, the algorithm\n",
       "    terminates. Default is 1000.\n",
       "verbose : {0, 1, 2}, optional\n",
       "    Level of algorithm's verbosity:\n",
       "\n",
       "        * 0 (default) : work silently.\n",
       "        * 1 : display a termination report.\n",
       "        * 2 : display progress during iterations.\n",
       "bc_tol : float, optional\n",
       "    Desired absolute tolerance for the boundary condition residuals: `bc`\n",
       "    value should satisfy ``abs(bc) < bc_tol`` component-wise.\n",
       "    Equals to `tol` by default. Up to 10 iterations are allowed to achieve this\n",
       "    tolerance.\n",
       "\n",
       "Returns\n",
       "-------\n",
       "Bunch object with the following fields defined:\n",
       "sol : PPoly\n",
       "    Found solution for y as `scipy.interpolate.PPoly` instance, a C1\n",
       "    continuous cubic spline.\n",
       "p : ndarray or None, shape (k,)\n",
       "    Found parameters. None, if the parameters were not present in the\n",
       "    problem.\n",
       "x : ndarray, shape (m,)\n",
       "    Nodes of the final mesh.\n",
       "y : ndarray, shape (n, m)\n",
       "    Solution values at the mesh nodes.\n",
       "yp : ndarray, shape (n, m)\n",
       "    Solution derivatives at the mesh nodes.\n",
       "rms_residuals : ndarray, shape (m - 1,)\n",
       "    RMS values of the relative residuals over each mesh interval (see the\n",
       "    description of `tol` parameter).\n",
       "niter : int\n",
       "    Number of completed iterations.\n",
       "status : int\n",
       "    Reason for algorithm termination:\n",
       "\n",
       "        * 0: The algorithm converged to the desired accuracy.\n",
       "        * 1: The maximum number of mesh nodes is exceeded.\n",
       "        * 2: A singular Jacobian encountered when solving the collocation\n",
       "          system.\n",
       "\n",
       "message : string\n",
       "    Verbal description of the termination reason.\n",
       "success : bool\n",
       "    True if the algorithm converged to the desired accuracy (``status=0``).\n",
       "\n",
       "Notes\n",
       "-----\n",
       "This function implements a 4th order collocation algorithm with the\n",
       "control of residuals similar to [1]_. A collocation system is solved\n",
       "by a damped Newton method with an affine-invariant criterion function as\n",
       "described in [3]_.\n",
       "\n",
       "Note that in [1]_  integral residuals are defined without normalization\n",
       "by interval lengths. So, their definition is different by a multiplier of\n",
       "h**0.5 (h is an interval length) from the definition used here.\n",
       "\n",
       ".. versionadded:: 0.18.0\n",
       "\n",
       "References\n",
       "----------\n",
       ".. [1] J. Kierzenka, L. F. Shampine, \"A BVP Solver Based on Residual\n",
       "       Control and the Maltab PSE\", ACM Trans. Math. Softw., Vol. 27,\n",
       "       Number 3, pp. 299-316, 2001.\n",
       ".. [2] L.F. Shampine, P. H. Muir and H. Xu, \"A User-Friendly Fortran BVP\n",
       "       Solver\".\n",
       ".. [3] U. Ascher, R. Mattheij and R. Russell \"Numerical Solution of\n",
       "       Boundary Value Problems for Ordinary Differential Equations\".\n",
       ".. [4] `Cauchy-Riemann equations\n",
       "        <https://en.wikipedia.org/wiki/Cauchy-Riemann_equations>`_ on\n",
       "        Wikipedia.\n",
       "\n",
       "Examples\n",
       "--------\n",
       "In the first example, we solve Bratu's problem::\n",
       "\n",
       "    y'' + k * exp(y) = 0\n",
       "    y(0) = y(1) = 0\n",
       "\n",
       "for k = 1.\n",
       "\n",
       "We rewrite the equation as a first-order system and implement its\n",
       "right-hand side evaluation::\n",
       "\n",
       "    y1' = y2\n",
       "    y2' = -exp(y1)\n",
       "\n",
       ">>> def fun(x, y):\n",
       "...     return np.vstack((y[1], -np.exp(y[0])))\n",
       "\n",
       "Implement evaluation of the boundary condition residuals:\n",
       "\n",
       ">>> def bc(ya, yb):\n",
       "...     return np.array([ya[0], yb[0]])\n",
       "\n",
       "Define the initial mesh with 5 nodes:\n",
       "\n",
       ">>> x = np.linspace(0, 1, 5)\n",
       "\n",
       "This problem is known to have two solutions. To obtain both of them, we\n",
       "use two different initial guesses for y. We denote them by subscripts\n",
       "a and b.\n",
       "\n",
       ">>> y_a = np.zeros((2, x.size))\n",
       ">>> y_b = np.zeros((2, x.size))\n",
       ">>> y_b[0] = 3\n",
       "\n",
       "Now we are ready to run the solver.\n",
       "\n",
       ">>> from scipy.integrate import solve_bvp\n",
       ">>> res_a = solve_bvp(fun, bc, x, y_a)\n",
       ">>> res_b = solve_bvp(fun, bc, x, y_b)\n",
       "\n",
       "Let's plot the two found solutions. We take an advantage of having the\n",
       "solution in a spline form to produce a smooth plot.\n",
       "\n",
       ">>> x_plot = np.linspace(0, 1, 100)\n",
       ">>> y_plot_a = res_a.sol(x_plot)[0]\n",
       ">>> y_plot_b = res_b.sol(x_plot)[0]\n",
       ">>> import matplotlib.pyplot as plt\n",
       ">>> plt.plot(x_plot, y_plot_a, label='y_a')\n",
       ">>> plt.plot(x_plot, y_plot_b, label='y_b')\n",
       ">>> plt.legend()\n",
       ">>> plt.xlabel(\"x\")\n",
       ">>> plt.ylabel(\"y\")\n",
       ">>> plt.show()\n",
       "\n",
       "We see that the two solutions have similar shape, but differ in scale\n",
       "significantly.\n",
       "\n",
       "In the second example, we solve a simple Sturm-Liouville problem::\n",
       "\n",
       "    y'' + k**2 * y = 0\n",
       "    y(0) = y(1) = 0\n",
       "\n",
       "It is known that a non-trivial solution y = A * sin(k * x) is possible for\n",
       "k = pi * n, where n is an integer. To establish the normalization constant\n",
       "A = 1 we add a boundary condition::\n",
       "\n",
       "    y'(0) = k\n",
       "\n",
       "Again, we rewrite our equation as a first-order system and implement its\n",
       "right-hand side evaluation::\n",
       "\n",
       "    y1' = y2\n",
       "    y2' = -k**2 * y1\n",
       "\n",
       ">>> def fun(x, y, p):\n",
       "...     k = p[0]\n",
       "...     return np.vstack((y[1], -k**2 * y[0]))\n",
       "\n",
       "Note that parameters p are passed as a vector (with one element in our\n",
       "case).\n",
       "\n",
       "Implement the boundary conditions:\n",
       "\n",
       ">>> def bc(ya, yb, p):\n",
       "...     k = p[0]\n",
       "...     return np.array([ya[0], yb[0], ya[1] - k])\n",
       "\n",
       "Set up the initial mesh and guess for y. We aim to find the solution for\n",
       "k = 2 * pi, to achieve that we set values of y to approximately follow\n",
       "sin(2 * pi * x):\n",
       "\n",
       ">>> x = np.linspace(0, 1, 5)\n",
       ">>> y = np.zeros((2, x.size))\n",
       ">>> y[0, 1] = 1\n",
       ">>> y[0, 3] = -1\n",
       "\n",
       "Run the solver with 6 as an initial guess for k.\n",
       "\n",
       ">>> sol = solve_bvp(fun, bc, x, y, p=[6])\n",
       "\n",
       "We see that the found k is approximately correct:\n",
       "\n",
       ">>> sol.p[0]\n",
       "6.28329460046\n",
       "\n",
       "And, finally, plot the solution to see the anticipated sinusoid:\n",
       "\n",
       ">>> x_plot = np.linspace(0, 1, 100)\n",
       ">>> y_plot = sol.sol(x_plot)[0]\n",
       ">>> plt.plot(x_plot, y_plot)\n",
       ">>> plt.xlabel(\"x\")\n",
       ">>> plt.ylabel(\"y\")\n",
       ">>> plt.show()\n",
       "\u001b[0;31mFile:\u001b[0m      /opt/conda/lib/python3.9/site-packages/scipy/integrate/_bvp.py\n",
       "\u001b[0;31mType:\u001b[0m      function\n"
      ]
     },
     "metadata": {},
     "output_type": "display_data"
    }
   ],
   "source": [
    "from scipy.integrate import solve_bvp\n",
    "\n",
    "solve_bvp?"
   ]
  },
  {
   "cell_type": "markdown",
   "metadata": {
    "id": "Yc7RjZtOLxCV"
   },
   "source": [
    "### A worked bvp problem\n",
    "\n"
   ]
  },
  {
   "cell_type": "markdown",
   "metadata": {
    "id": "ek8t5PXFLxCW"
   },
   "source": [
    "In the pressure driven flow of a fluid with viscosity $\\mu$ between two stationary plates separated by distance $d$ and driven by a pressure drop $\\Delta P/\\Delta x$, the governing equations on the velocity $u$ of the fluid are (assuming flow in the x-direction with the velocity varying only in the y-direction):\n",
    "\n",
    "$$\\frac{\\Delta P}{\\Delta x} = \\mu \\frac{d^2u}{dy^2}$$\n",
    "\n",
    "with boundary conditions $u(y=0) = 0$ and $u(y=d) = 0$, i.e. the no-slip condition at the edges of the plate.\n",
    "\n",
    "we convert this second order BVP to a system of ODEs by letting $u_1 = u$, $u_2 = u_1'$ and then $u_2' = u_1''$. This leads to:\n",
    "\n",
    "$\\frac{d u_1}{dy} = u_2$\n",
    "\n",
    "$\\frac{d u_2}{dy} = \\frac{1}{\\mu}\\frac{\\Delta P}{\\Delta x}$\n",
    "\n",
    "with boundary conditions $u_1(y=0) = 0$ and $u_1(y=d) = 0$.\n",
    "\n",
    "for this problem we let the plate separation be d=0.1, the viscosity $\\mu = 1$, and $\\frac{\\Delta P}{\\Delta x} = -100$.\n",
    "\n"
   ]
  },
  {
   "cell_type": "code",
   "execution_count": 22,
   "metadata": {
    "id": "45QPZV-PLxCX"
   },
   "outputs": [],
   "source": [
    "import numpy as np\n",
    "\n",
    "d = 0.1\n",
    "mu = 1\n",
    "deltaPdeltax = -100"
   ]
  },
  {
   "cell_type": "markdown",
   "metadata": {
    "id": "ODalRQuBLxCb"
   },
   "source": [
    "The function defining the BVP has to return an array that has a row for each equation, and a column for each value in the grid.\n",
    "\n"
   ]
  },
  {
   "cell_type": "code",
   "execution_count": 23,
   "metadata": {
    "id": "PSI9po9KLxCb"
   },
   "outputs": [],
   "source": [
    "def bvp(y, U):\n",
    "    u1, u2 = U\n",
    "    du1dy = u2\n",
    "    du2dy = np.ones(y.shape) / mu * deltaPdeltax  # this is an array now\n",
    "    return [du1dy, du2dy]"
   ]
  },
  {
   "cell_type": "markdown",
   "metadata": {
    "id": "weK5ZosdLxCf"
   },
   "source": [
    "The boundary condition function will get the whole numeric solution at each boundary. We want $u1(a) = 0$ and $u1(b)=0$.\n",
    "\n"
   ]
  },
  {
   "cell_type": "code",
   "execution_count": 24,
   "metadata": {
    "id": "sXeU1N2YLxCg"
   },
   "outputs": [],
   "source": [
    "def bc(Ua, Ub):\n",
    "    u1a, u2a = Ua\n",
    "    u1b, u2b = Ub\n",
    "    return [u1a, u1b]  # u1(a) = 0  # u1(b) = 0"
   ]
  },
  {
   "cell_type": "markdown",
   "metadata": {
    "id": "cZc_dkZVLxCk"
   },
   "source": [
    "Next, we need an initial guess for u1 and u2 on a grid of points. You have to make some decisions here. You need a guess that is reasonably close, but not hard to construct. Here, we anticipate a solution that looks parabolic, and that goes through the points: (0, 0), (d, 0), and some point at (d / 2, ?), where ? represents the point of maximum velocity in middle. We can easily get this polynomial with np.polyfit.\n",
    "\n"
   ]
  },
  {
   "cell_type": "code",
   "execution_count": 25,
   "metadata": {
    "id": "U-5VCW7XLxCk"
   },
   "outputs": [
    {
     "data": {
      "text/plain": [
       "\u001b[0;31mSignature:\u001b[0m \u001b[0mnp\u001b[0m\u001b[0;34m.\u001b[0m\u001b[0mpolyfit\u001b[0m\u001b[0;34m(\u001b[0m\u001b[0mx\u001b[0m\u001b[0;34m,\u001b[0m \u001b[0my\u001b[0m\u001b[0;34m,\u001b[0m \u001b[0mdeg\u001b[0m\u001b[0;34m,\u001b[0m \u001b[0mrcond\u001b[0m\u001b[0;34m=\u001b[0m\u001b[0;32mNone\u001b[0m\u001b[0;34m,\u001b[0m \u001b[0mfull\u001b[0m\u001b[0;34m=\u001b[0m\u001b[0;32mFalse\u001b[0m\u001b[0;34m,\u001b[0m \u001b[0mw\u001b[0m\u001b[0;34m=\u001b[0m\u001b[0;32mNone\u001b[0m\u001b[0;34m,\u001b[0m \u001b[0mcov\u001b[0m\u001b[0;34m=\u001b[0m\u001b[0;32mFalse\u001b[0m\u001b[0;34m)\u001b[0m\u001b[0;34m\u001b[0m\u001b[0;34m\u001b[0m\u001b[0m\n",
       "\u001b[0;31mDocstring:\u001b[0m\n",
       "Least squares polynomial fit.\n",
       "\n",
       ".. note::\n",
       "   This forms part of the old polynomial API. Since version 1.4, the\n",
       "   new polynomial API defined in `numpy.polynomial` is preferred.\n",
       "   A summary of the differences can be found in the\n",
       "   :doc:`transition guide </reference/routines.polynomials>`.\n",
       "\n",
       "Fit a polynomial ``p(x) = p[0] * x**deg + ... + p[deg]`` of degree `deg`\n",
       "to points `(x, y)`. Returns a vector of coefficients `p` that minimises\n",
       "the squared error in the order `deg`, `deg-1`, ... `0`.\n",
       "\n",
       "The `Polynomial.fit <numpy.polynomial.polynomial.Polynomial.fit>` class\n",
       "method is recommended for new code as it is more stable numerically. See\n",
       "the documentation of the method for more information.\n",
       "\n",
       "Parameters\n",
       "----------\n",
       "x : array_like, shape (M,)\n",
       "    x-coordinates of the M sample points ``(x[i], y[i])``.\n",
       "y : array_like, shape (M,) or (M, K)\n",
       "    y-coordinates of the sample points. Several data sets of sample\n",
       "    points sharing the same x-coordinates can be fitted at once by\n",
       "    passing in a 2D-array that contains one dataset per column.\n",
       "deg : int\n",
       "    Degree of the fitting polynomial\n",
       "rcond : float, optional\n",
       "    Relative condition number of the fit. Singular values smaller than\n",
       "    this relative to the largest singular value will be ignored. The\n",
       "    default value is len(x)*eps, where eps is the relative precision of\n",
       "    the float type, about 2e-16 in most cases.\n",
       "full : bool, optional\n",
       "    Switch determining nature of return value. When it is False (the\n",
       "    default) just the coefficients are returned, when True diagnostic\n",
       "    information from the singular value decomposition is also returned.\n",
       "w : array_like, shape (M,), optional\n",
       "    Weights to apply to the y-coordinates of the sample points. For\n",
       "    gaussian uncertainties, use 1/sigma (not 1/sigma**2).\n",
       "cov : bool or str, optional\n",
       "    If given and not `False`, return not just the estimate but also its\n",
       "    covariance matrix. By default, the covariance are scaled by\n",
       "    chi2/dof, where dof = M - (deg + 1), i.e., the weights are presumed \n",
       "    to be unreliable except in a relative sense and everything is scaled \n",
       "    such that the reduced chi2 is unity. This scaling is omitted if \n",
       "    ``cov='unscaled'``, as is relevant for the case that the weights are \n",
       "    1/sigma**2, with sigma known to be a reliable estimate of the \n",
       "    uncertainty.\n",
       "\n",
       "Returns\n",
       "-------\n",
       "p : ndarray, shape (deg + 1,) or (deg + 1, K)\n",
       "    Polynomial coefficients, highest power first.  If `y` was 2-D, the\n",
       "    coefficients for `k`-th data set are in ``p[:,k]``.\n",
       "\n",
       "residuals, rank, singular_values, rcond\n",
       "    Present only if `full` = True.  Residuals is sum of squared residuals\n",
       "    of the least-squares fit, the effective rank of the scaled Vandermonde\n",
       "    coefficient matrix, its singular values, and the specified value of\n",
       "    `rcond`. For more details, see `linalg.lstsq`.\n",
       "\n",
       "V : ndarray, shape (M,M) or (M,M,K)\n",
       "    Present only if `full` = False and `cov`=True.  The covariance\n",
       "    matrix of the polynomial coefficient estimates.  The diagonal of\n",
       "    this matrix are the variance estimates for each coefficient.  If y\n",
       "    is a 2-D array, then the covariance matrix for the `k`-th data set\n",
       "    are in ``V[:,:,k]``\n",
       "\n",
       "\n",
       "Warns\n",
       "-----\n",
       "RankWarning\n",
       "    The rank of the coefficient matrix in the least-squares fit is\n",
       "    deficient. The warning is only raised if `full` = False.\n",
       "\n",
       "    The warnings can be turned off by\n",
       "\n",
       "    >>> import warnings\n",
       "    >>> warnings.simplefilter('ignore', np.RankWarning)\n",
       "\n",
       "See Also\n",
       "--------\n",
       "polyval : Compute polynomial values.\n",
       "linalg.lstsq : Computes a least-squares fit.\n",
       "scipy.interpolate.UnivariateSpline : Computes spline fits.\n",
       "\n",
       "Notes\n",
       "-----\n",
       "The solution minimizes the squared error\n",
       "\n",
       ".. math ::\n",
       "    E = \\sum_{j=0}^k |p(x_j) - y_j|^2\n",
       "\n",
       "in the equations::\n",
       "\n",
       "    x[0]**n * p[0] + ... + x[0] * p[n-1] + p[n] = y[0]\n",
       "    x[1]**n * p[0] + ... + x[1] * p[n-1] + p[n] = y[1]\n",
       "    ...\n",
       "    x[k]**n * p[0] + ... + x[k] * p[n-1] + p[n] = y[k]\n",
       "\n",
       "The coefficient matrix of the coefficients `p` is a Vandermonde matrix.\n",
       "\n",
       "`polyfit` issues a `RankWarning` when the least-squares fit is badly\n",
       "conditioned. This implies that the best fit is not well-defined due\n",
       "to numerical error. The results may be improved by lowering the polynomial\n",
       "degree or by replacing `x` by `x` - `x`.mean(). The `rcond` parameter\n",
       "can also be set to a value smaller than its default, but the resulting\n",
       "fit may be spurious: including contributions from the small singular\n",
       "values can add numerical noise to the result.\n",
       "\n",
       "Note that fitting polynomial coefficients is inherently badly conditioned\n",
       "when the degree of the polynomial is large or the interval of sample points\n",
       "is badly centered. The quality of the fit should always be checked in these\n",
       "cases. When polynomial fits are not satisfactory, splines may be a good\n",
       "alternative.\n",
       "\n",
       "References\n",
       "----------\n",
       ".. [1] Wikipedia, \"Curve fitting\",\n",
       "       https://en.wikipedia.org/wiki/Curve_fitting\n",
       ".. [2] Wikipedia, \"Polynomial interpolation\",\n",
       "       https://en.wikipedia.org/wiki/Polynomial_interpolation\n",
       "\n",
       "Examples\n",
       "--------\n",
       ">>> import warnings\n",
       ">>> x = np.array([0.0, 1.0, 2.0, 3.0,  4.0,  5.0])\n",
       ">>> y = np.array([0.0, 0.8, 0.9, 0.1, -0.8, -1.0])\n",
       ">>> z = np.polyfit(x, y, 3)\n",
       ">>> z\n",
       "array([ 0.08703704, -0.81349206,  1.69312169, -0.03968254]) # may vary\n",
       "\n",
       "It is convenient to use `poly1d` objects for dealing with polynomials:\n",
       "\n",
       ">>> p = np.poly1d(z)\n",
       ">>> p(0.5)\n",
       "0.6143849206349179 # may vary\n",
       ">>> p(3.5)\n",
       "-0.34732142857143039 # may vary\n",
       ">>> p(10)\n",
       "22.579365079365115 # may vary\n",
       "\n",
       "High-order polynomials may oscillate wildly:\n",
       "\n",
       ">>> with warnings.catch_warnings():\n",
       "...     warnings.simplefilter('ignore', np.RankWarning)\n",
       "...     p30 = np.poly1d(np.polyfit(x, y, 30))\n",
       "...\n",
       ">>> p30(4)\n",
       "-0.80000000000000204 # may vary\n",
       ">>> p30(5)\n",
       "-0.99999999999999445 # may vary\n",
       ">>> p30(4.5)\n",
       "-0.10547061179440398 # may vary\n",
       "\n",
       "Illustration:\n",
       "\n",
       ">>> import matplotlib.pyplot as plt\n",
       ">>> xp = np.linspace(-2, 6, 100)\n",
       ">>> _ = plt.plot(x, y, '.', xp, p(xp), '-', xp, p30(xp), '--')\n",
       ">>> plt.ylim(-2,2)\n",
       "(-2, 2)\n",
       ">>> plt.show()\n",
       "\u001b[0;31mFile:\u001b[0m      /opt/conda/lib/python3.9/site-packages/numpy/lib/polynomial.py\n",
       "\u001b[0;31mType:\u001b[0m      function\n"
      ]
     },
     "metadata": {},
     "output_type": "display_data"
    }
   ],
   "source": [
    "?np.polyfit"
   ]
  },
  {
   "cell_type": "markdown",
   "metadata": {
    "id": "vltdMXfrLxCu"
   },
   "source": [
    "We don't know what the maximum velocity is, so we make a guess, say 0.5. Then, we get the parameters, and apply them to an array of y values.\n",
    "\n"
   ]
  },
  {
   "cell_type": "code",
   "execution_count": 26,
   "metadata": {
    "colab": {
     "base_uri": "https://localhost:8080/"
    },
    "executionInfo": {
     "elapsed": 118,
     "status": "ok",
     "timestamp": 1633439329629,
     "user": {
      "displayName": "John Kitchin",
      "photoUrl": "https://lh3.googleusercontent.com/a/default-user=s64",
      "userId": "14782011281593705406"
     },
     "user_tz": 240
    },
    "id": "86QlLL52LxCv",
    "outputId": "428e7f62-d5db-46ee-facf-2b8fee125324"
   },
   "outputs": [
    {
     "data": {
      "text/plain": [
       "array([-2.000000e+02,  2.000000e+01, -5.437225e-16])"
      ]
     },
     "execution_count": 26,
     "metadata": {},
     "output_type": "execute_result"
    }
   ],
   "source": [
    "pars = np.polyfit(\n",
    "    [0, d / 2, d], [0, 0.5, 0], 2  # x-points  # y-points\n",
    ")  # polynomial order = 2\n",
    "pars"
   ]
  },
  {
   "cell_type": "markdown",
   "metadata": {
    "id": "aMm60gomLxC0"
   },
   "source": [
    "Now, we can define a Y grid and define the guess for the first U1.\n",
    "\n"
   ]
  },
  {
   "cell_type": "code",
   "execution_count": 27,
   "metadata": {
    "colab": {
     "base_uri": "https://localhost:8080/"
    },
    "executionInfo": {
     "elapsed": 133,
     "status": "ok",
     "timestamp": 1633439348948,
     "user": {
      "displayName": "John Kitchin",
      "photoUrl": "https://lh3.googleusercontent.com/a/default-user=s64",
      "userId": "14782011281593705406"
     },
     "user_tz": 240
    },
    "id": "qnu7ce6uLxC1",
    "outputId": "7091ea94-8543-441a-dfc3-60b13a42b27a"
   },
   "outputs": [
    {
     "data": {
      "text/plain": [
       "array([-5.43722500e-16,  3.99833403e-02,  7.83007080e-02,  1.14952103e-01,\n",
       "        1.49937526e-01,  1.83256976e-01,  2.14910454e-01,  2.44897959e-01,\n",
       "        2.73219492e-01,  2.99875052e-01,  3.24864640e-01,  3.48188255e-01,\n",
       "        3.69845898e-01,  3.89837568e-01,  4.08163265e-01,  4.24822990e-01,\n",
       "        4.39816743e-01,  4.53144523e-01,  4.64806331e-01,  4.74802166e-01,\n",
       "        4.83132028e-01,  4.89795918e-01,  4.94793836e-01,  4.98125781e-01,\n",
       "        4.99791753e-01,  4.99791753e-01,  4.98125781e-01,  4.94793836e-01,\n",
       "        4.89795918e-01,  4.83132028e-01,  4.74802166e-01,  4.64806331e-01,\n",
       "        4.53144523e-01,  4.39816743e-01,  4.24822990e-01,  4.08163265e-01,\n",
       "        3.89837568e-01,  3.69845898e-01,  3.48188255e-01,  3.24864640e-01,\n",
       "        2.99875052e-01,  2.73219492e-01,  2.44897959e-01,  2.14910454e-01,\n",
       "        1.83256976e-01,  1.49937526e-01,  1.14952103e-01,  7.83007080e-02,\n",
       "        3.99833403e-02,  1.66820236e-16])"
      ]
     },
     "execution_count": 27,
     "metadata": {},
     "output_type": "execute_result"
    }
   ],
   "source": [
    "Y = np.linspace(0, d)\n",
    "\n",
    "U1 = np.polyval(pars, Y)\n",
    "U1"
   ]
  },
  {
   "cell_type": "code",
   "execution_count": 28,
   "metadata": {
    "colab": {
     "base_uri": "https://localhost:8080/",
     "height": 265
    },
    "executionInfo": {
     "elapsed": 308,
     "status": "ok",
     "timestamp": 1633439371815,
     "user": {
      "displayName": "John Kitchin",
      "photoUrl": "https://lh3.googleusercontent.com/a/default-user=s64",
      "userId": "14782011281593705406"
     },
     "user_tz": 240
    },
    "id": "SrOCBNdEkqby",
    "outputId": "f77986fa-ae53-4477-db77-6a6774853535"
   },
   "outputs": [
    {
     "data": {
      "image/png": "[encoded data removed]",
      "text/plain": [
       "<Figure size 432x288 with 1 Axes>"
      ]
     },
     "metadata": {
      "needs_background": "light"
     },
     "output_type": "display_data"
    }
   ],
   "source": [
    "plt.plot(Y, U1);"
   ]
  },
  {
   "cell_type": "markdown",
   "metadata": {
    "id": "OKb3PJdQLxC7"
   },
   "source": [
    "We also need a guess for U2, and in this case we know that $u2 = u1'$, so we just use that.\n",
    "\n"
   ]
  },
  {
   "cell_type": "code",
   "execution_count": 29,
   "metadata": {
    "colab": {
     "base_uri": "https://localhost:8080/"
    },
    "executionInfo": {
     "elapsed": 112,
     "status": "ok",
     "timestamp": 1633439438779,
     "user": {
      "displayName": "John Kitchin",
      "photoUrl": "https://lh3.googleusercontent.com/a/default-user=s64",
      "userId": "14782011281593705406"
     },
     "user_tz": 240
    },
    "id": "SjxGfbXPLxC9",
    "outputId": "b8752812-9565-4fd3-84ab-928b9ae53497"
   },
   "outputs": [
    {
     "name": "stdout",
     "output_type": "stream",
     "text": [
      "(2, 50)\n"
     ]
    }
   ],
   "source": [
    "U2 = np.gradient(U1, Y, edge_order=2)\n",
    "\n",
    "U = np.array([U1, U2])\n",
    "print(U.shape)"
   ]
  },
  {
   "cell_type": "markdown",
   "metadata": {
    "id": "urG4qGJLLxDC"
   },
   "source": [
    "You should *always* visualize the guess to make sure it does what you want. It is **hard** to make these!\n",
    "\n"
   ]
  },
  {
   "cell_type": "code",
   "execution_count": 30,
   "metadata": {
    "colab": {
     "base_uri": "https://localhost:8080/",
     "height": 279
    },
    "executionInfo": {
     "elapsed": 269,
     "status": "ok",
     "timestamp": 1633439926104,
     "user": {
      "displayName": "John Kitchin",
      "photoUrl": "https://lh3.googleusercontent.com/a/default-user=s64",
      "userId": "14782011281593705406"
     },
     "user_tz": 240
    },
    "id": "sDmAb8qyLxDD",
    "outputId": "760bbf69-6d9c-43e8-f5f3-5e32b35bd42c"
   },
   "outputs": [
    {
     "data": {
      "image/png": "[encoded data removed]",
      "text/plain": [
       "<Figure size 432x288 with 1 Axes>"
      ]
     },
     "metadata": {
      "needs_background": "light"
     },
     "output_type": "display_data"
    }
   ],
   "source": [
    "import matplotlib.pyplot as plt\n",
    "\n",
    "plt.plot(Y, U[0], label=\"u1\")\n",
    "plt.tick_params(\"y\", colors=\"b\")\n",
    "plt.ylabel(\"u1\")\n",
    "plt.xlabel(\"y\")\n",
    "plt.legend([\"u1\"])\n",
    "\n",
    "# plt.twinx()\n",
    "plt.plot(Y, 0.01 * U[1], \"r\", label=\"0.01 * u2\")\n",
    "plt.tick_params(\"y\", colors=\"r\")\n",
    "plt.ylabel(\"u2\")\n",
    "plt.legend();"
   ]
  },
  {
   "cell_type": "markdown",
   "metadata": {
    "id": "zyONkwB7LxDK"
   },
   "source": [
    "Now, we are ready to solve the BVP.\n",
    "\n"
   ]
  },
  {
   "cell_type": "code",
   "execution_count": 31,
   "metadata": {
    "colab": {
     "base_uri": "https://localhost:8080/"
    },
    "executionInfo": {
     "elapsed": 125,
     "status": "ok",
     "timestamp": 1633439657207,
     "user": {
      "displayName": "John Kitchin",
      "photoUrl": "https://lh3.googleusercontent.com/a/default-user=s64",
      "userId": "14782011281593705406"
     },
     "user_tz": 240
    },
    "id": "fHowAIBcCpGl",
    "outputId": "cf958496-249e-407a-cac7-6c9d2278e843"
   },
   "outputs": [
    {
     "data": {
      "text/plain": [
       "[array([ 20.        ,  19.18367347,  18.36734694,  17.55102041,\n",
       "         16.73469388,  15.91836735,  15.10204082,  14.28571429,\n",
       "         13.46938776,  12.65306122,  11.83673469,  11.02040816,\n",
       "         10.20408163,   9.3877551 ,   8.57142857,   7.75510204,\n",
       "          6.93877551,   6.12244898,   5.30612245,   4.48979592,\n",
       "          3.67346939,   2.85714286,   2.04081633,   1.2244898 ,\n",
       "          0.40816327,  -0.40816327,  -1.2244898 ,  -2.04081633,\n",
       "         -2.85714286,  -3.67346939,  -4.48979592,  -5.30612245,\n",
       "         -6.12244898,  -6.93877551,  -7.75510204,  -8.57142857,\n",
       "         -9.3877551 , -10.20408163, -11.02040816, -11.83673469,\n",
       "        -12.65306122, -13.46938776, -14.28571429, -15.10204082,\n",
       "        -15.91836735, -16.73469388, -17.55102041, -18.36734694,\n",
       "        -19.18367347, -20.        ]),\n",
       " array([-100., -100., -100., -100., -100., -100., -100., -100., -100.,\n",
       "        -100., -100., -100., -100., -100., -100., -100., -100., -100.,\n",
       "        -100., -100., -100., -100., -100., -100., -100., -100., -100.,\n",
       "        -100., -100., -100., -100., -100., -100., -100., -100., -100.,\n",
       "        -100., -100., -100., -100., -100., -100., -100., -100., -100.,\n",
       "        -100., -100., -100., -100., -100.])]"
      ]
     },
     "execution_count": 31,
     "metadata": {},
     "output_type": "execute_result"
    }
   ],
   "source": [
    "bvp(Y, U)"
   ]
  },
  {
   "cell_type": "code",
   "execution_count": 32,
   "metadata": {
    "colab": {
     "base_uri": "https://localhost:8080/"
    },
    "executionInfo": {
     "elapsed": 111,
     "status": "ok",
     "timestamp": 1633439701506,
     "user": {
      "displayName": "John Kitchin",
      "photoUrl": "https://lh3.googleusercontent.com/a/default-user=s64",
      "userId": "14782011281593705406"
     },
     "user_tz": 240
    },
    "id": "-G8CE-2HCwHN",
    "outputId": "55af7ec4-640a-43d1-acf9-dccc38b51890"
   },
   "outputs": [
    {
     "data": {
      "text/plain": [
       "[-5.437224997916222e-16, 1.66820235968478e-16]"
      ]
     },
     "execution_count": 32,
     "metadata": {},
     "output_type": "execute_result"
    }
   ],
   "source": [
    "bc(U[:, 0], U[:, -1])"
   ]
  },
  {
   "cell_type": "code",
   "execution_count": 33,
   "metadata": {
    "colab": {
     "base_uri": "https://localhost:8080/",
     "height": 296
    },
    "executionInfo": {
     "elapsed": 442,
     "status": "ok",
     "timestamp": 1633439723263,
     "user": {
      "displayName": "John Kitchin",
      "photoUrl": "https://lh3.googleusercontent.com/a/default-user=s64",
      "userId": "14782011281593705406"
     },
     "user_tz": 240
    },
    "id": "zooqEP0-LxDL",
    "outputId": "051e430b-4db6-4896-85f9-5d11755df0da"
   },
   "outputs": [
    {
     "name": "stdout",
     "output_type": "stream",
     "text": [
      "The algorithm converged to the desired accuracy.\n"
     ]
    },
    {
     "data": {
      "image/png": "[encoded data removed]",
      "text/plain": [
       "<Figure size 432x288 with 1 Axes>"
      ]
     },
     "metadata": {
      "needs_background": "light"
     },
     "output_type": "display_data"
    }
   ],
   "source": [
    "from scipy.integrate import solve_bvp\n",
    "\n",
    "sol = solve_bvp(bvp, bc, Y, U)\n",
    "print(sol.message)\n",
    "plt.plot(sol.x, sol.y[0])\n",
    "plt.xlabel(\"y\")\n",
    "plt.ylabel(\"U\");"
   ]
  },
  {
   "cell_type": "markdown",
   "metadata": {
    "id": "L_m0twMKm8p3"
   },
   "source": [
    "Some alternate ways to make initial guesses"
   ]
  },
  {
   "cell_type": "code",
   "execution_count": 34,
   "metadata": {
    "colab": {
     "base_uri": "https://localhost:8080/",
     "height": 265
    },
    "executionInfo": {
     "elapsed": 428,
     "status": "ok",
     "timestamp": 1633440069590,
     "user": {
      "displayName": "John Kitchin",
      "photoUrl": "https://lh3.googleusercontent.com/a/default-user=s64",
      "userId": "14782011281593705406"
     },
     "user_tz": 240
    },
    "id": "5fkRCpAhnQrC",
    "outputId": "cc75de20-edb3-4153-bf4a-db1eeeeb3ee9"
   },
   "outputs": [
    {
     "data": {
      "image/png": "[encoded data removed]",
      "text/plain": [
       "<Figure size 432x288 with 1 Axes>"
      ]
     },
     "metadata": {
      "needs_background": "light"
     },
     "output_type": "display_data"
    }
   ],
   "source": [
    "# a sin\n",
    "U1 = 0.2 * np.sin(Y * np.pi / 0.1)\n",
    "U2 = np.gradient(U1)\n",
    "plt.plot(Y, U1, Y, U2);"
   ]
  },
  {
   "cell_type": "code",
   "execution_count": 35,
   "metadata": {
    "colab": {
     "base_uri": "https://localhost:8080/",
     "height": 296
    },
    "executionInfo": {
     "elapsed": 306,
     "status": "ok",
     "timestamp": 1633440096084,
     "user": {
      "displayName": "John Kitchin",
      "photoUrl": "https://lh3.googleusercontent.com/a/default-user=s64",
      "userId": "14782011281593705406"
     },
     "user_tz": 240
    },
    "id": "5LhmfQ4HDQOn",
    "outputId": "317e5b9a-8149-4062-cf1c-f6ea2032c883"
   },
   "outputs": [
    {
     "name": "stdout",
     "output_type": "stream",
     "text": [
      "The algorithm converged to the desired accuracy.\n"
     ]
    },
    {
     "data": {
      "image/png": "[encoded data removed]",
      "text/plain": [
       "<Figure size 432x288 with 1 Axes>"
      ]
     },
     "metadata": {
      "needs_background": "light"
     },
     "output_type": "display_data"
    }
   ],
   "source": [
    "sol = solve_bvp(bvp, bc, Y, [U1, U2])\n",
    "\n",
    "print(sol.message)\n",
    "plt.plot(sol.x, sol.y[0])\n",
    "plt.xlabel(\"y\")\n",
    "plt.ylabel(\"U\")\n",
    "\n",
    "plt.plot(Y, U1)\n",
    "plt.legend([\"soln\", \"guess\"]);"
   ]
  },
  {
   "cell_type": "code",
   "execution_count": 38,
   "metadata": {
    "colab": {
     "base_uri": "https://localhost:8080/",
     "height": 300
    },
    "executionInfo": {
     "elapsed": 254,
     "status": "ok",
     "timestamp": 1633440222114,
     "user": {
      "displayName": "John Kitchin",
      "photoUrl": "https://lh3.googleusercontent.com/a/default-user=s64",
      "userId": "14782011281593705406"
     },
     "user_tz": 240
    },
    "id": "6b4pWBImnkdA",
    "outputId": "1978854d-71f5-420f-90a6-b51b91668745"
   },
   "outputs": [
    {
     "data": {
      "image/png": "[encoded data removed]",
      "text/plain": [
       "<Figure size 432x288 with 1 Axes>"
      ]
     },
     "metadata": {
      "needs_background": "light"
     },
     "output_type": "display_data"
    }
   ],
   "source": [
    "# a triangle wave\n",
    "p1 = np.polyfit([0, d / 2], [0, 0.2], 1)\n",
    "p2 = np.polyfit([d / 2, d], [0.2, 0], 1)\n",
    "\n",
    "U1 = np.zeros(Y.shape)\n",
    "# U1[0: 25] = np.polyval(p1, Y[0: 25])\n",
    "# U1[25:] = np.polyval(p2, Y[25:])\n",
    "i1 = Y < d / 2\n",
    "U1[i1] = np.polyval(p1, Y[i1])\n",
    "\n",
    "i2 = Y >= d / 2\n",
    "U1[i2] = np.polyval(p2, Y[i2])\n",
    "\n",
    "U2 = np.gradient(U1)\n",
    "\n",
    "plt.plot(Y, U1, Y, U2);"
   ]
  },
  {
   "cell_type": "code",
   "execution_count": 39,
   "metadata": {
    "colab": {
     "base_uri": "https://localhost:8080/",
     "height": 296
    },
    "executionInfo": {
     "elapsed": 348,
     "status": "ok",
     "timestamp": 1633440230722,
     "user": {
      "displayName": "John Kitchin",
      "photoUrl": "https://lh3.googleusercontent.com/a/default-user=s64",
      "userId": "14782011281593705406"
     },
     "user_tz": 240
    },
    "id": "nfFrBDi7EnvE",
    "outputId": "98bdad7b-616c-4195-b815-2c335f418d86"
   },
   "outputs": [
    {
     "name": "stdout",
     "output_type": "stream",
     "text": [
      "The algorithm converged to the desired accuracy.\n"
     ]
    },
    {
     "data": {
      "image/png": "[encoded data removed]",
      "text/plain": [
       "<Figure size 432x288 with 1 Axes>"
      ]
     },
     "metadata": {
      "needs_background": "light"
     },
     "output_type": "display_data"
    }
   ],
   "source": [
    "sol = solve_bvp(bvp, bc, Y, [U1, U2])\n",
    "\n",
    "print(sol.message)\n",
    "plt.plot(sol.x, sol.y[0])\n",
    "plt.xlabel(\"y\")\n",
    "plt.ylabel(\"U\")\n",
    "\n",
    "plt.plot(Y, U1)\n",
    "plt.legend([\"soln\", \"guess\"]);"
   ]
  },
  {
   "cell_type": "markdown",
   "metadata": {
    "id": "u8mSKpcLLxDQ"
   },
   "source": [
    "**exercise** Try using different guesses, e.g. lines, or triangle shapes, etc. What else looks like this shape? Half a cycle of a sin wave? A semi-circle?\n",
    "\n",
    "**exercise** How can you show this is a solution to the BVP?\n",
    "\n"
   ]
  },
  {
   "cell_type": "markdown",
   "metadata": {
    "id": "g685tvMYLxDR"
   },
   "source": [
    "### Concentration profile in a particle\n",
    "\n"
   ]
  },
  {
   "cell_type": "markdown",
   "metadata": {
    "id": "g1hV0AC0LxDS"
   },
   "source": [
    "Another typical boundary value problem in chemical engineering is the concentration profile inside a catalyst particle. Here is the dimensionless equation for a second order reaction in a slab. Note here we have a boundary condition on the derivative at the origin. This kind of condition means either there is no flux at this position, or that the slab is symmetric about this position.\n",
    "\n",
    "$\\frac{d^2c}{dx^2} = \\Phi^2 c^2$\n",
    "\n",
    "with $c'(0)$ = 0 and $c(1) = 1$\n",
    "\n",
    "We again convert this to a system of first order differential equations like this:\n",
    "\n",
    "Let c1 = c, c1' = c', and c2 = c1', so c2' = c1'' = c''\n",
    "\n",
    "Then we have:\n",
    "\n",
    "$c1' = c2$\n",
    "\n",
    "$c2' = \\Phi^2 c1^2$\n",
    "\n",
    "with boundary conditions $c1'(0) = 0$ and $c1(1) = 1$.\n",
    "\n",
    "We begin with the required functions:\n",
    "\n"
   ]
  },
  {
   "cell_type": "code",
   "execution_count": 40,
   "metadata": {
    "id": "S8obh-HALxDT"
   },
   "outputs": [],
   "source": [
    "Phi = 50\n",
    "\n",
    "\n",
    "def bvp(x, C):\n",
    "    c1, c2 = C\n",
    "    dc1dx = c2\n",
    "    dc2dx = Phi**2 * c1**2\n",
    "    return [dc1dx, dc2dx]\n",
    "\n",
    "\n",
    "def bc(Ca, Cb):\n",
    "    c1a, c2a = Ca\n",
    "    c1b, c2b = Cb\n",
    "\n",
    "    # Now, evaluate the derivatives at the first boundary condition\n",
    "    c1prime, c2prime = bvp(0, [c1a, c2a])\n",
    "    return [c1prime, c1b - 1]  # will all equal zero  # c1(b) = 1"
   ]
  },
  {
   "cell_type": "markdown",
   "metadata": {
    "id": "BVBiJ98-LxDZ"
   },
   "source": [
    "We need an initial guess. We make a naive one, that $c(x) = 1$ in the slab, i.e. there is no reaction. As usual, we visualize the guess to be sure it does what we intended."
   ]
  },
  {
   "cell_type": "code",
   "execution_count": 41,
   "metadata": {
    "colab": {
     "base_uri": "https://localhost:8080/",
     "height": 265
    },
    "executionInfo": {
     "elapsed": 298,
     "status": "ok",
     "timestamp": 1633440902009,
     "user": {
      "displayName": "John Kitchin",
      "photoUrl": "https://lh3.googleusercontent.com/a/default-user=s64",
      "userId": "14782011281593705406"
     },
     "user_tz": 240
    },
    "id": "81eZJKw1LxDa",
    "outputId": "1a6752fd-7b39-4e50-b504-fa01f4cb3c1b"
   },
   "outputs": [
    {
     "data": {
      "image/png": "[encoded data removed]",
      "text/plain": [
       "<Figure size 432x288 with 1 Axes>"
      ]
     },
     "metadata": {
      "needs_background": "light"
     },
     "output_type": "display_data"
    }
   ],
   "source": [
    "X = np.linspace(0, 1)\n",
    "\n",
    "C1 = np.ones(X.shape)\n",
    "C2 = np.gradient(C1, X)\n",
    "\n",
    "plt.plot(X, C1);"
   ]
  },
  {
   "cell_type": "markdown",
   "metadata": {
    "id": "Dwe5vnsHLxDg"
   },
   "source": [
    "Now we solve the system.\n",
    "\n"
   ]
  },
  {
   "cell_type": "code",
   "execution_count": 42,
   "metadata": {
    "colab": {
     "base_uri": "https://localhost:8080/",
     "height": 35
    },
    "executionInfo": {
     "elapsed": 132,
     "status": "ok",
     "timestamp": 1633440903963,
     "user": {
      "displayName": "John Kitchin",
      "photoUrl": "https://lh3.googleusercontent.com/a/default-user=s64",
      "userId": "14782011281593705406"
     },
     "user_tz": 240
    },
    "id": "cpvjN-QHLxDh",
    "outputId": "3affa208-e116-4636-ff3a-67f7edb51d70"
   },
   "outputs": [
    {
     "data": {
      "text/plain": [
       "'The algorithm converged to the desired accuracy.'"
      ]
     },
     "execution_count": 42,
     "metadata": {},
     "output_type": "execute_result"
    }
   ],
   "source": [
    "C = [C1, C2]\n",
    "sol = solve_bvp(bvp, bc, X, C)\n",
    "sol.message"
   ]
  },
  {
   "cell_type": "code",
   "execution_count": 43,
   "metadata": {
    "colab": {
     "base_uri": "https://localhost:8080/",
     "height": 283
    },
    "executionInfo": {
     "elapsed": 300,
     "status": "ok",
     "timestamp": 1633440906148,
     "user": {
      "displayName": "John Kitchin",
      "photoUrl": "https://lh3.googleusercontent.com/a/default-user=s64",
      "userId": "14782011281593705406"
     },
     "user_tz": 240
    },
    "id": "oA4Xo-YmLxDn",
    "outputId": "5ca74896-2450-40d4-c1d7-052b9c72f4f7"
   },
   "outputs": [
    {
     "data": {
      "image/png": "[encoded data removed]",
      "text/plain": [
       "<Figure size 432x288 with 1 Axes>"
      ]
     },
     "metadata": {
      "needs_background": "light"
     },
     "output_type": "display_data"
    }
   ],
   "source": [
    "plt.plot(sol.x, sol.y[0], \"b.\")\n",
    "plt.xlabel(\"x\")\n",
    "plt.ylabel(\"C\")\n",
    "plt.xlim([0, 1])\n",
    "plt.ylim([0, 1]);"
   ]
  },
  {
   "cell_type": "markdown",
   "metadata": {
    "id": "77HNvVBTLxDs"
   },
   "source": [
    "You can see the solution looks nothing like our initial guess. In this case, a high thiele modulus means most of the reaction happens near the catalyst surface, and the interior of the slab has hardly any reactant in it. This solution is consistent with that.\n",
    "\n",
    "The effectiveness factor for this system is defined by:\n",
    "\n",
    "$E = \\int_0^1 c^2 dx$\n",
    "\n",
    "We can estimate this with the trapezoid or Simpson's method (remember that the solution is a vector of numbers).\n",
    "\n"
   ]
  },
  {
   "cell_type": "code",
   "execution_count": 44,
   "metadata": {
    "id": "K3Rwm-0BqFUz"
   },
   "outputs": [
    {
     "data": {
      "text/plain": [
       "       message: 'The algorithm converged to the desired accuracy.'\n",
       "         niter: 3\n",
       "             p: None\n",
       " rms_residuals: array([3.60170602e-04, 3.60144894e-04, 3.60082795e-04, 3.59995005e-04,\n",
       "       3.59881541e-04, 3.59731742e-04, 3.59556323e-04, 3.59355315e-04,\n",
       "       3.59118087e-04, 3.58855360e-04, 3.58567180e-04, 3.58242954e-04,\n",
       "       3.57893398e-04, 3.57518578e-04, 3.57107941e-04, 3.56672197e-04,\n",
       "       3.56211425e-04, 3.55715123e-04, 3.55193987e-04, 3.54648110e-04,\n",
       "       3.54067044e-04, 3.53461465e-04, 3.52831483e-04, 3.52166708e-04,\n",
       "       3.51477790e-04, 3.50764853e-04, 3.50017575e-04, 3.49246571e-04,\n",
       "       3.48451981e-04, 3.47623552e-04, 3.46771862e-04, 3.45897065e-04,\n",
       "       3.44988984e-04, 3.44058151e-04, 3.43104735e-04, 3.42118640e-04,\n",
       "       3.41110348e-04, 3.40080040e-04, 3.39017708e-04, 3.37933775e-04,\n",
       "       3.36828435e-04, 3.35691773e-04, 3.34534149e-04, 3.33355769e-04,\n",
       "       3.32146814e-04, 3.30917575e-04, 3.29668269e-04, 3.28389182e-04,\n",
       "       3.27090525e-04, 3.25772529e-04, 3.24425586e-04, 3.23059825e-04,\n",
       "       3.21675488e-04, 3.20263078e-04, 3.18832638e-04, 3.17384419e-04,\n",
       "       3.15909038e-04, 3.14416447e-04, 3.12906905e-04, 3.11371151e-04,\n",
       "       3.09819035e-04, 3.08250828e-04, 3.06657391e-04, 3.05048470e-04,\n",
       "       3.03424345e-04, 3.01776003e-04, 3.00113083e-04, 2.98435869e-04,\n",
       "       2.96735482e-04, 2.95021445e-04, 2.93294050e-04, 2.91544552e-04,\n",
       "       2.89782353e-04, 2.88007753e-04, 2.86212144e-04, 2.84404804e-04,\n",
       "       2.82586037e-04, 2.80747378e-04, 2.78897974e-04, 2.77038135e-04,\n",
       "       2.75159538e-04, 2.73271197e-04, 2.71373428e-04, 2.69458051e-04,\n",
       "       2.67533945e-04, 2.65601425e-04, 2.63652465e-04, 2.61695798e-04,\n",
       "       2.59731743e-04, 2.57752424e-04, 2.55766429e-04, 2.53774078e-04,\n",
       "       2.51767649e-04, 2.49755578e-04, 2.47738187e-04, 2.45707910e-04,\n",
       "       2.43673028e-04, 2.41633863e-04, 2.39583006e-04, 2.37528582e-04,\n",
       "       2.35470911e-04, 2.33402743e-04, 2.31332042e-04, 2.29259127e-04,\n",
       "       2.27176909e-04, 2.25093186e-04, 2.23008275e-04, 2.20915249e-04,\n",
       "       2.18821740e-04, 2.16728061e-04, 2.14627449e-04, 2.12527364e-04,\n",
       "       2.10428116e-04, 2.08323106e-04, 2.06219621e-04, 2.04117968e-04,\n",
       "       2.02011711e-04, 1.99907963e-04, 1.97807025e-04, 1.95702626e-04,\n",
       "       1.93601703e-04, 1.91504550e-04, 1.89405062e-04, 1.87309996e-04,\n",
       "       1.85219642e-04, 1.83128058e-04, 1.81041822e-04, 1.78961216e-04,\n",
       "       1.76880464e-04, 1.74805962e-04, 1.72737983e-04, 1.70670917e-04,\n",
       "       1.68610977e-04, 1.66558429e-04, 1.64507825e-04, 1.62465197e-04,\n",
       "       1.60430799e-04, 1.58399350e-04, 1.56376694e-04, 1.54363079e-04,\n",
       "       1.52353385e-04, 1.50353273e-04, 1.48362979e-04, 1.46377546e-04,\n",
       "       1.44402450e-04, 1.42437916e-04, 1.40479148e-04, 1.38531438e-04,\n",
       "       1.36595000e-04, 1.34665198e-04, 1.32747138e-04, 1.30841022e-04,\n",
       "       1.28942374e-04, 1.27056116e-04, 1.25182438e-04, 1.23317019e-04,\n",
       "       1.21464599e-04, 1.19625356e-04, 1.17795124e-04, 1.15978461e-04,\n",
       "       1.14175531e-04, 1.12382323e-04, 1.10603211e-04, 1.08838350e-04,\n",
       "       1.07083877e-04, 1.05343988e-04, 1.03618824e-04, 1.01904671e-04,\n",
       "       1.00205549e-04, 9.85215823e-05, 9.68492068e-05, 9.51922641e-05,\n",
       "       9.35508668e-05, 9.19215940e-05, 9.03081136e-05, 8.87105244e-05,\n",
       "       8.71255478e-05, 8.55566797e-05, 8.40040052e-05, 8.24643851e-05,\n",
       "       8.09411460e-05, 7.94343594e-05, 7.79410226e-05, 7.64642956e-05,\n",
       "       7.50042362e-05, 7.35579755e-05, 7.21285099e-05, 7.07158835e-05,\n",
       "       6.93173584e-05, 6.79357703e-05, 6.65711498e-05, 6.52208870e-05,\n",
       "       6.38876601e-05, 6.25714863e-05, 6.12698806e-05, 5.99853673e-05,\n",
       "       5.87179506e-05, 5.74652668e-05, 5.62296903e-05, 5.50112121e-05,\n",
       "       5.38075870e-05, 5.26210429e-05, 5.14515581e-05, 5.02970024e-05,\n",
       "       4.91594614e-05, 4.80389010e-05, 4.69333027e-05, 4.58446136e-05,\n",
       "       4.47727877e-05, 4.37159145e-05, 4.26758074e-05, 4.16524084e-05,\n",
       "       4.06439120e-05, 3.96520017e-05, 3.86766083e-05, 3.77160276e-05,\n",
       "       3.67718180e-05, 3.58438994e-05, 3.49306652e-05, 3.40335532e-05,\n",
       "       3.31524731e-05, 3.22859124e-05, 3.14351930e-05, 3.06002149e-05,\n",
       "       2.97795558e-05, 2.89744269e-05, 2.81847187e-05, 2.74090960e-05,\n",
       "       2.66486635e-05, 2.59033032e-05, 2.51717632e-05, 2.44550469e-05,\n",
       "       2.37530282e-05, 2.30645348e-05, 2.23904739e-05, 2.17307119e-05,\n",
       "       2.10841526e-05, 2.02962959e-05, 1.93779583e-05, 1.84895989e-05,\n",
       "       1.76307988e-05, 1.68010183e-05, 1.59998157e-05, 1.52266341e-05,\n",
       "       1.44810115e-05, 1.37623763e-05, 1.30702487e-05, 1.24040452e-05,\n",
       "       1.17632705e-05, 1.11473318e-05, 1.05557212e-05, 9.98783919e-06,\n",
       "       9.44316776e-06, 8.92110356e-06, 8.42112093e-06, 7.94261534e-06,\n",
       "       7.48505627e-06, 7.04784063e-06, 6.63043577e-06, 6.23224276e-06,\n",
       "       5.85272951e-06, 5.49130393e-06, 5.14743734e-06, 4.82054730e-06,\n",
       "       4.51011143e-06, 4.21555984e-06, 3.93637955e-06, 3.67201628e-06,\n",
       "       3.42196984e-06, 3.18570504e-06, 2.96273833e-06, 2.75255757e-06,\n",
       "       2.55470043e-06, 2.36868267e-06, 2.19406886e-06, 2.03040887e-06,\n",
       "       1.87730139e-06, 1.73433846e-06, 1.60116238e-06, 1.47741785e-06,\n",
       "       1.36280279e-06, 1.25702758e-06, 1.15985975e-06, 1.07108898e-06,\n",
       "       9.90564538e-07, 9.18163033e-07, 8.53814995e-07, 7.97469826e-07,\n",
       "       7.49105894e-07, 7.08686888e-07, 6.76153746e-07, 6.51377105e-07,\n",
       "       6.34146245e-07, 6.24141291e-07, 6.20946918e-07, 6.24063590e-07,\n",
       "       6.32949307e-07, 6.47052150e-07, 6.65850935e-07, 6.88877764e-07,\n",
       "       7.15737221e-07, 7.46110233e-07, 7.79755267e-07, 8.16501687e-07,\n",
       "       8.56243579e-07, 8.98930997e-07, 9.44563134e-07, 9.93181259e-07,\n",
       "       1.04486366e-06, 1.09972110e-06, 1.15789385e-06, 1.21954933e-06,\n",
       "       1.28488098e-06, 1.35410757e-06, 1.42747346e-06, 1.23746043e-05,\n",
       "       1.37788293e-05, 1.53622304e-05, 1.71528246e-05, 1.91842469e-05,\n",
       "       2.14971218e-05, 2.41408194e-05, 2.71757238e-05, 3.06761800e-05,\n",
       "       3.47343573e-05, 3.94653571e-05, 4.50140339e-05, 5.15642000e-05,\n",
       "       5.93511987e-05, 6.86793014e-05, 7.99461320e-05, 9.36775044e-05,\n",
       "       3.92107618e-04, 5.13255259e-04, 6.87596530e-04, 9.47531715e-04,\n",
       "       1.51148180e-04, 1.81988272e-04, 2.21633804e-04, 2.73457917e-04,\n",
       "       3.42515192e-04, 4.36609520e-04, 5.68215215e-04, 7.58104332e-04])\n",
       "           sol: <scipy.interpolate.interpolate.PPoly object at 0x7fc3cc2cb540>\n",
       "        status: 0\n",
       "       success: True\n",
       "             x: array([0.        , 0.00226757, 0.00453515, 0.00680272, 0.00907029,\n",
       "       0.01133787, 0.01360544, 0.01587302, 0.01814059, 0.02040816,\n",
       "       0.02267574, 0.02494331, 0.02721088, 0.02947846, 0.03174603,\n",
       "       0.03401361, 0.03628118, 0.03854875, 0.04081633, 0.0430839 ,\n",
       "       0.04535147, 0.04761905, 0.04988662, 0.0521542 , 0.05442177,\n",
       "       0.05668934, 0.05895692, 0.06122449, 0.06349206, 0.06575964,\n",
       "       0.06802721, 0.07029478, 0.07256236, 0.07482993, 0.07709751,\n",
       "       0.07936508, 0.08163265, 0.08390023, 0.0861678 , 0.08843537,\n",
       "       0.09070295, 0.09297052, 0.0952381 , 0.09750567, 0.09977324,\n",
       "       0.10204082, 0.10430839, 0.10657596, 0.10884354, 0.11111111,\n",
       "       0.11337868, 0.11564626, 0.11791383, 0.12018141, 0.12244898,\n",
       "       0.12471655, 0.12698413, 0.1292517 , 0.13151927, 0.13378685,\n",
       "       0.13605442, 0.138322  , 0.14058957, 0.14285714, 0.14512472,\n",
       "       0.14739229, 0.14965986, 0.15192744, 0.15419501, 0.15646259,\n",
       "       0.15873016, 0.16099773, 0.16326531, 0.16553288, 0.16780045,\n",
       "       0.17006803, 0.1723356 , 0.17460317, 0.17687075, 0.17913832,\n",
       "       0.1814059 , 0.18367347, 0.18594104, 0.18820862, 0.19047619,\n",
       "       0.19274376, 0.19501134, 0.19727891, 0.19954649, 0.20181406,\n",
       "       0.20408163, 0.20634921, 0.20861678, 0.21088435, 0.21315193,\n",
       "       0.2154195 , 0.21768707, 0.21995465, 0.22222222, 0.2244898 ,\n",
       "       0.22675737, 0.22902494, 0.23129252, 0.23356009, 0.23582766,\n",
       "       0.23809524, 0.24036281, 0.24263039, 0.24489796, 0.24716553,\n",
       "       0.24943311, 0.25170068, 0.25396825, 0.25623583, 0.2585034 ,\n",
       "       0.26077098, 0.26303855, 0.26530612, 0.2675737 , 0.26984127,\n",
       "       0.27210884, 0.27437642, 0.27664399, 0.27891156, 0.28117914,\n",
       "       0.28344671, 0.28571429, 0.28798186, 0.29024943, 0.29251701,\n",
       "       0.29478458, 0.29705215, 0.29931973, 0.3015873 , 0.30385488,\n",
       "       0.30612245, 0.30839002, 0.3106576 , 0.31292517, 0.31519274,\n",
       "       0.31746032, 0.31972789, 0.32199546, 0.32426304, 0.32653061,\n",
       "       0.32879819, 0.33106576, 0.33333333, 0.33560091, 0.33786848,\n",
       "       0.34013605, 0.34240363, 0.3446712 , 0.34693878, 0.34920635,\n",
       "       0.35147392, 0.3537415 , 0.35600907, 0.35827664, 0.36054422,\n",
       "       0.36281179, 0.36507937, 0.36734694, 0.36961451, 0.37188209,\n",
       "       0.37414966, 0.37641723, 0.37868481, 0.38095238, 0.38321995,\n",
       "       0.38548753, 0.3877551 , 0.39002268, 0.39229025, 0.39455782,\n",
       "       0.3968254 , 0.39909297, 0.40136054, 0.40362812, 0.40589569,\n",
       "       0.40816327, 0.41043084, 0.41269841, 0.41496599, 0.41723356,\n",
       "       0.41950113, 0.42176871, 0.42403628, 0.42630385, 0.42857143,\n",
       "       0.430839  , 0.43310658, 0.43537415, 0.43764172, 0.4399093 ,\n",
       "       0.44217687, 0.44444444, 0.44671202, 0.44897959, 0.45124717,\n",
       "       0.45351474, 0.45578231, 0.45804989, 0.46031746, 0.46258503,\n",
       "       0.46485261, 0.46712018, 0.46938776, 0.47165533, 0.4739229 ,\n",
       "       0.47619048, 0.47845805, 0.48072562, 0.4829932 , 0.48526077,\n",
       "       0.48752834, 0.48979592, 0.49206349, 0.49433107, 0.49659864,\n",
       "       0.49886621, 0.50113379, 0.50340136, 0.50566893, 0.50793651,\n",
       "       0.51020408, 0.51247166, 0.51473923, 0.5170068 , 0.51927438,\n",
       "       0.52154195, 0.52380952, 0.5260771 , 0.52834467, 0.53061224,\n",
       "       0.53287982, 0.53514739, 0.53741497, 0.54081633, 0.54421769,\n",
       "       0.54761905, 0.55102041, 0.55442177, 0.55782313, 0.56122449,\n",
       "       0.56462585, 0.56802721, 0.57142857, 0.57482993, 0.57823129,\n",
       "       0.58163265, 0.58503401, 0.58843537, 0.59183673, 0.5952381 ,\n",
       "       0.59863946, 0.60204082, 0.60544218, 0.60884354, 0.6122449 ,\n",
       "       0.61564626, 0.61904762, 0.62244898, 0.62585034, 0.6292517 ,\n",
       "       0.63265306, 0.63605442, 0.63945578, 0.64285714, 0.6462585 ,\n",
       "       0.64965986, 0.65306122, 0.65646259, 0.65986395, 0.66326531,\n",
       "       0.66666667, 0.67006803, 0.67346939, 0.67687075, 0.68027211,\n",
       "       0.68367347, 0.68707483, 0.69047619, 0.69387755, 0.69727891,\n",
       "       0.70068027, 0.70408163, 0.70748299, 0.71088435, 0.71428571,\n",
       "       0.71768707, 0.72108844, 0.7244898 , 0.72789116, 0.73129252,\n",
       "       0.73469388, 0.73809524, 0.7414966 , 0.74489796, 0.74829932,\n",
       "       0.75170068, 0.75510204, 0.7585034 , 0.76190476, 0.76530612,\n",
       "       0.76870748, 0.77210884, 0.7755102 , 0.77891156, 0.78231293,\n",
       "       0.78571429, 0.78911565, 0.79251701, 0.79591837, 0.79931973,\n",
       "       0.80272109, 0.80952381, 0.81632653, 0.82312925, 0.82993197,\n",
       "       0.83673469, 0.84353741, 0.85034014, 0.85714286, 0.86394558,\n",
       "       0.8707483 , 0.87755102, 0.88435374, 0.89115646, 0.89795918,\n",
       "       0.9047619 , 0.91156463, 0.91836735, 0.92857143, 0.93877551,\n",
       "       0.94897959, 0.95918367, 0.96428571, 0.96938776, 0.9744898 ,\n",
       "       0.97959184, 0.98469388, 0.98979592, 0.99489796, 1.        ])\n",
       "             y: array([[3.22835648e-03, 3.22842260e-03, 3.22862097e-03, 3.22895160e-03,\n",
       "        3.22941453e-03, 3.23000978e-03, 3.23073742e-03, 3.23159750e-03,\n",
       "        3.23259009e-03, 3.23371528e-03, 3.23497316e-03, 3.23636384e-03,\n",
       "        3.23788744e-03, 3.23954408e-03, 3.24133390e-03, 3.24325706e-03,\n",
       "        3.24531372e-03, 3.24750405e-03, 3.24982823e-03, 3.25228646e-03,\n",
       "        3.25487896e-03, 3.25760593e-03, 3.26046762e-03, 3.26346425e-03,\n",
       "        3.26659610e-03, 3.26986342e-03, 3.27326649e-03, 3.27680560e-03,\n",
       "        3.28048106e-03, 3.28429317e-03, 3.28824226e-03, 3.29232868e-03,\n",
       "        3.29655276e-03, 3.30091487e-03, 3.30541539e-03, 3.31005470e-03,\n",
       "        3.31483320e-03, 3.31975131e-03, 3.32480944e-03, 3.33000803e-03,\n",
       "        3.33534754e-03, 3.34082843e-03, 3.34645117e-03, 3.35221624e-03,\n",
       "        3.35812417e-03, 3.36417544e-03, 3.37037061e-03, 3.37671020e-03,\n",
       "        3.38319478e-03, 3.38982491e-03, 3.39660118e-03, 3.40352419e-03,\n",
       "        3.41059454e-03, 3.41781286e-03, 3.42517980e-03, 3.43269600e-03,\n",
       "        3.44036214e-03, 3.44817890e-03, 3.45614698e-03, 3.46426709e-03,\n",
       "        3.47253997e-03, 3.48096636e-03, 3.48954701e-03, 3.49828271e-03,\n",
       "        3.50717425e-03, 3.51622244e-03, 3.52542809e-03, 3.53479206e-03,\n",
       "        3.54431519e-03, 3.55399837e-03, 3.56384249e-03, 3.57384845e-03,\n",
       "        3.58401718e-03, 3.59434963e-03, 3.60484675e-03, 3.61550952e-03,\n",
       "        3.62633896e-03, 3.63733606e-03, 3.64850187e-03, 3.65983744e-03,\n",
       "        3.67134385e-03, 3.68302218e-03, 3.69487355e-03, 3.70689910e-03,\n",
       "        3.71909997e-03, 3.73147735e-03, 3.74403242e-03, 3.75676640e-03,\n",
       "        3.76968053e-03, 3.78277607e-03, 3.79605429e-03, 3.80951650e-03,\n",
       "        3.82316403e-03, 3.83699822e-03, 3.85102045e-03, 3.86523211e-03,\n",
       "        3.87963462e-03, 3.89422943e-03, 3.90901800e-03, 3.92400182e-03,\n",
       "        3.93918241e-03, 3.95456133e-03, 3.97014013e-03, 3.98592042e-03,\n",
       "        4.00190381e-03, 4.01809197e-03, 4.03448656e-03, 4.05108930e-03,\n",
       "        4.06790192e-03, 4.08492618e-03, 4.10216389e-03, 4.11961686e-03,\n",
       "        4.13728694e-03, 4.15517603e-03, 4.17328604e-03, 4.19161892e-03,\n",
       "        4.21017666e-03, 4.22896125e-03, 4.24797476e-03, 4.26721926e-03,\n",
       "        4.28669688e-03, 4.30640976e-03, 4.32636008e-03, 4.34655008e-03,\n",
       "        4.36698202e-03, 4.38765819e-03, 4.40858093e-03, 4.42975262e-03,\n",
       "        4.45117567e-03, 4.47285254e-03, 4.49478572e-03, 4.51697775e-03,\n",
       "        4.53943121e-03, 4.56214873e-03, 4.58513298e-03, 4.60838666e-03,\n",
       "        4.63191254e-03, 4.65571341e-03, 4.67979213e-03, 4.70415161e-03,\n",
       "        4.72879478e-03, 4.75372465e-03, 4.77894426e-03, 4.80445671e-03,\n",
       "        4.83026516e-03, 4.85637281e-03, 4.88278292e-03, 4.90949881e-03,\n",
       "        4.93652386e-03, 4.96386148e-03, 4.99151517e-03, 5.01948847e-03,\n",
       "        5.04778501e-03, 5.07640844e-03, 5.10536250e-03, 5.13465099e-03,\n",
       "        5.16427777e-03, 5.19424678e-03, 5.22456202e-03, 5.25522755e-03,\n",
       "        5.28624751e-03, 5.31762612e-03, 5.34936766e-03, 5.38147649e-03,\n",
       "        5.41395706e-03, 5.44681387e-03, 5.48005152e-03, 5.51367470e-03,\n",
       "        5.54768815e-03, 5.58209673e-03, 5.61690536e-03, 5.65211907e-03,\n",
       "        5.68774296e-03, 5.72378223e-03, 5.76024219e-03, 5.79712822e-03,\n",
       "        5.83444580e-03, 5.87220053e-03, 5.91039809e-03, 5.94904428e-03,\n",
       "        5.98814500e-03, 6.02770625e-03, 6.06773416e-03, 6.10823494e-03,\n",
       "        6.14921496e-03, 6.19068068e-03, 6.23263867e-03, 6.27509565e-03,\n",
       "        6.31805845e-03, 6.36153404e-03, 6.40552950e-03, 6.45005206e-03,\n",
       "        6.49510909e-03, 6.54070809e-03, 6.58685672e-03, 6.63356275e-03,\n",
       "        6.68083415e-03, 6.72867900e-03, 6.77710556e-03, 6.82612224e-03,\n",
       "        6.87573763e-03, 6.92596046e-03, 6.97679965e-03, 7.02826429e-03,\n",
       "        7.08036366e-03, 7.13310722e-03, 7.18650459e-03, 7.24056562e-03,\n",
       "        7.29530035e-03, 7.35071899e-03, 7.40683200e-03, 7.46365002e-03,\n",
       "        7.52118392e-03, 7.57944478e-03, 7.63844393e-03, 7.69819291e-03,\n",
       "        7.75870350e-03, 7.81998773e-03, 7.88205788e-03, 7.94492649e-03,\n",
       "        8.00860635e-03, 8.07311051e-03, 8.13845234e-03, 8.20464543e-03,\n",
       "        8.27170371e-03, 8.33964139e-03, 8.40847297e-03, 8.47821328e-03,\n",
       "        8.54887747e-03, 8.62048099e-03, 8.69303967e-03, 8.76656966e-03,\n",
       "        8.84108745e-03, 8.91660993e-03, 8.99315434e-03, 9.07073830e-03,\n",
       "        9.14937983e-03, 9.22909737e-03, 9.35073248e-03, 9.47489645e-03,\n",
       "        9.60165691e-03, 9.73108382e-03, 9.86324955e-03, 9.99822905e-03,\n",
       "        1.01360998e-02, 1.02769423e-02, 1.04208395e-02, 1.05678777e-02,\n",
       "        1.07181461e-02, 1.08717372e-02, 1.10287471e-02, 1.11892752e-02,\n",
       "        1.13534246e-02, 1.15213024e-02, 1.16930197e-02, 1.18686918e-02,\n",
       "        1.20484384e-02, 1.22323840e-02, 1.24206577e-02, 1.26133938e-02,\n",
       "        1.28107318e-02, 1.30128170e-02, 1.32198002e-02, 1.34318386e-02,\n",
       "        1.36490956e-02, 1.38717415e-02, 1.40999534e-02, 1.43339161e-02,\n",
       "        1.45738220e-02, 1.48198718e-02, 1.50722745e-02, 1.53312486e-02,\n",
       "        1.55970218e-02, 1.58698318e-02, 1.61499271e-02, 1.64375670e-02,\n",
       "        1.67330228e-02, 1.70365780e-02, 1.73485290e-02, 1.76691863e-02,\n",
       "        1.79988746e-02, 1.83379341e-02, 1.86867214e-02, 1.90456099e-02,\n",
       "        1.94149914e-02, 1.97952769e-02, 2.01868979e-02, 2.05903072e-02,\n",
       "        2.10059808e-02, 2.14344189e-02, 2.18761475e-02, 2.23317202e-02,\n",
       "        2.28017196e-02, 2.32867595e-02, 2.37874864e-02, 2.43045825e-02,\n",
       "        2.48387672e-02, 2.53908000e-02, 2.59614830e-02, 2.65516643e-02,\n",
       "        2.71622405e-02, 2.77941605e-02, 2.84484290e-02, 2.91261107e-02,\n",
       "        2.98283345e-02, 3.05562983e-02, 3.13112738e-02, 3.20946126e-02,\n",
       "        3.29077518e-02, 3.37522206e-02, 3.46296480e-02, 3.55417700e-02,\n",
       "        3.64904387e-02, 3.74776313e-02, 3.85054608e-02, 3.95761870e-02,\n",
       "        4.18561790e-02, 4.43391300e-02, 4.70498519e-02, 5.00170686e-02,\n",
       "        5.32741795e-02, 5.68602042e-02, 6.08209564e-02, 6.52105143e-02,\n",
       "        7.00930761e-02, 7.55453212e-02, 8.16594391e-02, 8.85470518e-02,\n",
       "        9.63443451e-02, 1.05218852e-01, 1.15378528e-01, 1.27084046e-01,\n",
       "        1.40665681e-01, 1.65515087e-01, 1.97581412e-01, 2.39955674e-01,\n",
       "        2.97579789e-01, 3.34508655e-01, 3.78763515e-01, 4.32418531e-01,\n",
       "        4.98337420e-01, 5.80563619e-01, 6.84955377e-01, 8.20258653e-01,\n",
       "        1.00000000e+00],\n",
       "       [0.00000000e+00, 5.83190781e-05, 1.16643050e-04, 1.74976833e-04,\n",
       "        2.33325323e-04, 2.91693420e-04, 3.50086051e-04, 4.08508124e-04,\n",
       "        4.66964553e-04, 5.25460282e-04, 5.84000241e-04, 6.42589369e-04,\n",
       "        7.01232635e-04, 7.59934999e-04, 8.18701432e-04, 8.77536942e-04,\n",
       "        9.36446525e-04, 9.95435197e-04, 1.05450801e-03, 1.11367000e-03,\n",
       "        1.17292625e-03, 1.23228185e-03, 1.29174192e-03, 1.35131157e-03,\n",
       "        1.41099597e-03, 1.47080030e-03, 1.53072976e-03, 1.59078958e-03,\n",
       "        1.65098501e-03, 1.71132134e-03, 1.77180388e-03, 1.83243797e-03,\n",
       "        1.89322899e-03, 1.95418234e-03, 2.01530346e-03, 2.07659782e-03,\n",
       "        2.13807095e-03, 2.19972837e-03, 2.26157568e-03, 2.32361851e-03,\n",
       "        2.38586252e-03, 2.44831341e-03, 2.51097694e-03, 2.57385891e-03,\n",
       "        2.63696514e-03, 2.70030155e-03, 2.76387406e-03, 2.82768865e-03,\n",
       "        2.89175138e-03, 2.95606833e-03, 3.02064563e-03, 3.08548951e-03,\n",
       "        3.15060621e-03, 3.21600204e-03, 3.28168339e-03, 3.34765670e-03,\n",
       "        3.41392845e-03, 3.48050522e-03, 3.54739365e-03, 3.61460041e-03,\n",
       "        3.68213229e-03, 3.74999613e-03, 3.81819882e-03, 3.88674737e-03,\n",
       "        3.95564883e-03, 4.02491034e-03, 4.09453912e-03, 4.16454247e-03,\n",
       "        4.23492777e-03, 4.30570250e-03, 4.37687421e-03, 4.44845053e-03,\n",
       "        4.52043922e-03, 4.59284811e-03, 4.66568510e-03, 4.73895823e-03,\n",
       "        4.81267562e-03, 4.88684548e-03, 4.96147615e-03, 5.03657606e-03,\n",
       "        5.11215374e-03, 5.18821786e-03, 5.26477717e-03, 5.34184054e-03,\n",
       "        5.41941699e-03, 5.49751563e-03, 5.57614569e-03, 5.65531655e-03,\n",
       "        5.73503770e-03, 5.81531875e-03, 5.89616949e-03, 5.97759979e-03,\n",
       "        6.05961969e-03, 6.14223939e-03, 6.22546919e-03, 6.30931956e-03,\n",
       "        6.39380114e-03, 6.47892470e-03, 6.56470117e-03, 6.65114166e-03,\n",
       "        6.73825742e-03, 6.82605990e-03, 6.91456068e-03, 7.00377156e-03,\n",
       "        7.09370449e-03, 7.18437160e-03, 7.27578524e-03, 7.36795790e-03,\n",
       "        7.46090232e-03, 7.55463140e-03, 7.64915825e-03, 7.74449620e-03,\n",
       "        7.84065879e-03, 7.93765976e-03, 8.03551308e-03, 8.13423297e-03,\n",
       "        8.23383382e-03, 8.33433033e-03, 8.43573738e-03, 8.53807013e-03,\n",
       "        8.64134398e-03, 8.74557457e-03, 8.85077784e-03, 8.95696996e-03,\n",
       "        9.06416739e-03, 9.17238687e-03, 9.28164542e-03, 9.39196035e-03,\n",
       "        9.50334926e-03, 9.61583008e-03, 9.72942103e-03, 9.84414064e-03,\n",
       "        9.96000779e-03, 1.00770417e-02, 1.01952618e-02, 1.03146881e-02,\n",
       "        1.04353407e-02, 1.05572403e-02, 1.06804079e-02, 1.08048647e-02,\n",
       "        1.09306326e-02, 1.10577335e-02, 1.11861901e-02, 1.13160253e-02,\n",
       "        1.14472625e-02, 1.15799254e-02, 1.17140382e-02, 1.18496257e-02,\n",
       "        1.19867130e-02, 1.21253257e-02, 1.22654899e-02, 1.24072321e-02,\n",
       "        1.25505796e-02, 1.26955598e-02, 1.28422010e-02, 1.29905318e-02,\n",
       "        1.31405814e-02, 1.32923796e-02, 1.34459568e-02, 1.36013440e-02,\n",
       "        1.37585728e-02, 1.39176753e-02, 1.40786843e-02, 1.42416334e-02,\n",
       "        1.44065566e-02, 1.45734889e-02, 1.47424657e-02, 1.49135232e-02,\n",
       "        1.50866984e-02, 1.52620291e-02, 1.54395538e-02, 1.56193116e-02,\n",
       "        1.58013426e-02, 1.59856879e-02, 1.61723890e-02, 1.63614886e-02,\n",
       "        1.65530302e-02, 1.67470583e-02, 1.69436180e-02, 1.71427558e-02,\n",
       "        1.73445188e-02, 1.75489554e-02, 1.77561148e-02, 1.79660474e-02,\n",
       "        1.81788047e-02, 1.83944390e-02, 1.86130042e-02, 1.88345550e-02,\n",
       "        1.90591476e-02, 1.92868390e-02, 1.95176879e-02, 1.97517541e-02,\n",
       "        1.99890987e-02, 2.02297841e-02, 2.04738742e-02, 2.07214344e-02,\n",
       "        2.09725315e-02, 2.12272336e-02, 2.14856106e-02, 2.17477341e-02,\n",
       "        2.20136769e-02, 2.22835138e-02, 2.25573213e-02, 2.28351776e-02,\n",
       "        2.31171627e-02, 2.34033585e-02, 2.36938488e-02, 2.39887193e-02,\n",
       "        2.42880579e-02, 2.45919544e-02, 2.49005008e-02, 2.52137914e-02,\n",
       "        2.55319226e-02, 2.58549932e-02, 2.61831044e-02, 2.65163597e-02,\n",
       "        2.68548654e-02, 2.71987301e-02, 2.75480654e-02, 2.79029853e-02,\n",
       "        2.82636069e-02, 2.86300501e-02, 2.90024377e-02, 2.93808958e-02,\n",
       "        2.97655536e-02, 3.01565434e-02, 3.05540011e-02, 3.09580659e-02,\n",
       "        3.13688807e-02, 3.17865920e-02, 3.22113500e-02, 3.26433090e-02,\n",
       "        3.30826273e-02, 3.35294671e-02, 3.39839952e-02, 3.44463826e-02,\n",
       "        3.49168048e-02, 3.53954423e-02, 3.61292083e-02, 3.68825220e-02,\n",
       "        3.76560560e-02, 3.84505102e-02, 3.92666139e-02, 4.01051266e-02,\n",
       "        4.09668400e-02, 4.18525793e-02, 4.27632048e-02, 4.36996138e-02,\n",
       "        4.46627427e-02, 4.56535686e-02, 4.66731114e-02, 4.77224365e-02,\n",
       "        4.88026564e-02, 4.99149340e-02, 5.10604846e-02, 5.22405791e-02,\n",
       "        5.34565467e-02, 5.47097783e-02, 5.60017298e-02, 5.73339254e-02,\n",
       "        5.87079619e-02, 6.01255122e-02, 6.15883301e-02, 6.30982543e-02,\n",
       "        6.46572139e-02, 6.62672332e-02, 6.79304372e-02, 6.96490578e-02,\n",
       "        7.14254399e-02, 7.32620482e-02, 7.51614743e-02, 7.71264446e-02,\n",
       "        7.91598284e-02, 8.12646468e-02, 8.34440820e-02, 8.57014877e-02,\n",
       "        8.80403997e-02, 9.04645476e-02, 9.29778675e-02, 9.55845152e-02,\n",
       "        9.82888809e-02, 1.01095604e-01, 1.04009593e-01, 1.07036036e-01,\n",
       "        1.10180431e-01, 1.13448598e-01, 1.16846703e-01, 1.20381289e-01,\n",
       "        1.24059293e-01, 1.27888082e-01, 1.31875481e-01, 1.36029807e-01,\n",
       "        1.40359904e-01, 1.44875187e-01, 1.49585679e-01, 1.54502063e-01,\n",
       "        1.59635729e-01, 1.64998834e-01, 1.70604358e-01, 1.76466171e-01,\n",
       "        1.82599108e-01, 1.89019045e-01, 1.95742986e-01, 2.02789160e-01,\n",
       "        2.10177121e-01, 2.17927863e-01, 2.26063950e-01, 2.34609648e-01,\n",
       "        2.43591080e-01, 2.53036393e-01, 2.62975946e-01, 2.73442512e-01,\n",
       "        2.84471504e-01, 2.96101234e-01, 3.08373183e-01, 3.21332321e-01,\n",
       "        3.49511577e-01, 3.81082655e-01, 4.16571784e-01, 4.56606278e-01,\n",
       "        5.01937930e-01, 5.53472810e-01, 6.12309505e-01, 6.79788581e-01,\n",
       "        7.57557116e-01, 8.47653686e-01, 9.52621376e-01, 1.07565966e+00,\n",
       "        1.22083088e+00, 1.39334442e+00, 1.59995302e+00, 1.84951375e+00,\n",
       "        2.15379453e+00, 2.74903769e+00, 3.58546528e+00, 4.79871799e+00,\n",
       "        6.62730489e+00, 7.89843275e+00, 9.51657680e+00, 1.16087147e+01,\n",
       "        1.43619200e+01, 1.80593426e+01, 2.31430718e+01, 3.03287639e+01,\n",
       "        4.08253709e+01]])\n",
       "            yp: array([[0.00000000e+00, 5.83190781e-05, 1.16643050e-04, 1.74976833e-04,\n",
       "        2.33325323e-04, 2.91693420e-04, 3.50086051e-04, 4.08508124e-04,\n",
       "        4.66964553e-04, 5.25460282e-04, 5.84000241e-04, 6.42589369e-04,\n",
       "        7.01232635e-04, 7.59934999e-04, 8.18701432e-04, 8.77536942e-04,\n",
       "        9.36446525e-04, 9.95435197e-04, 1.05450801e-03, 1.11367000e-03,\n",
       "        1.17292625e-03, 1.23228185e-03, 1.29174192e-03, 1.35131157e-03,\n",
       "        1.41099597e-03, 1.47080030e-03, 1.53072976e-03, 1.59078958e-03,\n",
       "        1.65098501e-03, 1.71132134e-03, 1.77180388e-03, 1.83243797e-03,\n",
       "        1.89322899e-03, 1.95418234e-03, 2.01530346e-03, 2.07659782e-03,\n",
       "        2.13807095e-03, 2.19972837e-03, 2.26157568e-03, 2.32361851e-03,\n",
       "        2.38586252e-03, 2.44831341e-03, 2.51097694e-03, 2.57385891e-03,\n",
       "        2.63696514e-03, 2.70030155e-03, 2.76387406e-03, 2.82768865e-03,\n",
       "        2.89175138e-03, 2.95606833e-03, 3.02064563e-03, 3.08548951e-03,\n",
       "        3.15060621e-03, 3.21600204e-03, 3.28168339e-03, 3.34765670e-03,\n",
       "        3.41392845e-03, 3.48050522e-03, 3.54739365e-03, 3.61460041e-03,\n",
       "        3.68213229e-03, 3.74999613e-03, 3.81819882e-03, 3.88674737e-03,\n",
       "        3.95564883e-03, 4.02491034e-03, 4.09453912e-03, 4.16454247e-03,\n",
       "        4.23492777e-03, 4.30570250e-03, 4.37687421e-03, 4.44845053e-03,\n",
       "        4.52043922e-03, 4.59284811e-03, 4.66568510e-03, 4.73895823e-03,\n",
       "        4.81267562e-03, 4.88684548e-03, 4.96147615e-03, 5.03657606e-03,\n",
       "        5.11215374e-03, 5.18821786e-03, 5.26477717e-03, 5.34184054e-03,\n",
       "        5.41941699e-03, 5.49751563e-03, 5.57614569e-03, 5.65531655e-03,\n",
       "        5.73503770e-03, 5.81531875e-03, 5.89616949e-03, 5.97759979e-03,\n",
       "        6.05961969e-03, 6.14223939e-03, 6.22546919e-03, 6.30931956e-03,\n",
       "        6.39380114e-03, 6.47892470e-03, 6.56470117e-03, 6.65114166e-03,\n",
       "        6.73825742e-03, 6.82605990e-03, 6.91456068e-03, 7.00377156e-03,\n",
       "        7.09370449e-03, 7.18437160e-03, 7.27578524e-03, 7.36795790e-03,\n",
       "        7.46090232e-03, 7.55463140e-03, 7.64915825e-03, 7.74449620e-03,\n",
       "        7.84065879e-03, 7.93765976e-03, 8.03551308e-03, 8.13423297e-03,\n",
       "        8.23383382e-03, 8.33433033e-03, 8.43573738e-03, 8.53807013e-03,\n",
       "        8.64134398e-03, 8.74557457e-03, 8.85077784e-03, 8.95696996e-03,\n",
       "        9.06416739e-03, 9.17238687e-03, 9.28164542e-03, 9.39196035e-03,\n",
       "        9.50334926e-03, 9.61583008e-03, 9.72942103e-03, 9.84414064e-03,\n",
       "        9.96000779e-03, 1.00770417e-02, 1.01952618e-02, 1.03146881e-02,\n",
       "        1.04353407e-02, 1.05572403e-02, 1.06804079e-02, 1.08048647e-02,\n",
       "        1.09306326e-02, 1.10577335e-02, 1.11861901e-02, 1.13160253e-02,\n",
       "        1.14472625e-02, 1.15799254e-02, 1.17140382e-02, 1.18496257e-02,\n",
       "        1.19867130e-02, 1.21253257e-02, 1.22654899e-02, 1.24072321e-02,\n",
       "        1.25505796e-02, 1.26955598e-02, 1.28422010e-02, 1.29905318e-02,\n",
       "        1.31405814e-02, 1.32923796e-02, 1.34459568e-02, 1.36013440e-02,\n",
       "        1.37585728e-02, 1.39176753e-02, 1.40786843e-02, 1.42416334e-02,\n",
       "        1.44065566e-02, 1.45734889e-02, 1.47424657e-02, 1.49135232e-02,\n",
       "        1.50866984e-02, 1.52620291e-02, 1.54395538e-02, 1.56193116e-02,\n",
       "        1.58013426e-02, 1.59856879e-02, 1.61723890e-02, 1.63614886e-02,\n",
       "        1.65530302e-02, 1.67470583e-02, 1.69436180e-02, 1.71427558e-02,\n",
       "        1.73445188e-02, 1.75489554e-02, 1.77561148e-02, 1.79660474e-02,\n",
       "        1.81788047e-02, 1.83944390e-02, 1.86130042e-02, 1.88345550e-02,\n",
       "        1.90591476e-02, 1.92868390e-02, 1.95176879e-02, 1.97517541e-02,\n",
       "        1.99890987e-02, 2.02297841e-02, 2.04738742e-02, 2.07214344e-02,\n",
       "        2.09725315e-02, 2.12272336e-02, 2.14856106e-02, 2.17477341e-02,\n",
       "        2.20136769e-02, 2.22835138e-02, 2.25573213e-02, 2.28351776e-02,\n",
       "        2.31171627e-02, 2.34033585e-02, 2.36938488e-02, 2.39887193e-02,\n",
       "        2.42880579e-02, 2.45919544e-02, 2.49005008e-02, 2.52137914e-02,\n",
       "        2.55319226e-02, 2.58549932e-02, 2.61831044e-02, 2.65163597e-02,\n",
       "        2.68548654e-02, 2.71987301e-02, 2.75480654e-02, 2.79029853e-02,\n",
       "        2.82636069e-02, 2.86300501e-02, 2.90024377e-02, 2.93808958e-02,\n",
       "        2.97655536e-02, 3.01565434e-02, 3.05540011e-02, 3.09580659e-02,\n",
       "        3.13688807e-02, 3.17865920e-02, 3.22113500e-02, 3.26433090e-02,\n",
       "        3.30826273e-02, 3.35294671e-02, 3.39839952e-02, 3.44463826e-02,\n",
       "        3.49168048e-02, 3.53954423e-02, 3.61292083e-02, 3.68825220e-02,\n",
       "        3.76560560e-02, 3.84505102e-02, 3.92666139e-02, 4.01051266e-02,\n",
       "        4.09668400e-02, 4.18525793e-02, 4.27632048e-02, 4.36996138e-02,\n",
       "        4.46627427e-02, 4.56535686e-02, 4.66731114e-02, 4.77224365e-02,\n",
       "        4.88026564e-02, 4.99149340e-02, 5.10604846e-02, 5.22405791e-02,\n",
       "        5.34565467e-02, 5.47097783e-02, 5.60017298e-02, 5.73339254e-02,\n",
       "        5.87079619e-02, 6.01255122e-02, 6.15883301e-02, 6.30982543e-02,\n",
       "        6.46572139e-02, 6.62672332e-02, 6.79304372e-02, 6.96490578e-02,\n",
       "        7.14254399e-02, 7.32620482e-02, 7.51614743e-02, 7.71264446e-02,\n",
       "        7.91598284e-02, 8.12646468e-02, 8.34440820e-02, 8.57014877e-02,\n",
       "        8.80403997e-02, 9.04645476e-02, 9.29778675e-02, 9.55845152e-02,\n",
       "        9.82888809e-02, 1.01095604e-01, 1.04009593e-01, 1.07036036e-01,\n",
       "        1.10180431e-01, 1.13448598e-01, 1.16846703e-01, 1.20381289e-01,\n",
       "        1.24059293e-01, 1.27888082e-01, 1.31875481e-01, 1.36029807e-01,\n",
       "        1.40359904e-01, 1.44875187e-01, 1.49585679e-01, 1.54502063e-01,\n",
       "        1.59635729e-01, 1.64998834e-01, 1.70604358e-01, 1.76466171e-01,\n",
       "        1.82599108e-01, 1.89019045e-01, 1.95742986e-01, 2.02789160e-01,\n",
       "        2.10177121e-01, 2.17927863e-01, 2.26063950e-01, 2.34609648e-01,\n",
       "        2.43591080e-01, 2.53036393e-01, 2.62975946e-01, 2.73442512e-01,\n",
       "        2.84471504e-01, 2.96101234e-01, 3.08373183e-01, 3.21332321e-01,\n",
       "        3.49511577e-01, 3.81082655e-01, 4.16571784e-01, 4.56606278e-01,\n",
       "        5.01937930e-01, 5.53472810e-01, 6.12309505e-01, 6.79788581e-01,\n",
       "        7.57557116e-01, 8.47653686e-01, 9.52621376e-01, 1.07565966e+00,\n",
       "        1.22083088e+00, 1.39334442e+00, 1.59995302e+00, 1.84951375e+00,\n",
       "        2.15379453e+00, 2.74903769e+00, 3.58546528e+00, 4.79871799e+00,\n",
       "        6.62730489e+00, 7.89843275e+00, 9.51657680e+00, 1.16087147e+01,\n",
       "        1.43619200e+01, 1.80593426e+01, 2.31430718e+01, 3.03287639e+01,\n",
       "        4.08253709e+01],\n",
       "       [2.60557139e-02, 2.60567812e-02, 2.60599834e-02, 2.60653211e-02,\n",
       "        2.60727954e-02, 2.60824080e-02, 2.60941606e-02, 2.61080559e-02,\n",
       "        2.61240967e-02, 2.61422862e-02, 2.61626284e-02, 2.61851273e-02,\n",
       "        2.62097877e-02, 2.62366146e-02, 2.62656137e-02, 2.62967910e-02,\n",
       "        2.63301529e-02, 2.63657063e-02, 2.64034588e-02, 2.64434181e-02,\n",
       "        2.64855926e-02, 2.65299910e-02, 2.65766227e-02, 2.66254974e-02,\n",
       "        2.66766252e-02, 2.67300170e-02, 2.67856838e-02, 2.68436374e-02,\n",
       "        2.69038899e-02, 2.69664541e-02, 2.70313430e-02, 2.70985703e-02,\n",
       "        2.71681502e-02, 2.72400975e-02, 2.73144273e-02, 2.73911553e-02,\n",
       "        2.74702979e-02, 2.75518719e-02, 2.76358945e-02, 2.77223838e-02,\n",
       "        2.78113581e-02, 2.79028365e-02, 2.79968385e-02, 2.80933844e-02,\n",
       "        2.81924948e-02, 2.82941910e-02, 2.83984951e-02, 2.85054295e-02,\n",
       "        2.86150173e-02, 2.87272824e-02, 2.88422490e-02, 2.89599423e-02,\n",
       "        2.90803878e-02, 2.92036119e-02, 2.93296416e-02, 2.94585046e-02,\n",
       "        2.95902292e-02, 2.97248443e-02, 2.98623799e-02, 3.00028663e-02,\n",
       "        3.01463346e-02, 3.02928170e-02, 3.04423459e-02, 3.05949549e-02,\n",
       "        3.07506781e-02, 3.09095506e-02, 3.10716081e-02, 3.12368872e-02,\n",
       "        3.14054255e-02, 3.15772611e-02, 3.17524332e-02, 3.19309819e-02,\n",
       "        3.21129479e-02, 3.22983731e-02, 3.24873002e-02, 3.26797728e-02,\n",
       "        3.28758356e-02, 3.30755340e-02, 3.32789147e-02, 3.34860252e-02,\n",
       "        3.36969141e-02, 3.39116309e-02, 3.41302264e-02, 3.43527523e-02,\n",
       "        3.45792616e-02, 3.48098080e-02, 3.50444469e-02, 3.52832345e-02,\n",
       "        3.55262282e-02, 3.57734869e-02, 3.60250704e-02, 3.62810399e-02,\n",
       "        3.65414580e-02, 3.68063884e-02, 3.70758963e-02, 3.73500482e-02,\n",
       "        3.76289120e-02, 3.79125571e-02, 3.82010542e-02, 3.84944757e-02,\n",
       "        3.87928952e-02, 3.90963882e-02, 3.94050316e-02, 3.97189039e-02,\n",
       "        4.00380853e-02, 4.03626576e-02, 4.06927045e-02, 4.10283113e-02,\n",
       "        4.13695650e-02, 4.17165548e-02, 4.20693714e-02, 4.24281076e-02,\n",
       "        4.27928581e-02, 4.31637197e-02, 4.35407910e-02, 4.39241730e-02,\n",
       "        4.43139687e-02, 4.47102832e-02, 4.51132239e-02, 4.55229006e-02,\n",
       "        4.59394253e-02, 4.63629125e-02, 4.67934789e-02, 4.72312441e-02,\n",
       "        4.76763299e-02, 4.81288610e-02, 4.85889646e-02, 4.90567707e-02,\n",
       "        4.95324121e-02, 5.00160245e-02, 5.05077466e-02, 5.10077199e-02,\n",
       "        5.15160893e-02, 5.20330026e-02, 5.25586111e-02, 5.30930690e-02,\n",
       "        5.36365343e-02, 5.41891684e-02, 5.47511361e-02, 5.53226059e-02,\n",
       "        5.59037502e-02, 5.64947450e-02, 5.70957705e-02, 5.77070107e-02,\n",
       "        5.83286537e-02, 5.89608922e-02, 5.96039227e-02, 6.02579465e-02,\n",
       "        6.09231694e-02, 6.15998019e-02, 6.22880592e-02, 6.29881614e-02,\n",
       "        6.37003337e-02, 6.44248065e-02, 6.51618156e-02, 6.59116019e-02,\n",
       "        6.66744123e-02, 6.74504991e-02, 6.82401207e-02, 6.90435414e-02,\n",
       "        6.98610318e-02, 7.06928689e-02, 7.15393359e-02, 7.24007231e-02,\n",
       "        7.32773276e-02, 7.41694533e-02, 7.50774118e-02, 7.60015217e-02,\n",
       "        7.69421095e-02, 7.78995097e-02, 7.88740646e-02, 7.98661249e-02,\n",
       "        8.08760499e-02, 8.19042077e-02, 8.29509752e-02, 8.40167389e-02,\n",
       "        8.51018944e-02, 8.62068476e-02, 8.73320139e-02, 8.84778196e-02,\n",
       "        8.96447013e-02, 9.08331066e-02, 9.20434944e-02, 9.32763353e-02,\n",
       "        9.45321117e-02, 9.58113181e-02, 9.71144620e-02, 9.84420636e-02,\n",
       "        9.97946565e-02, 1.01172788e-01, 1.02577020e-01, 1.04007929e-01,\n",
       "        1.05466105e-01, 1.06952156e-01, 1.08466704e-01, 1.10010387e-01,\n",
       "        1.11583862e-01, 1.13187803e-01, 1.14822899e-01, 1.16489862e-01,\n",
       "        1.18189420e-01, 1.19922321e-01, 1.21689333e-01, 1.23491247e-01,\n",
       "        1.25328874e-01, 1.27203046e-01, 1.29114621e-01, 1.31064476e-01,\n",
       "        1.33053518e-01, 1.35082674e-01, 1.37152901e-01, 1.39265179e-01,\n",
       "        1.41420519e-01, 1.43619958e-01, 1.45864564e-01, 1.48155435e-01,\n",
       "        1.50493700e-01, 1.52880520e-01, 1.55317091e-01, 1.57804642e-01,\n",
       "        1.60344439e-01, 1.62937783e-01, 1.65586016e-01, 1.68290517e-01,\n",
       "        1.71052706e-01, 1.73874046e-01, 1.76756044e-01, 1.79700251e-01,\n",
       "        1.82708265e-01, 1.85781731e-01, 1.88922347e-01, 1.92131859e-01,\n",
       "        1.95412068e-01, 1.98764832e-01, 2.02192062e-01, 2.05695733e-01,\n",
       "        2.09277878e-01, 2.12940595e-01, 2.18590495e-01, 2.24434157e-01,\n",
       "        2.30479539e-01, 2.36734981e-01, 2.43209229e-01, 2.49911460e-01,\n",
       "        2.56851300e-01, 2.64038856e-01, 2.71484739e-01, 2.79200095e-01,\n",
       "        2.87196638e-01, 2.95486676e-01, 3.04083157e-01, 3.12999697e-01,\n",
       "        3.22250623e-01, 3.31851021e-01, 3.41816772e-01, 3.52164611e-01,\n",
       "        3.62912171e-01, 3.74078045e-01, 3.85681843e-01, 3.97744256e-01,\n",
       "        4.10287124e-01, 4.23333515e-01, 4.36907795e-01, 4.51035722e-01,\n",
       "        4.65744530e-01, 4.81063031e-01, 4.97021718e-01, 5.13652880e-01,\n",
       "        5.30990722e-01, 5.49071498e-01, 5.67933649e-01, 5.87617961e-01,\n",
       "        6.08167722e-01, 6.29628906e-01, 6.52050364e-01, 6.75484026e-01,\n",
       "        6.99985132e-01, 7.25612471e-01, 7.52428646e-01, 7.80500358e-01,\n",
       "        8.09898715e-01, 8.40699572e-01, 8.72983890e-01, 9.06838139e-01,\n",
       "        9.42354728e-01, 9.79632473e-01, 1.01877711e+00, 1.05990188e+00,\n",
       "        1.10312807e+00, 1.14858578e+00, 1.19641458e+00, 1.24676432e+00,\n",
       "        1.29979605e+00, 1.35568292e+00, 1.41461128e+00, 1.47678183e+00,\n",
       "        1.54241089e+00, 1.61173181e+00, 1.68499650e+00, 1.76247720e+00,\n",
       "        1.84446828e+00, 1.93128839e+00, 2.02328278e+00, 2.12082581e+00,\n",
       "        2.22432385e+00, 2.33421841e+00, 2.45098967e+00, 2.57516040e+00,\n",
       "        2.70730031e+00, 2.84803099e+00, 2.99803130e+00, 3.15804354e+00,\n",
       "        3.32888029e+00, 3.51143212e+00, 3.70667627e+00, 3.91568644e+00,\n",
       "        4.37984929e+00, 4.91489612e+00, 5.53422142e+00, 6.25426787e+00,\n",
       "        7.09534549e+00, 8.08270706e+00, 9.24797186e+00, 1.06310279e+01,\n",
       "        1.22825983e+01, 1.42677389e+01, 1.66706600e+01, 1.96014510e+01,\n",
       "        2.32055821e+01, 2.76775171e+01, 3.32805121e+01, 4.03758868e+01,\n",
       "        4.94670847e+01, 6.84881101e+01, 9.75960360e+01, 1.43946814e+02,\n",
       "        2.21384327e+02, 2.79740100e+02, 3.58654502e+02, 4.67464464e+02,\n",
       "        6.20850460e+02, 8.42635290e+02, 1.17290967e+03, 1.68206064e+03,\n",
       "        2.50000000e+03]])"
      ]
     },
     "execution_count": 44,
     "metadata": {},
     "output_type": "execute_result"
    }
   ],
   "source": [
    "sol"
   ]
  },
  {
   "cell_type": "code",
   "execution_count": 45,
   "metadata": {
    "colab": {
     "base_uri": "https://localhost:8080/"
    },
    "executionInfo": {
     "elapsed": 5,
     "status": "ok",
     "timestamp": 1633440916443,
     "user": {
      "displayName": "John Kitchin",
      "photoUrl": "https://lh3.googleusercontent.com/a/default-user=s64",
      "userId": "14782011281593705406"
     },
     "user_tz": 240
    },
    "id": "y9EuJ1B2IjQr",
    "outputId": "67c3e6af-943c-4b3b-ee4a-af77439bf566"
   },
   "outputs": [
    {
     "data": {
      "text/plain": [
       "dict_keys(['sol', 'p', 'x', 'y', 'yp', 'rms_residuals', 'niter', 'status', 'message', 'success'])"
      ]
     },
     "execution_count": 45,
     "metadata": {},
     "output_type": "execute_result"
    }
   ],
   "source": [
    "sol.keys()"
   ]
  },
  {
   "cell_type": "code",
   "execution_count": 46,
   "metadata": {
    "colab": {
     "base_uri": "https://localhost:8080/"
    },
    "executionInfo": {
     "elapsed": 6,
     "status": "ok",
     "timestamp": 1633440916921,
     "user": {
      "displayName": "John Kitchin",
      "photoUrl": "https://lh3.googleusercontent.com/a/default-user=s64",
      "userId": "14782011281593705406"
     },
     "user_tz": 240
    },
    "id": "a7xin9UoLxDt",
    "outputId": "ac7286a3-9643-45a9-ab97-7855477040f5"
   },
   "outputs": [
    {
     "name": "stdout",
     "output_type": "stream",
     "text": [
      "0.016528962860989847\n",
      "0.01633462094482091\n"
     ]
    }
   ],
   "source": [
    "c = sol.y[0]\n",
    "print(np.trapz(c**2, sol.x))\n",
    "\n",
    "from scipy.integrate import simps\n",
    "\n",
    "print(simps(c**2, sol.x))"
   ]
  },
  {
   "cell_type": "code",
   "execution_count": 47,
   "metadata": {
    "colab": {
     "base_uri": "https://localhost:8080/"
    },
    "executionInfo": {
     "elapsed": 122,
     "status": "ok",
     "timestamp": 1633440841180,
     "user": {
      "displayName": "John Kitchin",
      "photoUrl": "https://lh3.googleusercontent.com/a/default-user=s64",
      "userId": "14782011281593705406"
     },
     "user_tz": 240
    },
    "id": "GhGRzK5xI1cx",
    "outputId": "5f2ab304-8351-4da5-c89f-9729fd030ee1"
   },
   "outputs": [
    {
     "data": {
      "text/plain": [
       "array([0.00454622, 0.00999503])"
      ]
     },
     "execution_count": 47,
     "metadata": {},
     "output_type": "execute_result"
    }
   ],
   "source": [
    "sol.sol(0.3)  # callable interpolation function to estimate your solution"
   ]
  },
  {
   "cell_type": "markdown",
   "metadata": {
    "id": "MXcXwCEaLxDy"
   },
   "source": [
    "Or, we can use the dense\\_output of the solution with quad.\n",
    "\n"
   ]
  },
  {
   "cell_type": "code",
   "execution_count": 48,
   "metadata": {
    "colab": {
     "base_uri": "https://localhost:8080/"
    },
    "executionInfo": {
     "elapsed": 289,
     "status": "ok",
     "timestamp": 1633440865963,
     "user": {
      "displayName": "John Kitchin",
      "photoUrl": "https://lh3.googleusercontent.com/a/default-user=s64",
      "userId": "14782011281593705406"
     },
     "user_tz": 240
    },
    "id": "sHctdW7yLxD0",
    "outputId": "e1e2d7e2-3de3-4b54-e1dd-72268f37e9a1"
   },
   "outputs": [
    {
     "data": {
      "text/plain": [
       "(0.01632998588357348, 9.76148224805893e-09)"
      ]
     },
     "execution_count": 48,
     "metadata": {},
     "output_type": "execute_result"
    }
   ],
   "source": [
    "from scipy.integrate import quad\n",
    "\n",
    "\n",
    "def integrand(x):\n",
    "    c1, c2 = sol.sol(x)\n",
    "    return c1**2\n",
    "\n",
    "\n",
    "quad(integrand, 0, 1)"
   ]
  },
  {
   "cell_type": "code",
   "execution_count": 49,
   "metadata": {
    "colab": {
     "base_uri": "https://localhost:8080/"
    },
    "executionInfo": {
     "elapsed": 120,
     "status": "ok",
     "timestamp": 1633441571323,
     "user": {
      "displayName": "John Kitchin",
      "photoUrl": "https://lh3.googleusercontent.com/a/default-user=s64",
      "userId": "14782011281593705406"
     },
     "user_tz": 240
    },
    "id": "7agbR45qsPUV",
    "outputId": "c78de5ad-82b6-4970-8a66-3b2bc58dca67"
   },
   "outputs": [
    {
     "data": {
      "text/plain": [
       "array([0.0387161 , 0.31090853])"
      ]
     },
     "execution_count": 49,
     "metadata": {},
     "output_type": "execute_result"
    }
   ],
   "source": [
    "sol.sol(0.8)  # interpolating function on the BVP solution"
   ]
  },
  {
   "cell_type": "code",
   "execution_count": 50,
   "metadata": {
    "colab": {
     "base_uri": "https://localhost:8080/"
    },
    "executionInfo": {
     "elapsed": 117,
     "status": "ok",
     "timestamp": 1633441434107,
     "user": {
      "displayName": "John Kitchin",
      "photoUrl": "https://lh3.googleusercontent.com/a/default-user=s64",
      "userId": "14782011281593705406"
     },
     "user_tz": 240
    },
    "id": "9VUJto-msW2v",
    "outputId": "5c469770-0f35-419a-eb6d-4f41ec1e76ae"
   },
   "outputs": [
    {
     "data": {
      "text/plain": [
       "array([0.93944403])"
      ]
     },
     "execution_count": 50,
     "metadata": {},
     "output_type": "execute_result"
    }
   ],
   "source": [
    "def objective(x):\n",
    "    return 0.2 - sol.sol(x)[0]\n",
    "\n",
    "\n",
    "from scipy.optimize import fsolve\n",
    "\n",
    "fsolve(objective, 0.8)"
   ]
  },
  {
   "cell_type": "markdown",
   "metadata": {
    "id": "9LECXStILxD7"
   },
   "source": [
    "**excercise** Repeat this example for different values of &Phi;.\n",
    "\n",
    "**exercise** Try different kinds of guesses. Think of a guess that has the properties of the boundary conditions, e.g. c'(0) = 0, and c(1) = 1.\n",
    "\n",
    "**exercise** Evaluate the quality of the solution based on the equations.\n",
    "\n"
   ]
  },
  {
   "cell_type": "markdown",
   "metadata": {
    "id": "IKlMK3upLxD8"
   },
   "source": [
    "## Summary\n",
    "\n"
   ]
  },
  {
   "cell_type": "markdown",
   "metadata": {
    "id": "kR2h7CgALxD-"
   },
   "source": [
    "Today, we leveraged the ability to solve systems of nonlinear algebraic equations to solve boundary value problems by discretizing them on a grid, approximating them at the grid points, and then solving the resulting nonlinear equations.\n",
    "\n",
    "We also learned about the solve\\_bvp function, which is in scipy.integrate to solve systems of first-order boundary value problems.\n",
    "\n",
    "Next time, we will return to nonlinear algebra to see how the algorithms can be used to find minima and maxima.\n",
    "\n"
   ]
  }
 ],
 "metadata": {
  "colab": {
   "collapsed_sections": [],
   "name": "09-bvp.ipynb",
   "provenance": []
  },
  "kernelspec": {
   "display_name": "Python 3 (ipykernel)",
   "language": "python",
   "name": "python3"
  },
  "language_info": {
   "codemirror_mode": {
    "name": "ipython",
    "version": 3
   },
   "file_extension": ".py",
   "mimetype": "text/x-python",
   "name": "python",
   "nbconvert_exporter": "python",
   "pygments_lexer": "ipython3",
   "version": "3.9.7"
  },
  "org": {
   "KEYWORDS": "scipy.integrate.solve_bvp, numpy.polyfit"
  }
 },
 "nbformat": 4,
 "nbformat_minor": 4
}
