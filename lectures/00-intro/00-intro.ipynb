{
 "cells": [
  {
   "cell_type": "markdown",
   "metadata": {
    "id": "j_viDBp1qeUy"
   },
   "outputs": [],
   "source": [
    "[TOC](../toc.ipynb)\n",
    "\n",
    "# Introduction to 06-623 and Jupyter Lab\n",
    "\n",
    "\n",
    "\n"
   ]
  },
  {
   "cell_type": "markdown",
   "metadata": {
    "id": "Jc0_OtPuqeUz"
   },
   "outputs": [],
   "source": [
    "You are looking at a Jupyter notebook. This is an interactive computational environment that runs in your browser. We will use it all semester for lectures and assignments. This document is just a high level introduction to what they can do.\n",
    "\n",
    "Jupyter notebooks are an interactive, browser-based tool for running Python. We will use them exclusively in this class. \n",
    "\n",
    "We will use JupyterHUB exclusively this semester because it does not require any software installation or special hardware. You just need a browser and internet connection.\n",
    "\n",
    "We will quickly build up the skills required to solve engineering problems. We will not learn everything about programming, mathematical modeling or engineering processes. My goal is to get you thinking about a very general computational way of thinking about these problems, and to learn how to use computation as a way to augment your analytical skills.\n",
    "\n",
    "I will lecture from the notebooks, and show you how I use them. The notes will be available to you during class for you to work along with me.\n",
    "\n",
    "\n",
    "The next cell is a code cell, and it can be exectued.\n",
    "\n"
   ]
  },
  {
   "cell_type": "code",
   "execution_count": null,
   "metadata": {
    "colab": {
     "base_uri": "https://localhost:8080/"
    },
    "executionInfo": {
     "elapsed": 141,
     "status": "ok",
     "timestamp": 1630413965610,
     "user": {
      "displayName": "John Kitchin",
      "photoUrl": "",
      "userId": "14782011281593705406"
     },
     "user_tz": 240
    },
    "id": "LCTvYTzTqeUz",
    "outputId": "3d60b5bb-965a-4805-ad76-b46e1e3cb4a2"
   },
   "outputs": [],
   "source": [
    "print(\"Hello World! Welcome to 06-623. We are going to have a lot fun!\")\n",
    "print(4)\n",
    "a = 5  # variable assignment\n",
    "print(a)\n",
    "# Click the run button or\n",
    "# C-Enter to run this cell\n",
    "# Type shift-Enter to run this cell and go to the next one or create a new one.\n",
    "# Lines that start with # are considered comments in Python\n",
    "# Alt-Enter will run and insert a new cell\n",
    "\n"
   ]
  },
  {
   "cell_type": "markdown",
   "metadata": {
    "id": "1qyYAE2xqeU2"
   },
   "outputs": [],
   "source": [
    "This is a text cell. It is not executable, but is for people to read. You can embed narrative text, images, equations, etc in them.\n",
    "\n",
    "Let's describe a simple equation that we seek to solve. What is the value of $a$ that satisfies the equation $a + 4 = 5$?\n",
    "\n",
    "We can document our solution here, e.g. we find $x$ by algebra. If we subtract 4 from each side of the equation, $a$ will be isolated, and equal to the value of the right hand side of the equation.\n",
    "\n",
    "<div class=\"alert alert-warning\">\n",
    "You can double-click on any text block (or press Enter if the text cell is selected) to see what the Markdown is that generates it. Press ESC (or shift-Enter) to exit and to re-render the cell and jump to the next cell.\n",
    "\n",
    "\n",
    "Here is the code that implements that explanation:\n",
    "\n",
    "\n",
    "\n"
   ]
  },
  {
   "cell_type": "code",
   "execution_count": null,
   "metadata": {
    "colab": {
     "base_uri": "https://localhost:8080/"
    },
    "executionInfo": {
     "elapsed": 133,
     "status": "ok",
     "timestamp": 1630414359154,
     "user": {
      "displayName": "John Kitchin",
      "photoUrl": "",
      "userId": "14782011281593705406"
     },
     "user_tz": 240
    },
    "id": "KVH9MzzTqeU3",
    "outputId": "88fc840e-586b-4ac3-d15c-a0debfdb5437"
   },
   "outputs": [],
   "source": [
    "a = 5 - 4\n",
    "a  # this makes the value of x get displayed when it is the last line\n",
    "\n"
   ]
  },
  {
   "cell_type": "code",
   "execution_count": null,
   "metadata": {
    "colab": {
     "base_uri": "https://localhost:8080/"
    },
    "executionInfo": {
     "elapsed": 143,
     "status": "ok",
     "timestamp": 1630414363100,
     "user": {
      "displayName": "John Kitchin",
      "photoUrl": "",
      "userId": "14782011281593705406"
     },
     "user_tz": 240
    },
    "id": "Xt6vxosmsmPO",
    "outputId": "c4ad126b-b839-41a2-92f8-2dd135762363"
   },
   "outputs": [],
   "source": [
    "# alternatively, you can print it explicitly\n",
    "print(a)\n",
    "\n"
   ]
  },
  {
   "cell_type": "code",
   "execution_count": null,
   "metadata": {
    "colab": {
     "base_uri": "https://localhost:8080/"
    },
    "executionInfo": {
     "elapsed": 131,
     "status": "ok",
     "timestamp": 1630414374223,
     "user": {
      "displayName": "John Kitchin",
      "photoUrl": "",
      "userId": "14782011281593705406"
     },
     "user_tz": 240
    },
    "id": "-kv3PCqWRO_R",
    "outputId": "3b983f45-0fae-4c4f-fa19-95384aa3a8f2"
   },
   "outputs": [],
   "source": [
    "print(5 - 4)\n",
    "\n"
   ]
  },
  {
   "cell_type": "markdown",
   "metadata": {
    "id": "Gnt1yLo1qeU5"
   },
   "outputs": [],
   "source": [
    "### numpy\n",
    "\n",
    "\n",
    "\n"
   ]
  },
  {
   "cell_type": "markdown",
   "metadata": {
    "id": "zUc9aObNqeU5"
   },
   "outputs": [],
   "source": [
    "[numpy](http://www.numpy.org) is a Python library for arrays. We have to import this library to access the functionality in it. The conventional way to import this library is:\n",
    "\n",
    "<div class=\"alert alert-warning\">\n",
    "Remember this cell. You will use it almost every time.\n",
    "</div>\n",
    "\n",
    "\n",
    "\n"
   ]
  },
  {
   "cell_type": "code",
   "execution_count": null,
   "metadata": {
    "id": "OIxMKKm6qeU5"
   },
   "outputs": [],
   "source": [
    "import numpy as np\n",
    "\n"
   ]
  },
  {
   "cell_type": "markdown",
   "metadata": {
    "id": "UumWe1d5qeU8"
   },
   "outputs": [],
   "source": [
    "To see help on the numpy library, run this cell:\n",
    "\n",
    "\n",
    "\n"
   ]
  },
  {
   "cell_type": "code",
   "execution_count": null,
   "metadata": {
    "id": "9Shkb1fiqeU8"
   },
   "outputs": [],
   "source": [
    "?np\n",
    "\n"
   ]
  },
  {
   "cell_type": "markdown",
   "metadata": {
    "id": "3ulEf6ClqeU-"
   },
   "outputs": [],
   "source": [
    "Now, we can access functions in the numpy module using \"dot notation\". For example, let us start by creating an array of linearly spaced points using the linspace function. First, we access the help to see how to use it.\n",
    "\n",
    "\n",
    "\n"
   ]
  },
  {
   "cell_type": "code",
   "execution_count": null,
   "metadata": {
    "id": "g1bIAp7HqeU-"
   },
   "outputs": [],
   "source": [
    "?np.linspace\n",
    "\n"
   ]
  },
  {
   "cell_type": "markdown",
   "metadata": {
    "id": "Uh0UjSTPqeVB"
   },
   "outputs": [],
   "source": [
    "<div class=\"alert alert-warning\">\n",
    "np.pi is a constant for the number $\\pi$\n",
    "</div>\n",
    "\n",
    "\n",
    "\n"
   ]
  },
  {
   "cell_type": "code",
   "execution_count": null,
   "metadata": {
    "colab": {
     "base_uri": "https://localhost:8080/"
    },
    "executionInfo": {
     "elapsed": 125,
     "status": "ok",
     "timestamp": 1630415129728,
     "user": {
      "displayName": "John Kitchin",
      "photoUrl": "",
      "userId": "14782011281593705406"
     },
     "user_tz": 240
    },
    "id": "UbWot0yP4MwT",
    "outputId": "b7944ce0-4bd4-4c37-9968-4882e5d7433d"
   },
   "outputs": [],
   "source": [
    "np.pi\n",
    "\n"
   ]
  },
  {
   "cell_type": "code",
   "execution_count": null,
   "metadata": {
    "colab": {
     "base_uri": "https://localhost:8080/"
    },
    "executionInfo": {
     "elapsed": 141,
     "status": "ok",
     "timestamp": 1630415328779,
     "user": {
      "displayName": "John Kitchin",
      "photoUrl": "",
      "userId": "14782011281593705406"
     },
     "user_tz": 240
    },
    "id": "HcXcVOuwqeVB",
    "outputId": "fbc48289-68fa-40c1-a200-e35af8130277"
   },
   "outputs": [],
   "source": [
    "x = np.linspace(0, 2 * np.pi)\n",
    "x\n",
    "\n"
   ]
  },
  {
   "cell_type": "markdown",
   "metadata": {
    "id": "tzERW_ByqeVD"
   },
   "outputs": [],
   "source": [
    "Most mathematical operations are element-wise on arrays.\n",
    "\n",
    "\n",
    "\n"
   ]
  },
  {
   "cell_type": "code",
   "execution_count": null,
   "metadata": {
    "colab": {
     "base_uri": "https://localhost:8080/"
    },
    "executionInfo": {
     "elapsed": 143,
     "status": "ok",
     "timestamp": 1630415336360,
     "user": {
      "displayName": "John Kitchin",
      "photoUrl": "",
      "userId": "14782011281593705406"
     },
     "user_tz": 240
    },
    "id": "4DRcaO3TvK3y",
    "outputId": "2a07c5b7-e929-4607-cf05-e1bf9ea61971"
   },
   "outputs": [],
   "source": [
    "x - x\n",
    "\n"
   ]
  },
  {
   "cell_type": "code",
   "execution_count": null,
   "metadata": {
    "colab": {
     "base_uri": "https://localhost:8080/"
    },
    "executionInfo": {
     "elapsed": 128,
     "status": "ok",
     "timestamp": 1630415352209,
     "user": {
      "displayName": "John Kitchin",
      "photoUrl": "",
      "userId": "14782011281593705406"
     },
     "user_tz": 240
    },
    "id": "FIWpP0g2qeVD",
    "outputId": "e6545e1b-8b66-49b0-8f50-7e57734d7267"
   },
   "outputs": [],
   "source": [
    "x * x\n",
    "\n"
   ]
  },
  {
   "cell_type": "code",
   "execution_count": null,
   "metadata": {
    "colab": {
     "base_uri": "https://localhost:8080/"
    },
    "executionInfo": {
     "elapsed": 140,
     "status": "ok",
     "timestamp": 1630415390876,
     "user": {
      "displayName": "John Kitchin",
      "photoUrl": "",
      "userId": "14782011281593705406"
     },
     "user_tz": 240
    },
    "id": "Wy9jyOgQVHUE",
    "outputId": "8bc0fe35-8a99-4b51-d185-011ffaf8f919"
   },
   "outputs": [],
   "source": [
    "x @ x  # dot-product -> leads to a constant\n",
    "\n"
   ]
  },
  {
   "cell_type": "code",
   "execution_count": null,
   "metadata": {
    "colab": {
     "base_uri": "https://localhost:8080/"
    },
    "executionInfo": {
     "elapsed": 129,
     "status": "ok",
     "timestamp": 1630415362360,
     "user": {
      "displayName": "John Kitchin",
      "photoUrl": "",
      "userId": "14782011281593705406"
     },
     "user_tz": 240
    },
    "id": "-hLN-TeAVAoa",
    "outputId": "bd97c739-c12f-4c25-b8f2-377b712f0c03"
   },
   "outputs": [],
   "source": [
    "x**2\n",
    "\n"
   ]
  },
  {
   "cell_type": "markdown",
   "metadata": {
    "id": "4lmK2NPhqeVF"
   },
   "outputs": [],
   "source": [
    "We can define new variables\n",
    "\n",
    "\n",
    "\n"
   ]
  },
  {
   "cell_type": "code",
   "execution_count": null,
   "metadata": {
    "colab": {
     "base_uri": "https://localhost:8080/"
    },
    "executionInfo": {
     "elapsed": 198,
     "status": "ok",
     "timestamp": 1630415499733,
     "user": {
      "displayName": "John Kitchin",
      "photoUrl": "",
      "userId": "14782011281593705406"
     },
     "user_tz": 240
    },
    "id": "5Iv_zjQTqeVG",
    "outputId": "872452b0-342c-4e6a-f3d9-9a98125ce9c5"
   },
   "outputs": [],
   "source": [
    "y1 = np.sin(x)\n",
    "y2 = np.cos(x)\n",
    "y2\n",
    "\n"
   ]
  },
  {
   "cell_type": "markdown",
   "metadata": {
    "id": "SZuASPW0qeVI"
   },
   "outputs": [],
   "source": [
    "### plotting\n",
    "\n",
    "\n",
    "\n"
   ]
  },
  {
   "cell_type": "markdown",
   "metadata": {
    "id": "Si59i0MDqeVI"
   },
   "outputs": [],
   "source": [
    "We can make plots using [matplotlib](https://matplotlib.org). This cell imports the plotting library. These should be used in this order.\n",
    "\n",
    "<div class=\"alert alert-warning\">\n",
    "Remember this cell. You will use it almost every time you make a plot.\n",
    "</div>\n",
    "\n",
    "\n",
    "\n"
   ]
  },
  {
   "cell_type": "code",
   "execution_count": null,
   "metadata": {
    "id": "ES89jR1ZqeVJ"
   },
   "outputs": [],
   "source": [
    "import matplotlib.pyplot as plt\n",
    "\n"
   ]
  },
  {
   "cell_type": "markdown",
   "metadata": {
    "id": "rIg6S29yqeVL"
   },
   "outputs": [],
   "source": [
    "You call functions in the plt library to create plots. These are automatically saved in the notebook.\n",
    "\n",
    "\n",
    "\n"
   ]
  },
  {
   "cell_type": "code",
   "execution_count": null,
   "metadata": {
    "colab": {
     "base_uri": "https://localhost:8080/",
     "height": 279
    },
    "executionInfo": {
     "elapsed": 403,
     "status": "ok",
     "timestamp": 1630416034380,
     "user": {
      "displayName": "John Kitchin",
      "photoUrl": "",
      "userId": "14782011281593705406"
     },
     "user_tz": 240
    },
    "id": "r0I3Tl8JqeVL",
    "outputId": "3d44fc89-ad77-4dcc-d921-bdde29c452d5"
   },
   "outputs": [],
   "source": [
    "x = np.linspace(0, 2 * np.pi, 100)\n",
    "y1 = np.sin(x)\n",
    "y2 = np.cos(x)\n",
    "plt.plot(x, y1, \"b-\", x, y2, \"r-\")\n",
    "plt.xlabel(\"x\")\n",
    "plt.ylabel(\"y\")\n",
    "plt.legend([\"y1\", \"y2\"])\n",
    "# Always include axis labels and legends when appropriate\n",
    "\n"
   ]
  },
  {
   "cell_type": "markdown",
   "metadata": {
    "id": "YPjmFnpJqeVN"
   },
   "outputs": [],
   "source": [
    "### scipy\n",
    "\n",
    "\n",
    "\n"
   ]
  },
  {
   "cell_type": "markdown",
   "metadata": {
    "id": "pJxNLgtnqeVN"
   },
   "outputs": [],
   "source": [
    "[scipy](https://www.scipy.org) contains numerous libraries for a broad range of scientific computing needs.\n",
    "\n",
    "Suppose we want to perform the [following integral](https://docs.scipy.org/doc/scipy/reference/tutorial/integrate.html#general-integration-quad): $I = \\int_0^{4.5} J_{2.5}(x) dx$. The function $J_{2.5}$ is a special function known as a Bessel function. scipy provides both the integration function, and an implementation of the special function we can use.\n",
    "\n",
    "This is not code you need to memorize now; it is an example of the kind of code we will learn to write.\n",
    "\n"
   ]
  },
  {
   "cell_type": "code",
   "execution_count": null,
   "metadata": {
    "id": "TuYax0RUqeVO"
   },
   "outputs": [],
   "source": [
    "from scipy.integrate import quad\n",
    "from scipy.special import jv\n",
    "\n"
   ]
  },
  {
   "cell_type": "code",
   "execution_count": null,
   "metadata": {
    "id": "oaehXlLXqeVQ"
   },
   "outputs": [],
   "source": [
    "?quad\n",
    "\n"
   ]
  },
  {
   "cell_type": "code",
   "execution_count": null,
   "metadata": {
    "id": "aLPskvhAqeVS"
   },
   "outputs": [],
   "source": [
    "?jv\n",
    "\n"
   ]
  },
  {
   "cell_type": "markdown",
   "metadata": {
    "id": "wbMMu2hYqeVU"
   },
   "outputs": [],
   "source": [
    "To evaluate this integral, we have to define a function for the integrand, and use the quad function to compute the integral. The quad function returns two values, the value of the integral, and an estimate of the maximum error in the integral.\n",
    "\n",
    "\n",
    "\n"
   ]
  },
  {
   "cell_type": "code",
   "execution_count": null,
   "metadata": {
    "colab": {
     "base_uri": "https://localhost:8080/"
    },
    "executionInfo": {
     "elapsed": 132,
     "status": "ok",
     "timestamp": 1630416396578,
     "user": {
      "displayName": "John Kitchin",
      "photoUrl": "",
      "userId": "14782011281593705406"
     },
     "user_tz": 240
    },
    "id": "9yHwgwH_qeVU",
    "outputId": "d02a85a8-75a7-40f0-ae0a-b34ce5b5b24e"
   },
   "outputs": [],
   "source": [
    "# This is how we define a function. There is a function name, and arguments\n",
    "# The function returns the output of the jv function.\n",
    "def integrand(x):\n",
    "    return jv(2.5, x)\n",
    "\n",
    "\n",
    "I, err = quad(integrand, 0, 4.5)\n",
    "\n",
    "I, err\n",
    "\n"
   ]
  },
  {
   "cell_type": "markdown",
   "metadata": {
    "id": "7X1tQkLTqeVY"
   },
   "outputs": [],
   "source": [
    "## Summary\n",
    "\n",
    "\n",
    "\n"
   ]
  },
  {
   "cell_type": "markdown",
   "metadata": {
    "id": "Fo35Q5anqeVY"
   },
   "outputs": [],
   "source": [
    "Today we introduced several ideas about using Jupyter notebooks to run Python computations. The main points are:\n",
    "\n",
    "1.  Code is run in code cells\n",
    "2.  You have to import some functions from libraries\n",
    "3.  numpy, scipy and matplotlib are three of the main scientific programming libraries we will use a lot.\n",
    "4.  We saw some ways to get help on functions\n",
    "\n",
    "Next time we will dig into defining functions more deeply, and how to print formatted strings containing results.\n",
    "\n",
    "\n",
    "\n"
   ]
  },
  {
   "cell_type": "markdown",
   "metadata": {
    "id": "J6nTQ2WyD3Ci"
   },
   "outputs": [],
   "source": [
    "# Getting a PDF from a Jupyter notebook\n",
    "\n",
    "Go to the File->Save and Export Notebook As->Webpdf\n",
    "\n",
    "A PDF file should automatically be created and download in your browser in a new tab. Note you can also use PDF instead; this uses LaTeX to create a PDF. It may be nicer looking, but it is more fragile and does not always work.\n",
    "\n",
    "\n",
    "\n"
   ]
  },
  {
   "cell_type": "markdown",
   "metadata": {},
   "outputs": [],
   "source": [
    "# Additional resources\n",
    "\n",
    "1. Check out the [pycse playlist on YouTube](https://www.youtube.com/playlist?list=PL0sMmOaE_gs2yzwy54kLZk5c1ZH-Nh-62).\n",
    "2. See [Point Breeze Publications, LLC](https://pointbreezepubs.gumroad.com/) for a series of booklets on pycse on different topics (some are advanced).\n",
    "3. Explore the Help menu in Jupyter Lab.\n",
    "4. Ask questions on the [class Discord server](https://discord.com/channels/1009520272526807140/1009520272526807144).\n",
    "\n"
   ]
  },
  {
   "cell_type": "markdown",
   "metadata": {},
   "outputs": [],
   "source": [
    "# Some review material\n",
    "\n",
    "Below you will find a quiz, and some flash cards. When you run the cells, you will get an interactive widget you can use to test your understanding. The results are not persistent, and they will disappear when you close the notebook.\n",
    "\n"
   ]
  },
  {
   "cell_type": "code",
   "execution_count": 7,
   "metadata": {},
   "outputs": [],
   "source": [
    "from jupyterquiz import display_quiz\n",
    "display_quiz('quiz.json')\n",
    "\n"
   ]
  },
  {
   "cell_type": "markdown",
   "metadata": {},
   "outputs": [],
   "source": [
    "Run this cell. Click on the card to see the other side. Click Next to see the next card.\n",
    "\n"
   ]
  },
  {
   "cell_type": "code",
   "execution_count": 22,
   "metadata": {},
   "outputs": [],
   "source": [
    "from jupytercards import display_flashcards\n",
    "ch00 = 'https://raw.githubusercontent.com/Steel-Bank-codespaces/f22-06623/main/lectures/00-intro/flash.json'\n",
    "display_flashcards(ch00)\n",
    "\n"
   ]
  }
 ],
 "metadata": {
  "colab": {
   "collapsed_sections": [],
   "name": "00-intro.ipynb",
   "provenance": []
  },
  "kernelspec": {
   "display_name": "Python 3 (ipykernel)",
   "language": "python",
   "name": "python3"
  },
  "language_info": {
   "codemirror_mode": {
    "name": "ipython",
    "version": 3
   },
   "file_extension": ".py",
   "mimetype": "text/x-python",
   "name": "python",
   "nbconvert_exporter": "python",
   "pygments_lexer": "ipython3",
   "version": "3.9.7"
  },
  "org": {
   "KEYWORDS": "introduction"
  },
  "vscode": {
   "interpreter": {
    "hash": "d4d1e4263499bec80672ea0156c357c1ee493ec2b1c70f0acce89fc37c4a6abe"
   }
  },
  "widgets": {
   "application/vnd.jupyter.widget-state+json": {
    "state": {},
    "version_major": 2,
    "version_minor": 0
   }
  }
 },
 "nbformat": 4,
 "nbformat_minor": 4
}
