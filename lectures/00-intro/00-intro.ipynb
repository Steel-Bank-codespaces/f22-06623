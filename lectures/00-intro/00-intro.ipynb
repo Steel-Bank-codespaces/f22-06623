{
 "cells": [
  {
   "cell_type": "markdown",
   "metadata": {
    "id": "j_viDBp1qeUy"
   },
   "source": [
    "[TOC](../toc.ipynb)\n",
    "\n",
    "# Introduction to 06-623 and Jupyter Lab\n",
    "\n",
    "\n",
    "\n"
   ]
  },
  {
   "cell_type": "markdown",
   "metadata": {
    "id": "Jc0_OtPuqeUz"
   },
   "source": [
    "You are looking at a Jupyter notebook. This is an interactive computational environment that runs in your browser. We will use it all semester for lectures and assignments. This document is just a high level introduction to what they can do.\n",
    "\n",
    "Jupyter notebooks are an interactive, browser-based tool for running Python. We will use them exclusively in this class. \n",
    "\n",
    "We will use JupyterHUB exclusively this semester because it does not require any software installation or special hardware. You just need a browser and internet connection.\n",
    "\n",
    "We will quickly build up the skills required to solve engineering problems. We will not learn everything about programming, mathematical modeling or engineering processes. My goal is to get you thinking about a very general computational way of thinking about these problems, and to learn how to use computation as a way to augment your analytical skills.\n",
    "\n",
    "I will lecture from the notebooks, and show you how I use them. The notes will be available to you during class for you to work along with me.\n",
    "\n",
    "\n",
    "The next cell is a code cell, and it can be executed.\n",
    "\n"
   ]
  },
  {
   "cell_type": "code",
   "execution_count": 33,
   "metadata": {
    "colab": {
     "base_uri": "https://localhost:8080/"
    },
    "executionInfo": {
     "elapsed": 141,
     "status": "ok",
     "timestamp": 1630413965610,
     "user": {
      "displayName": "John Kitchin",
      "photoUrl": "",
      "userId": "14782011281593705406"
     },
     "user_tz": 240
    },
    "id": "LCTvYTzTqeUz",
    "outputId": "3d60b5bb-965a-4805-ad76-b46e1e3cb4a2"
   },
   "outputs": [
    {
     "name": "stdout",
     "output_type": "stream",
     "text": [
      "Hello World! Welcome to 06-623. We are going to have a lot fun!\n",
      "4\n",
      "5\n"
     ]
    }
   ],
   "source": [
    "print(\"Hello World! Welcome to 06-623. We are going to have a lot fun!\")\n",
    "print(4)\n",
    "a = 5  # variable assignment\n",
    "print(a)\n",
    "# Click the run button or\n",
    "# C-Enter to run this cell\n",
    "# Type shift-Enter to run this cell and go to the next one or create a new one.\n",
    "# Lines that start with # are considered comments in Python\n",
    "# Alt-Enter will run and insert a new cell\n",
    "\n"
   ]
  },
  {
   "cell_type": "markdown",
   "metadata": {
    "id": "1qyYAE2xqeU2"
   },
   "source": [
    "This is a text cell. It is not executable, but is for people to read. You can embed narrative text, images, equations, etc in them.\n",
    "\n",
    "Let's describe a simple equation that we seek to solve. What is the value of $a$ that satisfies the equation $a + 4 = 5$?\n",
    "\n",
    "We can document our solution here, e.g. we find $x$ by algebra. If we subtract 4 from each side of the equation, $a$ will be isolated, and equal to the value of the right hand side of the equation.\n",
    "\n",
    "<div class=\"alert alert-warning\">\n",
    "You can double-click on any text block (or press Enter if the text cell is selected) to see what the Markdown is that generates it. Press ESC (or shift-Enter) to exit and to re-render the cell and jump to the next cell.\n",
    "\n",
    "\n",
    "Here is the code that implements that explanation:\n",
    "\n",
    "\n",
    "\n"
   ]
  },
  {
   "cell_type": "code",
   "execution_count": 12,
   "metadata": {
    "colab": {
     "base_uri": "https://localhost:8080/"
    },
    "executionInfo": {
     "elapsed": 133,
     "status": "ok",
     "timestamp": 1630414359154,
     "user": {
      "displayName": "John Kitchin",
      "photoUrl": "",
      "userId": "14782011281593705406"
     },
     "user_tz": 240
    },
    "id": "KVH9MzzTqeU3",
    "outputId": "88fc840e-586b-4ac3-d15c-a0debfdb5437"
   },
   "outputs": [
    {
     "data": {
      "text/plain": [
       "1"
      ]
     },
     "execution_count": 12,
     "metadata": {},
     "output_type": "execute_result"
    }
   ],
   "source": [
    "a = 5 - 4\n",
    "a  # this makes the value of x get displayed when it is the last line\n",
    "\n"
   ]
  },
  {
   "cell_type": "code",
   "execution_count": 13,
   "metadata": {
    "colab": {
     "base_uri": "https://localhost:8080/"
    },
    "executionInfo": {
     "elapsed": 143,
     "status": "ok",
     "timestamp": 1630414363100,
     "user": {
      "displayName": "John Kitchin",
      "photoUrl": "",
      "userId": "14782011281593705406"
     },
     "user_tz": 240
    },
    "id": "Xt6vxosmsmPO",
    "outputId": "c4ad126b-b839-41a2-92f8-2dd135762363"
   },
   "outputs": [
    {
     "name": "stdout",
     "output_type": "stream",
     "text": [
      "1\n"
     ]
    }
   ],
   "source": [
    "# alternatively, you can print it explicitly\n",
    "print(a)\n",
    "\n"
   ]
  },
  {
   "cell_type": "code",
   "execution_count": 14,
   "metadata": {
    "colab": {
     "base_uri": "https://localhost:8080/"
    },
    "executionInfo": {
     "elapsed": 131,
     "status": "ok",
     "timestamp": 1630414374223,
     "user": {
      "displayName": "John Kitchin",
      "photoUrl": "",
      "userId": "14782011281593705406"
     },
     "user_tz": 240
    },
    "id": "-kv3PCqWRO_R",
    "outputId": "3b983f45-0fae-4c4f-fa19-95384aa3a8f2"
   },
   "outputs": [
    {
     "name": "stdout",
     "output_type": "stream",
     "text": [
      "1\n"
     ]
    }
   ],
   "source": [
    "print(5 - 4)\n",
    "\n"
   ]
  },
  {
   "cell_type": "markdown",
   "metadata": {
    "id": "Gnt1yLo1qeU5"
   },
   "source": [
    "### numpy\n",
    "\n",
    "\n",
    "\n"
   ]
  },
  {
   "cell_type": "markdown",
   "metadata": {
    "id": "zUc9aObNqeU5"
   },
   "source": [
    "[numpy](http://www.numpy.org) is a Python library for arrays. We have to import this library to access the functionality in it. The conventional way to import this library is:\n",
    "\n",
    "<div class=\"alert alert-warning\">\n",
    "Remember this cell. You will use it almost every time.\n",
    "</div>\n",
    "\n",
    "\n",
    "\n"
   ]
  },
  {
   "cell_type": "code",
   "execution_count": 34,
   "metadata": {
    "id": "OIxMKKm6qeU5"
   },
   "outputs": [],
   "source": [
    "import numpy as np\n",
    "\n"
   ]
  },
  {
   "cell_type": "markdown",
   "metadata": {
    "id": "UumWe1d5qeU8"
   },
   "source": [
    "To see help on the numpy library, run this cell:\n",
    "\n",
    "\n",
    "\n"
   ]
  },
  {
   "cell_type": "code",
   "execution_count": 17,
   "metadata": {
    "id": "9Shkb1fiqeU8"
   },
   "outputs": [
    {
     "data": {
      "text/plain": [
       "\u001b[0;31mType:\u001b[0m        module\n",
       "\u001b[0;31mString form:\u001b[0m <module 'numpy' from '/opt/tljh/user/lib/python3.9/site-packages/numpy/__init__.py'>\n",
       "\u001b[0;31mFile:\u001b[0m        /opt/tljh/user/lib/python3.9/site-packages/numpy/__init__.py\n",
       "\u001b[0;31mDocstring:\u001b[0m  \n",
       "NumPy\n",
       "=====\n",
       "\n",
       "Provides\n",
       "  1. An array object of arbitrary homogeneous items\n",
       "  2. Fast mathematical operations over arrays\n",
       "  3. Linear Algebra, Fourier Transforms, Random Number Generation\n",
       "\n",
       "How to use the documentation\n",
       "----------------------------\n",
       "Documentation is available in two forms: docstrings provided\n",
       "with the code, and a loose standing reference guide, available from\n",
       "`the NumPy homepage <https://numpy.org>`_.\n",
       "\n",
       "We recommend exploring the docstrings using\n",
       "`IPython <https://ipython.org>`_, an advanced Python shell with\n",
       "TAB-completion and introspection capabilities.  See below for further\n",
       "instructions.\n",
       "\n",
       "The docstring examples assume that `numpy` has been imported as `np`::\n",
       "\n",
       "  >>> import numpy as np\n",
       "\n",
       "Code snippets are indicated by three greater-than signs::\n",
       "\n",
       "  >>> x = 42\n",
       "  >>> x = x + 1\n",
       "\n",
       "Use the built-in ``help`` function to view a function's docstring::\n",
       "\n",
       "  >>> help(np.sort)\n",
       "  ... # doctest: +SKIP\n",
       "\n",
       "For some objects, ``np.info(obj)`` may provide additional help.  This is\n",
       "particularly true if you see the line \"Help on ufunc object:\" at the top\n",
       "of the help() page.  Ufuncs are implemented in C, not Python, for speed.\n",
       "The native Python help() does not know how to view their help, but our\n",
       "np.info() function does.\n",
       "\n",
       "To search for documents containing a keyword, do::\n",
       "\n",
       "  >>> np.lookfor('keyword')\n",
       "  ... # doctest: +SKIP\n",
       "\n",
       "General-purpose documents like a glossary and help on the basic concepts\n",
       "of numpy are available under the ``doc`` sub-module::\n",
       "\n",
       "  >>> from numpy import doc\n",
       "  >>> help(doc)\n",
       "  ... # doctest: +SKIP\n",
       "\n",
       "Available subpackages\n",
       "---------------------\n",
       "lib\n",
       "    Basic functions used by several sub-packages.\n",
       "random\n",
       "    Core Random Tools\n",
       "linalg\n",
       "    Core Linear Algebra Tools\n",
       "fft\n",
       "    Core FFT routines\n",
       "polynomial\n",
       "    Polynomial tools\n",
       "testing\n",
       "    NumPy testing tools\n",
       "distutils\n",
       "    Enhancements to distutils with support for\n",
       "    Fortran compilers support and more.\n",
       "\n",
       "Utilities\n",
       "---------\n",
       "test\n",
       "    Run numpy unittests\n",
       "show_config\n",
       "    Show numpy build configuration\n",
       "dual\n",
       "    Overwrite certain functions with high-performance SciPy tools.\n",
       "    Note: `numpy.dual` is deprecated.  Use the functions from NumPy or Scipy\n",
       "    directly instead of importing them from `numpy.dual`.\n",
       "matlib\n",
       "    Make everything matrices.\n",
       "__version__\n",
       "    NumPy version string\n",
       "\n",
       "Viewing documentation using IPython\n",
       "-----------------------------------\n",
       "Start IPython with the NumPy profile (``ipython -p numpy``), which will\n",
       "import `numpy` under the alias `np`.  Then, use the ``cpaste`` command to\n",
       "paste examples into the shell.  To see which functions are available in\n",
       "`numpy`, type ``np.<TAB>`` (where ``<TAB>`` refers to the TAB key), or use\n",
       "``np.*cos*?<ENTER>`` (where ``<ENTER>`` refers to the ENTER key) to narrow\n",
       "down the list.  To view the docstring for a function, use\n",
       "``np.cos?<ENTER>`` (to view the docstring) and ``np.cos??<ENTER>`` (to view\n",
       "the source code).\n",
       "\n",
       "Copies vs. in-place operation\n",
       "-----------------------------\n",
       "Most of the functions in `numpy` return a copy of the array argument\n",
       "(e.g., `np.sort`).  In-place versions of these functions are often\n",
       "available as array methods, i.e. ``x = np.array([1,2,3]); x.sort()``.\n",
       "Exceptions to this rule are documented.\n"
      ]
     },
     "metadata": {},
     "output_type": "display_data"
    }
   ],
   "source": [
    "?np\n",
    "\n"
   ]
  },
  {
   "cell_type": "markdown",
   "metadata": {
    "id": "3ulEf6ClqeU-"
   },
   "source": [
    "Now, we can access functions in the numpy module using \"dot notation\". For example, let us start by creating an array of linearly spaced points using the linspace function. First, we access the help to see how to use it.\n",
    "\n",
    "\n",
    "\n"
   ]
  },
  {
   "cell_type": "code",
   "execution_count": 35,
   "metadata": {
    "id": "g1bIAp7HqeU-"
   },
   "outputs": [
    {
     "data": {
      "text/plain": [
       "\u001b[0;31mSignature:\u001b[0m\n",
       "\u001b[0mnp\u001b[0m\u001b[0;34m.\u001b[0m\u001b[0mlinspace\u001b[0m\u001b[0;34m(\u001b[0m\u001b[0;34m\u001b[0m\n",
       "\u001b[0;34m\u001b[0m    \u001b[0mstart\u001b[0m\u001b[0;34m,\u001b[0m\u001b[0;34m\u001b[0m\n",
       "\u001b[0;34m\u001b[0m    \u001b[0mstop\u001b[0m\u001b[0;34m,\u001b[0m\u001b[0;34m\u001b[0m\n",
       "\u001b[0;34m\u001b[0m    \u001b[0mnum\u001b[0m\u001b[0;34m=\u001b[0m\u001b[0;36m50\u001b[0m\u001b[0;34m,\u001b[0m\u001b[0;34m\u001b[0m\n",
       "\u001b[0;34m\u001b[0m    \u001b[0mendpoint\u001b[0m\u001b[0;34m=\u001b[0m\u001b[0;32mTrue\u001b[0m\u001b[0;34m,\u001b[0m\u001b[0;34m\u001b[0m\n",
       "\u001b[0;34m\u001b[0m    \u001b[0mretstep\u001b[0m\u001b[0;34m=\u001b[0m\u001b[0;32mFalse\u001b[0m\u001b[0;34m,\u001b[0m\u001b[0;34m\u001b[0m\n",
       "\u001b[0;34m\u001b[0m    \u001b[0mdtype\u001b[0m\u001b[0;34m=\u001b[0m\u001b[0;32mNone\u001b[0m\u001b[0;34m,\u001b[0m\u001b[0;34m\u001b[0m\n",
       "\u001b[0;34m\u001b[0m    \u001b[0maxis\u001b[0m\u001b[0;34m=\u001b[0m\u001b[0;36m0\u001b[0m\u001b[0;34m,\u001b[0m\u001b[0;34m\u001b[0m\n",
       "\u001b[0;34m\u001b[0m\u001b[0;34m)\u001b[0m\u001b[0;34m\u001b[0m\u001b[0;34m\u001b[0m\u001b[0m\n",
       "\u001b[0;31mDocstring:\u001b[0m\n",
       "Return evenly spaced numbers over a specified interval.\n",
       "\n",
       "Returns `num` evenly spaced samples, calculated over the\n",
       "interval [`start`, `stop`].\n",
       "\n",
       "The endpoint of the interval can optionally be excluded.\n",
       "\n",
       ".. versionchanged:: 1.16.0\n",
       "    Non-scalar `start` and `stop` are now supported.\n",
       "\n",
       ".. versionchanged:: 1.20.0\n",
       "    Values are rounded towards ``-inf`` instead of ``0`` when an\n",
       "    integer ``dtype`` is specified. The old behavior can\n",
       "    still be obtained with ``np.linspace(start, stop, num).astype(int)``\n",
       "\n",
       "Parameters\n",
       "----------\n",
       "start : array_like\n",
       "    The starting value of the sequence.\n",
       "stop : array_like\n",
       "    The end value of the sequence, unless `endpoint` is set to False.\n",
       "    In that case, the sequence consists of all but the last of ``num + 1``\n",
       "    evenly spaced samples, so that `stop` is excluded.  Note that the step\n",
       "    size changes when `endpoint` is False.\n",
       "num : int, optional\n",
       "    Number of samples to generate. Default is 50. Must be non-negative.\n",
       "endpoint : bool, optional\n",
       "    If True, `stop` is the last sample. Otherwise, it is not included.\n",
       "    Default is True.\n",
       "retstep : bool, optional\n",
       "    If True, return (`samples`, `step`), where `step` is the spacing\n",
       "    between samples.\n",
       "dtype : dtype, optional\n",
       "    The type of the output array.  If `dtype` is not given, the data type\n",
       "    is inferred from `start` and `stop`. The inferred dtype will never be\n",
       "    an integer; `float` is chosen even if the arguments would produce an\n",
       "    array of integers.\n",
       "\n",
       "    .. versionadded:: 1.9.0\n",
       "\n",
       "axis : int, optional\n",
       "    The axis in the result to store the samples.  Relevant only if start\n",
       "    or stop are array-like.  By default (0), the samples will be along a\n",
       "    new axis inserted at the beginning. Use -1 to get an axis at the end.\n",
       "\n",
       "    .. versionadded:: 1.16.0\n",
       "\n",
       "Returns\n",
       "-------\n",
       "samples : ndarray\n",
       "    There are `num` equally spaced samples in the closed interval\n",
       "    ``[start, stop]`` or the half-open interval ``[start, stop)``\n",
       "    (depending on whether `endpoint` is True or False).\n",
       "step : float, optional\n",
       "    Only returned if `retstep` is True\n",
       "\n",
       "    Size of spacing between samples.\n",
       "\n",
       "\n",
       "See Also\n",
       "--------\n",
       "arange : Similar to `linspace`, but uses a step size (instead of the\n",
       "         number of samples).\n",
       "geomspace : Similar to `linspace`, but with numbers spaced evenly on a log\n",
       "            scale (a geometric progression).\n",
       "logspace : Similar to `geomspace`, but with the end points specified as\n",
       "           logarithms.\n",
       "\n",
       "Examples\n",
       "--------\n",
       ">>> np.linspace(2.0, 3.0, num=5)\n",
       "array([2.  , 2.25, 2.5 , 2.75, 3.  ])\n",
       ">>> np.linspace(2.0, 3.0, num=5, endpoint=False)\n",
       "array([2. ,  2.2,  2.4,  2.6,  2.8])\n",
       ">>> np.linspace(2.0, 3.0, num=5, retstep=True)\n",
       "(array([2.  ,  2.25,  2.5 ,  2.75,  3.  ]), 0.25)\n",
       "\n",
       "Graphical illustration:\n",
       "\n",
       ">>> import matplotlib.pyplot as plt\n",
       ">>> N = 8\n",
       ">>> y = np.zeros(N)\n",
       ">>> x1 = np.linspace(0, 10, N, endpoint=True)\n",
       ">>> x2 = np.linspace(0, 10, N, endpoint=False)\n",
       ">>> plt.plot(x1, y, 'o')\n",
       "[<matplotlib.lines.Line2D object at 0x...>]\n",
       ">>> plt.plot(x2, y + 0.5, 'o')\n",
       "[<matplotlib.lines.Line2D object at 0x...>]\n",
       ">>> plt.ylim([-0.5, 1])\n",
       "(-0.5, 1)\n",
       ">>> plt.show()\n",
       "\u001b[0;31mFile:\u001b[0m      /opt/tljh/user/lib/python3.9/site-packages/numpy/core/function_base.py\n",
       "\u001b[0;31mType:\u001b[0m      function\n"
      ]
     },
     "metadata": {},
     "output_type": "display_data"
    }
   ],
   "source": [
    "?np.linspace\n",
    "\n"
   ]
  },
  {
   "cell_type": "markdown",
   "metadata": {
    "id": "Uh0UjSTPqeVB"
   },
   "source": [
    "<div class=\"alert alert-warning\">\n",
    "np.pi is a constant for the number $\\pi$\n",
    "</div>\n",
    "\n",
    "\n",
    "\n"
   ]
  },
  {
   "cell_type": "code",
   "execution_count": 36,
   "metadata": {
    "colab": {
     "base_uri": "https://localhost:8080/"
    },
    "executionInfo": {
     "elapsed": 125,
     "status": "ok",
     "timestamp": 1630415129728,
     "user": {
      "displayName": "John Kitchin",
      "photoUrl": "",
      "userId": "14782011281593705406"
     },
     "user_tz": 240
    },
    "id": "UbWot0yP4MwT",
    "outputId": "b7944ce0-4bd4-4c37-9968-4882e5d7433d"
   },
   "outputs": [
    {
     "data": {
      "text/plain": [
       "3.141592653589793"
      ]
     },
     "execution_count": 36,
     "metadata": {},
     "output_type": "execute_result"
    }
   ],
   "source": [
    "np.pi\n",
    "\n"
   ]
  },
  {
   "cell_type": "code",
   "execution_count": 37,
   "metadata": {
    "colab": {
     "base_uri": "https://localhost:8080/"
    },
    "executionInfo": {
     "elapsed": 141,
     "status": "ok",
     "timestamp": 1630415328779,
     "user": {
      "displayName": "John Kitchin",
      "photoUrl": "",
      "userId": "14782011281593705406"
     },
     "user_tz": 240
    },
    "id": "HcXcVOuwqeVB",
    "outputId": "fbc48289-68fa-40c1-a200-e35af8130277"
   },
   "outputs": [
    {
     "data": {
      "text/plain": [
       "array([0.        , 0.12822827, 0.25645654, 0.38468481, 0.51291309,\n",
       "       0.64114136, 0.76936963, 0.8975979 , 1.02582617, 1.15405444,\n",
       "       1.28228272, 1.41051099, 1.53873926, 1.66696753, 1.7951958 ,\n",
       "       1.92342407, 2.05165235, 2.17988062, 2.30810889, 2.43633716,\n",
       "       2.56456543, 2.6927937 , 2.82102197, 2.94925025, 3.07747852,\n",
       "       3.20570679, 3.33393506, 3.46216333, 3.5903916 , 3.71861988,\n",
       "       3.84684815, 3.97507642, 4.10330469, 4.23153296, 4.35976123,\n",
       "       4.48798951, 4.61621778, 4.74444605, 4.87267432, 5.00090259,\n",
       "       5.12913086, 5.25735913, 5.38558741, 5.51381568, 5.64204395,\n",
       "       5.77027222, 5.89850049, 6.02672876, 6.15495704, 6.28318531])"
      ]
     },
     "execution_count": 37,
     "metadata": {},
     "output_type": "execute_result"
    }
   ],
   "source": [
    "x = np.linspace(0, 2 * np.pi)\n",
    "x\n",
    "\n"
   ]
  },
  {
   "cell_type": "markdown",
   "metadata": {
    "id": "tzERW_ByqeVD"
   },
   "source": [
    "Most mathematical operations are element-wise on arrays.\n",
    "\n",
    "\n",
    "\n"
   ]
  },
  {
   "cell_type": "code",
   "execution_count": 40,
   "metadata": {
    "colab": {
     "base_uri": "https://localhost:8080/"
    },
    "executionInfo": {
     "elapsed": 143,
     "status": "ok",
     "timestamp": 1630415336360,
     "user": {
      "displayName": "John Kitchin",
      "photoUrl": "",
      "userId": "14782011281593705406"
     },
     "user_tz": 240
    },
    "id": "4DRcaO3TvK3y",
    "outputId": "2a07c5b7-e929-4607-cf05-e1bf9ea61971"
   },
   "outputs": [
    {
     "data": {
      "text/plain": [
       "array([ 0.        ,  0.25645654,  0.51291309,  0.76936963,  1.02582617,\n",
       "        1.28228272,  1.53873926,  1.7951958 ,  2.05165235,  2.30810889,\n",
       "        2.56456543,  2.82102197,  3.07747852,  3.33393506,  3.5903916 ,\n",
       "        3.84684815,  4.10330469,  4.35976123,  4.61621778,  4.87267432,\n",
       "        5.12913086,  5.38558741,  5.64204395,  5.89850049,  6.15495704,\n",
       "        6.41141358,  6.66787012,  6.92432667,  7.18078321,  7.43723975,\n",
       "        7.69369629,  7.95015284,  8.20660938,  8.46306592,  8.71952247,\n",
       "        8.97597901,  9.23243555,  9.4888921 ,  9.74534864, 10.00180518,\n",
       "       10.25826173, 10.51471827, 10.77117481, 11.02763136, 11.2840879 ,\n",
       "       11.54054444, 11.79700098, 12.05345753, 12.30991407, 12.56637061])"
      ]
     },
     "execution_count": 40,
     "metadata": {},
     "output_type": "execute_result"
    }
   ],
   "source": [
    "x * 2\n",
    "\n"
   ]
  },
  {
   "cell_type": "code",
   "execution_count": 41,
   "metadata": {
    "colab": {
     "base_uri": "https://localhost:8080/"
    },
    "executionInfo": {
     "elapsed": 128,
     "status": "ok",
     "timestamp": 1630415352209,
     "user": {
      "displayName": "John Kitchin",
      "photoUrl": "",
      "userId": "14782011281593705406"
     },
     "user_tz": 240
    },
    "id": "FIWpP0g2qeVD",
    "outputId": "e6545e1b-8b66-49b0-8f50-7e57734d7267"
   },
   "outputs": [
    {
     "data": {
      "text/plain": [
       "array([0.00000000e+00, 1.64424896e-02, 6.57699585e-02, 1.47982407e-01,\n",
       "       2.63079834e-01, 4.11062241e-01, 5.91929627e-01, 8.05681992e-01,\n",
       "       1.05231934e+00, 1.33184166e+00, 1.64424896e+00, 1.98954125e+00,\n",
       "       2.36771851e+00, 2.77878075e+00, 3.22272797e+00, 3.69956017e+00,\n",
       "       4.20927735e+00, 4.75187950e+00, 5.32736664e+00, 5.93573876e+00,\n",
       "       6.57699585e+00, 7.25113793e+00, 7.95816498e+00, 8.69807701e+00,\n",
       "       9.47087403e+00, 1.02765560e+01, 1.11151230e+01, 1.19865749e+01,\n",
       "       1.28909119e+01, 1.38281338e+01, 1.47982407e+01, 1.58012325e+01,\n",
       "       1.68371094e+01, 1.79058712e+01, 1.90075180e+01, 2.01420498e+01,\n",
       "       2.13094666e+01, 2.25097683e+01, 2.37429550e+01, 2.50090267e+01,\n",
       "       2.63079834e+01, 2.76398251e+01, 2.90045517e+01, 3.04021633e+01,\n",
       "       3.18326599e+01, 3.32960415e+01, 3.47923081e+01, 3.63214596e+01,\n",
       "       3.78834961e+01, 3.94784176e+01])"
      ]
     },
     "execution_count": 41,
     "metadata": {},
     "output_type": "execute_result"
    }
   ],
   "source": [
    "x * x\n",
    "\n"
   ]
  },
  {
   "cell_type": "code",
   "execution_count": 42,
   "metadata": {
    "colab": {
     "base_uri": "https://localhost:8080/"
    },
    "executionInfo": {
     "elapsed": 140,
     "status": "ok",
     "timestamp": 1630415390876,
     "user": {
      "displayName": "John Kitchin",
      "photoUrl": "",
      "userId": "14782011281593705406"
     },
     "user_tz": 240
    },
    "id": "Wy9jyOgQVHUE",
    "outputId": "8bc0fe35-8a99-4b51-d185-011ffaf8f919"
   },
   "outputs": [
    {
     "data": {
      "text/plain": [
       "664.687643338671"
      ]
     },
     "execution_count": 42,
     "metadata": {},
     "output_type": "execute_result"
    }
   ],
   "source": [
    "x @ x  # dot-product -> leads to a constant\n",
    "\n"
   ]
  },
  {
   "cell_type": "code",
   "execution_count": 44,
   "metadata": {
    "colab": {
     "base_uri": "https://localhost:8080/"
    },
    "executionInfo": {
     "elapsed": 129,
     "status": "ok",
     "timestamp": 1630415362360,
     "user": {
      "displayName": "John Kitchin",
      "photoUrl": "",
      "userId": "14782011281593705406"
     },
     "user_tz": 240
    },
    "id": "-hLN-TeAVAoa",
    "outputId": "bd97c739-c12f-4c25-b8f2-377b712f0c03"
   },
   "outputs": [
    {
     "name": "stdout",
     "output_type": "stream",
     "text": [
      "[0.00e+00 1.64e-02 6.58e-02 1.48e-01 2.63e-01 4.11e-01 5.92e-01 8.06e-01\n",
      " 1.05e+00 1.33e+00 1.64e+00 1.99e+00 2.37e+00 2.78e+00 3.22e+00 3.70e+00\n",
      " 4.21e+00 4.75e+00 5.33e+00 5.94e+00 6.58e+00 7.25e+00 7.96e+00 8.70e+00\n",
      " 9.47e+00 1.03e+01 1.11e+01 1.20e+01 1.29e+01 1.38e+01 1.48e+01 1.58e+01\n",
      " 1.68e+01 1.79e+01 1.90e+01 2.01e+01 2.13e+01 2.25e+01 2.37e+01 2.50e+01\n",
      " 2.63e+01 2.76e+01 2.90e+01 3.04e+01 3.18e+01 3.33e+01 3.48e+01 3.63e+01\n",
      " 3.79e+01 3.95e+01]\n"
     ]
    }
   ],
   "source": [
    "with np.printoptions(precision=2):\n",
    "    print(x**2)\n",
    "\n"
   ]
  },
  {
   "cell_type": "markdown",
   "metadata": {
    "id": "4lmK2NPhqeVF"
   },
   "source": [
    "We can define new variables\n",
    "\n",
    "\n",
    "\n"
   ]
  },
  {
   "cell_type": "code",
   "execution_count": 45,
   "metadata": {
    "colab": {
     "base_uri": "https://localhost:8080/"
    },
    "executionInfo": {
     "elapsed": 198,
     "status": "ok",
     "timestamp": 1630415499733,
     "user": {
      "displayName": "John Kitchin",
      "photoUrl": "",
      "userId": "14782011281593705406"
     },
     "user_tz": 240
    },
    "id": "5Iv_zjQTqeVG",
    "outputId": "872452b0-342c-4e6a-f3d9-9a98125ce9c5"
   },
   "outputs": [
    {
     "data": {
      "text/plain": [
       "array([ 1.        ,  0.99179001,  0.96729486,  0.92691676,  0.8713187 ,\n",
       "        0.80141362,  0.71834935,  0.6234898 ,  0.51839257,  0.40478334,\n",
       "        0.28452759,  0.1595999 ,  0.03205158, -0.09602303, -0.22252093,\n",
       "       -0.34536505, -0.46253829, -0.57211666, -0.67230089, -0.76144596,\n",
       "       -0.8380881 , -0.90096887, -0.94905575, -0.98155916, -0.99794539,\n",
       "       -0.99794539, -0.98155916, -0.94905575, -0.90096887, -0.8380881 ,\n",
       "       -0.76144596, -0.67230089, -0.57211666, -0.46253829, -0.34536505,\n",
       "       -0.22252093, -0.09602303,  0.03205158,  0.1595999 ,  0.28452759,\n",
       "        0.40478334,  0.51839257,  0.6234898 ,  0.71834935,  0.80141362,\n",
       "        0.8713187 ,  0.92691676,  0.96729486,  0.99179001,  1.        ])"
      ]
     },
     "execution_count": 45,
     "metadata": {},
     "output_type": "execute_result"
    }
   ],
   "source": [
    "y1 = np.sin(x)\n",
    "y2 = np.cos(x)\n",
    "y2\n",
    "\n"
   ]
  },
  {
   "cell_type": "markdown",
   "metadata": {
    "id": "SZuASPW0qeVI"
   },
   "source": [
    "### plotting\n",
    "\n",
    "\n",
    "\n"
   ]
  },
  {
   "cell_type": "markdown",
   "metadata": {
    "id": "Si59i0MDqeVI"
   },
   "source": [
    "We can make plots using [matplotlib](https://matplotlib.org). This cell imports the plotting library. These should be used in this order.\n",
    "\n",
    "<div class=\"alert alert-warning\">\n",
    "Remember this cell. You will use it almost every time you make a plot.\n",
    "</div>\n",
    "\n",
    "\n",
    "\n"
   ]
  },
  {
   "cell_type": "code",
   "execution_count": 46,
   "metadata": {
    "id": "ES89jR1ZqeVJ"
   },
   "outputs": [],
   "source": [
    "import matplotlib.pyplot as plt\n",
    "\n"
   ]
  },
  {
   "cell_type": "markdown",
   "metadata": {
    "id": "rIg6S29yqeVL"
   },
   "source": [
    "You call functions in the plt library to create plots. These are automatically saved in the notebook.\n",
    "\n",
    "\n",
    "\n"
   ]
  },
  {
   "cell_type": "code",
   "execution_count": 51,
   "metadata": {
    "colab": {
     "base_uri": "https://localhost:8080/",
     "height": 279
    },
    "executionInfo": {
     "elapsed": 403,
     "status": "ok",
     "timestamp": 1630416034380,
     "user": {
      "displayName": "John Kitchin",
      "photoUrl": "",
      "userId": "14782011281593705406"
     },
     "user_tz": 240
    },
    "id": "r0I3Tl8JqeVL",
    "outputId": "3d44fc89-ad77-4dcc-d921-bdde29c452d5"
   },
   "outputs": [
    {
     "data": {
      "image/png": "[encoded data removed]",
      "text/plain": [
       "<Figure size 640x480 with 1 Axes>"
      ]
     },
     "metadata": {},
     "output_type": "display_data"
    }
   ],
   "source": [
    "x = np.linspace(0, 2 * np.pi)\n",
    "y1 = np.sin(x)\n",
    "y2 = np.cos(x)\n",
    "plt.plot(x, y1, \"b-\", x, y2, \"r-\")\n",
    "plt.xlabel(\"x\")\n",
    "plt.ylabel(\"y\")\n",
    "plt.legend([\"y1\", \"y2\"]);\n",
    "# Always include axis labels and legends when appropriate\n",
    "\n"
   ]
  },
  {
   "cell_type": "markdown",
   "metadata": {
    "id": "YPjmFnpJqeVN"
   },
   "source": [
    "### scipy\n",
    "\n",
    "\n",
    "\n"
   ]
  },
  {
   "cell_type": "markdown",
   "metadata": {
    "id": "pJxNLgtnqeVN"
   },
   "source": [
    "[scipy](https://www.scipy.org) contains numerous libraries for a broad range of scientific computing needs.\n",
    "\n",
    "Suppose we want to perform the [following integral](https://docs.scipy.org/doc/scipy/reference/tutorial/integrate.html#general-integration-quad): $I = \\int_0^{4.5} J_{2.5}(x) dx$. The function $J_{2.5}$ is a special function known as a Bessel function. scipy provides both the integration function, and an implementation of the special function we can use.\n",
    "\n",
    "This is not code you need to memorize now; it is an example of the kind of code we will learn to write.\n",
    "\n"
   ]
  },
  {
   "cell_type": "code",
   "execution_count": 52,
   "metadata": {
    "id": "TuYax0RUqeVO"
   },
   "outputs": [],
   "source": [
    "from scipy.integrate import quad\n",
    "from scipy.special import jv\n",
    "\n"
   ]
  },
  {
   "cell_type": "code",
   "execution_count": 53,
   "metadata": {
    "id": "oaehXlLXqeVQ"
   },
   "outputs": [
    {
     "data": {
      "text/plain": [
       "\u001b[0;31mSignature:\u001b[0m\n",
       "\u001b[0mquad\u001b[0m\u001b[0;34m(\u001b[0m\u001b[0;34m\u001b[0m\n",
       "\u001b[0;34m\u001b[0m    \u001b[0mfunc\u001b[0m\u001b[0;34m,\u001b[0m\u001b[0;34m\u001b[0m\n",
       "\u001b[0;34m\u001b[0m    \u001b[0ma\u001b[0m\u001b[0;34m,\u001b[0m\u001b[0;34m\u001b[0m\n",
       "\u001b[0;34m\u001b[0m    \u001b[0mb\u001b[0m\u001b[0;34m,\u001b[0m\u001b[0;34m\u001b[0m\n",
       "\u001b[0;34m\u001b[0m    \u001b[0margs\u001b[0m\u001b[0;34m=\u001b[0m\u001b[0;34m(\u001b[0m\u001b[0;34m)\u001b[0m\u001b[0;34m,\u001b[0m\u001b[0;34m\u001b[0m\n",
       "\u001b[0;34m\u001b[0m    \u001b[0mfull_output\u001b[0m\u001b[0;34m=\u001b[0m\u001b[0;36m0\u001b[0m\u001b[0;34m,\u001b[0m\u001b[0;34m\u001b[0m\n",
       "\u001b[0;34m\u001b[0m    \u001b[0mepsabs\u001b[0m\u001b[0;34m=\u001b[0m\u001b[0;36m1.49e-08\u001b[0m\u001b[0;34m,\u001b[0m\u001b[0;34m\u001b[0m\n",
       "\u001b[0;34m\u001b[0m    \u001b[0mepsrel\u001b[0m\u001b[0;34m=\u001b[0m\u001b[0;36m1.49e-08\u001b[0m\u001b[0;34m,\u001b[0m\u001b[0;34m\u001b[0m\n",
       "\u001b[0;34m\u001b[0m    \u001b[0mlimit\u001b[0m\u001b[0;34m=\u001b[0m\u001b[0;36m50\u001b[0m\u001b[0;34m,\u001b[0m\u001b[0;34m\u001b[0m\n",
       "\u001b[0;34m\u001b[0m    \u001b[0mpoints\u001b[0m\u001b[0;34m=\u001b[0m\u001b[0;32mNone\u001b[0m\u001b[0;34m,\u001b[0m\u001b[0;34m\u001b[0m\n",
       "\u001b[0;34m\u001b[0m    \u001b[0mweight\u001b[0m\u001b[0;34m=\u001b[0m\u001b[0;32mNone\u001b[0m\u001b[0;34m,\u001b[0m\u001b[0;34m\u001b[0m\n",
       "\u001b[0;34m\u001b[0m    \u001b[0mwvar\u001b[0m\u001b[0;34m=\u001b[0m\u001b[0;32mNone\u001b[0m\u001b[0;34m,\u001b[0m\u001b[0;34m\u001b[0m\n",
       "\u001b[0;34m\u001b[0m    \u001b[0mwopts\u001b[0m\u001b[0;34m=\u001b[0m\u001b[0;32mNone\u001b[0m\u001b[0;34m,\u001b[0m\u001b[0;34m\u001b[0m\n",
       "\u001b[0;34m\u001b[0m    \u001b[0mmaxp1\u001b[0m\u001b[0;34m=\u001b[0m\u001b[0;36m50\u001b[0m\u001b[0;34m,\u001b[0m\u001b[0;34m\u001b[0m\n",
       "\u001b[0;34m\u001b[0m    \u001b[0mlimlst\u001b[0m\u001b[0;34m=\u001b[0m\u001b[0;36m50\u001b[0m\u001b[0;34m,\u001b[0m\u001b[0;34m\u001b[0m\n",
       "\u001b[0;34m\u001b[0m\u001b[0;34m)\u001b[0m\u001b[0;34m\u001b[0m\u001b[0;34m\u001b[0m\u001b[0m\n",
       "\u001b[0;31mDocstring:\u001b[0m\n",
       "Compute a definite integral.\n",
       "\n",
       "Integrate func from `a` to `b` (possibly infinite interval) using a\n",
       "technique from the Fortran library QUADPACK.\n",
       "\n",
       "Parameters\n",
       "----------\n",
       "func : {function, scipy.LowLevelCallable}\n",
       "    A Python function or method to integrate. If `func` takes many\n",
       "    arguments, it is integrated along the axis corresponding to the\n",
       "    first argument.\n",
       "\n",
       "    If the user desires improved integration performance, then `f` may\n",
       "    be a `scipy.LowLevelCallable` with one of the signatures::\n",
       "\n",
       "        double func(double x)\n",
       "        double func(double x, void *user_data)\n",
       "        double func(int n, double *xx)\n",
       "        double func(int n, double *xx, void *user_data)\n",
       "\n",
       "    The ``user_data`` is the data contained in the `scipy.LowLevelCallable`.\n",
       "    In the call forms with ``xx``,  ``n`` is the length of the ``xx``\n",
       "    array which contains ``xx[0] == x`` and the rest of the items are\n",
       "    numbers contained in the ``args`` argument of quad.\n",
       "\n",
       "    In addition, certain ctypes call signatures are supported for\n",
       "    backward compatibility, but those should not be used in new code.\n",
       "a : float\n",
       "    Lower limit of integration (use -numpy.inf for -infinity).\n",
       "b : float\n",
       "    Upper limit of integration (use numpy.inf for +infinity).\n",
       "args : tuple, optional\n",
       "    Extra arguments to pass to `func`.\n",
       "full_output : int, optional\n",
       "    Non-zero to return a dictionary of integration information.\n",
       "    If non-zero, warning messages are also suppressed and the\n",
       "    message is appended to the output tuple.\n",
       "\n",
       "Returns\n",
       "-------\n",
       "y : float\n",
       "    The integral of func from `a` to `b`.\n",
       "abserr : float\n",
       "    An estimate of the absolute error in the result.\n",
       "infodict : dict\n",
       "    A dictionary containing additional information.\n",
       "message\n",
       "    A convergence message.\n",
       "explain\n",
       "    Appended only with 'cos' or 'sin' weighting and infinite\n",
       "    integration limits, it contains an explanation of the codes in\n",
       "    infodict['ierlst']\n",
       "\n",
       "Other Parameters\n",
       "----------------\n",
       "epsabs : float or int, optional\n",
       "    Absolute error tolerance. Default is 1.49e-8. `quad` tries to obtain\n",
       "    an accuracy of ``abs(i-result) <= max(epsabs, epsrel*abs(i))``\n",
       "    where ``i`` = integral of `func` from `a` to `b`, and ``result`` is the\n",
       "    numerical approximation. See `epsrel` below.\n",
       "epsrel : float or int, optional\n",
       "    Relative error tolerance. Default is 1.49e-8.\n",
       "    If ``epsabs <= 0``, `epsrel` must be greater than both 5e-29\n",
       "    and ``50 * (machine epsilon)``. See `epsabs` above.\n",
       "limit : float or int, optional\n",
       "    An upper bound on the number of subintervals used in the adaptive\n",
       "    algorithm.\n",
       "points : (sequence of floats,ints), optional\n",
       "    A sequence of break points in the bounded integration interval\n",
       "    where local difficulties of the integrand may occur (e.g.,\n",
       "    singularities, discontinuities). The sequence does not have\n",
       "    to be sorted. Note that this option cannot be used in conjunction\n",
       "    with ``weight``.\n",
       "weight : float or int, optional\n",
       "    String indicating weighting function. Full explanation for this\n",
       "    and the remaining arguments can be found below.\n",
       "wvar : optional\n",
       "    Variables for use with weighting functions.\n",
       "wopts : optional\n",
       "    Optional input for reusing Chebyshev moments.\n",
       "maxp1 : float or int, optional\n",
       "    An upper bound on the number of Chebyshev moments.\n",
       "limlst : int, optional\n",
       "    Upper bound on the number of cycles (>=3) for use with a sinusoidal\n",
       "    weighting and an infinite end-point.\n",
       "\n",
       "See Also\n",
       "--------\n",
       "dblquad : double integral\n",
       "tplquad : triple integral\n",
       "nquad : n-dimensional integrals (uses `quad` recursively)\n",
       "fixed_quad : fixed-order Gaussian quadrature\n",
       "quadrature : adaptive Gaussian quadrature\n",
       "odeint : ODE integrator\n",
       "ode : ODE integrator\n",
       "simpson : integrator for sampled data\n",
       "romb : integrator for sampled data\n",
       "scipy.special : for coefficients and roots of orthogonal polynomials\n",
       "\n",
       "Notes\n",
       "-----\n",
       "\n",
       "**Extra information for quad() inputs and outputs**\n",
       "\n",
       "If full_output is non-zero, then the third output argument\n",
       "(infodict) is a dictionary with entries as tabulated below. For\n",
       "infinite limits, the range is transformed to (0,1) and the\n",
       "optional outputs are given with respect to this transformed range.\n",
       "Let M be the input argument limit and let K be infodict['last'].\n",
       "The entries are:\n",
       "\n",
       "'neval'\n",
       "    The number of function evaluations.\n",
       "'last'\n",
       "    The number, K, of subintervals produced in the subdivision process.\n",
       "'alist'\n",
       "    A rank-1 array of length M, the first K elements of which are the\n",
       "    left end points of the subintervals in the partition of the\n",
       "    integration range.\n",
       "'blist'\n",
       "    A rank-1 array of length M, the first K elements of which are the\n",
       "    right end points of the subintervals.\n",
       "'rlist'\n",
       "    A rank-1 array of length M, the first K elements of which are the\n",
       "    integral approximations on the subintervals.\n",
       "'elist'\n",
       "    A rank-1 array of length M, the first K elements of which are the\n",
       "    moduli of the absolute error estimates on the subintervals.\n",
       "'iord'\n",
       "    A rank-1 integer array of length M, the first L elements of\n",
       "    which are pointers to the error estimates over the subintervals\n",
       "    with ``L=K`` if ``K<=M/2+2`` or ``L=M+1-K`` otherwise. Let I be the\n",
       "    sequence ``infodict['iord']`` and let E be the sequence\n",
       "    ``infodict['elist']``.  Then ``E[I[1]], ..., E[I[L]]`` forms a\n",
       "    decreasing sequence.\n",
       "\n",
       "If the input argument points is provided (i.e., it is not None),\n",
       "the following additional outputs are placed in the output\n",
       "dictionary. Assume the points sequence is of length P.\n",
       "\n",
       "'pts'\n",
       "    A rank-1 array of length P+2 containing the integration limits\n",
       "    and the break points of the intervals in ascending order.\n",
       "    This is an array giving the subintervals over which integration\n",
       "    will occur.\n",
       "'level'\n",
       "    A rank-1 integer array of length M (=limit), containing the\n",
       "    subdivision levels of the subintervals, i.e., if (aa,bb) is a\n",
       "    subinterval of ``(pts[1], pts[2])`` where ``pts[0]`` and ``pts[2]``\n",
       "    are adjacent elements of ``infodict['pts']``, then (aa,bb) has level l\n",
       "    if ``|bb-aa| = |pts[2]-pts[1]| * 2**(-l)``.\n",
       "'ndin'\n",
       "    A rank-1 integer array of length P+2. After the first integration\n",
       "    over the intervals (pts[1], pts[2]), the error estimates over some\n",
       "    of the intervals may have been increased artificially in order to\n",
       "    put their subdivision forward. This array has ones in slots\n",
       "    corresponding to the subintervals for which this happens.\n",
       "\n",
       "**Weighting the integrand**\n",
       "\n",
       "The input variables, *weight* and *wvar*, are used to weight the\n",
       "integrand by a select list of functions. Different integration\n",
       "methods are used to compute the integral with these weighting\n",
       "functions, and these do not support specifying break points. The\n",
       "possible values of weight and the corresponding weighting functions are.\n",
       "\n",
       "==========  ===================================   =====================\n",
       "``weight``  Weight function used                  ``wvar``\n",
       "==========  ===================================   =====================\n",
       "'cos'       cos(w*x)                              wvar = w\n",
       "'sin'       sin(w*x)                              wvar = w\n",
       "'alg'       g(x) = ((x-a)**alpha)*((b-x)**beta)   wvar = (alpha, beta)\n",
       "'alg-loga'  g(x)*log(x-a)                         wvar = (alpha, beta)\n",
       "'alg-logb'  g(x)*log(b-x)                         wvar = (alpha, beta)\n",
       "'alg-log'   g(x)*log(x-a)*log(b-x)                wvar = (alpha, beta)\n",
       "'cauchy'    1/(x-c)                               wvar = c\n",
       "==========  ===================================   =====================\n",
       "\n",
       "wvar holds the parameter w, (alpha, beta), or c depending on the weight\n",
       "selected. In these expressions, a and b are the integration limits.\n",
       "\n",
       "For the 'cos' and 'sin' weighting, additional inputs and outputs are\n",
       "available.\n",
       "\n",
       "For finite integration limits, the integration is performed using a\n",
       "Clenshaw-Curtis method which uses Chebyshev moments. For repeated\n",
       "calculations, these moments are saved in the output dictionary:\n",
       "\n",
       "'momcom'\n",
       "    The maximum level of Chebyshev moments that have been computed,\n",
       "    i.e., if ``M_c`` is ``infodict['momcom']`` then the moments have been\n",
       "    computed for intervals of length ``|b-a| * 2**(-l)``,\n",
       "    ``l=0,1,...,M_c``.\n",
       "'nnlog'\n",
       "    A rank-1 integer array of length M(=limit), containing the\n",
       "    subdivision levels of the subintervals, i.e., an element of this\n",
       "    array is equal to l if the corresponding subinterval is\n",
       "    ``|b-a|* 2**(-l)``.\n",
       "'chebmo'\n",
       "    A rank-2 array of shape (25, maxp1) containing the computed\n",
       "    Chebyshev moments. These can be passed on to an integration\n",
       "    over the same interval by passing this array as the second\n",
       "    element of the sequence wopts and passing infodict['momcom'] as\n",
       "    the first element.\n",
       "\n",
       "If one of the integration limits is infinite, then a Fourier integral is\n",
       "computed (assuming w neq 0). If full_output is 1 and a numerical error\n",
       "is encountered, besides the error message attached to the output tuple,\n",
       "a dictionary is also appended to the output tuple which translates the\n",
       "error codes in the array ``info['ierlst']`` to English messages. The\n",
       "output information dictionary contains the following entries instead of\n",
       "'last', 'alist', 'blist', 'rlist', and 'elist':\n",
       "\n",
       "'lst'\n",
       "    The number of subintervals needed for the integration (call it ``K_f``).\n",
       "'rslst'\n",
       "    A rank-1 array of length M_f=limlst, whose first ``K_f`` elements\n",
       "    contain the integral contribution over the interval\n",
       "    ``(a+(k-1)c, a+kc)`` where ``c = (2*floor(|w|) + 1) * pi / |w|``\n",
       "    and ``k=1,2,...,K_f``.\n",
       "'erlst'\n",
       "    A rank-1 array of length ``M_f`` containing the error estimate\n",
       "    corresponding to the interval in the same position in\n",
       "    ``infodict['rslist']``.\n",
       "'ierlst'\n",
       "    A rank-1 integer array of length ``M_f`` containing an error flag\n",
       "    corresponding to the interval in the same position in\n",
       "    ``infodict['rslist']``.  See the explanation dictionary (last entry\n",
       "    in the output tuple) for the meaning of the codes.\n",
       "\n",
       "\n",
       "**Details of QUADPACK level routines**\n",
       "\n",
       "`quad` calls routines from the FORTRAN library QUADPACK. This section\n",
       "provides details on the conditions for each routine to be called and a\n",
       "short description of each routine. The routine called depends on\n",
       "`weight`, `points` and the integration limits `a` and `b`.\n",
       "\n",
       "================  ==============  ==========  =====================\n",
       "QUADPACK routine  `weight`        `points`    infinite bounds\n",
       "================  ==============  ==========  =====================\n",
       "qagse             None            No          No\n",
       "qagie             None            No          Yes\n",
       "qagpe             None            Yes         No\n",
       "qawoe             'sin', 'cos'    No          No\n",
       "qawfe             'sin', 'cos'    No          either `a` or `b`\n",
       "qawse             'alg*'          No          No\n",
       "qawce             'cauchy'        No          No\n",
       "================  ==============  ==========  =====================\n",
       "\n",
       "The following provides a short desciption from [1]_ for each\n",
       "routine.\n",
       "\n",
       "qagse\n",
       "    is an integrator based on globally adaptive interval\n",
       "    subdivision in connection with extrapolation, which will\n",
       "    eliminate the effects of integrand singularities of\n",
       "    several types.\n",
       "qagie\n",
       "    handles integration over infinite intervals. The infinite range is\n",
       "    mapped onto a finite interval and subsequently the same strategy as\n",
       "    in ``QAGS`` is applied.\n",
       "qagpe\n",
       "    serves the same purposes as QAGS, but also allows the\n",
       "    user to provide explicit information about the location\n",
       "    and type of trouble-spots i.e. the abscissae of internal\n",
       "    singularities, discontinuities and other difficulties of\n",
       "    the integrand function.\n",
       "qawoe\n",
       "    is an integrator for the evaluation of\n",
       "    :math:`\\int^b_a \\cos(\\omega x)f(x)dx` or\n",
       "    :math:`\\int^b_a \\sin(\\omega x)f(x)dx`\n",
       "    over a finite interval [a,b], where :math:`\\omega` and :math:`f`\n",
       "    are specified by the user. The rule evaluation component is based\n",
       "    on the modified Clenshaw-Curtis technique\n",
       "\n",
       "    An adaptive subdivision scheme is used in connection\n",
       "    with an extrapolation procedure, which is a modification\n",
       "    of that in ``QAGS`` and allows the algorithm to deal with\n",
       "    singularities in :math:`f(x)`.\n",
       "qawfe\n",
       "    calculates the Fourier transform\n",
       "    :math:`\\int^\\infty_a \\cos(\\omega x)f(x)dx` or\n",
       "    :math:`\\int^\\infty_a \\sin(\\omega x)f(x)dx`\n",
       "    for user-provided :math:`\\omega` and :math:`f`. The procedure of\n",
       "    ``QAWO`` is applied on successive finite intervals, and convergence\n",
       "    acceleration by means of the :math:`\\varepsilon`-algorithm is applied\n",
       "    to the series of integral approximations.\n",
       "qawse\n",
       "    approximate :math:`\\int^b_a w(x)f(x)dx`, with :math:`a < b` where\n",
       "    :math:`w(x) = (x-a)^{\\alpha}(b-x)^{\\beta}v(x)` with\n",
       "    :math:`\\alpha,\\beta > -1`, where :math:`v(x)` may be one of the\n",
       "    following functions: :math:`1`, :math:`\\log(x-a)`, :math:`\\log(b-x)`,\n",
       "    :math:`\\log(x-a)\\log(b-x)`.\n",
       "\n",
       "    The user specifies :math:`\\alpha`, :math:`\\beta` and the type of the\n",
       "    function :math:`v`. A globally adaptive subdivision strategy is\n",
       "    applied, with modified Clenshaw-Curtis integration on those\n",
       "    subintervals which contain `a` or `b`.\n",
       "qawce\n",
       "    compute :math:`\\int^b_a f(x) / (x-c)dx` where the integral must be\n",
       "    interpreted as a Cauchy principal value integral, for user specified\n",
       "    :math:`c` and :math:`f`. The strategy is globally adaptive. Modified\n",
       "    Clenshaw-Curtis integration is used on those intervals containing the\n",
       "    point :math:`x = c`.\n",
       "\n",
       "References\n",
       "----------\n",
       "\n",
       ".. [1] Piessens, Robert; de Doncker-Kapenga, Elise;\n",
       "       Überhuber, Christoph W.; Kahaner, David (1983).\n",
       "       QUADPACK: A subroutine package for automatic integration.\n",
       "       Springer-Verlag.\n",
       "       ISBN 978-3-540-12553-2.\n",
       "\n",
       "Examples\n",
       "--------\n",
       "Calculate :math:`\\int^4_0 x^2 dx` and compare with an analytic result\n",
       "\n",
       ">>> from scipy import integrate\n",
       ">>> x2 = lambda x: x**2\n",
       ">>> integrate.quad(x2, 0, 4)\n",
       "(21.333333333333332, 2.3684757858670003e-13)\n",
       ">>> print(4**3 / 3.)  # analytical result\n",
       "21.3333333333\n",
       "\n",
       "Calculate :math:`\\int^\\infty_0 e^{-x} dx`\n",
       "\n",
       ">>> invexp = lambda x: np.exp(-x)\n",
       ">>> integrate.quad(invexp, 0, np.inf)\n",
       "(1.0, 5.842605999138044e-11)\n",
       "\n",
       "Calculate :math:`\\int^1_0 a x \\,dx` for :math:`a = 1, 3`\n",
       "\n",
       ">>> f = lambda x, a: a*x\n",
       ">>> y, err = integrate.quad(f, 0, 1, args=(1,))\n",
       ">>> y\n",
       "0.5\n",
       ">>> y, err = integrate.quad(f, 0, 1, args=(3,))\n",
       ">>> y\n",
       "1.5\n",
       "\n",
       "Calculate :math:`\\int^1_0 x^2 + y^2 dx` with ctypes, holding\n",
       "y parameter as 1::\n",
       "\n",
       "    testlib.c =>\n",
       "        double func(int n, double args[n]){\n",
       "            return args[0]*args[0] + args[1]*args[1];}\n",
       "    compile to library testlib.*\n",
       "\n",
       "::\n",
       "\n",
       "   from scipy import integrate\n",
       "   import ctypes\n",
       "   lib = ctypes.CDLL('/home/.../testlib.*') #use absolute path\n",
       "   lib.func.restype = ctypes.c_double\n",
       "   lib.func.argtypes = (ctypes.c_int,ctypes.c_double)\n",
       "   integrate.quad(lib.func,0,1,(1))\n",
       "   #(1.3333333333333333, 1.4802973661668752e-14)\n",
       "   print((1.0**3/3.0 + 1.0) - (0.0**3/3.0 + 0.0)) #Analytic result\n",
       "   # 1.3333333333333333\n",
       "\n",
       "Be aware that pulse shapes and other sharp features as compared to the\n",
       "size of the integration interval may not be integrated correctly using\n",
       "this method. A simplified example of this limitation is integrating a\n",
       "y-axis reflected step function with many zero values within the integrals\n",
       "bounds.\n",
       "\n",
       ">>> y = lambda x: 1 if x<=0 else 0\n",
       ">>> integrate.quad(y, -1, 1)\n",
       "(1.0, 1.1102230246251565e-14)\n",
       ">>> integrate.quad(y, -1, 100)\n",
       "(1.0000000002199108, 1.0189464580163188e-08)\n",
       ">>> integrate.quad(y, -1, 10000)\n",
       "(0.0, 0.0)\n",
       "\u001b[0;31mFile:\u001b[0m      /opt/tljh/user/lib/python3.9/site-packages/scipy/integrate/_quadpack_py.py\n",
       "\u001b[0;31mType:\u001b[0m      function\n"
      ]
     },
     "metadata": {},
     "output_type": "display_data"
    }
   ],
   "source": [
    "?quad\n",
    "\n"
   ]
  },
  {
   "cell_type": "code",
   "execution_count": 54,
   "metadata": {
    "id": "aLPskvhAqeVS"
   },
   "outputs": [
    {
     "data": {
      "text/plain": [
       "\u001b[0;31mCall signature:\u001b[0m  \u001b[0mjv\u001b[0m\u001b[0;34m(\u001b[0m\u001b[0;34m*\u001b[0m\u001b[0margs\u001b[0m\u001b[0;34m,\u001b[0m \u001b[0;34m**\u001b[0m\u001b[0mkwargs\u001b[0m\u001b[0;34m)\u001b[0m\u001b[0;34m\u001b[0m\u001b[0;34m\u001b[0m\u001b[0m\n",
       "\u001b[0;31mType:\u001b[0m            ufunc\n",
       "\u001b[0;31mString form:\u001b[0m     <ufunc 'jv'>\n",
       "\u001b[0;31mFile:\u001b[0m            /opt/tljh/user/lib/python3.9/site-packages/numpy/__init__.py\n",
       "\u001b[0;31mDocstring:\u001b[0m      \n",
       "jv(x1, x2, /, out=None, *, where=True, casting='same_kind', order='K', dtype=None, subok=True[, signature, extobj])\n",
       "\n",
       "jv(v, z, out=None)\n",
       "\n",
       "Bessel function of the first kind of real order and complex argument.\n",
       "\n",
       "Parameters\n",
       "----------\n",
       "v : array_like\n",
       "    Order (float).\n",
       "z : array_like\n",
       "    Argument (float or complex).\n",
       "out : ndarray, optional\n",
       "    Optional output array for the function values\n",
       "\n",
       "Returns\n",
       "-------\n",
       "J : scalar or ndarray\n",
       "    Value of the Bessel function, :math:`J_v(z)`.\n",
       "\n",
       "See also\n",
       "--------\n",
       "jve : :math:`J_v` with leading exponential behavior stripped off.\n",
       "spherical_jn : spherical Bessel functions.\n",
       "\n",
       "Notes\n",
       "-----\n",
       "For positive `v` values, the computation is carried out using the AMOS\n",
       "[1]_ `zbesj` routine, which exploits the connection to the modified\n",
       "Bessel function :math:`I_v`,\n",
       "\n",
       ".. math::\n",
       "    J_v(z) = \\exp(v\\pi\\imath/2) I_v(-\\imath z)\\qquad (\\Im z > 0)\n",
       "\n",
       "    J_v(z) = \\exp(-v\\pi\\imath/2) I_v(\\imath z)\\qquad (\\Im z < 0)\n",
       "\n",
       "For negative `v` values the formula,\n",
       "\n",
       ".. math:: J_{-v}(z) = J_v(z) \\cos(\\pi v) - Y_v(z) \\sin(\\pi v)\n",
       "\n",
       "is used, where :math:`Y_v(z)` is the Bessel function of the second\n",
       "kind, computed using the AMOS routine `zbesy`.  Note that the second\n",
       "term is exactly zero for integer `v`; to improve accuracy the second\n",
       "term is explicitly omitted for `v` values such that `v = floor(v)`.\n",
       "\n",
       "Not to be confused with the spherical Bessel functions (see `spherical_jn`).\n",
       "\n",
       "References\n",
       "----------\n",
       ".. [1] Donald E. Amos, \"AMOS, A Portable Package for Bessel Functions\n",
       "       of a Complex Argument and Nonnegative Order\",\n",
       "       http://netlib.org/amos/\n",
       "\u001b[0;31mClass docstring:\u001b[0m\n",
       "Functions that operate element by element on whole arrays.\n",
       "\n",
       "To see the documentation for a specific ufunc, use `info`.  For\n",
       "example, ``np.info(np.sin)``.  Because ufuncs are written in C\n",
       "(for speed) and linked into Python with NumPy's ufunc facility,\n",
       "Python's help() function finds this page whenever help() is called\n",
       "on a ufunc.\n",
       "\n",
       "A detailed explanation of ufuncs can be found in the docs for :ref:`ufuncs`.\n",
       "\n",
       "**Calling ufuncs:** ``op(*x[, out], where=True, **kwargs)``\n",
       "\n",
       "Apply `op` to the arguments `*x` elementwise, broadcasting the arguments.\n",
       "\n",
       "The broadcasting rules are:\n",
       "\n",
       "* Dimensions of length 1 may be prepended to either array.\n",
       "* Arrays may be repeated along dimensions of length 1.\n",
       "\n",
       "Parameters\n",
       "----------\n",
       "*x : array_like\n",
       "    Input arrays.\n",
       "out : ndarray, None, or tuple of ndarray and None, optional\n",
       "    Alternate array object(s) in which to put the result; if provided, it\n",
       "    must have a shape that the inputs broadcast to. A tuple of arrays\n",
       "    (possible only as a keyword argument) must have length equal to the\n",
       "    number of outputs; use None for uninitialized outputs to be\n",
       "    allocated by the ufunc.\n",
       "where : array_like, optional\n",
       "    This condition is broadcast over the input. At locations where the\n",
       "    condition is True, the `out` array will be set to the ufunc result.\n",
       "    Elsewhere, the `out` array will retain its original value.\n",
       "    Note that if an uninitialized `out` array is created via the default\n",
       "    ``out=None``, locations within it where the condition is False will\n",
       "    remain uninitialized.\n",
       "**kwargs\n",
       "    For other keyword-only arguments, see the :ref:`ufunc docs <ufuncs.kwargs>`.\n",
       "\n",
       "Returns\n",
       "-------\n",
       "r : ndarray or tuple of ndarray\n",
       "    `r` will have the shape that the arrays in `x` broadcast to; if `out` is\n",
       "    provided, it will be returned. If not, `r` will be allocated and\n",
       "    may contain uninitialized values. If the function has more than one\n",
       "    output, then the result will be a tuple of arrays.\n"
      ]
     },
     "metadata": {},
     "output_type": "display_data"
    }
   ],
   "source": [
    "?jv\n",
    "\n"
   ]
  },
  {
   "cell_type": "markdown",
   "metadata": {
    "id": "wbMMu2hYqeVU"
   },
   "source": [
    "To evaluate this integral, we have to define a function for the integrand, and use the quad function to compute the integral. The quad function returns two values, the value of the integral, and an estimate of the maximum error in the integral.\n",
    "\n",
    "\n",
    "\n"
   ]
  },
  {
   "cell_type": "code",
   "execution_count": 55,
   "metadata": {
    "colab": {
     "base_uri": "https://localhost:8080/"
    },
    "executionInfo": {
     "elapsed": 132,
     "status": "ok",
     "timestamp": 1630416396578,
     "user": {
      "displayName": "John Kitchin",
      "photoUrl": "",
      "userId": "14782011281593705406"
     },
     "user_tz": 240
    },
    "id": "9yHwgwH_qeVU",
    "outputId": "d02a85a8-75a7-40f0-ae0a-b34ce5b5b24e"
   },
   "outputs": [
    {
     "data": {
      "text/plain": [
       "(1.1178179380783253, 7.866317216380692e-09)"
      ]
     },
     "execution_count": 55,
     "metadata": {},
     "output_type": "execute_result"
    }
   ],
   "source": [
    "# This is how we define a function. There is a function name, and arguments\n",
    "# The function returns the output of the jv function.\n",
    "def integrand(x):\n",
    "    return jv(2.5, x)\n",
    "\n",
    "\n",
    "I, err = quad(integrand, 0, 4.5)\n",
    "\n",
    "I, err\n",
    "\n"
   ]
  },
  {
   "cell_type": "markdown",
   "metadata": {
    "id": "7X1tQkLTqeVY"
   },
   "source": [
    "## Summary\n",
    "\n",
    "\n",
    "\n"
   ]
  },
  {
   "cell_type": "markdown",
   "metadata": {
    "id": "Fo35Q5anqeVY"
   },
   "source": [
    "Today we introduced several ideas about using Jupyter notebooks to run Python computations. The main points are:\n",
    "\n",
    "1.  Code is run in code cells\n",
    "2.  You have to import some functions from libraries\n",
    "3.  numpy, scipy and matplotlib are three of the main scientific programming libraries we will use a lot.\n",
    "4.  We saw some ways to get help on functions\n",
    "\n",
    "Next time we will dig into defining functions more deeply, and how to print formatted strings containing results.\n",
    "\n",
    "\n",
    "\n"
   ]
  },
  {
   "cell_type": "markdown",
   "metadata": {},
   "source": [
    "Bad equation: $\\frac{a}{b$"
   ]
  },
  {
   "cell_type": "markdown",
   "metadata": {
    "id": "J6nTQ2WyD3Ci"
   },
   "source": [
    "# Getting a PDF from a Jupyter notebook\n",
    "\n",
    "Go to the File->Save and Export Notebook As->Webpdf\n",
    "\n",
    "A PDF file should automatically be created and download in your browser in a new tab. Note you can also use PDF instead; this uses LaTeX to create a PDF. It may be nicer looking, but it is more fragile and does not always work.\n",
    "\n",
    "\n",
    "\n"
   ]
  },
  {
   "cell_type": "markdown",
   "metadata": {},
   "source": [
    "# Additional resources\n",
    "\n",
    "1. Check out the [pycse playlist on YouTube](https://www.youtube.com/playlist?list=PL0sMmOaE_gs2yzwy54kLZk5c1ZH-Nh-62).\n",
    "2. See [Point Breeze Publications, LLC](https://pointbreezepubs.gumroad.com/) for a series of booklets on pycse on different topics (some are advanced).\n",
    "3. Explore the Help menu in Jupyter Lab.\n",
    "4. Ask questions on the [class Discord server](https://discord.com/channels/1009520272526807140/1009520272526807144).\n",
    "\n"
   ]
  },
  {
   "cell_type": "markdown",
   "metadata": {},
   "source": [
    "# Some review material\n",
    "\n",
    "Below you will find a quiz, and some flash cards. When you run the cells, you will get an interactive widget you can use to test your understanding. The results are not persistent, and they will disappear when you close the notebook.\n",
    "\n"
   ]
  },
  {
   "cell_type": "code",
   "execution_count": 7,
   "metadata": {},
   "outputs": [],
   "source": [
    "from jupyterquiz import display_quiz\n",
    "display_quiz('quiz.json')\n",
    "\n"
   ]
  },
  {
   "cell_type": "markdown",
   "metadata": {},
   "source": [
    "Run this cell. Click on the card to see the other side. Click Next to see the next card.\n",
    "\n"
   ]
  },
  {
   "cell_type": "code",
   "execution_count": 22,
   "metadata": {},
   "outputs": [],
   "source": [
    "from jupytercards import display_flashcards\n",
    "ch00 = 'https://raw.githubusercontent.com/Steel-Bank-codespaces/f22-06623/main/lectures/00-intro/flash.json'\n",
    "display_flashcards(ch00)\n",
    "\n"
   ]
  }
 ],
 "metadata": {
  "colab": {
   "collapsed_sections": [],
   "name": "00-intro.ipynb",
   "provenance": []
  },
  "kernelspec": {
   "display_name": "Python 3 (ipykernel)",
   "language": "python",
   "name": "python3"
  },
  "language_info": {
   "codemirror_mode": {
    "name": "ipython",
    "version": 3
   },
   "file_extension": ".py",
   "mimetype": "text/x-python",
   "name": "python",
   "nbconvert_exporter": "python",
   "pygments_lexer": "ipython3",
   "version": "3.9.7"
  },
  "org": {
   "KEYWORDS": "introduction"
  },
  "vscode": {
   "interpreter": {
    "hash": "d4d1e4263499bec80672ea0156c357c1ee493ec2b1c70f0acce89fc37c4a6abe"
   }
  },
  "widgets": {
   "application/vnd.jupyter.widget-state+json": {
    "state": {},
    "version_major": 2,
    "version_minor": 0
   }
  }
 },
 "nbformat": 4,
 "nbformat_minor": 4
}
