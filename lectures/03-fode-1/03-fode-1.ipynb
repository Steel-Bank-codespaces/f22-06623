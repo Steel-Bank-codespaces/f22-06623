{
 "cells": [
  {
   "cell_type": "markdown",
   "metadata": {
    "id": "MTML9hd9HDxm"
   },
   "source": [
    "[TOC](../toc.ipynb)\n",
    "\n",
    "- KEYWORDS: integration, quad, zeros, shape, enumerate, solve_ivp\n"
   ]
  },
  {
   "cell_type": "markdown",
   "metadata": {
    "id": "wST7cfrrHDxs"
   },
   "source": [
    "## Solutions to first-order differential equations by integration\n",
    "\n"
   ]
  },
  {
   "cell_type": "markdown",
   "metadata": {
    "id": "pHl3KhNfHDxv"
   },
   "source": [
    "Adapted from Ch. 2 in Advanced Engineering Mathematics, 2<sup>nd</sup> Ed. by Michael Greenberg.\n",
    "\n"
   ]
  },
  {
   "cell_type": "markdown",
   "metadata": {
    "id": "STXXr0CJHDxy"
   },
   "source": [
    "### Homogeneous, first-order linear differential equations\n",
    "\n"
   ]
  },
  {
   "cell_type": "markdown",
   "metadata": {
    "id": "khA2hwGIHDx1"
   },
   "source": [
    "We first consider a homogeneous, first-order, linear differential equation of the form:\n",
    "\n",
    "$y' + p(x) y = 0$, with $y(a) = b$ as an initial value.\n",
    "\n",
    "You can derive a solution to this ODE as:\n",
    "\n",
    "$y(x) = b e^{-\\int_a^x p(\\xi) d\\xi}$\n",
    "\n",
    "For concreteness, consider $(x+2) y' - xy = 0, y(0) = 3$\n",
    "\n",
    "what is the value of $y(1)$?\n",
    "\n",
    "We need to cast this in the form required to identify $p(x)$. That form is:\n",
    "\n",
    "$y' + \\frac{-x}{x+2}y = 0$.\n",
    "\n",
    "Now, we simply evaluate the required integral and use it to compute the value of the solution at the desired new $x$ value."
   ]
  },
  {
   "cell_type": "code",
   "execution_count": 2,
   "metadata": {
    "colab": {
     "base_uri": "https://localhost:8080/"
    },
    "executionInfo": {
     "elapsed": 497,
     "status": "ok",
     "timestamp": 1631189568436,
     "user": {
      "displayName": "John Kitchin",
      "photoUrl": "https://lh3.googleusercontent.com/a/default-user=s64",
      "userId": "14782011281593705406"
     },
     "user_tz": 240
    },
    "id": "M0cPwgMEHDx_",
    "outputId": "8f03cbef-ede6-4962-f687-d506bd74eaaa"
   },
   "outputs": [
    {
     "name": "stdout",
     "output_type": "stream",
     "text": [
      "y(1) = 3.624\n"
     ]
    }
   ],
   "source": [
    "a = 0\n",
    "b = 3\n",
    "x1 = 1  # final point of the solution to find y on the range x=0..1\n",
    "\n",
    "\n",
    "def p(x):\n",
    "    return -x / (x + 2)\n",
    "\n",
    "\n",
    "import numpy as np\n",
    "from scipy.integrate import quad\n",
    "\n",
    "I, err = quad(p, a, x1)\n",
    "\n",
    "y_x1 = b * np.exp(-I)\n",
    "\n",
    "print(f\"y(1) = {y_x1:1.3f}\")"
   ]
  },
  {
   "cell_type": "markdown",
   "metadata": {
    "id": "y5ZKSqxsi3lf"
   },
   "source": [
    "It is worth asking how do you know if this answer is correct? To evaluate that, you could compute the derivative of the solution, and plug it back into the differential equation to see if it works. We check here with a simple centered finite difference formula:\n",
    "\n",
    "$y' \\approx \\frac{y(x + \\delta) - y(x - \\delta)}{2\\delta}$."
   ]
  },
  {
   "cell_type": "code",
   "execution_count": 11,
   "metadata": {
    "colab": {
     "base_uri": "https://localhost:8080/"
    },
    "executionInfo": {
     "elapsed": 263,
     "status": "ok",
     "timestamp": 1631190017241,
     "user": {
      "displayName": "John Kitchin",
      "photoUrl": "https://lh3.googleusercontent.com/a/default-user=s64",
      "userId": "14782011281593705406"
     },
     "user_tz": 240
    },
    "id": "vF0kklI-jead",
    "outputId": "d2d6b030-2d48-4e07-93c8-1eb227d23a4b"
   },
   "outputs": [
    {
     "data": {
      "text/plain": [
       "(1.2081252569462464, -1.208125257092909)"
      ]
     },
     "execution_count": 11,
     "metadata": {},
     "output_type": "execute_result"
    }
   ],
   "source": [
    "delta = 1e-6\n",
    "\n",
    "Ip, err = quad(p, a, x1 + delta)\n",
    "Im, err = quad(p, a, x1 - delta)\n",
    "\n",
    "yp_plus = b * np.exp(-Ip)\n",
    "ym_minus = b * np.exp(-Im)\n",
    "\n",
    "yp = (yp_plus - ym_minus) / (2 * delta)\n",
    "\n",
    "yp, (-x1 / (x1 + 2) * y_x1)"
   ]
  },
  {
   "cell_type": "code",
   "execution_count": 10,
   "metadata": {
    "colab": {
     "base_uri": "https://localhost:8080/"
    },
    "executionInfo": {
     "elapsed": 279,
     "status": "ok",
     "timestamp": 1631190011243,
     "user": {
      "displayName": "John Kitchin",
      "photoUrl": "https://lh3.googleusercontent.com/a/default-user=s64",
      "userId": "14782011281593705406"
     },
     "user_tz": 240
    },
    "id": "-jyJvDELfa2g",
    "outputId": "6f1a66d5-f7da-4e32-a1cf-58f52880e3c1"
   },
   "outputs": [
    {
     "data": {
      "text/plain": [
       "1.012320792157404"
      ]
     },
     "execution_count": 10,
     "metadata": {},
     "output_type": "execute_result"
    }
   ],
   "source": [
    "# yp = b * (np.exp(-Ip) - np.exp(-Im)) / (2 * delta)\n",
    "yp + -x1 / (x1 + 2) * y_x1  # differential equation"
   ]
  },
  {
   "cell_type": "markdown",
   "metadata": {
    "id": "hUdxZ34mk7ey"
   },
   "source": [
    "That result is pretty close to zero, indicating we have a good result."
   ]
  },
  {
   "cell_type": "markdown",
   "metadata": {
    "id": "UrqSWNIYHDyU"
   },
   "source": [
    "It is a little trickier to evaluate the solution at several x-values, e.g. to make a plot. The `quad` function is not \"vectorized\", meaning it only performs one integral for one range at a time. You cannot pass it a list of ranges to evaluate it several times. Instead, we have to use a loop for this. In the loop, we will solve the integral, and accumulate the result in a solution array. Before we do that, here are a few useful commands we will need to use.\n",
    "\n",
    "First, it is useful to make an array to store the results in. There are a few ways to do this, the one we use today is the `np.zeros` function. You specify the size of the array as an argument. For example, to make an array with three zeros, do this:\n",
    "\n"
   ]
  },
  {
   "cell_type": "code",
   "execution_count": 14,
   "metadata": {
    "colab": {
     "base_uri": "https://localhost:8080/"
    },
    "executionInfo": {
     "elapsed": 258,
     "status": "ok",
     "timestamp": 1631190285208,
     "user": {
      "displayName": "John Kitchin",
      "photoUrl": "https://lh3.googleusercontent.com/a/default-user=s64",
      "userId": "14782011281593705406"
     },
     "user_tz": 240
    },
    "id": "a7gnDfbjHDyX",
    "outputId": "a17abba3-b190-4443-820a-2ef025b3b502"
   },
   "outputs": [
    {
     "data": {
      "text/plain": [
       "array([0., 0., 0.])"
      ]
     },
     "execution_count": 14,
     "metadata": {},
     "output_type": "execute_result"
    }
   ],
   "source": [
    "np.zeros(3)"
   ]
  },
  {
   "cell_type": "markdown",
   "metadata": {
    "id": "vJE6CiZHHDyn"
   },
   "source": [
    "Second, it is helpful to get the shape of an array. You use dot notation and the shape attribute of an array for this. This allows you to create an array, and later make an array of zeros with the same shape and size.\n",
    "\n"
   ]
  },
  {
   "cell_type": "code",
   "execution_count": 16,
   "metadata": {
    "colab": {
     "base_uri": "https://localhost:8080/"
    },
    "executionInfo": {
     "elapsed": 373,
     "status": "ok",
     "timestamp": 1631190346315,
     "user": {
      "displayName": "John Kitchin",
      "photoUrl": "https://lh3.googleusercontent.com/a/default-user=s64",
      "userId": "14782011281593705406"
     },
     "user_tz": 240
    },
    "id": "YVy7LixhHDyq",
    "outputId": "02e6851f-0868-49d3-fd9a-cd01dcae5abf"
   },
   "outputs": [
    {
     "data": {
      "text/plain": [
       "(10,)"
      ]
     },
     "execution_count": 16,
     "metadata": {},
     "output_type": "execute_result"
    }
   ],
   "source": [
    "x = np.linspace(0, 3.5, 10)\n",
    "x.shape"
   ]
  },
  {
   "cell_type": "markdown",
   "metadata": {
    "id": "WhY6jbA7HDy7"
   },
   "source": [
    "Finally we will iterate over the elements of the x array, and in each step we need to know the index of the element *and* the value of the element. `enumerate` provides this in a pretty straightforward syntax. This function iterates over an array and returns at each step the index and element, which you can assign to variables that you use inside the loop. There are other ways to achieve this, but we only consider this method today. Here, we create an array, and an array of zeros that is the same shape. Then, we iterate over the first array, and set the corresponding index in the second array equal to a computation using the index and element value.\n",
    "\n"
   ]
  },
  {
   "cell_type": "code",
   "execution_count": 17,
   "metadata": {
    "colab": {
     "base_uri": "https://localhost:8080/"
    },
    "executionInfo": {
     "elapsed": 254,
     "status": "ok",
     "timestamp": 1631190413496,
     "user": {
      "displayName": "John Kitchin",
      "photoUrl": "https://lh3.googleusercontent.com/a/default-user=s64",
      "userId": "14782011281593705406"
     },
     "user_tz": 240
    },
    "id": "e0xXJbnc_RLe",
    "outputId": "401b9021-5abb-4672-b095-3c965397b5ee"
   },
   "outputs": [
    {
     "name": "stdout",
     "output_type": "stream",
     "text": [
      "0 a\n",
      "1 b\n",
      "2 ['c', 'd']\n"
     ]
    }
   ],
   "source": [
    "# Examples for enumerate\n",
    "a = [\"a\", \"b\", [\"c\", \"d\"]]\n",
    "\n",
    "for i, val in enumerate(a):\n",
    "    print(i, val)"
   ]
  },
  {
   "cell_type": "code",
   "execution_count": 23,
   "metadata": {
    "colab": {
     "base_uri": "https://localhost:8080/"
    },
    "executionInfo": {
     "elapsed": 333,
     "status": "ok",
     "timestamp": 1631190651999,
     "user": {
      "displayName": "John Kitchin",
      "photoUrl": "https://lh3.googleusercontent.com/a/default-user=s64",
      "userId": "14782011281593705406"
     },
     "user_tz": 240
    },
    "id": "TYHCQVQYiSqX",
    "outputId": "17a10891-4f1b-4100-d28a-6a3613622afe"
   },
   "outputs": [
    {
     "data": {
      "text/plain": [
       "array([0., 0., 0., 0., 0.])"
      ]
     },
     "execution_count": 23,
     "metadata": {},
     "output_type": "execute_result"
    }
   ],
   "source": [
    "n = 5  # enter n here...\n",
    "np.zeros(n)"
   ]
  },
  {
   "cell_type": "code",
   "execution_count": 18,
   "metadata": {
    "colab": {
     "base_uri": "https://localhost:8080/"
    },
    "executionInfo": {
     "elapsed": 296,
     "status": "ok",
     "timestamp": 1631190470267,
     "user": {
      "displayName": "John Kitchin",
      "photoUrl": "https://lh3.googleusercontent.com/a/default-user=s64",
      "userId": "14782011281593705406"
     },
     "user_tz": 240
    },
    "id": "bakv6fh9hzj7",
    "outputId": "44824f94-b210-4732-b014-0d35779a023d"
   },
   "outputs": [
    {
     "data": {
      "text/plain": [
       "3"
      ]
     },
     "execution_count": 18,
     "metadata": {},
     "output_type": "execute_result"
    }
   ],
   "source": [
    "len(a)"
   ]
  },
  {
   "cell_type": "code",
   "execution_count": 19,
   "metadata": {
    "colab": {
     "base_uri": "https://localhost:8080/"
    },
    "executionInfo": {
     "elapsed": 248,
     "status": "ok",
     "timestamp": 1631190513128,
     "user": {
      "displayName": "John Kitchin",
      "photoUrl": "https://lh3.googleusercontent.com/a/default-user=s64",
      "userId": "14782011281593705406"
     },
     "user_tz": 240
    },
    "id": "qs2CiLMghjio",
    "outputId": "971d7eed-dd06-4cef-c346-de7811e04c4b"
   },
   "outputs": [
    {
     "name": "stdout",
     "output_type": "stream",
     "text": [
      "0 a\n",
      "1 b\n",
      "2 ['c', 'd']\n"
     ]
    }
   ],
   "source": [
    "# equivalent to\n",
    "for i in range(len(a)):\n",
    "    print(i, a[i])"
   ]
  },
  {
   "cell_type": "code",
   "execution_count": 20,
   "metadata": {
    "colab": {
     "base_uri": "https://localhost:8080/"
    },
    "executionInfo": {
     "elapsed": 286,
     "status": "ok",
     "timestamp": 1631190528606,
     "user": {
      "displayName": "John Kitchin",
      "photoUrl": "https://lh3.googleusercontent.com/a/default-user=s64",
      "userId": "14782011281593705406"
     },
     "user_tz": 240
    },
    "id": "RhB4q0jHiAAR",
    "outputId": "839b4593-afe4-44a4-95ef-c92bc108067b"
   },
   "outputs": [
    {
     "name": "stdout",
     "output_type": "stream",
     "text": [
      "(0, 'a')\n",
      "(1, 'b')\n",
      "(2, ['c', 'd'])\n"
     ]
    }
   ],
   "source": [
    "for tup in enumerate(a):\n",
    "    print(tup)"
   ]
  },
  {
   "cell_type": "markdown",
   "metadata": {
    "id": "mkIx8GHXirj9"
   },
   "source": [
    "Saving values in the array."
   ]
  },
  {
   "cell_type": "code",
   "execution_count": 24,
   "metadata": {
    "colab": {
     "base_uri": "https://localhost:8080/"
    },
    "executionInfo": {
     "elapsed": 308,
     "status": "ok",
     "timestamp": 1631190772283,
     "user": {
      "displayName": "John Kitchin",
      "photoUrl": "https://lh3.googleusercontent.com/a/default-user=s64",
      "userId": "14782011281593705406"
     },
     "user_tz": 240
    },
    "id": "jgPKPiZQHDy9",
    "outputId": "ada1283f-66fe-494a-cdc2-4c116ea868d5"
   },
   "outputs": [
    {
     "name": "stdout",
     "output_type": "stream",
     "text": [
      "Before the loop new_arr = [0. 0. 0. 0. 0.]\n",
      "    The element at index 0 is 0.0\n",
      "    The element at index 1 is 0.25\n",
      "    The element at index 2 is 0.5\n",
      "    The element at index 3 is 0.75\n",
      "    The element at index 4 is 1.0\n",
      "After the loop new_arr = [0.   0.25 1.   2.25 4.  ]\n"
     ]
    }
   ],
   "source": [
    "arr = np.linspace(0, 1, 5)\n",
    "new_arr = np.zeros(arr.shape)\n",
    "print(f\"Before the loop new_arr = {new_arr}\")\n",
    "\n",
    "for i, val in enumerate(arr):\n",
    "    new_arr[i] = i * val  # this is a calculation we choose\n",
    "    print(f\"    The element at index {i} is {val}\")\n",
    "\n",
    "print(f\"After the loop new_arr = {new_arr}\")"
   ]
  },
  {
   "cell_type": "markdown",
   "metadata": {
    "id": "xtKK0EAjHDzK"
   },
   "source": [
    "Back to the solution to our integration problem. Our goal is to compute the value of the solution for an array of x-values. We will iterate over an array of x-values, and for each one compute the value of the solution at that x, and save the solution in a new array.\n",
    "\n"
   ]
  },
  {
   "cell_type": "code",
   "execution_count": 38,
   "metadata": {
    "colab": {
     "base_uri": "https://localhost:8080/",
     "height": 279
    },
    "executionInfo": {
     "elapsed": 293,
     "status": "ok",
     "timestamp": 1631191649992,
     "user": {
      "displayName": "John Kitchin",
      "photoUrl": "https://lh3.googleusercontent.com/a/default-user=s64",
      "userId": "14782011281593705406"
     },
     "user_tz": 240
    },
    "id": "kox2iQD2HDzM",
    "outputId": "05ca4e2d-8707-4d37-d51c-8788ba3ea132"
   },
   "outputs": [
    {
     "data": {
      "image/png": "[encoded data removed]",
      "text/plain": [
       "<Figure size 432x288 with 1 Axes>"
      ]
     },
     "metadata": {
      "needs_background": "light"
     },
     "output_type": "display_data"
    }
   ],
   "source": [
    "x = np.linspace(0, 3.5, 150)\n",
    "y = np.zeros(x.shape)\n",
    "\n",
    "a = 0\n",
    "b = 3\n",
    "\n",
    "for i, x1 in enumerate(x):\n",
    "    I, err = quad(p, a, x1)\n",
    "    y[i] = b * np.exp(-I)\n",
    "\n",
    "\n",
    "import matplotlib.pyplot as plt\n",
    "\n",
    "plt.plot(x, y, \"b-\")\n",
    "plt.xlabel(\"x\")\n",
    "plt.ylabel(\"y\")\n",
    "# plt.xlim([x.min(), x.max()]);  # .min and .max only work on numpy.arrays\n",
    "plt.xlim([min(x), max(x)])\n",
    "# These are built in python functions that work on lists"
   ]
  },
  {
   "cell_type": "markdown",
   "metadata": {
    "id": "Vq34V78pHD02"
   },
   "source": [
    "We should ask, how can we tell this is correct? We can confirm the initial values, which we know are correct.\n",
    "\n"
   ]
  },
  {
   "cell_type": "code",
   "execution_count": null,
   "metadata": {
    "id": "7ALP2fK8HD06"
   },
   "outputs": [],
   "source": [
    "x[0], y[0]"
   ]
  },
  {
   "cell_type": "markdown",
   "metadata": {
    "id": "t_hKzsxtHD1H"
   },
   "source": [
    "We can express the ODE as: $y' = \\frac{x}{x+2}y$. By inspection, we can see that the derivative will always be positive, so the solution should increase from the initial value, which it does.\n",
    "\n",
    "We can also examine the derivatives of our solution. We have to rely on numerical derivatives of our solution because x and y are arrays. `np.gradient` will compute the derivative using a reasonable approximation. We know the derivative analytically from the ODE."
   ]
  },
  {
   "cell_type": "code",
   "execution_count": 39,
   "metadata": {
    "colab": {
     "base_uri": "https://localhost:8080/",
     "height": 279
    },
    "executionInfo": {
     "elapsed": 375,
     "status": "ok",
     "timestamp": 1631191657985,
     "user": {
      "displayName": "John Kitchin",
      "photoUrl": "https://lh3.googleusercontent.com/a/default-user=s64",
      "userId": "14782011281593705406"
     },
     "user_tz": 240
    },
    "id": "H1ZNWP0oHD1J",
    "outputId": "a75bfb7d-e346-4640-d4b1-967aae126977"
   },
   "outputs": [
    {
     "data": {
      "image/png": "[encoded data removed]",
      "text/plain": [
       "<Figure size 432x288 with 1 Axes>"
      ]
     },
     "metadata": {
      "needs_background": "light"
     },
     "output_type": "display_data"
    }
   ],
   "source": [
    "dydx = np.gradient(y, x, edge_order=2)  # Estimates the derivative dy/dx at every point\n",
    "\n",
    "plt.plot(x, dydx, label=\"dydx\")\n",
    "plt.plot(x, x / (x + 2) * y, \"r--\", label=\"RHS\")\n",
    "plt.xlabel(\"x\")\n",
    "plt.ylabel(\"dy/dx\")\n",
    "plt.legend();"
   ]
  },
  {
   "cell_type": "code",
   "execution_count": 40,
   "metadata": {
    "colab": {
     "base_uri": "https://localhost:8080/",
     "height": 282
    },
    "executionInfo": {
     "elapsed": 285,
     "status": "ok",
     "timestamp": 1631191663330,
     "user": {
      "displayName": "John Kitchin",
      "photoUrl": "https://lh3.googleusercontent.com/a/default-user=s64",
      "userId": "14782011281593705406"
     },
     "user_tz": 240
    },
    "id": "AgKlbM_dl_Y0",
    "outputId": "db068b52-b136-43cf-8183-22d24f551856"
   },
   "outputs": [
    {
     "data": {
      "text/plain": [
       "[<matplotlib.lines.Line2D at 0x7facefb9b1d0>]"
      ]
     },
     "execution_count": 40,
     "metadata": {},
     "output_type": "execute_result"
    },
    {
     "data": {
      "image/png": "[encoded data removed]",
      "text/plain": [
       "<Figure size 432x288 with 1 Axes>"
      ]
     },
     "metadata": {
      "needs_background": "light"
     },
     "output_type": "display_data"
    }
   ],
   "source": [
    "plt.plot(x, dydx - x / (x + 2) * y);"
   ]
  },
  {
   "cell_type": "markdown",
   "metadata": {
    "id": "h0ge8hD_HD1P"
   },
   "source": [
    "Here you see good agreement over most of the range. The end-points are always less accurate because the derivatives there are approximated by a less accurate formula. We interpret the sum of this evidence to mean our solution to the ODE is good over this range of x values.\n",
    "\n"
   ]
  },
  {
   "cell_type": "markdown",
   "metadata": {
    "id": "g8TgvmDIHD1Q"
   },
   "source": [
    "### (Optional) Non-homogeneous linear first-order ODEs\n",
    "\n"
   ]
  },
  {
   "cell_type": "markdown",
   "metadata": {
    "id": "NcYG1X5QHD1S"
   },
   "source": [
    "A non-homogenous first order, linear differential equation has this form:\n",
    "\n",
    "$y' + p(x) y = q(x), y(a)=b$\n",
    "\n",
    "Equations of this form are typically solved with a method called variation of parameters. In the most general form, this leads to solutions of the form:\n",
    "\n",
    "$y(x) = e^{-\\int_a^x p(\\xi)d\\xi}\\left(\\int_a^x e^{-\\int_a^{\\xi} p(\\zeta)d\\zeta} q(\\xi)d\\xi + b\\right)$\n",
    "\n",
    "It is a little tricky to implement this. It is helpful to break this down into several pieces. Note that it is not necessary to do this, it just makes it easier to read, debug, and see that you have done it correctly. Here are the easiest parts."
   ]
  },
  {
   "cell_type": "code",
   "execution_count": null,
   "metadata": {
    "id": "fT2EpNFoHD1U"
   },
   "outputs": [],
   "source": [
    "def p(xi):\n",
    "    return -2 * xi\n",
    "\n",
    "\n",
    "def q(xi):\n",
    "    return np.sin(xi)\n",
    "\n",
    "\n",
    "a = 0\n",
    "b = 3"
   ]
  },
  {
   "cell_type": "markdown",
   "metadata": {
    "id": "3-HdJObYHD1b"
   },
   "source": [
    "Next, we will break the equation into two parts:\n",
    "\n",
    "$y(x) = term1 * term2$ where\n",
    "\n",
    "$term1 = e^{-\\int_a^x p(\\xi)d\\xi}$\n",
    "\n",
    "and\n",
    "\n",
    "$term2 = \\left(\\int_a^x e^{-\\int_a^{\\xi} p(\\zeta)d\\zeta} q(\\xi)d\\xi + b\\right)$\n",
    "\n",
    "We can immediately define a function for term1 as:\n",
    "\n"
   ]
  },
  {
   "cell_type": "code",
   "execution_count": null,
   "metadata": {
    "id": "gVeMcD32HD1c"
   },
   "outputs": [],
   "source": [
    "def term1(x):\n",
    "    I1, _ = quad(p, a, x)\n",
    "    return np.exp(-I1)"
   ]
  },
  {
   "cell_type": "markdown",
   "metadata": {
    "id": "0uxVSfjLHD1k"
   },
   "source": [
    "term2 is a little trickier, as it has a partial integral inside an integral. We can define a function for this term also, but we have to define an internal function to use for the integral. The internal function will have an integral inside of it.\n",
    "\n"
   ]
  },
  {
   "cell_type": "code",
   "execution_count": null,
   "metadata": {
    "id": "wnu7IugkHD1m"
   },
   "outputs": [],
   "source": [
    "def term2(x):\n",
    "    def integrand(xi):\n",
    "        internal_term1, _ = quad(p, a, xi)\n",
    "        internal_term2 = q(xi)\n",
    "        return np.exp(internal_term1) * internal_term2\n",
    "\n",
    "    I2, _ = quad(integrand, a, x)\n",
    "    return I2 + b"
   ]
  },
  {
   "cell_type": "markdown",
   "metadata": {
    "id": "4IwLDnNTHD1s"
   },
   "source": [
    "Now, to use it, we form the product of the two terms:\n",
    "\n"
   ]
  },
  {
   "cell_type": "code",
   "execution_count": null,
   "metadata": {
    "id": "iwp6yjlGHD1t"
   },
   "outputs": [],
   "source": [
    "x1 = 0.5\n",
    "print(term1(x1) * term2(x1))"
   ]
  },
  {
   "cell_type": "markdown",
   "metadata": {
    "id": "Tomhsp_GHD10"
   },
   "source": [
    "With some algebra and calculus on your part, you might arrive at the following non-elementary integral solution:\n",
    "\n",
    "$y(x) = e^{x^2} \\left(\\int_0^x e^{-\\xi^2} \\sin{\\xi} d\\xi + 3\\right)$\n",
    "\n",
    "The solution is called non-elementary because you cannot evaluate the integral in closed form using elementary functions, e.g. powers of x, trigonometric functions, exponentials or logarithms. You can, however, use numerical methods to integrate it.\n",
    "\n"
   ]
  },
  {
   "cell_type": "code",
   "execution_count": null,
   "metadata": {
    "id": "UAfWJhKFHD11"
   },
   "outputs": [],
   "source": [
    "def integrand(x):\n",
    "    return np.exp(-(x**2)) * np.sin(x)\n",
    "\n",
    "\n",
    "I, _ = quad(integrand, 0, x1)\n",
    "\n",
    "sol = np.exp(x1**2) * (I + b)\n",
    "sol"
   ]
  },
  {
   "cell_type": "markdown",
   "metadata": {
    "id": "RSzeXi_WHD1_"
   },
   "source": [
    "Note there is some conservation of effort here. If you can derive the solution above correctly (and you have all learned how to do this if you had a differential equations course), the code below is quite short to get the solution at some value of x. If you are unable to derive that solution, you can use the general solution we gave, but then it is a trickier solution to implement in code.\n",
    "\n"
   ]
  },
  {
   "cell_type": "markdown",
   "metadata": {
    "id": "wunpCRkUHD2B"
   },
   "source": [
    "### Limitations of solutions by integration\n",
    "\n"
   ]
  },
  {
   "cell_type": "markdown",
   "metadata": {
    "id": "JGwgldicHD2C"
   },
   "source": [
    "Solution by integration has some advantages. You get an estimate of the error in the solution from the `quad` function, which is helpful to know how good the solution is. However, the methods described above are limited to *linear* differential equations of the form described. If you have a nonlinear differential equation, or if you are unable to separate the equations into integrable form, the methods simply don't work. Next, we consider how to approach equations where we cannot use integration to solve the problems.\n",
    "\n"
   ]
  },
  {
   "cell_type": "markdown",
   "metadata": {
    "id": "xjarbN2BHD2D"
   },
   "source": [
    "## Numerical solutions to differential equations\n",
    "\n"
   ]
  },
  {
   "cell_type": "markdown",
   "metadata": {
    "id": "YNwK2kzFHD2E"
   },
   "source": [
    "We begin with a brief review of first order differential equations. The equations we are concerned with here all have the form:\n",
    "\n",
    "$\\frac{dy}{dx} = f(x, y)$\n",
    "\n",
    "And the value of the solution is known at some point, e.g. $y(x_0) = y_0$. $f(x, y)$ can be linear or nonlinear. Our goal in this section is to motivate how numerical solutions are obtained.\n",
    "\n",
    "These notes were adapted from Chapter 6 in Advanced Engineering Mathematics 2<sup>nd</sup> ed. by Michael D. Greenberg.\n",
    "\n",
    "The basic idea behind these methods is that we know the initial value of the solution *and* the derivative of the solution (it is defined by the ODE definition above), and so we can estimate the solution a small distance away from the initial value. If you repeat this process with the newly estimated point, you can estimate the next point, and so on. There are many algorithms for performing the estimation, and we will consider a two of them. These algorithms differ in efficiency, ease of implementation, and accuracy.\n",
    "\n"
   ]
  },
  {
   "cell_type": "markdown",
   "metadata": {
    "id": "nGyH-QJnHD2F"
   },
   "source": [
    "### Euler's method\n",
    "\n"
   ]
  },
  {
   "cell_type": "markdown",
   "metadata": {
    "id": "XycMUNf1HD2H"
   },
   "source": [
    "The main idea of Euler's method is that if you know the value of the solution at some point, and you know the derivative at that point, you can estimate the solution nearby at $x0 + h$, where $h$ is a small number:\n",
    "\n",
    "$y_{n+1} = y_n + f(x_n, y_n) h$\n",
    "\n",
    "Now, you just repeat this until you get to the x-value that you want. For concreteness, consider:\n",
    "\n",
    "$y' = y + 2x - x^2; y(0) = 1$.\n",
    "\n",
    "This ODE has a known analytical solution: $y(x) = x^2 + e^x$. We will use this for comparison.\n",
    "\n",
    "Find a solution from x=0 to x=1.5."
   ]
  },
  {
   "cell_type": "code",
   "execution_count": 43,
   "metadata": {
    "colab": {
     "base_uri": "https://localhost:8080/"
    },
    "executionInfo": {
     "elapsed": 248,
     "status": "ok",
     "timestamp": 1631192298784,
     "user": {
      "displayName": "John Kitchin",
      "photoUrl": "https://lh3.googleusercontent.com/a/default-user=s64",
      "userId": "14782011281593705406"
     },
     "user_tz": 240
    },
    "id": "ggI9ru5eou21",
    "outputId": "3021efe3-39f6-4376-a72a-c761a08d9275"
   },
   "outputs": [
    {
     "data": {
      "text/plain": [
       "(array([0.  , 0.25, 0.5 , 0.75, 1.  ]), 0.25)"
      ]
     },
     "execution_count": 43,
     "metadata": {},
     "output_type": "execute_result"
    }
   ],
   "source": [
    "np.linspace(0, 1, 5, retstep=True)"
   ]
  },
  {
   "cell_type": "code",
   "execution_count": 44,
   "metadata": {
    "colab": {
     "base_uri": "https://localhost:8080/"
    },
    "executionInfo": {
     "elapsed": 7,
     "status": "ok",
     "timestamp": 1631192327868,
     "user": {
      "displayName": "John Kitchin",
      "photoUrl": "https://lh3.googleusercontent.com/a/default-user=s64",
      "userId": "14782011281593705406"
     },
     "user_tz": 240
    },
    "id": "_0iP_8aNo1uQ",
    "outputId": "17be8776-2dd4-4131-af1e-7206986446a9"
   },
   "outputs": [
    {
     "data": {
      "text/plain": [
       "0.25"
      ]
     },
     "execution_count": 44,
     "metadata": {},
     "output_type": "execute_result"
    }
   ],
   "source": [
    "G = np.linspace(0, 1, 5)\n",
    "G[1] - G[0]"
   ]
  },
  {
   "cell_type": "code",
   "execution_count": 52,
   "metadata": {
    "colab": {
     "base_uri": "https://localhost:8080/"
    },
    "executionInfo": {
     "elapsed": 494,
     "status": "ok",
     "timestamp": 1631192599585,
     "user": {
      "displayName": "John Kitchin",
      "photoUrl": "https://lh3.googleusercontent.com/a/default-user=s64",
      "userId": "14782011281593705406"
     },
     "user_tz": 240
    },
    "id": "aE6YtKmTHD2I",
    "outputId": "97787d9b-823a-4751-9672-615012fda52b"
   },
   "outputs": [
    {
     "name": "stdout",
     "output_type": "stream",
     "text": [
      "h = 0.003006012024048096\n"
     ]
    }
   ],
   "source": [
    "import numpy as np\n",
    "\n",
    "\n",
    "def f(x, y):\n",
    "    return y + 2 * x - x**2\n",
    "\n",
    "\n",
    "# Initial condition\n",
    "x0 = 0\n",
    "y0 = 1\n",
    "\n",
    "x, h = np.linspace(\n",
    "    x0, 1.5, 500, retstep=True\n",
    ")  # Note the optional argument to get the stepsize.\n",
    "print(f\"h = {h}\")\n",
    "\n",
    "y = np.zeros(x.shape)\n",
    "y[0] = y0  # This is y(x0) = y0, the initial condition\n",
    "\n",
    "# Implementation of Euler's method\n",
    "# Iterate over each value\n",
    "for n in range(0, len(x) - 1):\n",
    "    y[n + 1] = y[n] + f(x[n], y[n]) * h"
   ]
  },
  {
   "cell_type": "markdown",
   "metadata": {
    "id": "n_1PPSS_HD2Q"
   },
   "source": [
    "We can check out the solution graphically:\n",
    "\n"
   ]
  },
  {
   "cell_type": "code",
   "execution_count": 53,
   "metadata": {
    "colab": {
     "base_uri": "https://localhost:8080/",
     "height": 300
    },
    "executionInfo": {
     "elapsed": 718,
     "status": "ok",
     "timestamp": 1631192602778,
     "user": {
      "displayName": "John Kitchin",
      "photoUrl": "https://lh3.googleusercontent.com/a/default-user=s64",
      "userId": "14782011281593705406"
     },
     "user_tz": 240
    },
    "id": "xX420xBEHD2R",
    "outputId": "51fb5495-2718-47d4-8fb6-04859f6689e1"
   },
   "outputs": [
    {
     "data": {
      "text/plain": [
       "<matplotlib.legend.Legend at 0x7facefb35c90>"
      ]
     },
     "execution_count": 53,
     "metadata": {},
     "output_type": "execute_result"
    },
    {
     "data": {
      "image/png": "[encoded data removed]",
      "text/plain": [
       "<Figure size 432x288 with 1 Axes>"
      ]
     },
     "metadata": {
      "needs_background": "light"
     },
     "output_type": "display_data"
    }
   ],
   "source": [
    "import matplotlib.pyplot as plt\n",
    "\n",
    "plt.plot(x, y, label=\"Euler\")\n",
    "plt.plot(x, x**2 + np.exp(x), \"r--\", label=\"Analytical\")\n",
    "plt.xlabel(\"x\")\n",
    "plt.ylabel(\"y\")\n",
    "plt.legend()"
   ]
  },
  {
   "cell_type": "markdown",
   "metadata": {
    "id": "QsenJD7fHD2W"
   },
   "source": [
    "This solution does not look that good until you increase the number of points (i.e. decrease the value of $h$, significantly). It is known the error decreases only linearly with $h$.\n",
    "\n",
    "**Exercise** Increase the number of points in the x array and see how it affects the solution.\n",
    "\n",
    "This method is not used in practice; it is not very accurate, and you need quite small $h$ to get a good solution. It is used here to illustrate the idea of how one integrates a differential equation. We will consider one more advanced method, the fourth-order Runge-Kutta method.\n",
    "\n"
   ]
  },
  {
   "cell_type": "markdown",
   "metadata": {
    "id": "-n3yT_KQHD2X"
   },
   "source": [
    "### Fourth-order Runge-Kutta method\n",
    "\n"
   ]
  },
  {
   "cell_type": "markdown",
   "metadata": {
    "id": "bNkoOOfuHD2Y"
   },
   "source": [
    "The general idea of the more advanced methods is to use a weighted average of slopes at various points around a point to best estimate the next function value. Here we consider the fourth-order Runge-Kutta algorithm. The terms are tedious to derive, and we will not do it here as they can be looked up in several places (e.g. [https://en.wikipedia.org/wiki/Runge%E2%80%93Kutta_methods#The_Runge%E2%80%93Kutta_method](https://en.wikipedia.org/wiki/Runge%E2%80%93Kutta_methods#The_Runge%E2%80%93Kutta_method)).\n",
    "\n"
   ]
  },
  {
   "cell_type": "code",
   "execution_count": 60,
   "metadata": {
    "colab": {
     "base_uri": "https://localhost:8080/"
    },
    "executionInfo": {
     "elapsed": 261,
     "status": "ok",
     "timestamp": 1631193005801,
     "user": {
      "displayName": "John Kitchin",
      "photoUrl": "https://lh3.googleusercontent.com/a/default-user=s64",
      "userId": "14782011281593705406"
     },
     "user_tz": 240
    },
    "id": "igU9eTEpHD2Z",
    "outputId": "805ead1d-1212-4ed9-ecaa-44ade7e16651"
   },
   "outputs": [
    {
     "name": "stdout",
     "output_type": "stream",
     "text": [
      "h = 0.10714285714285714\n"
     ]
    }
   ],
   "source": [
    "x0 = 0\n",
    "y0 = 1\n",
    "\n",
    "x, h = np.linspace(x0, 1.5, 15, retstep=True)\n",
    "print(f\"h = {h}\")\n",
    "y = np.zeros(x.shape)\n",
    "y[0] = y0\n",
    "\n",
    "# Implementation of fourth order Runge Kutta method\n",
    "for i in range(0, len(x) - 1):\n",
    "    k1 = h * f(x[i], y[i])  # Note this is like Euler's method\n",
    "    k2 = h * f(\n",
    "        x[i] + h / 2, y[i] + k1 / 2\n",
    "    )  # This is the increment at the midpoint using y, k1\n",
    "    k3 = h * f(\n",
    "        x[i] + h / 2, y[i] + k2 / 2\n",
    "    )  # This is the increment at the midpoint using y, k2\n",
    "    k4 = h * f(x[i + 1], y[i] + k3)  # This is the increment at the end of the interval\n",
    "    # This is a weighted average of the four increments computed above. There is a heavier weight on the midpoints\n",
    "    y[i + 1] = y[i] + (k1 + (2 * k2) + (2 * k3) + k4) / 6"
   ]
  },
  {
   "cell_type": "code",
   "execution_count": 73,
   "metadata": {
    "colab": {
     "base_uri": "https://localhost:8080/",
     "height": 300
    },
    "executionInfo": {
     "elapsed": 304,
     "status": "ok",
     "timestamp": 1631193590748,
     "user": {
      "displayName": "John Kitchin",
      "photoUrl": "https://lh3.googleusercontent.com/a/default-user=s64",
      "userId": "14782011281593705406"
     },
     "user_tz": 240
    },
    "id": "8uF7hG_1HD2d",
    "outputId": "9c8960ae-6556-4bf4-e8dd-3452468e6ecd"
   },
   "outputs": [
    {
     "data": {
      "text/plain": [
       "<matplotlib.legend.Legend at 0x7facef23df50>"
      ]
     },
     "execution_count": 73,
     "metadata": {},
     "output_type": "execute_result"
    },
    {
     "data": {
      "image/png": "[encoded data removed]",
      "text/plain": [
       "<Figure size 432x288 with 1 Axes>"
      ]
     },
     "metadata": {
      "needs_background": "light"
     },
     "output_type": "display_data"
    }
   ],
   "source": [
    "plt.plot(x, y, label=\"RK-4\")\n",
    "plt.plot(x, x**2 + np.exp(x), \"r--\", label=\"Analytical\")\n",
    "plt.xlabel(\"x\")\n",
    "plt.ylabel(\"y\")\n",
    "plt.legend(loc=9)"
   ]
  },
  {
   "cell_type": "markdown",
   "metadata": {
    "id": "IF4lViZ0HD2i"
   },
   "source": [
    "Note you can get a much more accurate solution with a larger $h$ with this method than you can with the Euler method.\n",
    "\n",
    "*If* our differential equation is just $\\frac{dy}{dx} = f(x)$, i.e. $f$ is independent of $y$, then this method is equivalent to Simpson's rule of integration.\n",
    "\n",
    "Both of these methods leave some things to be desired:\n",
    "\n",
    "1.  We had to code them, and there are many places to make mistakes.\n",
    "2.  You have to choose $h$, or equivalently the number of points to use, and then make sure the solution has converged (does not depend on your choice).\n",
    "3.  $h$ is fixed in these examples, and you might prefer to use an adaptive value.\n",
    "4.  It is not easy to solve the inverse problem, e.g. for what value of $x$ does $y=4$?\n",
    "\n",
    "In practice, there are well-written ODE integrators to solve this kind of problem that address all the short-comings listed above. To use them, we just need to learn the syntax. We do that next.\n",
    "\n"
   ]
  },
  {
   "cell_type": "markdown",
   "metadata": {
    "id": "m3-6JZ2pHD2i"
   },
   "source": [
    "## scipy.integrate.solve_ivp\n",
    "\n"
   ]
  },
  {
   "cell_type": "markdown",
   "metadata": {
    "id": "9X_jiDeeHD2j"
   },
   "source": [
    "The `scipy.integrate` library provides `solve_ivp` to solve first order differential equations. It is not the only one available, but this function is recommended. You import the function like this:\n",
    "\n"
   ]
  },
  {
   "cell_type": "code",
   "execution_count": 75,
   "metadata": {
    "executionInfo": {
     "elapsed": 279,
     "status": "ok",
     "timestamp": 1631193919937,
     "user": {
      "displayName": "John Kitchin",
      "photoUrl": "https://lh3.googleusercontent.com/a/default-user=s64",
      "userId": "14782011281593705406"
     },
     "user_tz": 240
    },
    "id": "XD7pI_0CHD2k"
   },
   "outputs": [],
   "source": [
    "from scipy.integrate import solve_ivp\n",
    "?solve_ivp"
   ]
  },
  {
   "cell_type": "markdown",
   "metadata": {
    "id": "oScNnW9BHD2p"
   },
   "source": [
    "Here is a minimal use of the function, with keyword arguments.\n",
    "\n",
    "`y0` is an array containing the initial values.  `fun` is a function with a signature of f(t, y). Here, $t$ is considered the independent variable. You can call it whatever you want, so f(x, y) is also fine. Since `solve_ivp` had $t$ in mind, the second argument is the `t_span`, which is a tuple of two numbers for where the integration starts (t0, or x0) and where it ends.  `solve_ivp` returns an object.\n",
    "\n"
   ]
  },
  {
   "cell_type": "code",
   "execution_count": 77,
   "metadata": {
    "executionInfo": {
     "elapsed": 324,
     "status": "ok",
     "timestamp": 1631193996003,
     "user": {
      "displayName": "John Kitchin",
      "photoUrl": "https://lh3.googleusercontent.com/a/default-user=s64",
      "userId": "14782011281593705406"
     },
     "user_tz": 240
    },
    "id": "JDLX7KPIvPyn"
   },
   "outputs": [],
   "source": [
    "??f  # we defined this before"
   ]
  },
  {
   "cell_type": "code",
   "execution_count": 82,
   "metadata": {
    "colab": {
     "base_uri": "https://localhost:8080/"
    },
    "executionInfo": {
     "elapsed": 266,
     "status": "ok",
     "timestamp": 1631194177394,
     "user": {
      "displayName": "John Kitchin",
      "photoUrl": "https://lh3.googleusercontent.com/a/default-user=s64",
      "userId": "14782011281593705406"
     },
     "user_tz": 240
    },
    "id": "yCEeAzo4HD2q",
    "outputId": "84f84da8-7a33-4e50-882a-7be9ad61a180"
   },
   "outputs": [
    {
     "data": {
      "text/plain": [
       "  message: 'The solver successfully reached the end of the integration interval.'\n",
       "     nfev: 20\n",
       "     njev: 0\n",
       "      nlu: 0\n",
       "      sol: None\n",
       "   status: 0\n",
       "  success: True\n",
       "        t: array([0.        , 0.08034384, 0.86683456, 1.5       ])\n",
       " t_events: None\n",
       "        y: array([[1.        , 1.09011474, 3.13086569, 6.73191444]])\n",
       " y_events: None"
      ]
     },
     "execution_count": 82,
     "metadata": {},
     "output_type": "execute_result"
    }
   ],
   "source": [
    "x0 = 0\n",
    "y0 = np.array([1])  # It is a good idea to make y0 an array. It will be important later.\n",
    "sol = solve_ivp(fun=f, t_span=(x0, 1.5), y0=y0)\n",
    "sol"
   ]
  },
  {
   "cell_type": "markdown",
   "metadata": {
    "id": "K8w40MGdHD2w"
   },
   "source": [
    "The output of `solve_ivp` is an object containing results in attributes on the object."
   ]
  },
  {
   "cell_type": "code",
   "execution_count": 83,
   "metadata": {
    "colab": {
     "base_uri": "https://localhost:8080/",
     "height": 35
    },
    "executionInfo": {
     "elapsed": 258,
     "status": "ok",
     "timestamp": 1631194215641,
     "user": {
      "displayName": "John Kitchin",
      "photoUrl": "https://lh3.googleusercontent.com/a/default-user=s64",
      "userId": "14782011281593705406"
     },
     "user_tz": 240
    },
    "id": "LnT0ZJckHD2z",
    "outputId": "b7c69dce-5e31-4f08-9037-0e273524c9cf"
   },
   "outputs": [
    {
     "data": {
      "application/vnd.google.colaboratory.intrinsic+json": {
       "type": "string"
      },
      "text/plain": [
       "'The solver successfully reached the end of the integration interval.'"
      ]
     },
     "execution_count": 83,
     "metadata": {},
     "output_type": "execute_result"
    }
   ],
   "source": [
    "sol.message"
   ]
  },
  {
   "cell_type": "markdown",
   "metadata": {
    "id": "IVp9rd80HD2-"
   },
   "source": [
    "You should look for a few things here. One is that the message indicates success. Second, we access the solution using dot notation. Here are the independent variable values the solution was evaluated at.\n",
    "\n"
   ]
  },
  {
   "cell_type": "code",
   "execution_count": 85,
   "metadata": {
    "colab": {
     "base_uri": "https://localhost:8080/"
    },
    "executionInfo": {
     "elapsed": 269,
     "status": "ok",
     "timestamp": 1631194228921,
     "user": {
      "displayName": "John Kitchin",
      "photoUrl": "https://lh3.googleusercontent.com/a/default-user=s64",
      "userId": "14782011281593705406"
     },
     "user_tz": 240
    },
    "id": "JzHZkbLgHD2-",
    "outputId": "c5dc3ade-b22b-48ea-e87c-453461c41e15"
   },
   "outputs": [
    {
     "data": {
      "text/plain": [
       "(4,)"
      ]
     },
     "execution_count": 85,
     "metadata": {},
     "output_type": "execute_result"
    }
   ],
   "source": [
    "sol.t.shape"
   ]
  },
  {
   "cell_type": "code",
   "execution_count": 87,
   "metadata": {
    "colab": {
     "base_uri": "https://localhost:8080/"
    },
    "executionInfo": {
     "elapsed": 265,
     "status": "ok",
     "timestamp": 1631194241686,
     "user": {
      "displayName": "John Kitchin",
      "photoUrl": "https://lh3.googleusercontent.com/a/default-user=s64",
      "userId": "14782011281593705406"
     },
     "user_tz": 240
    },
    "id": "l6mh2guMwLnu",
    "outputId": "24b78bd5-912f-4381-d357-fd8c23ee25e7"
   },
   "outputs": [
    {
     "data": {
      "text/plain": [
       "(1, 4)"
      ]
     },
     "execution_count": 87,
     "metadata": {},
     "output_type": "execute_result"
    }
   ],
   "source": [
    "sol.y.shape"
   ]
  },
  {
   "cell_type": "code",
   "execution_count": 90,
   "metadata": {
    "colab": {
     "base_uri": "https://localhost:8080/"
    },
    "executionInfo": {
     "elapsed": 267,
     "status": "ok",
     "timestamp": 1631194280299,
     "user": {
      "displayName": "John Kitchin",
      "photoUrl": "https://lh3.googleusercontent.com/a/default-user=s64",
      "userId": "14782011281593705406"
     },
     "user_tz": 240
    },
    "id": "0SfwRvBCwPqw",
    "outputId": "131d2ac1-b479-4a69-f00f-57541c962dda"
   },
   "outputs": [
    {
     "data": {
      "text/plain": [
       "(4,)"
      ]
     },
     "execution_count": 90,
     "metadata": {},
     "output_type": "execute_result"
    }
   ],
   "source": [
    "sol.y[0].shape"
   ]
  },
  {
   "cell_type": "markdown",
   "metadata": {
    "id": "5GnBqfFmHD3D"
   },
   "source": [
    "Third, the solution is in a 2D array. We only have one equation here, so we use indexing to get the first row as an array.\n",
    "\n"
   ]
  },
  {
   "cell_type": "code",
   "execution_count": null,
   "metadata": {
    "id": "sue_R_C3HD3D"
   },
   "outputs": [],
   "source": [
    "sol.y[0]"
   ]
  },
  {
   "cell_type": "markdown",
   "metadata": {
    "id": "nFb1CbyDHD3I"
   },
   "source": [
    "Now, we can plot the solution.\n",
    "\n"
   ]
  },
  {
   "cell_type": "code",
   "execution_count": 92,
   "metadata": {
    "colab": {
     "base_uri": "https://localhost:8080/",
     "height": 283
    },
    "executionInfo": {
     "elapsed": 274,
     "status": "ok",
     "timestamp": 1631194300036,
     "user": {
      "displayName": "John Kitchin",
      "photoUrl": "https://lh3.googleusercontent.com/a/default-user=s64",
      "userId": "14782011281593705406"
     },
     "user_tz": 240
    },
    "id": "QQRpwGlTHD3K",
    "outputId": "7f7983f7-d527-4e8d-ec72-cbcb205fe72b"
   },
   "outputs": [
    {
     "data": {
      "image/png": "[encoded data removed]",
      "text/plain": [
       "<Figure size 432x288 with 1 Axes>"
      ]
     },
     "metadata": {
      "needs_background": "light"
     },
     "output_type": "display_data"
    }
   ],
   "source": [
    "plt.plot(sol.t, sol.y[0], \"bo\", label=\"solve_ivp\")\n",
    "plt.plot(sol.t, sol.t**2 + np.exp(sol.t), \"r--\", label=\"Analytical\")\n",
    "plt.xlabel(\"x\")\n",
    "plt.ylabel(\"y\")\n",
    "plt.legend();"
   ]
  },
  {
   "cell_type": "markdown",
   "metadata": {
    "id": "snbBh0tCHD3O"
   },
   "source": [
    "That doesn't looks so great since there are only four data points. By default, the algorithm only uses as many points as it needs to achieve a specified tolerance. We can specify that we want the solution evaluated at other points using the optional `t_eval` keyword arg. It is important to remember that these points are an approximation to the solution.\n",
    "\n"
   ]
  },
  {
   "cell_type": "code",
   "execution_count": 93,
   "metadata": {
    "colab": {
     "base_uri": "https://localhost:8080/"
    },
    "executionInfo": {
     "elapsed": 269,
     "status": "ok",
     "timestamp": 1631194399010,
     "user": {
      "displayName": "John Kitchin",
      "photoUrl": "https://lh3.googleusercontent.com/a/default-user=s64",
      "userId": "14782011281593705406"
     },
     "user_tz": 240
    },
    "id": "aTNsSKIMHD3P",
    "outputId": "48f08fb4-1420-4b9a-d79e-2c8997f91c5b"
   },
   "outputs": [
    {
     "data": {
      "text/plain": [
       "  message: 'The solver successfully reached the end of the integration interval.'\n",
       "     nfev: 20\n",
       "     njev: 0\n",
       "      nlu: 0\n",
       "      sol: None\n",
       "   status: 0\n",
       "  success: True\n",
       "        t: array([0.        , 0.03061224, 0.06122449, 0.09183673, 0.12244898,\n",
       "       0.15306122, 0.18367347, 0.21428571, 0.24489796, 0.2755102 ,\n",
       "       0.30612245, 0.33673469, 0.36734694, 0.39795918, 0.42857143,\n",
       "       0.45918367, 0.48979592, 0.52040816, 0.55102041, 0.58163265,\n",
       "       0.6122449 , 0.64285714, 0.67346939, 0.70408163, 0.73469388,\n",
       "       0.76530612, 0.79591837, 0.82653061, 0.85714286, 0.8877551 ,\n",
       "       0.91836735, 0.94897959, 0.97959184, 1.01020408, 1.04081633,\n",
       "       1.07142857, 1.10204082, 1.13265306, 1.16326531, 1.19387755,\n",
       "       1.2244898 , 1.25510204, 1.28571429, 1.31632653, 1.34693878,\n",
       "       1.37755102, 1.40816327, 1.43877551, 1.46938776, 1.5       ])\n",
       " t_events: None\n",
       "        y: array([[1.        , 1.03202273, 1.06688599, 1.10462029, 1.14526069,\n",
       "        1.18883821, 1.23538386, 1.28493005, 1.33751066, 1.39316097,\n",
       "        1.45191772, 1.51381907, 1.57890465, 1.64721547, 1.71879402,\n",
       "        1.79368421, 1.87193138, 1.95358232, 2.03868524, 2.12728979,\n",
       "        2.21944707, 2.31520959, 2.41463131, 2.51776762, 2.62467537,\n",
       "        2.7354128 , 2.85003963, 2.96861698, 3.09120744, 3.21787836,\n",
       "        3.34870553, 3.48375748, 3.6231049 , 3.76682143, 3.91498364,\n",
       "        4.06767101, 4.22496595, 4.38695382, 4.55372287, 4.7253643 ,\n",
       "        4.90197223, 5.08364371, 5.2704787 , 5.46258012, 5.66005377,\n",
       "        5.86300842, 6.07155575, 6.28581035, 6.50588976, 6.73191444]])\n",
       " y_events: None"
      ]
     },
     "execution_count": 93,
     "metadata": {},
     "output_type": "execute_result"
    }
   ],
   "source": [
    "X = np.linspace(x0, 1.5)\n",
    "sol = solve_ivp(fun=f, t_span=(min(X), max(X)), y0=y0, t_eval=X)\n",
    "sol"
   ]
  },
  {
   "cell_type": "code",
   "execution_count": 94,
   "metadata": {
    "colab": {
     "base_uri": "https://localhost:8080/",
     "height": 300
    },
    "executionInfo": {
     "elapsed": 324,
     "status": "ok",
     "timestamp": 1631194409847,
     "user": {
      "displayName": "John Kitchin",
      "photoUrl": "https://lh3.googleusercontent.com/a/default-user=s64",
      "userId": "14782011281593705406"
     },
     "user_tz": 240
    },
    "id": "E9kXjWUSHD3V",
    "outputId": "1a48756b-6836-4769-9727-53c65412d566"
   },
   "outputs": [
    {
     "data": {
      "text/plain": [
       "<matplotlib.legend.Legend at 0x7facef9c7210>"
      ]
     },
     "execution_count": 94,
     "metadata": {},
     "output_type": "execute_result"
    },
    {
     "data": {
      "image/png": "[encoded data removed]",
      "text/plain": [
       "<Figure size 432x288 with 1 Axes>"
      ]
     },
     "metadata": {
      "needs_background": "light"
     },
     "output_type": "display_data"
    }
   ],
   "source": [
    "plt.plot(sol.t, sol.y[0], label=\"solve_ivp\")\n",
    "plt.plot(X, X**2 + np.exp(X), \"r--\", label=\"Analytical\")\n",
    "plt.xlabel(\"x\")\n",
    "plt.ylabel(\"y\")\n",
    "plt.legend()"
   ]
  },
  {
   "cell_type": "markdown",
   "metadata": {
    "id": "n-Iiw8gRHD3e"
   },
   "source": [
    "So far, `solve_ivp` solves the issues with item 1 (we did not have to code the algorithm), and items 2 and 3 (it uses an adaptive step and converges to a tolerance for us). It will also help us solve for the inverse problem, i.e. for what value of $x$ is $y=4$?\n",
    "\n",
    "\n",
    "\n"
   ]
  },
  {
   "cell_type": "markdown",
   "metadata": {
    "id": "NAoV24dXn-Gu"
   },
   "source": [
    "### Events\n",
    "To do this, we need a new concept of an \"event function\". During each step of the integration, you can run a function that can detect an \"event\". When an event is detected, the location of the event is stored, and if desired integration can be terminated. `solve_ivp` can take a list of event functions. We consider only one for now.\n",
    "\n",
    "An event occurs when an event function is equal to zero. During integration, if the event function changes sign, then it is clear an event has occurred, and the algorithm determines where it occurred. Since we want to know when $y=4$, we will define a function that returns $y - 4$, because that will equal zero at that condition. We want the integration to terminate when that happens, so we set the \"terminal\" attribute on our function to True.\n",
    "\n",
    "An event function has a signature of f(x, y). Remember that $y$ is going to be an array,"
   ]
  },
  {
   "cell_type": "code",
   "execution_count": null,
   "metadata": {
    "id": "lMNIKmvq2KU3"
   },
   "outputs": [],
   "source": [
    "X"
   ]
  },
  {
   "cell_type": "code",
   "execution_count": 129,
   "metadata": {
    "colab": {
     "base_uri": "https://localhost:8080/"
    },
    "executionInfo": {
     "elapsed": 258,
     "status": "ok",
     "timestamp": 1631195726999,
     "user": {
      "displayName": "John Kitchin",
      "photoUrl": "https://lh3.googleusercontent.com/a/default-user=s64",
      "userId": "14782011281593705406"
     },
     "user_tz": 240
    },
    "id": "MP46Q2UMHD3f",
    "outputId": "bcbbdd97-d222-4c3e-d54a-9a7e213348b4"
   },
   "outputs": [
    {
     "data": {
      "text/plain": [
       "  message: 'The solver successfully reached the end of the integration interval.'\n",
       "     nfev: 98\n",
       "     njev: 0\n",
       "      nlu: 0\n",
       "      sol: None\n",
       "   status: 0\n",
       "  success: True\n",
       "        t: array([0.        , 0.08034384, 0.18034384, 0.28034384, 0.38034384,\n",
       "       0.48034384, 0.58034384, 0.68034384, 0.78034384, 0.88034384,\n",
       "       0.98034384, 1.08034384, 1.18034384, 1.28034384, 1.38034384,\n",
       "       1.48034384, 1.5       ])\n",
       " t_events: [array([1.0580064]), array([0.53727444]), array([1.25])]\n",
       "        y: array([[1.        , 1.09011474, 1.23015298, 1.4021775 , 1.6074489 ,\n",
       "        1.84736037, 2.12345162, 2.43742429, 2.79115898, 3.18673409,\n",
       "        3.6264466 , 4.11283505, 4.64870497, 5.23715697, 5.88161773,\n",
       "        6.58587432, 6.7316891 ]])\n",
       " y_events: [array([[4.]]), array([[2.]]), array([[5.05284299]])]"
      ]
     },
     "execution_count": 129,
     "metadata": {},
     "output_type": "execute_result"
    }
   ],
   "source": [
    "def event1(x, y):\n",
    "    return y[0] - 4\n",
    "\n",
    "\n",
    "def event2(x, y):\n",
    "    return y[0] - 2\n",
    "\n",
    "\n",
    "def event3(x, y):\n",
    "    return x - 1.25\n",
    "\n",
    "\n",
    "event1.terminal = False\n",
    "\n",
    "sol = solve_ivp(\n",
    "    fun=f, t_span=(x0, 1.5), y0=y0, events=[event1, event2, event3], max_step=0.1\n",
    ")\n",
    "sol"
   ]
  },
  {
   "cell_type": "markdown",
   "metadata": {
    "id": "W09O7VPsHD3k"
   },
   "source": [
    "Now, there are a couple of new things to note. First, we got a message that a termination event occurred. Second, the sol.y array ends at 4.0, because we made the event function *terminal*. Next, sol.t\\_events is not empty, because an event occurred. It now contains the value where the event occurred, which is where $y=4$!\n",
    "\n"
   ]
  },
  {
   "cell_type": "code",
   "execution_count": 124,
   "metadata": {
    "colab": {
     "base_uri": "https://localhost:8080/"
    },
    "executionInfo": {
     "elapsed": 244,
     "status": "ok",
     "timestamp": 1631195598455,
     "user": {
      "displayName": "John Kitchin",
      "photoUrl": "https://lh3.googleusercontent.com/a/default-user=s64",
      "userId": "14782011281593705406"
     },
     "user_tz": 240
    },
    "id": "tcR8y6UcHD3m",
    "outputId": "8bf736b6-1863-4499-90bd-a515cbc41599"
   },
   "outputs": [
    {
     "data": {
      "text/plain": [
       "[array([1.0580064]), array([0.53727444])]"
      ]
     },
     "execution_count": 124,
     "metadata": {},
     "output_type": "execute_result"
    }
   ],
   "source": [
    "sol.t_events"
   ]
  },
  {
   "cell_type": "code",
   "execution_count": 125,
   "metadata": {
    "colab": {
     "base_uri": "https://localhost:8080/"
    },
    "executionInfo": {
     "elapsed": 352,
     "status": "ok",
     "timestamp": 1631195600205,
     "user": {
      "displayName": "John Kitchin",
      "photoUrl": "https://lh3.googleusercontent.com/a/default-user=s64",
      "userId": "14782011281593705406"
     },
     "user_tz": 240
    },
    "id": "MluNg_j_HD30",
    "outputId": "1b5c2e6c-af96-4617-a7f2-979290b34c91"
   },
   "outputs": [
    {
     "data": {
      "text/plain": [
       "[array([[4.]]), array([[2.]])]"
      ]
     },
     "execution_count": 125,
     "metadata": {},
     "output_type": "execute_result"
    }
   ],
   "source": [
    "sol.y_events"
   ]
  },
  {
   "cell_type": "code",
   "execution_count": 126,
   "metadata": {
    "colab": {
     "base_uri": "https://localhost:8080/",
     "height": 269
    },
    "executionInfo": {
     "elapsed": 286,
     "status": "ok",
     "timestamp": 1631195602116,
     "user": {
      "displayName": "John Kitchin",
      "photoUrl": "https://lh3.googleusercontent.com/a/default-user=s64",
      "userId": "14782011281593705406"
     },
     "user_tz": 240
    },
    "id": "epq1I071yP-P",
    "outputId": "74358265-5d76-4a11-8658-9be6685d0579"
   },
   "outputs": [
    {
     "data": {
      "image/png": "[encoded data removed]",
      "text/plain": [
       "<Figure size 432x288 with 1 Axes>"
      ]
     },
     "metadata": {
      "needs_background": "light"
     },
     "output_type": "display_data"
    }
   ],
   "source": [
    "plt.plot(sol.t, sol.y[0])\n",
    "plt.plot(\n",
    "    sol.t_events[0], sol.y_events[0], \"ro\", label=f\"y=4 at x={sol.t_events[0][0]:1.3f}\"\n",
    ")\n",
    "plt.plot(\n",
    "    sol.t_events[1], sol.y_events[1], \"gs\", label=f\"y=2 at x={sol.t_events[1][0]:1.3f}\"\n",
    ")\n",
    "plt.legend();"
   ]
  },
  {
   "cell_type": "markdown",
   "metadata": {
    "id": "FDVOG0sG_YhD"
   },
   "source": [
    "**Reflective Questions**"
   ]
  },
  {
   "cell_type": "code",
   "execution_count": 119,
   "metadata": {
    "colab": {
     "base_uri": "https://localhost:8080/"
    },
    "executionInfo": {
     "elapsed": 59825,
     "status": "ok",
     "timestamp": 1631195120762,
     "user": {
      "displayName": "John Kitchin",
      "photoUrl": "https://lh3.googleusercontent.com/a/default-user=s64",
      "userId": "14782011281593705406"
     },
     "user_tz": 240
    },
    "id": "hd8ZHIqC_d-S",
    "outputId": "9f6a04cf-968b-4471-bd57-1bfe83325266"
   },
   "outputs": [
    {
     "name": "stdout",
     "output_type": "stream",
     "text": [
      "Q.(4/5)\n",
      "Which of the following does not give an error?\n",
      "\n",
      "a) solve_ivp(f, t_span = (0,1), y0 = y0, t_eval = np.linspace(0, 2))\n",
      "b) solve_ivp(f, t_span = (0,1), y0)\n",
      "c) solve_ivp(f, y0 = y0, t_eval = np.linspace(0,1))\n",
      "d) solve_ivp(f, t_span = [0,1], y0 = y0)\n",
      "\n",
      "a\n",
      "Incorrect; Try again\n",
      "d\n",
      "Correct\n",
      "Run the cell again for the next question\n"
     ]
    }
   ],
   "source": [
    "MCQ([\"scipy\"])"
   ]
  },
  {
   "cell_type": "markdown",
   "metadata": {
    "id": "w1qpmbK0HD4C"
   },
   "source": [
    "## Summary\n",
    "\n"
   ]
  },
  {
   "cell_type": "markdown",
   "metadata": {
    "id": "vFP3-Z6THD4E"
   },
   "source": [
    "We learned how to solve different types of first-order differential equations. Linear equations can be solved by integration, which has the benefit of providing an estimate of error if the `scipy.integrate.quad` function is used.\n",
    "\n",
    "Most first-order differential equations can be solved numerically with `scipy.integrate.solve_ivp`. This solver allows you to specify the points the solution is evaluated on, and to define event functions that can terminate the integration, or record where events occur.\n",
    "\n"
   ]
  }
 ],
 "metadata": {
  "colab": {
   "collapsed_sections": [
    "g8TgvmDIHD1Q"
   ],
   "name": "03-fode-1.ipynb",
   "provenance": []
  },
  "kernelspec": {
   "display_name": "Python 3 (ipykernel)",
   "language": "python",
   "name": "python3"
  },
  "language_info": {
   "codemirror_mode": {
    "name": "ipython",
    "version": 3
   },
   "file_extension": ".py",
   "mimetype": "text/x-python",
   "name": "python",
   "nbconvert_exporter": "python",
   "pygments_lexer": "ipython3",
   "version": "3.9.7"
  },
  "org": {
   "KEYWORDS": "integration, quad, zeros, shape, enumerate, solve_ivp"
  }
 },
 "nbformat": 4,
 "nbformat_minor": 4
}
