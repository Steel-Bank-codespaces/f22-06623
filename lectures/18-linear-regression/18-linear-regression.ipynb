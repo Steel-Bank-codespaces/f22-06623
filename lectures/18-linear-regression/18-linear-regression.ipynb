{
 "cells": [
  {
   "cell_type": "markdown",
   "metadata": {},
   "source": [
    "[TOC](../toc.ipynb)\n",
    "\n",
    "Linear regression\n",
    "==================\n",
    "\n",
    "\n",
    "- KEYWORDS: numpy.linalg.solve"
   ]
  },
  {
   "cell_type": "markdown",
   "metadata": {
    "id": "bKR1CGhyV8I2"
   },
   "source": [
    "![regression](https://pbs.twimg.com/media/C4Nt99aWIAAO6rB?format=jpg&name=large)"
   ]
  },
  {
   "cell_type": "markdown",
   "metadata": {
    "id": "5QyuBHkUSlCV"
   },
   "source": [
    "## Linear regression\n",
    "\n"
   ]
  },
  {
   "cell_type": "markdown",
   "metadata": {
    "id": "Mg-kYEpMSlCW"
   },
   "source": [
    "In linear regression, we seek to find models in the form $y = a_{0} f_{0}(x) + a_{1} f_{1}(x) + ... + a_{n} f_{n}(x) + \\epsilon$, where $a_{i}$ are coefficients to be determined, and &epsilon; are the residual errors. We call this linear regression because the model is linear in the unknown coefficients $a_{i}$. The functions can be any function of $x$. In the function `numpy.polyfit` these functions are polynomials in $x$.\n",
    "\n",
    "If we are given some data as pairs of (x, y), we can construct a set of equations of the form:\n",
    "\n",
    "$[f_{0}(x_{i}), f_{1}(x_{i}), ..., f_{n}(x_{i})]\\cdot[a_{0}, a_{1}, ...,  a_{n}]^T = y_{i}$\n",
    "\n",
    "There will be one of these equations for every data point, so we end up with a matrix equation that looks like:\n",
    "\n",
    "$\\mathbf{X} \\mathbf{a} = \\mathbf{y}$\n",
    "\n",
    "There are *usually* more data points than in the vector of $\\mathbf{a}$, so the shapes of these arrays are not suitable to solve directly. You can of course set up an objective function and use `scipy.optimize.minimize`, but there is a better approach.\n",
    "\n",
    "To be a little more specific, suppose we have $m$ pairs of $(x, y)$ data points, and we want to fit a model containing $n$ parameters. Then, the dimensions of the $\\mathbf{X}$ will be $(m, n)$, the dimensions of $\\mathbf{a}$ will be $(n, 1)$, and the dimensions of $\\mathbf{y}$ will be $(m, 1)$.  We have more equations than unknowns here, and we cannot use `numpy.linalg.solve` because $\\mathbf{X}$ is not square. Note that if it was square, we would be doing the kind of interpolation we described in the last lecture.\n",
    "\n",
    "We can modify the equation though if we *left multiply* each side of the equation by $\\mathbf{X}^T$.\n",
    "\n",
    "$\\mathbf{X}^T \\mathbf{X} \\mathbf{a} = \\mathbf{X}^T \\mathbf{y}$\n",
    "\n",
    "The array $\\mathbf{X}^T \\mathbf{X}$ now has the shape $(n, m) * (m, n) = (n, n)$. The right hand side $\\mathbf{X}^T \\mathbf{y}$ has a shape of $(n, m) * (n, 1) = (n, 1)$, and $\\mathbf{a}$ is still $(n, 1)$. This new matrix equation can be solved efficiently with `numpy.linalg.solve`. We will not prove this, but solving this modified equation *is equivalent* to finding the set of parameters that minimizes the summed squared errors: $\\sum (\\mathbf{X} \\cdot \\mathbf{a} - \\mathbf{y})^2$.\n",
    "\n",
    "The parameters are then found by:\n",
    "\n"
   ]
  },
  {
   "cell_type": "code",
   "execution_count": 1,
   "metadata": {
    "id": "Zxv-OdxXSlCY"
   },
   "outputs": [],
   "source": [
    "# np.linalg.solve(X @ X.T, X.T @ y)"
   ]
  },
  {
   "cell_type": "markdown",
   "metadata": {
    "id": "71u0WUPESlCh"
   },
   "source": [
    "An alternative form is called the normal equation: $\\mathbf{a} = (\\mathbf{X}^T\\cdot\\mathbf{X})^{-1}\\mathbf{X}^T \\mathbf{y}$. This is symbolically correct, but relies on the inverse which is expensive to compute for large systems. It is not used practically, instead the equations are solved efficiently using a different algorithm.\n",
    "\n"
   ]
  },
  {
   "cell_type": "markdown",
   "metadata": {
    "id": "l1O9kJgoSlCj"
   },
   "source": [
    "### An example of polynomial fitting\n",
    "\n"
   ]
  },
  {
   "cell_type": "markdown",
   "metadata": {
    "id": "S9Y7BNMiSlCk"
   },
   "source": [
    "Our goal in this example is to fit a polynomial to some time-dependent concentration data.\n",
    "\n"
   ]
  },
  {
   "cell_type": "code",
   "execution_count": 2,
   "metadata": {
    "executionInfo": {
     "elapsed": 121,
     "status": "ok",
     "timestamp": 1636636761646,
     "user": {
      "displayName": "John Kitchin",
      "photoUrl": "https://lh3.googleusercontent.com/a/default-user=s64",
      "userId": "14782011281593705406"
     },
     "user_tz": 300
    },
    "id": "4mQUtmHjSlCm"
   },
   "outputs": [],
   "source": [
    "import numpy as np\n",
    "\n",
    "time = np.array([0.0, 50.0, 100.0, 150.0, 200.0, 250.0, 300.0])\n",
    "Ca = np.array([50.0, 38.0, 30.6, 25.6, 22.2, 19.5, 17.4]) * 1e-3"
   ]
  },
  {
   "cell_type": "markdown",
   "metadata": {
    "id": "Cn9WMujqSlCw"
   },
   "source": [
    "Fit a fourth order polynomial to this data and determine the confidence interval for each parameter. This data is from example 5-1 in Fogler, Elements of Chemical Reaction Engineering.\n",
    "\n",
    "We want the equation $Ca(t) = b0 + b1*t + b2*t^2 + b3*t^3 + b4*t^4$ fit to the data in the least squares sense. We can write this in a linear algebra form as: $\\mathbf{T} \\mathbf{p} = \\mathbf{Ca}$ where $\\mathbf{T}$ is a matrix of columns $[1, t, t^2, t^3, t^4]$, and $\\mathbf{p}$ is a column vector of the fitting parameters. We want to solve for the $\\mathbf{p}$ vector and estimate the confidence intervals.\n",
    "\n",
    "First, we setup the array of function values, and then we solve for the parameters."
   ]
  },
  {
   "cell_type": "code",
   "execution_count": 3,
   "metadata": {
    "executionInfo": {
     "elapsed": 133,
     "status": "ok",
     "timestamp": 1636636846939,
     "user": {
      "displayName": "John Kitchin",
      "photoUrl": "https://lh3.googleusercontent.com/a/default-user=s64",
      "userId": "14782011281593705406"
     },
     "user_tz": 300
    },
    "id": "SIY_MidUWJN5"
   },
   "outputs": [
    {
     "name": "stdout",
     "output_type": "stream",
     "text": [
      "\u001b[0;31mSignature:\u001b[0m \u001b[0mnp\u001b[0m\u001b[0;34m.\u001b[0m\u001b[0mcolumn_stack\u001b[0m\u001b[0;34m(\u001b[0m\u001b[0mtup\u001b[0m\u001b[0;34m)\u001b[0m\u001b[0;34m\u001b[0m\u001b[0;34m\u001b[0m\u001b[0m\n",
      "\u001b[0;31mDocstring:\u001b[0m\n",
      "Stack 1-D arrays as columns into a 2-D array.\n",
      "\n",
      "Take a sequence of 1-D arrays and stack them as columns\n",
      "to make a single 2-D array. 2-D arrays are stacked as-is,\n",
      "just like with `hstack`.  1-D arrays are turned into 2-D columns\n",
      "first.\n",
      "\n",
      "Parameters\n",
      "----------\n",
      "tup : sequence of 1-D or 2-D arrays.\n",
      "    Arrays to stack. All of them must have the same first dimension.\n",
      "\n",
      "Returns\n",
      "-------\n",
      "stacked : 2-D array\n",
      "    The array formed by stacking the given arrays.\n",
      "\n",
      "See Also\n",
      "--------\n",
      "stack, hstack, vstack, concatenate\n",
      "\n",
      "Examples\n",
      "--------\n",
      ">>> a = np.array((1,2,3))\n",
      ">>> b = np.array((2,3,4))\n",
      ">>> np.column_stack((a,b))\n",
      "array([[1, 2],\n",
      "       [2, 3],\n",
      "       [3, 4]])\n",
      "\u001b[0;31mFile:\u001b[0m      /opt/conda/lib/python3.9/site-packages/numpy/lib/shape_base.py\n",
      "\u001b[0;31mType:\u001b[0m      function\n"
     ]
    }
   ],
   "source": [
    "?np.column_stack"
   ]
  },
  {
   "cell_type": "code",
   "execution_count": 4,
   "metadata": {
    "colab": {
     "base_uri": "https://localhost:8080/"
    },
    "executionInfo": {
     "elapsed": 102,
     "status": "ok",
     "timestamp": 1636636894888,
     "user": {
      "displayName": "John Kitchin",
      "photoUrl": "https://lh3.googleusercontent.com/a/default-user=s64",
      "userId": "14782011281593705406"
     },
     "user_tz": 300
    },
    "id": "HTDH-_rQKKer",
    "outputId": "4f08a81f-c53e-4b4e-d30e-29dd8be48590"
   },
   "outputs": [
    {
     "data": {
      "text/plain": [
       "(7,)"
      ]
     },
     "execution_count": 4,
     "metadata": {},
     "output_type": "execute_result"
    }
   ],
   "source": [
    "(time**2).shape"
   ]
  },
  {
   "cell_type": "code",
   "execution_count": 5,
   "metadata": {
    "colab": {
     "base_uri": "https://localhost:8080/"
    },
    "executionInfo": {
     "elapsed": 98,
     "status": "ok",
     "timestamp": 1636637385780,
     "user": {
      "displayName": "John Kitchin",
      "photoUrl": "https://lh3.googleusercontent.com/a/default-user=s64",
      "userId": "14782011281593705406"
     },
     "user_tz": 300
    },
    "id": "6zQqdCCFZJMv",
    "outputId": "1eb84488-819c-4065-f5c6-8f439b070959"
   },
   "outputs": [
    {
     "name": "stdout",
     "output_type": "stream",
     "text": [
      "[[1.00e+00 0.00e+00 0.00e+00 0.00e+00 0.00e+00]\n",
      " [1.00e+00 5.00e+01 2.50e+03 1.25e+05 6.25e+06]\n",
      " [1.00e+00 1.00e+02 1.00e+04 1.00e+06 1.00e+08]\n",
      " [1.00e+00 1.50e+02 2.25e+04 3.38e+06 5.06e+08]\n",
      " [1.00e+00 2.00e+02 4.00e+04 8.00e+06 1.60e+09]\n",
      " [1.00e+00 2.50e+02 6.25e+04 1.56e+07 3.91e+09]\n",
      " [1.00e+00 3.00e+02 9.00e+04 2.70e+07 8.10e+09]]\n"
     ]
    }
   ],
   "source": [
    "X = np.column_stack([time**0, time, time**2, time**3, time**4])\n",
    "with np.printoptions(precision=2):\n",
    "    print(X)"
   ]
  },
  {
   "cell_type": "code",
   "execution_count": 6,
   "metadata": {
    "colab": {
     "base_uri": "https://localhost:8080/"
    },
    "executionInfo": {
     "elapsed": 93,
     "status": "ok",
     "timestamp": 1636637386349,
     "user": {
      "displayName": "John Kitchin",
      "photoUrl": "https://lh3.googleusercontent.com/a/default-user=s64",
      "userId": "14782011281593705406"
     },
     "user_tz": 300
    },
    "id": "cNAWdhBNK-1g",
    "outputId": "e99f4209-35fa-4a0f-d49d-095d1019100a"
   },
   "outputs": [
    {
     "data": {
      "text/plain": [
       "((5, 5), (5,))"
      ]
     },
     "execution_count": 6,
     "metadata": {},
     "output_type": "execute_result"
    }
   ],
   "source": [
    "(X.T @ X).shape, (X.T @ Ca).shape"
   ]
  },
  {
   "cell_type": "code",
   "execution_count": 7,
   "metadata": {
    "colab": {
     "base_uri": "https://localhost:8080/"
    },
    "executionInfo": {
     "elapsed": 5,
     "status": "ok",
     "timestamp": 1636637386833,
     "user": {
      "displayName": "John Kitchin",
      "photoUrl": "https://lh3.googleusercontent.com/a/default-user=s64",
      "userId": "14782011281593705406"
     },
     "user_tz": 300
    },
    "id": "iqIRago5SlCx",
    "outputId": "c820d5bd-aea5-4634-fef2-48b398e3d104"
   },
   "outputs": [
    {
     "name": "stdout",
     "output_type": "stream",
     "text": [
      "[ 4.99902597e-02 -2.97846320e-04  1.34348485e-06 -3.48484848e-09\n",
      "  3.69696970e-12]\n"
     ]
    }
   ],
   "source": [
    "a = np.linalg.solve(X.T @ X, X.T @ Ca)  # this is the normal equation\n",
    "print(a)"
   ]
  },
  {
   "cell_type": "code",
   "execution_count": 8,
   "metadata": {
    "colab": {
     "base_uri": "https://localhost:8080/",
     "height": 279
    },
    "executionInfo": {
     "elapsed": 273,
     "status": "ok",
     "timestamp": 1636637387507,
     "user": {
      "displayName": "John Kitchin",
      "photoUrl": "https://lh3.googleusercontent.com/a/default-user=s64",
      "userId": "14782011281593705406"
     },
     "user_tz": 300
    },
    "id": "EvC_EJNhSlC4",
    "outputId": "3e82f6e6-34da-4897-aec8-fcee75fc010c"
   },
   "outputs": [
    {
     "data": {
      "image/png": "[encoded data removed]",
      "text/plain": [
       "<Figure size 432x288 with 1 Axes>"
      ]
     },
     "metadata": {
      "needs_background": "light"
     },
     "output_type": "display_data"
    }
   ],
   "source": [
    "import matplotlib.pyplot as plt\n",
    "\n",
    "plt.plot(time, Ca, \"bo\", time, X @ a)\n",
    "plt.legend([\"data\", \"fit\"])\n",
    "plt.xlabel(\"Time\")\n",
    "plt.ylabel(\"Ca\");"
   ]
  },
  {
   "cell_type": "markdown",
   "metadata": {
    "id": "MbRgl-zmSlC_"
   },
   "source": [
    "We previously claimed that solving this equation was equivalent to minimizing the summed squared errors. Here we demonstrate that is consistent with our observation for the first parameter.\n",
    "\n"
   ]
  },
  {
   "cell_type": "code",
   "execution_count": 9,
   "metadata": {
    "colab": {
     "base_uri": "https://localhost:8080/",
     "height": 279
    },
    "executionInfo": {
     "elapsed": 410,
     "status": "ok",
     "timestamp": 1636637446746,
     "user": {
      "displayName": "John Kitchin",
      "photoUrl": "https://lh3.googleusercontent.com/a/default-user=s64",
      "userId": "14782011281593705406"
     },
     "user_tz": 300
    },
    "id": "xcB2pYDwSlDB",
    "outputId": "b3cb3c1f-60ba-4954-b0af-68268b1eebaf"
   },
   "outputs": [
    {
     "data": {
      "image/png": "[encoded data removed]",
      "text/plain": [
       "<Figure size 432x288 with 1 Axes>"
      ]
     },
     "metadata": {
      "needs_background": "light"
     },
     "output_type": "display_data"
    }
   ],
   "source": [
    "P = np.linspace(0.9 * a[0], 1.1 * a[0])\n",
    "\n",
    "errs = [np.sum(np.square(X @ [p, *a[1:]] - Ca)) for p in P]\n",
    "\n",
    "plt.plot(P, errs)\n",
    "plt.axvline(a[0], color=\"k\", linestyle=\"--\")\n",
    "plt.xlabel(\"slope\")\n",
    "plt.ylabel(\"SSE\")\n",
    "plt.legend([\"SSE\", \"best fit\"]);"
   ]
  },
  {
   "cell_type": "code",
   "execution_count": 10,
   "metadata": {
    "colab": {
     "base_uri": "https://localhost:8080/"
    },
    "executionInfo": {
     "elapsed": 127,
     "status": "ok",
     "timestamp": 1636637604656,
     "user": {
      "displayName": "John Kitchin",
      "photoUrl": "https://lh3.googleusercontent.com/a/default-user=s64",
      "userId": "14782011281593705406"
     },
     "user_tz": 300
    },
    "id": "BuScpqLHM2fX",
    "outputId": "357a43b9-a1b0-4435-ee44-e06670054559"
   },
   "outputs": [
    {
     "data": {
      "text/plain": [
       "1.0519480519481383e-08"
      ]
     },
     "execution_count": 10,
     "metadata": {},
     "output_type": "execute_result"
    }
   ],
   "source": [
    "def SSE(a):\n",
    "    return np.sum((Ca - X @ a) ** 2)\n",
    "\n",
    "\n",
    "SSE(a)"
   ]
  },
  {
   "cell_type": "code",
   "execution_count": 11,
   "metadata": {
    "colab": {
     "base_uri": "https://localhost:8080/"
    },
    "executionInfo": {
     "elapsed": 105,
     "status": "ok",
     "timestamp": 1636637686940,
     "user": {
      "displayName": "John Kitchin",
      "photoUrl": "https://lh3.googleusercontent.com/a/default-user=s64",
      "userId": "14782011281593705406"
     },
     "user_tz": 300
    },
    "id": "DbC3vVjKNBeg",
    "outputId": "f0bc04d7-df7a-46bc-88b7-f46fa62473e5"
   },
   "outputs": [
    {
     "data": {
      "text/plain": [
       "array([1.67392305e+20, 2.87547709e+13, 5.43139168e+07, 2.02416183e+00,\n",
       "       9.28118919e+02])"
      ]
     },
     "execution_count": 11,
     "metadata": {},
     "output_type": "execute_result"
    }
   ],
   "source": [
    "import numdifftools as nd\n",
    "\n",
    "H = nd.Hessian(SSE)\n",
    "e, _ = np.linalg.eig(H(a))\n",
    "e"
   ]
  },
  {
   "cell_type": "code",
   "execution_count": 12,
   "metadata": {
    "colab": {
     "base_uri": "https://localhost:8080/"
    },
    "executionInfo": {
     "elapsed": 129,
     "status": "ok",
     "timestamp": 1636637751072,
     "user": {
      "displayName": "John Kitchin",
      "photoUrl": "https://lh3.googleusercontent.com/a/default-user=s64",
      "userId": "14782011281593705406"
     },
     "user_tz": 300
    },
    "id": "f4GlyLmQNhYa",
    "outputId": "6fd5a706-74fa-47de-b75a-94a68da9bc7e"
   },
   "outputs": [
    {
     "data": {
      "text/plain": [
       "4.911609712963993e+44"
      ]
     },
     "execution_count": 12,
     "metadata": {},
     "output_type": "execute_result"
    }
   ],
   "source": [
    "np.linalg.det(H(a))"
   ]
  },
  {
   "cell_type": "code",
   "execution_count": 13,
   "metadata": {
    "colab": {
     "base_uri": "https://localhost:8080/"
    },
    "executionInfo": {
     "elapsed": 97,
     "status": "ok",
     "timestamp": 1636637794766,
     "user": {
      "displayName": "John Kitchin",
      "photoUrl": "https://lh3.googleusercontent.com/a/default-user=s64",
      "userId": "14782011281593705406"
     },
     "user_tz": 300
    },
    "id": "T7JcMNXaNsEV",
    "outputId": "09f92f32-ac09-4d5b-94cd-4ca1f75782f2"
   },
   "outputs": [
    {
     "data": {
      "text/plain": [
       "8.26965766695828e+19"
      ]
     },
     "execution_count": 13,
     "metadata": {},
     "output_type": "execute_result"
    }
   ],
   "source": [
    "np.linalg.cond(H(a))"
   ]
  },
  {
   "cell_type": "code",
   "execution_count": 14,
   "metadata": {
    "colab": {
     "base_uri": "https://localhost:8080/"
    },
    "executionInfo": {
     "elapsed": 104,
     "status": "ok",
     "timestamp": 1636637769393,
     "user": {
      "displayName": "John Kitchin",
      "photoUrl": "https://lh3.googleusercontent.com/a/default-user=s64",
      "userId": "14782011281593705406"
     },
     "user_tz": 300
    },
    "id": "EAoL9BMDNlNN",
    "outputId": "25915eea-09ab-43ce-85a8-7a681404df4d"
   },
   "outputs": [
    {
     "data": {
      "text/plain": [
       "array([[ 4.93509427e-01, -1.59455005e-02,  1.62884317e-04,\n",
       "        -6.56594858e-07,  9.09139027e-10],\n",
       "       [-1.59455005e-02,  1.59344057e-03, -2.34775250e-05,\n",
       "         1.14681368e-07, -1.78789826e-10],\n",
       "       [ 1.62884317e-04, -2.34775250e-05,  3.79876968e-07,\n",
       "        -1.95153033e-09,  3.14143755e-12],\n",
       "       [-6.56594858e-07,  1.14681368e-07, -1.95153033e-09,\n",
       "         1.03300360e-11, -1.69698030e-14],\n",
       "       [ 9.09139027e-10, -1.78789826e-10,  3.14143755e-12,\n",
       "        -1.69698030e-14,  2.82829880e-17]])"
      ]
     },
     "execution_count": 14,
     "metadata": {},
     "output_type": "execute_result"
    }
   ],
   "source": [
    "np.linalg.inv(H(a))"
   ]
  },
  {
   "cell_type": "markdown",
   "metadata": {
    "id": "k7_6kaiJSlDI"
   },
   "source": [
    "**Exercise** Demonstrate that the SSE is minimized for the other parameters. Try estimating the Hessian of the sum of squared errors and then see if it is positive definite.\n",
    "\n",
    "As we have seen many times before, Numpy provides a function for doing least squares linear regression. It returns more information about the fit than what we have done so far, and is a little more convenient because we do not have to do all the transposes and left multiplications.\n",
    "\n"
   ]
  },
  {
   "cell_type": "code",
   "execution_count": 15,
   "metadata": {
    "executionInfo": {
     "elapsed": 211,
     "status": "ok",
     "timestamp": 1636637956843,
     "user": {
      "displayName": "John Kitchin",
      "photoUrl": "https://lh3.googleusercontent.com/a/default-user=s64",
      "userId": "14782011281593705406"
     },
     "user_tz": 300
    },
    "id": "eCDLTK-DSlDJ"
   },
   "outputs": [
    {
     "name": "stdout",
     "output_type": "stream",
     "text": [
      "\u001b[0;31mSignature:\u001b[0m \u001b[0mnp\u001b[0m\u001b[0;34m.\u001b[0m\u001b[0mlinalg\u001b[0m\u001b[0;34m.\u001b[0m\u001b[0mlstsq\u001b[0m\u001b[0;34m(\u001b[0m\u001b[0ma\u001b[0m\u001b[0;34m,\u001b[0m \u001b[0mb\u001b[0m\u001b[0;34m,\u001b[0m \u001b[0mrcond\u001b[0m\u001b[0;34m=\u001b[0m\u001b[0;34m'warn'\u001b[0m\u001b[0;34m)\u001b[0m\u001b[0;34m\u001b[0m\u001b[0;34m\u001b[0m\u001b[0m\n",
      "\u001b[0;31mDocstring:\u001b[0m\n",
      "Return the least-squares solution to a linear matrix equation.\n",
      "\n",
      "Computes the vector x that approximatively solves the equation\n",
      "``a @ x = b``. The equation may be under-, well-, or over-determined\n",
      "(i.e., the number of linearly independent rows of `a` can be less than,\n",
      "equal to, or greater than its number of linearly independent columns).\n",
      "If `a` is square and of full rank, then `x` (but for round-off error)\n",
      "is the \"exact\" solution of the equation. Else, `x` minimizes the\n",
      "Euclidean 2-norm :math:`|| b - a x ||`.\n",
      "\n",
      "Parameters\n",
      "----------\n",
      "a : (M, N) array_like\n",
      "    \"Coefficient\" matrix.\n",
      "b : {(M,), (M, K)} array_like\n",
      "    Ordinate or \"dependent variable\" values. If `b` is two-dimensional,\n",
      "    the least-squares solution is calculated for each of the `K` columns\n",
      "    of `b`.\n",
      "rcond : float, optional\n",
      "    Cut-off ratio for small singular values of `a`.\n",
      "    For the purposes of rank determination, singular values are treated\n",
      "    as zero if they are smaller than `rcond` times the largest singular\n",
      "    value of `a`.\n",
      "\n",
      "    .. versionchanged:: 1.14.0\n",
      "       If not set, a FutureWarning is given. The previous default\n",
      "       of ``-1`` will use the machine precision as `rcond` parameter,\n",
      "       the new default will use the machine precision times `max(M, N)`.\n",
      "       To silence the warning and use the new default, use ``rcond=None``,\n",
      "       to keep using the old behavior, use ``rcond=-1``.\n",
      "\n",
      "Returns\n",
      "-------\n",
      "x : {(N,), (N, K)} ndarray\n",
      "    Least-squares solution. If `b` is two-dimensional,\n",
      "    the solutions are in the `K` columns of `x`.\n",
      "residuals : {(1,), (K,), (0,)} ndarray\n",
      "    Sums of squared residuals: Squared Euclidean 2-norm for each column in\n",
      "    ``b - a @ x``.\n",
      "    If the rank of `a` is < N or M <= N, this is an empty array.\n",
      "    If `b` is 1-dimensional, this is a (1,) shape array.\n",
      "    Otherwise the shape is (K,).\n",
      "rank : int\n",
      "    Rank of matrix `a`.\n",
      "s : (min(M, N),) ndarray\n",
      "    Singular values of `a`.\n",
      "\n",
      "Raises\n",
      "------\n",
      "LinAlgError\n",
      "    If computation does not converge.\n",
      "\n",
      "See Also\n",
      "--------\n",
      "scipy.linalg.lstsq : Similar function in SciPy.\n",
      "\n",
      "Notes\n",
      "-----\n",
      "If `b` is a matrix, then all array results are returned as matrices.\n",
      "\n",
      "Examples\n",
      "--------\n",
      "Fit a line, ``y = mx + c``, through some noisy data-points:\n",
      "\n",
      ">>> x = np.array([0, 1, 2, 3])\n",
      ">>> y = np.array([-1, 0.2, 0.9, 2.1])\n",
      "\n",
      "By examining the coefficients, we see that the line should have a\n",
      "gradient of roughly 1 and cut the y-axis at, more or less, -1.\n",
      "\n",
      "We can rewrite the line equation as ``y = Ap``, where ``A = [[x 1]]``\n",
      "and ``p = [[m], [c]]``.  Now use `lstsq` to solve for `p`:\n",
      "\n",
      ">>> A = np.vstack([x, np.ones(len(x))]).T\n",
      ">>> A\n",
      "array([[ 0.,  1.],\n",
      "       [ 1.,  1.],\n",
      "       [ 2.,  1.],\n",
      "       [ 3.,  1.]])\n",
      "\n",
      ">>> m, c = np.linalg.lstsq(A, y, rcond=None)[0]\n",
      ">>> m, c\n",
      "(1.0 -0.95) # may vary\n",
      "\n",
      "Plot the data along with the fitted line:\n",
      "\n",
      ">>> import matplotlib.pyplot as plt\n",
      ">>> _ = plt.plot(x, y, 'o', label='Original data', markersize=10)\n",
      ">>> _ = plt.plot(x, m*x + c, 'r', label='Fitted line')\n",
      ">>> _ = plt.legend()\n",
      ">>> plt.show()\n",
      "\u001b[0;31mFile:\u001b[0m      /opt/conda/lib/python3.9/site-packages/numpy/linalg/linalg.py\n",
      "\u001b[0;31mType:\u001b[0m      function\n"
     ]
    }
   ],
   "source": [
    "?np.linalg.lstsq"
   ]
  },
  {
   "cell_type": "code",
   "execution_count": 16,
   "metadata": {
    "colab": {
     "base_uri": "https://localhost:8080/"
    },
    "executionInfo": {
     "elapsed": 92,
     "status": "ok",
     "timestamp": 1636638008347,
     "user": {
      "displayName": "John Kitchin",
      "photoUrl": "https://lh3.googleusercontent.com/a/default-user=s64",
      "userId": "14782011281593705406"
     },
     "user_tz": 300
    },
    "id": "PT9vLMPXObgk",
    "outputId": "32e46899-8dfd-40bb-811d-6fbf14a10096"
   },
   "outputs": [
    {
     "data": {
      "text/plain": [
       "1.0519480519481383e-08"
      ]
     },
     "execution_count": 16,
     "metadata": {},
     "output_type": "execute_result"
    }
   ],
   "source": [
    "SSE(a)"
   ]
  },
  {
   "cell_type": "code",
   "execution_count": 17,
   "metadata": {
    "colab": {
     "base_uri": "https://localhost:8080/"
    },
    "executionInfo": {
     "elapsed": 115,
     "status": "ok",
     "timestamp": 1636637972690,
     "user": {
      "displayName": "John Kitchin",
      "photoUrl": "https://lh3.googleusercontent.com/a/default-user=s64",
      "userId": "14782011281593705406"
     },
     "user_tz": 300
    },
    "id": "VXMPPWKDSlDR",
    "outputId": "afecb37f-6274-43a2-df64-1fe1cf2493c8"
   },
   "outputs": [
    {
     "data": {
      "text/plain": [
       "(array([ 4.99902596e-02, -2.97846318e-04,  1.34348481e-06, -3.48484825e-09,\n",
       "         3.69696928e-12]),\n",
       " array([1.05194827e-08]),\n",
       " 5,\n",
       " array([9.14856013e+09, 3.79175229e+06, 5.21123386e+03, 2.15423668e+01,\n",
       "        1.00603128e+00]))"
      ]
     },
     "execution_count": 17,
     "metadata": {},
     "output_type": "execute_result"
    }
   ],
   "source": [
    "pars, residuals, rank, singular_values = np.linalg.lstsq(X, Ca, rcond=None)\n",
    "pars, residuals, rank, singular_values"
   ]
  },
  {
   "cell_type": "code",
   "execution_count": 18,
   "metadata": {
    "colab": {
     "base_uri": "https://localhost:8080/"
    },
    "executionInfo": {
     "elapsed": 98,
     "status": "ok",
     "timestamp": 1636638052134,
     "user": {
      "displayName": "John Kitchin",
      "photoUrl": "https://lh3.googleusercontent.com/a/default-user=s64",
      "userId": "14782011281593705406"
     },
     "user_tz": 300
    },
    "id": "wBSezjpTZbw9",
    "outputId": "1fee494c-167f-4c9f-b9ba-1b10b67b2511"
   },
   "outputs": [
    {
     "data": {
      "text/plain": [
       "array([ 4.99902596e-02, -2.97846318e-04,  1.34348481e-06, -3.48484825e-09,\n",
       "        3.69696928e-12])"
      ]
     },
     "execution_count": 18,
     "metadata": {},
     "output_type": "execute_result"
    }
   ],
   "source": [
    "pars, _, _, _ = np.linalg.lstsq(\n",
    "    X, Ca, rcond=None\n",
    ")  # _ means ignore the value in that position\n",
    "pars"
   ]
  },
  {
   "cell_type": "code",
   "execution_count": 19,
   "metadata": {
    "colab": {
     "base_uri": "https://localhost:8080/"
    },
    "executionInfo": {
     "elapsed": 105,
     "status": "ok",
     "timestamp": 1636638067398,
     "user": {
      "displayName": "John Kitchin",
      "photoUrl": "https://lh3.googleusercontent.com/a/default-user=s64",
      "userId": "14782011281593705406"
     },
     "user_tz": 300
    },
    "id": "REAVvWcKZlak",
    "outputId": "0150d13a-053c-4097-aec9-3bf1f26af881"
   },
   "outputs": [
    {
     "data": {
      "text/plain": [
       "array([ 4.99902596e-02, -2.97846318e-04,  1.34348481e-06, -3.48484825e-09,\n",
       "        3.69696928e-12])"
      ]
     },
     "execution_count": 19,
     "metadata": {},
     "output_type": "execute_result"
    }
   ],
   "source": [
    "pars = np.linalg.lstsq(X, Ca, rcond=None)[0]  # just get the first return\n",
    "pars"
   ]
  },
  {
   "cell_type": "markdown",
   "metadata": {
    "id": "KTfMNSEuSlDX"
   },
   "source": [
    "The key points to note are that the rank is equal to the number of parameters we are estimating, which means we have enough information to get pretty good estimates of the parameters.\n",
    "\n"
   ]
  },
  {
   "cell_type": "markdown",
   "metadata": {
    "id": "p3uzyDuOSlDY"
   },
   "source": [
    "### Confidence intervals on the parameters\n",
    "\n"
   ]
  },
  {
   "cell_type": "markdown",
   "metadata": {
    "id": "J1GsEKtxSlDa"
   },
   "source": [
    "The confidence intervals reflect the range of values we are confident the true parameter lies in. Remember we are only *estimating* these parameters from a small amount of data.\n",
    "\n",
    "The degrees of freedom is roughly equal to the number of data points minus the number of parameters.\n",
    "\n",
    "We define $\\sigma^2 = SSE / dof$ where $SSE$ is the summed squared error, and $dof$ is the degrees of freedom.\n",
    "\n",
    "The covariance matrix is defined as $(\\mathbf{X}^T \\mathbf{X})^{-1}$. Finally, we compute the standard error on the parameters as:\n",
    "\n",
    "$\\mathbf{se} = \\sqrt{diag(\\sigma^2 cov)}$.\n",
    "\n",
    "This will be an array with one element for each parameter. You can think of this standard error as the uncertainty in the mean value of each parameter.\n",
    "\n",
    "The confidence intervals are finally computed by calculating a student t-value that accounts for the additional uncertainty we have because of the small number of degrees of freedom.\n",
    "\n"
   ]
  },
  {
   "cell_type": "code",
   "execution_count": 20,
   "metadata": {
    "colab": {
     "base_uri": "https://localhost:8080/"
    },
    "executionInfo": {
     "elapsed": 230,
     "status": "ok",
     "timestamp": 1636638460283,
     "user": {
      "displayName": "John Kitchin",
      "photoUrl": "https://lh3.googleusercontent.com/a/default-user=s64",
      "userId": "14782011281593705406"
     },
     "user_tz": 300
    },
    "id": "D-IsmpJLSlDb",
    "outputId": "5c66a962-9c73-4279-bc95-c2a58067716b"
   },
   "outputs": [
    {
     "name": "stdout",
     "output_type": "stream",
     "text": [
      " 5.00e-02 [ 4.9075e-02  5.0906e-02]\n",
      "-2.98e-04 [-3.4987e-04 -2.4583e-04]\n",
      " 1.34e-06 [ 5.4027e-07  2.1467e-06]\n",
      "-3.48e-09 [-7.6734e-09  7.0369e-10]\n",
      " 3.70e-12 [-3.2337e-12  1.0628e-11]\n"
     ]
    }
   ],
   "source": [
    "dof = len(Ca) - len(pars)  # degrees of freedom\n",
    "errs = Ca - X @ pars\n",
    "sigma2 = np.sum(errs**2) / dof\n",
    "\n",
    "covariance = np.linalg.inv(X.T @ X)\n",
    "se = np.sqrt(np.diag(sigma2 * covariance))\n",
    "\n",
    "from scipy.stats.distributions import t\n",
    "\n",
    "alpha = 0.05  # 100*(1 - alpha) confidence level\n",
    "sT = t.ppf(1.0 - alpha / 2.0, dof - 1)  # student T multiplier\n",
    "\n",
    "CI = sT * se\n",
    "\n",
    "for beta, ci in zip(pars, CI):\n",
    "    print(f\"{beta: 1.2e} [{beta - ci: 1.4e} {beta + ci: 1.4e}]\")"
   ]
  },
  {
   "cell_type": "code",
   "execution_count": 21,
   "metadata": {
    "colab": {
     "base_uri": "https://localhost:8080/"
    },
    "executionInfo": {
     "elapsed": 99,
     "status": "ok",
     "timestamp": 1636638578328,
     "user": {
      "displayName": "John Kitchin",
      "photoUrl": "https://lh3.googleusercontent.com/a/default-user=s64",
      "userId": "14782011281593705406"
     },
     "user_tz": 300
    },
    "id": "VCenvDCtbQbE",
    "outputId": "a1f38cbb-2f4b-4d55-bcff-c9779702c08c"
   },
   "outputs": [
    {
     "name": "stdout",
     "output_type": "stream",
     "text": [
      " 5.00e-02 [ 4.9075e-02  5.0906e-02]\n",
      "-2.98e-04 [-3.4987e-04 -2.4583e-04]\n",
      " 1.34e-06 [ 5.4027e-07  2.1467e-06]\n",
      "-3.48e-09 [-7.6734e-09  7.0369e-10]\n",
      " 3.70e-12 [-3.2337e-12  1.0628e-11]\n"
     ]
    }
   ],
   "source": [
    "for i in range(len(pars)):\n",
    "    beta = pars[i]\n",
    "    ci = CI[i]\n",
    "    print(f\"{beta: 1.2e} [{beta - ci: 1.4e} {beta + ci: 1.4e}]\")"
   ]
  },
  {
   "cell_type": "code",
   "execution_count": 22,
   "metadata": {
    "colab": {
     "base_uri": "https://localhost:8080/"
    },
    "executionInfo": {
     "elapsed": 104,
     "status": "ok",
     "timestamp": 1636638602704,
     "user": {
      "displayName": "John Kitchin",
      "photoUrl": "https://lh3.googleusercontent.com/a/default-user=s64",
      "userId": "14782011281593705406"
     },
     "user_tz": 300
    },
    "id": "mfpcrdN2b4hO",
    "outputId": "b4ca99f4-56e7-4404-ef6c-f66b94397919"
   },
   "outputs": [
    {
     "name": "stdout",
     "output_type": "stream",
     "text": [
      "0 3\n",
      "1 4\n",
      "2 5\n"
     ]
    }
   ],
   "source": [
    "# zip stops when shortest list is consumed\n",
    "for a, b in zip([0, 1, 2], [3, 4, 5, 6, 7]):\n",
    "    print(a, b)"
   ]
  },
  {
   "cell_type": "markdown",
   "metadata": {
    "id": "CM1XwiRQSlDh"
   },
   "source": [
    "It is also common to estimate an $R^2$ value, where values close to one mean the model accounts for most of the variance in the data."
   ]
  },
  {
   "cell_type": "code",
   "execution_count": 23,
   "metadata": {
    "colab": {
     "base_uri": "https://localhost:8080/"
    },
    "executionInfo": {
     "elapsed": 224,
     "status": "ok",
     "timestamp": 1604614008447,
     "user": {
      "displayName": "John Kitchin",
      "photoUrl": "",
      "userId": "14782011281593705406"
     },
     "user_tz": 300
    },
    "id": "a3Y-7Px1SlDi",
    "outputId": "3a0b768e-3588-44fd-9e15-979e6f86dd91"
   },
   "outputs": [
    {
     "name": "stdout",
     "output_type": "stream",
     "text": [
      "R^2 = 0.9999869672459537\n"
     ]
    }
   ],
   "source": [
    "SS_tot = np.sum((Ca - np.mean(Ca)) ** 2)\n",
    "SS_err = np.sum(errs**2)\n",
    "\n",
    "#  http://en.wikipedia.org/wiki/Coefficient_of_determination\n",
    "Rsq = 1 - SS_err / SS_tot\n",
    "print(\"R^2 = {0}\".format(Rsq))"
   ]
  },
  {
   "cell_type": "markdown",
   "metadata": {
    "id": "PbiE1SNUeINK"
   },
   "source": [
    "As usual, there is a way to do this in just a few lines..."
   ]
  },
  {
   "cell_type": "code",
   "execution_count": 24,
   "metadata": {
    "executionInfo": {
     "elapsed": 5619,
     "status": "ok",
     "timestamp": 1636638858195,
     "user": {
      "displayName": "John Kitchin",
      "photoUrl": "https://lh3.googleusercontent.com/a/default-user=s64",
      "userId": "14782011281593705406"
     },
     "user_tz": 300
    },
    "id": "anG-4db5aVQL"
   },
   "outputs": [
    {
     "name": "stdout",
     "output_type": "stream",
     "text": [
      "\u001b[0;31mSignature:\u001b[0m \u001b[0mregress\u001b[0m\u001b[0;34m(\u001b[0m\u001b[0mA\u001b[0m\u001b[0;34m,\u001b[0m \u001b[0my\u001b[0m\u001b[0;34m,\u001b[0m \u001b[0malpha\u001b[0m\u001b[0;34m=\u001b[0m\u001b[0;36m0.05\u001b[0m\u001b[0;34m,\u001b[0m \u001b[0;34m*\u001b[0m\u001b[0margs\u001b[0m\u001b[0;34m,\u001b[0m \u001b[0;34m**\u001b[0m\u001b[0mkwargs\u001b[0m\u001b[0;34m)\u001b[0m\u001b[0;34m\u001b[0m\u001b[0;34m\u001b[0m\u001b[0m\n",
      "\u001b[0;31mSource:\u001b[0m   \n",
      "\u001b[0;32mdef\u001b[0m \u001b[0mregress\u001b[0m\u001b[0;34m(\u001b[0m\u001b[0mA\u001b[0m\u001b[0;34m,\u001b[0m \u001b[0my\u001b[0m\u001b[0;34m,\u001b[0m \u001b[0malpha\u001b[0m\u001b[0;34m=\u001b[0m\u001b[0;36m0.05\u001b[0m\u001b[0;34m,\u001b[0m \u001b[0;34m*\u001b[0m\u001b[0margs\u001b[0m\u001b[0;34m,\u001b[0m \u001b[0;34m**\u001b[0m\u001b[0mkwargs\u001b[0m\u001b[0;34m)\u001b[0m\u001b[0;34m:\u001b[0m\u001b[0;34m\u001b[0m\n",
      "\u001b[0;34m\u001b[0m    \u001b[0;34mr\"\"\"Linear least squares regression with confidence intervals.\u001b[0m\n",
      "\u001b[0;34m\u001b[0m\n",
      "\u001b[0;34m    Solve the matrix equation \\(A p = y\\) for p.\u001b[0m\n",
      "\u001b[0;34m\u001b[0m\n",
      "\u001b[0;34m    The confidence intervals account for sample size using a student T\u001b[0m\n",
      "\u001b[0;34m    multiplier.\u001b[0m\n",
      "\u001b[0;34m\u001b[0m\n",
      "\u001b[0;34m    This code is derived from the descriptions at\u001b[0m\n",
      "\u001b[0;34m    http://www.weibull.com/DOEWeb/confidence_intervals_in_multiple_linear_regression.htm\u001b[0m\n",
      "\u001b[0;34m    and\u001b[0m\n",
      "\u001b[0;34m    http://www.weibull.com/DOEWeb/estimating_regression_models_using_least_squares.htm\u001b[0m\n",
      "\u001b[0;34m\u001b[0m\n",
      "\u001b[0;34m    Parameters\u001b[0m\n",
      "\u001b[0;34m    ----------\u001b[0m\n",
      "\u001b[0;34m    A : a matrix of function values in columns, e.g.\u001b[0m\n",
      "\u001b[0;34m        A = np.column_stack([T**0, T**1, T**2, T**3, T**4])\u001b[0m\n",
      "\u001b[0;34m\u001b[0m\n",
      "\u001b[0;34m    y : a vector of values you want to fit\u001b[0m\n",
      "\u001b[0;34m\u001b[0m\n",
      "\u001b[0;34m    alpha : 100*(1 - alpha) confidence level\u001b[0m\n",
      "\u001b[0;34m\u001b[0m\n",
      "\u001b[0;34m    ags and kwargs are passed to np.linalg.lstsq\u001b[0m\n",
      "\u001b[0;34m\u001b[0m\n",
      "\u001b[0;34m    Example\u001b[0m\n",
      "\u001b[0;34m    -------\u001b[0m\n",
      "\u001b[0;34m    >>> import numpy as np\u001b[0m\n",
      "\u001b[0;34m    >>> x = np.array([0, 1, 2])\u001b[0m\n",
      "\u001b[0;34m    >>> y = np.array([0, 2, 4])\u001b[0m\n",
      "\u001b[0;34m    >>> X = np.column_stack([x**0, x])\u001b[0m\n",
      "\u001b[0;34m    >>> regress(X, y)\u001b[0m\n",
      "\u001b[0;34m    (array([ -5.12790050e-16,   2.00000000e+00]), None, None)\u001b[0m\n",
      "\u001b[0;34m\u001b[0m\n",
      "\u001b[0;34m    Returns\u001b[0m\n",
      "\u001b[0;34m    -------\u001b[0m\n",
      "\u001b[0;34m      [b, bint, se]\u001b[0m\n",
      "\u001b[0;34m      b is a vector of the fitted parameters\u001b[0m\n",
      "\u001b[0;34m      bint is a 2D array of confidence intervals\u001b[0m\n",
      "\u001b[0;34m      se is an array of standard error for each parameter.\u001b[0m\n",
      "\u001b[0;34m\u001b[0m\n",
      "\u001b[0;34m    \"\"\"\u001b[0m\u001b[0;34m\u001b[0m\n",
      "\u001b[0;34m\u001b[0m    \u001b[0;31m# This is to silence an annoying FutureWarning.\u001b[0m\u001b[0;34m\u001b[0m\n",
      "\u001b[0;34m\u001b[0m    \u001b[0;32mif\u001b[0m \u001b[0;34m\"rcond\"\u001b[0m \u001b[0;32mnot\u001b[0m \u001b[0;32min\u001b[0m \u001b[0mkwargs\u001b[0m\u001b[0;34m:\u001b[0m\u001b[0;34m\u001b[0m\n",
      "\u001b[0;34m\u001b[0m        \u001b[0mkwargs\u001b[0m\u001b[0;34m[\u001b[0m\u001b[0;34m\"rcond\"\u001b[0m\u001b[0;34m]\u001b[0m \u001b[0;34m=\u001b[0m \u001b[0;32mNone\u001b[0m\u001b[0;34m\u001b[0m\n",
      "\u001b[0;34m\u001b[0m\u001b[0;34m\u001b[0m\n",
      "\u001b[0;34m\u001b[0m    \u001b[0mb\u001b[0m\u001b[0;34m,\u001b[0m \u001b[0m_\u001b[0m\u001b[0;34m,\u001b[0m \u001b[0m_\u001b[0m\u001b[0;34m,\u001b[0m \u001b[0m_\u001b[0m \u001b[0;34m=\u001b[0m \u001b[0mnp\u001b[0m\u001b[0;34m.\u001b[0m\u001b[0mlinalg\u001b[0m\u001b[0;34m.\u001b[0m\u001b[0mlstsq\u001b[0m\u001b[0;34m(\u001b[0m\u001b[0mA\u001b[0m\u001b[0;34m,\u001b[0m \u001b[0my\u001b[0m\u001b[0;34m,\u001b[0m \u001b[0;34m*\u001b[0m\u001b[0margs\u001b[0m\u001b[0;34m,\u001b[0m \u001b[0;34m**\u001b[0m\u001b[0mkwargs\u001b[0m\u001b[0;34m)\u001b[0m\u001b[0;34m\u001b[0m\n",
      "\u001b[0;34m\u001b[0m\u001b[0;34m\u001b[0m\n",
      "\u001b[0;34m\u001b[0m    \u001b[0mbint\u001b[0m\u001b[0;34m,\u001b[0m \u001b[0mse\u001b[0m \u001b[0;34m=\u001b[0m \u001b[0;32mNone\u001b[0m\u001b[0;34m,\u001b[0m \u001b[0;32mNone\u001b[0m\u001b[0;34m\u001b[0m\n",
      "\u001b[0;34m\u001b[0m\u001b[0;34m\u001b[0m\n",
      "\u001b[0;34m\u001b[0m    \u001b[0;32mif\u001b[0m \u001b[0malpha\u001b[0m \u001b[0;32mis\u001b[0m \u001b[0;32mnot\u001b[0m \u001b[0;32mNone\u001b[0m\u001b[0;34m:\u001b[0m\u001b[0;34m\u001b[0m\n",
      "\u001b[0;34m\u001b[0m        \u001b[0;31m# compute the confidence intervals\u001b[0m\u001b[0;34m\u001b[0m\n",
      "\u001b[0;34m\u001b[0m        \u001b[0mn\u001b[0m \u001b[0;34m=\u001b[0m \u001b[0mlen\u001b[0m\u001b[0;34m(\u001b[0m\u001b[0my\u001b[0m\u001b[0;34m)\u001b[0m\u001b[0;34m\u001b[0m\n",
      "\u001b[0;34m\u001b[0m        \u001b[0mk\u001b[0m \u001b[0;34m=\u001b[0m \u001b[0mlen\u001b[0m\u001b[0;34m(\u001b[0m\u001b[0mb\u001b[0m\u001b[0;34m)\u001b[0m\u001b[0;34m\u001b[0m\n",
      "\u001b[0;34m\u001b[0m\u001b[0;34m\u001b[0m\n",
      "\u001b[0;34m\u001b[0m        \u001b[0merrors\u001b[0m \u001b[0;34m=\u001b[0m \u001b[0my\u001b[0m \u001b[0;34m-\u001b[0m \u001b[0mnp\u001b[0m\u001b[0;34m.\u001b[0m\u001b[0mdot\u001b[0m\u001b[0;34m(\u001b[0m\u001b[0mA\u001b[0m\u001b[0;34m,\u001b[0m \u001b[0mb\u001b[0m\u001b[0;34m)\u001b[0m\u001b[0;34m\u001b[0m\n",
      "\u001b[0;34m\u001b[0m        \u001b[0msigma2\u001b[0m \u001b[0;34m=\u001b[0m \u001b[0mnp\u001b[0m\u001b[0;34m.\u001b[0m\u001b[0msum\u001b[0m\u001b[0;34m(\u001b[0m\u001b[0merrors\u001b[0m\u001b[0;34m**\u001b[0m\u001b[0;36m2\u001b[0m\u001b[0;34m)\u001b[0m \u001b[0;34m/\u001b[0m \u001b[0;34m(\u001b[0m\u001b[0mn\u001b[0m \u001b[0;34m-\u001b[0m \u001b[0mk\u001b[0m\u001b[0;34m)\u001b[0m  \u001b[0;31m# RMSE\u001b[0m\u001b[0;34m\u001b[0m\n",
      "\u001b[0;34m\u001b[0m\u001b[0;34m\u001b[0m\n",
      "\u001b[0;34m\u001b[0m        \u001b[0mcovariance\u001b[0m \u001b[0;34m=\u001b[0m \u001b[0mnp\u001b[0m\u001b[0;34m.\u001b[0m\u001b[0mlinalg\u001b[0m\u001b[0;34m.\u001b[0m\u001b[0minv\u001b[0m\u001b[0;34m(\u001b[0m\u001b[0mnp\u001b[0m\u001b[0;34m.\u001b[0m\u001b[0mdot\u001b[0m\u001b[0;34m(\u001b[0m\u001b[0mA\u001b[0m\u001b[0;34m.\u001b[0m\u001b[0mT\u001b[0m\u001b[0;34m,\u001b[0m \u001b[0mA\u001b[0m\u001b[0;34m)\u001b[0m\u001b[0;34m)\u001b[0m\u001b[0;34m\u001b[0m\n",
      "\u001b[0;34m\u001b[0m\u001b[0;34m\u001b[0m\n",
      "\u001b[0;34m\u001b[0m        \u001b[0mC\u001b[0m \u001b[0;34m=\u001b[0m \u001b[0msigma2\u001b[0m \u001b[0;34m*\u001b[0m \u001b[0mcovariance\u001b[0m\u001b[0;34m\u001b[0m\n",
      "\u001b[0;34m\u001b[0m        \u001b[0mdC\u001b[0m \u001b[0;34m=\u001b[0m \u001b[0mnp\u001b[0m\u001b[0;34m.\u001b[0m\u001b[0mdiag\u001b[0m\u001b[0;34m(\u001b[0m\u001b[0mC\u001b[0m\u001b[0;34m)\u001b[0m\u001b[0;34m\u001b[0m\n",
      "\u001b[0;34m\u001b[0m\u001b[0;34m\u001b[0m\n",
      "\u001b[0;34m\u001b[0m        \u001b[0;32mif\u001b[0m \u001b[0;34m(\u001b[0m\u001b[0mdC\u001b[0m \u001b[0;34m<\u001b[0m \u001b[0;36m0.0\u001b[0m\u001b[0;34m)\u001b[0m\u001b[0;34m.\u001b[0m\u001b[0many\u001b[0m\u001b[0;34m(\u001b[0m\u001b[0;34m)\u001b[0m\u001b[0;34m:\u001b[0m\u001b[0;34m\u001b[0m\n",
      "\u001b[0;34m\u001b[0m            \u001b[0mwarnings\u001b[0m\u001b[0;34m.\u001b[0m\u001b[0mwarn\u001b[0m\u001b[0;34m(\u001b[0m\u001b[0;34m\u001b[0m\n",
      "\u001b[0;34m\u001b[0m                \u001b[0;34m\"\\n{0}\\ndetected a negative number in your\"\u001b[0m\u001b[0;34m\u001b[0m\n",
      "\u001b[0;34m\u001b[0m                \u001b[0;34m\"covariance matrix. Taking the absolute value\"\u001b[0m\u001b[0;34m\u001b[0m\n",
      "\u001b[0;34m\u001b[0m                \u001b[0;34m\"of the diagonal. something is probably wrong\"\u001b[0m\u001b[0;34m\u001b[0m\n",
      "\u001b[0;34m\u001b[0m                \u001b[0;34m\"with your data or model\"\u001b[0m\u001b[0;34m.\u001b[0m\u001b[0mformat\u001b[0m\u001b[0;34m(\u001b[0m\u001b[0mdC\u001b[0m\u001b[0;34m)\u001b[0m\u001b[0;34m\u001b[0m\n",
      "\u001b[0;34m\u001b[0m            \u001b[0;34m)\u001b[0m\u001b[0;34m\u001b[0m\n",
      "\u001b[0;34m\u001b[0m            \u001b[0mdC\u001b[0m \u001b[0;34m=\u001b[0m \u001b[0mnp\u001b[0m\u001b[0;34m.\u001b[0m\u001b[0mabs\u001b[0m\u001b[0;34m(\u001b[0m\u001b[0mdC\u001b[0m\u001b[0;34m)\u001b[0m\u001b[0;34m\u001b[0m\n",
      "\u001b[0;34m\u001b[0m\u001b[0;34m\u001b[0m\n",
      "\u001b[0;34m\u001b[0m        \u001b[0mse\u001b[0m \u001b[0;34m=\u001b[0m \u001b[0mnp\u001b[0m\u001b[0;34m.\u001b[0m\u001b[0msqrt\u001b[0m\u001b[0;34m(\u001b[0m\u001b[0mdC\u001b[0m\u001b[0;34m)\u001b[0m  \u001b[0;31m# standard error\u001b[0m\u001b[0;34m\u001b[0m\n",
      "\u001b[0;34m\u001b[0m\u001b[0;34m\u001b[0m\n",
      "\u001b[0;34m\u001b[0m        \u001b[0msT\u001b[0m \u001b[0;34m=\u001b[0m \u001b[0mt\u001b[0m\u001b[0;34m.\u001b[0m\u001b[0mppf\u001b[0m\u001b[0;34m(\u001b[0m\u001b[0;36m1.0\u001b[0m \u001b[0;34m-\u001b[0m \u001b[0malpha\u001b[0m \u001b[0;34m/\u001b[0m \u001b[0;36m2.0\u001b[0m\u001b[0;34m,\u001b[0m \u001b[0mn\u001b[0m \u001b[0;34m-\u001b[0m \u001b[0mk\u001b[0m \u001b[0;34m-\u001b[0m \u001b[0;36m1\u001b[0m\u001b[0;34m)\u001b[0m  \u001b[0;31m# student T multiplier\u001b[0m\u001b[0;34m\u001b[0m\n",
      "\u001b[0;34m\u001b[0m        \u001b[0mCI\u001b[0m \u001b[0;34m=\u001b[0m \u001b[0msT\u001b[0m \u001b[0;34m*\u001b[0m \u001b[0mse\u001b[0m\u001b[0;34m\u001b[0m\n",
      "\u001b[0;34m\u001b[0m\u001b[0;34m\u001b[0m\n",
      "\u001b[0;34m\u001b[0m        \u001b[0mbint\u001b[0m \u001b[0;34m=\u001b[0m \u001b[0mnp\u001b[0m\u001b[0;34m.\u001b[0m\u001b[0marray\u001b[0m\u001b[0;34m(\u001b[0m\u001b[0;34m[\u001b[0m\u001b[0;34m(\u001b[0m\u001b[0mbeta\u001b[0m \u001b[0;34m-\u001b[0m \u001b[0mci\u001b[0m\u001b[0;34m,\u001b[0m \u001b[0mbeta\u001b[0m \u001b[0;34m+\u001b[0m \u001b[0mci\u001b[0m\u001b[0;34m)\u001b[0m \u001b[0;32mfor\u001b[0m \u001b[0mbeta\u001b[0m\u001b[0;34m,\u001b[0m \u001b[0mci\u001b[0m \u001b[0;32min\u001b[0m \u001b[0mzip\u001b[0m\u001b[0;34m(\u001b[0m\u001b[0mb\u001b[0m\u001b[0;34m,\u001b[0m \u001b[0mCI\u001b[0m\u001b[0;34m)\u001b[0m\u001b[0;34m]\u001b[0m\u001b[0;34m)\u001b[0m\u001b[0;34m\u001b[0m\n",
      "\u001b[0;34m\u001b[0m\u001b[0;34m\u001b[0m\n",
      "\u001b[0;34m\u001b[0m    \u001b[0;32mreturn\u001b[0m \u001b[0;34m(\u001b[0m\u001b[0mb\u001b[0m\u001b[0;34m,\u001b[0m \u001b[0mbint\u001b[0m\u001b[0;34m,\u001b[0m \u001b[0mse\u001b[0m\u001b[0;34m)\u001b[0m\u001b[0;34m\u001b[0m\u001b[0;34m\u001b[0m\u001b[0m\n",
      "\u001b[0;31mFile:\u001b[0m      /opt/conda/lib/python3.9/site-packages/pycse/PYCSE.py\n",
      "\u001b[0;31mType:\u001b[0m      function\n"
     ]
    }
   ],
   "source": [
    "from pycse import regress\n",
    "??regress"
   ]
  },
  {
   "cell_type": "code",
   "execution_count": 25,
   "metadata": {
    "colab": {
     "base_uri": "https://localhost:8080/"
    },
    "executionInfo": {
     "elapsed": 97,
     "status": "ok",
     "timestamp": 1636638907581,
     "user": {
      "displayName": "John Kitchin",
      "photoUrl": "https://lh3.googleusercontent.com/a/default-user=s64",
      "userId": "14782011281593705406"
     },
     "user_tz": 300
    },
    "id": "bFm0fwwiaeRm",
    "outputId": "3536eced-13ea-45b5-e712-bf1f95b7f60a"
   },
   "outputs": [
    {
     "name": "stdout",
     "output_type": "stream",
     "text": [
      "[[ 4.9075e-02  5.0906e-02]\n",
      " [-3.4987e-04 -2.4583e-04]\n",
      " [ 5.4027e-07  2.1467e-06]\n",
      " [-7.6734e-09  7.0369e-10]\n",
      " [-3.2337e-12  1.0628e-11]]\n"
     ]
    }
   ],
   "source": [
    "b, bint, se = regress(X, Ca, alpha=0.05, rcond=None)\n",
    "with np.printoptions(precision=4, suppress=False):\n",
    "    print(bint)"
   ]
  },
  {
   "cell_type": "code",
   "execution_count": 26,
   "metadata": {
    "colab": {
     "base_uri": "https://localhost:8080/"
    },
    "executionInfo": {
     "elapsed": 86,
     "status": "ok",
     "timestamp": 1636638922756,
     "user": {
      "displayName": "John Kitchin",
      "photoUrl": "https://lh3.googleusercontent.com/a/default-user=s64",
      "userId": "14782011281593705406"
     },
     "user_tz": 300
    },
    "id": "biTlvUtGa2Fn",
    "outputId": "f1c084e6-071f-477a-d6fe-8e47f831031d"
   },
   "outputs": [
    {
     "name": "stdout",
     "output_type": "stream",
     "text": [
      "[ 5.00e-02 -2.98e-04  1.34e-06 -3.48e-09  3.70e-12]\n"
     ]
    }
   ],
   "source": [
    "with np.printoptions(precision=2, suppress=False):\n",
    "    print(b)"
   ]
  },
  {
   "cell_type": "markdown",
   "metadata": {
    "id": "5qFh2kOcSlDo"
   },
   "source": [
    "Here we would say the model looks very good, but with the caveat that we fit five parameters to seven data points, and some of the parameters are very small, suggesting they may not be necessary (although they are in front of terms like x<sup>4</sup> which can be very large).\n",
    "\n",
    "Now you can use this model to interpolate new values in the fitted range. This is not a model you can extrapolate with though, *even though it is a linear model*. What is happening?\n",
    "\n"
   ]
  },
  {
   "cell_type": "code",
   "execution_count": 27,
   "metadata": {
    "colab": {
     "base_uri": "https://localhost:8080/",
     "height": 279
    },
    "executionInfo": {
     "elapsed": 399,
     "status": "ok",
     "timestamp": 1636638970204,
     "user": {
      "displayName": "John Kitchin",
      "photoUrl": "https://lh3.googleusercontent.com/a/default-user=s64",
      "userId": "14782011281593705406"
     },
     "user_tz": 300
    },
    "id": "tKbjACDjSlDq",
    "outputId": "49008c35-36b9-4ca2-e733-c056d1c1965d"
   },
   "outputs": [
    {
     "data": {
      "image/png": "[encoded data removed]",
      "text/plain": [
       "<Figure size 432x288 with 1 Axes>"
      ]
     },
     "metadata": {
      "needs_background": "light"
     },
     "output_type": "display_data"
    }
   ],
   "source": [
    "newt = np.linspace(0, 500)\n",
    "\n",
    "newT = np.column_stack([newt**i for i in range(5)])\n",
    "newCa = newT @ pars\n",
    "\n",
    "plt.plot(time, Ca, \"b.\", label=\"data\")\n",
    "plt.plot(newt, newCa, label=\"predictions\")\n",
    "plt.xlabel(\"Time\")\n",
    "plt.legend()\n",
    "plt.ylabel(\"Ca\");"
   ]
  },
  {
   "cell_type": "markdown",
   "metadata": {
    "id": "aTf-EWMhSlDw"
   },
   "source": [
    "It is almost certainly not reasonable for the concentration of A to start increasing again after about 350 time units.\n",
    "\n",
    "The problem is this is a polynomial model that has no physical basis. It is unconstrained outside the data we fit it too.\n"
   ]
  },
  {
   "cell_type": "markdown",
   "metadata": {
    "id": "9t97j43p0FCm"
   },
   "source": [
    "**Reflective Questions**"
   ]
  },
  {
   "cell_type": "code",
   "execution_count": 28,
   "metadata": {
    "colab": {
     "base_uri": "https://localhost:8080/"
    },
    "executionInfo": {
     "elapsed": 8428,
     "status": "ok",
     "timestamp": 1636639178697,
     "user": {
      "displayName": "John Kitchin",
      "photoUrl": "https://lh3.googleusercontent.com/a/default-user=s64",
      "userId": "14782011281593705406"
     },
     "user_tz": 300
    },
    "id": "qKnC5ArH0Fsv",
    "outputId": "8b1fb6d6-0eb5-4063-f633-1aa985fc692c"
   },
   "outputs": [
    {
     "ename": "NameError",
     "evalue": "name 'MCQ' is not defined",
     "output_type": "error",
     "traceback": [
      "\u001b[0;31m---------------------------------------------------------------------------\u001b[0m",
      "\u001b[0;31mNameError\u001b[0m                                 Traceback (most recent call last)",
      "\u001b[0;32m/tmp/ipykernel_13063/1336587622.py\u001b[0m in \u001b[0;36m<module>\u001b[0;34m\u001b[0m\n\u001b[0;32m----> 1\u001b[0;31m \u001b[0mMCQ\u001b[0m\u001b[0;34m(\u001b[0m\u001b[0;34m[\u001b[0m\u001b[0;34m'regression'\u001b[0m\u001b[0;34m]\u001b[0m\u001b[0;34m)\u001b[0m\u001b[0;34m\u001b[0m\u001b[0;34m\u001b[0m\u001b[0m\n\u001b[0m",
      "\u001b[0;31mNameError\u001b[0m: name 'MCQ' is not defined"
     ]
    }
   ],
   "source": [
    "MCQ([\"regression\"])"
   ]
  },
  {
   "cell_type": "markdown",
   "metadata": {
    "id": "RItbMXIiSlDy"
   },
   "source": [
    "## Regularization\n",
    "\n"
   ]
  },
  {
   "cell_type": "markdown",
   "metadata": {
    "id": "LpETIe41SlDz"
   },
   "source": [
    "When we do linear regression we get a coefficient for every function in the model. However, there can be bad behavior with regular regression, especially for certain classes of functions, and when the functions are correlated with each other. To explore why this happens, we will look at some regression models of varying complexity. We start by looking at some data.\n",
    "\n"
   ]
  },
  {
   "cell_type": "code",
   "execution_count": null,
   "metadata": {
    "colab": {
     "base_uri": "https://localhost:8080/",
     "height": 279
    },
    "executionInfo": {
     "elapsed": 204,
     "status": "ok",
     "timestamp": 1636639650850,
     "user": {
      "displayName": "John Kitchin",
      "photoUrl": "https://lh3.googleusercontent.com/a/default-user=s64",
      "userId": "14782011281593705406"
     },
     "user_tz": 300
    },
    "id": "MiLrUYoZSlD0",
    "outputId": "caaf2491-aea3-4526-b11f-19d006224cb3"
   },
   "outputs": [
    {
     "data": {
      "image/png": "[encoded data removed]",
      "text/plain": [
       "<Figure size 432x288 with 1 Axes>"
      ]
     },
     "metadata": {
      "needs_background": "light"
     },
     "output_type": "display_data"
    }
   ],
   "source": [
    "import numpy as np\n",
    "\n",
    "np.random.seed(10)  # Setting seed for reproducibility\n",
    "\n",
    "x = np.linspace(0.3, 1.5 * np.pi)\n",
    "y = np.sin(x) + np.random.normal(0, 0.15, len(x))\n",
    "\n",
    "import matplotlib.pyplot as plt\n",
    "\n",
    "plt.plot(x, y, \"b.\")\n",
    "plt.xlabel(\"x\")\n",
    "plt.ylabel(\"y\");"
   ]
  },
  {
   "cell_type": "markdown",
   "metadata": {
    "id": "Vxgw272fSlD6"
   },
   "source": [
    "Our goal is to fit a linear regression model to this data. We want to avoid underfitting and overfitting. If we just fit polynomials to this data, we find some undesirable behavior. Let's look at fits up to a 12<sup>th</sup> order polynomials.\n",
    "\n"
   ]
  },
  {
   "cell_type": "code",
   "execution_count": null,
   "metadata": {
    "colab": {
     "base_uri": "https://localhost:8080/",
     "height": 369
    },
    "executionInfo": {
     "elapsed": 340,
     "status": "ok",
     "timestamp": 1636640175142,
     "user": {
      "displayName": "John Kitchin",
      "photoUrl": "https://lh3.googleusercontent.com/a/default-user=s64",
      "userId": "14782011281593705406"
     },
     "user_tz": 300
    },
    "id": "8ALDvbYSSlD7",
    "outputId": "c41626f2-d5c6-4da0-855d-16159c1f64e4"
   },
   "outputs": [
    {
     "name": "stdout",
     "output_type": "stream",
     "text": [
      "        x^12       x^11       x^10       x^9        x^8        x^7        x^6        x^5        x^4        x^3        x^2        x^1        x^0        \n",
      " 1      0.00       0.00       0.00       0.00       0.00       0.00       0.00       0.00       0.00       0.00       0.00      -0.47       1.40\n",
      " 3      0.00       0.00       0.00       0.00       0.00       0.00       0.00       0.00       0.00       0.09      -0.92       2.08      -0.33\n",
      " 6      0.00       0.00       0.00       0.00       0.00       0.00       0.01      -0.09       0.58      -1.80       2.37      -0.66       0.43\n",
      " 9      0.00       0.00       0.00      -0.00       0.10      -1.02       5.90     -20.81      46.10     -63.24      50.45     -19.91       3.34\n",
      "12      0.01      -0.21       2.83     -22.43     114.61    -395.70     940.66   -1541.20    1715.97   -1258.64     574.27    -144.86      15.53\n"
     ]
    },
    {
     "data": {
      "image/png": "[encoded data removed]",
      "text/plain": [
       "<Figure size 432x288 with 1 Axes>"
      ]
     },
     "metadata": {
      "needs_background": "light"
     },
     "output_type": "display_data"
    }
   ],
   "source": [
    "N = [1, 3, 6, 9, 12]\n",
    "\n",
    "print(\"       \", f\"\".join([f\"x^{i:<9d}\" for i in range(12, -1, -1)]))\n",
    "\n",
    "for i in N:\n",
    "    pars = np.polyfit(x, y, i)\n",
    "    p = np.zeros(13)\n",
    "    p[13 - (i + 1) :] = pars\n",
    "    # This way of printing is to get columnar output\n",
    "    print(f\"{i:2d}\", f\"  \".join([f\"{j: 9.2f}\" for j in p]))\n",
    "    plt.plot(x, y, \"b.\")\n",
    "    plt.plot(x, np.polyval(pars, x), label=f\"{i}\")\n",
    "plt.legend();"
   ]
  },
  {
   "cell_type": "markdown",
   "metadata": {
    "id": "t_PCDnNpSlEC"
   },
   "source": [
    "The most undesirable behavior is that the coefficients grow large, which puts a lot of weight in places we might not want. This also leads to *wiggles* in the fit, which are probably not reasonable. The solution to this issue is called *regularization*, which means we add a penalty to our objective function that serves to reduce the magnitude of the parameters. There are several approaches to regularization. In *ridge regression* we add an L<sub>2</sub> penalty to the parameters, i.e. the sum of the parameters squared. In *LASSO* regression we add an L<sub>1</sub> penalty to the parameters, i.e. the sum of the absolute values of the parameters.\n",
    "\n",
    "In *ridge regression* the parameters are driven by the penalty to become smaller. In *LASSO regression* as many of the parameters are driven to zero as possible."
   ]
  },
  {
   "cell_type": "markdown",
   "metadata": {
    "id": "A5OLeGjASlED"
   },
   "source": [
    "### Ridge regression\n",
    "\n"
   ]
  },
  {
   "cell_type": "markdown",
   "metadata": {
    "id": "SEEE2eZCSlEE"
   },
   "source": [
    "In ridge regression we define our objective function to minimize the summed squared error as usual, and add a term proportional to the sum of the squared parameters.\n",
    "\n",
    "So, if our regression model looks like $\\mathbf{X} \\mathbf{p} = \\mathbf{y}$ we seek to minimize:\n",
    "\n",
    "$(\\mathbf{y} - \\mathbf{X} \\mathbf{p})^T (\\mathbf{y} - \\mathbf{X} \\mathbf{p}) + \\lambda ||\\mathbf{p}||_2^2$\n",
    "\n",
    "Where $\\mathbf{p}$ are the fitting parameters, and $\\lambda$ is the proportionality constant.\n",
    "\n",
    "Finding the parameters is done by solving this modified normal equation:\n",
    "\n",
    "($\\mathbf{Z}^T \\mathbf{Z} + \\lambda \\mathbf{I}) \\mathbf{p} = \\mathbf{Z}^T \\mathbf{w}$\n",
    "\n",
    "We have changed variable names because it is considered important to standardize our variables:\n",
    "\n",
    "$\\mathbf{Z} = (\\mathbf{X} - mean(\\mathbf{X})) / std(\\mathbf{X})$\n",
    "\n",
    "Standardization means that the variable has a mean of 0 and a standard deviation of 1.\n",
    "and\n",
    "\n",
    "$\\mathbf{w} = (\\mathbf{y} - mean(\\mathbf{y})) / std(\\mathbf{y})$\n",
    "\n",
    "&lambda; is a parameter that affects the amount of *regularization*.\n",
    "\n",
    "It is common to *standardize* the input/output variables which means we make the average of each column equal to zero and scale them to have unit variance. Doing this eliminates the intercept from the model since it would then go through the point (0, 0).\n",
    "\n"
   ]
  },
  {
   "cell_type": "code",
   "execution_count": null,
   "metadata": {
    "colab": {
     "base_uri": "https://localhost:8080/"
    },
    "executionInfo": {
     "elapsed": 105,
     "status": "ok",
     "timestamp": 1636640456843,
     "user": {
      "displayName": "John Kitchin",
      "photoUrl": "https://lh3.googleusercontent.com/a/default-user=s64",
      "userId": "14782011281593705406"
     },
     "user_tz": 300
    },
    "id": "h3Vr30EaSlEF",
    "outputId": "81d945d4-afa5-4a98-e89a-1ff18def1018"
   },
   "outputs": [
    {
     "data": {
      "text/plain": [
       "(array([2.48293800e+06, 5.69542539e+05, 1.31727857e+05, 3.07737861e+04,\n",
       "        7.27890923e+03, 1.74895299e+03, 4.28974856e+02, 1.08219836e+02,\n",
       "        2.84377137e+01, 7.96966389e+00, 2.50619449e+00]),\n",
       " array([5.49844745e+06, 1.19967517e+06, 2.62434616e+05, 5.75785285e+04,\n",
       "        1.26746927e+04, 2.80017452e+03, 6.20905075e+02, 1.38066119e+02,\n",
       "        3.06634869e+01, 6.68612694e+00, 1.29948184e+00]))"
      ]
     },
     "execution_count": 68,
     "metadata": {},
     "output_type": "execute_result"
    }
   ],
   "source": [
    "X = np.vander(x, 12)[\n",
    "    :, 0:-1\n",
    "]  # since we standardize we do not consider the last column of ones.\n",
    "xmean = X.mean(axis=0)  # average of every column\n",
    "xstd = X.std(axis=0)\n",
    "xmean, xstd"
   ]
  },
  {
   "cell_type": "markdown",
   "metadata": {
    "id": "5kEzhZ0ASlEK"
   },
   "source": [
    "We standardize the input vector like this.\n",
    "\n"
   ]
  },
  {
   "cell_type": "code",
   "execution_count": null,
   "metadata": {
    "colab": {
     "base_uri": "https://localhost:8080/",
     "height": 1000
    },
    "executionInfo": {
     "elapsed": 115,
     "status": "ok",
     "timestamp": 1636640477088,
     "user": {
      "displayName": "John Kitchin",
      "photoUrl": "https://lh3.googleusercontent.com/a/default-user=s64",
      "userId": "14782011281593705406"
     },
     "user_tz": 300
    },
    "id": "OlhPpmzZjPdh",
    "outputId": "ab31dfc3-a675-42ef-e8d8-eb58b41c782d"
   },
   "outputs": [
    {
     "data": {
      "text/html": [
       "<div>\n",
       "<style scoped>\n",
       "    .dataframe tbody tr th:only-of-type {\n",
       "        vertical-align: middle;\n",
       "    }\n",
       "\n",
       "    .dataframe tbody tr th {\n",
       "        vertical-align: top;\n",
       "    }\n",
       "\n",
       "    .dataframe thead th {\n",
       "        text-align: right;\n",
       "    }\n",
       "</style>\n",
       "<table border=\"1\" class=\"dataframe\">\n",
       "  <thead>\n",
       "    <tr style=\"text-align: right;\">\n",
       "      <th></th>\n",
       "      <th>0</th>\n",
       "      <th>1</th>\n",
       "      <th>2</th>\n",
       "      <th>3</th>\n",
       "      <th>4</th>\n",
       "      <th>5</th>\n",
       "      <th>6</th>\n",
       "      <th>7</th>\n",
       "      <th>8</th>\n",
       "      <th>9</th>\n",
       "      <th>10</th>\n",
       "    </tr>\n",
       "  </thead>\n",
       "  <tbody>\n",
       "    <tr>\n",
       "      <th>0</th>\n",
       "      <td>1.771470e-06</td>\n",
       "      <td>5.904900e-06</td>\n",
       "      <td>1.968300e-05</td>\n",
       "      <td>0.000066</td>\n",
       "      <td>0.000219</td>\n",
       "      <td>0.000729</td>\n",
       "      <td>0.002430</td>\n",
       "      <td>0.008100</td>\n",
       "      <td>0.027000</td>\n",
       "      <td>0.090000</td>\n",
       "      <td>0.300000</td>\n",
       "    </tr>\n",
       "    <tr>\n",
       "      <th>1</th>\n",
       "      <td>3.179127e-05</td>\n",
       "      <td>8.150588e-05</td>\n",
       "      <td>2.089633e-04</td>\n",
       "      <td>0.000536</td>\n",
       "      <td>0.001374</td>\n",
       "      <td>0.003521</td>\n",
       "      <td>0.009028</td>\n",
       "      <td>0.023146</td>\n",
       "      <td>0.059341</td>\n",
       "      <td>0.152138</td>\n",
       "      <td>0.390049</td>\n",
       "    </tr>\n",
       "    <tr>\n",
       "      <th>2</th>\n",
       "      <td>3.123374e-04</td>\n",
       "      <td>6.505707e-04</td>\n",
       "      <td>1.355080e-03</td>\n",
       "      <td>0.002823</td>\n",
       "      <td>0.005879</td>\n",
       "      <td>0.012246</td>\n",
       "      <td>0.025506</td>\n",
       "      <td>0.053127</td>\n",
       "      <td>0.110659</td>\n",
       "      <td>0.230494</td>\n",
       "      <td>0.480098</td>\n",
       "    </tr>\n",
       "    <tr>\n",
       "      <th>3</th>\n",
       "      <td>2.069422e-03</td>\n",
       "      <td>3.629634e-03</td>\n",
       "      <td>6.366145e-03</td>\n",
       "      <td>0.011166</td>\n",
       "      <td>0.019584</td>\n",
       "      <td>0.034349</td>\n",
       "      <td>0.060246</td>\n",
       "      <td>0.105668</td>\n",
       "      <td>0.185336</td>\n",
       "      <td>0.325067</td>\n",
       "      <td>0.570146</td>\n",
       "    </tr>\n",
       "    <tr>\n",
       "      <th>4</th>\n",
       "      <td>1.038472e-02</td>\n",
       "      <td>1.572977e-02</td>\n",
       "      <td>2.382595e-02</td>\n",
       "      <td>0.036089</td>\n",
       "      <td>0.054665</td>\n",
       "      <td>0.082801</td>\n",
       "      <td>0.125418</td>\n",
       "      <td>0.189972</td>\n",
       "      <td>0.287751</td>\n",
       "      <td>0.435857</td>\n",
       "      <td>0.660195</td>\n",
       "    </tr>\n",
       "    <tr>\n",
       "      <th>5</th>\n",
       "      <td>4.238639e-02</td>\n",
       "      <td>5.649682e-02</td>\n",
       "      <td>7.530462e-02</td>\n",
       "      <td>0.100374</td>\n",
       "      <td>0.133788</td>\n",
       "      <td>0.178326</td>\n",
       "      <td>0.237691</td>\n",
       "      <td>0.316818</td>\n",
       "      <td>0.422287</td>\n",
       "      <td>0.562866</td>\n",
       "      <td>0.750244</td>\n",
       "    </tr>\n",
       "    <tr>\n",
       "      <th>6</th>\n",
       "      <td>1.474808e-01</td>\n",
       "      <td>1.755113e-01</td>\n",
       "      <td>2.088693e-01</td>\n",
       "      <td>0.248567</td>\n",
       "      <td>0.295810</td>\n",
       "      <td>0.352033</td>\n",
       "      <td>0.418941</td>\n",
       "      <td>0.498565</td>\n",
       "      <td>0.593323</td>\n",
       "      <td>0.706092</td>\n",
       "      <td>0.840293</td>\n",
       "    </tr>\n",
       "    <tr>\n",
       "      <th>7</th>\n",
       "      <td>4.519238e-01</td>\n",
       "      <td>4.857613e-01</td>\n",
       "      <td>5.221324e-01</td>\n",
       "      <td>0.561227</td>\n",
       "      <td>0.603248</td>\n",
       "      <td>0.648416</td>\n",
       "      <td>0.696966</td>\n",
       "      <td>0.749151</td>\n",
       "      <td>0.805243</td>\n",
       "      <td>0.865535</td>\n",
       "      <td>0.930341</td>\n",
       "    </tr>\n",
       "    <tr>\n",
       "      <th>8</th>\n",
       "      <td>1.248614e+00</td>\n",
       "      <td>1.223664e+00</td>\n",
       "      <td>1.199212e+00</td>\n",
       "      <td>1.175248</td>\n",
       "      <td>1.151764</td>\n",
       "      <td>1.128749</td>\n",
       "      <td>1.106193</td>\n",
       "      <td>1.084089</td>\n",
       "      <td>1.062426</td>\n",
       "      <td>1.041196</td>\n",
       "      <td>1.020390</td>\n",
       "    </tr>\n",
       "    <tr>\n",
       "      <th>9</th>\n",
       "      <td>3.165489e+00</td>\n",
       "      <td>2.850665e+00</td>\n",
       "      <td>2.567152e+00</td>\n",
       "      <td>2.311836</td>\n",
       "      <td>2.081912</td>\n",
       "      <td>1.874855</td>\n",
       "      <td>1.688391</td>\n",
       "      <td>1.520472</td>\n",
       "      <td>1.369254</td>\n",
       "      <td>1.233074</td>\n",
       "      <td>1.110439</td>\n",
       "    </tr>\n",
       "    <tr>\n",
       "      <th>10</th>\n",
       "      <td>7.463358e+00</td>\n",
       "      <td>6.216939e+00</td>\n",
       "      <td>5.178678e+00</td>\n",
       "      <td>4.313813</td>\n",
       "      <td>3.593384</td>\n",
       "      <td>2.993270</td>\n",
       "      <td>2.493379</td>\n",
       "      <td>2.076972</td>\n",
       "      <td>1.730107</td>\n",
       "      <td>1.441170</td>\n",
       "      <td>1.200488</td>\n",
       "    </tr>\n",
       "    <tr>\n",
       "      <th>11</th>\n",
       "      <td>1.653760e+01</td>\n",
       "      <td>1.281452e+01</td>\n",
       "      <td>9.929606e+00</td>\n",
       "      <td>7.694170</td>\n",
       "      <td>5.961995</td>\n",
       "      <td>4.619781</td>\n",
       "      <td>3.579737</td>\n",
       "      <td>2.773837</td>\n",
       "      <td>2.149367</td>\n",
       "      <td>1.665484</td>\n",
       "      <td>1.290536</td>\n",
       "    </tr>\n",
       "    <tr>\n",
       "      <th>12</th>\n",
       "      <td>3.472921e+01</td>\n",
       "      <td>2.515543e+01</td>\n",
       "      <td>1.822085e+01</td>\n",
       "      <td>13.197916</td>\n",
       "      <td>9.559654</td>\n",
       "      <td>6.924350</td>\n",
       "      <td>5.015519</td>\n",
       "      <td>3.632894</td>\n",
       "      <td>2.631416</td>\n",
       "      <td>1.906015</td>\n",
       "      <td>1.380585</td>\n",
       "    </tr>\n",
       "    <tr>\n",
       "      <th>13</th>\n",
       "      <td>6.959051e+01</td>\n",
       "      <td>4.732008e+01</td>\n",
       "      <td>3.217666e+01</td>\n",
       "      <td>21.879449</td>\n",
       "      <td>14.877564</td>\n",
       "      <td>10.116430</td>\n",
       "      <td>6.878959</td>\n",
       "      <td>4.677547</td>\n",
       "      <td>3.180634</td>\n",
       "      <td>2.162764</td>\n",
       "      <td>1.470634</td>\n",
       "    </tr>\n",
       "    <tr>\n",
       "      <th>14</th>\n",
       "      <td>1.338013e+02</td>\n",
       "      <td>8.573256e+01</td>\n",
       "      <td>5.493273e+01</td>\n",
       "      <td>35.197890</td>\n",
       "      <td>22.552882</td>\n",
       "      <td>14.450653</td>\n",
       "      <td>9.259188</td>\n",
       "      <td>5.932781</td>\n",
       "      <td>3.801401</td>\n",
       "      <td>2.435730</td>\n",
       "      <td>1.560683</td>\n",
       "    </tr>\n",
       "    <tr>\n",
       "      <th>15</th>\n",
       "      <td>2.479935e+02</td>\n",
       "      <td>1.502325e+02</td>\n",
       "      <td>9.100967e+01</td>\n",
       "      <td>55.132937</td>\n",
       "      <td>33.399098</td>\n",
       "      <td>20.232910</td>\n",
       "      <td>12.256937</td>\n",
       "      <td>7.425156</td>\n",
       "      <td>4.498101</td>\n",
       "      <td>2.724914</td>\n",
       "      <td>1.650731</td>\n",
       "    </tr>\n",
       "    <tr>\n",
       "      <th>16</th>\n",
       "      <td>4.448186e+02</td>\n",
       "      <td>2.555283e+02</td>\n",
       "      <td>1.467896e+02</td>\n",
       "      <td>84.324011</td>\n",
       "      <td>48.440359</td>\n",
       "      <td>27.826811</td>\n",
       "      <td>15.985254</td>\n",
       "      <td>9.182811</td>\n",
       "      <td>5.275112</td>\n",
       "      <td>3.030315</td>\n",
       "      <td>1.740780</td>\n",
       "    </tr>\n",
       "    <tr>\n",
       "      <th>17</th>\n",
       "      <td>7.746850e+02</td>\n",
       "      <td>4.231335e+02</td>\n",
       "      <td>2.311158e+02</td>\n",
       "      <td>126.235627</td>\n",
       "      <td>68.949989</td>\n",
       "      <td>37.660532</td>\n",
       "      <td>20.570209</td>\n",
       "      <td>11.235463</td>\n",
       "      <td>6.136818</td>\n",
       "      <td>3.351934</td>\n",
       "      <td>1.830829</td>\n",
       "    </tr>\n",
       "    <tr>\n",
       "      <th>18</th>\n",
       "      <td>1.313701e+03</td>\n",
       "      <td>6.839067e+02</td>\n",
       "      <td>3.560387e+02</td>\n",
       "      <td>185.352099</td>\n",
       "      <td>96.493447</td>\n",
       "      <td>50.234043</td>\n",
       "      <td>26.151611</td>\n",
       "      <td>13.614408</td>\n",
       "      <td>7.087598</td>\n",
       "      <td>3.689771</td>\n",
       "      <td>1.920878</td>\n",
       "    </tr>\n",
       "    <tr>\n",
       "      <th>19</th>\n",
       "      <td>2.174492e+03</td>\n",
       "      <td>1.081338e+03</td>\n",
       "      <td>5.377315e+02</td>\n",
       "      <td>267.404863</td>\n",
       "      <td>132.975961</td>\n",
       "      <td>66.126719</td>\n",
       "      <td>32.883710</td>\n",
       "      <td>16.352519</td>\n",
       "      <td>8.131834</td>\n",
       "      <td>4.043825</td>\n",
       "      <td>2.010926</td>\n",
       "    </tr>\n",
       "    <tr>\n",
       "      <th>20</th>\n",
       "      <td>3.520707e+03</td>\n",
       "      <td>1.675749e+03</td>\n",
       "      <td>7.976055e+02</td>\n",
       "      <td>379.635864</td>\n",
       "      <td>180.695080</td>\n",
       "      <td>86.005341</td>\n",
       "      <td>40.935917</td>\n",
       "      <td>19.484247</td>\n",
       "      <td>9.273906</td>\n",
       "      <td>4.414096</td>\n",
       "      <td>2.100975</td>\n",
       "    </tr>\n",
       "    <tr>\n",
       "      <th>21</th>\n",
       "      <td>5.586222e+03</td>\n",
       "      <td>2.549594e+03</td>\n",
       "      <td>1.163654e+03</td>\n",
       "      <td>531.100656</td>\n",
       "      <td>242.398391</td>\n",
       "      <td>110.632475</td>\n",
       "      <td>50.493506</td>\n",
       "      <td>23.045621</td>\n",
       "      <td>10.518197</td>\n",
       "      <td>4.800586</td>\n",
       "      <td>2.191024</td>\n",
       "    </tr>\n",
       "    <tr>\n",
       "      <th>22</th>\n",
       "      <td>8.700219e+03</td>\n",
       "      <td>3.814091e+03</td>\n",
       "      <td>1.672060e+03</td>\n",
       "      <td>733.015010</td>\n",
       "      <td>321.346637</td>\n",
       "      <td>140.875234</td>\n",
       "      <td>61.758330</td>\n",
       "      <td>27.074250</td>\n",
       "      <td>11.869087</td>\n",
       "      <td>5.203292</td>\n",
       "      <td>2.281073</td>\n",
       "    </tr>\n",
       "    <tr>\n",
       "      <th>23</th>\n",
       "      <td>1.331961e+04</td>\n",
       "      <td>5.617432e+03</td>\n",
       "      <td>2.369104e+03</td>\n",
       "      <td>999.149004</td>\n",
       "      <td>421.382483</td>\n",
       "      <td>177.714431</td>\n",
       "      <td>74.949530</td>\n",
       "      <td>31.609318</td>\n",
       "      <td>13.330958</td>\n",
       "      <td>5.622216</td>\n",
       "      <td>2.371121</td>\n",
       "    </tr>\n",
       "    <tr>\n",
       "      <th>24</th>\n",
       "      <td>2.007049e+04</td>\n",
       "      <td>8.154857e+03</td>\n",
       "      <td>3.313406e+03</td>\n",
       "      <td>1346.272767</td>\n",
       "      <td>547.005166</td>\n",
       "      <td>222.254107</td>\n",
       "      <td>90.304244</td>\n",
       "      <td>36.691590</td>\n",
       "      <td>14.908189</td>\n",
       "      <td>6.057358</td>\n",
       "      <td>2.461170</td>\n",
       "    </tr>\n",
       "    <tr>\n",
       "      <th>25</th>\n",
       "      <td>2.980059e+04</td>\n",
       "      <td>1.168092e+04</td>\n",
       "      <td>4.578566e+03</td>\n",
       "      <td>1794.658187</td>\n",
       "      <td>703.451284</td>\n",
       "      <td>275.731452</td>\n",
       "      <td>108.078321</td>\n",
       "      <td>42.363406</td>\n",
       "      <td>16.605163</td>\n",
       "      <td>6.508718</td>\n",
       "      <td>2.551219</td>\n",
       "    </tr>\n",
       "    <tr>\n",
       "      <th>26</th>\n",
       "      <td>4.364520e+04</td>\n",
       "      <td>1.652434e+04</td>\n",
       "      <td>6.256215e+03</td>\n",
       "      <td>2368.641102</td>\n",
       "      <td>896.781940</td>\n",
       "      <td>339.527101</td>\n",
       "      <td>128.547027</td>\n",
       "      <td>48.668687</td>\n",
       "      <td>18.426261</td>\n",
       "      <td>6.976295</td>\n",
       "      <td>2.641268</td>\n",
       "    </tr>\n",
       "    <tr>\n",
       "      <th>27</th>\n",
       "      <td>6.310912e+04</td>\n",
       "      <td>2.310575e+04</td>\n",
       "      <td>8.459566e+03</td>\n",
       "      <td>3097.248633</td>\n",
       "      <td>1133.976517</td>\n",
       "      <td>415.175820</td>\n",
       "      <td>152.005760</td>\n",
       "      <td>55.652930</td>\n",
       "      <td>20.375864</td>\n",
       "      <td>7.460089</td>\n",
       "      <td>2.731316</td>\n",
       "    </tr>\n",
       "    <tr>\n",
       "      <th>28</th>\n",
       "      <td>9.016796e+04</td>\n",
       "      <td>3.195898e+04</td>\n",
       "      <td>1.132749e+04</td>\n",
       "      <td>4014.896535</td>\n",
       "      <td>1423.033300</td>\n",
       "      <td>504.377574</td>\n",
       "      <td>178.770755</td>\n",
       "      <td>63.363211</td>\n",
       "      <td>22.458352</td>\n",
       "      <td>7.960101</td>\n",
       "      <td>2.821365</td>\n",
       "    </tr>\n",
       "    <tr>\n",
       "      <th>29</th>\n",
       "      <td>1.273924e+05</td>\n",
       "      <td>4.375619e+04</td>\n",
       "      <td>1.502919e+04</td>\n",
       "      <td>5162.161563</td>\n",
       "      <td>1773.077194</td>\n",
       "      <td>609.008977</td>\n",
       "      <td>209.179801</td>\n",
       "      <td>71.848184</td>\n",
       "      <td>24.678107</td>\n",
       "      <td>8.476331</td>\n",
       "      <td>2.911414</td>\n",
       "    </tr>\n",
       "    <tr>\n",
       "      <th>30</th>\n",
       "      <td>1.780994e+05</td>\n",
       "      <td>5.933752e+04</td>\n",
       "      <td>1.976954e+04</td>\n",
       "      <td>6586.634078</td>\n",
       "      <td>2194.474783</td>\n",
       "      <td>731.135132</td>\n",
       "      <td>243.592948</td>\n",
       "      <td>81.158081</td>\n",
       "      <td>27.039511</td>\n",
       "      <td>9.008778</td>\n",
       "      <td>3.001463</td>\n",
       "    </tr>\n",
       "    <tr>\n",
       "      <th>31</th>\n",
       "      <td>2.465354e+05</td>\n",
       "      <td>7.974593e+04</td>\n",
       "      <td>2.579513e+04</td>\n",
       "      <td>8343.856256</td>\n",
       "      <td>2698.956979</td>\n",
       "      <td>873.021844</td>\n",
       "      <td>282.393215</td>\n",
       "      <td>91.344711</td>\n",
       "      <td>29.546943</td>\n",
       "      <td>9.557443</td>\n",
       "      <td>3.091511</td>\n",
       "    </tr>\n",
       "    <tr>\n",
       "      <th>32</th>\n",
       "      <td>3.380972e+05</td>\n",
       "      <td>1.062677e+05</td>\n",
       "      <td>3.340114e+04</td>\n",
       "      <td>10498.351446</td>\n",
       "      <td>3299.749478</td>\n",
       "      <td>1037.148230</td>\n",
       "      <td>325.987308</td>\n",
       "      <td>102.461463</td>\n",
       "      <td>32.204786</td>\n",
       "      <td>10.122325</td>\n",
       "      <td>3.181560</td>\n",
       "    </tr>\n",
       "    <tr>\n",
       "      <th>33</th>\n",
       "      <td>4.595949e+05</td>\n",
       "      <td>1.404798e+05</td>\n",
       "      <td>4.293905e+04</td>\n",
       "      <td>13124.750407</td>\n",
       "      <td>4011.711298</td>\n",
       "      <td>1226.219702</td>\n",
       "      <td>374.806322</td>\n",
       "      <td>114.563303</td>\n",
       "      <td>35.017420</td>\n",
       "      <td>10.703425</td>\n",
       "      <td>3.271609</td>\n",
       "    </tr>\n",
       "    <tr>\n",
       "      <th>34</th>\n",
       "      <td>6.195671e+05</td>\n",
       "      <td>1.843040e+05</td>\n",
       "      <td>5.482534e+04</td>\n",
       "      <td>16309.020322</td>\n",
       "      <td>4851.481612</td>\n",
       "      <td>1443.181342</td>\n",
       "      <td>429.306458</td>\n",
       "      <td>127.706775</td>\n",
       "      <td>37.989227</td>\n",
       "      <td>11.300742</td>\n",
       "      <td>3.361658</td>\n",
       "    </tr>\n",
       "    <tr>\n",
       "      <th>35</th>\n",
       "      <td>8.286523e+05</td>\n",
       "      <td>2.400703e+05</td>\n",
       "      <td>6.955120e+04</td>\n",
       "      <td>20149.802653</td>\n",
       "      <td>5837.635138</td>\n",
       "      <td>1691.231651</td>\n",
       "      <td>489.969727</td>\n",
       "      <td>141.950001</td>\n",
       "      <td>41.124587</td>\n",
       "      <td>11.914277</td>\n",
       "      <td>3.451706</td>\n",
       "    </tr>\n",
       "    <tr>\n",
       "      <th>36</th>\n",
       "      <td>1.100028e+06</td>\n",
       "      <td>3.105885e+05</td>\n",
       "      <td>8.769338e+04</td>\n",
       "      <td>24759.866088</td>\n",
       "      <td>6990.846319</td>\n",
       "      <td>1973.836695</td>\n",
       "      <td>557.304670</td>\n",
       "      <td>157.352681</td>\n",
       "      <td>44.427882</td>\n",
       "      <td>12.544030</td>\n",
       "      <td>3.541755</td>\n",
       "    </tr>\n",
       "    <tr>\n",
       "      <th>37</th>\n",
       "      <td>1.449928e+06</td>\n",
       "      <td>3.992307e+05</td>\n",
       "      <td>1.099263e+05</td>\n",
       "      <td>30267.681004</td>\n",
       "      <td>8334.062531</td>\n",
       "      <td>2294.744624</td>\n",
       "      <td>631.847058</td>\n",
       "      <td>173.976093</td>\n",
       "      <td>47.903493</td>\n",
       "      <td>13.190000</td>\n",
       "      <td>3.631804</td>\n",
       "    </tr>\n",
       "    <tr>\n",
       "      <th>38</th>\n",
       "      <td>1.898239e+06</td>\n",
       "      <td>5.100254e+05</td>\n",
       "      <td>1.370353e+05</td>\n",
       "      <td>36819.122033</td>\n",
       "      <td>9892.686576</td>\n",
       "      <td>2658.000579</td>\n",
       "      <td>714.160610</td>\n",
       "      <td>191.883095</td>\n",
       "      <td>51.555801</td>\n",
       "      <td>13.852187</td>\n",
       "      <td>3.721853</td>\n",
       "    </tr>\n",
       "    <tr>\n",
       "      <th>39</th>\n",
       "      <td>2.469211e+06</td>\n",
       "      <td>6.477637e+05</td>\n",
       "      <td>1.699319e+05</td>\n",
       "      <td>44579.305505</td>\n",
       "      <td>11694.768683</td>\n",
       "      <td>3067.961984</td>\n",
       "      <td>804.837700</td>\n",
       "      <td>211.138119</td>\n",
       "      <td>55.389187</td>\n",
       "      <td>14.530593</td>\n",
       "      <td>3.811901</td>\n",
       "    </tr>\n",
       "    <tr>\n",
       "      <th>40</th>\n",
       "      <td>3.192265e+06</td>\n",
       "      <td>8.181204e+05</td>\n",
       "      <td>2.096696e+05</td>\n",
       "      <td>53734.568710</td>\n",
       "      <td>13771.208273</td>\n",
       "      <td>3529.314217</td>\n",
       "      <td>904.500070</td>\n",
       "      <td>231.807180</td>\n",
       "      <td>59.408032</td>\n",
       "      <td>15.225215</td>\n",
       "      <td>3.901950</td>\n",
       "    </tr>\n",
       "    <tr>\n",
       "      <th>41</th>\n",
       "      <td>4.102935e+06</td>\n",
       "      <td>1.027789e+06</td>\n",
       "      <td>2.574624e+05</td>\n",
       "      <td>64494.598101</td>\n",
       "      <td>16155.965727</td>\n",
       "      <td>4047.086675</td>\n",
       "      <td>1013.799536</td>\n",
       "      <td>253.957867</td>\n",
       "      <td>63.616717</td>\n",
       "      <td>15.936056</td>\n",
       "      <td>3.991999</td>\n",
       "    </tr>\n",
       "    <tr>\n",
       "      <th>42</th>\n",
       "      <td>5.243953e+06</td>\n",
       "      <td>1.284638e+06</td>\n",
       "      <td>3.147043e+05</td>\n",
       "      <td>77094.713715</td>\n",
       "      <td>18886.284392</td>\n",
       "      <td>4626.669209</td>\n",
       "      <td>1133.418704</td>\n",
       "      <td>277.659348</td>\n",
       "      <td>68.019624</td>\n",
       "      <td>16.663113</td>\n",
       "      <td>4.082048</td>\n",
       "    </tr>\n",
       "    <tr>\n",
       "      <th>43</th>\n",
       "      <td>6.666498e+06</td>\n",
       "      <td>1.597877e+06</td>\n",
       "      <td>3.829914e+05</td>\n",
       "      <td>91798.317303</td>\n",
       "      <td>22002.923076</td>\n",
       "      <td>5273.828956</td>\n",
       "      <td>1264.071676</td>\n",
       "      <td>302.982371</td>\n",
       "      <td>72.621133</td>\n",
       "      <td>17.406389</td>\n",
       "      <td>4.172096</td>\n",
       "    </tr>\n",
       "    <tr>\n",
       "      <th>44</th>\n",
       "      <td>8.431613e+06</td>\n",
       "      <td>1.978256e+06</td>\n",
       "      <td>4.641455e+05</td>\n",
       "      <td>108899.511786</td>\n",
       "      <td>25550.399271</td>\n",
       "      <td>5994.727545</td>\n",
       "      <td>1406.504765</td>\n",
       "      <td>329.999260</td>\n",
       "      <td>77.425626</td>\n",
       "      <td>18.165882</td>\n",
       "      <td>4.262145</td>\n",
       "    </tr>\n",
       "    <tr>\n",
       "      <th>45</th>\n",
       "      <td>1.061184e+07</td>\n",
       "      <td>2.438274e+06</td>\n",
       "      <td>5.602401e+05</td>\n",
       "      <td>128725.899867</td>\n",
       "      <td>29577.243340</td>\n",
       "      <td>6795.938692</td>\n",
       "      <td>1561.497202</td>\n",
       "      <td>358.783918</td>\n",
       "      <td>82.437484</td>\n",
       "      <td>18.941592</td>\n",
       "      <td>4.352194</td>\n",
       "    </tr>\n",
       "    <tr>\n",
       "      <th>46</th>\n",
       "      <td>1.329306e+07</td>\n",
       "      <td>2.992422e+06</td>\n",
       "      <td>6.736287e+05</td>\n",
       "      <td>151641.569775</td>\n",
       "      <td>34136.263923</td>\n",
       "      <td>7684.466182</td>\n",
       "      <td>1729.861845</td>\n",
       "      <td>389.411825</td>\n",
       "      <td>87.661087</td>\n",
       "      <td>19.733520</td>\n",
       "      <td>4.442243</td>\n",
       "    </tr>\n",
       "    <tr>\n",
       "      <th>47</th>\n",
       "      <td>1.657663e+07</td>\n",
       "      <td>3.657449e+06</td>\n",
       "      <td>8.069757e+05</td>\n",
       "      <td>178050.276326</td>\n",
       "      <td>39284.824788</td>\n",
       "      <td>8667.762221</td>\n",
       "      <td>1912.445896</td>\n",
       "      <td>421.960041</td>\n",
       "      <td>93.100818</td>\n",
       "      <td>20.541666</td>\n",
       "      <td>4.532291</td>\n",
       "    </tr>\n",
       "    <tr>\n",
       "      <th>48</th>\n",
       "      <td>2.058169e+07</td>\n",
       "      <td>4.452655e+06</td>\n",
       "      <td>9.632903e+05</td>\n",
       "      <td>208398.825615</td>\n",
       "      <td>45085.133383</td>\n",
       "      <td>9753.746194</td>\n",
       "      <td>2110.131604</td>\n",
       "      <td>456.507202</td>\n",
       "      <td>98.761056</td>\n",
       "      <td>21.366029</td>\n",
       "      <td>4.622340</td>\n",
       "    </tr>\n",
       "    <tr>\n",
       "      <th>49</th>\n",
       "      <td>2.544793e+07</td>\n",
       "      <td>5.400218e+06</td>\n",
       "      <td>1.145962e+06</td>\n",
       "      <td>243180.671861</td>\n",
       "      <td>51604.541321</td>\n",
       "      <td>10950.823783</td>\n",
       "      <td>2323.836981</td>\n",
       "      <td>493.133523</td>\n",
       "      <td>104.646184</td>\n",
       "      <td>22.206610</td>\n",
       "      <td>4.712389</td>\n",
       "    </tr>\n",
       "  </tbody>\n",
       "</table>\n",
       "</div>"
      ],
      "text/plain": [
       "              0             1             2   ...          8          9         10\n",
       "0   1.771470e-06  5.904900e-06  1.968300e-05  ...    0.027000   0.090000  0.300000\n",
       "1   3.179127e-05  8.150588e-05  2.089633e-04  ...    0.059341   0.152138  0.390049\n",
       "2   3.123374e-04  6.505707e-04  1.355080e-03  ...    0.110659   0.230494  0.480098\n",
       "3   2.069422e-03  3.629634e-03  6.366145e-03  ...    0.185336   0.325067  0.570146\n",
       "4   1.038472e-02  1.572977e-02  2.382595e-02  ...    0.287751   0.435857  0.660195\n",
       "5   4.238639e-02  5.649682e-02  7.530462e-02  ...    0.422287   0.562866  0.750244\n",
       "6   1.474808e-01  1.755113e-01  2.088693e-01  ...    0.593323   0.706092  0.840293\n",
       "7   4.519238e-01  4.857613e-01  5.221324e-01  ...    0.805243   0.865535  0.930341\n",
       "8   1.248614e+00  1.223664e+00  1.199212e+00  ...    1.062426   1.041196  1.020390\n",
       "9   3.165489e+00  2.850665e+00  2.567152e+00  ...    1.369254   1.233074  1.110439\n",
       "10  7.463358e+00  6.216939e+00  5.178678e+00  ...    1.730107   1.441170  1.200488\n",
       "11  1.653760e+01  1.281452e+01  9.929606e+00  ...    2.149367   1.665484  1.290536\n",
       "12  3.472921e+01  2.515543e+01  1.822085e+01  ...    2.631416   1.906015  1.380585\n",
       "13  6.959051e+01  4.732008e+01  3.217666e+01  ...    3.180634   2.162764  1.470634\n",
       "14  1.338013e+02  8.573256e+01  5.493273e+01  ...    3.801401   2.435730  1.560683\n",
       "15  2.479935e+02  1.502325e+02  9.100967e+01  ...    4.498101   2.724914  1.650731\n",
       "16  4.448186e+02  2.555283e+02  1.467896e+02  ...    5.275112   3.030315  1.740780\n",
       "17  7.746850e+02  4.231335e+02  2.311158e+02  ...    6.136818   3.351934  1.830829\n",
       "18  1.313701e+03  6.839067e+02  3.560387e+02  ...    7.087598   3.689771  1.920878\n",
       "19  2.174492e+03  1.081338e+03  5.377315e+02  ...    8.131834   4.043825  2.010926\n",
       "20  3.520707e+03  1.675749e+03  7.976055e+02  ...    9.273906   4.414096  2.100975\n",
       "21  5.586222e+03  2.549594e+03  1.163654e+03  ...   10.518197   4.800586  2.191024\n",
       "22  8.700219e+03  3.814091e+03  1.672060e+03  ...   11.869087   5.203292  2.281073\n",
       "23  1.331961e+04  5.617432e+03  2.369104e+03  ...   13.330958   5.622216  2.371121\n",
       "24  2.007049e+04  8.154857e+03  3.313406e+03  ...   14.908189   6.057358  2.461170\n",
       "25  2.980059e+04  1.168092e+04  4.578566e+03  ...   16.605163   6.508718  2.551219\n",
       "26  4.364520e+04  1.652434e+04  6.256215e+03  ...   18.426261   6.976295  2.641268\n",
       "27  6.310912e+04  2.310575e+04  8.459566e+03  ...   20.375864   7.460089  2.731316\n",
       "28  9.016796e+04  3.195898e+04  1.132749e+04  ...   22.458352   7.960101  2.821365\n",
       "29  1.273924e+05  4.375619e+04  1.502919e+04  ...   24.678107   8.476331  2.911414\n",
       "30  1.780994e+05  5.933752e+04  1.976954e+04  ...   27.039511   9.008778  3.001463\n",
       "31  2.465354e+05  7.974593e+04  2.579513e+04  ...   29.546943   9.557443  3.091511\n",
       "32  3.380972e+05  1.062677e+05  3.340114e+04  ...   32.204786  10.122325  3.181560\n",
       "33  4.595949e+05  1.404798e+05  4.293905e+04  ...   35.017420  10.703425  3.271609\n",
       "34  6.195671e+05  1.843040e+05  5.482534e+04  ...   37.989227  11.300742  3.361658\n",
       "35  8.286523e+05  2.400703e+05  6.955120e+04  ...   41.124587  11.914277  3.451706\n",
       "36  1.100028e+06  3.105885e+05  8.769338e+04  ...   44.427882  12.544030  3.541755\n",
       "37  1.449928e+06  3.992307e+05  1.099263e+05  ...   47.903493  13.190000  3.631804\n",
       "38  1.898239e+06  5.100254e+05  1.370353e+05  ...   51.555801  13.852187  3.721853\n",
       "39  2.469211e+06  6.477637e+05  1.699319e+05  ...   55.389187  14.530593  3.811901\n",
       "40  3.192265e+06  8.181204e+05  2.096696e+05  ...   59.408032  15.225215  3.901950\n",
       "41  4.102935e+06  1.027789e+06  2.574624e+05  ...   63.616717  15.936056  3.991999\n",
       "42  5.243953e+06  1.284638e+06  3.147043e+05  ...   68.019624  16.663113  4.082048\n",
       "43  6.666498e+06  1.597877e+06  3.829914e+05  ...   72.621133  17.406389  4.172096\n",
       "44  8.431613e+06  1.978256e+06  4.641455e+05  ...   77.425626  18.165882  4.262145\n",
       "45  1.061184e+07  2.438274e+06  5.602401e+05  ...   82.437484  18.941592  4.352194\n",
       "46  1.329306e+07  2.992422e+06  6.736287e+05  ...   87.661087  19.733520  4.442243\n",
       "47  1.657663e+07  3.657449e+06  8.069757e+05  ...   93.100818  20.541666  4.532291\n",
       "48  2.058169e+07  4.452655e+06  9.632903e+05  ...   98.761056  21.366029  4.622340\n",
       "49  2.544793e+07  5.400218e+06  1.145962e+06  ...  104.646184  22.206610  4.712389\n",
       "\n",
       "[50 rows x 11 columns]"
      ]
     },
     "execution_count": 69,
     "metadata": {},
     "output_type": "execute_result"
    }
   ],
   "source": [
    "import pandas as pd\n",
    "\n",
    "pd.DataFrame(X)"
   ]
  },
  {
   "cell_type": "code",
   "execution_count": null,
   "metadata": {
    "executionInfo": {
     "elapsed": 97,
     "status": "ok",
     "timestamp": 1636640553915,
     "user": {
      "displayName": "John Kitchin",
      "photoUrl": "https://lh3.googleusercontent.com/a/default-user=s64",
      "userId": "14782011281593705406"
     },
     "user_tz": 300
    },
    "id": "jlzx6cPoSlEL"
   },
   "outputs": [],
   "source": [
    "Z = (X - xmean) / xstd  # this is broadcasting!"
   ]
  },
  {
   "cell_type": "code",
   "execution_count": null,
   "metadata": {
    "colab": {
     "base_uri": "https://localhost:8080/",
     "height": 1000
    },
    "executionInfo": {
     "elapsed": 113,
     "status": "ok",
     "timestamp": 1636640557770,
     "user": {
      "displayName": "John Kitchin",
      "photoUrl": "https://lh3.googleusercontent.com/a/default-user=s64",
      "userId": "14782011281593705406"
     },
     "user_tz": 300
    },
    "id": "wJoNQQRMjD7l",
    "outputId": "9a3f88e4-da54-4799-9793-8a3d7e7d40db"
   },
   "outputs": [
    {
     "data": {
      "text/html": [
       "<div>\n",
       "<style scoped>\n",
       "    .dataframe tbody tr th:only-of-type {\n",
       "        vertical-align: middle;\n",
       "    }\n",
       "\n",
       "    .dataframe tbody tr th {\n",
       "        vertical-align: top;\n",
       "    }\n",
       "\n",
       "    .dataframe thead th {\n",
       "        text-align: right;\n",
       "    }\n",
       "</style>\n",
       "<table border=\"1\" class=\"dataframe\">\n",
       "  <thead>\n",
       "    <tr style=\"text-align: right;\">\n",
       "      <th></th>\n",
       "      <th>0</th>\n",
       "      <th>1</th>\n",
       "      <th>2</th>\n",
       "      <th>3</th>\n",
       "      <th>4</th>\n",
       "      <th>5</th>\n",
       "      <th>6</th>\n",
       "      <th>7</th>\n",
       "      <th>8</th>\n",
       "      <th>9</th>\n",
       "      <th>10</th>\n",
       "    </tr>\n",
       "  </thead>\n",
       "  <tbody>\n",
       "    <tr>\n",
       "      <th>0</th>\n",
       "      <td>-0.451571</td>\n",
       "      <td>-0.474747</td>\n",
       "      <td>-0.501945</td>\n",
       "      <td>-0.534466</td>\n",
       "      <td>-0.574287</td>\n",
       "      <td>-0.624587</td>\n",
       "      <td>-0.690882</td>\n",
       "      <td>-0.783767</td>\n",
       "      <td>-0.926532</td>\n",
       "      <td>-1.178509</td>\n",
       "      <td>-1.697749</td>\n",
       "    </tr>\n",
       "    <tr>\n",
       "      <th>1</th>\n",
       "      <td>-0.451571</td>\n",
       "      <td>-0.474747</td>\n",
       "      <td>-0.501945</td>\n",
       "      <td>-0.534466</td>\n",
       "      <td>-0.574287</td>\n",
       "      <td>-0.624586</td>\n",
       "      <td>-0.690872</td>\n",
       "      <td>-0.783659</td>\n",
       "      <td>-0.925478</td>\n",
       "      <td>-1.169216</td>\n",
       "      <td>-1.628453</td>\n",
       "    </tr>\n",
       "    <tr>\n",
       "      <th>2</th>\n",
       "      <td>-0.451571</td>\n",
       "      <td>-0.474747</td>\n",
       "      <td>-0.501945</td>\n",
       "      <td>-0.534466</td>\n",
       "      <td>-0.574286</td>\n",
       "      <td>-0.624583</td>\n",
       "      <td>-0.690845</td>\n",
       "      <td>-0.783441</td>\n",
       "      <td>-0.923804</td>\n",
       "      <td>-1.157497</td>\n",
       "      <td>-1.559158</td>\n",
       "    </tr>\n",
       "    <tr>\n",
       "      <th>3</th>\n",
       "      <td>-0.451571</td>\n",
       "      <td>-0.474747</td>\n",
       "      <td>-0.501945</td>\n",
       "      <td>-0.534466</td>\n",
       "      <td>-0.574285</td>\n",
       "      <td>-0.624575</td>\n",
       "      <td>-0.690789</td>\n",
       "      <td>-0.783061</td>\n",
       "      <td>-0.921369</td>\n",
       "      <td>-1.143352</td>\n",
       "      <td>-1.489862</td>\n",
       "    </tr>\n",
       "    <tr>\n",
       "      <th>4</th>\n",
       "      <td>-0.451571</td>\n",
       "      <td>-0.474747</td>\n",
       "      <td>-0.501945</td>\n",
       "      <td>-0.534466</td>\n",
       "      <td>-0.574283</td>\n",
       "      <td>-0.624558</td>\n",
       "      <td>-0.690684</td>\n",
       "      <td>-0.782450</td>\n",
       "      <td>-0.918029</td>\n",
       "      <td>-1.126782</td>\n",
       "      <td>-1.420566</td>\n",
       "    </tr>\n",
       "    <tr>\n",
       "      <th>5</th>\n",
       "      <td>-0.451571</td>\n",
       "      <td>-0.474747</td>\n",
       "      <td>-0.501945</td>\n",
       "      <td>-0.534465</td>\n",
       "      <td>-0.574276</td>\n",
       "      <td>-0.624523</td>\n",
       "      <td>-0.690504</td>\n",
       "      <td>-0.781531</td>\n",
       "      <td>-0.913641</td>\n",
       "      <td>-1.107786</td>\n",
       "      <td>-1.351270</td>\n",
       "    </tr>\n",
       "    <tr>\n",
       "      <th>6</th>\n",
       "      <td>-0.451571</td>\n",
       "      <td>-0.474747</td>\n",
       "      <td>-0.501945</td>\n",
       "      <td>-0.534462</td>\n",
       "      <td>-0.574264</td>\n",
       "      <td>-0.624461</td>\n",
       "      <td>-0.690212</td>\n",
       "      <td>-0.780215</td>\n",
       "      <td>-0.908063</td>\n",
       "      <td>-1.086365</td>\n",
       "      <td>-1.281974</td>\n",
       "    </tr>\n",
       "    <tr>\n",
       "      <th>7</th>\n",
       "      <td>-0.451571</td>\n",
       "      <td>-0.474747</td>\n",
       "      <td>-0.501943</td>\n",
       "      <td>-0.534457</td>\n",
       "      <td>-0.574239</td>\n",
       "      <td>-0.624356</td>\n",
       "      <td>-0.689764</td>\n",
       "      <td>-0.778400</td>\n",
       "      <td>-0.901152</td>\n",
       "      <td>-1.062518</td>\n",
       "      <td>-1.212678</td>\n",
       "    </tr>\n",
       "    <tr>\n",
       "      <th>8</th>\n",
       "      <td>-0.451571</td>\n",
       "      <td>-0.474746</td>\n",
       "      <td>-0.501941</td>\n",
       "      <td>-0.534446</td>\n",
       "      <td>-0.574196</td>\n",
       "      <td>-0.624184</td>\n",
       "      <td>-0.689105</td>\n",
       "      <td>-0.775974</td>\n",
       "      <td>-0.892765</td>\n",
       "      <td>-1.036245</td>\n",
       "      <td>-1.143382</td>\n",
       "    </tr>\n",
       "    <tr>\n",
       "      <th>9</th>\n",
       "      <td>-0.451570</td>\n",
       "      <td>-0.474745</td>\n",
       "      <td>-0.501936</td>\n",
       "      <td>-0.534426</td>\n",
       "      <td>-0.574123</td>\n",
       "      <td>-0.623918</td>\n",
       "      <td>-0.688167</td>\n",
       "      <td>-0.772814</td>\n",
       "      <td>-0.882759</td>\n",
       "      <td>-1.007547</td>\n",
       "      <td>-1.074086</td>\n",
       "    </tr>\n",
       "    <tr>\n",
       "      <th>10</th>\n",
       "      <td>-0.451569</td>\n",
       "      <td>-0.474742</td>\n",
       "      <td>-0.501926</td>\n",
       "      <td>-0.534391</td>\n",
       "      <td>-0.574003</td>\n",
       "      <td>-0.623518</td>\n",
       "      <td>-0.686871</td>\n",
       "      <td>-0.768783</td>\n",
       "      <td>-0.870991</td>\n",
       "      <td>-0.976424</td>\n",
       "      <td>-1.004790</td>\n",
       "    </tr>\n",
       "    <tr>\n",
       "      <th>11</th>\n",
       "      <td>-0.451568</td>\n",
       "      <td>-0.474737</td>\n",
       "      <td>-0.501908</td>\n",
       "      <td>-0.534333</td>\n",
       "      <td>-0.573816</td>\n",
       "      <td>-0.622937</td>\n",
       "      <td>-0.685121</td>\n",
       "      <td>-0.763736</td>\n",
       "      <td>-0.857318</td>\n",
       "      <td>-0.942875</td>\n",
       "      <td>-0.935495</td>\n",
       "    </tr>\n",
       "    <tr>\n",
       "      <th>12</th>\n",
       "      <td>-0.451564</td>\n",
       "      <td>-0.474726</td>\n",
       "      <td>-0.501876</td>\n",
       "      <td>-0.534237</td>\n",
       "      <td>-0.573533</td>\n",
       "      <td>-0.622114</td>\n",
       "      <td>-0.682809</td>\n",
       "      <td>-0.757513</td>\n",
       "      <td>-0.841597</td>\n",
       "      <td>-0.906900</td>\n",
       "      <td>-0.866199</td>\n",
       "    </tr>\n",
       "    <tr>\n",
       "      <th>13</th>\n",
       "      <td>-0.451558</td>\n",
       "      <td>-0.474708</td>\n",
       "      <td>-0.501823</td>\n",
       "      <td>-0.534086</td>\n",
       "      <td>-0.573113</td>\n",
       "      <td>-0.620974</td>\n",
       "      <td>-0.679807</td>\n",
       "      <td>-0.749947</td>\n",
       "      <td>-0.823686</td>\n",
       "      <td>-0.868500</td>\n",
       "      <td>-0.796903</td>\n",
       "    </tr>\n",
       "    <tr>\n",
       "      <th>14</th>\n",
       "      <td>-0.451546</td>\n",
       "      <td>-0.474676</td>\n",
       "      <td>-0.501736</td>\n",
       "      <td>-0.533855</td>\n",
       "      <td>-0.572507</td>\n",
       "      <td>-0.619427</td>\n",
       "      <td>-0.675974</td>\n",
       "      <td>-0.740856</td>\n",
       "      <td>-0.803441</td>\n",
       "      <td>-0.827674</td>\n",
       "      <td>-0.727607</td>\n",
       "    </tr>\n",
       "    <tr>\n",
       "      <th>15</th>\n",
       "      <td>-0.451526</td>\n",
       "      <td>-0.474622</td>\n",
       "      <td>-0.501599</td>\n",
       "      <td>-0.533509</td>\n",
       "      <td>-0.571652</td>\n",
       "      <td>-0.617362</td>\n",
       "      <td>-0.671146</td>\n",
       "      <td>-0.730046</td>\n",
       "      <td>-0.780721</td>\n",
       "      <td>-0.784423</td>\n",
       "      <td>-0.658311</td>\n",
       "    </tr>\n",
       "    <tr>\n",
       "      <th>16</th>\n",
       "      <td>-0.451490</td>\n",
       "      <td>-0.474534</td>\n",
       "      <td>-0.501386</td>\n",
       "      <td>-0.533002</td>\n",
       "      <td>-0.570465</td>\n",
       "      <td>-0.614650</td>\n",
       "      <td>-0.665141</td>\n",
       "      <td>-0.717316</td>\n",
       "      <td>-0.755381</td>\n",
       "      <td>-0.738746</td>\n",
       "      <td>-0.589015</td>\n",
       "    </tr>\n",
       "    <tr>\n",
       "      <th>17</th>\n",
       "      <td>-0.451430</td>\n",
       "      <td>-0.474395</td>\n",
       "      <td>-0.501065</td>\n",
       "      <td>-0.532274</td>\n",
       "      <td>-0.568847</td>\n",
       "      <td>-0.611138</td>\n",
       "      <td>-0.657757</td>\n",
       "      <td>-0.702449</td>\n",
       "      <td>-0.727279</td>\n",
       "      <td>-0.690643</td>\n",
       "      <td>-0.519719</td>\n",
       "    </tr>\n",
       "    <tr>\n",
       "      <th>18</th>\n",
       "      <td>-0.451332</td>\n",
       "      <td>-0.474177</td>\n",
       "      <td>-0.500589</td>\n",
       "      <td>-0.531247</td>\n",
       "      <td>-0.566674</td>\n",
       "      <td>-0.606648</td>\n",
       "      <td>-0.648768</td>\n",
       "      <td>-0.685218</td>\n",
       "      <td>-0.696272</td>\n",
       "      <td>-0.640115</td>\n",
       "      <td>-0.450423</td>\n",
       "    </tr>\n",
       "    <tr>\n",
       "      <th>19</th>\n",
       "      <td>-0.451175</td>\n",
       "      <td>-0.473846</td>\n",
       "      <td>-0.499896</td>\n",
       "      <td>-0.529822</td>\n",
       "      <td>-0.563795</td>\n",
       "      <td>-0.600972</td>\n",
       "      <td>-0.637925</td>\n",
       "      <td>-0.665386</td>\n",
       "      <td>-0.662217</td>\n",
       "      <td>-0.587162</td>\n",
       "      <td>-0.381127</td>\n",
       "    </tr>\n",
       "    <tr>\n",
       "      <th>20</th>\n",
       "      <td>-0.450930</td>\n",
       "      <td>-0.473350</td>\n",
       "      <td>-0.498906</td>\n",
       "      <td>-0.527873</td>\n",
       "      <td>-0.560030</td>\n",
       "      <td>-0.593873</td>\n",
       "      <td>-0.624957</td>\n",
       "      <td>-0.642704</td>\n",
       "      <td>-0.624972</td>\n",
       "      <td>-0.531783</td>\n",
       "      <td>-0.311832</td>\n",
       "    </tr>\n",
       "    <tr>\n",
       "      <th>21</th>\n",
       "      <td>-0.450555</td>\n",
       "      <td>-0.472622</td>\n",
       "      <td>-0.497511</td>\n",
       "      <td>-0.525242</td>\n",
       "      <td>-0.555162</td>\n",
       "      <td>-0.585078</td>\n",
       "      <td>-0.609564</td>\n",
       "      <td>-0.616909</td>\n",
       "      <td>-0.584393</td>\n",
       "      <td>-0.473978</td>\n",
       "      <td>-0.242536</td>\n",
       "    </tr>\n",
       "    <tr>\n",
       "      <th>22</th>\n",
       "      <td>-0.449988</td>\n",
       "      <td>-0.471568</td>\n",
       "      <td>-0.495574</td>\n",
       "      <td>-0.521736</td>\n",
       "      <td>-0.548933</td>\n",
       "      <td>-0.574278</td>\n",
       "      <td>-0.591421</td>\n",
       "      <td>-0.587730</td>\n",
       "      <td>-0.540337</td>\n",
       "      <td>-0.413748</td>\n",
       "      <td>-0.173240</td>\n",
       "    </tr>\n",
       "    <tr>\n",
       "      <th>23</th>\n",
       "      <td>-0.449148</td>\n",
       "      <td>-0.470065</td>\n",
       "      <td>-0.492918</td>\n",
       "      <td>-0.517114</td>\n",
       "      <td>-0.541041</td>\n",
       "      <td>-0.561122</td>\n",
       "      <td>-0.570176</td>\n",
       "      <td>-0.554883</td>\n",
       "      <td>-0.492663</td>\n",
       "      <td>-0.351092</td>\n",
       "      <td>-0.103944</td>\n",
       "    </tr>\n",
       "    <tr>\n",
       "      <th>24</th>\n",
       "      <td>-0.447921</td>\n",
       "      <td>-0.467950</td>\n",
       "      <td>-0.489320</td>\n",
       "      <td>-0.511085</td>\n",
       "      <td>-0.531130</td>\n",
       "      <td>-0.545216</td>\n",
       "      <td>-0.545447</td>\n",
       "      <td>-0.518072</td>\n",
       "      <td>-0.441226</td>\n",
       "      <td>-0.286011</td>\n",
       "      <td>-0.034648</td>\n",
       "    </tr>\n",
       "    <tr>\n",
       "      <th>25</th>\n",
       "      <td>-0.446151</td>\n",
       "      <td>-0.465011</td>\n",
       "      <td>-0.484499</td>\n",
       "      <td>-0.503297</td>\n",
       "      <td>-0.518786</td>\n",
       "      <td>-0.526118</td>\n",
       "      <td>-0.516821</td>\n",
       "      <td>-0.476992</td>\n",
       "      <td>-0.385884</td>\n",
       "      <td>-0.218504</td>\n",
       "      <td>0.034648</td>\n",
       "    </tr>\n",
       "    <tr>\n",
       "      <th>26</th>\n",
       "      <td>-0.443633</td>\n",
       "      <td>-0.460973</td>\n",
       "      <td>-0.478106</td>\n",
       "      <td>-0.493329</td>\n",
       "      <td>-0.503533</td>\n",
       "      <td>-0.503335</td>\n",
       "      <td>-0.483855</td>\n",
       "      <td>-0.431323</td>\n",
       "      <td>-0.326494</td>\n",
       "      <td>-0.148572</td>\n",
       "      <td>0.103944</td>\n",
       "    </tr>\n",
       "    <tr>\n",
       "      <th>27</th>\n",
       "      <td>-0.440093</td>\n",
       "      <td>-0.455487</td>\n",
       "      <td>-0.469710</td>\n",
       "      <td>-0.480675</td>\n",
       "      <td>-0.484819</td>\n",
       "      <td>-0.476319</td>\n",
       "      <td>-0.446073</td>\n",
       "      <td>-0.380737</td>\n",
       "      <td>-0.262914</td>\n",
       "      <td>-0.076214</td>\n",
       "      <td>0.173240</td>\n",
       "    </tr>\n",
       "    <tr>\n",
       "      <th>28</th>\n",
       "      <td>-0.435172</td>\n",
       "      <td>-0.448108</td>\n",
       "      <td>-0.458782</td>\n",
       "      <td>-0.464737</td>\n",
       "      <td>-0.462013</td>\n",
       "      <td>-0.444464</td>\n",
       "      <td>-0.402967</td>\n",
       "      <td>-0.324892</td>\n",
       "      <td>-0.194999</td>\n",
       "      <td>-0.001430</td>\n",
       "      <td>0.242536</td>\n",
       "    </tr>\n",
       "    <tr>\n",
       "      <th>29</th>\n",
       "      <td>-0.428402</td>\n",
       "      <td>-0.438274</td>\n",
       "      <td>-0.444677</td>\n",
       "      <td>-0.444812</td>\n",
       "      <td>-0.434396</td>\n",
       "      <td>-0.407097</td>\n",
       "      <td>-0.353991</td>\n",
       "      <td>-0.263436</td>\n",
       "      <td>-0.122609</td>\n",
       "      <td>0.075779</td>\n",
       "      <td>0.311832</td>\n",
       "    </tr>\n",
       "    <tr>\n",
       "      <th>30</th>\n",
       "      <td>-0.419180</td>\n",
       "      <td>-0.425286</td>\n",
       "      <td>-0.426614</td>\n",
       "      <td>-0.420072</td>\n",
       "      <td>-0.401149</td>\n",
       "      <td>-0.363484</td>\n",
       "      <td>-0.298567</td>\n",
       "      <td>-0.196006</td>\n",
       "      <td>-0.045598</td>\n",
       "      <td>0.155413</td>\n",
       "      <td>0.381127</td>\n",
       "    </tr>\n",
       "    <tr>\n",
       "      <th>31</th>\n",
       "      <td>-0.406733</td>\n",
       "      <td>-0.408274</td>\n",
       "      <td>-0.403654</td>\n",
       "      <td>-0.389554</td>\n",
       "      <td>-0.361346</td>\n",
       "      <td>-0.312813</td>\n",
       "      <td>-0.236077</td>\n",
       "      <td>-0.122225</td>\n",
       "      <td>0.036174</td>\n",
       "      <td>0.237474</td>\n",
       "      <td>0.450423</td>\n",
       "    </tr>\n",
       "    <tr>\n",
       "      <th>32</th>\n",
       "      <td>-0.390081</td>\n",
       "      <td>-0.386167</td>\n",
       "      <td>-0.374671</td>\n",
       "      <td>-0.352135</td>\n",
       "      <td>-0.313945</td>\n",
       "      <td>-0.254200</td>\n",
       "      <td>-0.165867</td>\n",
       "      <td>-0.041707</td>\n",
       "      <td>0.122852</td>\n",
       "      <td>0.321959</td>\n",
       "      <td>0.519719</td>\n",
       "    </tr>\n",
       "    <tr>\n",
       "      <th>33</th>\n",
       "      <td>-0.367984</td>\n",
       "      <td>-0.357649</td>\n",
       "      <td>-0.338327</td>\n",
       "      <td>-0.306521</td>\n",
       "      <td>-0.257773</td>\n",
       "      <td>-0.186679</td>\n",
       "      <td>-0.087241</td>\n",
       "      <td>0.045945</td>\n",
       "      <td>0.214578</td>\n",
       "      <td>0.408871</td>\n",
       "      <td>0.589015</td>\n",
       "    </tr>\n",
       "    <tr>\n",
       "      <th>34</th>\n",
       "      <td>-0.338890</td>\n",
       "      <td>-0.321119</td>\n",
       "      <td>-0.293035</td>\n",
       "      <td>-0.251218</td>\n",
       "      <td>-0.191518</td>\n",
       "      <td>-0.109197</td>\n",
       "      <td>0.000534</td>\n",
       "      <td>0.141142</td>\n",
       "      <td>0.311495</td>\n",
       "      <td>0.498207</td>\n",
       "      <td>0.658311</td>\n",
       "    </tr>\n",
       "    <tr>\n",
       "      <th>35</th>\n",
       "      <td>-0.300864</td>\n",
       "      <td>-0.274635</td>\n",
       "      <td>-0.236922</td>\n",
       "      <td>-0.184513</td>\n",
       "      <td>-0.113713</td>\n",
       "      <td>-0.020613</td>\n",
       "      <td>0.098235</td>\n",
       "      <td>0.244304</td>\n",
       "      <td>0.413745</td>\n",
       "      <td>0.589970</td>\n",
       "      <td>0.727607</td>\n",
       "    </tr>\n",
       "    <tr>\n",
       "      <th>36</th>\n",
       "      <td>-0.251509</td>\n",
       "      <td>-0.215853</td>\n",
       "      <td>-0.167792</td>\n",
       "      <td>-0.104447</td>\n",
       "      <td>-0.022727</td>\n",
       "      <td>0.080311</td>\n",
       "      <td>0.206682</td>\n",
       "      <td>0.355865</td>\n",
       "      <td>0.521473</td>\n",
       "      <td>0.684158</td>\n",
       "      <td>0.796903</td>\n",
       "    </tr>\n",
       "    <tr>\n",
       "      <th>37</th>\n",
       "      <td>-0.187873</td>\n",
       "      <td>-0.141965</td>\n",
       "      <td>-0.083074</td>\n",
       "      <td>-0.008790</td>\n",
       "      <td>0.083249</td>\n",
       "      <td>0.194913</td>\n",
       "      <td>0.326736</td>\n",
       "      <td>0.476266</td>\n",
       "      <td>0.634819</td>\n",
       "      <td>0.780771</td>\n",
       "      <td>0.866199</td>\n",
       "    </tr>\n",
       "    <tr>\n",
       "      <th>38</th>\n",
       "      <td>-0.106339</td>\n",
       "      <td>-0.049611</td>\n",
       "      <td>0.020224</td>\n",
       "      <td>0.104993</td>\n",
       "      <td>0.206220</td>\n",
       "      <td>0.324640</td>\n",
       "      <td>0.459307</td>\n",
       "      <td>0.605965</td>\n",
       "      <td>0.753929</td>\n",
       "      <td>0.879810</td>\n",
       "      <td>0.935495</td>\n",
       "    </tr>\n",
       "    <tr>\n",
       "      <th>39</th>\n",
       "      <td>-0.002496</td>\n",
       "      <td>0.065202</td>\n",
       "      <td>0.145576</td>\n",
       "      <td>0.239769</td>\n",
       "      <td>0.348400</td>\n",
       "      <td>0.471045</td>\n",
       "      <td>0.605347</td>\n",
       "      <td>0.745428</td>\n",
       "      <td>0.878944</td>\n",
       "      <td>0.981275</td>\n",
       "      <td>1.004790</td>\n",
       "    </tr>\n",
       "    <tr>\n",
       "      <th>40</th>\n",
       "      <td>0.129005</td>\n",
       "      <td>0.207204</td>\n",
       "      <td>0.296995</td>\n",
       "      <td>0.398773</td>\n",
       "      <td>0.512225</td>\n",
       "      <td>0.635804</td>\n",
       "      <td>0.765858</td>\n",
       "      <td>0.895132</td>\n",
       "      <td>1.010006</td>\n",
       "      <td>1.085165</td>\n",
       "      <td>1.074086</td>\n",
       "    </tr>\n",
       "    <tr>\n",
       "      <th>41</th>\n",
       "      <td>0.294628</td>\n",
       "      <td>0.381976</td>\n",
       "      <td>0.479108</td>\n",
       "      <td>0.585649</td>\n",
       "      <td>0.700376</td>\n",
       "      <td>0.820711</td>\n",
       "      <td>0.941891</td>\n",
       "      <td>1.055567</td>\n",
       "      <td>1.147260</td>\n",
       "      <td>1.191481</td>\n",
       "      <td>1.143382</td>\n",
       "    </tr>\n",
       "    <tr>\n",
       "      <th>42</th>\n",
       "      <td>0.502145</td>\n",
       "      <td>0.596074</td>\n",
       "      <td>0.697227</td>\n",
       "      <td>0.804483</td>\n",
       "      <td>0.915791</td>\n",
       "      <td>1.027692</td>\n",
       "      <td>1.134544</td>\n",
       "      <td>1.227235</td>\n",
       "      <td>1.290848</td>\n",
       "      <td>1.300222</td>\n",
       "      <td>1.212678</td>\n",
       "    </tr>\n",
       "    <tr>\n",
       "      <th>43</th>\n",
       "      <td>0.760862</td>\n",
       "      <td>0.857178</td>\n",
       "      <td>0.957433</td>\n",
       "      <td>1.059849</td>\n",
       "      <td>1.161686</td>\n",
       "      <td>1.258806</td>\n",
       "      <td>1.344967</td>\n",
       "      <td>1.410647</td>\n",
       "      <td>1.440913</td>\n",
       "      <td>1.411389</td>\n",
       "      <td>1.281974</td>\n",
       "    </tr>\n",
       "    <tr>\n",
       "      <th>44</th>\n",
       "      <td>1.081883</td>\n",
       "      <td>1.174245</td>\n",
       "      <td>1.266669</td>\n",
       "      <td>1.356855</td>\n",
       "      <td>1.441573</td>\n",
       "      <td>1.516254</td>\n",
       "      <td>1.574363</td>\n",
       "      <td>1.606328</td>\n",
       "      <td>1.597598</td>\n",
       "      <td>1.524981</td>\n",
       "      <td>1.351270</td>\n",
       "    </tr>\n",
       "    <tr>\n",
       "      <th>45</th>\n",
       "      <td>1.478399</td>\n",
       "      <td>1.557697</td>\n",
       "      <td>1.632834</td>\n",
       "      <td>1.701192</td>\n",
       "      <td>1.759280</td>\n",
       "      <td>1.802383</td>\n",
       "      <td>1.823986</td>\n",
       "      <td>1.814812</td>\n",
       "      <td>1.761045</td>\n",
       "      <td>1.640999</td>\n",
       "      <td>1.420566</td>\n",
       "    </tr>\n",
       "    <tr>\n",
       "      <th>46</th>\n",
       "      <td>1.966033</td>\n",
       "      <td>2.019613</td>\n",
       "      <td>2.064898</td>\n",
       "      <td>2.099182</td>\n",
       "      <td>2.118975</td>\n",
       "      <td>2.119694</td>\n",
       "      <td>2.095146</td>\n",
       "      <td>2.036647</td>\n",
       "      <td>1.931397</td>\n",
       "      <td>1.759443</td>\n",
       "      <td>1.489862</td>\n",
       "    </tr>\n",
       "    <tr>\n",
       "      <th>47</th>\n",
       "      <td>2.563212</td>\n",
       "      <td>2.573952</td>\n",
       "      <td>2.573014</td>\n",
       "      <td>2.557837</td>\n",
       "      <td>2.525183</td>\n",
       "      <td>2.470849</td>\n",
       "      <td>2.389207</td>\n",
       "      <td>2.272391</td>\n",
       "      <td>2.108798</td>\n",
       "      <td>1.880312</td>\n",
       "      <td>1.559158</td>\n",
       "    </tr>\n",
       "    <tr>\n",
       "      <th>48</th>\n",
       "      <td>3.291611</td>\n",
       "      <td>3.236804</td>\n",
       "      <td>3.168646</td>\n",
       "      <td>3.084918</td>\n",
       "      <td>2.982812</td>\n",
       "      <td>2.858677</td>\n",
       "      <td>2.707591</td>\n",
       "      <td>2.522613</td>\n",
       "      <td>2.293390</td>\n",
       "      <td>2.003606</td>\n",
       "      <td>1.628453</td>\n",
       "    </tr>\n",
       "    <tr>\n",
       "      <th>49</th>\n",
       "      <td>4.176632</td>\n",
       "      <td>4.026653</td>\n",
       "      <td>3.864711</td>\n",
       "      <td>3.688995</td>\n",
       "      <td>3.497176</td>\n",
       "      <td>3.286178</td>\n",
       "      <td>3.051774</td>\n",
       "      <td>2.787894</td>\n",
       "      <td>2.485317</td>\n",
       "      <td>2.129326</td>\n",
       "      <td>1.697749</td>\n",
       "    </tr>\n",
       "  </tbody>\n",
       "</table>\n",
       "</div>"
      ],
      "text/plain": [
       "          0         1         2   ...        8         9         10\n",
       "0  -0.451571 -0.474747 -0.501945  ... -0.926532 -1.178509 -1.697749\n",
       "1  -0.451571 -0.474747 -0.501945  ... -0.925478 -1.169216 -1.628453\n",
       "2  -0.451571 -0.474747 -0.501945  ... -0.923804 -1.157497 -1.559158\n",
       "3  -0.451571 -0.474747 -0.501945  ... -0.921369 -1.143352 -1.489862\n",
       "4  -0.451571 -0.474747 -0.501945  ... -0.918029 -1.126782 -1.420566\n",
       "5  -0.451571 -0.474747 -0.501945  ... -0.913641 -1.107786 -1.351270\n",
       "6  -0.451571 -0.474747 -0.501945  ... -0.908063 -1.086365 -1.281974\n",
       "7  -0.451571 -0.474747 -0.501943  ... -0.901152 -1.062518 -1.212678\n",
       "8  -0.451571 -0.474746 -0.501941  ... -0.892765 -1.036245 -1.143382\n",
       "9  -0.451570 -0.474745 -0.501936  ... -0.882759 -1.007547 -1.074086\n",
       "10 -0.451569 -0.474742 -0.501926  ... -0.870991 -0.976424 -1.004790\n",
       "11 -0.451568 -0.474737 -0.501908  ... -0.857318 -0.942875 -0.935495\n",
       "12 -0.451564 -0.474726 -0.501876  ... -0.841597 -0.906900 -0.866199\n",
       "13 -0.451558 -0.474708 -0.501823  ... -0.823686 -0.868500 -0.796903\n",
       "14 -0.451546 -0.474676 -0.501736  ... -0.803441 -0.827674 -0.727607\n",
       "15 -0.451526 -0.474622 -0.501599  ... -0.780721 -0.784423 -0.658311\n",
       "16 -0.451490 -0.474534 -0.501386  ... -0.755381 -0.738746 -0.589015\n",
       "17 -0.451430 -0.474395 -0.501065  ... -0.727279 -0.690643 -0.519719\n",
       "18 -0.451332 -0.474177 -0.500589  ... -0.696272 -0.640115 -0.450423\n",
       "19 -0.451175 -0.473846 -0.499896  ... -0.662217 -0.587162 -0.381127\n",
       "20 -0.450930 -0.473350 -0.498906  ... -0.624972 -0.531783 -0.311832\n",
       "21 -0.450555 -0.472622 -0.497511  ... -0.584393 -0.473978 -0.242536\n",
       "22 -0.449988 -0.471568 -0.495574  ... -0.540337 -0.413748 -0.173240\n",
       "23 -0.449148 -0.470065 -0.492918  ... -0.492663 -0.351092 -0.103944\n",
       "24 -0.447921 -0.467950 -0.489320  ... -0.441226 -0.286011 -0.034648\n",
       "25 -0.446151 -0.465011 -0.484499  ... -0.385884 -0.218504  0.034648\n",
       "26 -0.443633 -0.460973 -0.478106  ... -0.326494 -0.148572  0.103944\n",
       "27 -0.440093 -0.455487 -0.469710  ... -0.262914 -0.076214  0.173240\n",
       "28 -0.435172 -0.448108 -0.458782  ... -0.194999 -0.001430  0.242536\n",
       "29 -0.428402 -0.438274 -0.444677  ... -0.122609  0.075779  0.311832\n",
       "30 -0.419180 -0.425286 -0.426614  ... -0.045598  0.155413  0.381127\n",
       "31 -0.406733 -0.408274 -0.403654  ...  0.036174  0.237474  0.450423\n",
       "32 -0.390081 -0.386167 -0.374671  ...  0.122852  0.321959  0.519719\n",
       "33 -0.367984 -0.357649 -0.338327  ...  0.214578  0.408871  0.589015\n",
       "34 -0.338890 -0.321119 -0.293035  ...  0.311495  0.498207  0.658311\n",
       "35 -0.300864 -0.274635 -0.236922  ...  0.413745  0.589970  0.727607\n",
       "36 -0.251509 -0.215853 -0.167792  ...  0.521473  0.684158  0.796903\n",
       "37 -0.187873 -0.141965 -0.083074  ...  0.634819  0.780771  0.866199\n",
       "38 -0.106339 -0.049611  0.020224  ...  0.753929  0.879810  0.935495\n",
       "39 -0.002496  0.065202  0.145576  ...  0.878944  0.981275  1.004790\n",
       "40  0.129005  0.207204  0.296995  ...  1.010006  1.085165  1.074086\n",
       "41  0.294628  0.381976  0.479108  ...  1.147260  1.191481  1.143382\n",
       "42  0.502145  0.596074  0.697227  ...  1.290848  1.300222  1.212678\n",
       "43  0.760862  0.857178  0.957433  ...  1.440913  1.411389  1.281974\n",
       "44  1.081883  1.174245  1.266669  ...  1.597598  1.524981  1.351270\n",
       "45  1.478399  1.557697  1.632834  ...  1.761045  1.640999  1.420566\n",
       "46  1.966033  2.019613  2.064898  ...  1.931397  1.759443  1.489862\n",
       "47  2.563212  2.573952  2.573014  ...  2.108798  1.880312  1.559158\n",
       "48  3.291611  3.236804  3.168646  ...  2.293390  2.003606  1.628453\n",
       "49  4.176632  4.026653  3.864711  ...  2.485317  2.129326  1.697749\n",
       "\n",
       "[50 rows x 11 columns]"
      ]
     },
     "execution_count": 73,
     "metadata": {},
     "output_type": "execute_result"
    }
   ],
   "source": [
    "import pandas as pd\n",
    "\n",
    "pd.DataFrame(Z)"
   ]
  },
  {
   "cell_type": "markdown",
   "metadata": {
    "id": "fEvnwCvdSlEP"
   },
   "source": [
    "Here we just confirm we have standardized all the columns. The only one that stands out is the column of ones, which does not have unit standard deviation.\n",
    "\n"
   ]
  },
  {
   "cell_type": "code",
   "execution_count": null,
   "metadata": {
    "colab": {
     "base_uri": "https://localhost:8080/"
    },
    "executionInfo": {
     "elapsed": 115,
     "status": "ok",
     "timestamp": 1636640583184,
     "user": {
      "displayName": "John Kitchin",
      "photoUrl": "https://lh3.googleusercontent.com/a/default-user=s64",
      "userId": "14782011281593705406"
     },
     "user_tz": 300
    },
    "id": "Nf72WOjHSlEQ",
    "outputId": "4ffede6c-1e99-44f6-bad0-959842627c3d"
   },
   "outputs": [
    {
     "name": "stdout",
     "output_type": "stream",
     "text": [
      "[-0. -0.  0.  0.  0. -0.  0.  0.  0. -0.  0.] [1. 1. 1. 1. 1. 1. 1. 1. 1. 1. 1.]\n"
     ]
    }
   ],
   "source": [
    "with np.printoptions(suppress=True):\n",
    "    print(Z.mean(axis=0), Z.std(axis=0))"
   ]
  },
  {
   "cell_type": "markdown",
   "metadata": {
    "id": "3UniTtgySlEU"
   },
   "source": [
    "We similarly standardize the y data.\n",
    "\n"
   ]
  },
  {
   "cell_type": "code",
   "execution_count": null,
   "metadata": {
    "executionInfo": {
     "elapsed": 91,
     "status": "ok",
     "timestamp": 1636640613258,
     "user": {
      "displayName": "John Kitchin",
      "photoUrl": "https://lh3.googleusercontent.com/a/default-user=s64",
      "userId": "14782011281593705406"
     },
     "user_tz": 300
    },
    "id": "WJfq4U5xSlEU"
   },
   "outputs": [],
   "source": [
    "ymean = y.mean()\n",
    "ystd = y.std()\n",
    "\n",
    "w = (y - ymean) / ystd"
   ]
  },
  {
   "cell_type": "markdown",
   "metadata": {
    "id": "An9y2NsaSlEY"
   },
   "source": [
    "To get an estimate of the parameters we have to specify a value of &lambda;. If we set &lambda;=0, we have regular linear regression. If we set &lambda;=&infin;, all the weights will go to zero. We need something in between. It is a good idea to try several values of &lambda; from a very small value to a large value, on a log scale.\n",
    "\n"
   ]
  },
  {
   "cell_type": "code",
   "execution_count": null,
   "metadata": {
    "colab": {
     "base_uri": "https://localhost:8080/",
     "height": 387
    },
    "executionInfo": {
     "elapsed": 414,
     "status": "ok",
     "timestamp": 1636641380521,
     "user": {
      "displayName": "John Kitchin",
      "photoUrl": "https://lh3.googleusercontent.com/a/default-user=s64",
      "userId": "14782011281593705406"
     },
     "user_tz": 300
    },
    "id": "32sROKT2SlEY",
    "outputId": "49621ef3-af50-4070-aa5c-aa0427ddc260"
   },
   "outputs": [
    {
     "name": "stdout",
     "output_type": "stream",
     "text": [
      "lambda      x^11         x^10         x^9          x^8          x^7          x^6          x^5          x^4          x^3          x^2          x^1          \n",
      "       0    -35540.42   199748.64  -488406.72   682448.89  -602574.77   351670.83  -138298.97    36827.21    -6584.53      752.55      -43.55\n",
      "   1e-13    -13149.84    64367.54  -129331.30   133399.74   -67629.58     5171.46    12754.46    -7037.76     1606.26     -156.61        4.82\n",
      " 3.2e-10     -1054.80     3732.44    -3866.52     -865.29     3642.53     -286.80    -3426.14     3217.30    -1354.25      284.92      -24.21\n",
      "   1e-06       -11.38        6.95       17.29        8.03      -18.81      -29.90       13.53       55.80      -61.16       19.93       -1.06\n",
      "  0.0032        -0.28       -0.10        0.10        0.32        0.54        0.63        0.39       -0.43       -1.76       -2.04        1.87\n",
      "      10         0.11        0.08        0.04       -0.01       -0.06       -0.11       -0.17       -0.22       -0.25       -0.22       -0.06\n"
     ]
    },
    {
     "data": {
      "image/png": "[encoded data removed]",
      "text/plain": [
       "<Figure size 432x288 with 1 Axes>"
      ]
     },
     "metadata": {
      "needs_background": "light"
     },
     "output_type": "display_data"
    }
   ],
   "source": [
    "lambdas = np.concatenate([[0], np.geomspace(1e-13, 10, 5)])\n",
    "\n",
    "print(\"lambda     \", f\"\".join([f\"x^{i:<11d}\" for i in range(len(X[0]), 0, -1)]))\n",
    "for lam in lambdas:\n",
    "    l2p = np.linalg.solve(\n",
    "        Z.T @ Z + lam * np.eye(len(Z[0])), Z.T @ w\n",
    "    )  # for ridge regression\n",
    "    p = np.zeros(len(X[0]))\n",
    "    p[len(X[0] + 2) - len(l2p) :] = l2p\n",
    "    # This way of printing is to get columnar output\n",
    "    print(f\"{lam:8.2g}\", f\"\".join([f\"{j: 12.2f}\" for j in p]))\n",
    "    plt.plot(x, y, \"b.\")\n",
    "    plt.plot(x, (Z @ l2p) * ystd + ymean, label=f\"{lam:1.2g}\")\n",
    "plt.legend();"
   ]
  },
  {
   "cell_type": "markdown",
   "metadata": {
    "id": "7Nqt6bI7SlEh"
   },
   "source": [
    "One way people have evaluated a reasonable value of &lambda; is to look at how the coefficients vary with &lambda; using a *ridge plot*. In this plot, you look for a range that balances the large swings associated with regular unconstrained regression and the damping caused by large values of &lambda;. Here a value of $10^{-6} \\le \\lambda \\le 10^{-8}$ would be considered reasonable."
   ]
  },
  {
   "cell_type": "code",
   "execution_count": null,
   "metadata": {
    "colab": {
     "base_uri": "https://localhost:8080/",
     "height": 285
    },
    "executionInfo": {
     "elapsed": 535,
     "status": "ok",
     "timestamp": 1636641536181,
     "user": {
      "displayName": "John Kitchin",
      "photoUrl": "https://lh3.googleusercontent.com/a/default-user=s64",
      "userId": "14782011281593705406"
     },
     "user_tz": 300
    },
    "id": "B90cms8kSlEi",
    "outputId": "73729b80-ff3e-4379-a0de-6caca614cacd"
   },
   "outputs": [
    {
     "data": {
      "image/png": "[encoded data removed]",
      "text/plain": [
       "<Figure size 432x288 with 1 Axes>"
      ]
     },
     "metadata": {
      "needs_background": "light"
     },
     "output_type": "display_data"
    }
   ],
   "source": [
    "lambdas = np.geomspace(1e-8, 1)\n",
    "\n",
    "pars = np.zeros((11, len(lambdas)))\n",
    "\n",
    "for i, lam in enumerate(lambdas):\n",
    "    l2p = np.linalg.solve(Z.T @ Z + lam * np.eye(len(Z[0])), Z.T @ w)\n",
    "    pars[:, i] = l2p\n",
    "\n",
    "plt.semilogx(lambdas, pars.T)\n",
    "plt.xlabel(r\"$\\lambda$\")\n",
    "plt.ylabel(\"parameters\");"
   ]
  },
  {
   "cell_type": "markdown",
   "metadata": {
    "id": "bt4hXmb6SlEm"
   },
   "source": [
    "### LASSO regression\n",
    "\n"
   ]
  },
  {
   "cell_type": "markdown",
   "metadata": {
    "id": "aOcXiWQGSlEn"
   },
   "source": [
    "In LASSO regression, we seek to minimize the summed squared errors *plus* the sum of the absolute value of the parameters. Unlike linear least squares regression and ridge regression, there is no analytical solution to get the parameters; they can only be obtained numerically using an iterative solver. We again have a parameter &lambda; we have to choose. Setting this parameter to zero will be equivalent to normal linear regression. Setting this parameter to infinity will again cause all coefficients to go to zero. We again have to find a balance.\n",
    "\n"
   ]
  },
  {
   "cell_type": "code",
   "execution_count": null,
   "metadata": {
    "colab": {
     "base_uri": "https://localhost:8080/",
     "height": 300
    },
    "executionInfo": {
     "elapsed": 393,
     "status": "ok",
     "timestamp": 1636641730624,
     "user": {
      "displayName": "John Kitchin",
      "photoUrl": "https://lh3.googleusercontent.com/a/default-user=s64",
      "userId": "14782011281593705406"
     },
     "user_tz": 300
    },
    "id": "albph08oSlEo",
    "outputId": "157a4883-da63-45de-b587-1e040b8f8d1d"
   },
   "outputs": [
    {
     "name": "stdout",
     "output_type": "stream",
     "text": [
      "Optimization terminated successfully. [-0.812  1.533  0.     0.23  -0.559  0.395  1.133 -1.884 -1.607 -0.\n",
      "  0.792]\n"
     ]
    },
    {
     "data": {
      "image/png": "[encoded data removed]",
      "text/plain": [
       "<Figure size 432x288 with 1 Axes>"
      ]
     },
     "metadata": {
      "needs_background": "light"
     },
     "output_type": "display_data"
    }
   ],
   "source": [
    "def objective(pars, lam=0.0):\n",
    "    SSE = np.sum(np.square(y - ((Z @ pars) * ystd + ymean)))\n",
    "    return SSE + lam * np.sum(np.abs(pars))\n",
    "\n",
    "\n",
    "from scipy.optimize import minimize\n",
    "\n",
    "sol = minimize(\n",
    "    objective,\n",
    "    np.random.random(len(Z[0])),\n",
    "    args=(0.15,),\n",
    "    method=\"nelder-mead\",\n",
    "    options={\"maxiter\": 5000},\n",
    ")\n",
    "\n",
    "with np.printoptions(\n",
    "    suppress=True, precision=3\n",
    "):  # prints small numbers as practically zero\n",
    "    print(sol.message, sol.x)\n",
    "\n",
    "plt.plot(x, y, \"b.\")\n",
    "plt.plot(x, (Z @ sol.x) * ystd + ymean);"
   ]
  },
  {
   "cell_type": "markdown",
   "metadata": {
    "id": "waIb5Hc6SlEt"
   },
   "source": [
    "Now, we can explore the effect of &lambda; more thoroughly.\n",
    "\n"
   ]
  },
  {
   "cell_type": "code",
   "execution_count": null,
   "metadata": {
    "colab": {
     "base_uri": "https://localhost:8080/",
     "height": 387
    },
    "executionInfo": {
     "elapsed": 930,
     "status": "ok",
     "timestamp": 1636641884314,
     "user": {
      "displayName": "John Kitchin",
      "photoUrl": "https://lh3.googleusercontent.com/a/default-user=s64",
      "userId": "14782011281593705406"
     },
     "user_tz": 300
    },
    "id": "q4t2Z8B4SlEu",
    "outputId": "b28c72e4-ac67-4785-917f-2fb617213d98"
   },
   "outputs": [
    {
     "name": "stdout",
     "output_type": "stream",
     "text": [
      "lambda      x^11         x^10         x^9          x^8          x^7          x^6          x^5          x^4          x^3          x^2          x^1          \n",
      "       0       134.63     -295.25       -1.75      290.42      107.87     -323.66     -173.70      512.28     -335.06       92.05       -8.61\n",
      "   1e-05        60.94     -139.77      -10.30      182.93       17.71     -166.18      -93.72      304.69     -211.97       60.23       -5.35\n",
      " 0.00032         0.08       -0.00        0.00       -0.38        0.00       -0.00        2.89        0.27       -4.76       -0.53        1.65\n",
      "    0.01        -0.05       -0.00       -0.00        0.01        0.43        0.70       -0.00        0.00       -1.11       -2.82        2.07\n",
      "    0.32         0.21        0.33        0.03        0.02        0.01        0.00       -0.01       -0.00       -1.98       -0.03        0.62\n",
      "      10        -0.00        0.00       -0.00        0.00       -0.00       -0.00       -0.00       -0.01       -0.73       -0.00       -0.00\n"
     ]
    },
    {
     "data": {
      "image/png": "[encoded data removed]",
      "text/plain": [
       "<Figure size 432x288 with 1 Axes>"
      ]
     },
     "metadata": {
      "needs_background": "light"
     },
     "output_type": "display_data"
    }
   ],
   "source": [
    "lambdas = np.concatenate([[0], np.geomspace(1e-5, 10, 5)])\n",
    "\n",
    "print(\"lambda     \", f\"\".join([f\"x^{i:<11d}\" for i in range(len(X[0]), 0, -1)]))\n",
    "for lam in lambdas:\n",
    "    sol = minimize(\n",
    "        objective, np.random.random(len(Z[0])), (lam,), options={\"maxiter\": 5000}\n",
    "    )\n",
    "\n",
    "    # This way of printing is to get columnar output\n",
    "    print(f\"{lam:8.2g}\", f\"\".join([f\"{j: 12.2f}\" for j in sol.x]))\n",
    "    plt.plot(x, y, \"b.\")\n",
    "    plt.plot(x, (Z @ sol.x) * ystd + ymean, label=f\"{lam:1.2g}\")\n",
    "plt.legend();"
   ]
  },
  {
   "cell_type": "markdown",
   "metadata": {
    "id": "D_4_FQriSlEz"
   },
   "source": [
    "You can see that by increasing &lambda; we are making more and more of the parameters go to zero; in other words the functions they correspond to are not part of the model any longer. This is called sparsifying the model. It reduces over-fitting by reducing the model complexity. Finding the most suitable value for &lambda; requires some sophisticated programming and analysis, and it is an important topic in machine learning and data science.\n",
    "\n",
    "LASSO has some important benefits, and some disadvantanges. The benefits include sparsification of the model; the method removes inputs that are not needed, or that are highly correlated with other inputs. This can make models more interpretable as there are fewer terms, and the terms are more independent.\n",
    "\n",
    "The disadvantages, however, are that we cannot use linear algebra to find the parameters. The penalty imposes a nonlinear behavior to the objective function, so we must use an iterative solver. For features that are correlated, we have no control over which feature is eliminated. Different initial guesses may lead to different feature elimination. If the features are really correlated, this will not affect the fit quality, but it will mean some models favor one feature over another. This is less of a problem in polynomial models, but often a problem in models based on physical properties that are correlated, e.g. high melting points of materials tend to be correlated with how hard they are. With LASSO, one model could favor the melting point and another could favor the hardness.\n",
    "\n"
   ]
  },
  {
   "cell_type": "markdown",
   "metadata": {
    "id": "_aLnvF_XSlE0"
   },
   "source": [
    "### Advanced selection of $\\lambda$\n",
    "\n"
   ]
  },
  {
   "cell_type": "markdown",
   "metadata": {
    "id": "8pnfiP56SlE1"
   },
   "source": [
    "A more advanced way to select a value of &lambda; is called k-fold validation. It is complex to code this, and the standard method to do it is in [scikit-learn](https://scikit-learn.org/stable/index.html), see specifically the [ridge regression example](https://scikit-learn.org/stable/modules/linear_model.html#ridge-regression) and the  [LASSO example](https://scikit-learn.org/stable/modules/linear_model.html#lasso). The basic idea is that you split your data set into $k$ *folds*, and then you fit $k-1$ folds to get the paramters. On the remaining fold (which was not used for fitting) you estimate the model errors. Initially with no regularization, the errors will be high due to overfitting. As you add regularization, the errors will begin decrease. Eventually though, the model will start underfitting, and the errors will go back up. The &lambda; that provides the lowest test errors is usually considered the best choice.\n",
    "\n",
    "We will not cover these more advanced methods as they rely on learning the scikit-learn API in depth, and some other higher level Python libraries we have not covered like Pandas. These are more appropriate in a data science/machine learning focused course.\n",
    "\n"
   ]
  },
  {
   "cell_type": "markdown",
   "metadata": {
    "id": "FRQYarm2SlE1"
   },
   "source": [
    "## Summary\n",
    "\n"
   ]
  },
  {
   "cell_type": "markdown",
   "metadata": {
    "id": "KKaRme7SSlE3"
   },
   "source": [
    "In this lecture we introduced the concept of linear regression. In the normal linear regression, we simply solve linear equations that ultimately minimize the summed squared errors between the model and data. With some additional linear algebra, we can also estimate the confidence intervals on the parameters.\n",
    "\n",
    "One issue with normal linear regression is that the parameters are unconstrained, which can lead to some functions having undesirably large parameters. We introduced two types of *regularization* to mitigate this issue: ridge regression and LASSO regression. In both cases, a penalty function is added to the objective function being minimized. In ridge regression the penalty is an L2 norm on the parameters which penalizes large parameters, leading to a reduction in their magnitude. In LASSO reduction the penalty is an L1 norm, which drives parameters towards zero. Both methods rely on a hyperparameter &lambda; that determines how much regularization is applied. With both regularization approaches we have to use some judgment in how much regularization to apply (the magnitude of &lambda;), and we only provided a heuristic approach to doing this.\n",
    "\n"
   ]
  }
 ],
 "metadata": {
  "colab": {
   "collapsed_sections": [],
   "name": "18-linear-regression.ipynb",
   "provenance": []
  },
  "kernelspec": {
   "display_name": "Python 3.9.7 ('base')",
   "language": "python",
   "name": "python3"
  },
  "language_info": {
   "codemirror_mode": {
    "name": "ipython",
    "version": 3
   },
   "file_extension": ".py",
   "mimetype": "text/x-python",
   "name": "python",
   "nbconvert_exporter": "python",
   "pygments_lexer": "ipython3",
   "version": "3.9.7"
  },
  "org": {
   "KEYWORDS": "numpy.linalg.solve"
  },
  "vscode": {
   "interpreter": {
    "hash": "d4d1e4263499bec80672ea0156c357c1ee493ec2b1c70f0acce89fc37c4a6abe"
   }
  }
 },
 "nbformat": 4,
 "nbformat_minor": 0
}
