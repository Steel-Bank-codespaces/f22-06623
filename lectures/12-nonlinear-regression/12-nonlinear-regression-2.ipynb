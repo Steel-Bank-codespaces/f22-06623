{
 "cells": [
  {
   "cell_type": "markdown",
   "metadata": {
    "id": "BifDKjLOVDQQ"
   },
   "source": [
    "![out-liar](https://i2.wp.com/oklahomaanalytics.com/wp-content/uploads/2016/12/outlier-pic-1.jpg?w=589)"
   ]
  },
  {
   "cell_type": "markdown",
   "metadata": {
    "id": "llFyMH60ObM9"
   },
   "source": [
    "## Uncertainty estimates from curvefit and scipy.optimize.minimize\n",
    "\n"
   ]
  },
  {
   "cell_type": "markdown",
   "metadata": {
    "id": "CRZrWVKbObNA"
   },
   "source": [
    "We previously examined how to estimate uncertainty from the covariance matrix returned from curve_fit. Recall we need the diagonal of the covariance matrix, which is estimated during the fitting.  The covariance matrix is related to the inverse Hessian matrix. We will explore how these are related here.\n",
    "\n",
    "We will consider fitting a line to the following data."
   ]
  },
  {
   "cell_type": "code",
   "execution_count": 13,
   "metadata": {
    "executionInfo": {
     "elapsed": 286,
     "status": "ok",
     "timestamp": 1634646813461,
     "user": {
      "displayName": "John Kitchin",
      "photoUrl": "https://lh3.googleusercontent.com/a/default-user=s64",
      "userId": "14782011281593705406"
     },
     "user_tz": 240
    },
    "id": "Jxo3DVOGipK3"
   },
   "outputs": [],
   "source": [
    "from scipy.optimize import least_squares\n",
    "?least_squares"
   ]
  },
  {
   "cell_type": "code",
   "execution_count": 11,
   "metadata": {
    "executionInfo": {
     "elapsed": 286,
     "status": "ok",
     "timestamp": 1634646767812,
     "user": {
      "displayName": "John Kitchin",
      "photoUrl": "https://lh3.googleusercontent.com/a/default-user=s64",
      "userId": "14782011281593705406"
     },
     "user_tz": 240
    },
    "id": "AOu7UzyciiHG"
   },
   "outputs": [],
   "source": [
    "?curve_fit"
   ]
  },
  {
   "cell_type": "code",
   "execution_count": 16,
   "metadata": {
    "colab": {
     "base_uri": "https://localhost:8080/"
    },
    "executionInfo": {
     "elapsed": 268,
     "status": "ok",
     "timestamp": 1634646870395,
     "user": {
      "displayName": "John Kitchin",
      "photoUrl": "https://lh3.googleusercontent.com/a/default-user=s64",
      "userId": "14782011281593705406"
     },
     "user_tz": 240
    },
    "id": "E7BkqTbqObNC",
    "outputId": "af1b9e15-545e-47bc-9e65-82e47e2e817e"
   },
   "outputs": [
    {
     "name": "stdout",
     "output_type": "stream",
     "text": [
      "[0.2404     1.14399999]\n",
      "[[ 0.004 -0.022]\n",
      " [-0.022  0.162]]\n"
     ]
    }
   ],
   "source": [
    "import numpy as np\n",
    "from scipy.optimize import curve_fit\n",
    "\n",
    "x = np.array([0.0, 2.5, 5.0, 7.5, 10.0])\n",
    "y = np.array([1.14, 1.91, 2.48, 2.2, 4.0])\n",
    "\n",
    "\n",
    "def model(x, m, b):\n",
    "    return m * x + b\n",
    "\n",
    "\n",
    "p, pcov = curve_fit(model, x, y, [0.2, 0.1], ftol=1e-9, xtol=1e-9, gtol=1e-9)\n",
    "print(p)\n",
    "with np.printoptions(precision=3):\n",
    "    print(pcov)"
   ]
  },
  {
   "cell_type": "markdown",
   "metadata": {
    "id": "FNvghEJPObNU"
   },
   "source": [
    "`scipy.optimize.minimize` does not return the covariance matrix; with *some* of the methods, it returns an estimate of the inverse Hessian matrix. In theory, the covariance matrix and the inverse hessian are related to each other with $cov = 0.5 * H^{-1}$. Note this relationship is specific to the minimization of the summed squared errors.\n",
    "\n"
   ]
  },
  {
   "cell_type": "code",
   "execution_count": 6,
   "metadata": {
    "colab": {
     "base_uri": "https://localhost:8080/"
    },
    "executionInfo": {
     "elapsed": 328,
     "status": "ok",
     "timestamp": 1634646650155,
     "user": {
      "displayName": "John Kitchin",
      "photoUrl": "https://lh3.googleusercontent.com/a/default-user=s64",
      "userId": "14782011281593705406"
     },
     "user_tz": 240
    },
    "id": "tK8NUV_qObNW",
    "outputId": "ecfc28fb-f82b-4224-8a61-801faf650bca"
   },
   "outputs": [
    {
     "name": "stdout",
     "output_type": "stream",
     "text": [
      "[0.2404     1.14399998]\n",
      "[[ 0.01  -0.066]\n",
      " [-0.066  0.491]]\n"
     ]
    }
   ],
   "source": [
    "from scipy.optimize import minimize\n",
    "\n",
    "\n",
    "def model(pars, _x):\n",
    "    _x = np.array(_x)\n",
    "    m, b = pars\n",
    "    return m * _x + b\n",
    "\n",
    "\n",
    "def objective(pars):\n",
    "    errs = y - model(pars, x)\n",
    "    return np.sum(errs**2)\n",
    "\n",
    "\n",
    "sol = minimize(objective, [0.2, 1])\n",
    "print(sol.x)\n",
    "\n",
    "with np.printoptions(precision=3):\n",
    "    print(0.5 * sol.hess_inv)"
   ]
  },
  {
   "cell_type": "markdown",
   "metadata": {
    "id": "liRmZ4ZFObNj"
   },
   "source": [
    "That doesn't look very good. **But**, remember that it is an *estimate* of the Hessian and we need to be careful about the accuracy. The minimizer terminates when the solution reaches the tolerance, *not* when the Hessian is accurate! If we make the tolerance smaller, we get a more accurate result.\n",
    "\n"
   ]
  },
  {
   "cell_type": "code",
   "execution_count": 7,
   "metadata": {
    "executionInfo": {
     "elapsed": 310,
     "status": "ok",
     "timestamp": 1634646686180,
     "user": {
      "displayName": "John Kitchin",
      "photoUrl": "https://lh3.googleusercontent.com/a/default-user=s64",
      "userId": "14782011281593705406"
     },
     "user_tz": 240
    },
    "id": "lWt8ivBVLRlp"
   },
   "outputs": [],
   "source": [
    "?minimize"
   ]
  },
  {
   "cell_type": "code",
   "execution_count": 10,
   "metadata": {
    "colab": {
     "base_uri": "https://localhost:8080/"
    },
    "executionInfo": {
     "elapsed": 431,
     "status": "ok",
     "timestamp": 1634646748790,
     "user": {
      "displayName": "John Kitchin",
      "photoUrl": "https://lh3.googleusercontent.com/a/default-user=s64",
      "userId": "14782011281593705406"
     },
     "user_tz": 240
    },
    "id": "bUFJT4OJObNm",
    "outputId": "5bd31a2b-5a28-403a-85bb-646f8122f42e"
   },
   "outputs": [
    {
     "name": "stdout",
     "output_type": "stream",
     "text": [
      "[0.24039999 1.144     ]\n",
      "[[ 0.004 -0.023]\n",
      " [-0.023  0.171]]\n"
     ]
    }
   ],
   "source": [
    "sol = minimize(objective, [0.2, 1], tol=1e-12)\n",
    "print(sol.x)\n",
    "with np.printoptions(precision=3):\n",
    "    print(0.5 * sol.hess_inv)"
   ]
  },
  {
   "cell_type": "code",
   "execution_count": null,
   "metadata": {
    "id": "EWJp1Gd3L1hN"
   },
   "outputs": [],
   "source": [
    "??curve_fit"
   ]
  },
  {
   "cell_type": "markdown",
   "metadata": {
    "id": "BxnvuNdGObNx"
   },
   "source": [
    "With the increased accuracy, you can see the covariance is approximately equal to 1/2 the inverse Hessian. That means you can use it to estimate the uncertainty in the same way we did with curve\\_fit.\n",
    "\n",
    "Not all solvers generate the inverse Hessian matrix, e.g. `SLSQP` does not do it. You have three options. One is always to compute the Hessian analytically. The other two options rely on libraries that use automatic differentiation to compute the relevant derivatives. One is to use numdifftools (which you may have to install). Either way, you have to compute the Hessian on the objective function that is being minimized. One way to get this is to use a numerical package designed to compute this. We can use [numdifftools](https://numdifftools.readthedocs.io/en/latest/) for this."
   ]
  },
  {
   "cell_type": "markdown",
   "metadata": {
    "id": "PogisY3KObN-"
   },
   "source": [
    "Now, similar to what we did with `scipy.misc.derivative`, we can write a function and then use numdifftools to get the Hessian of the function. Here, we define the sum of the squared errors function, then create a Hessian function for that. We can use the Hessian function to evaluate the Hessian at the parameters at the minimum. We use `numpy.linalg.inv` to get the inverse of the Hessian to compute the covariance.\n",
    "\n"
   ]
  },
  {
   "cell_type": "code",
   "execution_count": 1,
   "metadata": {
    "colab": {
     "base_uri": "https://localhost:8080/"
    },
    "executionInfo": {
     "elapsed": 269,
     "status": "ok",
     "timestamp": 1634647034153,
     "user": {
      "displayName": "John Kitchin",
      "photoUrl": "https://lh3.googleusercontent.com/a/default-user=s64",
      "userId": "14782011281593705406"
     },
     "user_tz": 240
    },
    "id": "5a9zEbogObOA",
    "outputId": "8e4bee2e-6393-4c90-917f-a06284262209"
   },
   "outputs": [
    {
     "ename": "NameError",
     "evalue": "name 'np' is not defined",
     "output_type": "error",
     "traceback": [
      "\u001b[0;31m---------------------------------------------------------------------------\u001b[0m",
      "\u001b[0;31mNameError\u001b[0m                                 Traceback (most recent call last)",
      "\u001b[0;32m/tmp/ipykernel_4259/2460715904.py\u001b[0m in \u001b[0;36m<module>\u001b[0;34m\u001b[0m\n\u001b[1;32m      6\u001b[0m \u001b[0;34m\u001b[0m\u001b[0m\n\u001b[1;32m      7\u001b[0m \u001b[0mH\u001b[0m \u001b[0;34m=\u001b[0m \u001b[0mnd\u001b[0m\u001b[0;34m.\u001b[0m\u001b[0mHessian\u001b[0m\u001b[0;34m(\u001b[0m\u001b[0mf\u001b[0m\u001b[0;34m)\u001b[0m  \u001b[0;31m# H is an executable function now that takes one argument, the pars.\u001b[0m\u001b[0;34m\u001b[0m\u001b[0;34m\u001b[0m\u001b[0m\n\u001b[0;32m----> 8\u001b[0;31m \u001b[0;36m0.5\u001b[0m \u001b[0;34m*\u001b[0m \u001b[0mnp\u001b[0m\u001b[0;34m.\u001b[0m\u001b[0mlinalg\u001b[0m\u001b[0;34m.\u001b[0m\u001b[0minv\u001b[0m\u001b[0;34m(\u001b[0m\u001b[0mH\u001b[0m\u001b[0;34m(\u001b[0m\u001b[0mp\u001b[0m\u001b[0;34m)\u001b[0m\u001b[0;34m)\u001b[0m\u001b[0;34m\u001b[0m\u001b[0;34m\u001b[0m\u001b[0m\n\u001b[0m",
      "\u001b[0;31mNameError\u001b[0m: name 'np' is not defined"
     ]
    }
   ],
   "source": [
    "import numdifftools as nd\n",
    "\n",
    "\n",
    "def f(pars):\n",
    "    m, b = pars\n",
    "    return np.sum((y - (m * x + b)) ** 2)\n",
    "\n",
    "\n",
    "H = nd.Hessian(f)  # H is an executable function now that takes one argument, the pars.\n",
    "0.5 * np.linalg.inv(H(p))"
   ]
  },
  {
   "cell_type": "code",
   "execution_count": 27,
   "metadata": {
    "colab": {
     "base_uri": "https://localhost:8080/"
    },
    "executionInfo": {
     "elapsed": 374,
     "status": "ok",
     "timestamp": 1634647717902,
     "user": {
      "displayName": "John Kitchin",
      "photoUrl": "https://lh3.googleusercontent.com/a/default-user=s64",
      "userId": "14782011281593705406"
     },
     "user_tz": 240
    },
    "id": "nmhsM109kuox",
    "outputId": "ab995538-a0f7-4c02-f648-4a2c40f9b770"
   },
   "outputs": [
    {
     "name": "stdout",
     "output_type": "stream",
     "text": [
      "-2.3704986791273086e-06\n",
      "375.0\n"
     ]
    },
    {
     "data": {
      "text/plain": [
       "array([[375.,  50.],\n",
       "       [ 50.,  10.]])"
      ]
     },
     "execution_count": 27,
     "metadata": {},
     "output_type": "execute_result"
    }
   ],
   "source": [
    "# Work out the analytical solution here.\n",
    "# 2 * (y - (mx + b)) * -x  #J(m)\n",
    "# -2x * y + 2x*(mx +b)\n",
    "# 2m x2\n",
    "m, b = sol.x\n",
    "print(np.sum(2 * (y - (m * x + b)) * -x))\n",
    "print(np.sum(2 * x**2))\n",
    "H(sol.x)"
   ]
  },
  {
   "cell_type": "markdown",
   "metadata": {
    "id": "0Ma1rvaHObOL"
   },
   "source": [
    "`numdifftools` ([https://pypi.org/project/numdifftools/](https://pypi.org/project/numdifftools/)) is a numerical differentiation package. It is more sophisticated than `scipy.misc.derivative` but is fundamentally still a numerical approximation to the derivatives. Now you can use these to estimate the uncertainties even for optimizers that don't provide the estimated inverse Hessian.\n",
    "\n",
    "Later we will learn about one more approach to getting the derivatives that is used in machine learning called automatic differentiation.\n",
    "\n"
   ]
  },
  {
   "cell_type": "markdown",
   "metadata": {
    "id": "IUXGkfnEObOM"
   },
   "source": [
    "## Effects of outliers on regression\n",
    "\n"
   ]
  },
  {
   "cell_type": "markdown",
   "metadata": {
    "id": "sZieBEcLObOO"
   },
   "source": [
    "Outliers can have a significant effect on the fit of a model to data. Let's consider this example, where we want to fit a line to some data that has an outlier in it. This is just a linear regression, and we start out using `numpy.polyfit`.\n",
    "\n"
   ]
  },
  {
   "cell_type": "code",
   "execution_count": 32,
   "metadata": {
    "colab": {
     "base_uri": "https://localhost:8080/",
     "height": 296
    },
    "executionInfo": {
     "elapsed": 338,
     "status": "ok",
     "timestamp": 1634648146673,
     "user": {
      "displayName": "John Kitchin",
      "photoUrl": "https://lh3.googleusercontent.com/a/default-user=s64",
      "userId": "14782011281593705406"
     },
     "user_tz": 240
    },
    "id": "hCCyxlcSObOR",
    "outputId": "aecce95e-993e-4f1b-f2d3-b0229725e7b1"
   },
   "outputs": [
    {
     "name": "stdout",
     "output_type": "stream",
     "text": [
      "[0.2404 1.144 ]\n"
     ]
    },
    {
     "data": {
      "image/png": "[encoded data removed]",
      "text/plain": [
       "<Figure size 432x288 with 1 Axes>"
      ]
     },
     "metadata": {
      "needs_background": "light"
     },
     "output_type": "display_data"
    }
   ],
   "source": [
    "import numpy as np\n",
    "import matplotlib.pyplot as plt\n",
    "\n",
    "x = [0.0, 2.5, 5.0, 7.5, 10.0]\n",
    "y = [1.14, 1.91, 2.48, 2.2, 4.0]\n",
    "#                            ^\n",
    "#                            |\n",
    "#                         outlier\n",
    "\n",
    "p = np.polyfit(x, y, 1)\n",
    "print(p)\n",
    "xfit = np.linspace(0, 10)\n",
    "\n",
    "plt.plot(x, y, \"bo\")\n",
    "plt.plot(xfit, np.polyval(p, xfit))\n",
    "plt.xlabel(\"x\")\n",
    "plt.ylabel(\"y\");"
   ]
  },
  {
   "cell_type": "markdown",
   "metadata": {
    "id": "f4smP2TcObOb"
   },
   "source": [
    "You can see that the fitted line is \"dragged\" towards the outlier. We say that least squares minimization is not *robust* to outliers.\n",
    "\n",
    "This may be undesirable because if you believe there is an outlier, perhaps due to experimental error, then this point affects the accuracy of the model more than the other points you believe to be more accurate.\n",
    "\n",
    "Today we will consider a variety of approaches to minimize the effects of outliers. We first begin by re-examining how these parameters are obtained. Here, we illustrate that the results from polyfit are equivalent to minimizing the summed squared errors between the model and the data."
   ]
  },
  {
   "cell_type": "code",
   "execution_count": 34,
   "metadata": {
    "colab": {
     "base_uri": "https://localhost:8080/",
     "height": 282
    },
    "executionInfo": {
     "elapsed": 623,
     "status": "ok",
     "timestamp": 1634648455907,
     "user": {
      "displayName": "John Kitchin",
      "photoUrl": "https://lh3.googleusercontent.com/a/default-user=s64",
      "userId": "14782011281593705406"
     },
     "user_tz": 240
    },
    "id": "SWu1Sb6YObOd",
    "outputId": "89e11686-02f4-4e67-ed9e-10cf3e59f5b1"
   },
   "outputs": [
    {
     "data": {
      "text/plain": [
       "[<matplotlib.lines.Line2D at 0x7fbfe333f050>]"
      ]
     },
     "execution_count": 34,
     "metadata": {},
     "output_type": "execute_result"
    },
    {
     "data": {
      "image/png": "[encoded data removed]",
      "text/plain": [
       "<Figure size 432x288 with 1 Axes>"
      ]
     },
     "metadata": {
      "needs_background": "light"
     },
     "output_type": "display_data"
    }
   ],
   "source": [
    "from scipy.optimize import minimize\n",
    "\n",
    "\n",
    "def model(pars, x):\n",
    "    x = np.array(x)  # this just makes sure that x is an array\n",
    "    m, b = pars\n",
    "    return m * x + b\n",
    "\n",
    "\n",
    "def objective(pars):\n",
    "    errs = y - model(pars, x)\n",
    "    return np.sum(errs**2)\n",
    "\n",
    "\n",
    "sol = minimize(objective, [0.2, 1])\n",
    "\n",
    "plt.plot(x, y, \"ro\")\n",
    "X = np.linspace(min(x), max(x))\n",
    "plt.plot(X, model(sol.x, X));"
   ]
  },
  {
   "cell_type": "markdown",
   "metadata": {
    "id": "gET-_qs2ObOm"
   },
   "source": [
    "The problem is that we are minimizing the error<sup>2</sup>, which puts more weight on large errors than small errors.\n",
    "\n",
    "Least squares regression is also called L<sub>2</sub> norm regression, that is we minimize the L<sub>2</sub> norm of the error vector.\n",
    "\n"
   ]
  },
  {
   "cell_type": "markdown",
   "metadata": {
    "id": "bkwNxnyvQjAa"
   },
   "source": [
    "Sum of error squared = dot(err, err) = err @ err"
   ]
  },
  {
   "cell_type": "markdown",
   "metadata": {
    "id": "mbhwAAoaObOn"
   },
   "source": [
    "### Minimizing the summed absolute errors\n",
    "\n"
   ]
  },
  {
   "cell_type": "markdown",
   "metadata": {
    "id": "eSBZxLFEObOp"
   },
   "source": [
    "We can choose to minimize another objective function, for example the summed absolute value of the errors. This will reduce the emphasis on large errors. This is  also called L<sub>1</sub> norm regression.\n",
    "\n"
   ]
  },
  {
   "cell_type": "code",
   "execution_count": 38,
   "metadata": {
    "colab": {
     "base_uri": "https://localhost:8080/",
     "height": 298
    },
    "executionInfo": {
     "elapsed": 591,
     "status": "ok",
     "timestamp": 1634648731691,
     "user": {
      "displayName": "John Kitchin",
      "photoUrl": "https://lh3.googleusercontent.com/a/default-user=s64",
      "userId": "14782011281593705406"
     },
     "user_tz": 240
    },
    "id": "CGlhjhc0ObOq",
    "outputId": "b5d58126-ce1b-403f-ea58-70e2aa2ce803"
   },
   "outputs": [
    {
     "name": "stdout",
     "output_type": "stream",
     "text": [
      "[0.26845682 1.14      ]\n",
      "1.230000002431845\n"
     ]
    },
    {
     "data": {
      "image/png": "[encoded data removed]",
      "text/plain": [
       "<Figure size 432x288 with 1 Axes>"
      ]
     },
     "metadata": {
      "needs_background": "light"
     },
     "output_type": "display_data"
    }
   ],
   "source": [
    "def objective(pars):\n",
    "    errs = y - model(pars, x)\n",
    "    return np.sum(np.abs(errs))\n",
    "\n",
    "\n",
    "L1_sol = minimize(objective, [0.2, 1])\n",
    "print(L1_sol.x)\n",
    "plt.plot(x, y, \"bo\")\n",
    "plt.plot(xfit, model(L1_sol.x, xfit))\n",
    "print(objective(L1_sol.x))"
   ]
  },
  {
   "cell_type": "markdown",
   "metadata": {
    "id": "0YjAt0KUObOw"
   },
   "source": [
    "There is a historical reason this is not done a lot, and that is the absolute value function has a discontinuity in its first derivative at the origin which can be problematic in some optimization algorithms. It is obviously not a problem here, and you can see that the outlier has less of an effect on the fitted line in this case.\n",
    "\n",
    "Finally, we can generalize these ideas to something called L<sub>p</sub> norm regressions where we seek to minimize:\n",
    "\n",
    "$\\sum |\\epsilon_i|^p$\n",
    "\n",
    "In [this paper](https://www.tandfonline.com/doi/abs/10.1080/00401706.1972.10488892) a value of $p=1.5$ is recommended for general use. Note this is less than two, and greater than one, so it is expected to have an intermediate effect compared to L<sub>1</sub> and L<sub>2</sub> norm regression.\n",
    "\n"
   ]
  },
  {
   "cell_type": "code",
   "execution_count": 39,
   "metadata": {
    "colab": {
     "base_uri": "https://localhost:8080/",
     "height": 282
    },
    "executionInfo": {
     "elapsed": 353,
     "status": "ok",
     "timestamp": 1634648903617,
     "user": {
      "displayName": "John Kitchin",
      "photoUrl": "https://lh3.googleusercontent.com/a/default-user=s64",
      "userId": "14782011281593705406"
     },
     "user_tz": 240
    },
    "id": "xq8pzpKWObOx",
    "outputId": "fa11f434-879a-4930-d04b-c1313b305da6"
   },
   "outputs": [
    {
     "name": "stdout",
     "output_type": "stream",
     "text": [
      "[0.25741034 1.15352086]\n"
     ]
    },
    {
     "data": {
      "image/png": "[encoded data removed]",
      "text/plain": [
       "<Figure size 432x288 with 1 Axes>"
      ]
     },
     "metadata": {
      "needs_background": "light"
     },
     "output_type": "display_data"
    }
   ],
   "source": [
    "def objective(pars):\n",
    "    p = 1.5\n",
    "    errs = y - model(pars, x)\n",
    "    return np.sum(np.abs(errs) ** p)\n",
    "\n",
    "\n",
    "Lp_sol = minimize(objective, [0.2, 1])\n",
    "print(Lp_sol.x)\n",
    "plt.plot(x, y, \"bo\")\n",
    "plt.plot(xfit, model(Lp_sol.x, xfit));"
   ]
  },
  {
   "cell_type": "markdown",
   "metadata": {
    "id": "er8hf-NVObO3"
   },
   "source": [
    "The downside of these approaches is that they complicate the analysis of uncertainty. The uncertainty analysis we have considered so far is only formally correct when we minimize the summed squared errors. It is only approximately correct when something else is minimized.\n",
    "\n"
   ]
  },
  {
   "cell_type": "markdown",
   "metadata": {
    "id": "27pFbFltObO4"
   },
   "source": [
    "### Robust regression approaches\n",
    "\n"
   ]
  },
  {
   "cell_type": "markdown",
   "metadata": {
    "id": "eE_6KMrjObO5"
   },
   "source": [
    "An alternative approach to least squares or absolute error minimization is called robust regression (see Applied Regression Analysis, 3rd edition, Draper and Smith, chapter 25). This is a class of methods that uses a different metric to minimize in the objective function.\n",
    "\n",
    "The simplest approach is to minimize the median of the squared error. Note that minimizing the sum of squared errors is practically like minimizing the average or mean squared error. If you have a symmetric distribution of errors, then the mean and median are practically the same. If there is an outlier, however, the mean will be skewed towards the outlier, while the median will be at a position that splits the distribution in half, and is closer to what you believe the mean to be.\n",
    "\n",
    "Here we show that given an asymmetric distribution, the median is smaller than the mean.\n",
    "\n"
   ]
  },
  {
   "cell_type": "code",
   "execution_count": 40,
   "metadata": {
    "colab": {
     "base_uri": "https://localhost:8080/",
     "height": 265
    },
    "executionInfo": {
     "elapsed": 874,
     "status": "ok",
     "timestamp": 1634649186104,
     "user": {
      "displayName": "John Kitchin",
      "photoUrl": "https://lh3.googleusercontent.com/a/default-user=s64",
      "userId": "14782011281593705406"
     },
     "user_tz": 240
    },
    "id": "lYfZML7mObO5",
    "outputId": "08b965ed-8811-4cb5-a84c-4c96069a9d79"
   },
   "outputs": [
    {
     "data": {
      "image/png": "[encoded data removed]",
      "text/plain": [
       "<Figure size 432x288 with 1 Axes>"
      ]
     },
     "metadata": {
      "needs_background": "light"
     },
     "output_type": "display_data"
    }
   ],
   "source": [
    "errs = np.array([0.1, 0.01, 0.05, 0.02, 0.8])\n",
    "s = errs**2\n",
    "plt.hist(s, density=True)\n",
    "plt.axvline(np.mean(s), color=\"r\")\n",
    "plt.axvline(np.median(s), color=\"k\")\n",
    "plt.legend([\"mean\", \"median\"])\n",
    "plt.xlabel(\"\")\n",
    "# this gets rid of the x-label"
   ]
  },
  {
   "cell_type": "markdown",
   "metadata": {
    "id": "7AapsfUYObO9"
   },
   "source": [
    "#### Least Median regression\n",
    "\n"
   ]
  },
  {
   "cell_type": "markdown",
   "metadata": {
    "id": "4XcHENL_ObO-"
   },
   "source": [
    "It is straightforward to modify the objective function to minimize the median of the squared errors.\n",
    "\n"
   ]
  },
  {
   "cell_type": "code",
   "execution_count": 41,
   "metadata": {
    "colab": {
     "base_uri": "https://localhost:8080/",
     "height": 282
    },
    "executionInfo": {
     "elapsed": 730,
     "status": "ok",
     "timestamp": 1634649328014,
     "user": {
      "displayName": "John Kitchin",
      "photoUrl": "https://lh3.googleusercontent.com/a/default-user=s64",
      "userId": "14782011281593705406"
     },
     "user_tz": 240
    },
    "id": "T9ifSp2UObO_",
    "outputId": "2537e326-4afa-4464-e8e8-b7cbd777e257"
   },
   "outputs": [
    {
     "name": "stdout",
     "output_type": "stream",
     "text": [
      "[0.28599999 1.16750001]\n"
     ]
    },
    {
     "data": {
      "image/png": "[encoded data removed]",
      "text/plain": [
       "<Figure size 432x288 with 1 Axes>"
      ]
     },
     "metadata": {
      "needs_background": "light"
     },
     "output_type": "display_data"
    }
   ],
   "source": [
    "def objective(pars):\n",
    "    errs = y - model(pars, x)\n",
    "    return np.median(errs**2)\n",
    "\n",
    "\n",
    "LMS_sol = minimize(objective, [-0.2, 1])\n",
    "print(LMS_sol.x)\n",
    "plt.plot(x, y, \"bo\")\n",
    "plt.plot(xfit, model(LMS_sol.x, xfit));"
   ]
  },
  {
   "cell_type": "markdown",
   "metadata": {
    "id": "FoLDzCQXObPC"
   },
   "source": [
    "### Weighted nonlinear regression\n",
    "\n"
   ]
  },
  {
   "cell_type": "markdown",
   "metadata": {
    "id": "MzfgwxjkObPE"
   },
   "source": [
    "Outliers often are associated with larger uncertainties about their values. An alternative approach to the methods described above is to use weights to say how important each data point is. This example is adapted from [https://www.mathworks.com/help/stats/examples/weighted-nonlinear-regression.html](https://www.mathworks.com/help/stats/examples/weighted-nonlinear-regression.html).\n",
    "\n"
   ]
  },
  {
   "cell_type": "code",
   "execution_count": 45,
   "metadata": {
    "colab": {
     "base_uri": "https://localhost:8080/",
     "height": 279
    },
    "executionInfo": {
     "elapsed": 303,
     "status": "ok",
     "timestamp": 1634649636404,
     "user": {
      "displayName": "John Kitchin",
      "photoUrl": "https://lh3.googleusercontent.com/a/default-user=s64",
      "userId": "14782011281593705406"
     },
     "user_tz": 240
    },
    "id": "_lCgg14AObPE",
    "outputId": "c344c6d6-17f3-47d5-a9a9-588bdba53f9f"
   },
   "outputs": [
    {
     "data": {
      "image/png": "[encoded data removed]",
      "text/plain": [
       "<Figure size 432x288 with 1 Axes>"
      ]
     },
     "metadata": {
      "needs_background": "light"
     },
     "output_type": "display_data"
    }
   ],
   "source": [
    "import numpy as np\n",
    "import matplotlib.pyplot as plt\n",
    "\n",
    "x = [1, 2, 3, 5, 7, 10]\n",
    "y = [109, 149, 149, 191, 213, 224]\n",
    "plt.plot(x, y, \"bo\")\n",
    "plt.xlabel(\"Incubation (days)\")\n",
    "plt.ylabel(\"BOD\");"
   ]
  },
  {
   "cell_type": "markdown",
   "metadata": {
    "id": "nCYvhg5wObPI"
   },
   "source": [
    "The aim of this work is to fit a nonlinear model $y= a (1 - e^{-b x})$ to this data. We first consider a standard minimization of the sum squared errors. Inspection of the model suggests at large x, $a$ is a plateau value, which we can read from the graph. For the value of $b$, we might estimate a half-life at about one day and solve $110 = 240(1 - e^{-b})$\n",
    "\n"
   ]
  },
  {
   "cell_type": "code",
   "execution_count": 46,
   "metadata": {
    "colab": {
     "base_uri": "https://localhost:8080/"
    },
    "executionInfo": {
     "elapsed": 339,
     "status": "ok",
     "timestamp": 1634649724641,
     "user": {
      "displayName": "John Kitchin",
      "photoUrl": "https://lh3.googleusercontent.com/a/default-user=s64",
      "userId": "14782011281593705406"
     },
     "user_tz": 240
    },
    "id": "jVF_MbGzObPI",
    "outputId": "75fb881b-8d67-4c44-de10-a7a96e89c327"
   },
   "outputs": [
    {
     "data": {
      "text/plain": [
       "0.6131044728864088"
      ]
     },
     "execution_count": 46,
     "metadata": {},
     "output_type": "execute_result"
    }
   ],
   "source": [
    "-np.log(-(110 / 240 - 1))"
   ]
  },
  {
   "cell_type": "code",
   "execution_count": 47,
   "metadata": {
    "colab": {
     "base_uri": "https://localhost:8080/",
     "height": 265
    },
    "executionInfo": {
     "elapsed": 478,
     "status": "ok",
     "timestamp": 1634649760300,
     "user": {
      "displayName": "John Kitchin",
      "photoUrl": "https://lh3.googleusercontent.com/a/default-user=s64",
      "userId": "14782011281593705406"
     },
     "user_tz": 240
    },
    "id": "uLy7hdjPVRzP",
    "outputId": "75f7d017-891c-478c-8a3f-01625968c963"
   },
   "outputs": [
    {
     "data": {
      "image/png": "[encoded data removed]",
      "text/plain": [
       "<Figure size 432x288 with 1 Axes>"
      ]
     },
     "metadata": {
      "needs_background": "light"
     },
     "output_type": "display_data"
    }
   ],
   "source": [
    "x = np.array(x)\n",
    "plt.plot(x, y, \"bo\", x, 220 * (1 - np.exp(-0.6 * x)));"
   ]
  },
  {
   "cell_type": "code",
   "execution_count": 53,
   "metadata": {
    "colab": {
     "base_uri": "https://localhost:8080/",
     "height": 279
    },
    "executionInfo": {
     "elapsed": 614,
     "status": "ok",
     "timestamp": 1634649951008,
     "user": {
      "displayName": "John Kitchin",
      "photoUrl": "https://lh3.googleusercontent.com/a/default-user=s64",
      "userId": "14782011281593705406"
     },
     "user_tz": 240
    },
    "id": "_tP3ZWXqObPM",
    "outputId": "32556914-51bf-41d0-d580-9e340093fec8"
   },
   "outputs": [
    {
     "data": {
      "image/png": "[encoded data removed]",
      "text/plain": [
       "<Figure size 432x288 with 1 Axes>"
      ]
     },
     "metadata": {
      "needs_background": "light"
     },
     "output_type": "display_data"
    }
   ],
   "source": [
    "def model(pars, x):\n",
    "    a, b = pars\n",
    "    x = np.array(x)\n",
    "    return a * (1 - np.exp(-b * x))\n",
    "\n",
    "\n",
    "def objective(pars):\n",
    "    errs = y - model(pars, x)\n",
    "    return np.median(errs**2)\n",
    "\n",
    "\n",
    "guesses = [240, 0.6]\n",
    "\n",
    "from scipy.optimize import minimize\n",
    "\n",
    "sol = minimize(objective, guesses)\n",
    "pars = sol.x\n",
    "\n",
    "plt.plot(x, y, \"bo\")\n",
    "xfit = np.linspace(0, 10)\n",
    "plt.plot(xfit, model(pars, xfit))\n",
    "plt.xlabel(\"Incubation (days)\")\n",
    "plt.ylabel(\"BOD\");"
   ]
  },
  {
   "cell_type": "markdown",
   "metadata": {
    "id": "WY5KZXSTObPQ"
   },
   "source": [
    "The fit generally goes through the data, but it is not clear if there is a small outlier near 2 that is skewing the fit, and perhaps leading to an inaccurate asymptote at long times.\n",
    "\n",
    "Suppose, however, that these data points represent averages from multiple measurements, and we only measured the first two points once, and the rest of the points 5 times. In this case, we might want to put more *weight* on the points we measured multiple times.\n",
    "\n",
    "We achieve this by modifying the objective function, in this case multiplying each error by the number of times the measurement was made. This makes reducing errors on points we measured a lot more important than the points we measured less.\n",
    "\n"
   ]
  },
  {
   "cell_type": "code",
   "execution_count": 54,
   "metadata": {
    "colab": {
     "base_uri": "https://localhost:8080/",
     "height": 296
    },
    "executionInfo": {
     "elapsed": 615,
     "status": "ok",
     "timestamp": 1634650053770,
     "user": {
      "displayName": "John Kitchin",
      "photoUrl": "https://lh3.googleusercontent.com/a/default-user=s64",
      "userId": "14782011281593705406"
     },
     "user_tz": 240
    },
    "id": "aXZ2oLQuObPQ",
    "outputId": "0210a740-46d0-4687-82e8-0a30683597b6"
   },
   "outputs": [
    {
     "name": "stdout",
     "output_type": "stream",
     "text": [
      "[230.77020592   0.35563067]\n"
     ]
    },
    {
     "data": {
      "image/png": "[encoded data removed]",
      "text/plain": [
       "<Figure size 432x288 with 1 Axes>"
      ]
     },
     "metadata": {
      "needs_background": "light"
     },
     "output_type": "display_data"
    }
   ],
   "source": [
    "w = np.array([1, 1, 5, 5, 5, 5])\n",
    "\n",
    "\n",
    "def objective(pars):\n",
    "    errs = (y - model(pars, x)) * w  # multiply the errors by the weights\n",
    "    return np.sum(errs**2)\n",
    "\n",
    "\n",
    "guesses = [240, 0.5]\n",
    "\n",
    "from scipy.optimize import minimize\n",
    "\n",
    "sol = minimize(objective, guesses)\n",
    "pars = sol.x\n",
    "print(pars)\n",
    "plt.plot(x, y, \"bo\")\n",
    "xfit = np.linspace(0, 10)\n",
    "plt.plot(xfit, model(pars, xfit))\n",
    "plt.xlabel(\"Incubation (days)\")\n",
    "plt.ylabel(\"BOD\");"
   ]
  },
  {
   "cell_type": "markdown",
   "metadata": {
    "id": "C2NgIPBQObPX"
   },
   "source": [
    "The result here is that the model fits the points we measured a lot better than the points we measured once.\n",
    "\n",
    "There are many ways you could choose to weight the points depending on what you know about them. If you have uncertainties about the measured data, you can weight the points accordingly, e.g. defining the weights as inversely proportional to the uncertainty.\n",
    "\n"
   ]
  },
  {
   "cell_type": "code",
   "execution_count": 55,
   "metadata": {
    "colab": {
     "base_uri": "https://localhost:8080/",
     "height": 296
    },
    "executionInfo": {
     "elapsed": 463,
     "status": "ok",
     "timestamp": 1634650171296,
     "user": {
      "displayName": "John Kitchin",
      "photoUrl": "https://lh3.googleusercontent.com/a/default-user=s64",
      "userId": "14782011281593705406"
     },
     "user_tz": 240
    },
    "id": "ighHECeXWs0H",
    "outputId": "960a64db-7336-40fc-d271-c08de356cae3"
   },
   "outputs": [
    {
     "name": "stdout",
     "output_type": "stream",
     "text": [
      "[230.12680918   0.3602567 ]\n"
     ]
    },
    {
     "data": {
      "image/png": "[encoded data removed]",
      "text/plain": [
       "<Figure size 432x288 with 1 Axes>"
      ]
     },
     "metadata": {
      "needs_background": "light"
     },
     "output_type": "display_data"
    }
   ],
   "source": [
    "se = np.array(\n",
    "    [12, 10, 3, 2, 4, 1]\n",
    ")  # these are uncertainties/std err on each measurement\n",
    "w = 1 / se  # weight is inversely proportional to the SE.\n",
    "\n",
    "\n",
    "def objective(pars):\n",
    "    errs = (y - model(pars, x)) * w  # multiply the errors by the weights\n",
    "    return np.sum(errs**2)\n",
    "\n",
    "\n",
    "guesses = [240, 0.5]\n",
    "\n",
    "from scipy.optimize import minimize\n",
    "\n",
    "sol = minimize(objective, guesses)\n",
    "pars = sol.x\n",
    "print(pars)\n",
    "plt.plot(x, y, \"bo\")\n",
    "xfit = np.linspace(0, 10)\n",
    "plt.plot(xfit, model(pars, xfit))\n",
    "plt.xlabel(\"Incubation (days)\")\n",
    "plt.ylabel(\"BOD\");"
   ]
  },
  {
   "cell_type": "markdown",
   "metadata": {
    "id": "crj4drZY06IK"
   },
   "source": [
    "you can see the errors like this."
   ]
  },
  {
   "cell_type": "code",
   "execution_count": 56,
   "metadata": {
    "colab": {
     "base_uri": "https://localhost:8080/"
    },
    "executionInfo": {
     "elapsed": 268,
     "status": "ok",
     "timestamp": 1634650204783,
     "user": {
      "displayName": "John Kitchin",
      "photoUrl": "https://lh3.googleusercontent.com/a/default-user=s64",
      "userId": "14782011281593705406"
     },
     "user_tz": 240
    },
    "id": "ab87zN5CZPqZ",
    "outputId": "9ee3edd4-0870-4093-ed7e-4156e2dd74f6"
   },
   "outputs": [
    {
     "data": {
      "text/plain": [
       "array([39.38600801, 30.83043984, -3.03693557, -1.13589688,  1.3558615 ,\n",
       "        0.14499123])"
      ]
     },
     "execution_count": 56,
     "metadata": {},
     "output_type": "execute_result"
    }
   ],
   "source": [
    "errs = y - model(pars, x)\n",
    "errs"
   ]
  },
  {
   "cell_type": "code",
   "execution_count": 57,
   "metadata": {
    "colab": {
     "base_uri": "https://localhost:8080/"
    },
    "executionInfo": {
     "elapsed": 331,
     "status": "ok",
     "timestamp": 1634650222976,
     "user": {
      "displayName": "John Kitchin",
      "photoUrl": "https://lh3.googleusercontent.com/a/default-user=s64",
      "userId": "14782011281593705406"
     },
     "user_tz": 240
    },
    "id": "St4OpJZAaJHM",
    "outputId": "30524fc7-ebd5-4112-8dbf-9d1e259ab6e5"
   },
   "outputs": [
    {
     "data": {
      "text/plain": [
       "1.6269414034040128"
      ]
     },
     "execution_count": 57,
     "metadata": {},
     "output_type": "execute_result"
    }
   ],
   "source": [
    "np.std(errs[2:])  # for the last 4 points"
   ]
  },
  {
   "cell_type": "code",
   "execution_count": 58,
   "metadata": {
    "colab": {
     "base_uri": "https://localhost:8080/"
    },
    "executionInfo": {
     "elapsed": 265,
     "status": "ok",
     "timestamp": 1634650236850,
     "user": {
      "displayName": "John Kitchin",
      "photoUrl": "https://lh3.googleusercontent.com/a/default-user=s64",
      "userId": "14782011281593705406"
     },
     "user_tz": 240
    },
    "id": "8fBxHrFlaP69",
    "outputId": "eda29449-89b4-4bb4-c83a-fe6627aff552"
   },
   "outputs": [
    {
     "data": {
      "text/plain": [
       "(292.29506781938915, 292.2950678193891)"
      ]
     },
     "execution_count": 58,
     "metadata": {},
     "output_type": "execute_result"
    }
   ],
   "source": [
    "np.var(errs), np.std(errs) ** 2"
   ]
  },
  {
   "cell_type": "code",
   "execution_count": 59,
   "metadata": {
    "colab": {
     "base_uri": "https://localhost:8080/",
     "height": 282
    },
    "executionInfo": {
     "elapsed": 277,
     "status": "ok",
     "timestamp": 1634650251679,
     "user": {
      "displayName": "John Kitchin",
      "photoUrl": "https://lh3.googleusercontent.com/a/default-user=s64",
      "userId": "14782011281593705406"
     },
     "user_tz": 240
    },
    "id": "7fmQXkySX3y9",
    "outputId": "12545847-9af8-48bf-d9e9-71a5779e61f3"
   },
   "outputs": [
    {
     "data": {
      "text/plain": [
       "[<matplotlib.lines.Line2D at 0x7fbfe30cf290>]"
      ]
     },
     "execution_count": 59,
     "metadata": {},
     "output_type": "execute_result"
    },
    {
     "data": {
      "image/png": "[encoded data removed]",
      "text/plain": [
       "<Figure size 432x288 with 1 Axes>"
      ]
     },
     "metadata": {
      "needs_background": "light"
     },
     "output_type": "display_data"
    }
   ],
   "source": [
    "xfit = np.linspace(0, 50)\n",
    "plt.plot(xfit, model(pars, xfit));"
   ]
  },
  {
   "cell_type": "code",
   "execution_count": 60,
   "metadata": {
    "colab": {
     "base_uri": "https://localhost:8080/"
    },
    "executionInfo": {
     "elapsed": 561,
     "status": "ok",
     "timestamp": 1634650254699,
     "user": {
      "displayName": "John Kitchin",
      "photoUrl": "https://lh3.googleusercontent.com/a/default-user=s64",
      "userId": "14782011281593705406"
     },
     "user_tz": 240
    },
    "id": "fOZHZpJOX-7Q",
    "outputId": "c7662b62-a828-4ed3-c929-4cd1f713aeb7"
   },
   "outputs": [
    {
     "data": {
      "text/plain": [
       "230.12680572339715"
      ]
     },
     "execution_count": 60,
     "metadata": {},
     "output_type": "execute_result"
    }
   ],
   "source": [
    "model(pars, xfit)[-1]"
   ]
  },
  {
   "cell_type": "code",
   "execution_count": 61,
   "metadata": {
    "colab": {
     "base_uri": "https://localhost:8080/"
    },
    "executionInfo": {
     "elapsed": 307,
     "status": "ok",
     "timestamp": 1634650256446,
     "user": {
      "displayName": "John Kitchin",
      "photoUrl": "https://lh3.googleusercontent.com/a/default-user=s64",
      "userId": "14782011281593705406"
     },
     "user_tz": 240
    },
    "id": "2tsKMU2PYCqU",
    "outputId": "856ebd09-6186-4550-ee82-7b64eba10d24"
   },
   "outputs": [
    {
     "data": {
      "text/plain": [
       "array([6.37777996])"
      ]
     },
     "execution_count": 61,
     "metadata": {},
     "output_type": "execute_result"
    }
   ],
   "source": [
    "# find time to reach 90% of saturation\n",
    "from scipy.optimize import fsolve\n",
    "\n",
    "\n",
    "def g(x):\n",
    "    return model(pars, x) - 0.9 * 230\n",
    "\n",
    "\n",
    "fsolve(g, 5)"
   ]
  },
  {
   "cell_type": "markdown",
   "metadata": {
    "id": "y9nwF6U2ObPY"
   },
   "source": [
    "## Summary\n",
    "\n"
   ]
  },
  {
   "cell_type": "markdown",
   "metadata": {
    "id": "7yDjEkiIObPZ"
   },
   "source": [
    "Regression is an important technical skill required in modern engineering. It is the method which we use to convert data into models. Sometimes it is the parameters that are important, e.g. when they represent properties of a system that we are interested in. Sometimes it is the model that is interesting, e.g. when we need to use it for optimization or predictions.\n",
    "\n",
    "At the core, regression involves minimization of some error function. The standard method is to minimize the summed squared error between the model and data. There are some benefits to this method: it is straight forward and there are well established methods to estimate the uncertainty in the parameters. However, it is known to be sensitive to outliers.\n",
    "\n",
    "A variety of alternative approaches exist to reduce the influence of outliers, including minimizing the summed absolute errors, robust regression methods, and weighted regression methods. It is not always obvious what the right method to use is, this takes experience and an understanding of what you know about the model, the data, and the goals of the regression.\n",
    "\n"
   ]
  },
  {
   "cell_type": "code",
   "execution_count": 65,
   "metadata": {
    "executionInfo": {
     "elapsed": 328,
     "status": "ok",
     "timestamp": 1634650672386,
     "user": {
      "displayName": "John Kitchin",
      "photoUrl": "https://lh3.googleusercontent.com/a/default-user=s64",
      "userId": "14782011281593705406"
     },
     "user_tz": 240
    },
    "id": "k84VLpPKxbKD"
   },
   "outputs": [],
   "source": [
    "?minimize"
   ]
  }
 ],
 "metadata": {
  "colab": {
   "collapsed_sections": [],
   "name": "12-nonlinear-regression-2.ipynb",
   "provenance": [],
   "toc_visible": true
  },
  "kernelspec": {
   "display_name": "Python 3 (ipykernel)",
   "language": "python",
   "name": "python3"
  },
  "language_info": {
   "codemirror_mode": {
    "name": "ipython",
    "version": 3
   },
   "file_extension": ".py",
   "mimetype": "text/x-python",
   "name": "python",
   "nbconvert_exporter": "python",
   "pygments_lexer": "ipython3",
   "version": "3.9.7"
  },
  "org": {
   "KEYWORDS": "scipy.optimize.minimize"
  }
 },
 "nbformat": 4,
 "nbformat_minor": 4
}
