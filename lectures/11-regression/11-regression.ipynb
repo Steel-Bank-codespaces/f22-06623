{
 "cells": [
  {
   "cell_type": "markdown",
   "metadata": {
    "id": "rckbtfJgNfvp"
   },
   "source": [
    "[TOC](../toc.ipynb)\n",
    "\n",
    "Introduction to nonlinear regression\n",
    "====================================\n",
    "\n",
    "- KEYWORDS: scipy.optimize.minimize, scipy.optimize.curve_fit, pycse.nlinfit\n",
    "\n",
    "\n"
   ]
  },
  {
   "cell_type": "markdown",
   "metadata": {
    "id": "r76a5IFkgTcq"
   },
   "source": [
    "![curve-fitting](https://imgs.xkcd.com/comics/curve_fitting.png)\n",
    "\n"
   ]
  },
  {
   "cell_type": "markdown",
   "metadata": {
    "id": "ft2DIEJtNfvt"
   },
   "source": [
    "## Regression of data is a form of function minimization\n",
    "\n",
    "\n",
    "\n"
   ]
  },
  {
   "cell_type": "markdown",
   "metadata": {
    "id": "K_Gz804pNfvw"
   },
   "source": [
    "When we say regression, we really mean find some parameters of a model that best reproduces some known data. By \"best reproduces\" we mean the sum of all the errors between the values predicted by the model, and the real data is minimized.\n",
    "\n",
    "Suppose we have the following data that shows how the energy of a material depends on the volume of the material.\n",
    "\n",
    "\n",
    "\n"
   ]
  },
  {
   "cell_type": "code",
   "execution_count": 1,
   "metadata": {
    "colab": {
     "base_uri": "https://localhost:8080/",
     "height": 279
    },
    "executionInfo": {
     "elapsed": 358,
     "status": "ok",
     "timestamp": 1634040537901,
     "user": {
      "displayName": "John Kitchin",
      "photoUrl": "https://lh3.googleusercontent.com/a/default-user=s64",
      "userId": "14782011281593705406"
     },
     "user_tz": 240
    },
    "id": "0_MVZvK6Nfvz",
    "outputId": "edebffac-4fdd-4c0b-97bf-e24321530cdb"
   },
   "outputs": [
    {
     "data": {
      "image/png": "[encoded data removed]",
      "text/plain": [
       "<Figure size 432x288 with 1 Axes>"
      ]
     },
     "metadata": {
      "needs_background": "light"
     },
     "output_type": "display_data"
    }
   ],
   "source": [
    "import numpy as np\n",
    "import matplotlib.pyplot as plt\n",
    "\n",
    "volumes = np.array([13.71, 14.82, 16.0, 17.23, 18.52])\n",
    "energies = np.array([-56.29, -56.41, -56.46, -56.463, -56.41])\n",
    "\n",
    "plt.plot(volumes, energies, \"bo\")\n",
    "plt.xlabel(\"V\")\n",
    "plt.ylabel(\"E\");\n",
    "\n"
   ]
  },
  {
   "cell_type": "markdown",
   "metadata": {
    "id": "bpr8Zul6NfwF"
   },
   "source": [
    "In Materials Science we often want to fit an equation of state to this data. We will use this equation:\n",
    "\n",
    "$E = E_0 + \\frac{B_0 V}{B_0'}\\left(\\frac{(V_0 / V)^{B_0'}}{B_0' - 1} + 1 \\right) - \\frac{V_0 B_0}{B_0' - 1}$\n",
    "\n",
    "from [https://journals.aps.org/prb/pdf/10.1103/PhysRevB.28.5480](https://journals.aps.org/prb/pdf/10.1103/PhysRevB.28.5480). In this model there are four parameters:\n",
    "\n",
    "| name|desc|\n",
    "|---|---|\n",
    "| E\\_0|energy at the minimim|\n",
    "| B\\_0|bulk modulus|\n",
    "| B\\_0'|first derivative of the bulk modulus|\n",
    "| V\\_0|volume at the energy minimum|\n",
    "\n",
    "We would like to find the value of these parameters that best fits the data above. That means, find the set of parameters that minimize the sum of the squared errors between the model and data.\n",
    "\n",
    "First we need a function that will use the parameters and return the energy for a given volume.\n",
    "\n",
    "\n",
    "\n"
   ]
  },
  {
   "cell_type": "code",
   "execution_count": 3,
   "metadata": {
    "executionInfo": {
     "elapsed": 143,
     "status": "ok",
     "timestamp": 1634040809816,
     "user": {
      "displayName": "John Kitchin",
      "photoUrl": "https://lh3.googleusercontent.com/a/default-user=s64",
      "userId": "14782011281593705406"
     },
     "user_tz": 240
    },
    "id": "Ym6aBT4ZNfwI"
   },
   "outputs": [],
   "source": [
    "def Murnaghan(parameters, vol):\n",
    "    \"From PRB 28,5480 (1983)\"\n",
    "    E0, B0, BP, V0 = parameters\n",
    "\n",
    "    E = (\n",
    "        E0\n",
    "        + B0 * vol / BP * (((V0 / vol) ** BP) / (BP - 1.0) + 1.0)\n",
    "        - V0 * B0 / (BP - 1.0)\n",
    "    )\n",
    "\n",
    "    return E\n",
    "\n"
   ]
  },
  {
   "cell_type": "code",
   "execution_count": 4,
   "metadata": {
    "colab": {
     "base_uri": "https://localhost:8080/"
    },
    "executionInfo": {
     "elapsed": 199,
     "status": "ok",
     "timestamp": 1634040999933,
     "user": {
      "displayName": "John Kitchin",
      "photoUrl": "https://lh3.googleusercontent.com/a/default-user=s64",
      "userId": "14782011281593705406"
     },
     "user_tz": 240
    },
    "id": "2DdjrRg8bBOl",
    "outputId": "cdeced96-2429-4874-e75b-31d9e45f18db"
   },
   "outputs": [
    {
     "data": {
      "text/plain": [
       "array([-55.70897941, -56.25733846, -56.46292697, -56.49851828,\n",
       "       -56.44949564])"
      ]
     },
     "execution_count": 4,
     "metadata": {},
     "output_type": "execute_result"
    }
   ],
   "source": [
    "# Check for some guess of the paramters. We can estimate some of them by inspection\n",
    "# E0, V0\n",
    "# and use domain knowledge to estimate the others (B_0, B_O')\n",
    "Murnaghan([-56.5, 1, 10, 17], volumes)\n",
    "\n"
   ]
  },
  {
   "cell_type": "markdown",
   "metadata": {},
   "source": [
    "How good are those parameters? We can see them visually. They look ok. We don't know if they are the best values though.\n",
    "\n"
   ]
  },
  {
   "cell_type": "code",
   "execution_count": 12,
   "metadata": {
    "colab": {
     "base_uri": "https://localhost:8080/",
     "height": 265
    },
    "executionInfo": {
     "elapsed": 692,
     "status": "ok",
     "timestamp": 1634041140108,
     "user": {
      "displayName": "John Kitchin",
      "photoUrl": "https://lh3.googleusercontent.com/a/default-user=s64",
      "userId": "14782011281593705406"
     },
     "user_tz": 240
    },
    "id": "dTgHd9EJ4eb6",
    "outputId": "8d0d9363-3490-4ddf-b70c-44f188e5b88a"
   },
   "outputs": [
    {
     "data": {
      "image/png": "[encoded data removed]",
      "text/plain": [
       "<Figure size 432x288 with 1 Axes>"
      ]
     },
     "metadata": {
      "needs_background": "light"
     },
     "output_type": "display_data"
    }
   ],
   "source": [
    "plt.plot(volumes, energies, volumes, Murnaghan([-56.5, 0.7, 3, 16.5], volumes))\n",
    "plt.legend([\"data\", \"prediction\"]);\n",
    "\n"
   ]
  },
  {
   "cell_type": "code",
   "execution_count": 14,
   "metadata": {
    "colab": {
     "base_uri": "https://localhost:8080/"
    },
    "executionInfo": {
     "elapsed": 119,
     "status": "ok",
     "timestamp": 1634041170694,
     "user": {
      "displayName": "John Kitchin",
      "photoUrl": "https://lh3.googleusercontent.com/a/default-user=s64",
      "userId": "14782011281593705406"
     },
     "user_tz": 240
    },
    "id": "aeH6mQbY58Yj",
    "outputId": "2986caf9-eda0-4afc-ccfd-29958824c8db"
   },
   "outputs": [
    {
     "data": {
      "text/plain": [
       "0.002566348034237222"
      ]
     },
     "execution_count": 14,
     "metadata": {},
     "output_type": "execute_result"
    }
   ],
   "source": [
    "# For reference, these are the summed squared errors\n",
    "predicted_energies = Murnaghan([-56.5, 0.7, 3, 16.5], volumes)\n",
    "errors = energies - predicted_energies\n",
    "np.sum(errors ** 2)\n",
    "\n",
    "# 0.002715815228732874\n",
    "# 0.002566348034237222"
   ]
  },
  {
   "cell_type": "markdown",
   "metadata": {
    "id": "BF2E0ZHeNfwV"
   },
   "source": [
    "Next, we need a function that computes the summed squared errors for a set of parameters. The use of squared errors is preferable in many cases to the absolute values because it has a continuous derivative. We will learn more about this later.\n",
    "\n",
    "\n",
    "\n"
   ]
  },
  {
   "cell_type": "code",
   "execution_count": 16,
   "metadata": {
    "colab": {
     "base_uri": "https://localhost:8080/"
    },
    "executionInfo": {
     "elapsed": 120,
     "status": "ok",
     "timestamp": 1634041213354,
     "user": {
      "displayName": "John Kitchin",
      "photoUrl": "https://lh3.googleusercontent.com/a/default-user=s64",
      "userId": "14782011281593705406"
     },
     "user_tz": 240
    },
    "id": "fTs0umI3NfwX",
    "outputId": "dd733249-f065-40b9-b44a-705bcfa12a1b"
   },
   "outputs": [
    {
     "data": {
      "text/plain": [
       "0.002566348034237222"
      ]
     },
     "execution_count": 16,
     "metadata": {},
     "output_type": "execute_result"
    }
   ],
   "source": [
    "def objective(pars):\n",
    "    err = energies - Murnaghan(pars, volumes)\n",
    "    return np.sum(err**2)  # we return the summed squared error directly\n",
    "\n",
    "\n",
    "objective([-56.5, 0.7, 3, 16.5])\n",
    "\n"
   ]
  },
  {
   "cell_type": "markdown",
   "metadata": {
    "id": "Gq6pGmEtNfwm"
   },
   "source": [
    "Finally,  we need an initial guess to start the minimization. As with all minimization problems, this can be the most difficult step. It is always a good idea to use properties of the model and data where possible to make these guesses. We have no way to plot anything in four dimensions, so we use analysis instead.\n",
    "\n",
    "We can derive some of these from the data we have. First, we can get the minimum in energy and the corresponding volume that we know from the data. These are not the final answer, but they are a good guess for it.\n",
    "\n",
    "The B<sub>0</sub> parameter is related to the curvature at the minimum, which is the second derivative. We get that from repeated calls to `numpy.gradient`. Finally, $B_0'$ is related to the derivative of $B$ at the minimum, so we estimate that too.\n",
    "\n",
    "\n",
    "\n"
   ]
  },
  {
   "cell_type": "code",
   "execution_count": 17,
   "metadata": {
    "colab": {
     "base_uri": "https://localhost:8080/"
    },
    "executionInfo": {
     "elapsed": 123,
     "status": "ok",
     "timestamp": 1634041367095,
     "user": {
      "displayName": "John Kitchin",
      "photoUrl": "https://lh3.googleusercontent.com/a/default-user=s64",
      "userId": "14782011281593705406"
     },
     "user_tz": 240
    },
    "id": "XAqyLzdpNfwp",
    "outputId": "7cbef135-b0ee-49c7-ad11-9a29165449e2"
   },
   "outputs": [
    {
     "data": {
      "text/plain": [
       "[-56.463, 0.02575384116153356, -0.00900405886406903, 17.23]"
      ]
     },
     "execution_count": 17,
     "metadata": {},
     "output_type": "execute_result"
    }
   ],
   "source": [
    "imin = np.argmin(energies)\n",
    "dedv = np.gradient(energies, volumes)  # this an array, all of the gradients are\n",
    "B = np.gradient(dedv, volumes)  # d2e/dv2\n",
    "Bp = np.gradient(B, volumes)  # d3e/dv2\n",
    "\n",
    "\n",
    "x0 = [\n",
    "    energies[imin],  # this is the minimum energy in the array\n",
    "    B[imin],\n",
    "    Bp[imin],\n",
    "    volumes[imin],\n",
    "]  # and the corresponding volume\n",
    "\n",
    "x0\n",
    "\n"
   ]
  },
  {
   "cell_type": "markdown",
   "metadata": {},
   "source": [
    "Note this guess is not as good as our previous guesses. That is ok, as long as we get to a reasonable solution next. You can make your guess any way you want. Here we used analysis. \n",
    "\n"
   ]
  },
  {
   "cell_type": "code",
   "execution_count": 18,
   "metadata": {
    "colab": {
     "base_uri": "https://localhost:8080/",
     "height": 265
    },
    "executionInfo": {
     "elapsed": 342,
     "status": "ok",
     "timestamp": 1634041443811,
     "user": {
      "displayName": "John Kitchin",
      "photoUrl": "https://lh3.googleusercontent.com/a/default-user=s64",
      "userId": "14782011281593705406"
     },
     "user_tz": 240
    },
    "id": "OAfHw4wA7gpT",
    "outputId": "a675cae7-98b4-4ab8-e5fa-3846c6772d42"
   },
   "outputs": [
    {
     "data": {
      "image/png": "[encoded data removed]",
      "text/plain": [
       "<Figure size 432x288 with 1 Axes>"
      ]
     },
     "metadata": {
      "needs_background": "light"
     },
     "output_type": "display_data"
    }
   ],
   "source": [
    "plt.plot(volumes, energies, volumes, Murnaghan(x0, volumes));\n",
    "\n"
   ]
  },
  {
   "cell_type": "markdown",
   "metadata": {
    "id": "NB2l1jXCNfw4"
   },
   "source": [
    "Finally, we are ready to fit our function. As usual, we also plot the data and the fit for visual inspection.\n",
    "\n"
   ]
  },
  {
   "cell_type": "code",
   "execution_count": 19,
   "metadata": {
    "colab": {
     "base_uri": "https://localhost:8080/",
     "height": 565
    },
    "executionInfo": {
     "elapsed": 468,
     "status": "ok",
     "timestamp": 1634041874464,
     "user": {
      "displayName": "John Kitchin",
      "photoUrl": "https://lh3.googleusercontent.com/a/default-user=s64",
      "userId": "14782011281593705406"
     },
     "user_tz": 240
    },
    "id": "MDUK5XPeNfw6",
    "outputId": "4c431f97-fc47-49b1-c955-b450e6a31f36"
   },
   "outputs": [
    {
     "name": "stdout",
     "output_type": "stream",
     "text": [
      "      fun: 1.491294760893829e-05\n",
      " hess_inv: array([[ 3.26673454e-01, -3.30244786e+00,  8.06428235e+01,\n",
      "        -2.16661445e+00],\n",
      "       [-3.30244786e+00,  5.61081186e+01, -1.63073605e+03,\n",
      "         4.34474917e+01],\n",
      "       [ 8.06428235e+01, -1.63073605e+03,  6.91845318e+04,\n",
      "        -2.71399478e+03],\n",
      "       [-2.16661445e+00,  4.34474917e+01, -2.71399478e+03,\n",
      "         1.52760078e+02]])\n",
      "      jac: array([ 3.85473049e-06,  3.38952532e-07, -1.00604893e-08, -5.89392471e-07])\n",
      "  message: 'Optimization terminated successfully.'\n",
      "     nfev: 170\n",
      "      nit: 27\n",
      "     njev: 34\n",
      "   status: 0\n",
      "  success: True\n",
      "        x: array([-56.46839589,   0.57233166,   2.74140285,  16.55899955])\n"
     ]
    },
    {
     "data": {
      "image/png": "[encoded data removed]",
      "text/plain": [
       "<Figure size 432x288 with 1 Axes>"
      ]
     },
     "metadata": {
      "needs_background": "light"
     },
     "output_type": "display_data"
    }
   ],
   "source": [
    "from scipy.optimize import minimize\n",
    "\n",
    "sol = minimize(objective, x0)\n",
    "print(sol)\n",
    "\n",
    "plt.plot(volumes, energies, \"bo\", label=\"Data\")\n",
    "vfit = np.linspace(min(volumes), max(volumes))\n",
    "plt.plot(vfit, Murnaghan(sol.x, vfit), label=\"fit\")\n",
    "plt.legend()\n",
    "plt.xlabel(\"V\")\n",
    "plt.ylabel(\"E\");\n",
    "\n"
   ]
  },
  {
   "cell_type": "markdown",
   "metadata": {
    "id": "OBPXtmhDNfxJ"
   },
   "source": [
    "That looks pretty good. We should ask ourselves, how do we know we got a minimum? We should see that the objective function is really at a minimum *for each of the parameters*. Here, we show that it is a minimum for the first parameter.\n",
    "\n",
    "\n",
    "\n"
   ]
  },
  {
   "cell_type": "code",
   "execution_count": 21,
   "metadata": {
    "colab": {
     "base_uri": "https://localhost:8080/"
    },
    "executionInfo": {
     "elapsed": 121,
     "status": "ok",
     "timestamp": 1634042117657,
     "user": {
      "displayName": "John Kitchin",
      "photoUrl": "https://lh3.googleusercontent.com/a/default-user=s64",
      "userId": "14782011281593705406"
     },
     "user_tz": 240
    },
    "id": "dWLF_o_PfzEP",
    "outputId": "5e7720d5-808f-4b46-8e33-4e4e23584faf"
   },
   "outputs": [
    {
     "data": {
      "text/plain": [
       "1.491294760893829e-05"
      ]
     },
     "execution_count": 21,
     "metadata": {},
     "output_type": "execute_result"
    }
   ],
   "source": [
    "objective(sol.x)\n",
    "\n"
   ]
  },
  {
   "cell_type": "code",
   "execution_count": 22,
   "metadata": {
    "colab": {
     "base_uri": "https://localhost:8080/",
     "height": 279
    },
    "executionInfo": {
     "elapsed": 345,
     "status": "ok",
     "timestamp": 1634042242612,
     "user": {
      "displayName": "John Kitchin",
      "photoUrl": "https://lh3.googleusercontent.com/a/default-user=s64",
      "userId": "14782011281593705406"
     },
     "user_tz": 240
    },
    "id": "flcwTwzZNfxM",
    "outputId": "d1d9a477-a026-4e3c-f9ab-ef9d3d5f374b"
   },
   "outputs": [
    {
     "data": {
      "image/png": "[encoded data removed]",
      "text/plain": [
       "<Figure size 432x288 with 1 Axes>"
      ]
     },
     "metadata": {
      "needs_background": "light"
     },
     "output_type": "display_data"
    }
   ],
   "source": [
    "E0_range = np.linspace(0.9 * sol.x[0], 1.1 * sol.x[0])\n",
    "\n",
    "_, B, BP, V0 = sol.x  # _ is a placeholder, that we don't use\n",
    "# errs = [objective([e0, *sol.x[1:]]) for e0 in E0_range]\n",
    "sses = [objective([e0, B, BP, V0]) for e0 in E0_range]  # equivalent syntax\n",
    "\n",
    "plt.plot(E0_range, sses)\n",
    "plt.axvline(sol.x[0], c=\"k\", ls=\"--\")\n",
    "plt.xlabel(\"E0\")\n",
    "plt.ylabel(\"summed squared error\");\n",
    "\n"
   ]
  },
  {
   "cell_type": "code",
   "execution_count": 24,
   "metadata": {
    "colab": {
     "base_uri": "https://localhost:8080/",
     "height": 290
    },
    "executionInfo": {
     "elapsed": 659,
     "status": "ok",
     "timestamp": 1634042320392,
     "user": {
      "displayName": "John Kitchin",
      "photoUrl": "https://lh3.googleusercontent.com/a/default-user=s64",
      "userId": "14782011281593705406"
     },
     "user_tz": 240
    },
    "id": "qZbUJKWt_JXI",
    "outputId": "420a421a-2638-4d14-a7c1-514b7ab3cdbd"
   },
   "outputs": [
    {
     "data": {
      "image/png": "[encoded data removed]",
      "text/plain": [
       "<Figure size 432x288 with 1 Axes>"
      ]
     },
     "metadata": {
      "needs_background": "light"
     },
     "output_type": "display_data"
    }
   ],
   "source": [
    "BP_range = np.linspace(0.9 * sol.x[2], 1.1 * sol.x[2])\n",
    "\n",
    "E0, B, BP0, V0 = sol.x\n",
    "\n",
    "errs = [objective([E0, B, BP, V0]) for BP in BP_range]\n",
    "\n",
    "plt.plot(BP_range, errs)\n",
    "plt.axvline(BP0, c=\"k\", ls=\"--\")\n",
    "plt.xlabel(\"BP\")\n",
    "plt.ylabel(\"summed squared error\");\n",
    "\n"
   ]
  },
  {
   "cell_type": "markdown",
   "metadata": {
    "id": "Cn1btwFKNfxb"
   },
   "source": [
    "You can see visually that the error goes up on each side of the parameter estimate.\n",
    "\n",
    "**exercise** Repeat this analysis for the other three parameters.\n",
    "\n",
    "Later when we learn about linear algebra, we will learn that if you can show the eigenvalues of the Hessian of the objective function is positive definite, that also means you are at a minimum. It means the error goes up in any direction away from the minimum.\n",
    "\n",
    "Usually we do some regression to find one of these:\n",
    "\n",
    "1.  Parameters for the model - because the parameters mean something\n",
    "2.  Properties of the model - because the properties mean something\n",
    "\n",
    "In this particular case, we can do both. Some of the parameters are directly meaningful, like the E0, and V0 are the energy at the minimum, and the corresponding volume. B0 is also meaningful, it is called the bulk modulus, and it is a material property.\n",
    "\n",
    "Now that we have a model though we can also define properties of it, e.g. *in this case* we have from thermodynamics that $P = -dE/dV$. We can use our model to define this derivative. I use `scipy.misc.derivative` for this for convenience. The only issue with it is that the energy function has arguments that are not in the right order for the derivative, so I make a proxy function here that just reverses the order of the arguments.\n",
    "\n"
   ]
  },
  {
   "cell_type": "code",
   "execution_count": 25,
   "metadata": {
    "id": "XLJtLvs1ApvP"
   },
   "outputs": [
    {
     "data": {
      "text/plain": [
       "\u001b[0;31mSignature:\u001b[0m \u001b[0mderivative\u001b[0m\u001b[0;34m(\u001b[0m\u001b[0mfunc\u001b[0m\u001b[0;34m,\u001b[0m \u001b[0mx0\u001b[0m\u001b[0;34m,\u001b[0m \u001b[0mdx\u001b[0m\u001b[0;34m=\u001b[0m\u001b[0;36m1.0\u001b[0m\u001b[0;34m,\u001b[0m \u001b[0mn\u001b[0m\u001b[0;34m=\u001b[0m\u001b[0;36m1\u001b[0m\u001b[0;34m,\u001b[0m \u001b[0margs\u001b[0m\u001b[0;34m=\u001b[0m\u001b[0;34m(\u001b[0m\u001b[0;34m)\u001b[0m\u001b[0;34m,\u001b[0m \u001b[0morder\u001b[0m\u001b[0;34m=\u001b[0m\u001b[0;36m3\u001b[0m\u001b[0;34m)\u001b[0m\u001b[0;34m\u001b[0m\u001b[0;34m\u001b[0m\u001b[0m\n",
       "\u001b[0;31mDocstring:\u001b[0m\n",
       "Find the nth derivative of a function at a point.\n",
       "\n",
       "Given a function, use a central difference formula with spacing `dx` to\n",
       "compute the nth derivative at `x0`.\n",
       "\n",
       "Parameters\n",
       "----------\n",
       "func : function\n",
       "    Input function.\n",
       "x0 : float\n",
       "    The point at which the nth derivative is found.\n",
       "dx : float, optional\n",
       "    Spacing.\n",
       "n : int, optional\n",
       "    Order of the derivative. Default is 1.\n",
       "args : tuple, optional\n",
       "    Arguments\n",
       "order : int, optional\n",
       "    Number of points to use, must be odd.\n",
       "\n",
       "Notes\n",
       "-----\n",
       "Decreasing the step size too small can result in round-off error.\n",
       "\n",
       "Examples\n",
       "--------\n",
       ">>> from scipy.misc import derivative\n",
       ">>> def f(x):\n",
       "...     return x**3 + x**2\n",
       ">>> derivative(f, 1.0, dx=1e-6)\n",
       "4.9999999999217337\n",
       "\u001b[0;31mFile:\u001b[0m      /opt/tljh/user/lib/python3.9/site-packages/scipy/misc/_common.py\n",
       "\u001b[0;31mType:\u001b[0m      function\n"
      ]
     },
     "metadata": {},
     "output_type": "display_data"
    }
   ],
   "source": [
    "from scipy.misc import derivative\n",
    "?derivative\n",
    "\n"
   ]
  },
  {
   "cell_type": "markdown",
   "metadata": {
    "id": "eR2DxVx4A0D2"
   },
   "source": [
    "![image.png](data:image/png;base64,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)\n",
    "\n"
   ]
  },
  {
   "cell_type": "code",
   "execution_count": 26,
   "metadata": {
    "colab": {
     "base_uri": "https://localhost:8080/"
    },
    "executionInfo": {
     "elapsed": 118,
     "status": "ok",
     "timestamp": 1634042830017,
     "user": {
      "displayName": "John Kitchin",
      "photoUrl": "https://lh3.googleusercontent.com/a/default-user=s64",
      "userId": "14782011281593705406"
     },
     "user_tz": 240
    },
    "id": "nkUxxtHCNfxe",
    "outputId": "d7c5f274-0b25-4e5b-c28e-95d0a12f79ca"
   },
   "outputs": [
    {
     "data": {
      "text/plain": [
       "(0.02060933823599953, -0.0, -0.042688117929401415)"
      ]
     },
     "execution_count": 26,
     "metadata": {},
     "output_type": "execute_result"
    }
   ],
   "source": [
    "from scipy.misc import derivative\n",
    "\n",
    "pars = sol.x\n",
    "\n",
    "\n",
    "def P(V):\n",
    "    def proxy(V, pars):\n",
    "        return Murnaghan(pars, V)\n",
    "\n",
    "    dEdV = derivative(proxy, V, args=(pars,), dx=1e-6)\n",
    "    return -dEdV\n",
    "\n",
    "\n",
    "# Some examples\n",
    "P(16), P(pars[-1]), P(18)\n",
    "\n"
   ]
  },
  {
   "cell_type": "markdown",
   "metadata": {
    "id": "jjfDrG_6Nfxr"
   },
   "source": [
    "The result above shows that it takes positive pressure to compress the material, the pressure is zero at the minimum, and it takes negative pressure to cause it to expand.\n",
    "\n",
    "This example is just meant to illustrate what one can do with a model once you have it.\n",
    "\n",
    "\n",
    "\n"
   ]
  },
  {
   "cell_type": "code",
   "execution_count": 27,
   "metadata": {},
   "outputs": [
    {
     "data": {
      "text/plain": [
       "array([-56.46839589,   0.57233166,   2.74140285,  16.55899955])"
      ]
     },
     "execution_count": 27,
     "metadata": {},
     "output_type": "execute_result"
    }
   ],
   "source": [
    "sol.x"
   ]
  },
  {
   "cell_type": "markdown",
   "metadata": {
    "id": "9T52t-anNfxt"
   },
   "source": [
    "## Parameter confidence intervals\n",
    "\n",
    "\n",
    "\n"
   ]
  },
  {
   "cell_type": "markdown",
   "metadata": {
    "id": "lIYAgHhBNfxw"
   },
   "source": [
    "We have left out an important topic in the discussion above: How certain are we of the parameters we estimated? This is a complicated question that requires moderately sophisticated statistics to answer. We will build up to the solution in steps.\n",
    "\n",
    "First, we recall that in a statistical sense we are *estimating* the values of the parameters. Specifically, we estimate the *mean* of the parameters, from a fixed number of data points.\n",
    "\n",
    "Let's say we have made 10 measurements that have an average of 16.1, and a standard deviation of 0.01. What is the range of values that we are 95% confident the next measurement will fall in?\n",
    "\n",
    "We have to take into account the fact that we only have 10 measurements to make the estimation from, so the estimate is more uncertain than if we have 100 or 1000 measurements. The student t-tables tell us precisely how much more uncertain depending on the confidence level you want.\n",
    "\n"
   ]
  },
  {
   "cell_type": "markdown",
   "metadata": {},
   "source": [
    "```{tip}\n",
    "The point here is not for you to memorize or derive these formulas, only to illustrate that the uncertainty is not simply the standard deviation. It also includes the effect of the sample size.\n",
    "\n",
    "the `pycse` library provides functions for this kind of analysis.\n",
    "```\n",
    "\n"
   ]
  },
  {
   "cell_type": "code",
   "execution_count": 28,
   "metadata": {
    "executionInfo": {
     "elapsed": 420,
     "status": "ok",
     "timestamp": 1634043829087,
     "user": {
      "displayName": "John Kitchin",
      "photoUrl": "https://lh3.googleusercontent.com/a/default-user=s64",
      "userId": "14782011281593705406"
     },
     "user_tz": 240
    },
    "id": "aJKZTC8cmf9T"
   },
   "outputs": [
    {
     "data": {
      "text/plain": [
       "\u001b[0;31mSignature:\u001b[0m \u001b[0mt\u001b[0m\u001b[0;34m.\u001b[0m\u001b[0mppf\u001b[0m\u001b[0;34m(\u001b[0m\u001b[0mq\u001b[0m\u001b[0;34m,\u001b[0m \u001b[0;34m*\u001b[0m\u001b[0margs\u001b[0m\u001b[0;34m,\u001b[0m \u001b[0;34m**\u001b[0m\u001b[0mkwds\u001b[0m\u001b[0;34m)\u001b[0m\u001b[0;34m\u001b[0m\u001b[0;34m\u001b[0m\u001b[0m\n",
       "\u001b[0;31mDocstring:\u001b[0m\n",
       "Percent point function (inverse of `cdf`) at q of the given RV.\n",
       "\n",
       "Parameters\n",
       "----------\n",
       "q : array_like\n",
       "    lower tail probability\n",
       "arg1, arg2, arg3,... : array_like\n",
       "    The shape parameter(s) for the distribution (see docstring of the\n",
       "    instance object for more information)\n",
       "loc : array_like, optional\n",
       "    location parameter (default=0)\n",
       "scale : array_like, optional\n",
       "    scale parameter (default=1)\n",
       "\n",
       "Returns\n",
       "-------\n",
       "x : array_like\n",
       "    quantile corresponding to the lower tail probability q.\n",
       "\u001b[0;31mFile:\u001b[0m      /opt/tljh/user/lib/python3.9/site-packages/scipy/stats/_distn_infrastructure.py\n",
       "\u001b[0;31mType:\u001b[0m      method\n"
      ]
     },
     "metadata": {},
     "output_type": "display_data"
    }
   ],
   "source": [
    "from scipy.stats.distributions import t\n",
    "?t.ppf\n",
    "\n"
   ]
  },
  {
   "cell_type": "code",
   "execution_count": 37,
   "metadata": {
    "colab": {
     "base_uri": "https://localhost:8080/"
    },
    "executionInfo": {
     "elapsed": 113,
     "status": "ok",
     "timestamp": 1634043982630,
     "user": {
      "displayName": "John Kitchin",
      "photoUrl": "https://lh3.googleusercontent.com/a/default-user=s64",
      "userId": "14782011281593705406"
     },
     "user_tz": 240
    },
    "id": "YlBdvyLgNfxy",
    "outputId": "8f9b419e-948e-4106-a916-962f8feafcd4"
   },
   "outputs": [
    {
     "name": "stdout",
     "output_type": "stream",
     "text": [
      "We are 95% confident the next measurement will be between 16.093 and 16.107\n"
     ]
    }
   ],
   "source": [
    "n = 10  # number of measurements\n",
    "dof = n - 1  # degrees of freedom\n",
    "avg_x = 16.1  # average measurement\n",
    "std_x = 0.01  # standard deviation of measurements, this is not estimated, it is known\n",
    "\n",
    "# Find 95% prediction interval for next measurement\n",
    "alpha = 1.0 - 0.95\n",
    "\n",
    "pred_interval = t.ppf(1 - alpha / 2.0, dof) * std_x / np.sqrt(n)\n",
    "\n",
    "plus_side = avg_x + pred_interval\n",
    "minus_side = avg_x - pred_interval\n",
    "\n",
    "print(\n",
    "    f\"We are 95% confident the next measurement will be between {minus_side:1.3f} and {plus_side:1.3f}\"\n",
    ")\n",
    "\n",
    "# 10 16.093 and 16.107"
   ]
  },
  {
   "cell_type": "markdown",
   "metadata": {
    "id": "C1edvb1jNfyJ"
   },
   "source": [
    "To consider the uncertainty in model parameters, we need some way to estimate the standard deviation of the parameters. `scipy.optimize.minimize` does not provide much help with that. We will instead turn to `scipy.optimize.curve_fit`. This function will return information that is helpful in estimating the uncertainty. It is like `scipy.optimize.minimize` in the sense that it minimizes the summed squared errors between a model described in a function, and data defined in variables. Note in particular the docstring for the output variable pcov, which tells you how to compute the standard deviation errors on the parameters.\n",
    "\n",
    "\n",
    "\n"
   ]
  },
  {
   "cell_type": "code",
   "execution_count": 38,
   "metadata": {
    "executionInfo": {
     "elapsed": 133,
     "status": "ok",
     "timestamp": 1634044100985,
     "user": {
      "displayName": "John Kitchin",
      "photoUrl": "https://lh3.googleusercontent.com/a/default-user=s64",
      "userId": "14782011281593705406"
     },
     "user_tz": 240
    },
    "id": "oFK6svMWNfyK"
   },
   "outputs": [
    {
     "data": {
      "text/plain": [
       "\u001b[0;31mSignature:\u001b[0m\n",
       "\u001b[0mcurve_fit\u001b[0m\u001b[0;34m(\u001b[0m\u001b[0;34m\u001b[0m\n",
       "\u001b[0;34m\u001b[0m    \u001b[0mf\u001b[0m\u001b[0;34m,\u001b[0m\u001b[0;34m\u001b[0m\n",
       "\u001b[0;34m\u001b[0m    \u001b[0mxdata\u001b[0m\u001b[0;34m,\u001b[0m\u001b[0;34m\u001b[0m\n",
       "\u001b[0;34m\u001b[0m    \u001b[0mydata\u001b[0m\u001b[0;34m,\u001b[0m\u001b[0;34m\u001b[0m\n",
       "\u001b[0;34m\u001b[0m    \u001b[0mp0\u001b[0m\u001b[0;34m=\u001b[0m\u001b[0;32mNone\u001b[0m\u001b[0;34m,\u001b[0m\u001b[0;34m\u001b[0m\n",
       "\u001b[0;34m\u001b[0m    \u001b[0msigma\u001b[0m\u001b[0;34m=\u001b[0m\u001b[0;32mNone\u001b[0m\u001b[0;34m,\u001b[0m\u001b[0;34m\u001b[0m\n",
       "\u001b[0;34m\u001b[0m    \u001b[0mabsolute_sigma\u001b[0m\u001b[0;34m=\u001b[0m\u001b[0;32mFalse\u001b[0m\u001b[0;34m,\u001b[0m\u001b[0;34m\u001b[0m\n",
       "\u001b[0;34m\u001b[0m    \u001b[0mcheck_finite\u001b[0m\u001b[0;34m=\u001b[0m\u001b[0;32mTrue\u001b[0m\u001b[0;34m,\u001b[0m\u001b[0;34m\u001b[0m\n",
       "\u001b[0;34m\u001b[0m    \u001b[0mbounds\u001b[0m\u001b[0;34m=\u001b[0m\u001b[0;34m(\u001b[0m\u001b[0;34m-\u001b[0m\u001b[0minf\u001b[0m\u001b[0;34m,\u001b[0m \u001b[0minf\u001b[0m\u001b[0;34m)\u001b[0m\u001b[0;34m,\u001b[0m\u001b[0;34m\u001b[0m\n",
       "\u001b[0;34m\u001b[0m    \u001b[0mmethod\u001b[0m\u001b[0;34m=\u001b[0m\u001b[0;32mNone\u001b[0m\u001b[0;34m,\u001b[0m\u001b[0;34m\u001b[0m\n",
       "\u001b[0;34m\u001b[0m    \u001b[0mjac\u001b[0m\u001b[0;34m=\u001b[0m\u001b[0;32mNone\u001b[0m\u001b[0;34m,\u001b[0m\u001b[0;34m\u001b[0m\n",
       "\u001b[0;34m\u001b[0m    \u001b[0;34m*\u001b[0m\u001b[0;34m,\u001b[0m\u001b[0;34m\u001b[0m\n",
       "\u001b[0;34m\u001b[0m    \u001b[0mfull_output\u001b[0m\u001b[0;34m=\u001b[0m\u001b[0;32mFalse\u001b[0m\u001b[0;34m,\u001b[0m\u001b[0;34m\u001b[0m\n",
       "\u001b[0;34m\u001b[0m    \u001b[0;34m**\u001b[0m\u001b[0mkwargs\u001b[0m\u001b[0;34m,\u001b[0m\u001b[0;34m\u001b[0m\n",
       "\u001b[0;34m\u001b[0m\u001b[0;34m)\u001b[0m\u001b[0;34m\u001b[0m\u001b[0;34m\u001b[0m\u001b[0m\n",
       "\u001b[0;31mDocstring:\u001b[0m\n",
       "Use non-linear least squares to fit a function, f, to data.\n",
       "\n",
       "Assumes ``ydata = f(xdata, *params) + eps``.\n",
       "\n",
       "Parameters\n",
       "----------\n",
       "f : callable\n",
       "    The model function, f(x, ...). It must take the independent\n",
       "    variable as the first argument and the parameters to fit as\n",
       "    separate remaining arguments.\n",
       "xdata : array_like or object\n",
       "    The independent variable where the data is measured.\n",
       "    Should usually be an M-length sequence or an (k,M)-shaped array for\n",
       "    functions with k predictors, but can actually be any object.\n",
       "ydata : array_like\n",
       "    The dependent data, a length M array - nominally ``f(xdata, ...)``.\n",
       "p0 : array_like, optional\n",
       "    Initial guess for the parameters (length N). If None, then the\n",
       "    initial values will all be 1 (if the number of parameters for the\n",
       "    function can be determined using introspection, otherwise a\n",
       "    ValueError is raised).\n",
       "sigma : None or M-length sequence or MxM array, optional\n",
       "    Determines the uncertainty in `ydata`. If we define residuals as\n",
       "    ``r = ydata - f(xdata, *popt)``, then the interpretation of `sigma`\n",
       "    depends on its number of dimensions:\n",
       "\n",
       "        - A 1-D `sigma` should contain values of standard deviations of\n",
       "          errors in `ydata`. In this case, the optimized function is\n",
       "          ``chisq = sum((r / sigma) ** 2)``.\n",
       "\n",
       "        - A 2-D `sigma` should contain the covariance matrix of\n",
       "          errors in `ydata`. In this case, the optimized function is\n",
       "          ``chisq = r.T @ inv(sigma) @ r``.\n",
       "\n",
       "          .. versionadded:: 0.19\n",
       "\n",
       "    None (default) is equivalent of 1-D `sigma` filled with ones.\n",
       "absolute_sigma : bool, optional\n",
       "    If True, `sigma` is used in an absolute sense and the estimated parameter\n",
       "    covariance `pcov` reflects these absolute values.\n",
       "\n",
       "    If False (default), only the relative magnitudes of the `sigma` values matter.\n",
       "    The returned parameter covariance matrix `pcov` is based on scaling\n",
       "    `sigma` by a constant factor. This constant is set by demanding that the\n",
       "    reduced `chisq` for the optimal parameters `popt` when using the\n",
       "    *scaled* `sigma` equals unity. In other words, `sigma` is scaled to\n",
       "    match the sample variance of the residuals after the fit. Default is False.\n",
       "    Mathematically,\n",
       "    ``pcov(absolute_sigma=False) = pcov(absolute_sigma=True) * chisq(popt)/(M-N)``\n",
       "check_finite : bool, optional\n",
       "    If True, check that the input arrays do not contain nans of infs,\n",
       "    and raise a ValueError if they do. Setting this parameter to\n",
       "    False may silently produce nonsensical results if the input arrays\n",
       "    do contain nans. Default is True.\n",
       "bounds : 2-tuple of array_like, optional\n",
       "    Lower and upper bounds on parameters. Defaults to no bounds.\n",
       "    Each element of the tuple must be either an array with the length equal\n",
       "    to the number of parameters, or a scalar (in which case the bound is\n",
       "    taken to be the same for all parameters). Use ``np.inf`` with an\n",
       "    appropriate sign to disable bounds on all or some parameters.\n",
       "\n",
       "    .. versionadded:: 0.17\n",
       "method : {'lm', 'trf', 'dogbox'}, optional\n",
       "    Method to use for optimization. See `least_squares` for more details.\n",
       "    Default is 'lm' for unconstrained problems and 'trf' if `bounds` are\n",
       "    provided. The method 'lm' won't work when the number of observations\n",
       "    is less than the number of variables, use 'trf' or 'dogbox' in this\n",
       "    case.\n",
       "\n",
       "    .. versionadded:: 0.17\n",
       "jac : callable, string or None, optional\n",
       "    Function with signature ``jac(x, ...)`` which computes the Jacobian\n",
       "    matrix of the model function with respect to parameters as a dense\n",
       "    array_like structure. It will be scaled according to provided `sigma`.\n",
       "    If None (default), the Jacobian will be estimated numerically.\n",
       "    String keywords for 'trf' and 'dogbox' methods can be used to select\n",
       "    a finite difference scheme, see `least_squares`.\n",
       "\n",
       "    .. versionadded:: 0.18\n",
       "full_output : boolean, optional\n",
       "    If True, this function returns additioal information: `infodict`,\n",
       "    `mesg`, and `ier`.\n",
       "\n",
       "    .. versionadded:: 1.9\n",
       "**kwargs\n",
       "    Keyword arguments passed to `leastsq` for ``method='lm'`` or\n",
       "    `least_squares` otherwise.\n",
       "\n",
       "Returns\n",
       "-------\n",
       "popt : array\n",
       "    Optimal values for the parameters so that the sum of the squared\n",
       "    residuals of ``f(xdata, *popt) - ydata`` is minimized.\n",
       "pcov : 2-D array\n",
       "    The estimated covariance of popt. The diagonals provide the variance\n",
       "    of the parameter estimate. To compute one standard deviation errors\n",
       "    on the parameters use ``perr = np.sqrt(np.diag(pcov))``.\n",
       "\n",
       "    How the `sigma` parameter affects the estimated covariance\n",
       "    depends on `absolute_sigma` argument, as described above.\n",
       "\n",
       "    If the Jacobian matrix at the solution doesn't have a full rank, then\n",
       "    'lm' method returns a matrix filled with ``np.inf``, on the other hand\n",
       "    'trf'  and 'dogbox' methods use Moore-Penrose pseudoinverse to compute\n",
       "    the covariance matrix.\n",
       "infodict : dict (returned only if `full_output` is True)\n",
       "    a dictionary of optional outputs with the keys:\n",
       "\n",
       "    ``nfev``\n",
       "        The number of function calls. Methods 'trf' and 'dogbox' do not\n",
       "        count function calls for numerical Jacobian approximation,\n",
       "        as opposed to 'lm' method.\n",
       "    ``fvec``\n",
       "        The function values evaluated at the solution.\n",
       "    ``fjac``\n",
       "        A permutation of the R matrix of a QR\n",
       "        factorization of the final approximate\n",
       "        Jacobian matrix, stored column wise.\n",
       "        Together with ipvt, the covariance of the\n",
       "        estimate can be approximated.\n",
       "        Method 'lm' only provides this information.\n",
       "    ``ipvt``\n",
       "        An integer array of length N which defines\n",
       "        a permutation matrix, p, such that\n",
       "        fjac*p = q*r, where r is upper triangular\n",
       "        with diagonal elements of nonincreasing\n",
       "        magnitude. Column j of p is column ipvt(j)\n",
       "        of the identity matrix.\n",
       "        Method 'lm' only provides this information.\n",
       "    ``qtf``\n",
       "        The vector (transpose(q) * fvec).\n",
       "        Method 'lm' only provides this information.\n",
       "\n",
       "    .. versionadded:: 1.9\n",
       "mesg : str (returned only if `full_output` is True)\n",
       "    A string message giving information about the solution.\n",
       "\n",
       "    .. versionadded:: 1.9\n",
       "ier : int (returnned only if `full_output` is True)\n",
       "    An integer flag. If it is equal to 1, 2, 3 or 4, the solution was\n",
       "    found. Otherwise, the solution was not found. In either case, the\n",
       "    optional output variable `mesg` gives more information.\n",
       "\n",
       "    .. versionadded:: 1.9\n",
       "\n",
       "Raises\n",
       "------\n",
       "ValueError\n",
       "    if either `ydata` or `xdata` contain NaNs, or if incompatible options\n",
       "    are used.\n",
       "\n",
       "RuntimeError\n",
       "    if the least-squares minimization fails.\n",
       "\n",
       "OptimizeWarning\n",
       "    if covariance of the parameters can not be estimated.\n",
       "\n",
       "See Also\n",
       "--------\n",
       "least_squares : Minimize the sum of squares of nonlinear functions.\n",
       "scipy.stats.linregress : Calculate a linear least squares regression for\n",
       "                         two sets of measurements.\n",
       "\n",
       "Notes\n",
       "-----\n",
       "Users should ensure that inputs `xdata`, `ydata`, and the output of `f`\n",
       "are ``float64``, or else the optimization may return incorrect results.\n",
       "\n",
       "With ``method='lm'``, the algorithm uses the Levenberg-Marquardt algorithm\n",
       "through `leastsq`. Note that this algorithm can only deal with\n",
       "unconstrained problems.\n",
       "\n",
       "Box constraints can be handled by methods 'trf' and 'dogbox'. Refer to\n",
       "the docstring of `least_squares` for more information.\n",
       "\n",
       "Examples\n",
       "--------\n",
       ">>> import matplotlib.pyplot as plt\n",
       ">>> from scipy.optimize import curve_fit\n",
       "\n",
       ">>> def func(x, a, b, c):\n",
       "...     return a * np.exp(-b * x) + c\n",
       "\n",
       "Define the data to be fit with some noise:\n",
       "\n",
       ">>> xdata = np.linspace(0, 4, 50)\n",
       ">>> y = func(xdata, 2.5, 1.3, 0.5)\n",
       ">>> rng = np.random.default_rng()\n",
       ">>> y_noise = 0.2 * rng.normal(size=xdata.size)\n",
       ">>> ydata = y + y_noise\n",
       ">>> plt.plot(xdata, ydata, 'b-', label='data')\n",
       "\n",
       "Fit for the parameters a, b, c of the function `func`:\n",
       "\n",
       ">>> popt, pcov = curve_fit(func, xdata, ydata)\n",
       ">>> popt\n",
       "array([2.56274217, 1.37268521, 0.47427475])\n",
       ">>> plt.plot(xdata, func(xdata, *popt), 'r-',\n",
       "...          label='fit: a=%5.3f, b=%5.3f, c=%5.3f' % tuple(popt))\n",
       "\n",
       "Constrain the optimization to the region of ``0 <= a <= 3``,\n",
       "``0 <= b <= 1`` and ``0 <= c <= 0.5``:\n",
       "\n",
       ">>> popt, pcov = curve_fit(func, xdata, ydata, bounds=(0, [3., 1., 0.5]))\n",
       ">>> popt\n",
       "array([2.43736712, 1.        , 0.34463856])\n",
       ">>> plt.plot(xdata, func(xdata, *popt), 'g--',\n",
       "...          label='fit: a=%5.3f, b=%5.3f, c=%5.3f' % tuple(popt))\n",
       "\n",
       ">>> plt.xlabel('x')\n",
       ">>> plt.ylabel('y')\n",
       ">>> plt.legend()\n",
       ">>> plt.show()\n",
       "\u001b[0;31mFile:\u001b[0m      /opt/tljh/user/lib/python3.9/site-packages/scipy/optimize/_minpack_py.py\n",
       "\u001b[0;31mType:\u001b[0m      function\n"
      ]
     },
     "metadata": {},
     "output_type": "display_data"
    }
   ],
   "source": [
    "import numpy as np\n",
    "from scipy.optimize import curve_fit\n",
    "\n",
    "curve_fit?\n",
    "\n"
   ]
  },
  {
   "cell_type": "markdown",
   "metadata": {
    "id": "JIKRVInONfyR"
   },
   "source": [
    "### An example with curve_fit\n",
    "\n",
    "\n",
    "\n"
   ]
  },
  {
   "cell_type": "markdown",
   "metadata": {
    "id": "pq3YQBfZNfyS"
   },
   "source": [
    "Given the data below, fit the following curve:\n",
    "\n",
    "$y(x) = \\frac{a x}{b + x}$ to it.\n",
    "\n",
    "That means, estimate the values of $a, b$ that best fit the data.\n",
    "\n",
    "\n",
    "\n"
   ]
  },
  {
   "cell_type": "code",
   "execution_count": 39,
   "metadata": {
    "colab": {
     "base_uri": "https://localhost:8080/",
     "height": 279
    },
    "executionInfo": {
     "elapsed": 270,
     "status": "ok",
     "timestamp": 1634044153472,
     "user": {
      "displayName": "John Kitchin",
      "photoUrl": "https://lh3.googleusercontent.com/a/default-user=s64",
      "userId": "14782011281593705406"
     },
     "user_tz": 240
    },
    "id": "4wxVASBxNfyT",
    "outputId": "9f122dee-3454-47bc-dc5e-5f742ee7ec5e"
   },
   "outputs": [
    {
     "data": {
      "image/png": "[encoded data removed]",
      "text/plain": [
       "<Figure size 432x288 with 1 Axes>"
      ]
     },
     "metadata": {
      "needs_background": "light"
     },
     "output_type": "display_data"
    }
   ],
   "source": [
    "import matplotlib.pyplot as plt\n",
    "\n",
    "x = np.array([0.5, 0.387, 0.24, 0.136, 0.04, 0.011])\n",
    "y = np.array([1.255, 1.25, 1.189, 1.124, 0.783, 0.402])\n",
    "\n",
    "plt.plot(x, y, \"bo\")\n",
    "plt.xlabel(\"x\")\n",
    "plt.ylabel(\"y\");\n",
    "\n"
   ]
  },
  {
   "cell_type": "markdown",
   "metadata": {
    "id": "CM-mPrONNfya"
   },
   "source": [
    "What should we use for an initial guess? At $x=0$, $y = 0$, which isn't that helpful. At large $x$, we have $y=a$. From the data, we can guess that $a \\approx 1.2$. For small x, we have $y = a/b x$. So, if we estimate the slope, we can estimate b. We arrive at these guesses by thoughtful inspection of the data, and the model that we use to fit it.\n",
    "\n",
    "\n",
    "\n"
   ]
  },
  {
   "cell_type": "code",
   "execution_count": 41,
   "metadata": {
    "colab": {
     "base_uri": "https://localhost:8080/"
    },
    "executionInfo": {
     "elapsed": 114,
     "status": "ok",
     "timestamp": 1634044361459,
     "user": {
      "displayName": "John Kitchin",
      "photoUrl": "https://lh3.googleusercontent.com/a/default-user=s64",
      "userId": "14782011281593705406"
     },
     "user_tz": 240
    },
    "id": "gPmAj7tiNfyb",
    "outputId": "e5001f7a-31ff-41ed-e9f5-0c6f13dd4d47"
   },
   "outputs": [
    {
     "data": {
      "text/plain": [
       "(1.2, 0.0781156032363354)"
      ]
     },
     "execution_count": 41,
     "metadata": {},
     "output_type": "execute_result"
    }
   ],
   "source": [
    "a0 = 1.2\n",
    "m = np.gradient(y, x, edge_order=2)  # m = a / b  ->  b = a / m\n",
    "\n",
    "b0 = a0 / m[-1]\n",
    "a0, b0\n",
    "\n"
   ]
  },
  {
   "cell_type": "markdown",
   "metadata": {
    "id": "e_oZ4C5BNfyh"
   },
   "source": [
    "Now for the fitting.\n",
    "\n",
    "\n",
    "\n"
   ]
  },
  {
   "cell_type": "code",
   "execution_count": 52,
   "metadata": {
    "colab": {
     "base_uri": "https://localhost:8080/"
    },
    "executionInfo": {
     "elapsed": 180,
     "status": "ok",
     "timestamp": 1634044771771,
     "user": {
      "displayName": "John Kitchin",
      "photoUrl": "https://lh3.googleusercontent.com/a/default-user=s64",
      "userId": "14782011281593705406"
     },
     "user_tz": 240
    },
    "id": "UiMZG2VaNfyi",
    "outputId": "d84b1b1b-a897-43fe-dfca-2162a4dfef3d"
   },
   "outputs": [
    {
     "data": {
      "text/plain": [
       "array([1.32753143, 0.02646156])"
      ]
     },
     "execution_count": 52,
     "metadata": {},
     "output_type": "execute_result"
    }
   ],
   "source": [
    "# this is the function we want to fit to our data\n",
    "def func(x, a, b):\n",
    "    return a * x / (b + x)\n",
    "\n",
    "\n",
    "initial_guess = [a0, b0]\n",
    "pars, pcov = curve_fit(func, x, y, p0=initial_guess)\n",
    "\n",
    "pars\n",
    "\n"
   ]
  },
  {
   "cell_type": "code",
   "execution_count": 53,
   "metadata": {},
   "outputs": [
    {
     "data": {
      "text/plain": [
       "array([0.00972282, 0.0010279 ])"
      ]
     },
     "execution_count": 53,
     "metadata": {},
     "output_type": "execute_result"
    }
   ],
   "source": [
    "np.sqrt(np.diag(pcov))"
   ]
  },
  {
   "cell_type": "markdown",
   "metadata": {
    "id": "SmIs0ZjfNfyq"
   },
   "source": [
    "*Always* check the fit visually.\n",
    "\n",
    "\n",
    "\n"
   ]
  },
  {
   "cell_type": "code",
   "execution_count": 54,
   "metadata": {
    "colab": {
     "base_uri": "https://localhost:8080/",
     "height": 279
    },
    "executionInfo": {
     "elapsed": 316,
     "status": "ok",
     "timestamp": 1634044775028,
     "user": {
      "displayName": "John Kitchin",
      "photoUrl": "https://lh3.googleusercontent.com/a/default-user=s64",
      "userId": "14782011281593705406"
     },
     "user_tz": 240
    },
    "id": "p7a6eGJcNfyr",
    "outputId": "74f67976-0961-4ebb-d727-269d8bd8867d"
   },
   "outputs": [
    {
     "data": {
      "image/png": "[encoded data removed]",
      "text/plain": [
       "<Figure size 432x288 with 1 Axes>"
      ]
     },
     "metadata": {
      "needs_background": "light"
     },
     "output_type": "display_data"
    }
   ],
   "source": [
    "plt.plot(x, y, \"bo\")\n",
    "xfit = np.linspace(0, 0.5, 1000)\n",
    "plt.plot(xfit, func(xfit, *pars))\n",
    "plt.xlabel(\"x\")\n",
    "plt.ylabel(\"y\")\n",
    "plt.legend([\"data\", \"fit\"]);\n",
    "\n"
   ]
  },
  {
   "cell_type": "markdown",
   "metadata": {
    "id": "w4dhouxBNfyx"
   },
   "source": [
    "**exercise** Try different initial guesses and find one that does not look this good. Try negative values (e.g. -0.1 for b). Explain what the problem is.\n",
    "\n",
    "\n",
    "\n"
   ]
  },
  {
   "cell_type": "markdown",
   "metadata": {
    "id": "uvWd9p1yNfyz"
   },
   "source": [
    "### Uncertainty estimation\n",
    "\n",
    "\n",
    "\n"
   ]
  },
  {
   "cell_type": "markdown",
   "metadata": {
    "id": "1ofMa1ubNfy0"
   },
   "source": [
    "Recall from the documentation of curve\\_fit that the standard deviation of each parameter is defined by:\n",
    "\n",
    "\n",
    "\n"
   ]
  },
  {
   "cell_type": "code",
   "execution_count": 55,
   "metadata": {
    "colab": {
     "base_uri": "https://localhost:8080/"
    },
    "executionInfo": {
     "elapsed": 125,
     "status": "ok",
     "timestamp": 1634044931786,
     "user": {
      "displayName": "John Kitchin",
      "photoUrl": "https://lh3.googleusercontent.com/a/default-user=s64",
      "userId": "14782011281593705406"
     },
     "user_tz": 240
    },
    "id": "Gz70ivvfNfy1",
    "outputId": "ba9ad127-3e55-4902-c50f-05bba6375ec5"
   },
   "outputs": [
    {
     "data": {
      "text/plain": [
       "array([0.00972282, 0.0010279 ])"
      ]
     },
     "execution_count": 55,
     "metadata": {},
     "output_type": "execute_result"
    }
   ],
   "source": [
    "np.sqrt(np.diag(pcov))\n",
    "\n"
   ]
  },
  {
   "cell_type": "markdown",
   "metadata": {
    "id": "bsLQUx1YNfy-"
   },
   "source": [
    "We can use these to estimate confidence intervals on the two parameters. Note that here we still use the student-t multipliers to account for the uncertainty caused by having a small data set.\n",
    "\n",
    "\n",
    "\n"
   ]
  },
  {
   "cell_type": "code",
   "execution_count": 56,
   "metadata": {
    "colab": {
     "base_uri": "https://localhost:8080/"
    },
    "executionInfo": {
     "elapsed": 118,
     "status": "ok",
     "timestamp": 1634045376708,
     "user": {
      "displayName": "John Kitchin",
      "photoUrl": "https://lh3.googleusercontent.com/a/default-user=s64",
      "userId": "14782011281593705406"
     },
     "user_tz": 240
    },
    "id": "pur9g9HzNfy_",
    "outputId": "e14f851a-6d76-4def-8c76-0f750f650ae0"
   },
   "outputs": [
    {
     "name": "stdout",
     "output_type": "stream",
     "text": [
      "p0: 1.328 [1.301  1.355]\n",
      "p1: 0.026 [0.024  0.029]\n"
     ]
    }
   ],
   "source": [
    "from scipy.stats.distributions import t\n",
    "\n",
    "alpha = 0.05  # 95% confidence interval = 100*(1-alpha)\n",
    "\n",
    "n = len(y)  # number of data points\n",
    "p = len(pars)  # number of parameters\n",
    "\n",
    "dof = max(0, n - p)  # number of degrees of freedom\n",
    "\n",
    "# student-t value for the dof and confidence level\n",
    "tval = t.ppf(1.0 - alpha / 2.0, dof)\n",
    "\n",
    "# This is an equivalent loop to the one above that does not use zip.\n",
    "# It uses indexing and is a little longer.\n",
    "for i in range(len(pars)):\n",
    "    p = pars[i]\n",
    "    variance = np.diag(pcov)[i]\n",
    "    sigma = variance**0.5\n",
    "    print(f\"p{i}: {p:1.3f} [{p - sigma * tval:1.3f}  {p + sigma * tval:1.3f}]\")\n",
    "\n"
   ]
  },
  {
   "cell_type": "code",
   "execution_count": 58,
   "metadata": {},
   "outputs": [
    {
     "name": "stdout",
     "output_type": "stream",
     "text": [
      "p0: 1.328 [1.301  1.355]\n",
      "p1: 0.026 [0.024  0.029]\n"
     ]
    }
   ],
   "source": [
    "for i, p, var in zip(range(n), pars, np.diag(pcov)):\n",
    "    sigma = var**0.5\n",
    "    print(f\"p{i}: {p:1.3f} [{p - sigma * tval:1.3f}  {p + sigma * tval:1.3f}]\")"
   ]
  },
  {
   "cell_type": "markdown",
   "metadata": {
    "id": "eTMZ4YAlNfzG"
   },
   "source": [
    "The interpretation of this is that we do not know exactly what the parameters are, but we can be 95% confident that they fall in these ranges. These ranges do not include zero, so that is an indication that the parameters are significant.\n",
    "\n",
    "It is *not expected* that you learn all the details above. They have been coded into the \"Python computations in science and engineering\" [pycse](https://kitchingroup.cheme.cmu.edu/pycse/) package. This is not part of Anaconda; you have to install it yourself (it is provided in this environment). This code block should do that and install some dependencies (you only need to run in every colab notebook).\n",
    "\n",
    "\n",
    "\n"
   ]
  },
  {
   "cell_type": "markdown",
   "metadata": {
    "id": "WOwaBnbINfzM"
   },
   "source": [
    "After that, you can import the nlinfit command and use it to get confidence intervals directly.\n",
    "\n",
    "\n",
    "\n"
   ]
  },
  {
   "cell_type": "code",
   "execution_count": 59,
   "metadata": {
    "executionInfo": {
     "elapsed": 302,
     "status": "ok",
     "timestamp": 1634045413289,
     "user": {
      "displayName": "John Kitchin",
      "photoUrl": "https://lh3.googleusercontent.com/a/default-user=s64",
      "userId": "14782011281593705406"
     },
     "user_tz": 240
    },
    "id": "Ff20k3OvNfzN"
   },
   "outputs": [
    {
     "data": {
      "text/plain": [
       "\u001b[0;31mSignature:\u001b[0m \u001b[0mnlinfit\u001b[0m\u001b[0;34m(\u001b[0m\u001b[0mmodel\u001b[0m\u001b[0;34m,\u001b[0m \u001b[0mx\u001b[0m\u001b[0;34m,\u001b[0m \u001b[0my\u001b[0m\u001b[0;34m,\u001b[0m \u001b[0mp0\u001b[0m\u001b[0;34m,\u001b[0m \u001b[0malpha\u001b[0m\u001b[0;34m=\u001b[0m\u001b[0;36m0.05\u001b[0m\u001b[0;34m,\u001b[0m \u001b[0;34m**\u001b[0m\u001b[0mkwargs\u001b[0m\u001b[0;34m)\u001b[0m\u001b[0;34m\u001b[0m\u001b[0;34m\u001b[0m\u001b[0m\n",
       "\u001b[0;31mSource:\u001b[0m   \n",
       "\u001b[0;32mdef\u001b[0m \u001b[0mnlinfit\u001b[0m\u001b[0;34m(\u001b[0m\u001b[0mmodel\u001b[0m\u001b[0;34m,\u001b[0m \u001b[0mx\u001b[0m\u001b[0;34m,\u001b[0m \u001b[0my\u001b[0m\u001b[0;34m,\u001b[0m \u001b[0mp0\u001b[0m\u001b[0;34m,\u001b[0m \u001b[0malpha\u001b[0m\u001b[0;34m=\u001b[0m\u001b[0;36m0.05\u001b[0m\u001b[0;34m,\u001b[0m \u001b[0;34m**\u001b[0m\u001b[0mkwargs\u001b[0m\u001b[0;34m)\u001b[0m\u001b[0;34m:\u001b[0m\u001b[0;34m\u001b[0m\n",
       "\u001b[0;34m\u001b[0m    \u001b[0;34mr\"\"\"Nonlinear regression with confidence intervals.\u001b[0m\n",
       "\u001b[0;34m\u001b[0m\n",
       "\u001b[0;34m    Parameters\u001b[0m\n",
       "\u001b[0;34m    ----------\u001b[0m\n",
       "\u001b[0;34m    model : function f(x, p0, p1, ...) = y\u001b[0m\n",
       "\u001b[0;34m    x : array of the independent data\u001b[0m\n",
       "\u001b[0;34m    y : array of the dependent data\u001b[0m\n",
       "\u001b[0;34m    p0 : array of the initial guess of the parameters\u001b[0m\n",
       "\u001b[0;34m    alpha : 100*(1 - alpha) is the confidence interval\u001b[0m\n",
       "\u001b[0;34m        i.e. alpha = 0.05 is 95% confidence\u001b[0m\n",
       "\u001b[0;34m\u001b[0m\n",
       "\u001b[0;34m    kwargs are passed to curve_fit.\u001b[0m\n",
       "\u001b[0;34m\u001b[0m\n",
       "\u001b[0;34m    Example\u001b[0m\n",
       "\u001b[0;34m    -------\u001b[0m\n",
       "\u001b[0;34m    Fit a line \\(y = mx + b\\) to some data.\u001b[0m\n",
       "\u001b[0;34m\u001b[0m\n",
       "\u001b[0;34m    >>> import numpy as np\u001b[0m\n",
       "\u001b[0;34m    >>> def f(x, m, b):\u001b[0m\n",
       "\u001b[0;34m    ...    return m * x + b\u001b[0m\n",
       "\u001b[0;34m    ...\u001b[0m\n",
       "\u001b[0;34m    >>> X = np.array([0, 1, 2])\u001b[0m\n",
       "\u001b[0;34m    >>> y = np.array([0, 2, 4])\u001b[0m\n",
       "\u001b[0;34m    >>> nlinfit(f, X, y, [0, 1])\u001b[0m\n",
       "\u001b[0;34m    (array([  2.00000000e+00,  -2.18062024e-12]),\u001b[0m\n",
       "\u001b[0;34m     array([[  2.00000000e+00,   2.00000000e+00],\u001b[0m\n",
       "\u001b[0;34m           [ -2.18315458e-12,  -2.17808591e-12]]),\u001b[0m\n",
       "\u001b[0;34m     array([  1.21903752e-12,   1.99456367e-16]))\u001b[0m\n",
       "\u001b[0;34m\u001b[0m\n",
       "\u001b[0;34m    Returns\u001b[0m\n",
       "\u001b[0;34m    -------\u001b[0m\n",
       "\u001b[0;34m    [p, pint, SE]\u001b[0m\n",
       "\u001b[0;34m      p is an array of the fitted parameters\u001b[0m\n",
       "\u001b[0;34m      pint is an array of confidence intervals\u001b[0m\n",
       "\u001b[0;34m      SE is an array of standard errors for the parameters.\u001b[0m\n",
       "\u001b[0;34m\u001b[0m\n",
       "\u001b[0;34m    \"\"\"\u001b[0m\u001b[0;34m\u001b[0m\n",
       "\u001b[0;34m\u001b[0m    \u001b[0mpars\u001b[0m\u001b[0;34m,\u001b[0m \u001b[0mpcov\u001b[0m \u001b[0;34m=\u001b[0m \u001b[0mcurve_fit\u001b[0m\u001b[0;34m(\u001b[0m\u001b[0mmodel\u001b[0m\u001b[0;34m,\u001b[0m \u001b[0mx\u001b[0m\u001b[0;34m,\u001b[0m \u001b[0my\u001b[0m\u001b[0;34m,\u001b[0m \u001b[0mp0\u001b[0m\u001b[0;34m=\u001b[0m\u001b[0mp0\u001b[0m\u001b[0;34m,\u001b[0m \u001b[0;34m**\u001b[0m\u001b[0mkwargs\u001b[0m\u001b[0;34m)\u001b[0m\u001b[0;34m\u001b[0m\n",
       "\u001b[0;34m\u001b[0m    \u001b[0mn\u001b[0m \u001b[0;34m=\u001b[0m \u001b[0mlen\u001b[0m\u001b[0;34m(\u001b[0m\u001b[0my\u001b[0m\u001b[0;34m)\u001b[0m  \u001b[0;31m# number of data points\u001b[0m\u001b[0;34m\u001b[0m\n",
       "\u001b[0;34m\u001b[0m    \u001b[0mp\u001b[0m \u001b[0;34m=\u001b[0m \u001b[0mlen\u001b[0m\u001b[0;34m(\u001b[0m\u001b[0mpars\u001b[0m\u001b[0;34m)\u001b[0m  \u001b[0;31m# number of parameters\u001b[0m\u001b[0;34m\u001b[0m\n",
       "\u001b[0;34m\u001b[0m\u001b[0;34m\u001b[0m\n",
       "\u001b[0;34m\u001b[0m    \u001b[0mdof\u001b[0m \u001b[0;34m=\u001b[0m \u001b[0mmax\u001b[0m\u001b[0;34m(\u001b[0m\u001b[0;36m0\u001b[0m\u001b[0;34m,\u001b[0m \u001b[0mn\u001b[0m \u001b[0;34m-\u001b[0m \u001b[0mp\u001b[0m\u001b[0;34m)\u001b[0m  \u001b[0;31m# number of degrees of freedom\u001b[0m\u001b[0;34m\u001b[0m\n",
       "\u001b[0;34m\u001b[0m\u001b[0;34m\u001b[0m\n",
       "\u001b[0;34m\u001b[0m    \u001b[0;31m# student-t value for the dof and confidence level\u001b[0m\u001b[0;34m\u001b[0m\n",
       "\u001b[0;34m\u001b[0m    \u001b[0mtval\u001b[0m \u001b[0;34m=\u001b[0m \u001b[0mt\u001b[0m\u001b[0;34m.\u001b[0m\u001b[0mppf\u001b[0m\u001b[0;34m(\u001b[0m\u001b[0;36m1.0\u001b[0m \u001b[0;34m-\u001b[0m \u001b[0malpha\u001b[0m \u001b[0;34m/\u001b[0m \u001b[0;36m2.0\u001b[0m\u001b[0;34m,\u001b[0m \u001b[0mdof\u001b[0m\u001b[0;34m)\u001b[0m\u001b[0;34m\u001b[0m\n",
       "\u001b[0;34m\u001b[0m\u001b[0;34m\u001b[0m\n",
       "\u001b[0;34m\u001b[0m    \u001b[0mSE\u001b[0m \u001b[0;34m=\u001b[0m \u001b[0;34m[\u001b[0m\u001b[0;34m]\u001b[0m\u001b[0;34m\u001b[0m\n",
       "\u001b[0;34m\u001b[0m    \u001b[0mpint\u001b[0m \u001b[0;34m=\u001b[0m \u001b[0;34m[\u001b[0m\u001b[0;34m]\u001b[0m\u001b[0;34m\u001b[0m\n",
       "\u001b[0;34m\u001b[0m    \u001b[0;32mfor\u001b[0m \u001b[0mp\u001b[0m\u001b[0;34m,\u001b[0m \u001b[0mvar\u001b[0m \u001b[0;32min\u001b[0m \u001b[0mzip\u001b[0m\u001b[0;34m(\u001b[0m\u001b[0mpars\u001b[0m\u001b[0;34m,\u001b[0m \u001b[0mnp\u001b[0m\u001b[0;34m.\u001b[0m\u001b[0mdiag\u001b[0m\u001b[0;34m(\u001b[0m\u001b[0mpcov\u001b[0m\u001b[0;34m)\u001b[0m\u001b[0;34m)\u001b[0m\u001b[0;34m:\u001b[0m\u001b[0;34m\u001b[0m\n",
       "\u001b[0;34m\u001b[0m        \u001b[0msigma\u001b[0m \u001b[0;34m=\u001b[0m \u001b[0mvar\u001b[0m\u001b[0;34m**\u001b[0m\u001b[0;36m0.5\u001b[0m\u001b[0;34m\u001b[0m\n",
       "\u001b[0;34m\u001b[0m        \u001b[0mSE\u001b[0m\u001b[0;34m.\u001b[0m\u001b[0mappend\u001b[0m\u001b[0;34m(\u001b[0m\u001b[0msigma\u001b[0m\u001b[0;34m)\u001b[0m\u001b[0;34m\u001b[0m\n",
       "\u001b[0;34m\u001b[0m        \u001b[0mpint\u001b[0m\u001b[0;34m.\u001b[0m\u001b[0mappend\u001b[0m\u001b[0;34m(\u001b[0m\u001b[0;34m[\u001b[0m\u001b[0mp\u001b[0m \u001b[0;34m-\u001b[0m \u001b[0msigma\u001b[0m \u001b[0;34m*\u001b[0m \u001b[0mtval\u001b[0m\u001b[0;34m,\u001b[0m \u001b[0mp\u001b[0m \u001b[0;34m+\u001b[0m \u001b[0msigma\u001b[0m \u001b[0;34m*\u001b[0m \u001b[0mtval\u001b[0m\u001b[0;34m]\u001b[0m\u001b[0;34m)\u001b[0m\u001b[0;34m\u001b[0m\n",
       "\u001b[0;34m\u001b[0m\u001b[0;34m\u001b[0m\n",
       "\u001b[0;34m\u001b[0m    \u001b[0;32mreturn\u001b[0m \u001b[0;34m(\u001b[0m\u001b[0mpars\u001b[0m\u001b[0;34m,\u001b[0m \u001b[0mnp\u001b[0m\u001b[0;34m.\u001b[0m\u001b[0marray\u001b[0m\u001b[0;34m(\u001b[0m\u001b[0mpint\u001b[0m\u001b[0;34m)\u001b[0m\u001b[0;34m,\u001b[0m \u001b[0mnp\u001b[0m\u001b[0;34m.\u001b[0m\u001b[0marray\u001b[0m\u001b[0;34m(\u001b[0m\u001b[0mSE\u001b[0m\u001b[0;34m)\u001b[0m\u001b[0;34m)\u001b[0m\u001b[0;34m\u001b[0m\u001b[0;34m\u001b[0m\u001b[0m\n",
       "\u001b[0;31mFile:\u001b[0m      /opt/tljh/user/lib/python3.9/site-packages/pycse/PYCSE.py\n",
       "\u001b[0;31mType:\u001b[0m      function\n"
      ]
     },
     "metadata": {},
     "output_type": "display_data"
    }
   ],
   "source": [
    "from pycse import nlinfit\n",
    "\n",
    "nlinfit??\n",
    "\n"
   ]
  },
  {
   "cell_type": "code",
   "execution_count": 63,
   "metadata": {
    "colab": {
     "base_uri": "https://localhost:8080/"
    },
    "executionInfo": {
     "elapsed": 177,
     "status": "ok",
     "timestamp": 1634045567967,
     "user": {
      "displayName": "John Kitchin",
      "photoUrl": "https://lh3.googleusercontent.com/a/default-user=s64",
      "userId": "14782011281593705406"
     },
     "user_tz": 240
    },
    "id": "L3DblYF8NfzT",
    "outputId": "8438ccad-3cda-4052-cc75-4e44a1ccd83c"
   },
   "outputs": [
    {
     "name": "stdout",
     "output_type": "stream",
     "text": [
      "1.328, [1.301 1.355], 0.0097\n",
      "0.026, [0.024 0.029], 0.0010\n"
     ]
    }
   ],
   "source": [
    "pars, pars_ci, se = nlinfit(func, x, y, [a0, b0], 0.05)\n",
    "\n",
    "for i, par in enumerate(pars):\n",
    "    print(f\"{par:1.3f}, {np.round(pars_ci[i], 3)}, {se[i]:1.4f}\")\n",
    "\n"
   ]
  },
  {
   "cell_type": "markdown",
   "metadata": {
    "id": "9pSrGi3hNfzY"
   },
   "source": [
    "It is important to realize that:\n",
    "\n",
    "1.  The size of the confidence interval depends on the number of parameters, data points, and desired confidence level.\n",
    "2.  The root of this is the minimization of an error function.\n",
    "\n",
    "\n",
    "\n"
   ]
  },
  {
   "cell_type": "markdown",
   "metadata": {
    "id": "yW1t6cgyNfzZ"
   },
   "source": [
    "### What about uncertainty on the predictions?\n",
    "\n",
    "\n",
    "\n"
   ]
  },
  {
   "cell_type": "markdown",
   "metadata": {
    "id": "bYTqvq-pNfzb"
   },
   "source": [
    "Consider the fit again, and extrapolate it to larger $x$:\n",
    "\n",
    "\n",
    "\n"
   ]
  },
  {
   "cell_type": "code",
   "execution_count": 64,
   "metadata": {
    "colab": {
     "base_uri": "https://localhost:8080/",
     "height": 296
    },
    "executionInfo": {
     "elapsed": 316,
     "status": "ok",
     "timestamp": 1634045606553,
     "user": {
      "displayName": "John Kitchin",
      "photoUrl": "https://lh3.googleusercontent.com/a/default-user=s64",
      "userId": "14782011281593705406"
     },
     "user_tz": 240
    },
    "id": "JhCqLN7vNfzc",
    "outputId": "c77f653b-649c-43c1-b32d-8d12a733d0ec"
   },
   "outputs": [
    {
     "data": {
      "text/plain": [
       "1.3205427044923441"
      ]
     },
     "execution_count": 64,
     "metadata": {},
     "output_type": "execute_result"
    },
    {
     "data": {
      "image/png": "[encoded data removed]",
      "text/plain": [
       "<Figure size 432x288 with 1 Axes>"
      ]
     },
     "metadata": {
      "needs_background": "light"
     },
     "output_type": "display_data"
    }
   ],
   "source": [
    "plt.plot(x, y, \"bo\")\n",
    "xfit = np.linspace(0, 5)\n",
    "plt.plot(xfit, func(xfit, *pars))\n",
    "plt.xlabel(\"x\")\n",
    "plt.ylabel(\"y\")\n",
    "plt.legend([\"data\", \"fit\"])\n",
    "func(xfit, *pars)[-1]\n",
    "\n"
   ]
  },
  {
   "cell_type": "markdown",
   "metadata": {
    "id": "XH1-OxI8Nfzh"
   },
   "source": [
    "We estimate the model plateaus at about y=1.32, but what is an appropriate estimate of the error in this? There are uncertainties in the model parameters, so there must be uncertainty in the predictions. To estimate this, we first look at how to generate a distribution of random numbers with a normal distribution around some mean with some standard error.\n",
    "\n",
    "\n",
    "\n"
   ]
  },
  {
   "cell_type": "code",
   "execution_count": 68,
   "metadata": {
    "colab": {
     "base_uri": "https://localhost:8080/",
     "height": 265
    },
    "executionInfo": {
     "elapsed": 288,
     "status": "ok",
     "timestamp": 1634045710163,
     "user": {
      "displayName": "John Kitchin",
      "photoUrl": "https://lh3.googleusercontent.com/a/default-user=s64",
      "userId": "14782011281593705406"
     },
     "user_tz": 240
    },
    "id": "EuKQd4hqNfzj",
    "outputId": "2418f6ae-3e0e-4770-f15f-ccbb1c95a149"
   },
   "outputs": [
    {
     "data": {
      "image/png": "[encoded data removed]",
      "text/plain": [
       "<Figure size 432x288 with 1 Axes>"
      ]
     },
     "metadata": {
      "needs_background": "light"
     },
     "output_type": "display_data"
    },
    {
     "data": {
      "image/png": "[encoded data removed]",
      "text/plain": [
       "<Figure size 432x288 with 1 Axes>"
      ]
     },
     "metadata": {
      "needs_background": "light"
     },
     "output_type": "display_data"
    }
   ],
   "source": [
    "p0_mean = pars[0]\n",
    "p0_se = se[0]\n",
    "\n",
    "p0_dist = np.random.normal(p0_mean, p0_se, 50000)\n",
    "plt.hist(p0_dist, bins=20);\n",
    "\n",
    "p1_dist = np.random.normal(pars[1], se[1], 50000)\n",
    "\n",
    "plt.figure()\n",
    "plt.hist(p1_dist, bins=20);"
   ]
  },
  {
   "cell_type": "markdown",
   "metadata": {
    "id": "_cyGvlv4Nfzq"
   },
   "source": [
    "So the idea is we can generate a distribution of the parameters\n",
    "\n",
    "\n",
    "\n"
   ]
  },
  {
   "cell_type": "code",
   "execution_count": 71,
   "metadata": {
    "colab": {
     "base_uri": "https://localhost:8080/",
     "height": 282
    },
    "executionInfo": {
     "elapsed": 137,
     "status": "ok",
     "timestamp": 1634045764257,
     "user": {
      "displayName": "John Kitchin",
      "photoUrl": "https://lh3.googleusercontent.com/a/default-user=s64",
      "userId": "14782011281593705406"
     },
     "user_tz": 240
    },
    "id": "4o9-FqoyNfzr",
    "outputId": "e6714c40-7487-48e4-cfb5-f3fc48d43e56"
   },
   "outputs": [
    {
     "data": {
      "text/plain": [
       "(1.3205427044923441, 1.3205284560939283, 0.009661588181828103)"
      ]
     },
     "execution_count": 71,
     "metadata": {},
     "output_type": "execute_result"
    },
    {
     "data": {
      "image/png": "[encoded data removed]",
      "text/plain": [
       "<Figure size 432x288 with 1 Axes>"
      ]
     },
     "metadata": {
      "needs_background": "light"
     },
     "output_type": "display_data"
    }
   ],
   "source": [
    "# estimate distribution for y(5)\n",
    "y5 = [func(5, p0, p1) for p0, p1 in zip(p0_dist, p1_dist)]\n",
    "plt.hist(y5, bins=20)\n",
    "\n",
    "func(5, *pars), np.mean(y5), np.std(y5)\n",
    "\n"
   ]
  },
  {
   "cell_type": "code",
   "execution_count": 72,
   "metadata": {
    "id": "XPOXWrq0LfDu"
   },
   "outputs": [
    {
     "data": {
      "text/plain": [
       "array([0.00972282, 0.0010279 ])"
      ]
     },
     "execution_count": 72,
     "metadata": {},
     "output_type": "execute_result"
    }
   ],
   "source": [
    "se\n",
    "\n"
   ]
  },
  {
   "cell_type": "markdown",
   "metadata": {
    "id": "eBoJG0wLNfzx"
   },
   "source": [
    "Well, in 20/20 hindsight, we might have guessed the uncertainty in the asymptote would be just like the uncertainty in the $a$ parameter. In this case, it is appropriate to use three significant figures given the uncertainty on the answer. A useful guideline is that the 95% confidence interval is about &plusmn; 2 &sigma;. At &plusmn; 1 &sigma; you only have about a 60% confidence interval.\n",
    "\n",
    "\n",
    "\n"
   ]
  },
  {
   "cell_type": "code",
   "execution_count": 73,
   "metadata": {
    "colab": {
     "base_uri": "https://localhost:8080/"
    },
    "executionInfo": {
     "elapsed": 186,
     "status": "ok",
     "timestamp": 1634045830087,
     "user": {
      "displayName": "John Kitchin",
      "photoUrl": "https://lh3.googleusercontent.com/a/default-user=s64",
      "userId": "14782011281593705406"
     },
     "user_tz": 240
    },
    "id": "yUZ0XsxBNfzz",
    "outputId": "0311fcfe-aa50-4ee2-dba4-1e039f335239"
   },
   "outputs": [
    {
     "name": "stdout",
     "output_type": "stream",
     "text": [
      "At x=5, y=1.321 +- 0.019 at about the 95% confidence level.\n"
     ]
    }
   ],
   "source": [
    "print(\n",
    "    f\"At x=5, y={np.mean(y5):1.3f} +- {2 * np.std(y5):1.3f} at about the 95% confidence level.\"\n",
    ")\n",
    "\n"
   ]
  },
  {
   "cell_type": "markdown",
   "metadata": {
    "id": "q0pcSlcWNfz4"
   },
   "source": [
    "So we are not that uncertain after all in this case.\n",
    "\n",
    "This method of error propagation is not perfect as it assumes the errors between the parameters are independent, and that they are normally distributed. However, the method is very simple to do, and simply relies on sampling the parameters from their respective distributions, and letting the results propagate naturally through the model. You do need to check for convergence with the sample size. This method is called a Monte Carlo propagation of errors.\n",
    "\n"
   ]
  },
  {
   "cell_type": "markdown",
   "metadata": {
    "id": "s61kAkJPNfz5"
   },
   "source": [
    "## Summary\n",
    "\n",
    "\n",
    "\n"
   ]
  },
  {
   "cell_type": "markdown",
   "metadata": {
    "id": "2f7W7d7-Nfz6"
   },
   "source": [
    "We covered a lot of ground today. The key points are:\n",
    "\n",
    "1.  Regression is a minimization of an accumulated error function.\n",
    "2.  If you need uncertainty on the parameters from a regression, use `pycse.nlinfit`.\n",
    "3.  If you need uncertainty on model predictions, you can either simulate it, or derive it. We will learn more about deriving it later.\n",
    "\n",
    "\n",
    "\n"
   ]
  },
  {
   "cell_type": "code",
   "execution_count": 74,
   "metadata": {},
   "outputs": [
    {
     "name": "stdout",
     "output_type": "stream",
     "text": [
      "\n"
     ]
    },
    {
     "data": {
      "text/html": [
       "<div id=\"gKvAlUCFNqLe\" data-shufflequestions=\"False\"\n",
       "               data-shuffleanswers=\"True\"\n",
       "               data-preserveresponses=\"false\"\n",
       "               data-numquestions=\"1000000\"> <style>:root {\n",
       "    --medium-slate-blue: #6f78ffff;\n",
       "    --orange-pantone: #f75c03ff;\n",
       "    --russian-violet: #392061ff;\n",
       "    --maximum-yellow-red: #ffc857ff;\n",
       "    --viridian-green: #119da4ff;\n",
       "    --incorrect-red: #c80202;\n",
       "    --correct-green: #009113;\n",
       "}\n",
       "\n",
       ".Quiz {\n",
       "    max-width: 600px;\n",
       "    margin-top: 15px;\n",
       "    margin-left: auto;\n",
       "    margin-right: auto;\n",
       "    margin-bottom: 15px;\n",
       "    padding-bottom: 4px;\n",
       "    padding-top: 4px;\n",
       "    line-height: 1.1;\n",
       "    font-size: 16pt;\n",
       "}\n",
       "\n",
       ".QuizCode {\n",
       "    font-size: 14pt;\n",
       "    margin-top: 10px;\n",
       "    margin-left: 20px;\n",
       "    margin-right: 20px;\n",
       "}\n",
       "\n",
       ".QuizCode>pre {\n",
       "    padding: 4px;\n",
       "}\n",
       "\n",
       ".Answer {\n",
       "    margin: 10px 0;\n",
       "    display: grid;\n",
       "    grid-template-columns: auto auto;\n",
       "    grid-gap: 10px;\n",
       "}\n",
       "\n",
       ".Feedback {\n",
       "    font-size: 16pt;\n",
       "    text-align: center;\n",
       "    min-height: 2em;\n",
       "}\n",
       "\n",
       ".Input {\n",
       "    align: left;\n",
       "    font-size: 20pt;\n",
       "}\n",
       "\n",
       ".Input-text {\n",
       "    display: block;\n",
       "    margin: 10px;\n",
       "    color: inherit;\n",
       "    width: 140px;\n",
       "    background-color: #c0c0c0;\n",
       "    color: #fff;\n",
       "    padding: 5px;\n",
       "    padding-left: 10px;\n",
       "    font-family: inherit;\n",
       "    font-size: 20px;\n",
       "    font-weight: inherit;\n",
       "    line-height: 20pt;\n",
       "    border: none;\n",
       "    border-radius: 0.2rem;\n",
       "    transition: box-shadow 0.1s);\n",
       "}\n",
       "\n",
       ".Input-text:focus {\n",
       "    outline: none;\n",
       "    background-color: #c0c0c0;\n",
       "    box-shadow: 0.6rem 0.8rem 1.4rem -0.5rem #999999;\n",
       "}\n",
       "\n",
       ".MCButton {\n",
       "    background: #fafafa;\n",
       "    border: 1px solid #eee;\n",
       "    border-radius: 10px;\n",
       "    padding: 10px;\n",
       "    font-size: 16px;\n",
       "    cursor: pointer;\n",
       "    text-align: center;\n",
       "}\n",
       "\n",
       ".MCButton p {\n",
       "    color: inherit;\n",
       "}\n",
       "\n",
       ".MultipleChoiceQn {\n",
       "    padding: 10px;\n",
       "    background: var(--medium-slate-blue);\n",
       "    color: #fafafa;\n",
       "    border-radius: 10px;\n",
       "}\n",
       "\n",
       ".ManyChoiceQn {\n",
       "    padding: 10px;\n",
       "    background: var(--orange-pantone);\n",
       "    color: #fafafa;\n",
       "    border-radius: 10px;\n",
       "}\n",
       "\n",
       ".NumericQn {\n",
       "    padding: 10px;\n",
       "    background: var(--russian-violet);\n",
       "    color: #fafafa;\n",
       "    border-radius: 10px;\n",
       "}\n",
       "\n",
       ".NumericQn p {\n",
       "    color: inherit;\n",
       "}\n",
       "\n",
       ".InpLabel {\n",
       "    line-height: 34px;\n",
       "    float: left;\n",
       "    margin-right: 10px;\n",
       "    color: #101010;\n",
       "    font-size: 15pt;\n",
       "}\n",
       "\n",
       ".incorrect {\n",
       "    color: var(--incorrect-red);\n",
       "}\n",
       "\n",
       ".correct {\n",
       "    color: var(--correct-green);\n",
       "}\n",
       "\n",
       ".correctButton {\n",
       "    /*\n",
       "    background: var(--correct-green);\n",
       "   */\n",
       "    animation: correct-anim 0.6s ease;\n",
       "    animation-fill-mode: forwards;\n",
       "    color: #fafafa;\n",
       "    box-shadow: inset 0px 0px 5px #555555;\n",
       "    outline: none;\n",
       "}\n",
       "\n",
       ".incorrectButton {\n",
       "    animation: incorrect-anim 0.8s ease;\n",
       "    animation-fill-mode: forwards;\n",
       "    color: #fafafa;\n",
       "    box-shadow: inset 0px 0px 5px #555555;\n",
       "    outline: none;\n",
       "}\n",
       "\n",
       "@keyframes incorrect-anim {\n",
       "    100% {\n",
       "        background-color: var(--incorrect-red);\n",
       "    }\n",
       "}\n",
       "\n",
       "@keyframes correct-anim {\n",
       "    100% {\n",
       "        background-color: var(--correct-green);\n",
       "    }\n",
       "}</style>"
      ],
      "text/plain": [
       "<IPython.core.display.HTML object>"
      ]
     },
     "metadata": {},
     "output_type": "display_data"
    },
    {
     "data": {
      "application/javascript": [
       "var questionsgKvAlUCFNqLe=[{\"question\": \"Regression is a useful method to find a model which generalizes a data set because\", \"type\": \"multiple_choice\", \"answers\": [{\"answer\": \"It provides parameters which can have physical significance\", \"correct\": false}, {\"answer\": \"It can help to identify the important variables affecting a system \", \"correct\": false}, {\"answer\": \"It is not a black-box model\", \"correct\": false}, {\"answer\": \"All of the above\", \"correct\": true}], \"tag\": \"regression\", \"lecture_file\": \"11_regression\"}, {\"question\": \"Which of the following is a linear regression model:\", \"type\": \"multiple_choice\", \"answers\": [{\"answer\": \"y = e^x + x\", \"correct\": false}, {\"answer\": \"y = sin(x) + 5\", \"correct\": false}, {\"answer\": \"y = x + x^2\", \"correct\": false}, {\"answer\": \"All of the above\", \"correct\": true}], \"tag\": \"regression\", \"lecture_file\": \"11_regression\"}, {\"question\": \"When using minimize() for regression, which of the following objective functions would cause the model to shift towards the outliers to a greater extent than the rest:<br>a: (y_pred - y)^2<br>b: (y_pred - y)<br>c: |ypred - y|\", \"type\": \"multiple_choice\", \"answers\": [{\"answer\": \"a\", \"correct\": true}, {\"answer\": \"b\", \"correct\": false}, {\"answer\": \"c\", \"correct\": false}, {\"answer\": \"All will equally affect the model\", \"correct\": false}], \"tag\": \"objective_function regression\", \"lecture_file\": \"11_regression\"}, {\"question\": \"Monte Carlo Propagation of Errors has a limited reliability because\", \"type\": \"multiple_choice\", \"answers\": [{\"answer\": \"It assumes the parameters are drawn from a normal distribution\", \"correct\": false}, {\"answer\": \"It assumes that the parameter errors are independent of each other\", \"correct\": false}, {\"answer\": \"All of the above\", \"correct\": true}, {\"answer\": \"None of the above\", \"correct\": false}], \"tag\": \"uncertainty monte_carlo\", \"lecture_file\": \"11_regression\"}, {\"question\": \"The size of the confidence interval depends on\", \"type\": \"multiple_choice\", \"answers\": [{\"answer\": \"Chosen confidence level\", \"correct\": false}, {\"answer\": \"Number of parameters\", \"correct\": false}, {\"answer\": \"Number of data points\", \"correct\": false}, {\"answer\": \"All of the above\", \"correct\": true}], \"tag\": \"uncertainty confidence_interval\", \"lecture_file\": \"11_regression\"}, {\"question\": \"An increase in the number of measurements (data points) will result in\", \"type\": \"multiple_choice\", \"answers\": [{\"answer\": \"Narrower confidence intervals for the average value\", \"correct\": true}, {\"answer\": \"An increase in the uncertainty of the average value\", \"correct\": false}, {\"answer\": \"Broader confidence intervals for the average value\", \"correct\": false}, {\"answer\": \"No effect on the confidence intervals\", \"correct\": false}], \"tag\": \"uncertainty\", \"lecture_file\": \"11_regression\"}, {\"question\": \"A linear regression model which can correctly generalise the trend in the data has\", \"type\": \"multiple_choice\", \"answers\": [{\"answer\": \"sum squared errors = 0\", \"correct\": false}, {\"answer\": \"lowest possible sum squared errors but not necessarily zero\", \"correct\": true}, {\"answer\": \"highest sum squared error\", \"correct\": false}, {\"answer\": \"sum of errors = 0\", \"correct\": false}], \"tag\": \"regression objective_function\", \"lecture_file\": \"11_regression\"}, {\"question\": \"Calculate the degrees of freedom for the model:<br>y = 5 + x1 + 10x2 + 5x3;<br>if we have 10 sample data points\", \"type\": \"multiple_choice\", \"answers\": [{\"answer\": \"5\", \"correct\": false}, {\"answer\": \"6\", \"correct\": true}, {\"answer\": \"7\", \"correct\": false}, {\"answer\": \"4\", \"correct\": false}], \"tag\": \"uncertainty dof\", \"lecture_file\": \"11_regression\"}, {\"question\": \"Which of the following statements are true:<br>Linear regression is limiting beacause:<br>a: It assumes a linear relationship between the variables which may not always be the case<br>b: It is affected by outliers<br>c: It is overly simplistic and would always fit to noisy observations\", \"type\": \"multiple_choice\", \"answers\": [{\"answer\": \"a, b\", \"correct\": true}, {\"answer\": \"a, b, c\", \"correct\": false}, {\"answer\": \"a, c\", \"correct\": false}, {\"answer\": \"b, c\", \"correct\": false}], \"tag\": \"regression\", \"lecture_file\": \"11_regression\"}, {\"question\": \"initial_guess = [a0, b0, c0, d0]<br>pars, pcov = curve_fit(func, x, y, p0=initial_guess)<br><br>What is the variance for the parameter 'c'?\", \"type\": \"multiple_choice\", \"answers\": [{\"answer\": \"np.sqrt(np.diag(pars))[2]\", \"correct\": false}, {\"answer\": \"np.sqrt(np.diag(pcov))[2]\", \"correct\": false}, {\"answer\": \"np.diag(pcov)[2]\", \"correct\": true}, {\"answer\": \"np.diag(pars)[2]\", \"correct\": false}], \"tag\": \"scipy uncertainty variance\", \"lecture_file\": \"11_regression\"}];\n",
       "    // Make a random ID\n",
       "function makeid(length) {\n",
       "    var result = [];\n",
       "    var characters = 'ABCDEFGHIJKLMNOPQRSTUVWXYZabcdefghijklmnopqrstuvwxyz';\n",
       "    var charactersLength = characters.length;\n",
       "    for (var i = 0; i < length; i++) {\n",
       "        result.push(characters.charAt(Math.floor(Math.random() * charactersLength)));\n",
       "    }\n",
       "    return result.join('');\n",
       "}\n",
       "\n",
       "// Choose a random subset of an array. Can also be used to shuffle the array\n",
       "function getRandomSubarray(arr, size) {\n",
       "    var shuffled = arr.slice(0), i = arr.length, temp, index;\n",
       "    while (i--) {\n",
       "        index = Math.floor((i + 1) * Math.random());\n",
       "        temp = shuffled[index];\n",
       "        shuffled[index] = shuffled[i];\n",
       "        shuffled[i] = temp;\n",
       "    }\n",
       "    return shuffled.slice(0, size);\n",
       "}\n",
       "\n",
       "function printResponses(responsesContainer) {\n",
       "    var responses=JSON.parse(responsesContainer.dataset.responses);\n",
       "    var stringResponses='<B>IMPORTANT!</B>To preserve this answer sequence for submission, when you have finalized your answers: <ol> <li> Copy the text in this cell below \"Answer String\"</li> <li> Double click on the cell directly below the Answer String, labeled \"Replace Me\"</li> <li> Select the whole \"Replace Me\" text</li> <li> Paste in your answer string and press shift-Enter.</li><li>Save the notebook using the save icon or File->Save Notebook menu item</li></ul><br><br><br><b>Answer String:</b><br> ';\n",
       "    console.log(responses);\n",
       "    responses.forEach((response, index) => {\n",
       "        if (response) {\n",
       "            console.log(index + ': ' + response);\n",
       "            stringResponses+= index + ': ' + response +\"<BR>\";\n",
       "        }\n",
       "    });\n",
       "    responsesContainer.innerHTML=stringResponses;\n",
       "}\n",
       "function check_mc() {\n",
       "    var id = this.id.split('-')[0];\n",
       "    //var response = this.id.split('-')[1];\n",
       "    //console.log(response);\n",
       "    //console.log(\"In check_mc(), id=\"+id);\n",
       "    //console.log(event.srcElement.id)           \n",
       "    //console.log(event.srcElement.dataset.correct)   \n",
       "    //console.log(event.srcElement.dataset.feedback)\n",
       "\n",
       "    var label = event.srcElement;\n",
       "    //console.log(label, label.nodeName);\n",
       "    var depth = 0;\n",
       "    while ((label.nodeName != \"LABEL\") && (depth < 20)) {\n",
       "        label = label.parentElement;\n",
       "        console.log(depth, label);\n",
       "        depth++;\n",
       "    }\n",
       "\n",
       "\n",
       "\n",
       "    var answers = label.parentElement.children;\n",
       "\n",
       "    //console.log(answers);\n",
       "\n",
       "\n",
       "    // Split behavior based on multiple choice vs many choice:\n",
       "    var fb = document.getElementById(\"fb\" + id);\n",
       "\n",
       "\n",
       "\n",
       "\n",
       "    if (fb.dataset.numcorrect == 1) {\n",
       "        // What follows is for the saved responses stuff\n",
       "        var outerContainer = fb.parentElement.parentElement;\n",
       "        var responsesContainer = document.getElementById(\"responses\" + outerContainer.id);\n",
       "        if (responsesContainer) {\n",
       "            //console.log(responsesContainer);\n",
       "            var response = label.firstChild.innerText;\n",
       "            if (label.querySelector(\".QuizCode\")){\n",
       "                response+= label.querySelector(\".QuizCode\").firstChild.innerText;\n",
       "            }\n",
       "            console.log(response);\n",
       "            //console.log(document.getElementById(\"quizWrap\"+id));\n",
       "            var qnum = document.getElementById(\"quizWrap\"+id).dataset.qnum;\n",
       "            console.log(\"Question \" + qnum);\n",
       "            //console.log(id, \", got numcorrect=\",fb.dataset.numcorrect);\n",
       "            var responses=JSON.parse(responsesContainer.dataset.responses);\n",
       "            console.log(responses);\n",
       "            responses[qnum]= response;\n",
       "            responsesContainer.setAttribute('data-responses', JSON.stringify(responses));\n",
       "            printResponses(responsesContainer);\n",
       "        }\n",
       "        // End code to preserve responses\n",
       "        \n",
       "        for (var i = 0; i < answers.length; i++) {\n",
       "            var child = answers[i];\n",
       "            //console.log(child);\n",
       "            child.className = \"MCButton\";\n",
       "        }\n",
       "\n",
       "\n",
       "\n",
       "        if (label.dataset.correct == \"true\") {\n",
       "            // console.log(\"Correct action\");\n",
       "            if (\"feedback\" in label.dataset) {\n",
       "                fb.textContent = jaxify(label.dataset.feedback);\n",
       "            } else {\n",
       "                fb.textContent = \"Correct!\";\n",
       "            }\n",
       "            label.classList.add(\"correctButton\");\n",
       "\n",
       "            fb.className = \"Feedback\";\n",
       "            fb.classList.add(\"correct\");\n",
       "\n",
       "        } else {\n",
       "            if (\"feedback\" in label.dataset) {\n",
       "                fb.textContent = jaxify(label.dataset.feedback);\n",
       "            } else {\n",
       "                fb.textContent = \"Incorrect -- try again.\";\n",
       "            }\n",
       "            //console.log(\"Error action\");\n",
       "            label.classList.add(\"incorrectButton\");\n",
       "            fb.className = \"Feedback\";\n",
       "            fb.classList.add(\"incorrect\");\n",
       "        }\n",
       "    }\n",
       "    else {\n",
       "        var reset = false;\n",
       "        var feedback;\n",
       "         if (label.dataset.correct == \"true\") {\n",
       "            if (\"feedback\" in label.dataset) {\n",
       "                feedback = jaxify(label.dataset.feedback);\n",
       "            } else {\n",
       "                feedback = \"Correct!\";\n",
       "            }\n",
       "            if (label.dataset.answered <= 0) {\n",
       "                if (fb.dataset.answeredcorrect < 0) {\n",
       "                    fb.dataset.answeredcorrect = 1;\n",
       "                    reset = true;\n",
       "                } else {\n",
       "                    fb.dataset.answeredcorrect++;\n",
       "                }\n",
       "                if (reset) {\n",
       "                    for (var i = 0; i < answers.length; i++) {\n",
       "                        var child = answers[i];\n",
       "                        child.className = \"MCButton\";\n",
       "                        child.dataset.answered = 0;\n",
       "                    }\n",
       "                }\n",
       "                label.classList.add(\"correctButton\");\n",
       "                label.dataset.answered = 1;\n",
       "                fb.className = \"Feedback\";\n",
       "                fb.classList.add(\"correct\");\n",
       "\n",
       "            }\n",
       "        } else {\n",
       "            if (\"feedback\" in label.dataset) {\n",
       "                feedback = jaxify(label.dataset.feedback);\n",
       "            } else {\n",
       "                feedback = \"Incorrect -- try again.\";\n",
       "            }\n",
       "            if (fb.dataset.answeredcorrect > 0) {\n",
       "                fb.dataset.answeredcorrect = -1;\n",
       "                reset = true;\n",
       "            } else {\n",
       "                fb.dataset.answeredcorrect--;\n",
       "            }\n",
       "\n",
       "            if (reset) {\n",
       "                for (var i = 0; i < answers.length; i++) {\n",
       "                    var child = answers[i];\n",
       "                    child.className = \"MCButton\";\n",
       "                    child.dataset.answered = 0;\n",
       "                }\n",
       "            }\n",
       "            label.classList.add(\"incorrectButton\");\n",
       "            fb.className = \"Feedback\";\n",
       "            fb.classList.add(\"incorrect\");\n",
       "        }\n",
       "        // What follows is for the saved responses stuff\n",
       "        var outerContainer = fb.parentElement.parentElement;\n",
       "        var responsesContainer = document.getElementById(\"responses\" + outerContainer.id);\n",
       "        if (responsesContainer) {\n",
       "            //console.log(responsesContainer);\n",
       "            var response = label.firstChild.innerText;\n",
       "            if (label.querySelector(\".QuizCode\")){\n",
       "                response+= label.querySelector(\".QuizCode\").firstChild.innerText;\n",
       "            }\n",
       "            console.log(response);\n",
       "            //console.log(document.getElementById(\"quizWrap\"+id));\n",
       "            var qnum = document.getElementById(\"quizWrap\"+id).dataset.qnum;\n",
       "            console.log(\"Question \" + qnum);\n",
       "            //console.log(id, \", got numcorrect=\",fb.dataset.numcorrect);\n",
       "            var responses=JSON.parse(responsesContainer.dataset.responses);\n",
       "            if (label.dataset.correct == \"true\") {\n",
       "                if (typeof(responses[qnum]) == \"object\"){\n",
       "                    if (!responses[qnum].includes(response))\n",
       "                        responses[qnum].push(response);\n",
       "                } else{\n",
       "                    responses[qnum]= [ response ];\n",
       "                }\n",
       "            } else {\n",
       "                responses[qnum]= response;\n",
       "            }\n",
       "            console.log(responses);\n",
       "            responsesContainer.setAttribute('data-responses', JSON.stringify(responses));\n",
       "            printResponses(responsesContainer);\n",
       "        }\n",
       "        // End save responses stuff\n",
       "\n",
       "\n",
       "\n",
       "        var numcorrect = fb.dataset.numcorrect;\n",
       "        var answeredcorrect = fb.dataset.answeredcorrect;\n",
       "        if (answeredcorrect >= 0) {\n",
       "            fb.textContent = feedback + \" [\" + answeredcorrect + \"/\" + numcorrect + \"]\";\n",
       "        } else {\n",
       "            fb.textContent = feedback + \" [\" + 0 + \"/\" + numcorrect + \"]\";\n",
       "        }\n",
       "\n",
       "\n",
       "    }\n",
       "\n",
       "    if (typeof MathJax != 'undefined') {\n",
       "        var version = MathJax.version;\n",
       "        console.log('MathJax version', version);\n",
       "        if (version[0] == \"2\") {\n",
       "            MathJax.Hub.Queue([\"Typeset\", MathJax.Hub]);\n",
       "        } else if (version[0] == \"3\") {\n",
       "            MathJax.typeset([fb]);\n",
       "        }\n",
       "    } else {\n",
       "        console.log('MathJax not detected');\n",
       "    }\n",
       "\n",
       "}\n",
       "\n",
       "function make_mc(qa, shuffle_answers, outerqDiv, qDiv, aDiv, id) {\n",
       "    var shuffled;\n",
       "    if (shuffle_answers == \"True\") {\n",
       "        //console.log(shuffle_answers+\" read as true\");\n",
       "        shuffled = getRandomSubarray(qa.answers, qa.answers.length);\n",
       "    } else {\n",
       "        //console.log(shuffle_answers+\" read as false\");\n",
       "        shuffled = qa.answers;\n",
       "    }\n",
       "\n",
       "\n",
       "    var num_correct = 0;\n",
       "\n",
       "\n",
       "\n",
       "    shuffled.forEach((item, index, ans_array) => {\n",
       "        //console.log(answer);\n",
       "\n",
       "        // Make input element\n",
       "        var inp = document.createElement(\"input\");\n",
       "        inp.type = \"radio\";\n",
       "        inp.id = \"quizo\" + id + index;\n",
       "        inp.style = \"display:none;\";\n",
       "        aDiv.append(inp);\n",
       "\n",
       "        //Make label for input element\n",
       "        var lab = document.createElement(\"label\");\n",
       "        lab.className = \"MCButton\";\n",
       "        lab.id = id + '-' + index;\n",
       "        lab.onclick = check_mc;\n",
       "        var aSpan = document.createElement('span');\n",
       "        aSpan.classsName = \"\";\n",
       "        //qDiv.id=\"quizQn\"+id+index;\n",
       "        if (\"answer\" in item) {\n",
       "            aSpan.innerHTML = jaxify(item.answer);\n",
       "            //aSpan.innerHTML=item.answer;\n",
       "        }\n",
       "        lab.append(aSpan);\n",
       "\n",
       "        // Create div for code inside question\n",
       "        var codeSpan;\n",
       "        if (\"code\" in item) {\n",
       "            codeSpan = document.createElement('span');\n",
       "            codeSpan.id = \"code\" + id + index;\n",
       "            codeSpan.className = \"QuizCode\";\n",
       "            var codePre = document.createElement('pre');\n",
       "            codeSpan.append(codePre);\n",
       "            var codeCode = document.createElement('code');\n",
       "            codePre.append(codeCode);\n",
       "            codeCode.innerHTML = item.code;\n",
       "            lab.append(codeSpan);\n",
       "            //console.log(codeSpan);\n",
       "        }\n",
       "\n",
       "        //lab.textContent=item.answer;\n",
       "\n",
       "        // Set the data attributes for the answer\n",
       "        lab.setAttribute('data-correct', item.correct);\n",
       "        if (item.correct) {\n",
       "            num_correct++;\n",
       "        }\n",
       "        if (\"feedback\" in item) {\n",
       "            lab.setAttribute('data-feedback', item.feedback);\n",
       "        }\n",
       "        lab.setAttribute('data-answered', 0);\n",
       "\n",
       "        aDiv.append(lab);\n",
       "\n",
       "    });\n",
       "\n",
       "    if (num_correct > 1) {\n",
       "        outerqDiv.className = \"ManyChoiceQn\";\n",
       "    } else {\n",
       "        outerqDiv.className = \"MultipleChoiceQn\";\n",
       "    }\n",
       "\n",
       "    return num_correct;\n",
       "\n",
       "}\n",
       "function check_numeric(ths, event) {\n",
       "\n",
       "    if (event.keyCode === 13) {\n",
       "        ths.blur();\n",
       "\n",
       "        var id = ths.id.split('-')[0];\n",
       "\n",
       "        var submission = ths.value;\n",
       "        if (submission.indexOf('/') != -1) {\n",
       "            var sub_parts = submission.split('/');\n",
       "            //console.log(sub_parts);\n",
       "            submission = sub_parts[0] / sub_parts[1];\n",
       "        }\n",
       "        //console.log(\"Reader entered\", submission);\n",
       "\n",
       "        if (\"precision\" in ths.dataset) {\n",
       "            var precision = ths.dataset.precision;\n",
       "            // console.log(\"1:\", submission)\n",
       "            submission = Math.round((1 * submission + Number.EPSILON) * 10 ** precision) / 10 ** precision;\n",
       "            // console.log(\"Rounded to \", submission, \" precision=\", precision  );\n",
       "        }\n",
       "\n",
       "\n",
       "        //console.log(\"In check_numeric(), id=\"+id);\n",
       "        //console.log(event.srcElement.id)           \n",
       "        //console.log(event.srcElement.dataset.feedback)\n",
       "\n",
       "        var fb = document.getElementById(\"fb\" + id);\n",
       "        fb.style.display = \"none\";\n",
       "        fb.textContent = \"Incorrect -- try again.\";\n",
       "\n",
       "        var answers = JSON.parse(ths.dataset.answers);\n",
       "        //console.log(answers);\n",
       "\n",
       "        var defaultFB = \"\";\n",
       "        var correct;\n",
       "        var done = false;\n",
       "        answers.every(answer => {\n",
       "            //console.log(answer.type);\n",
       "\n",
       "            correct = false;\n",
       "            // if (answer.type==\"value\"){\n",
       "            if ('value' in answer) {\n",
       "                if (submission == answer.value) {\n",
       "                    fb.textContent = jaxify(answer.feedback);\n",
       "                    correct = answer.correct;\n",
       "                    //console.log(answer.correct);\n",
       "                    done = true;\n",
       "                }\n",
       "                // } else if (answer.type==\"range\") {\n",
       "            } else if ('range' in answer) {\n",
       "                //console.log(answer.range);\n",
       "                if ((submission >= answer.range[0]) && (submission < answer.range[1])) {\n",
       "                    fb.textContent = jaxify(answer.feedback);\n",
       "                    correct = answer.correct;\n",
       "                    //console.log(answer.correct);\n",
       "                    done = true;\n",
       "                }\n",
       "            } else if (answer.type == \"default\") {\n",
       "                defaultFB = answer.feedback;\n",
       "            }\n",
       "            if (done) {\n",
       "                return false; // Break out of loop if this has been marked correct\n",
       "            } else {\n",
       "                return true; // Keep looking for case that includes this as a correct answer\n",
       "            }\n",
       "        });\n",
       "\n",
       "        if ((!done) && (defaultFB != \"\")) {\n",
       "            fb.innerHTML = jaxify(defaultFB);\n",
       "            //console.log(\"Default feedback\", defaultFB);\n",
       "        }\n",
       "\n",
       "        fb.style.display = \"block\";\n",
       "        if (correct) {\n",
       "            ths.className = \"Input-text\";\n",
       "            ths.classList.add(\"correctButton\");\n",
       "            fb.className = \"Feedback\";\n",
       "            fb.classList.add(\"correct\");\n",
       "        } else {\n",
       "            ths.className = \"Input-text\";\n",
       "            ths.classList.add(\"incorrectButton\");\n",
       "            fb.className = \"Feedback\";\n",
       "            fb.classList.add(\"incorrect\");\n",
       "        }\n",
       "\n",
       "        // What follows is for the saved responses stuff\n",
       "        var outerContainer = fb.parentElement.parentElement;\n",
       "        var responsesContainer = document.getElementById(\"responses\" + outerContainer.id);\n",
       "        if (responsesContainer) {\n",
       "            console.log(submission);\n",
       "            var qnum = document.getElementById(\"quizWrap\"+id).dataset.qnum;\n",
       "            //console.log(\"Question \" + qnum);\n",
       "            //console.log(id, \", got numcorrect=\",fb.dataset.numcorrect);\n",
       "            var responses=JSON.parse(responsesContainer.dataset.responses);\n",
       "            console.log(responses);\n",
       "            if (submission == ths.value){\n",
       "                responses[qnum]= submission;\n",
       "            } else {\n",
       "                responses[qnum]= ths.value + \"(\" + submission +\")\";\n",
       "            }\n",
       "            responsesContainer.setAttribute('data-responses', JSON.stringify(responses));\n",
       "            printResponses(responsesContainer);\n",
       "        }\n",
       "        // End code to preserve responses\n",
       "\n",
       "        if (typeof MathJax != 'undefined') {\n",
       "            var version = MathJax.version;\n",
       "            console.log('MathJax version', version);\n",
       "            if (version[0] == \"2\") {\n",
       "                MathJax.Hub.Queue([\"Typeset\", MathJax.Hub]);\n",
       "            } else if (version[0] == \"3\") {\n",
       "                MathJax.typeset([fb]);\n",
       "            }\n",
       "        } else {\n",
       "            console.log('MathJax not detected');\n",
       "        }\n",
       "        return false;\n",
       "    }\n",
       "\n",
       "}\n",
       "\n",
       "function isValid(el, charC) {\n",
       "    //console.log(\"Input char: \", charC);\n",
       "    if (charC == 46) {\n",
       "        if (el.value.indexOf('.') === -1) {\n",
       "            return true;\n",
       "        } else if (el.value.indexOf('/') != -1) {\n",
       "            var parts = el.value.split('/');\n",
       "            if (parts[1].indexOf('.') === -1) {\n",
       "                return true;\n",
       "            }\n",
       "        }\n",
       "        else {\n",
       "            return false;\n",
       "        }\n",
       "    } else if (charC == 47) {\n",
       "        if (el.value.indexOf('/') === -1) {\n",
       "            if ((el.value != \"\") && (el.value != \".\")) {\n",
       "                return true;\n",
       "            } else {\n",
       "                return false;\n",
       "            }\n",
       "        } else {\n",
       "            return false;\n",
       "        }\n",
       "    } else if (charC == 45) {\n",
       "        var edex = el.value.indexOf('e');\n",
       "        if (edex == -1) {\n",
       "            edex = el.value.indexOf('E');\n",
       "        }\n",
       "\n",
       "        if (el.value == \"\") {\n",
       "            return true;\n",
       "        } else if (edex == (el.value.length - 1)) { // If just after e or E\n",
       "            return true;\n",
       "        } else {\n",
       "            return false;\n",
       "        }\n",
       "    } else if (charC == 101) { // \"e\"\n",
       "        if ((el.value.indexOf('e') === -1) && (el.value.indexOf('E') === -1) && (el.value.indexOf('/') == -1)) {\n",
       "            // Prev symbol must be digit or decimal point:\n",
       "            if (el.value.slice(-1).search(/\\d/) >= 0) {\n",
       "                return true;\n",
       "            } else if (el.value.slice(-1).search(/\\./) >= 0) {\n",
       "                return true;\n",
       "            } else {\n",
       "                return false;\n",
       "            }\n",
       "        } else {\n",
       "            return false;\n",
       "        }\n",
       "    } else {\n",
       "        if (charC > 31 && (charC < 48 || charC > 57))\n",
       "            return false;\n",
       "    }\n",
       "    return true;\n",
       "}\n",
       "\n",
       "function numeric_keypress(evnt) {\n",
       "    var charC = (evnt.which) ? evnt.which : evnt.keyCode;\n",
       "\n",
       "    if (charC == 13) {\n",
       "        check_numeric(this, evnt);\n",
       "    } else {\n",
       "        return isValid(this, charC);\n",
       "    }\n",
       "}\n",
       "\n",
       "\n",
       "\n",
       "\n",
       "\n",
       "function make_numeric(qa, outerqDiv, qDiv, aDiv, id) {\n",
       "\n",
       "\n",
       "\n",
       "    //console.log(answer);\n",
       "\n",
       "\n",
       "    outerqDiv.className = \"NumericQn\";\n",
       "    aDiv.style.display = 'block';\n",
       "\n",
       "    var lab = document.createElement(\"label\");\n",
       "    lab.className = \"InpLabel\";\n",
       "    lab.textContent = \"Type numeric answer here:\";\n",
       "    aDiv.append(lab);\n",
       "\n",
       "    var inp = document.createElement(\"input\");\n",
       "    inp.type = \"text\";\n",
       "    //inp.id=\"input-\"+id;\n",
       "    inp.id = id + \"-0\";\n",
       "    inp.className = \"Input-text\";\n",
       "    inp.setAttribute('data-answers', JSON.stringify(qa.answers));\n",
       "    if (\"precision\" in qa) {\n",
       "        inp.setAttribute('data-precision', qa.precision);\n",
       "    }\n",
       "    aDiv.append(inp);\n",
       "    //console.log(inp);\n",
       "\n",
       "    //inp.addEventListener(\"keypress\", check_numeric);\n",
       "    //inp.addEventListener(\"keypress\", numeric_keypress);\n",
       "    /*\n",
       "    inp.addEventListener(\"keypress\", function(event) {\n",
       "        return numeric_keypress(this, event);\n",
       "    }\n",
       "                        );\n",
       "                        */\n",
       "    //inp.onkeypress=\"return numeric_keypress(this, event)\";\n",
       "    inp.onkeypress = numeric_keypress;\n",
       "    inp.onpaste = event => false;\n",
       "\n",
       "    inp.addEventListener(\"focus\", function (event) {\n",
       "        this.value = \"\";\n",
       "        return false;\n",
       "    }\n",
       "    );\n",
       "\n",
       "\n",
       "}\n",
       "function jaxify(string) {\n",
       "    var mystring = string;\n",
       "\n",
       "    var count = 0;\n",
       "    var loc = mystring.search(/([^\\\\]|^)(\\$)/);\n",
       "\n",
       "    var count2 = 0;\n",
       "    var loc2 = mystring.search(/([^\\\\]|^)(\\$\\$)/);\n",
       "\n",
       "    //console.log(loc);\n",
       "\n",
       "    while ((loc >= 0) || (loc2 >= 0)) {\n",
       "\n",
       "        /* Have to replace all the double $$ first with current implementation */\n",
       "        if (loc2 >= 0) {\n",
       "            if (count2 % 2 == 0) {\n",
       "                mystring = mystring.replace(/([^\\\\]|^)(\\$\\$)/, \"$1\\\\[\");\n",
       "            } else {\n",
       "                mystring = mystring.replace(/([^\\\\]|^)(\\$\\$)/, \"$1\\\\]\");\n",
       "            }\n",
       "            count2++;\n",
       "        } else {\n",
       "            if (count % 2 == 0) {\n",
       "                mystring = mystring.replace(/([^\\\\]|^)(\\$)/, \"$1\\\\(\");\n",
       "            } else {\n",
       "                mystring = mystring.replace(/([^\\\\]|^)(\\$)/, \"$1\\\\)\");\n",
       "            }\n",
       "            count++;\n",
       "        }\n",
       "        loc = mystring.search(/([^\\\\]|^)(\\$)/);\n",
       "        loc2 = mystring.search(/([^\\\\]|^)(\\$\\$)/);\n",
       "        //console.log(mystring,\", loc:\",loc,\", loc2:\",loc2);\n",
       "    }\n",
       "\n",
       "    //console.log(mystring);\n",
       "    return mystring;\n",
       "}\n",
       "\n",
       "\n",
       "function show_questions(json, mydiv) {\n",
       "    console.log('show_questions');\n",
       "    //var mydiv=document.getElementById(myid);\n",
       "    var shuffle_questions = mydiv.dataset.shufflequestions;\n",
       "    var num_questions = mydiv.dataset.numquestions;\n",
       "    var shuffle_answers = mydiv.dataset.shuffleanswers;\n",
       "\n",
       "    if (num_questions > json.length) {\n",
       "        num_questions = json.length;\n",
       "    }\n",
       "\n",
       "    var questions;\n",
       "    if ((num_questions < json.length) || (shuffle_questions == \"True\")) {\n",
       "        //console.log(num_questions+\",\"+json.length);\n",
       "        questions = getRandomSubarray(json, num_questions);\n",
       "    } else {\n",
       "        questions = json;\n",
       "    }\n",
       "\n",
       "    //console.log(\"SQ: \"+shuffle_questions+\", NQ: \" + num_questions + \", SA: \", shuffle_answers);\n",
       "\n",
       "    // Iterate over questions\n",
       "    questions.forEach((qa, index, array) => {\n",
       "        //console.log(qa.question); \n",
       "\n",
       "        var id = makeid(8);\n",
       "        //console.log(id);\n",
       "\n",
       "\n",
       "        // Create Div to contain question and answers\n",
       "        var iDiv = document.createElement('div');\n",
       "        //iDiv.id = 'quizWrap' + id + index;\n",
       "        iDiv.id = 'quizWrap' + id;\n",
       "        iDiv.className = 'Quiz';\n",
       "        iDiv.setAttribute('data-qnum', index);\n",
       "        mydiv.appendChild(iDiv);\n",
       "        // iDiv.innerHTML=qa.question;\n",
       "\n",
       "        var outerqDiv = document.createElement('div');\n",
       "        outerqDiv.id = \"OuterquizQn\" + id + index;\n",
       "\n",
       "        iDiv.append(outerqDiv);\n",
       "\n",
       "        // Create div to contain question part\n",
       "        var qDiv = document.createElement('div');\n",
       "        qDiv.id = \"quizQn\" + id + index;\n",
       "        //qDiv.textContent=qa.question;\n",
       "        qDiv.innerHTML = jaxify(qa.question);\n",
       "\n",
       "        outerqDiv.append(qDiv);\n",
       "\n",
       "        // Create div for code inside question\n",
       "        var codeDiv;\n",
       "        if (\"code\" in qa) {\n",
       "            codeDiv = document.createElement('div');\n",
       "            codeDiv.id = \"code\" + id + index;\n",
       "            codeDiv.className = \"QuizCode\";\n",
       "            var codePre = document.createElement('pre');\n",
       "            codeDiv.append(codePre);\n",
       "            var codeCode = document.createElement('code');\n",
       "            codePre.append(codeCode);\n",
       "            codeCode.innerHTML = qa.code;\n",
       "            outerqDiv.append(codeDiv);\n",
       "            //console.log(codeDiv);\n",
       "        }\n",
       "\n",
       "\n",
       "        // Create div to contain answer part\n",
       "        var aDiv = document.createElement('div');\n",
       "        aDiv.id = \"quizAns\" + id + index;\n",
       "        aDiv.className = 'Answer';\n",
       "        iDiv.append(aDiv);\n",
       "\n",
       "        //console.log(qa.type);\n",
       "\n",
       "        var num_correct;\n",
       "        if (qa.type == \"multiple_choice\") {\n",
       "            num_correct = make_mc(qa, shuffle_answers, outerqDiv, qDiv, aDiv, id);\n",
       "        } else if (qa.type == \"many_choice\") {\n",
       "            num_correct = make_mc(qa, shuffle_answers, outerqDiv, qDiv, aDiv, id);\n",
       "        } else if (qa.type == \"numeric\") {\n",
       "            //console.log(\"numeric\");\n",
       "            make_numeric(qa, outerqDiv, qDiv, aDiv, id);\n",
       "        }\n",
       "\n",
       "\n",
       "        //Make div for feedback\n",
       "        var fb = document.createElement(\"div\");\n",
       "        fb.id = \"fb\" + id;\n",
       "        //fb.style=\"font-size: 20px;text-align:center;\";\n",
       "        fb.className = \"Feedback\";\n",
       "        fb.setAttribute(\"data-answeredcorrect\", 0);\n",
       "        fb.setAttribute(\"data-numcorrect\", num_correct);\n",
       "        iDiv.append(fb);\n",
       "\n",
       "\n",
       "    });\n",
       "    var preserveResponses = mydiv.dataset.preserveresponses;\n",
       "    console.log(preserveResponses);\n",
       "    console.log(preserveResponses == \"true\");\n",
       "    if (preserveResponses == \"true\") {\n",
       "        console.log(preserveResponses);\n",
       "        // Create Div to contain record of answers\n",
       "        var iDiv = document.createElement('div');\n",
       "        iDiv.id = 'responses' + mydiv.id;\n",
       "        iDiv.className = 'JCResponses';\n",
       "        // Create a place to store responses as an empty array\n",
       "        iDiv.setAttribute('data-responses', '[]');\n",
       "\n",
       "        // Dummy Text\n",
       "        iDiv.innerHTML=\"<b>Select your answers and then follow the directions that will appear here.</b>\"\n",
       "        //iDiv.className = 'Quiz';\n",
       "        mydiv.appendChild(iDiv);\n",
       "    }\n",
       "//console.log(\"At end of show_questions\");\n",
       "    if (typeof MathJax != 'undefined') {\n",
       "        console.log(\"MathJax version\", MathJax.version);\n",
       "        var version = MathJax.version;\n",
       "        setTimeout(function(){\n",
       "            var version = MathJax.version;\n",
       "            console.log('After sleep, MathJax version', version);\n",
       "            if (version[0] == \"2\") {\n",
       "                MathJax.Hub.Queue([\"Typeset\", MathJax.Hub]);\n",
       "            } else if (version[0] == \"3\") {\n",
       "                MathJax.typeset([mydiv]);\n",
       "            }\n",
       "        }, 500);\n",
       "if (typeof version == 'undefined') {\n",
       "        } else\n",
       "        {\n",
       "            if (version[0] == \"2\") {\n",
       "                MathJax.Hub.Queue([\"Typeset\", MathJax.Hub]);\n",
       "            } else if (version[0] == \"3\") {\n",
       "                MathJax.typeset([mydiv]);\n",
       "            } else {\n",
       "                console.log(\"MathJax not found\");\n",
       "            }\n",
       "        }\n",
       "    }\n",
       "    return false;\n",
       "}\n",
       "\n",
       "        {\n",
       "        show_questions(questionsgKvAlUCFNqLe,  gKvAlUCFNqLe);\n",
       "        }\n",
       "        "
      ],
      "text/plain": [
       "<IPython.core.display.Javascript object>"
      ]
     },
     "metadata": {},
     "output_type": "display_data"
    }
   ],
   "source": [
    "from f22_06623 import MCQ\n",
    "MCQ(lecture='11_regression')\n",
    "\n"
   ]
  }
 ],
 "metadata": {
  "colab": {
   "collapsed_sections": [],
   "name": "11-regression.ipynb",
   "provenance": []
  },
  "kernelspec": {
   "display_name": "Python 3",
   "language": "python",
   "name": "python3"
  },
  "language_info": {
   "codemirror_mode": {
    "name": "ipython",
    "version": 3
   },
   "file_extension": ".py",
   "mimetype": "text/x-python",
   "name": "python",
   "nbconvert_exporter": "python",
   "pygments_lexer": "ipython3",
   "version": "3.9.7"
  },
  "org": {
   "KEYWORDS": "scipy.optimize.minimize, scipy.optimize.curve_fit, pycse.nlinfit"
  },
  "widgets": {
   "application/vnd.jupyter.widget-state+json": {
    "state": {},
    "version_major": 2,
    "version_minor": 0
   }
  }
 },
 "nbformat": 4,
 "nbformat_minor": 4
}
