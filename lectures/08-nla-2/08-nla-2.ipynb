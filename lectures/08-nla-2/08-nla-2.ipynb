{
 "cells": [
  {
   "cell_type": "markdown",
   "metadata": {
    "id": "3M4npFr5Knxb"
   },
   "source": [
    "[TOC](../toc.ipynb)\n",
    "\n",
    "Advanced topics in nonlinear algebra\n",
    "====================================\n",
    "\n",
    "- KEYWORDS: scipy.optimize.fsolve, numpy.roots, numpy.polyder, numpy.polyval, numpy.polyint, numpy.poly1d\n"
   ]
  },
  {
   "cell_type": "markdown",
   "metadata": {
    "id": "4Fi84ZO0Knxd"
   },
   "source": [
    "## Special nonlinear systems - polynomials\n",
    "\n"
   ]
  },
  {
   "cell_type": "markdown",
   "metadata": {
    "id": "6z_D_ImzKnxf"
   },
   "source": [
    "Polynomials are a special class of nonlinear algebraic equations that are especially easy to solve. A polynomial is linear in the coefficients in front of the variable. If we consider the following $n^{th}$ order polynomial:\n",
    "\n",
    "$p_0 x^n + p_1 x^{(n-1)} + ... + p_{n-1} x + p_n = 0$\n",
    "\n",
    "Let's be specific:\n",
    "\n",
    "$x^2 + 8x + 16 = 0$\n",
    "\n",
    "We express this as [1, 8, 16]."
   ]
  },
  {
   "cell_type": "code",
   "execution_count": 1,
   "metadata": {
    "executionInfo": {
     "elapsed": 145,
     "status": "ok",
     "timestamp": 1632831046588,
     "user": {
      "displayName": "John Kitchin",
      "photoUrl": "https://lh3.googleusercontent.com/a/default-user=s64",
      "userId": "14782011281593705406"
     },
     "user_tz": 240
    },
    "id": "Ega8Og2rTHKS"
   },
   "outputs": [
    {
     "data": {
      "text/plain": [
       "\u001b[0;31mSignature:\u001b[0m \u001b[0mnp\u001b[0m\u001b[0;34m.\u001b[0m\u001b[0mroots\u001b[0m\u001b[0;34m(\u001b[0m\u001b[0mp\u001b[0m\u001b[0;34m)\u001b[0m\u001b[0;34m\u001b[0m\u001b[0;34m\u001b[0m\u001b[0m\n",
       "\u001b[0;31mDocstring:\u001b[0m\n",
       "Return the roots of a polynomial with coefficients given in p.\n",
       "\n",
       ".. note::\n",
       "   This forms part of the old polynomial API. Since version 1.4, the\n",
       "   new polynomial API defined in `numpy.polynomial` is preferred.\n",
       "   A summary of the differences can be found in the\n",
       "   :doc:`transition guide </reference/routines.polynomials>`.\n",
       "\n",
       "The values in the rank-1 array `p` are coefficients of a polynomial.\n",
       "If the length of `p` is n+1 then the polynomial is described by::\n",
       "\n",
       "  p[0] * x**n + p[1] * x**(n-1) + ... + p[n-1]*x + p[n]\n",
       "\n",
       "Parameters\n",
       "----------\n",
       "p : array_like\n",
       "    Rank-1 array of polynomial coefficients.\n",
       "\n",
       "Returns\n",
       "-------\n",
       "out : ndarray\n",
       "    An array containing the roots of the polynomial.\n",
       "\n",
       "Raises\n",
       "------\n",
       "ValueError\n",
       "    When `p` cannot be converted to a rank-1 array.\n",
       "\n",
       "See also\n",
       "--------\n",
       "poly : Find the coefficients of a polynomial with a given sequence\n",
       "       of roots.\n",
       "polyval : Compute polynomial values.\n",
       "polyfit : Least squares polynomial fit.\n",
       "poly1d : A one-dimensional polynomial class.\n",
       "\n",
       "Notes\n",
       "-----\n",
       "The algorithm relies on computing the eigenvalues of the\n",
       "companion matrix [1]_.\n",
       "\n",
       "References\n",
       "----------\n",
       ".. [1] R. A. Horn & C. R. Johnson, *Matrix Analysis*.  Cambridge, UK:\n",
       "    Cambridge University Press, 1999, pp. 146-7.\n",
       "\n",
       "Examples\n",
       "--------\n",
       ">>> coeff = [3.2, 2, 1]\n",
       ">>> np.roots(coeff)\n",
       "array([-0.3125+0.46351241j, -0.3125-0.46351241j])\n",
       "\u001b[0;31mFile:\u001b[0m      /opt/conda/lib/python3.9/site-packages/numpy/lib/polynomial.py\n",
       "\u001b[0;31mType:\u001b[0m      function\n"
      ]
     },
     "metadata": {},
     "output_type": "display_data"
    }
   ],
   "source": [
    "import numpy as np\n",
    "?np.roots"
   ]
  },
  {
   "cell_type": "code",
   "execution_count": 2,
   "metadata": {
    "colab": {
     "base_uri": "https://localhost:8080/"
    },
    "executionInfo": {
     "elapsed": 148,
     "status": "ok",
     "timestamp": 1632831047910,
     "user": {
      "displayName": "John Kitchin",
      "photoUrl": "https://lh3.googleusercontent.com/a/default-user=s64",
      "userId": "14782011281593705406"
     },
     "user_tz": 240
    },
    "id": "ePUgnPp1Knxg",
    "outputId": "57ff538a-df24-4366-91a4-8b0612d6364f"
   },
   "outputs": [
    {
     "data": {
      "text/plain": [
       "array([-4.+2.675587e-08j, -4.-2.675587e-08j])"
      ]
     },
     "execution_count": 2,
     "metadata": {},
     "output_type": "execute_result"
    }
   ],
   "source": [
    "p = [1, 8, 16]\n",
    "r = np.roots(p)\n",
    "r"
   ]
  },
  {
   "cell_type": "code",
   "execution_count": 3,
   "metadata": {
    "colab": {
     "base_uri": "https://localhost:8080/"
    },
    "executionInfo": {
     "elapsed": 124,
     "status": "ok",
     "timestamp": 1632831048894,
     "user": {
      "displayName": "John Kitchin",
      "photoUrl": "https://lh3.googleusercontent.com/a/default-user=s64",
      "userId": "14782011281593705406"
     },
     "user_tz": 240
    },
    "id": "zYpGiU5pTV0c",
    "outputId": "be975ce8-7779-4dc8-e38b-a11a49737d27"
   },
   "outputs": [
    {
     "data": {
      "text/plain": [
       "array([0.+0.j, 0.+0.j])"
      ]
     },
     "execution_count": 3,
     "metadata": {},
     "output_type": "execute_result"
    }
   ],
   "source": [
    "r**2 + 8 * r + 16"
   ]
  },
  {
   "cell_type": "code",
   "execution_count": 4,
   "metadata": {
    "colab": {
     "base_uri": "https://localhost:8080/",
     "height": 265
    },
    "executionInfo": {
     "elapsed": 325,
     "status": "ok",
     "timestamp": 1632831055661,
     "user": {
      "displayName": "John Kitchin",
      "photoUrl": "https://lh3.googleusercontent.com/a/default-user=s64",
      "userId": "14782011281593705406"
     },
     "user_tz": 240
    },
    "id": "MrhXZNo2wofU",
    "outputId": "73d6b645-718f-464b-f9d7-e0daf5fdb545"
   },
   "outputs": [
    {
     "data": {
      "image/png": "[encoded data removed]",
      "text/plain": [
       "<Figure size 432x288 with 1 Axes>"
      ]
     },
     "metadata": {
      "needs_background": "light"
     },
     "output_type": "display_data"
    }
   ],
   "source": [
    "import matplotlib.pyplot as plt\n",
    "\n",
    "X = np.linspace(-5, -3)\n",
    "y = X**2 + 8 * X + 16\n",
    "plt.plot(X, y);"
   ]
  },
  {
   "cell_type": "markdown",
   "metadata": {
    "id": "PIwWFC7LKnxr"
   },
   "source": [
    "Note we get all the roots. We can check that with the `numpy.polyval` command.\n",
    "\n"
   ]
  },
  {
   "cell_type": "code",
   "execution_count": 5,
   "metadata": {
    "executionInfo": {
     "elapsed": 129,
     "status": "ok",
     "timestamp": 1632831124698,
     "user": {
      "displayName": "John Kitchin",
      "photoUrl": "https://lh3.googleusercontent.com/a/default-user=s64",
      "userId": "14782011281593705406"
     },
     "user_tz": 240
    },
    "id": "jY-Aqzp0UZz6"
   },
   "outputs": [
    {
     "data": {
      "text/plain": [
       "\u001b[0;31mSignature:\u001b[0m \u001b[0mnp\u001b[0m\u001b[0;34m.\u001b[0m\u001b[0mpolyval\u001b[0m\u001b[0;34m(\u001b[0m\u001b[0mp\u001b[0m\u001b[0;34m,\u001b[0m \u001b[0mx\u001b[0m\u001b[0;34m)\u001b[0m\u001b[0;34m\u001b[0m\u001b[0;34m\u001b[0m\u001b[0m\n",
       "\u001b[0;31mDocstring:\u001b[0m\n",
       "Evaluate a polynomial at specific values.\n",
       "\n",
       ".. note::\n",
       "   This forms part of the old polynomial API. Since version 1.4, the\n",
       "   new polynomial API defined in `numpy.polynomial` is preferred.\n",
       "   A summary of the differences can be found in the\n",
       "   :doc:`transition guide </reference/routines.polynomials>`.\n",
       "\n",
       "If `p` is of length N, this function returns the value:\n",
       "\n",
       "    ``p[0]*x**(N-1) + p[1]*x**(N-2) + ... + p[N-2]*x + p[N-1]``\n",
       "\n",
       "If `x` is a sequence, then `p(x)` is returned for each element of `x`.\n",
       "If `x` is another polynomial then the composite polynomial `p(x(t))`\n",
       "is returned.\n",
       "\n",
       "Parameters\n",
       "----------\n",
       "p : array_like or poly1d object\n",
       "   1D array of polynomial coefficients (including coefficients equal\n",
       "   to zero) from highest degree to the constant term, or an\n",
       "   instance of poly1d.\n",
       "x : array_like or poly1d object\n",
       "   A number, an array of numbers, or an instance of poly1d, at\n",
       "   which to evaluate `p`.\n",
       "\n",
       "Returns\n",
       "-------\n",
       "values : ndarray or poly1d\n",
       "   If `x` is a poly1d instance, the result is the composition of the two\n",
       "   polynomials, i.e., `x` is \"substituted\" in `p` and the simplified\n",
       "   result is returned. In addition, the type of `x` - array_like or\n",
       "   poly1d - governs the type of the output: `x` array_like => `values`\n",
       "   array_like, `x` a poly1d object => `values` is also.\n",
       "\n",
       "See Also\n",
       "--------\n",
       "poly1d: A polynomial class.\n",
       "\n",
       "Notes\n",
       "-----\n",
       "Horner's scheme [1]_ is used to evaluate the polynomial. Even so,\n",
       "for polynomials of high degree the values may be inaccurate due to\n",
       "rounding errors. Use carefully.\n",
       "\n",
       "If `x` is a subtype of `ndarray` the return value will be of the same type.\n",
       "\n",
       "References\n",
       "----------\n",
       ".. [1] I. N. Bronshtein, K. A. Semendyayev, and K. A. Hirsch (Eng.\n",
       "   trans. Ed.), *Handbook of Mathematics*, New York, Van Nostrand\n",
       "   Reinhold Co., 1985, pg. 720.\n",
       "\n",
       "Examples\n",
       "--------\n",
       ">>> np.polyval([3,0,1], 5)  # 3 * 5**2 + 0 * 5**1 + 1\n",
       "76\n",
       ">>> np.polyval([3,0,1], np.poly1d(5))\n",
       "poly1d([76])\n",
       ">>> np.polyval(np.poly1d([3,0,1]), 5)\n",
       "76\n",
       ">>> np.polyval(np.poly1d([3,0,1]), np.poly1d(5))\n",
       "poly1d([76])\n",
       "\u001b[0;31mFile:\u001b[0m      /opt/conda/lib/python3.9/site-packages/numpy/lib/polynomial.py\n",
       "\u001b[0;31mType:\u001b[0m      function\n"
      ]
     },
     "metadata": {},
     "output_type": "display_data"
    }
   ],
   "source": [
    "?np.polyval"
   ]
  },
  {
   "cell_type": "code",
   "execution_count": 6,
   "metadata": {
    "colab": {
     "base_uri": "https://localhost:8080/"
    },
    "executionInfo": {
     "elapsed": 139,
     "status": "ok",
     "timestamp": 1632831155357,
     "user": {
      "displayName": "John Kitchin",
      "photoUrl": "https://lh3.googleusercontent.com/a/default-user=s64",
      "userId": "14782011281593705406"
     },
     "user_tz": 240
    },
    "id": "k_99Ce0yKnxs",
    "outputId": "9dcac4be-b217-4a13-d659-5138147983c3"
   },
   "outputs": [
    {
     "data": {
      "text/plain": [
       "array([0.+0.j, 0.+0.j])"
      ]
     },
     "execution_count": 6,
     "metadata": {},
     "output_type": "execute_result"
    }
   ],
   "source": [
    "np.polyval(p, r)  # Another new command"
   ]
  },
  {
   "cell_type": "markdown",
   "metadata": {
    "id": "jtx6LnekKnx0"
   },
   "source": [
    "We can also use this to plot a polynomial.\n",
    "\n"
   ]
  },
  {
   "cell_type": "code",
   "execution_count": 7,
   "metadata": {
    "colab": {
     "base_uri": "https://localhost:8080/",
     "height": 279
    },
    "executionInfo": {
     "elapsed": 329,
     "status": "ok",
     "timestamp": 1632831170927,
     "user": {
      "displayName": "John Kitchin",
      "photoUrl": "https://lh3.googleusercontent.com/a/default-user=s64",
      "userId": "14782011281593705406"
     },
     "user_tz": 240
    },
    "id": "ykus1zyQKnx1",
    "outputId": "7c6db83c-bfe7-474a-fb46-12b8648b41a3"
   },
   "outputs": [
    {
     "data": {
      "image/png": "[encoded data removed]",
      "text/plain": [
       "<Figure size 432x288 with 1 Axes>"
      ]
     },
     "metadata": {
      "needs_background": "light"
     },
     "output_type": "display_data"
    }
   ],
   "source": [
    "import numpy as np\n",
    "\n",
    "x = np.linspace(-5, -3)\n",
    "y = np.polyval(p, x)\n",
    "\n",
    "import matplotlib.pyplot as plt\n",
    "\n",
    "plt.plot(x, y)\n",
    "plt.xlabel(\"x\")\n",
    "plt.ylabel(\"y\");"
   ]
  },
  {
   "cell_type": "code",
   "execution_count": 8,
   "metadata": {
    "colab": {
     "base_uri": "https://localhost:8080/"
    },
    "executionInfo": {
     "elapsed": 132,
     "status": "ok",
     "timestamp": 1632831370918,
     "user": {
      "displayName": "John Kitchin",
      "photoUrl": "https://lh3.googleusercontent.com/a/default-user=s64",
      "userId": "14782011281593705406"
     },
     "user_tz": 240
    },
    "id": "d37RPOG_yH2Q",
    "outputId": "7462f5b5-5c8b-4ac0-be4a-b576469f425d"
   },
   "outputs": [
    {
     "data": {
      "text/plain": [
       "    fjac: array([[-1.]])\n",
       "     fun: array([0.])\n",
       " message: 'The solution converged.'\n",
       "    nfev: 37\n",
       "     qtf: array([-3.55271368e-15])\n",
       "       r: array([-1.88324354e-07])\n",
       "  status: 1\n",
       " success: True\n",
       "       x: array([-3.99999996])"
      ]
     },
     "execution_count": 8,
     "metadata": {},
     "output_type": "execute_result"
    }
   ],
   "source": [
    "from scipy.optimize import root\n",
    "\n",
    "\n",
    "def f(x):\n",
    "    return np.polyval(p, x)\n",
    "\n",
    "\n",
    "root(f, -3.01)"
   ]
  },
  {
   "cell_type": "markdown",
   "metadata": {
    "id": "PHr2FKljKnx8"
   },
   "source": [
    "Why is this so convenient?\n",
    "\n"
   ]
  },
  {
   "cell_type": "markdown",
   "metadata": {
    "id": "pvel_vtkKnx9"
   },
   "source": [
    "### Cubic equations of state\n",
    "\n"
   ]
  },
  {
   "cell_type": "markdown",
   "metadata": {
    "id": "rE8kGNzsKnx-"
   },
   "source": [
    "There are applications of polynomials in thermodynamics. The van der waal equation is a cubic polynomial $f(V) = V^3 - \\frac{p n b + n R T}{p} V^2 + \\frac{n^2 a}{p}V - \\frac{n^3 a b}{p} = 0$, where $a$ and $b$ are constants, $p$ is the pressure, $R$ is the gas constant, $T$ is an absolute temperature and $n$ is the number of moles. The roots of this equation tell you the volume of the gas at those conditions.\n",
    "\n"
   ]
  },
  {
   "cell_type": "code",
   "execution_count": 9,
   "metadata": {
    "colab": {
     "base_uri": "https://localhost:8080/"
    },
    "executionInfo": {
     "elapsed": 127,
     "status": "ok",
     "timestamp": 1632832066074,
     "user": {
      "displayName": "John Kitchin",
      "photoUrl": "https://lh3.googleusercontent.com/a/default-user=s64",
      "userId": "14782011281593705406"
     },
     "user_tz": 240
    },
    "id": "mNXudKwhKnx_",
    "outputId": "e4374264-bcde-4353-be91-388bcc8f0ccf"
   },
   "outputs": [
    {
     "name": "stdout",
     "output_type": "stream",
     "text": [
      "[5.09432376+0.j         4.4006681 +1.43502848j 4.4006681 -1.43502848j]\n"
     ]
    }
   ],
   "source": [
    "# numerical values of the constants\n",
    "a = 3.49e4\n",
    "b = 1.45\n",
    "p = 679.7  # pressure in psi\n",
    "T = 683  # T in Rankine\n",
    "n = 1.136  # lb-moles\n",
    "R = 10.73  # ft^3 * psi / R / lb-mol\n",
    "\n",
    "ppar = [\n",
    "    1.0,  # V**3\n",
    "    -(p * n * b + n * R * T) / p,  # V**2\n",
    "    n**2 * a / p,  # V\n",
    "    -(n**3) * a * b / p,\n",
    "]  # constant, together this defines f(V)\n",
    "\n",
    "print(np.roots(ppar))"
   ]
  },
  {
   "cell_type": "code",
   "execution_count": 10,
   "metadata": {
    "colab": {
     "base_uri": "https://localhost:8080/"
    },
    "executionInfo": {
     "elapsed": 129,
     "status": "ok",
     "timestamp": 1632831897660,
     "user": {
      "displayName": "John Kitchin",
      "photoUrl": "https://lh3.googleusercontent.com/a/default-user=s64",
      "userId": "14782011281593705406"
     },
     "user_tz": 240
    },
    "id": "_dU6z9pYXEMJ",
    "outputId": "1a8abb46-98c4-48aa-a315-7ef5d64b96be"
   },
   "outputs": [
    {
     "data": {
      "text/plain": [
       "0.0"
      ]
     },
     "execution_count": 10,
     "metadata": {},
     "output_type": "execute_result"
    }
   ],
   "source": [
    "rr = np.roots(ppar)\n",
    "(rr[0] * 2).imag"
   ]
  },
  {
   "cell_type": "code",
   "execution_count": 11,
   "metadata": {
    "colab": {
     "base_uri": "https://localhost:8080/",
     "height": 265
    },
    "executionInfo": {
     "elapsed": 351,
     "status": "ok",
     "timestamp": 1632831976929,
     "user": {
      "displayName": "John Kitchin",
      "photoUrl": "https://lh3.googleusercontent.com/a/default-user=s64",
      "userId": "14782011281593705406"
     },
     "user_tz": 240
    },
    "id": "tiL2KVnQzmx9",
    "outputId": "bc5eb9f0-a838-4748-801d-e4d392c91fcf"
   },
   "outputs": [
    {
     "data": {
      "image/png": "[encoded data removed]",
      "text/plain": [
       "<Figure size 432x288 with 1 Axes>"
      ]
     },
     "metadata": {
      "needs_background": "light"
     },
     "output_type": "display_data"
    }
   ],
   "source": [
    "V = np.linspace(0, 10)\n",
    "plt.plot(V, np.polyval(ppar, V));"
   ]
  },
  {
   "cell_type": "markdown",
   "metadata": {
    "id": "aqIMOi42KnyF"
   },
   "source": [
    "Note that only one root is real (and even then, we have to interpret 0.j as not being imaginary. Also, in a cubic polynomial, there can only be two imaginary roots). In this case that means there is only one phase present.\n",
    "\n",
    "Remember fsolve? Two of these roots are not accessible in fsolve because they are imaginary.\n"
   ]
  },
  {
   "cell_type": "markdown",
   "metadata": {
    "id": "vRczeeunKnyG"
   },
   "source": [
    "### Other useful things to remember about polynomials\n",
    "\n"
   ]
  },
  {
   "cell_type": "markdown",
   "metadata": {
    "id": "HXTmPjshKnyH"
   },
   "source": [
    "You can easily get the parameters of the derivative of the polynomial with `numpy.polyder`.\n",
    "\n"
   ]
  },
  {
   "cell_type": "code",
   "execution_count": 12,
   "metadata": {
    "executionInfo": {
     "elapsed": 214,
     "status": "ok",
     "timestamp": 1632832175798,
     "user": {
      "displayName": "John Kitchin",
      "photoUrl": "https://lh3.googleusercontent.com/a/default-user=s64",
      "userId": "14782011281593705406"
     },
     "user_tz": 240
    },
    "id": "w6sLubZHYZiq"
   },
   "outputs": [
    {
     "data": {
      "text/plain": [
       "\u001b[0;31mSignature:\u001b[0m \u001b[0mnp\u001b[0m\u001b[0;34m.\u001b[0m\u001b[0mpolyder\u001b[0m\u001b[0;34m(\u001b[0m\u001b[0mp\u001b[0m\u001b[0;34m,\u001b[0m \u001b[0mm\u001b[0m\u001b[0;34m=\u001b[0m\u001b[0;36m1\u001b[0m\u001b[0;34m)\u001b[0m\u001b[0;34m\u001b[0m\u001b[0;34m\u001b[0m\u001b[0m\n",
       "\u001b[0;31mDocstring:\u001b[0m\n",
       "Return the derivative of the specified order of a polynomial.\n",
       "\n",
       ".. note::\n",
       "   This forms part of the old polynomial API. Since version 1.4, the\n",
       "   new polynomial API defined in `numpy.polynomial` is preferred.\n",
       "   A summary of the differences can be found in the\n",
       "   :doc:`transition guide </reference/routines.polynomials>`.\n",
       "\n",
       "Parameters\n",
       "----------\n",
       "p : poly1d or sequence\n",
       "    Polynomial to differentiate.\n",
       "    A sequence is interpreted as polynomial coefficients, see `poly1d`.\n",
       "m : int, optional\n",
       "    Order of differentiation (default: 1)\n",
       "\n",
       "Returns\n",
       "-------\n",
       "der : poly1d\n",
       "    A new polynomial representing the derivative.\n",
       "\n",
       "See Also\n",
       "--------\n",
       "polyint : Anti-derivative of a polynomial.\n",
       "poly1d : Class for one-dimensional polynomials.\n",
       "\n",
       "Examples\n",
       "--------\n",
       "The derivative of the polynomial :math:`x^3 + x^2 + x^1 + 1` is:\n",
       "\n",
       ">>> p = np.poly1d([1,1,1,1])\n",
       ">>> p2 = np.polyder(p)\n",
       ">>> p2\n",
       "poly1d([3, 2, 1])\n",
       "\n",
       "which evaluates to:\n",
       "\n",
       ">>> p2(2.)\n",
       "17.0\n",
       "\n",
       "We can verify this, approximating the derivative with\n",
       "``(f(x + h) - f(x))/h``:\n",
       "\n",
       ">>> (p(2. + 0.001) - p(2.)) / 0.001\n",
       "17.007000999997857\n",
       "\n",
       "The fourth-order derivative of a 3rd-order polynomial is zero:\n",
       "\n",
       ">>> np.polyder(p, 2)\n",
       "poly1d([6, 2])\n",
       ">>> np.polyder(p, 3)\n",
       "poly1d([6])\n",
       ">>> np.polyder(p, 4)\n",
       "poly1d([0])\n",
       "\u001b[0;31mFile:\u001b[0m      /opt/conda/lib/python3.9/site-packages/numpy/lib/polynomial.py\n",
       "\u001b[0;31mType:\u001b[0m      function\n"
      ]
     },
     "metadata": {},
     "output_type": "display_data"
    }
   ],
   "source": [
    "?np.polyder"
   ]
  },
  {
   "cell_type": "markdown",
   "metadata": {
    "id": "yb3h41JAYhu3"
   },
   "source": [
    "$y = x^2 + 8x + 16$\n",
    "\n",
    "\n",
    "$y'(x) = 2x + 8$"
   ]
  },
  {
   "cell_type": "code",
   "execution_count": 13,
   "metadata": {
    "colab": {
     "base_uri": "https://localhost:8080/"
    },
    "executionInfo": {
     "elapsed": 155,
     "status": "ok",
     "timestamp": 1632832285263,
     "user": {
      "displayName": "John Kitchin",
      "photoUrl": "https://lh3.googleusercontent.com/a/default-user=s64",
      "userId": "14782011281593705406"
     },
     "user_tz": 240
    },
    "id": "SZl-2LfRKnyI",
    "outputId": "1bc4525e-2c55-493e-8cf6-106907d4f278"
   },
   "outputs": [
    {
     "data": {
      "text/plain": [
       "array([2, 8])"
      ]
     },
     "execution_count": 13,
     "metadata": {},
     "output_type": "execute_result"
    }
   ],
   "source": [
    "p = [1, 8, 16]\n",
    "\n",
    "pd = np.polyder(p)  # New command\n",
    "pd"
   ]
  },
  {
   "cell_type": "markdown",
   "metadata": {
    "id": "c0VZ0DwZKnyP"
   },
   "source": [
    "You can use these with `numpy.polyval` to compute the derivative at different points. Note, this is an *analytical* derivative! No approximation necessary.\n",
    "\n"
   ]
  },
  {
   "cell_type": "code",
   "execution_count": 14,
   "metadata": {
    "colab": {
     "base_uri": "https://localhost:8080/"
    },
    "executionInfo": {
     "elapsed": 126,
     "status": "ok",
     "timestamp": 1632832347795,
     "user": {
      "displayName": "John Kitchin",
      "photoUrl": "https://lh3.googleusercontent.com/a/default-user=s64",
      "userId": "14782011281593705406"
     },
     "user_tz": 240
    },
    "id": "pquYtsZlKnyQ",
    "outputId": "35438a47-b6a9-4920-92a4-499585956b50"
   },
   "outputs": [
    {
     "data": {
      "text/plain": [
       "array([-2.        , -1.91836735, -1.83673469, -1.75510204, -1.67346939,\n",
       "       -1.59183673, -1.51020408, -1.42857143, -1.34693878, -1.26530612,\n",
       "       -1.18367347, -1.10204082, -1.02040816, -0.93877551, -0.85714286,\n",
       "       -0.7755102 , -0.69387755, -0.6122449 , -0.53061224, -0.44897959,\n",
       "       -0.36734694, -0.28571429, -0.20408163, -0.12244898, -0.04081633,\n",
       "        0.04081633,  0.12244898,  0.20408163,  0.28571429,  0.36734694,\n",
       "        0.44897959,  0.53061224,  0.6122449 ,  0.69387755,  0.7755102 ,\n",
       "        0.85714286,  0.93877551,  1.02040816,  1.10204082,  1.18367347,\n",
       "        1.26530612,  1.34693878,  1.42857143,  1.51020408,  1.59183673,\n",
       "        1.67346939,  1.75510204,  1.83673469,  1.91836735,  2.        ])"
      ]
     },
     "execution_count": 14,
     "metadata": {},
     "output_type": "execute_result"
    }
   ],
   "source": [
    "np.polyval(pd, np.linspace(-5, -3))"
   ]
  },
  {
   "cell_type": "markdown",
   "metadata": {
    "id": "91-7Mi20KnyW"
   },
   "source": [
    "You can also get the coefficients of the integral of the polynomial. The integration constant is assumed to be 0 by default.\n",
    "\n"
   ]
  },
  {
   "cell_type": "code",
   "execution_count": 15,
   "metadata": {
    "executionInfo": {
     "elapsed": 145,
     "status": "ok",
     "timestamp": 1632832410293,
     "user": {
      "displayName": "John Kitchin",
      "photoUrl": "https://lh3.googleusercontent.com/a/default-user=s64",
      "userId": "14782011281593705406"
     },
     "user_tz": 240
    },
    "id": "753jMWhHZThX"
   },
   "outputs": [
    {
     "data": {
      "text/plain": [
       "\u001b[0;31mSignature:\u001b[0m \u001b[0mnp\u001b[0m\u001b[0;34m.\u001b[0m\u001b[0mpolyint\u001b[0m\u001b[0;34m(\u001b[0m\u001b[0mp\u001b[0m\u001b[0;34m,\u001b[0m \u001b[0mm\u001b[0m\u001b[0;34m=\u001b[0m\u001b[0;36m1\u001b[0m\u001b[0;34m,\u001b[0m \u001b[0mk\u001b[0m\u001b[0;34m=\u001b[0m\u001b[0;32mNone\u001b[0m\u001b[0;34m)\u001b[0m\u001b[0;34m\u001b[0m\u001b[0;34m\u001b[0m\u001b[0m\n",
       "\u001b[0;31mDocstring:\u001b[0m\n",
       "Return an antiderivative (indefinite integral) of a polynomial.\n",
       "\n",
       ".. note::\n",
       "   This forms part of the old polynomial API. Since version 1.4, the\n",
       "   new polynomial API defined in `numpy.polynomial` is preferred.\n",
       "   A summary of the differences can be found in the\n",
       "   :doc:`transition guide </reference/routines.polynomials>`.\n",
       "\n",
       "The returned order `m` antiderivative `P` of polynomial `p` satisfies\n",
       ":math:`\\frac{d^m}{dx^m}P(x) = p(x)` and is defined up to `m - 1`\n",
       "integration constants `k`. The constants determine the low-order\n",
       "polynomial part\n",
       "\n",
       ".. math:: \\frac{k_{m-1}}{0!} x^0 + \\ldots + \\frac{k_0}{(m-1)!}x^{m-1}\n",
       "\n",
       "of `P` so that :math:`P^{(j)}(0) = k_{m-j-1}`.\n",
       "\n",
       "Parameters\n",
       "----------\n",
       "p : array_like or poly1d\n",
       "    Polynomial to integrate.\n",
       "    A sequence is interpreted as polynomial coefficients, see `poly1d`.\n",
       "m : int, optional\n",
       "    Order of the antiderivative. (Default: 1)\n",
       "k : list of `m` scalars or scalar, optional\n",
       "    Integration constants. They are given in the order of integration:\n",
       "    those corresponding to highest-order terms come first.\n",
       "\n",
       "    If ``None`` (default), all constants are assumed to be zero.\n",
       "    If `m = 1`, a single scalar can be given instead of a list.\n",
       "\n",
       "See Also\n",
       "--------\n",
       "polyder : derivative of a polynomial\n",
       "poly1d.integ : equivalent method\n",
       "\n",
       "Examples\n",
       "--------\n",
       "The defining property of the antiderivative:\n",
       "\n",
       ">>> p = np.poly1d([1,1,1])\n",
       ">>> P = np.polyint(p)\n",
       ">>> P\n",
       " poly1d([ 0.33333333,  0.5       ,  1.        ,  0.        ]) # may vary\n",
       ">>> np.polyder(P) == p\n",
       "True\n",
       "\n",
       "The integration constants default to zero, but can be specified:\n",
       "\n",
       ">>> P = np.polyint(p, 3)\n",
       ">>> P(0)\n",
       "0.0\n",
       ">>> np.polyder(P)(0)\n",
       "0.0\n",
       ">>> np.polyder(P, 2)(0)\n",
       "0.0\n",
       ">>> P = np.polyint(p, 3, k=[6,5,3])\n",
       ">>> P\n",
       "poly1d([ 0.01666667,  0.04166667,  0.16666667,  3. ,  5. ,  3. ]) # may vary\n",
       "\n",
       "Note that 3 = 6 / 2!, and that the constants are given in the order of\n",
       "integrations. Constant of the highest-order polynomial term comes first:\n",
       "\n",
       ">>> np.polyder(P, 2)(0)\n",
       "6.0\n",
       ">>> np.polyder(P, 1)(0)\n",
       "5.0\n",
       ">>> P(0)\n",
       "3.0\n",
       "\u001b[0;31mFile:\u001b[0m      /opt/conda/lib/python3.9/site-packages/numpy/lib/polynomial.py\n",
       "\u001b[0;31mType:\u001b[0m      function\n"
      ]
     },
     "metadata": {},
     "output_type": "display_data"
    }
   ],
   "source": [
    "?np.polyint"
   ]
  },
  {
   "cell_type": "code",
   "execution_count": 16,
   "metadata": {
    "colab": {
     "base_uri": "https://localhost:8080/"
    },
    "executionInfo": {
     "elapsed": 290,
     "status": "ok",
     "timestamp": 1632832472487,
     "user": {
      "displayName": "John Kitchin",
      "photoUrl": "https://lh3.googleusercontent.com/a/default-user=s64",
      "userId": "14782011281593705406"
     },
     "user_tz": 240
    },
    "id": "ep_jCuJnKnyX",
    "outputId": "854dae9a-915b-414a-8d6c-46e981645ae5"
   },
   "outputs": [
    {
     "data": {
      "text/plain": [
       "array([ 0.33333333,  4.        , 16.        ,  0.        ])"
      ]
     },
     "execution_count": 16,
     "metadata": {},
     "output_type": "execute_result"
    }
   ],
   "source": [
    "pint = np.polyint(p)  # new command\n",
    "pint"
   ]
  },
  {
   "cell_type": "markdown",
   "metadata": {
    "id": "lTh5MWwlKnyc"
   },
   "source": [
    "You can use this to compute definite integrals, e.g. from x=1 to x=2:\n",
    "\n"
   ]
  },
  {
   "cell_type": "code",
   "execution_count": 17,
   "metadata": {
    "executionInfo": {
     "elapsed": 138,
     "status": "ok",
     "timestamp": 1632832559572,
     "user": {
      "displayName": "John Kitchin",
      "photoUrl": "https://lh3.googleusercontent.com/a/default-user=s64",
      "userId": "14782011281593705406"
     },
     "user_tz": 240
    },
    "id": "mS0vPoSFZ4Qo"
   },
   "outputs": [
    {
     "data": {
      "text/plain": [
       "\u001b[0;31mSignature:\u001b[0m \u001b[0mnp\u001b[0m\u001b[0;34m.\u001b[0m\u001b[0mpolyval\u001b[0m\u001b[0;34m(\u001b[0m\u001b[0mp\u001b[0m\u001b[0;34m,\u001b[0m \u001b[0mx\u001b[0m\u001b[0;34m)\u001b[0m\u001b[0;34m\u001b[0m\u001b[0;34m\u001b[0m\u001b[0m\n",
       "\u001b[0;31mDocstring:\u001b[0m\n",
       "Evaluate a polynomial at specific values.\n",
       "\n",
       ".. note::\n",
       "   This forms part of the old polynomial API. Since version 1.4, the\n",
       "   new polynomial API defined in `numpy.polynomial` is preferred.\n",
       "   A summary of the differences can be found in the\n",
       "   :doc:`transition guide </reference/routines.polynomials>`.\n",
       "\n",
       "If `p` is of length N, this function returns the value:\n",
       "\n",
       "    ``p[0]*x**(N-1) + p[1]*x**(N-2) + ... + p[N-2]*x + p[N-1]``\n",
       "\n",
       "If `x` is a sequence, then `p(x)` is returned for each element of `x`.\n",
       "If `x` is another polynomial then the composite polynomial `p(x(t))`\n",
       "is returned.\n",
       "\n",
       "Parameters\n",
       "----------\n",
       "p : array_like or poly1d object\n",
       "   1D array of polynomial coefficients (including coefficients equal\n",
       "   to zero) from highest degree to the constant term, or an\n",
       "   instance of poly1d.\n",
       "x : array_like or poly1d object\n",
       "   A number, an array of numbers, or an instance of poly1d, at\n",
       "   which to evaluate `p`.\n",
       "\n",
       "Returns\n",
       "-------\n",
       "values : ndarray or poly1d\n",
       "   If `x` is a poly1d instance, the result is the composition of the two\n",
       "   polynomials, i.e., `x` is \"substituted\" in `p` and the simplified\n",
       "   result is returned. In addition, the type of `x` - array_like or\n",
       "   poly1d - governs the type of the output: `x` array_like => `values`\n",
       "   array_like, `x` a poly1d object => `values` is also.\n",
       "\n",
       "See Also\n",
       "--------\n",
       "poly1d: A polynomial class.\n",
       "\n",
       "Notes\n",
       "-----\n",
       "Horner's scheme [1]_ is used to evaluate the polynomial. Even so,\n",
       "for polynomials of high degree the values may be inaccurate due to\n",
       "rounding errors. Use carefully.\n",
       "\n",
       "If `x` is a subtype of `ndarray` the return value will be of the same type.\n",
       "\n",
       "References\n",
       "----------\n",
       ".. [1] I. N. Bronshtein, K. A. Semendyayev, and K. A. Hirsch (Eng.\n",
       "   trans. Ed.), *Handbook of Mathematics*, New York, Van Nostrand\n",
       "   Reinhold Co., 1985, pg. 720.\n",
       "\n",
       "Examples\n",
       "--------\n",
       ">>> np.polyval([3,0,1], 5)  # 3 * 5**2 + 0 * 5**1 + 1\n",
       "76\n",
       ">>> np.polyval([3,0,1], np.poly1d(5))\n",
       "poly1d([76])\n",
       ">>> np.polyval(np.poly1d([3,0,1]), 5)\n",
       "76\n",
       ">>> np.polyval(np.poly1d([3,0,1]), np.poly1d(5))\n",
       "poly1d([76])\n",
       "\u001b[0;31mFile:\u001b[0m      /opt/conda/lib/python3.9/site-packages/numpy/lib/polynomial.py\n",
       "\u001b[0;31mType:\u001b[0m      function\n"
      ]
     },
     "metadata": {},
     "output_type": "display_data"
    }
   ],
   "source": [
    "?np.polyval"
   ]
  },
  {
   "cell_type": "code",
   "execution_count": 18,
   "metadata": {
    "colab": {
     "base_uri": "https://localhost:8080/"
    },
    "executionInfo": {
     "elapsed": 136,
     "status": "ok",
     "timestamp": 1632832508266,
     "user": {
      "displayName": "John Kitchin",
      "photoUrl": "https://lh3.googleusercontent.com/a/default-user=s64",
      "userId": "14782011281593705406"
     },
     "user_tz": 240
    },
    "id": "hoTlG29KKnyd",
    "outputId": "835d9afe-2096-4dca-e74c-e5dd7cdd2e4d"
   },
   "outputs": [
    {
     "data": {
      "text/plain": [
       "30.33333333333334"
      ]
     },
     "execution_count": 18,
     "metadata": {},
     "output_type": "execute_result"
    }
   ],
   "source": [
    "np.polyval(pint, 2) - np.polyval(pint, 1)"
   ]
  },
  {
   "cell_type": "code",
   "execution_count": 19,
   "metadata": {
    "colab": {
     "base_uri": "https://localhost:8080/"
    },
    "executionInfo": {
     "elapsed": 129,
     "status": "ok",
     "timestamp": 1632832527495,
     "user": {
      "displayName": "John Kitchin",
      "photoUrl": "https://lh3.googleusercontent.com/a/default-user=s64",
      "userId": "14782011281593705406"
     },
     "user_tz": 240
    },
    "id": "XB-D3A8L1BqC",
    "outputId": "c0259645-1824-43d6-db2f-0f3c6ba03607"
   },
   "outputs": [
    {
     "data": {
      "text/plain": [
       "(30.333333333333332, 3.367676508029641e-13)"
      ]
     },
     "execution_count": 19,
     "metadata": {},
     "output_type": "execute_result"
    }
   ],
   "source": [
    "from scipy.integrate import quad\n",
    "\n",
    "\n",
    "def integrand(x):\n",
    "    return x**2 + 8 * x + 16\n",
    "\n",
    "\n",
    "quad(integrand, 1, 2)"
   ]
  },
  {
   "cell_type": "code",
   "execution_count": 20,
   "metadata": {
    "colab": {
     "base_uri": "https://localhost:8080/"
    },
    "executionInfo": {
     "elapsed": 112,
     "status": "ok",
     "timestamp": 1632832740183,
     "user": {
      "displayName": "John Kitchin",
      "photoUrl": "https://lh3.googleusercontent.com/a/default-user=s64",
      "userId": "14782011281593705406"
     },
     "user_tz": 240
    },
    "id": "jNpocotaalQD",
    "outputId": "9df6fba3-7300-459e-bfb9-3e5156e9b9d9"
   },
   "outputs": [
    {
     "data": {
      "text/plain": [
       "[1, 8, 16]"
      ]
     },
     "execution_count": 20,
     "metadata": {},
     "output_type": "execute_result"
    }
   ],
   "source": [
    "p"
   ]
  },
  {
   "cell_type": "code",
   "execution_count": 21,
   "metadata": {
    "colab": {
     "base_uri": "https://localhost:8080/"
    },
    "executionInfo": {
     "elapsed": 123,
     "status": "ok",
     "timestamp": 1632832749097,
     "user": {
      "displayName": "John Kitchin",
      "photoUrl": "https://lh3.googleusercontent.com/a/default-user=s64",
      "userId": "14782011281593705406"
     },
     "user_tz": 240
    },
    "id": "_vQcLYfxaUZ-",
    "outputId": "1cab4365-4734-4a60-a09f-8f4933318484"
   },
   "outputs": [
    {
     "data": {
      "text/plain": [
       "30.333334749976625"
      ]
     },
     "execution_count": 21,
     "metadata": {},
     "output_type": "execute_result"
    }
   ],
   "source": [
    "X = np.linspace(1, 2)\n",
    "y = X**2 + 8 * X + 16\n",
    "from scipy.integrate import simps\n",
    "\n",
    "simps(y, X)"
   ]
  },
  {
   "cell_type": "markdown",
   "metadata": {
    "id": "nbYSlRTXKnyi"
   },
   "source": [
    "**exercise** Use another method to confirm the result above.\n",
    "\n",
    "Finally, the syntax `np.polyval(pint, 2)` can be a little tedious. You can create a function with `numpy.poly1d` using the array of coefficients. Conveniently, you can use the function in the roots, polyder and polyint commands!\n",
    "\n"
   ]
  },
  {
   "cell_type": "code",
   "execution_count": 22,
   "metadata": {
    "executionInfo": {
     "elapsed": 125,
     "status": "ok",
     "timestamp": 1632832861321,
     "user": {
      "displayName": "John Kitchin",
      "photoUrl": "https://lh3.googleusercontent.com/a/default-user=s64",
      "userId": "14782011281593705406"
     },
     "user_tz": 240
    },
    "id": "yKz2aq6pa_gr"
   },
   "outputs": [
    {
     "data": {
      "text/plain": [
       "\u001b[0;31mInit signature:\u001b[0m \u001b[0mnp\u001b[0m\u001b[0;34m.\u001b[0m\u001b[0mpoly1d\u001b[0m\u001b[0;34m(\u001b[0m\u001b[0mc_or_r\u001b[0m\u001b[0;34m,\u001b[0m \u001b[0mr\u001b[0m\u001b[0;34m=\u001b[0m\u001b[0;32mFalse\u001b[0m\u001b[0;34m,\u001b[0m \u001b[0mvariable\u001b[0m\u001b[0;34m=\u001b[0m\u001b[0;32mNone\u001b[0m\u001b[0;34m)\u001b[0m\u001b[0;34m\u001b[0m\u001b[0;34m\u001b[0m\u001b[0m\n",
       "\u001b[0;31mDocstring:\u001b[0m     \n",
       "A one-dimensional polynomial class.\n",
       "\n",
       ".. note::\n",
       "   This forms part of the old polynomial API. Since version 1.4, the\n",
       "   new polynomial API defined in `numpy.polynomial` is preferred.\n",
       "   A summary of the differences can be found in the\n",
       "   :doc:`transition guide </reference/routines.polynomials>`.\n",
       "\n",
       "A convenience class, used to encapsulate \"natural\" operations on\n",
       "polynomials so that said operations may take on their customary\n",
       "form in code (see Examples).\n",
       "\n",
       "Parameters\n",
       "----------\n",
       "c_or_r : array_like\n",
       "    The polynomial's coefficients, in decreasing powers, or if\n",
       "    the value of the second parameter is True, the polynomial's\n",
       "    roots (values where the polynomial evaluates to 0).  For example,\n",
       "    ``poly1d([1, 2, 3])`` returns an object that represents\n",
       "    :math:`x^2 + 2x + 3`, whereas ``poly1d([1, 2, 3], True)`` returns\n",
       "    one that represents :math:`(x-1)(x-2)(x-3) = x^3 - 6x^2 + 11x -6`.\n",
       "r : bool, optional\n",
       "    If True, `c_or_r` specifies the polynomial's roots; the default\n",
       "    is False.\n",
       "variable : str, optional\n",
       "    Changes the variable used when printing `p` from `x` to `variable`\n",
       "    (see Examples).\n",
       "\n",
       "Examples\n",
       "--------\n",
       "Construct the polynomial :math:`x^2 + 2x + 3`:\n",
       "\n",
       ">>> p = np.poly1d([1, 2, 3])\n",
       ">>> print(np.poly1d(p))\n",
       "   2\n",
       "1 x + 2 x + 3\n",
       "\n",
       "Evaluate the polynomial at :math:`x = 0.5`:\n",
       "\n",
       ">>> p(0.5)\n",
       "4.25\n",
       "\n",
       "Find the roots:\n",
       "\n",
       ">>> p.r\n",
       "array([-1.+1.41421356j, -1.-1.41421356j])\n",
       ">>> p(p.r)\n",
       "array([ -4.44089210e-16+0.j,  -4.44089210e-16+0.j]) # may vary\n",
       "\n",
       "These numbers in the previous line represent (0, 0) to machine precision\n",
       "\n",
       "Show the coefficients:\n",
       "\n",
       ">>> p.c\n",
       "array([1, 2, 3])\n",
       "\n",
       "Display the order (the leading zero-coefficients are removed):\n",
       "\n",
       ">>> p.order\n",
       "2\n",
       "\n",
       "Show the coefficient of the k-th power in the polynomial\n",
       "(which is equivalent to ``p.c[-(i+1)]``):\n",
       "\n",
       ">>> p[1]\n",
       "2\n",
       "\n",
       "Polynomials can be added, subtracted, multiplied, and divided\n",
       "(returns quotient and remainder):\n",
       "\n",
       ">>> p * p\n",
       "poly1d([ 1,  4, 10, 12,  9])\n",
       "\n",
       ">>> (p**3 + 4) / p\n",
       "(poly1d([ 1.,  4., 10., 12.,  9.]), poly1d([4.]))\n",
       "\n",
       "``asarray(p)`` gives the coefficient array, so polynomials can be\n",
       "used in all functions that accept arrays:\n",
       "\n",
       ">>> p**2 # square of polynomial\n",
       "poly1d([ 1,  4, 10, 12,  9])\n",
       "\n",
       ">>> np.square(p) # square of individual coefficients\n",
       "array([1, 4, 9])\n",
       "\n",
       "The variable used in the string representation of `p` can be modified,\n",
       "using the `variable` parameter:\n",
       "\n",
       ">>> p = np.poly1d([1,2,3], variable='z')\n",
       ">>> print(p)\n",
       "   2\n",
       "1 z + 2 z + 3\n",
       "\n",
       "Construct a polynomial from its roots:\n",
       "\n",
       ">>> np.poly1d([1, 2], True)\n",
       "poly1d([ 1., -3.,  2.])\n",
       "\n",
       "This is the same polynomial as obtained by:\n",
       "\n",
       ">>> np.poly1d([1, -1]) * np.poly1d([1, -2])\n",
       "poly1d([ 1, -3,  2])\n",
       "\u001b[0;31mFile:\u001b[0m           /opt/conda/lib/python3.9/site-packages/numpy/__init__.py\n",
       "\u001b[0;31mType:\u001b[0m           type\n",
       "\u001b[0;31mSubclasses:\u001b[0m     orthopoly1d\n"
      ]
     },
     "metadata": {},
     "output_type": "display_data"
    }
   ],
   "source": [
    "?np.poly1d"
   ]
  },
  {
   "cell_type": "code",
   "execution_count": 23,
   "metadata": {
    "colab": {
     "base_uri": "https://localhost:8080/"
    },
    "executionInfo": {
     "elapsed": 127,
     "status": "ok",
     "timestamp": 1632832898916,
     "user": {
      "displayName": "John Kitchin",
      "photoUrl": "https://lh3.googleusercontent.com/a/default-user=s64",
      "userId": "14782011281593705406"
     },
     "user_tz": 240
    },
    "id": "BbQUtaQKKnyi",
    "outputId": "65a4c7c9-5bfd-42da-bbfc-7b2145e11445"
   },
   "outputs": [
    {
     "data": {
      "text/plain": [
       "30.33333333333334"
      ]
     },
     "execution_count": 23,
     "metadata": {},
     "output_type": "execute_result"
    }
   ],
   "source": [
    "p = np.poly1d(pint)\n",
    "p(2) - p(1)"
   ]
  },
  {
   "cell_type": "code",
   "execution_count": 24,
   "metadata": {
    "colab": {
     "base_uri": "https://localhost:8080/"
    },
    "executionInfo": {
     "elapsed": 131,
     "status": "ok",
     "timestamp": 1632832930138,
     "user": {
      "displayName": "John Kitchin",
      "photoUrl": "https://lh3.googleusercontent.com/a/default-user=s64",
      "userId": "14782011281593705406"
     },
     "user_tz": 240
    },
    "id": "2o9VmvTP1ppM",
    "outputId": "20d73d86-0080-4a42-a7a3-e7293018b36d"
   },
   "outputs": [
    {
     "data": {
      "text/plain": [
       "poly1d([ 0.33333333,  4.        , 16.        ,  0.        ])"
      ]
     },
     "execution_count": 24,
     "metadata": {},
     "output_type": "execute_result"
    }
   ],
   "source": [
    "p"
   ]
  },
  {
   "cell_type": "code",
   "execution_count": 25,
   "metadata": {
    "colab": {
     "base_uri": "https://localhost:8080/"
    },
    "executionInfo": {
     "elapsed": 126,
     "status": "ok",
     "timestamp": 1632832940184,
     "user": {
      "displayName": "John Kitchin",
      "photoUrl": "https://lh3.googleusercontent.com/a/default-user=s64",
      "userId": "14782011281593705406"
     },
     "user_tz": 240
    },
    "id": "wv48j_UwKnyo",
    "outputId": "cc732ace-7e66-4e16-aa04-e577dddb62b0"
   },
   "outputs": [
    {
     "data": {
      "text/plain": [
       "array([-6.+3.46410162j, -6.-3.46410162j,  0.+0.j        ])"
      ]
     },
     "execution_count": 25,
     "metadata": {},
     "output_type": "execute_result"
    }
   ],
   "source": [
    "np.roots(p)"
   ]
  },
  {
   "cell_type": "code",
   "execution_count": 26,
   "metadata": {
    "executionInfo": {
     "elapsed": 128,
     "status": "ok",
     "timestamp": 1632832990425,
     "user": {
      "displayName": "John Kitchin",
      "photoUrl": "https://lh3.googleusercontent.com/a/default-user=s64",
      "userId": "14782011281593705406"
     },
     "user_tz": 240
    },
    "id": "_hoiK0P1biNp"
   },
   "outputs": [
    {
     "data": {
      "text/plain": [
       "\u001b[0;31mSignature:\u001b[0m   \u001b[0mp\u001b[0m\u001b[0;34m(\u001b[0m\u001b[0mval\u001b[0m\u001b[0;34m)\u001b[0m\u001b[0;34m\u001b[0m\u001b[0;34m\u001b[0m\u001b[0m\n",
       "\u001b[0;31mType:\u001b[0m        poly1d\n",
       "\u001b[0;31mString form:\u001b[0m\n",
       "        3     2\n",
       "0.3333 x + 4 x + 16 x\n",
       "\u001b[0;31mLength:\u001b[0m      3\n",
       "\u001b[0;31mFile:\u001b[0m        /opt/conda/lib/python3.9/site-packages/numpy/__init__.py\n",
       "\u001b[0;31mDocstring:\u001b[0m  \n",
       "A one-dimensional polynomial class.\n",
       "\n",
       ".. note::\n",
       "   This forms part of the old polynomial API. Since version 1.4, the\n",
       "   new polynomial API defined in `numpy.polynomial` is preferred.\n",
       "   A summary of the differences can be found in the\n",
       "   :doc:`transition guide </reference/routines.polynomials>`.\n",
       "\n",
       "A convenience class, used to encapsulate \"natural\" operations on\n",
       "polynomials so that said operations may take on their customary\n",
       "form in code (see Examples).\n",
       "\n",
       "Parameters\n",
       "----------\n",
       "c_or_r : array_like\n",
       "    The polynomial's coefficients, in decreasing powers, or if\n",
       "    the value of the second parameter is True, the polynomial's\n",
       "    roots (values where the polynomial evaluates to 0).  For example,\n",
       "    ``poly1d([1, 2, 3])`` returns an object that represents\n",
       "    :math:`x^2 + 2x + 3`, whereas ``poly1d([1, 2, 3], True)`` returns\n",
       "    one that represents :math:`(x-1)(x-2)(x-3) = x^3 - 6x^2 + 11x -6`.\n",
       "r : bool, optional\n",
       "    If True, `c_or_r` specifies the polynomial's roots; the default\n",
       "    is False.\n",
       "variable : str, optional\n",
       "    Changes the variable used when printing `p` from `x` to `variable`\n",
       "    (see Examples).\n",
       "\n",
       "Examples\n",
       "--------\n",
       "Construct the polynomial :math:`x^2 + 2x + 3`:\n",
       "\n",
       ">>> p = np.poly1d([1, 2, 3])\n",
       ">>> print(np.poly1d(p))\n",
       "   2\n",
       "1 x + 2 x + 3\n",
       "\n",
       "Evaluate the polynomial at :math:`x = 0.5`:\n",
       "\n",
       ">>> p(0.5)\n",
       "4.25\n",
       "\n",
       "Find the roots:\n",
       "\n",
       ">>> p.r\n",
       "array([-1.+1.41421356j, -1.-1.41421356j])\n",
       ">>> p(p.r)\n",
       "array([ -4.44089210e-16+0.j,  -4.44089210e-16+0.j]) # may vary\n",
       "\n",
       "These numbers in the previous line represent (0, 0) to machine precision\n",
       "\n",
       "Show the coefficients:\n",
       "\n",
       ">>> p.c\n",
       "array([1, 2, 3])\n",
       "\n",
       "Display the order (the leading zero-coefficients are removed):\n",
       "\n",
       ">>> p.order\n",
       "2\n",
       "\n",
       "Show the coefficient of the k-th power in the polynomial\n",
       "(which is equivalent to ``p.c[-(i+1)]``):\n",
       "\n",
       ">>> p[1]\n",
       "2\n",
       "\n",
       "Polynomials can be added, subtracted, multiplied, and divided\n",
       "(returns quotient and remainder):\n",
       "\n",
       ">>> p * p\n",
       "poly1d([ 1,  4, 10, 12,  9])\n",
       "\n",
       ">>> (p**3 + 4) / p\n",
       "(poly1d([ 1.,  4., 10., 12.,  9.]), poly1d([4.]))\n",
       "\n",
       "``asarray(p)`` gives the coefficient array, so polynomials can be\n",
       "used in all functions that accept arrays:\n",
       "\n",
       ">>> p**2 # square of polynomial\n",
       "poly1d([ 1,  4, 10, 12,  9])\n",
       "\n",
       ">>> np.square(p) # square of individual coefficients\n",
       "array([1, 4, 9])\n",
       "\n",
       "The variable used in the string representation of `p` can be modified,\n",
       "using the `variable` parameter:\n",
       "\n",
       ">>> p = np.poly1d([1,2,3], variable='z')\n",
       ">>> print(p)\n",
       "   2\n",
       "1 z + 2 z + 3\n",
       "\n",
       "Construct a polynomial from its roots:\n",
       "\n",
       ">>> np.poly1d([1, 2], True)\n",
       "poly1d([ 1., -3.,  2.])\n",
       "\n",
       "This is the same polynomial as obtained by:\n",
       "\n",
       ">>> np.poly1d([1, -1]) * np.poly1d([1, -2])\n",
       "poly1d([ 1, -3,  2])\n"
      ]
     },
     "metadata": {},
     "output_type": "display_data"
    }
   ],
   "source": [
    "?p"
   ]
  },
  {
   "cell_type": "code",
   "execution_count": 27,
   "metadata": {
    "colab": {
     "base_uri": "https://localhost:8080/"
    },
    "executionInfo": {
     "elapsed": 156,
     "status": "ok",
     "timestamp": 1632832944891,
     "user": {
      "displayName": "John Kitchin",
      "photoUrl": "https://lh3.googleusercontent.com/a/default-user=s64",
      "userId": "14782011281593705406"
     },
     "user_tz": 240
    },
    "id": "9gAwvId310Ey",
    "outputId": "f73cb88b-27d8-4984-f502-b104a8f40be6"
   },
   "outputs": [
    {
     "name": "stdout",
     "output_type": "stream",
     "text": [
      "        3     2\n",
      "0.3333 x + 4 x + 16 x\n"
     ]
    }
   ],
   "source": [
    "print(p)"
   ]
  },
  {
   "cell_type": "code",
   "execution_count": 28,
   "metadata": {
    "colab": {
     "base_uri": "https://localhost:8080/"
    },
    "executionInfo": {
     "elapsed": 128,
     "status": "ok",
     "timestamp": 1632832974295,
     "user": {
      "displayName": "John Kitchin",
      "photoUrl": "https://lh3.googleusercontent.com/a/default-user=s64",
      "userId": "14782011281593705406"
     },
     "user_tz": 240
    },
    "id": "G3e5GqCb2oz_",
    "outputId": "b136838a-9308-4354-8c92-bc54e7aa4ab9"
   },
   "outputs": [
    {
     "data": {
      "text/plain": [
       "array([-6.+3.46410162j, -6.-3.46410162j,  0.+0.j        ])"
      ]
     },
     "execution_count": 28,
     "metadata": {},
     "output_type": "execute_result"
    }
   ],
   "source": [
    "p.r  # shorthand for roots"
   ]
  },
  {
   "cell_type": "code",
   "execution_count": 29,
   "metadata": {
    "colab": {
     "base_uri": "https://localhost:8080/"
    },
    "executionInfo": {
     "elapsed": 163,
     "status": "ok",
     "timestamp": 1632833482849,
     "user": {
      "displayName": "John Kitchin",
      "photoUrl": "https://lh3.googleusercontent.com/a/default-user=s64",
      "userId": "14782011281593705406"
     },
     "user_tz": 240
    },
    "id": "W2Tv96o8cOZ8",
    "outputId": "c5c111d4-9f13-44ee-c651-0317e5c4c6bb"
   },
   "outputs": [
    {
     "data": {
      "text/plain": [
       "[0.0]"
      ]
     },
     "execution_count": 29,
     "metadata": {},
     "output_type": "execute_result"
    }
   ],
   "source": [
    "[\n",
    "    root.real for root in p.r if np.abs(root.imag) <= 1e-12\n",
    "]  # extract out only the real part of the real roots."
   ]
  },
  {
   "cell_type": "code",
   "execution_count": 30,
   "metadata": {
    "colab": {
     "base_uri": "https://localhost:8080/"
    },
    "executionInfo": {
     "elapsed": 127,
     "status": "ok",
     "timestamp": 1632833109318,
     "user": {
      "displayName": "John Kitchin",
      "photoUrl": "https://lh3.googleusercontent.com/a/default-user=s64",
      "userId": "14782011281593705406"
     },
     "user_tz": 240
    },
    "id": "KFkYA1FXb0EO",
    "outputId": "949f7efd-f0de-41aa-a0e7-b70e2f61fed0"
   },
   "outputs": [
    {
     "name": "stdout",
     "output_type": "stream",
     "text": [
      "[0.+0.j 0.-0.j 0.+0.j]\n"
     ]
    }
   ],
   "source": [
    "with np.printoptions(suppress=True):  # show very small numbers as 0\n",
    "    print(p(p.r))"
   ]
  },
  {
   "cell_type": "code",
   "execution_count": 31,
   "metadata": {
    "colab": {
     "base_uri": "https://localhost:8080/"
    },
    "executionInfo": {
     "elapsed": 129,
     "status": "ok",
     "timestamp": 1632833010649,
     "user": {
      "displayName": "John Kitchin",
      "photoUrl": "https://lh3.googleusercontent.com/a/default-user=s64",
      "userId": "14782011281593705406"
     },
     "user_tz": 240
    },
    "id": "YrKKisTX2r9E",
    "outputId": "1951f088-91ee-421e-c29a-2e8cc5f5195f"
   },
   "outputs": [
    {
     "data": {
      "text/plain": [
       "array([ 0.33333333,  4.        , 16.        ,  0.        ])"
      ]
     },
     "execution_count": 31,
     "metadata": {},
     "output_type": "execute_result"
    }
   ],
   "source": [
    "p.coefficients"
   ]
  },
  {
   "cell_type": "code",
   "execution_count": 32,
   "metadata": {
    "colab": {
     "base_uri": "https://localhost:8080/"
    },
    "executionInfo": {
     "elapsed": 137,
     "status": "ok",
     "timestamp": 1632833013222,
     "user": {
      "displayName": "John Kitchin",
      "photoUrl": "https://lh3.googleusercontent.com/a/default-user=s64",
      "userId": "14782011281593705406"
     },
     "user_tz": 240
    },
    "id": "60o94pBH2t6z",
    "outputId": "c1c6ea73-31f9-45ef-9a75-4db93db42718"
   },
   "outputs": [
    {
     "data": {
      "text/plain": [
       "3"
      ]
     },
     "execution_count": 32,
     "metadata": {},
     "output_type": "execute_result"
    }
   ],
   "source": [
    "p.order"
   ]
  },
  {
   "cell_type": "markdown",
   "metadata": {
    "id": "LqWwQfcZKnyt"
   },
   "source": [
    "## Systems of nonlinear equations\n",
    "\n"
   ]
  },
  {
   "cell_type": "markdown",
   "metadata": {
    "id": "kw3u63EsKnyu"
   },
   "source": [
    "Analogously to systems of ordinary differential equations, with systems of nonlinear equations we define functions that will return a zero for each equation in the system. Then we have to pass an initial guess for each variable to fsolve, and it will return an array of values, one for each variable.\n",
    "\n",
    "It is considerably more difficult to visualize systems of nonlinear equations. With two equations and two unknowns it is sometimes easy to plot solutions, but not always.\n",
    "\n",
    "\\begin{align}\n",
    "y &=& x^2 \\\\\n",
    "y &=& 8 - x^2\n",
    "\\end{align}\n",
    "\n",
    "One approach to visualizing this is to plot the two curves.\n",
    "\n"
   ]
  },
  {
   "cell_type": "code",
   "execution_count": 33,
   "metadata": {
    "colab": {
     "base_uri": "https://localhost:8080/",
     "height": 279
    },
    "executionInfo": {
     "elapsed": 287,
     "status": "ok",
     "timestamp": 1632833895700,
     "user": {
      "displayName": "John Kitchin",
      "photoUrl": "https://lh3.googleusercontent.com/a/default-user=s64",
      "userId": "14782011281593705406"
     },
     "user_tz": 240
    },
    "id": "vLCCCT60Knyv",
    "outputId": "98cc620d-79db-46ee-c844-b2cf02c88d7e"
   },
   "outputs": [
    {
     "data": {
      "image/png": "[encoded data removed]",
      "text/plain": [
       "<Figure size 432x288 with 1 Axes>"
      ]
     },
     "metadata": {
      "needs_background": "light"
     },
     "output_type": "display_data"
    }
   ],
   "source": [
    "import numpy as np\n",
    "import matplotlib.pyplot as plt\n",
    "\n",
    "x = np.linspace(0, 4)\n",
    "\n",
    "y1 = x**2\n",
    "y2 = 8 - x**2\n",
    "\n",
    "plt.plot(x, y1, x, y2)\n",
    "plt.xlabel(\"x\")\n",
    "plt.ylabel(\"y\")\n",
    "plt.legend([\"y1\", \"y2\"]);"
   ]
  },
  {
   "cell_type": "markdown",
   "metadata": {
    "id": "-CbtqSrFKny1"
   },
   "source": [
    "You can see that on this domain, there is one place where the two curves intersect near the point (2, 5), which is a solution point. At this point there is one (x, y) pair that is a solution to *both* equations."
   ]
  },
  {
   "cell_type": "code",
   "execution_count": 34,
   "metadata": {
    "colab": {
     "base_uri": "https://localhost:8080/"
    },
    "executionInfo": {
     "elapsed": 121,
     "status": "ok",
     "timestamp": 1632834101027,
     "user": {
      "displayName": "John Kitchin",
      "photoUrl": "https://lh3.googleusercontent.com/a/default-user=s64",
      "userId": "14782011281593705406"
     },
     "user_tz": 240
    },
    "id": "fAkZzN7eKny3",
    "outputId": "4d97196e-a43f-46fb-c841-1e56f3cce93c"
   },
   "outputs": [
    {
     "data": {
      "text/plain": [
       "array([-0.4, -0.4])"
      ]
     },
     "execution_count": 34,
     "metadata": {},
     "output_type": "execute_result"
    }
   ],
   "source": [
    "from scipy.optimize import root\n",
    "\n",
    "\n",
    "def objective(X):\n",
    "    x, y = X\n",
    "    z1 = y - x**2\n",
    "    z2 = y - 8 + x**2\n",
    "    return np.array([z1, z2])\n",
    "\n",
    "\n",
    "guess = [2, 3.6]\n",
    "objective(guess)"
   ]
  },
  {
   "cell_type": "code",
   "execution_count": 35,
   "metadata": {
    "colab": {
     "base_uri": "https://localhost:8080/"
    },
    "executionInfo": {
     "elapsed": 117,
     "status": "ok",
     "timestamp": 1632834172519,
     "user": {
      "displayName": "John Kitchin",
      "photoUrl": "https://lh3.googleusercontent.com/a/default-user=s64",
      "userId": "14782011281593705406"
     },
     "user_tz": 240
    },
    "id": "LId1nJTVfnZ0",
    "outputId": "eec36cec-8af4-4ddf-fd97-9afe078b726c"
   },
   "outputs": [
    {
     "data": {
      "text/plain": [
       "    fjac: array([[-0.70710678,  0.70710678],\n",
       "       [-0.70710678, -0.70710678]])\n",
       "     fun: array([-4.4408921e-16,  0.0000000e+00])\n",
       " message: 'The solution converged.'\n",
       "    nfev: 5\n",
       "     qtf: array([-2.34149113e-09,  1.40366046e-09])\n",
       "       r: array([ 5.65685429e+00,  1.33226763e-15, -1.41421356e+00])\n",
       "  status: 1\n",
       " success: True\n",
       "       x: array([2., 4.])"
      ]
     },
     "execution_count": 35,
     "metadata": {},
     "output_type": "execute_result"
    }
   ],
   "source": [
    "ans = root(objective, guess)  # Note we do not have a , as in ans,\n",
    "\n",
    "ans"
   ]
  },
  {
   "cell_type": "code",
   "execution_count": 37,
   "metadata": {
    "colab": {
     "base_uri": "https://localhost:8080/"
    },
    "executionInfo": {
     "elapsed": 115,
     "status": "ok",
     "timestamp": 1632834190468,
     "user": {
      "displayName": "John Kitchin",
      "photoUrl": "https://lh3.googleusercontent.com/a/default-user=s64",
      "userId": "14782011281593705406"
     },
     "user_tz": 240
    },
    "id": "6E-HOvkX6TXS",
    "outputId": "4188b768-c9da-4bd2-89c7-82a09637c528"
   },
   "outputs": [],
   "source": [
    "sol = root(objective, guess)  # we unpack the two parts of the solution into x and y\n",
    "x, y = sol.x"
   ]
  },
  {
   "cell_type": "code",
   "execution_count": 38,
   "metadata": {
    "colab": {
     "base_uri": "https://localhost:8080/"
    },
    "executionInfo": {
     "elapsed": 114,
     "status": "ok",
     "timestamp": 1632834228666,
     "user": {
      "displayName": "John Kitchin",
      "photoUrl": "https://lh3.googleusercontent.com/a/default-user=s64",
      "userId": "14782011281593705406"
     },
     "user_tz": 240
    },
    "id": "B9Dc27Q_6bpG",
    "outputId": "5b85cd3a-fafb-4167-9174-5f4f51303cda"
   },
   "outputs": [
    {
     "data": {
      "text/plain": [
       "[array([-4.4408921e-16,  0.0000000e+00]),\n",
       " array([-4.4408921e-16,  0.0000000e+00]),\n",
       " array([-4.4408921e-16,  0.0000000e+00])]"
      ]
     },
     "execution_count": 38,
     "metadata": {},
     "output_type": "execute_result"
    }
   ],
   "source": [
    "[\n",
    "    objective((x, y)),  # tuple\n",
    "    objective([x, y]),  # list\n",
    "    # use an array\n",
    "    objective(np.array([x, y])),\n",
    "]  # three equivalent ways to call the objective function"
   ]
  },
  {
   "cell_type": "code",
   "execution_count": 40,
   "metadata": {
    "colab": {
     "base_uri": "https://localhost:8080/"
    },
    "executionInfo": {
     "elapsed": 128,
     "status": "ok",
     "timestamp": 1632834244657,
     "user": {
      "displayName": "John Kitchin",
      "photoUrl": "https://lh3.googleusercontent.com/a/default-user=s64",
      "userId": "14782011281593705406"
     },
     "user_tz": 240
    },
    "id": "txZo9xIw56Sd",
    "outputId": "bfa72e9b-7644-468e-e83c-671e9f59c7fd"
   },
   "outputs": [
    {
     "data": {
      "text/plain": [
       "array([-4.4408921e-16,  0.0000000e+00])"
      ]
     },
     "execution_count": 40,
     "metadata": {},
     "output_type": "execute_result"
    }
   ],
   "source": [
    "objective(ans.x)"
   ]
  },
  {
   "cell_type": "code",
   "execution_count": 41,
   "metadata": {
    "colab": {
     "base_uri": "https://localhost:8080/"
    },
    "executionInfo": {
     "elapsed": 154,
     "status": "ok",
     "timestamp": 1632834246683,
     "user": {
      "displayName": "John Kitchin",
      "photoUrl": "https://lh3.googleusercontent.com/a/default-user=s64",
      "userId": "14782011281593705406"
     },
     "user_tz": 240
    },
    "id": "ZIqUd-Bk5_VA",
    "outputId": "472a7211-fbd0-4849-8f3e-2e0e4ae06c5b"
   },
   "outputs": [
    {
     "data": {
      "text/plain": [
       "array([-0.4, -0.4])"
      ]
     },
     "execution_count": 41,
     "metadata": {},
     "output_type": "execute_result"
    }
   ],
   "source": [
    "objective(guess)"
   ]
  },
  {
   "cell_type": "markdown",
   "metadata": {
    "id": "zagtBjxv7cqx"
   },
   "source": [
    "## A harder example"
   ]
  },
  {
   "cell_type": "markdown",
   "metadata": {
    "id": "j9dpR74AKny9"
   },
   "source": [
    "It is not always easy to solve for one variable in terms of the other though. In that case, we can resort to an alternate graphical approach where we evaluate the objective function over a range of the variables, and look for regions where they overlap.\n",
    "\n",
    "Consider the solution to these equations (adapted from [https://www.mathworks.com/help/optim/ug/fsolve.html](https://www.mathworks.com/help/optim/ug/fsolve.html)):\n",
    "\n",
    "$e^{-e^{-(x_1 + x_2)}} = x_2 (1 + x_1^2)$\n",
    "\n",
    "and\n",
    "\n",
    "$x_1 \\cos(x_2) + x_2 \\sin(x_1) = 1/2$\n",
    "\n",
    "It is not possible to solve either one for one variable in terms of the other. So instead, we will compute the objective function for a range of $x_1, x_2$ values, and then use a contour plot of each equation to see where there might be a solution.\n",
    "\n",
    "The key to this visualization is where we draw the contours. A good choice is to highlight only the part of the solutions that bracket zero. Then we can see where they intersect, because there is probably a solution in that neighborhood.\n",
    "\n"
   ]
  },
  {
   "cell_type": "code",
   "execution_count": 42,
   "metadata": {
    "colab": {
     "base_uri": "https://localhost:8080/",
     "height": 503
    },
    "executionInfo": {
     "elapsed": 1277,
     "status": "ok",
     "timestamp": 1632835949106,
     "user": {
      "displayName": "John Kitchin",
      "photoUrl": "https://lh3.googleusercontent.com/a/default-user=s64",
      "userId": "14782011281593705406"
     },
     "user_tz": 240
    },
    "id": "wsjWUCaxKny-",
    "outputId": "f6617fa4-eb34-4d75-947e-2efdbf859ae0"
   },
   "outputs": [
    {
     "data": {
      "image/png": "[encoded data removed]",
      "text/plain": [
       "<Figure size 864x576 with 2 Axes>"
      ]
     },
     "metadata": {
      "needs_background": "light"
     },
     "output_type": "display_data"
    }
   ],
   "source": [
    "import numpy as np\n",
    "\n",
    "\n",
    "def objective(X):\n",
    "    x1, x2 = X\n",
    "    z1 = np.exp(-np.exp(-(x1 + x2))) - x2 * (1 + x1**2)\n",
    "    z2 = x1 * np.cos(x2) + x2 * np.sin(x1) - 0.5\n",
    "    return np.array([z1, z2])\n",
    "\n",
    "\n",
    "x1 = np.linspace(-10, 20)\n",
    "x2 = np.linspace(-10, 20)\n",
    "\n",
    "X1, X2 = np.meshgrid(x1, x2)\n",
    "\n",
    "Z1, Z2 = objective([X1, X2])\n",
    "plt.figure(figsize=(12, 8))\n",
    "plt.contour(X1, X2, Z1, levels=np.linspace(-0.01, 0.01, 100))\n",
    "plt.contour(X1, X2, Z2, levels=np.linspace(-0.01, 0.01, 100), cmap=\"jet\")\n",
    "plt.xlabel(\"$x_1$\")\n",
    "plt.ylabel(\"$x_2$\")\n",
    "plt.colorbar();"
   ]
  },
  {
   "cell_type": "code",
   "execution_count": 43,
   "metadata": {
    "colab": {
     "base_uri": "https://localhost:8080/"
    },
    "executionInfo": {
     "elapsed": 143,
     "status": "ok",
     "timestamp": 1632834668984,
     "user": {
      "displayName": "John Kitchin",
      "photoUrl": "https://lh3.googleusercontent.com/a/default-user=s64",
      "userId": "14782011281593705406"
     },
     "user_tz": 240
    },
    "id": "zfZdGrfR91qn",
    "outputId": "160f52ca-1aa5-4e30-ff29-1478aa3e5c26"
   },
   "outputs": [
    {
     "data": {
      "text/plain": [
       "array([-0.00379937,  0.06378525])"
      ]
     },
     "execution_count": 43,
     "metadata": {},
     "output_type": "execute_result"
    }
   ],
   "source": [
    "objective([0.4, 0.6])  # shows that the objective function is approximately zero"
   ]
  },
  {
   "cell_type": "markdown",
   "metadata": {
    "id": "gDoTcTXSKnzF"
   },
   "source": [
    "There is an intersection near $x_1=0.4$, and $x_2 = 0.6$. We can use that as an initial guess."
   ]
  },
  {
   "cell_type": "code",
   "execution_count": 44,
   "metadata": {
    "colab": {
     "base_uri": "https://localhost:8080/"
    },
    "executionInfo": {
     "elapsed": 146,
     "status": "ok",
     "timestamp": 1632835784450,
     "user": {
      "displayName": "John Kitchin",
      "photoUrl": "https://lh3.googleusercontent.com/a/default-user=s64",
      "userId": "14782011281593705406"
     },
     "user_tz": 240
    },
    "id": "GHfCZxyFKnzG",
    "outputId": "1e5058f1-31c5-4dbe-c422-ae2fc6e9e17f"
   },
   "outputs": [
    {
     "data": {
      "text/plain": [
       "(    fjac: array([[-0.11138722,  0.99377708],\n",
       "        [-0.99377708, -0.11138722]])\n",
       "      fun: array([ 1.09134923e-13, -2.67563749e-14])\n",
       "  message: 'The solution converged.'\n",
       "     nfev: 21\n",
       "      qtf: array([3.05047846e-10, 8.30033236e-10])\n",
       "        r: array([1.39642392, 0.24017326, 0.84253541])\n",
       "   status: 1\n",
       "  success: True\n",
       "        x: array([0.35324662, 0.60608174]),\n",
       " array([ 1.09134923e-13, -2.67563749e-14]))"
      ]
     },
     "execution_count": 44,
     "metadata": {},
     "output_type": "execute_result"
    }
   ],
   "source": [
    "from scipy.optimize import root\n",
    "\n",
    "ans = root(\n",
    "    objective, [2.5, 2.5]\n",
    ")  # note we do not need ans, because ans will have two values in it.\n",
    "ans, objective(ans.x)"
   ]
  },
  {
   "cell_type": "code",
   "execution_count": 47,
   "metadata": {
    "colab": {
     "base_uri": "https://localhost:8080/",
     "height": 285
    },
    "executionInfo": {
     "elapsed": 822,
     "status": "ok",
     "timestamp": 1632835871583,
     "user": {
      "displayName": "John Kitchin",
      "photoUrl": "https://lh3.googleusercontent.com/a/default-user=s64",
      "userId": "14782011281593705406"
     },
     "user_tz": 240
    },
    "id": "o1bii5D6-nZ0",
    "outputId": "2f1eea17-3487-4343-a8af-284e24074979"
   },
   "outputs": [
    {
     "data": {
      "image/png": "[encoded data removed]",
      "text/plain": [
       "<Figure size 432x288 with 2 Axes>"
      ]
     },
     "metadata": {
      "needs_background": "light"
     },
     "output_type": "display_data"
    }
   ],
   "source": [
    "x1 = np.linspace(0, 1)\n",
    "x2 = np.linspace(0, 1)\n",
    "\n",
    "X1, X2 = np.meshgrid(x1, x2)\n",
    "Z1, Z2 = objective([X1, X2])\n",
    "plt.contour(X1, X2, Z1, levels=np.linspace(-0.1, 0.1, 100), cmap=\"seismic\")\n",
    "plt.contour(\n",
    "    X1, X2, Z2, levels=np.linspace(-0.1, 0.1, 100), cmap=\"seismic\", alpha=0.2\n",
    ")  # set a colormap\n",
    "plt.plot(*ans.x, \"ro\", ms=20)\n",
    "plt.plot(*ans.x, \"bs\", ms=2)\n",
    "plt.xlabel(\"$x_1$\")\n",
    "plt.ylabel(\"$x_2$\")\n",
    "plt.colorbar();"
   ]
  },
  {
   "cell_type": "markdown",
   "metadata": {
    "id": "feZTc13zKnzN"
   },
   "source": [
    "This shows the solution, and that the objective is practically equal to zero at that point.\n",
    "\n",
    "You can see that trying to do this in more than 2 dimensions can quickly get difficult to visualize!\n",
    "\n"
   ]
  },
  {
   "cell_type": "code",
   "execution_count": 50,
   "metadata": {
    "colab": {
     "base_uri": "https://localhost:8080/"
    },
    "executionInfo": {
     "elapsed": 638,
     "status": "ok",
     "timestamp": 1632835147006,
     "user": {
      "displayName": "John Kitchin",
      "photoUrl": "https://lh3.googleusercontent.com/a/default-user=s64",
      "userId": "14782011281593705406"
     },
     "user_tz": 240
    },
    "id": "XtMBLxQ0-eFB",
    "outputId": "aabcc55f-9fd8-4ad9-eaeb-22a00f6ed031"
   },
   "outputs": [
    {
     "data": {
      "text/plain": [
       "(array([0.35324662, 0.60608174]), array([6.13078525e-12, 1.45204373e-11]))"
      ]
     },
     "execution_count": 50,
     "metadata": {},
     "output_type": "execute_result"
    }
   ],
   "source": [
    "# show that we only get one solution by brute force iteration over all the grid points\n",
    "I, J = X1.shape\n",
    "solns = []\n",
    "for i in range(I):\n",
    "    for j in range(J):\n",
    "        x1, x2 = X1[i, j], X2[i, j]\n",
    "        ans = root(objective, [x1, x2])\n",
    "        solns += [ans.x]\n",
    "\n",
    "solns = np.array(solns)\n",
    "\n",
    "(np.mean(solns, axis=0), np.std(solns, axis=0))"
   ]
  },
  {
   "cell_type": "code",
   "execution_count": 51,
   "metadata": {
    "colab": {
     "base_uri": "https://localhost:8080/"
    },
    "executionInfo": {
     "elapsed": 114,
     "status": "ok",
     "timestamp": 1632835140681,
     "user": {
      "displayName": "John Kitchin",
      "photoUrl": "https://lh3.googleusercontent.com/a/default-user=s64",
      "userId": "14782011281593705406"
     },
     "user_tz": 240
    },
    "id": "CVV54Fogjub3",
    "outputId": "f16266b1-3aae-4972-8bb3-bc7bb0b2eed3"
   },
   "outputs": [
    {
     "data": {
      "text/plain": [
       "(2500, 2)"
      ]
     },
     "execution_count": 51,
     "metadata": {},
     "output_type": "execute_result"
    }
   ],
   "source": [
    "solns.shape"
   ]
  },
  {
   "cell_type": "code",
   "execution_count": 52,
   "metadata": {
    "colab": {
     "base_uri": "https://localhost:8080/"
    },
    "executionInfo": {
     "elapsed": 130,
     "status": "ok",
     "timestamp": 1632835185395,
     "user": {
      "displayName": "John Kitchin",
      "photoUrl": "https://lh3.googleusercontent.com/a/default-user=s64",
      "userId": "14782011281593705406"
     },
     "user_tz": 240
    },
    "id": "OQpfMUpgAXba",
    "outputId": "d215759c-5dbb-4b19-cd8e-1ed8be79e8e0"
   },
   "outputs": [
    {
     "data": {
      "text/plain": [
       "1455191522.8366852"
      ]
     },
     "execution_count": 52,
     "metadata": {},
     "output_type": "execute_result"
    }
   ],
   "source": [
    "50**10 * 16 / 1024 / 1024 / 1024  # Estimate of memory required to store 50**10 floats in an array"
   ]
  },
  {
   "cell_type": "markdown",
   "metadata": {
    "id": "4Qu4cjtUKnzO"
   },
   "source": [
    "## Summary\n",
    "\n"
   ]
  },
  {
   "cell_type": "markdown",
   "metadata": {
    "id": "nCNdz7FMKnzP"
   },
   "source": [
    "-   We learned about a special class of nonlinear functions that are polynomials, and a series of useful functions to manipulate them.\n",
    "\n",
    "-   We learned that you can use root to find solutions to coupled non-linear algebraic equations.\n",
    "\n",
    "-   Next time, we will apply this to solving a nonlinear boundary value differential equation."
   ]
  },
  {
   "cell_type": "code",
   "execution_count": null,
   "metadata": {},
   "outputs": [],
   "source": []
  }
 ],
 "metadata": {
  "colab": {
   "collapsed_sections": [],
   "name": "08-nla-2.ipynb",
   "provenance": []
  },
  "kernelspec": {
   "display_name": "Python 3 (ipykernel)",
   "language": "python",
   "name": "python3"
  },
  "language_info": {
   "codemirror_mode": {
    "name": "ipython",
    "version": 3
   },
   "file_extension": ".py",
   "mimetype": "text/x-python",
   "name": "python",
   "nbconvert_exporter": "python",
   "pygments_lexer": "ipython3",
   "version": "3.9.7"
  },
  "org": {
   "KEYWORDS": "scipy.optimize.fsolve, numpy.roots, numpy.polyder, numpy.polyval, numpy.polyint, numpy.poly1d"
  }
 },
 "nbformat": 4,
 "nbformat_minor": 4
}
