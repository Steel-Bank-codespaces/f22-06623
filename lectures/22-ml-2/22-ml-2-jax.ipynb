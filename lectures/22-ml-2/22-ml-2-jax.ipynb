{
 "cells": [
  {
   "cell_type": "markdown",
   "metadata": {
    "id": "i3guW-56V1OT"
   },
   "source": [
    "[TOC](../toc.ipynb)\n",
    "\n",
    "Advanced topics in ML\n",
    "=====================\n",
    "\n",
    "- KEYWORDS: autograd\n"
   ]
  },
  {
   "cell_type": "markdown",
   "metadata": {
    "id": "sL-j2P7xV1OX"
   },
   "source": [
    "## Choice of activation functions in neural networks\n",
    "\n"
   ]
  },
  {
   "cell_type": "markdown",
   "metadata": {
    "id": "2VSJJlCYV1Oa"
   },
   "source": [
    "The activation function in a neural network provides the nonlinearity in the model. We previously learned that one interpretation of the activation function is that it is a basis function that you can expand the data in to find a functional representation that fits the data.\n",
    "\n",
    "Today we explore the impact of the activation function on the fitting, and extrapolation of neural networks. The following code is for setting up a neural network, and initializing the parameters with random numbers.\n",
    "\n"
   ]
  },
  {
   "cell_type": "code",
   "execution_count": 44,
   "metadata": {
    "id": "jqiw_Qo3V1Od"
   },
   "outputs": [],
   "source": [
    "import jax\n",
    "from jax.config import config\n",
    "config.update(\"jax_enable_x64\", True)\n",
    "\n",
    "import jax.numpy as np\n",
    "\n",
    "\n",
    "def nn(params, X, activation=jax.nn.tanh):\n",
    "    out = activation(X @ params['weights'][0] + params['biases'][0])\n",
    "\n",
    "    for i in range(1, len(params['weights']) - 2):\n",
    "        out = activation(out @ params['weights'][i] + params['biases'][i])\n",
    "\n",
    "    # no activation on the output, just linear combination\n",
    "    return out @ params['weights'][-1] + params['biases'][-1]\n",
    "\n",
    "\n",
    "def init_params(scale, layers, seed=19):\n",
    "    '''\n",
    "    scale: float\n",
    "    layers: integers for neurons in each layer\n",
    "    '''\n",
    "    key=jax.random.PRNGKey(seed)\n",
    "    weights = []\n",
    "    biases = []\n",
    "    for i in range(len(layers) - 1):\n",
    "        in_d = layers[i]\n",
    "        out_d = layers[i + 1]\n",
    "\n",
    "        weights += [jax.random.normal(key, (in_d, out_d)) * scale]\n",
    "        biases += [jax.random.normal(key, (out_d,)) * scale]\n",
    "        \n",
    "    return dict(weights=weights, biases=biases)"
   ]
  },
  {
   "cell_type": "code",
   "execution_count": 45,
   "metadata": {
    "colab": {
     "background_save": true,
     "base_uri": "https://localhost:8080/"
    },
    "executionInfo": {
     "elapsed": 5302,
     "status": "ok",
     "timestamp": 1638278129600,
     "user": {
      "displayName": "John Kitchin",
      "photoUrl": "https://lh3.googleusercontent.com/a/default-user=s64",
      "userId": "14782011281593705406"
     },
     "user_tz": 300
    },
    "id": "Nxp1F3le-nNg",
    "outputId": "40754349-8e04-4f25-f0b2-ef7adba9a7dc"
   },
   "outputs": [
    {
     "data": {
      "text/plain": [
       "{'weights': [DeviceArray([[ 0.05823338, -0.03133112,  0.007182  ],\n",
       "               [-0.05479003,  0.17312444, -0.09727589]], dtype=float64),\n",
       "  DeviceArray([[ 0.0241207 , -0.05096832,  0.15698685, -0.08016155],\n",
       "               [-0.04867869, -0.03406858, -0.02979589,  0.02449585],\n",
       "               [ 0.16691667,  0.23813063, -0.07719095, -0.12096773]],            dtype=float64),\n",
       "  DeviceArray([[-0.03682873],\n",
       "               [ 0.00152316],\n",
       "               [ 0.0169407 ],\n",
       "               [-0.10388349]], dtype=float64)],\n",
       " 'biases': [DeviceArray([ 0.07538805, -0.07469561, -0.17531406], dtype=float64),\n",
       "  DeviceArray([-0.03682873,  0.00152316,  0.0169407 , -0.10388349], dtype=float64),\n",
       "  DeviceArray([0.19781955], dtype=float64)]}"
      ]
     },
     "execution_count": 45,
     "metadata": {},
     "output_type": "execute_result"
    }
   ],
   "source": [
    "init_params(0.1, (2, 3, 4, 1))"
   ]
  },
  {
   "cell_type": "markdown",
   "metadata": {
    "id": "8tqgsvnXV1Oy"
   },
   "source": [
    "As before, we are going to consider this dataset so we can evaluate fitting and extrapolation.\n",
    "\n"
   ]
  },
  {
   "cell_type": "code",
   "execution_count": 46,
   "metadata": {
    "colab": {
     "base_uri": "https://localhost:8080/",
     "height": 279
    },
    "executionInfo": {
     "elapsed": 328,
     "status": "ok",
     "timestamp": 1638278275595,
     "user": {
      "displayName": "John Kitchin",
      "photoUrl": "https://lh3.googleusercontent.com/a/default-user=s64",
      "userId": "14782011281593705406"
     },
     "user_tz": 300
    },
    "id": "JEQdEZfEV1O0",
    "outputId": "5f13d10a-4576-45d5-8ba8-2ff11dbf0bb4"
   },
   "outputs": [
    {
     "data": {
      "image/png": "[encoded data removed]",
      "text/plain": [
       "<Figure size 432x288 with 1 Axes>"
      ]
     },
     "metadata": {
      "needs_background": "light"
     },
     "output_type": "display_data"
    }
   ],
   "source": [
    "# Some generated data\n",
    "X = np.linspace(0, 1)[:, None]\n",
    "Y = X ** (1.0 / 3.0)\n",
    "\n",
    "import matplotlib.pyplot as plt\n",
    "\n",
    "plt.plot(X, Y, \"b.\")\n",
    "plt.xlabel(\"x\")\n",
    "plt.ylabel(\"y\");"
   ]
  },
  {
   "cell_type": "markdown",
   "metadata": {
    "id": "x40v05jEV1PB"
   },
   "source": [
    "### tanh\n",
    "\n"
   ]
  },
  {
   "cell_type": "markdown",
   "metadata": {
    "id": "99nrLb5jV1PE"
   },
   "source": [
    "First we review the case of `tanh` which is a classic activation function. The `tanh` function is \"active\" between about &plusmn; 2.5, and outside that window it saturates. That means the derivative of this function becomes close to zero outside that window. So if you have large values of inputs, you should scale them to avoid this issue.\n",
    "\n"
   ]
  },
  {
   "cell_type": "code",
   "execution_count": 47,
   "metadata": {
    "colab": {
     "base_uri": "https://localhost:8080/",
     "height": 279
    },
    "executionInfo": {
     "elapsed": 412,
     "status": "ok",
     "timestamp": 1638278390486,
     "user": {
      "displayName": "John Kitchin",
      "photoUrl": "https://lh3.googleusercontent.com/a/default-user=s64",
      "userId": "14782011281593705406"
     },
     "user_tz": 300
    },
    "id": "wA_YZNBJV1PG",
    "outputId": "23605c64-43b5-46a0-d2ff-09313382f2c9"
   },
   "outputs": [
    {
     "data": {
      "image/png": "[encoded data removed]",
      "text/plain": [
       "<Figure size 432x288 with 1 Axes>"
      ]
     },
     "metadata": {
      "needs_background": "light"
     },
     "output_type": "display_data"
    }
   ],
   "source": [
    "xt = np.linspace(-10, 10)\n",
    "plt.plot(xt, np.tanh(xt))\n",
    "plt.xlabel(\"x\")\n",
    "plt.ylabel(\"y\");"
   ]
  },
  {
   "cell_type": "code",
   "execution_count": 51,
   "metadata": {
    "colab": {
     "base_uri": "https://localhost:8080/"
    },
    "executionInfo": {
     "elapsed": 19424,
     "status": "ok",
     "timestamp": 1638279223340,
     "user": {
      "displayName": "John Kitchin",
      "photoUrl": "https://lh3.googleusercontent.com/a/default-user=s64",
      "userId": "14782011281593705406"
     },
     "user_tz": 300
    },
    "id": "1EYNkp68V1PS",
    "outputId": "bcb084b3-d3ba-48cd-bd6e-d40b07d38eb2"
   },
   "outputs": [],
   "source": [
    "def objective(pars):\n",
    "    p = nn(pars, X)\n",
    "    errs = p - Y\n",
    "    return (errs.T @ errs).squeeze()\n",
    "\n",
    "import jax.example_libraries.optimizers as jax_opt\n",
    "\n",
    "from jax import jit, value_and_grad\n",
    "\n",
    "opt_init, opt_update, get_params = jax_opt.adam(1e-2)\n",
    "\n",
    "params1 = init_params(0.1, (1, 5, 1), seed=42)\n",
    "opt_state = opt_init(params1)\n",
    "\n",
    "@jit\n",
    "def step(i, opt_state):\n",
    "    value, grads = value_and_grad(objective)(get_params(opt_state))\n",
    "    return value, opt_update(i, grads, opt_state)\n",
    "\n",
    "for i in range(10000):\n",
    "    value, opt_state = step(i, opt_state)\n",
    "    if np.abs(value) < 1e-4:\n",
    "        break"
   ]
  },
  {
   "cell_type": "markdown",
   "metadata": {
    "id": "9BLKlUqKV1Pe"
   },
   "source": [
    "Now we can examine the fit and extrapolation.\n",
    "\n"
   ]
  },
  {
   "cell_type": "code",
   "execution_count": 54,
   "metadata": {
    "colab": {
     "base_uri": "https://localhost:8080/",
     "height": 314
    },
    "executionInfo": {
     "elapsed": 347,
     "status": "ok",
     "timestamp": 1638279232026,
     "user": {
      "displayName": "John Kitchin",
      "photoUrl": "https://lh3.googleusercontent.com/a/default-user=s64",
      "userId": "14782011281593705406"
     },
     "user_tz": 300
    },
    "id": "i3ACiWRYV1Pg",
    "outputId": "f7f2336a-00aa-4563-e8ae-8719a5b8a2f0"
   },
   "outputs": [
    {
     "data": {
      "image/png": "[encoded data removed]",
      "text/plain": [
       "<Figure size 432x288 with 1 Axes>"
      ]
     },
     "metadata": {
      "needs_background": "light"
     },
     "output_type": "display_data"
    }
   ],
   "source": [
    "X2 = np.linspace(-2, 5)\n",
    "Y2 = X2 ** (1 / 3)\n",
    "Z2 = nn(get_params(opt_state), X2[:, None])\n",
    "\n",
    "plt.plot(X2, Y2, \"b.\", label=\"analytical\")\n",
    "plt.plot(X2, Z2, label=\"NN\")\n",
    "plt.fill_between(X2 < 1, 0, 1.4, facecolor=\"gray\", alpha=0.5)\n",
    "plt.xlabel(\"x\")\n",
    "plt.ylabel(\"y\");"
   ]
  },
  {
   "cell_type": "markdown",
   "metadata": {
    "id": "pPUkTt1LV1Pu"
   },
   "source": [
    "For large enough $x$, all of the `tanh` functions saturate at $y=1$. So, the neural network also saturates at a constant value for large $x$.\n",
    "\n",
    "**exercise** Can you work out from the NN math what the saturated values should be?\n",
    "\n"
   ]
  },
  {
   "cell_type": "markdown",
   "metadata": {
    "id": "t5Of9VdLV1Pw"
   },
   "source": [
    "### relu\n",
    "\n"
   ]
  },
  {
   "cell_type": "markdown",
   "metadata": {
    "id": "NFygHM2RV1Py"
   },
   "source": [
    "A common activation function in deep learning is the Relu:\n",
    "\n"
   ]
  },
  {
   "cell_type": "code",
   "execution_count": 55,
   "metadata": {
    "colab": {
     "base_uri": "https://localhost:8080/",
     "height": 265
    },
    "executionInfo": {
     "elapsed": 328,
     "status": "ok",
     "timestamp": 1638279382828,
     "user": {
      "displayName": "John Kitchin",
      "photoUrl": "https://lh3.googleusercontent.com/a/default-user=s64",
      "userId": "14782011281593705406"
     },
     "user_tz": 300
    },
    "id": "jN8hIcigV1P4",
    "outputId": "313c68ce-684a-462a-d3ca-b90c4b33cf0a"
   },
   "outputs": [
    {
     "data": {
      "image/png": "[encoded data removed]",
      "text/plain": [
       "<Figure size 432x288 with 1 Axes>"
      ]
     },
     "metadata": {
      "needs_background": "light"
     },
     "output_type": "display_data"
    }
   ],
   "source": [
    "def relu(x):\n",
    "    return x * (x > 0)\n",
    "\n",
    "\n",
    "plt.plot(X2, relu(X2));"
   ]
  },
  {
   "cell_type": "markdown",
   "metadata": {
    "id": "ZYK4-d3SV1QP"
   },
   "source": [
    "This is popular because if is very fast to compute, and the derivatives are constant. For positive $x$ there is no saturation. For negative $x$, however, the neuron is \"dead\".\n",
    "\n"
   ]
  },
  {
   "cell_type": "code",
   "execution_count": 92,
   "metadata": {
    "colab": {
     "base_uri": "https://localhost:8080/"
    },
    "executionInfo": {
     "elapsed": 42936,
     "status": "ok",
     "timestamp": 1638279908934,
     "user": {
      "displayName": "John Kitchin",
      "photoUrl": "https://lh3.googleusercontent.com/a/default-user=s64",
      "userId": "14782011281593705406"
     },
     "user_tz": 300
    },
    "id": "age259onE8yd",
    "outputId": "edb3e969-623e-4892-a12a-366d1fead488"
   },
   "outputs": [],
   "source": [
    "def objective2(par, step=None):\n",
    "    pred = nn(par, X, activation=relu)\n",
    "    err = Y - pred\n",
    "    return (err.T @ err).squeeze()\n",
    "\n",
    "params2 = init_params(0.01, [1, 3, 1], seed=2)\n",
    "opt_state = opt_init(params2)\n",
    "\n",
    "@jit\n",
    "def step(i, opt_state):\n",
    "    value, grads = value_and_grad(objective2)(get_params(opt_state))\n",
    "    return value, opt_update(i, grads, opt_state)\n",
    "\n",
    "for i in range(10000):\n",
    "    value, opt_state = step(i, opt_state)\n",
    "    if np.abs(value) < 1e-4:\n",
    "        break\n",
    "        \n",
    "params2 = get_params(opt_state)"
   ]
  },
  {
   "cell_type": "code",
   "execution_count": 93,
   "metadata": {
    "colab": {
     "base_uri": "https://localhost:8080/",
     "height": 279
    },
    "executionInfo": {
     "elapsed": 349,
     "status": "ok",
     "timestamp": 1638279912133,
     "user": {
      "displayName": "John Kitchin",
      "photoUrl": "https://lh3.googleusercontent.com/a/default-user=s64",
      "userId": "14782011281593705406"
     },
     "user_tz": 300
    },
    "id": "dWkw3scfV1Qg",
    "outputId": "464ebdf6-cf91-471b-92f0-35c6b6fa1f58"
   },
   "outputs": [
    {
     "data": {
      "image/png": "[encoded data removed]",
      "text/plain": [
       "<Figure size 432x288 with 1 Axes>"
      ]
     },
     "metadata": {
      "needs_background": "light"
     },
     "output_type": "display_data"
    }
   ],
   "source": [
    "X2 = np.linspace(0.0, 1)\n",
    "Y2 = X2 ** (1 / 3)\n",
    "Z2 = nn(params2, X2[:, None], activation=relu)\n",
    "\n",
    "plt.plot(X2, Y2, \"b.\", label=\"analytical\")\n",
    "plt.plot(X2, Z2, label=\"NN\")\n",
    "plt.xlabel(\"x\")\n",
    "plt.ylabel(\"y\");"
   ]
  },
  {
   "cell_type": "markdown",
   "metadata": {
    "id": "ZoKhiycJV1Q6"
   },
   "source": [
    "Notes:\n",
    "\n",
    "1.  The fit is not very good.\n",
    "2.  we have piecewise linear fits here.\n",
    "3.  There are negative weights, which means there are some \"dead neurons\". Maybe other initial guesses might improve this.\n",
    "\n",
    "Let's look at the extrapolating behavior.\n",
    "\n"
   ]
  },
  {
   "cell_type": "code",
   "execution_count": 94,
   "metadata": {
    "colab": {
     "base_uri": "https://localhost:8080/",
     "height": 279
    },
    "executionInfo": {
     "elapsed": 360,
     "status": "ok",
     "timestamp": 1638279918075,
     "user": {
      "displayName": "John Kitchin",
      "photoUrl": "https://lh3.googleusercontent.com/a/default-user=s64",
      "userId": "14782011281593705406"
     },
     "user_tz": 300
    },
    "id": "qu5ZkFlhV1RA",
    "outputId": "f8c4e297-5595-42b4-f71e-f3ca24ae7143"
   },
   "outputs": [
    {
     "data": {
      "image/png": "[encoded data removed]",
      "text/plain": [
       "<Figure size 432x288 with 1 Axes>"
      ]
     },
     "metadata": {
      "needs_background": "light"
     },
     "output_type": "display_data"
    }
   ],
   "source": [
    "X2 = np.linspace(0, 1)\n",
    "Y2 = X2 ** (1 / 3)\n",
    "\n",
    "xf = np.linspace(-2, 2)\n",
    "Z2 = nn(params2, xf.reshape([-1, 1]), activation=relu)\n",
    "\n",
    "plt.plot(X2, Y2, \"b.\", label=\"analytical\")\n",
    "plt.plot(xf, Z2, label=\"NN\")\n",
    "plt.fill_between(X2 < 1, 0, 1.4, facecolor=\"gray\", alpha=0.5)\n",
    "plt.xlabel(\"x\")\n",
    "plt.ylabel(\"y\");"
   ]
  },
  {
   "cell_type": "markdown",
   "metadata": {
    "id": "OOdt64f0V1RK"
   },
   "source": [
    "Note this extrapolates linearly on the right, and is constant on the left. These are properties of the Relu.\n",
    "\n"
   ]
  },
  {
   "cell_type": "markdown",
   "metadata": {
    "id": "S9LZffwCV1RM"
   },
   "source": [
    "### Gaussian (radial basis function)\n",
    "\n"
   ]
  },
  {
   "cell_type": "markdown",
   "metadata": {
    "id": "iyH8vtu9V1RO"
   },
   "source": [
    "Finally we consider the Gaussian activation function.\n",
    "\n"
   ]
  },
  {
   "cell_type": "code",
   "execution_count": 95,
   "metadata": {
    "colab": {
     "base_uri": "https://localhost:8080/",
     "height": 265
    },
    "executionInfo": {
     "elapsed": 411,
     "status": "ok",
     "timestamp": 1638280025856,
     "user": {
      "displayName": "John Kitchin",
      "photoUrl": "https://lh3.googleusercontent.com/a/default-user=s64",
      "userId": "14782011281593705406"
     },
     "user_tz": 300
    },
    "id": "D1hXfQnOV1RQ",
    "outputId": "8915be41-5f95-4086-f00c-05207d025d48"
   },
   "outputs": [
    {
     "data": {
      "image/png": "[encoded data removed]",
      "text/plain": [
       "<Figure size 432x288 with 1 Axes>"
      ]
     },
     "metadata": {
      "needs_background": "light"
     },
     "output_type": "display_data"
    }
   ],
   "source": [
    "def rbf(x):\n",
    "    return np.exp(-(x**2))\n",
    "\n",
    "\n",
    "x3 = np.linspace(-3, 3)\n",
    "plt.plot(x3, rbf(x3));"
   ]
  },
  {
   "cell_type": "markdown",
   "metadata": {
    "id": "VSLsmXvMV1Ra"
   },
   "source": [
    "Now we fit the data.\n",
    "\n"
   ]
  },
  {
   "cell_type": "code",
   "execution_count": 96,
   "metadata": {
    "colab": {
     "base_uri": "https://localhost:8080/"
    },
    "executionInfo": {
     "elapsed": 45798,
     "status": "ok",
     "timestamp": 1638280297854,
     "user": {
      "displayName": "John Kitchin",
      "photoUrl": "https://lh3.googleusercontent.com/a/default-user=s64",
      "userId": "14782011281593705406"
     },
     "user_tz": 300
    },
    "id": "80NrnjAEV1Rc",
    "outputId": "5d938c2d-1a54-4a25-a84b-4435e9c7d9ce"
   },
   "outputs": [],
   "source": [
    "def objective3(pars, step=None):\n",
    "    pred = nn(pars, X, activation=rbf)\n",
    "    err = Y - pred\n",
    "    return np.mean(err**2)\n",
    "\n",
    "params3 = init_params(0.01, [1, 3, 1], seed=2)\n",
    "opt_state = opt_init(params3)\n",
    "\n",
    "@jit\n",
    "def step(i, opt_state):\n",
    "    value, grads = value_and_grad(objective3)(get_params(opt_state))\n",
    "    return value, opt_update(i, grads, opt_state)\n",
    "\n",
    "for i in range(10000):\n",
    "    value, opt_state = step(i, opt_state)\n",
    "    if np.abs(value) < 1e-4:\n",
    "        break\n",
    "        \n",
    "params3 = get_params(opt_state)"
   ]
  },
  {
   "cell_type": "code",
   "execution_count": 97,
   "metadata": {
    "colab": {
     "base_uri": "https://localhost:8080/",
     "height": 279
    },
    "executionInfo": {
     "elapsed": 352,
     "status": "ok",
     "timestamp": 1638280301313,
     "user": {
      "displayName": "John Kitchin",
      "photoUrl": "https://lh3.googleusercontent.com/a/default-user=s64",
      "userId": "14782011281593705406"
     },
     "user_tz": 300
    },
    "id": "BW3mWMExV1Rm",
    "outputId": "73c2e6ba-f614-461c-91df-89cb431fb886"
   },
   "outputs": [
    {
     "data": {
      "image/png": "[encoded data removed]",
      "text/plain": [
       "<Figure size 432x288 with 1 Axes>"
      ]
     },
     "metadata": {
      "needs_background": "light"
     },
     "output_type": "display_data"
    }
   ],
   "source": [
    "X2 = np.linspace(0.0, 1)\n",
    "Y2 = X2 ** (1 / 3)\n",
    "Z2 = nn(params3, X2.reshape([-1, 1]), activation=rbf)\n",
    "\n",
    "plt.plot(X2, Y2, \"b.\", label=\"analytical\")\n",
    "plt.plot(X2, Z2, label=\"NN\")\n",
    "plt.xlabel(\"x\")\n",
    "plt.ylabel(\"y\");"
   ]
  },
  {
   "cell_type": "markdown",
   "metadata": {},
   "source": [
    "And we look at the extrapolation behavior again."
   ]
  },
  {
   "cell_type": "code",
   "execution_count": 98,
   "metadata": {
    "colab": {
     "base_uri": "https://localhost:8080/",
     "height": 314
    },
    "executionInfo": {
     "elapsed": 335,
     "status": "ok",
     "timestamp": 1638280406323,
     "user": {
      "displayName": "John Kitchin",
      "photoUrl": "https://lh3.googleusercontent.com/a/default-user=s64",
      "userId": "14782011281593705406"
     },
     "user_tz": 300
    },
    "id": "G9hzAsJIV1Rw",
    "outputId": "c05e72a4-0904-4183-cd9f-bc87a90af36f"
   },
   "outputs": [
    {
     "data": {
      "image/png": "[encoded data removed]",
      "text/plain": [
       "<Figure size 432x288 with 1 Axes>"
      ]
     },
     "metadata": {
      "needs_background": "light"
     },
     "output_type": "display_data"
    }
   ],
   "source": [
    "X2 = np.linspace(-2.5, 5)\n",
    "Y2 = X2 ** (1 / 3)\n",
    "Z2 = nn(params3, X2.reshape([-1, 1]), activation=rbf)\n",
    "\n",
    "plt.plot(X2, Y2, \"b.\", label=\"analytical\")\n",
    "plt.plot(X2, Z2, label=\"NN\")\n",
    "plt.fill_between(X2 < 1, 0, 1.4, facecolor=\"gray\", alpha=0.5)\n",
    "plt.xlabel(\"x\")\n",
    "plt.ylabel(\"y\");"
   ]
  },
  {
   "cell_type": "markdown",
   "metadata": {
    "id": "u4NeF64bV1R6"
   },
   "source": [
    "Note this extrapolates to zero when you are far from the data. It fits reasonably in the region trained. \"If your function is nonlinear enough, somewhere the nonlinearity matches your data.\" (Z. Ulissi).\n",
    "\n"
   ]
  },
  {
   "cell_type": "markdown",
   "metadata": {
    "id": "NtbqcP5sV1R-"
   },
   "source": [
    "### Summary\n",
    "\n"
   ]
  },
  {
   "cell_type": "markdown",
   "metadata": {
    "id": "wwjsrzQ9V1SA"
   },
   "source": [
    "We can think of single layer neural networks as partial expansions in the activation function space. That means the extrapolation behavior will be like the dominating feature of the activation functions, e.g. relu extrapolates like a line, tanh saturates at large x, and Gaussians effectively go to zero. Unexpected things can happen at the edges of the data, so at intermediate extrapolations you do not always know what will happen.\n",
    "\n"
   ]
  },
  {
   "cell_type": "markdown",
   "metadata": {
    "id": "gES9vNjiV1SC"
   },
   "source": [
    "## Train/test splits on data\n",
    "\n"
   ]
  },
  {
   "cell_type": "markdown",
   "metadata": {
    "id": "1RiXFJumV1SE"
   },
   "source": [
    "So far we have not considered how to split your data when fitting. This becomes important for a few reasons:\n",
    "\n",
    "1.  We need to be able to tell if we are overfitting. One way to do this is to compare fitting errors to prediction errors.\n",
    "\n",
    "This means we need a way to split a dataset into a train set and a test set. Then, we can do training on the train set, and testing on the test set.\n",
    "\n",
    "Let's start by remembering what our dataset is.\n",
    "\n"
   ]
  },
  {
   "cell_type": "code",
   "execution_count": 99,
   "metadata": {
    "colab": {
     "base_uri": "https://localhost:8080/"
    },
    "executionInfo": {
     "elapsed": 123,
     "status": "ok",
     "timestamp": 1638281102957,
     "user": {
      "displayName": "John Kitchin",
      "photoUrl": "https://lh3.googleusercontent.com/a/default-user=s64",
      "userId": "14782011281593705406"
     },
     "user_tz": 300
    },
    "id": "SfEqZUl8V1SG",
    "outputId": "3891d336-003b-4786-b3ff-0d9f2d6a3fe5"
   },
   "outputs": [
    {
     "data": {
      "text/plain": [
       "DeviceArray([0.        , 0.02040816, 0.04081633, 0.06122449, 0.08163265,\n",
       "             0.10204082, 0.12244898, 0.14285714, 0.16326531, 0.18367347,\n",
       "             0.20408163, 0.2244898 , 0.24489796, 0.26530612, 0.28571429,\n",
       "             0.30612245, 0.32653061, 0.34693878, 0.36734694, 0.3877551 ,\n",
       "             0.40816327, 0.42857143, 0.44897959, 0.46938776, 0.48979592,\n",
       "             0.51020408, 0.53061224, 0.55102041, 0.57142857, 0.59183673,\n",
       "             0.6122449 , 0.63265306, 0.65306122, 0.67346939, 0.69387755,\n",
       "             0.71428571, 0.73469388, 0.75510204, 0.7755102 , 0.79591837,\n",
       "             0.81632653, 0.83673469, 0.85714286, 0.87755102, 0.89795918,\n",
       "             0.91836735, 0.93877551, 0.95918367, 0.97959184, 1.        ],            dtype=float64)"
      ]
     },
     "execution_count": 99,
     "metadata": {},
     "output_type": "execute_result"
    }
   ],
   "source": [
    "X = np.linspace(0, 1)\n",
    "Y2 = X ** (1 / 3)\n",
    "X"
   ]
  },
  {
   "cell_type": "markdown",
   "metadata": {
    "id": "7RkPKGvWV1SP"
   },
   "source": [
    "The way to split this is that we use indexing. We start by making an array of integers.\n",
    "\n"
   ]
  },
  {
   "cell_type": "code",
   "execution_count": 100,
   "metadata": {
    "colab": {
     "base_uri": "https://localhost:8080/"
    },
    "executionInfo": {
     "elapsed": 133,
     "status": "ok",
     "timestamp": 1638281142291,
     "user": {
      "displayName": "John Kitchin",
      "photoUrl": "https://lh3.googleusercontent.com/a/default-user=s64",
      "userId": "14782011281593705406"
     },
     "user_tz": 300
    },
    "id": "-cWyRoHGV1SQ",
    "outputId": "65dc44b7-b150-4fce-bb49-abc9b94d4f60"
   },
   "outputs": [
    {
     "data": {
      "text/plain": [
       "DeviceArray([ 0,  1,  2,  3,  4,  5,  6,  7,  8,  9, 10, 11, 12, 13, 14,\n",
       "             15, 16, 17, 18, 19, 20, 21, 22, 23, 24, 25, 26, 27, 28, 29,\n",
       "             30, 31, 32, 33, 34, 35, 36, 37, 38, 39, 40, 41, 42, 43, 44,\n",
       "             45, 46, 47, 48, 49], dtype=int64)"
      ]
     },
     "execution_count": 100,
     "metadata": {},
     "output_type": "execute_result"
    }
   ],
   "source": [
    "ind = np.arange(len(X))\n",
    "ind"
   ]
  },
  {
   "cell_type": "code",
   "execution_count": 101,
   "metadata": {
    "colab": {
     "base_uri": "https://localhost:8080/"
    },
    "executionInfo": {
     "elapsed": 134,
     "status": "ok",
     "timestamp": 1638281158638,
     "user": {
      "displayName": "John Kitchin",
      "photoUrl": "https://lh3.googleusercontent.com/a/default-user=s64",
      "userId": "14782011281593705406"
     },
     "user_tz": 300
    },
    "id": "-4uX5lPsKodd",
    "outputId": "a4990aa1-0e2a-40e8-867e-1d8f303c7905"
   },
   "outputs": [
    {
     "data": {
      "text/plain": [
       "DeviceArray([0.        , 0.02040816, 0.04081633, 0.06122449, 0.08163265,\n",
       "             0.10204082, 0.12244898, 0.14285714, 0.16326531, 0.18367347,\n",
       "             0.20408163, 0.2244898 , 0.24489796, 0.26530612, 0.28571429,\n",
       "             0.30612245, 0.32653061, 0.34693878, 0.36734694, 0.3877551 ,\n",
       "             0.40816327, 0.42857143, 0.44897959, 0.46938776, 0.48979592,\n",
       "             0.51020408, 0.53061224, 0.55102041, 0.57142857, 0.59183673,\n",
       "             0.6122449 , 0.63265306, 0.65306122, 0.67346939, 0.69387755,\n",
       "             0.71428571, 0.73469388, 0.75510204, 0.7755102 , 0.79591837,\n",
       "             0.81632653, 0.83673469, 0.85714286, 0.87755102, 0.89795918,\n",
       "             0.91836735, 0.93877551, 0.95918367, 0.97959184, 1.        ],            dtype=float64)"
      ]
     },
     "execution_count": 101,
     "metadata": {},
     "output_type": "execute_result"
    }
   ],
   "source": [
    "X[ind]  # we can use an array of integers for indexing"
   ]
  },
  {
   "cell_type": "markdown",
   "metadata": {
    "id": "Zow-dqg6V1Sb"
   },
   "source": [
    "Next, we randomly shuffle the array of integers.\n",
    "\n"
   ]
  },
  {
   "cell_type": "code",
   "execution_count": 106,
   "metadata": {
    "colab": {
     "base_uri": "https://localhost:8080/"
    },
    "executionInfo": {
     "elapsed": 124,
     "status": "ok",
     "timestamp": 1638281491168,
     "user": {
      "displayName": "John Kitchin",
      "photoUrl": "https://lh3.googleusercontent.com/a/default-user=s64",
      "userId": "14782011281593705406"
     },
     "user_tz": 300
    },
    "id": "xNBPdNxZV1Sc",
    "outputId": "74678408-af22-4c36-ae26-c1c043541a13"
   },
   "outputs": [
    {
     "data": {
      "text/plain": [
       "DeviceArray([15, 26,  7, 34, 16, 38, 17,  2, 49,  3,  6, 24, 37, 20, 14,\n",
       "             10, 18, 35, 48,  5,  8, 13, 29, 19, 44,  4, 21, 43, 23, 45,\n",
       "             27, 42, 40, 25,  1, 46, 32, 39,  9, 11, 22, 30,  0, 41, 12,\n",
       "             33, 36, 28, 31, 47], dtype=int64)"
      ]
     },
     "execution_count": 106,
     "metadata": {},
     "output_type": "execute_result"
    }
   ],
   "source": [
    "key = jax.random.PRNGKey(22)\n",
    "pind = jax.random.permutation(key, ind)\n",
    "pind"
   ]
  },
  {
   "cell_type": "markdown",
   "metadata": {
    "id": "H7Ini7voV1Sl"
   },
   "source": [
    "Next, we decide on the train/test split. A common choice is 80/20. We find the integer that is closest to 80% of the index array.\n",
    "\n"
   ]
  },
  {
   "cell_type": "code",
   "execution_count": 107,
   "metadata": {
    "colab": {
     "base_uri": "https://localhost:8080/"
    },
    "executionInfo": {
     "elapsed": 125,
     "status": "ok",
     "timestamp": 1638281492796,
     "user": {
      "displayName": "John Kitchin",
      "photoUrl": "https://lh3.googleusercontent.com/a/default-user=s64",
      "userId": "14782011281593705406"
     },
     "user_tz": 300
    },
    "id": "THjaYPKBV1Sn",
    "outputId": "deddd976-cf97-4fa1-a421-dc61d0587b36"
   },
   "outputs": [
    {
     "data": {
      "text/plain": [
       "40"
      ]
     },
     "execution_count": 107,
     "metadata": {},
     "output_type": "execute_result"
    }
   ],
   "source": [
    "split = int(0.8 * len(pind))\n",
    "split"
   ]
  },
  {
   "cell_type": "code",
   "execution_count": 108,
   "metadata": {
    "colab": {
     "base_uri": "https://localhost:8080/"
    },
    "executionInfo": {
     "elapsed": 201,
     "status": "ok",
     "timestamp": 1638282357993,
     "user": {
      "displayName": "John Kitchin",
      "photoUrl": "https://lh3.googleusercontent.com/a/default-user=s64",
      "userId": "14782011281593705406"
     },
     "user_tz": 300
    },
    "id": "eU4Epo-fV1Sw",
    "outputId": "d164c3f7-2639-46f7-cd14-1c0591b6d4eb"
   },
   "outputs": [
    {
     "data": {
      "text/plain": [
       "(40, 10)"
      ]
     },
     "execution_count": 108,
     "metadata": {},
     "output_type": "execute_result"
    }
   ],
   "source": [
    "train_ind = pind[:split]\n",
    "test_ind = pind[split:]\n",
    "(len(train_ind), len(test_ind))"
   ]
  },
  {
   "cell_type": "markdown",
   "metadata": {
    "id": "Rof39qjGV1S5"
   },
   "source": [
    "We check that we have a reasonable choice here.\n",
    "\n"
   ]
  },
  {
   "cell_type": "code",
   "execution_count": 109,
   "metadata": {
    "colab": {
     "base_uri": "https://localhost:8080/",
     "height": 265
    },
    "executionInfo": {
     "elapsed": 351,
     "status": "ok",
     "timestamp": 1638282360195,
     "user": {
      "displayName": "John Kitchin",
      "photoUrl": "https://lh3.googleusercontent.com/a/default-user=s64",
      "userId": "14782011281593705406"
     },
     "user_tz": 300
    },
    "id": "XjXSMPJoV1S7",
    "outputId": "548d8e2f-67c9-4cd8-ee43-612da519af3c"
   },
   "outputs": [
    {
     "data": {
      "image/png": "[encoded data removed]",
      "text/plain": [
       "<Figure size 432x288 with 1 Axes>"
      ]
     },
     "metadata": {
      "needs_background": "light"
     },
     "output_type": "display_data"
    }
   ],
   "source": [
    "train_x = X[train_ind]\n",
    "train_y = Y2[train_ind]\n",
    "\n",
    "test_x = X[test_ind]\n",
    "test_y = Y2[test_ind]\n",
    "plt.plot(test_x, test_y, \"ro\", label=\"test\")\n",
    "plt.plot(train_x, train_y, \"bo\", label=\"train\")\n",
    "plt.legend();"
   ]
  },
  {
   "cell_type": "markdown",
   "metadata": {
    "id": "XcGNrcjkV1TG"
   },
   "source": [
    "Now, we train on the train data.\n",
    "\n"
   ]
  },
  {
   "cell_type": "code",
   "execution_count": 111,
   "metadata": {
    "colab": {
     "base_uri": "https://localhost:8080/"
    },
    "executionInfo": {
     "elapsed": 10984,
     "status": "ok",
     "timestamp": 1638282374708,
     "user": {
      "displayName": "John Kitchin",
      "photoUrl": "https://lh3.googleusercontent.com/a/default-user=s64",
      "userId": "14782011281593705406"
     },
     "user_tz": 300
    },
    "id": "LGEvbKL0V1TI",
    "outputId": "545f40a6-2023-4dca-f1a1-650343651e6b"
   },
   "outputs": [],
   "source": [
    "def objective10(params, step=None):\n",
    "    pred = nn(params, np.array([train_x]).T)\n",
    "    err = np.array([train_y]).T - pred\n",
    "    return np.mean(err**2)\n",
    "\n",
    "params10 = init_params(0.01, [1, 3, 1], seed=2)\n",
    "opt_state = opt_init(params10)\n",
    "\n",
    "@jit\n",
    "def step(i, opt_state):\n",
    "    value, grads = value_and_grad(objective10)(get_params(opt_state))\n",
    "    return value, opt_update(i, grads, opt_state)\n",
    "\n",
    "for i in range(10000):\n",
    "    value, opt_state = step(i, opt_state)\n",
    "    if np.abs(value) < 1e-4:\n",
    "        break\n",
    "        \n",
    "params10 = get_params(opt_state)"
   ]
  },
  {
   "cell_type": "markdown",
   "metadata": {
    "id": "-6vlSdwSV1TR"
   },
   "source": [
    "As usual, we should check the fit on the train data. This is a little trickier than before, because the points are out of order.\n",
    "\n"
   ]
  },
  {
   "cell_type": "code",
   "execution_count": 114,
   "metadata": {
    "colab": {
     "base_uri": "https://localhost:8080/",
     "height": 279
    },
    "executionInfo": {
     "elapsed": 331,
     "status": "ok",
     "timestamp": 1638282380623,
     "user": {
      "displayName": "John Kitchin",
      "photoUrl": "https://lh3.googleusercontent.com/a/default-user=s64",
      "userId": "14782011281593705406"
     },
     "user_tz": 300
    },
    "id": "jBlIEOF-V1TS",
    "outputId": "96d2f8ab-2320-4966-f8b6-48776e6996fa"
   },
   "outputs": [
    {
     "data": {
      "image/png": "[encoded data removed]",
      "text/plain": [
       "<Figure size 432x288 with 1 Axes>"
      ]
     },
     "metadata": {
      "needs_background": "light"
     },
     "output_type": "display_data"
    }
   ],
   "source": [
    "Z2 = nn(params10, train_x[:, None])\n",
    "plt.plot(train_x, Z2, \"bo\", label=\"NN\")\n",
    "plt.plot(train_x, train_y, \"r.\", label=\"analytical\")\n",
    "plt.xlabel(\"x\")\n",
    "plt.ylabel(\"y\")\n",
    "\n",
    "plt.plot(test_x, nn(params10, test_x[:, None]), \"go\", label=\"NN\")\n",
    "plt.plot(test_x, test_y, \"y.\", label=\"analytical\");"
   ]
  },
  {
   "cell_type": "code",
   "execution_count": 116,
   "metadata": {
    "colab": {
     "base_uri": "https://localhost:8080/"
    },
    "executionInfo": {
     "elapsed": 133,
     "status": "ok",
     "timestamp": 1638282383862,
     "user": {
      "displayName": "John Kitchin",
      "photoUrl": "https://lh3.googleusercontent.com/a/default-user=s64",
      "userId": "14782011281593705406"
     },
     "user_tz": 300
    },
    "id": "PBAyecexV1Tb",
    "outputId": "07e9a2e0-02d9-4195-fe2c-9227124472a2"
   },
   "outputs": [
    {
     "name": "stdout",
     "output_type": "stream",
     "text": [
      "RMSE train = 0.075\n",
      "RMSE test = 0.112\n"
     ]
    }
   ],
   "source": [
    "# root mean squared error\n",
    "rmse_train = np.mean((train_y - nn(params10, train_x[:, None])) ** 2)\n",
    "rmse_test = np.mean((test_y - nn(params10, test_x[:, None])) ** 2)\n",
    "\n",
    "print(\n",
    "    f\"\"\"RMSE train = {rmse_train:1.3f}\n",
    "RMSE test = {rmse_test:1.3f}\"\"\"\n",
    ")"
   ]
  },
  {
   "cell_type": "markdown",
   "metadata": {
    "id": "3Y0QCo9bV1Tk"
   },
   "source": [
    "For the train/test split to be meaningful, it is important that the two datasets have similar distributions of values.\n",
    "\n"
   ]
  },
  {
   "cell_type": "markdown",
   "metadata": {
    "id": "igvrR0lJV1Tm"
   },
   "source": [
    "## Summary\n",
    "\n"
   ]
  },
  {
   "cell_type": "markdown",
   "metadata": {
    "id": "b6YIZR6QV1Tn"
   },
   "source": [
    "Today we reviewed the role of activation functions in neural networks, and observed that it doesn't generally matter what you use (but the details always matter in individual cases). The mathematical form of these activation functions determines how they will extrapolate, which can be important depending on your application.\n",
    "\n",
    "We then explored how to efficiently split a dataset into a train and test set so that overfitting can be evaluated. This becomes increasingly important for when you plan to explore many models (choices of hyperparameters), and then you split the data three ways (train, test and validate).\n",
    "\n"
   ]
  }
 ],
 "metadata": {
  "colab": {
   "collapsed_sections": [],
   "name": "22-ml-2.ipynb",
   "provenance": []
  },
  "kernelspec": {
   "display_name": "Python 3 (ipykernel)",
   "language": "python",
   "name": "python3"
  },
  "language_info": {
   "codemirror_mode": {
    "name": "ipython",
    "version": 3
   },
   "file_extension": ".py",
   "mimetype": "text/x-python",
   "name": "python",
   "nbconvert_exporter": "python",
   "pygments_lexer": "ipython3",
   "version": "3.9.7"
  },
  "org": {
   "KEYWORDS": "autograd"
  },
  "widgets": {
   "application/vnd.jupyter.widget-state+json": {
    "state": {},
    "version_major": 2,
    "version_minor": 0
   }
  }
 },
 "nbformat": 4,
 "nbformat_minor": 4
}
