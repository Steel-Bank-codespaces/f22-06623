{
 "cells": [
  {
   "cell_type": "markdown",
   "metadata": {
    "id": "3mpTU4EyIRkG"
   },
   "source": [
    "[TOC](../toc.ipynb)\n",
    "- KEYWORDS: solve_ivp, meshgrid, quiver\n"
   ]
  },
  {
   "cell_type": "markdown",
   "metadata": {
    "id": "Ku-n7oxBIRkH"
   },
   "source": [
    "## Families of solutions to FODEs\n",
    "\n"
   ]
  },
  {
   "cell_type": "markdown",
   "metadata": {
    "id": "p8issJLWIRkJ"
   },
   "source": [
    "Consider $y' = x - y$.\n",
    "\n",
    "We can interpret this equation as one that defines a direction field. That is, at any given point (x, y) we can compute the derivative of a solution at that point. We will consider how to make a plot that shows this field, and that will help us estimate what solutions to the ODE might look like for different initial values.\n",
    "\n",
    "To do this, we should compute the derivative on an array of regularly spaced points in both $x$ and $y$, and then make a plot of that data.\n",
    "\n",
    "We need to see a couple of new ideas to make this plot efficiently. What we want is a 2-d plot of a regular grid of (x, y) points, and at each of those points the derivative (dx/dx, dy/dx).\n",
    "\n",
    "First, we will need to create four arrays:\n",
    "\n",
    "1.  a 2d array of all the x-positions\n",
    "2.  a 2d array of all the y-positions\n",
    "3.  a 2d array of the dx/dx = 1 values\n",
    "4.  a 2d array of the dy/dx values.\n",
    "\n",
    "We want to generate the x, y arrays. We use `np.meshgrid` for this. The simplest way to do it is to use `np.linspace` to create 1-D arrays with the spacing we want, and then use `np.meshgrid` to generate the 2D arrays. Let's say we want a uniform grid over the range of x from 0 to 1, and over the range of y from 0 to 3, with 5 points in each direction."
   ]
  },
  {
   "cell_type": "code",
   "execution_count": 1,
   "metadata": {
    "colab": {
     "base_uri": "https://localhost:8080/"
    },
    "executionInfo": {
     "elapsed": 141,
     "status": "ok",
     "timestamp": 1631622239795,
     "user": {
      "displayName": "John Kitchin",
      "photoUrl": "https://lh3.googleusercontent.com/a/default-user=s64",
      "userId": "14782011281593705406"
     },
     "user_tz": 240
    },
    "id": "Xj7sxV3eIRkK",
    "outputId": "70af1859-48d0-4744-a68d-90cec84e142d"
   },
   "outputs": [
    {
     "data": {
      "text/plain": [
       "(array([[0.  , 0.25, 0.5 , 0.75, 1.  ],\n",
       "        [0.  , 0.25, 0.5 , 0.75, 1.  ],\n",
       "        [0.  , 0.25, 0.5 , 0.75, 1.  ],\n",
       "        [0.  , 0.25, 0.5 , 0.75, 1.  ],\n",
       "        [0.  , 0.25, 0.5 , 0.75, 1.  ]]),\n",
       " array([[0.  , 0.  , 0.  , 0.  , 0.  ],\n",
       "        [0.75, 0.75, 0.75, 0.75, 0.75],\n",
       "        [1.5 , 1.5 , 1.5 , 1.5 , 1.5 ],\n",
       "        [2.25, 2.25, 2.25, 2.25, 2.25],\n",
       "        [3.  , 3.  , 3.  , 3.  , 3.  ]]))"
      ]
     },
     "execution_count": 1,
     "metadata": {},
     "output_type": "execute_result"
    }
   ],
   "source": [
    "import numpy as np\n",
    "\n",
    "x = np.linspace(0, 1, 5)\n",
    "y = np.linspace(0, 3, 5)\n",
    "\n",
    "X, Y = np.meshgrid(x, y)\n",
    "X, Y"
   ]
  },
  {
   "cell_type": "code",
   "execution_count": 2,
   "metadata": {
    "executionInfo": {
     "elapsed": 201,
     "status": "ok",
     "timestamp": 1631621692539,
     "user": {
      "displayName": "John Kitchin",
      "photoUrl": "https://lh3.googleusercontent.com/a/default-user=s64",
      "userId": "14782011281593705406"
     },
     "user_tz": 240
    },
    "id": "ZhMQMWRvOydC"
   },
   "outputs": [
    {
     "data": {
      "text/plain": [
       "\u001b[0;31mSignature:\u001b[0m \u001b[0mnp\u001b[0m\u001b[0;34m.\u001b[0m\u001b[0mmeshgrid\u001b[0m\u001b[0;34m(\u001b[0m\u001b[0;34m*\u001b[0m\u001b[0mxi\u001b[0m\u001b[0;34m,\u001b[0m \u001b[0mcopy\u001b[0m\u001b[0;34m=\u001b[0m\u001b[0;32mTrue\u001b[0m\u001b[0;34m,\u001b[0m \u001b[0msparse\u001b[0m\u001b[0;34m=\u001b[0m\u001b[0;32mFalse\u001b[0m\u001b[0;34m,\u001b[0m \u001b[0mindexing\u001b[0m\u001b[0;34m=\u001b[0m\u001b[0;34m'xy'\u001b[0m\u001b[0;34m)\u001b[0m\u001b[0;34m\u001b[0m\u001b[0;34m\u001b[0m\u001b[0m\n",
       "\u001b[0;31mDocstring:\u001b[0m\n",
       "Return coordinate matrices from coordinate vectors.\n",
       "\n",
       "Make N-D coordinate arrays for vectorized evaluations of\n",
       "N-D scalar/vector fields over N-D grids, given\n",
       "one-dimensional coordinate arrays x1, x2,..., xn.\n",
       "\n",
       ".. versionchanged:: 1.9\n",
       "   1-D and 0-D cases are allowed.\n",
       "\n",
       "Parameters\n",
       "----------\n",
       "x1, x2,..., xn : array_like\n",
       "    1-D arrays representing the coordinates of a grid.\n",
       "indexing : {'xy', 'ij'}, optional\n",
       "    Cartesian ('xy', default) or matrix ('ij') indexing of output.\n",
       "    See Notes for more details.\n",
       "\n",
       "    .. versionadded:: 1.7.0\n",
       "sparse : bool, optional\n",
       "    If True a sparse grid is returned in order to conserve memory.\n",
       "    Default is False.\n",
       "\n",
       "    .. versionadded:: 1.7.0\n",
       "copy : bool, optional\n",
       "    If False, a view into the original arrays are returned in order to\n",
       "    conserve memory.  Default is True.  Please note that\n",
       "    ``sparse=False, copy=False`` will likely return non-contiguous\n",
       "    arrays.  Furthermore, more than one element of a broadcast array\n",
       "    may refer to a single memory location.  If you need to write to the\n",
       "    arrays, make copies first.\n",
       "\n",
       "    .. versionadded:: 1.7.0\n",
       "\n",
       "Returns\n",
       "-------\n",
       "X1, X2,..., XN : ndarray\n",
       "    For vectors `x1`, `x2`,..., 'xn' with lengths ``Ni=len(xi)`` ,\n",
       "    return ``(N1, N2, N3,...Nn)`` shaped arrays if indexing='ij'\n",
       "    or ``(N2, N1, N3,...Nn)`` shaped arrays if indexing='xy'\n",
       "    with the elements of `xi` repeated to fill the matrix along\n",
       "    the first dimension for `x1`, the second for `x2` and so on.\n",
       "\n",
       "Notes\n",
       "-----\n",
       "This function supports both indexing conventions through the indexing\n",
       "keyword argument.  Giving the string 'ij' returns a meshgrid with\n",
       "matrix indexing, while 'xy' returns a meshgrid with Cartesian indexing.\n",
       "In the 2-D case with inputs of length M and N, the outputs are of shape\n",
       "(N, M) for 'xy' indexing and (M, N) for 'ij' indexing.  In the 3-D case\n",
       "with inputs of length M, N and P, outputs are of shape (N, M, P) for\n",
       "'xy' indexing and (M, N, P) for 'ij' indexing.  The difference is\n",
       "illustrated by the following code snippet::\n",
       "\n",
       "    xv, yv = np.meshgrid(x, y, sparse=False, indexing='ij')\n",
       "    for i in range(nx):\n",
       "        for j in range(ny):\n",
       "            # treat xv[i,j], yv[i,j]\n",
       "\n",
       "    xv, yv = np.meshgrid(x, y, sparse=False, indexing='xy')\n",
       "    for i in range(nx):\n",
       "        for j in range(ny):\n",
       "            # treat xv[j,i], yv[j,i]\n",
       "\n",
       "In the 1-D and 0-D case, the indexing and sparse keywords have no effect.\n",
       "\n",
       "See Also\n",
       "--------\n",
       "mgrid : Construct a multi-dimensional \"meshgrid\" using indexing notation.\n",
       "ogrid : Construct an open multi-dimensional \"meshgrid\" using indexing \n",
       "        notation.\n",
       "\n",
       "Examples\n",
       "--------\n",
       ">>> nx, ny = (3, 2)\n",
       ">>> x = np.linspace(0, 1, nx)\n",
       ">>> y = np.linspace(0, 1, ny)\n",
       ">>> xv, yv = np.meshgrid(x, y)\n",
       ">>> xv\n",
       "array([[0. , 0.5, 1. ],\n",
       "       [0. , 0.5, 1. ]])\n",
       ">>> yv\n",
       "array([[0.,  0.,  0.],\n",
       "       [1.,  1.,  1.]])\n",
       ">>> xv, yv = np.meshgrid(x, y, sparse=True)  # make sparse output arrays\n",
       ">>> xv\n",
       "array([[0. ,  0.5,  1. ]])\n",
       ">>> yv\n",
       "array([[0.],\n",
       "       [1.]])\n",
       "\n",
       "`meshgrid` is very useful to evaluate functions on a grid.\n",
       "\n",
       ">>> import matplotlib.pyplot as plt\n",
       ">>> x = np.arange(-5, 5, 0.1)\n",
       ">>> y = np.arange(-5, 5, 0.1)\n",
       ">>> xx, yy = np.meshgrid(x, y, sparse=True)\n",
       ">>> z = np.sin(xx**2 + yy**2) / (xx**2 + yy**2)\n",
       ">>> h = plt.contourf(x,y,z)\n",
       ">>> plt.show()\n",
       "\u001b[0;31mFile:\u001b[0m      /opt/conda/lib/python3.9/site-packages/numpy/lib/function_base.py\n",
       "\u001b[0;31mType:\u001b[0m      function\n"
      ]
     },
     "metadata": {},
     "output_type": "display_data"
    }
   ],
   "source": [
    "?np.meshgrid"
   ]
  },
  {
   "cell_type": "markdown",
   "metadata": {
    "id": "ndn_w-YZIRkT"
   },
   "source": [
    "Now, we have X, Y arrays that map out all the (x, y) pairs we want to consider. So, the (x, y) pair in the second row and third column of the array is:\n",
    "\n"
   ]
  },
  {
   "cell_type": "code",
   "execution_count": 3,
   "metadata": {
    "colab": {
     "base_uri": "https://localhost:8080/"
    },
    "executionInfo": {
     "elapsed": 141,
     "status": "ok",
     "timestamp": 1631622348751,
     "user": {
      "displayName": "John Kitchin",
      "photoUrl": "https://lh3.googleusercontent.com/a/default-user=s64",
      "userId": "14782011281593705406"
     },
     "user_tz": 240
    },
    "id": "J8DRDwoLIRkU",
    "outputId": "af86e095-5605-40a5-94a6-840e30c42fd7"
   },
   "outputs": [
    {
     "data": {
      "text/plain": [
       "(0.5, 0.75)"
      ]
     },
     "execution_count": 3,
     "metadata": {},
     "output_type": "execute_result"
    }
   ],
   "source": [
    "(X[1, 2], Y[1, 2])  # indexing [i, j] the ith row and jth column of a 2D array"
   ]
  },
  {
   "cell_type": "markdown",
   "metadata": {
    "id": "ZrW5l8ooIRka"
   },
   "source": [
    "These are arrays, so we can do math with them.\n",
    "\n"
   ]
  },
  {
   "cell_type": "code",
   "execution_count": 4,
   "metadata": {
    "colab": {
     "base_uri": "https://localhost:8080/"
    },
    "executionInfo": {
     "elapsed": 135,
     "status": "ok",
     "timestamp": 1631622114825,
     "user": {
      "displayName": "John Kitchin",
      "photoUrl": "https://lh3.googleusercontent.com/a/default-user=s64",
      "userId": "14782011281593705406"
     },
     "user_tz": 240
    },
    "id": "eluJtUbKIRkb",
    "outputId": "853ce314-414c-4347-c9e3-5af45af75728"
   },
   "outputs": [
    {
     "data": {
      "text/plain": [
       "array([[ 0.  ,  0.25,  0.5 ,  0.75,  1.  ],\n",
       "       [-0.75, -0.5 , -0.25,  0.  ,  0.25],\n",
       "       [-1.5 , -1.25, -1.  , -0.75, -0.5 ],\n",
       "       [-2.25, -2.  , -1.75, -1.5 , -1.25],\n",
       "       [-3.  , -2.75, -2.5 , -2.25, -2.  ]])"
      ]
     },
     "execution_count": 4,
     "metadata": {},
     "output_type": "execute_result"
    }
   ],
   "source": [
    "X - Y  # this is the derivative at each point (x, y): y' = x - y"
   ]
  },
  {
   "cell_type": "code",
   "execution_count": 5,
   "metadata": {
    "colab": {
     "base_uri": "https://localhost:8080/"
    },
    "executionInfo": {
     "elapsed": 132,
     "status": "ok",
     "timestamp": 1631622165475,
     "user": {
      "displayName": "John Kitchin",
      "photoUrl": "https://lh3.googleusercontent.com/a/default-user=s64",
      "userId": "14782011281593705406"
     },
     "user_tz": 240
    },
    "id": "lnTAmVfNIRkh",
    "outputId": "894667ce-cbd4-4812-ee9d-ebe2112d3f4e"
   },
   "outputs": [
    {
     "data": {
      "text/plain": [
       "array([[0.        , 0.25      , 0.5       , 0.75      , 1.        ],\n",
       "       [0.75      , 0.79056942, 0.90138782, 1.06066017, 1.25      ],\n",
       "       [1.5       , 1.52069063, 1.58113883, 1.67705098, 1.80277564],\n",
       "       [2.25      , 2.26384628, 2.30488611, 2.37170825, 2.46221445],\n",
       "       [3.        , 3.01039864, 3.04138127, 3.09232922, 3.16227766]])"
      ]
     },
     "execution_count": 5,
     "metadata": {},
     "output_type": "execute_result"
    }
   ],
   "source": [
    "np.sqrt(X**2 + Y**2)  # another example of element-wise math"
   ]
  },
  {
   "cell_type": "markdown",
   "metadata": {
    "id": "saN3MCQDIRkn"
   },
   "source": [
    "Now we are ready to compute a distance field for the FODE. We will consider the range from -1 to 1 in both x and y, and then plot the results with `matplotlib.pyplot.quiver`.\n",
    "\n"
   ]
  },
  {
   "cell_type": "code",
   "execution_count": 6,
   "metadata": {
    "executionInfo": {
     "elapsed": 123,
     "status": "ok",
     "timestamp": 1631622369469,
     "user": {
      "displayName": "John Kitchin",
      "photoUrl": "https://lh3.googleusercontent.com/a/default-user=s64",
      "userId": "14782011281593705406"
     },
     "user_tz": 240
    },
    "id": "I6FqUWR2IRkp"
   },
   "outputs": [],
   "source": [
    "import matplotlib.pyplot as plt"
   ]
  },
  {
   "cell_type": "markdown",
   "metadata": {
    "id": "gDq3A1OhIRkv"
   },
   "source": [
    "Review the documentation for this function:\n",
    "\n"
   ]
  },
  {
   "cell_type": "code",
   "execution_count": 7,
   "metadata": {
    "executionInfo": {
     "elapsed": 150,
     "status": "ok",
     "timestamp": 1631622400901,
     "user": {
      "displayName": "John Kitchin",
      "photoUrl": "https://lh3.googleusercontent.com/a/default-user=s64",
      "userId": "14782011281593705406"
     },
     "user_tz": 240
    },
    "id": "8HP_0NL5IRkw"
   },
   "outputs": [
    {
     "data": {
      "text/plain": [
       "\u001b[0;31mSignature:\u001b[0m \u001b[0mplt\u001b[0m\u001b[0;34m.\u001b[0m\u001b[0mquiver\u001b[0m\u001b[0;34m(\u001b[0m\u001b[0;34m*\u001b[0m\u001b[0margs\u001b[0m\u001b[0;34m,\u001b[0m \u001b[0mdata\u001b[0m\u001b[0;34m=\u001b[0m\u001b[0;32mNone\u001b[0m\u001b[0;34m,\u001b[0m \u001b[0;34m**\u001b[0m\u001b[0mkw\u001b[0m\u001b[0;34m)\u001b[0m\u001b[0;34m\u001b[0m\u001b[0;34m\u001b[0m\u001b[0m\n",
       "\u001b[0;31mDocstring:\u001b[0m\n",
       "Plot a 2D field of arrows.\n",
       "\n",
       "Call signature::\n",
       "\n",
       "  quiver([X, Y], U, V, [C], **kw)\n",
       "\n",
       "*X*, *Y* define the arrow locations, *U*, *V* define the arrow directions, and\n",
       "*C* optionally sets the color.\n",
       "\n",
       "**Arrow size**\n",
       "\n",
       "The default settings auto-scales the length of the arrows to a reasonable size.\n",
       "To change this behavior see the *scale* and *scale_units* parameters.\n",
       "\n",
       "**Arrow shape**\n",
       "\n",
       "The defaults give a slightly swept-back arrow; to make the head a\n",
       "triangle, make *headaxislength* the same as *headlength*. To make the\n",
       "arrow more pointed, reduce *headwidth* or increase *headlength* and\n",
       "*headaxislength*. To make the head smaller relative to the shaft,\n",
       "scale down all the head parameters. You will probably do best to leave\n",
       "minshaft alone.\n",
       "\n",
       "**Arrow outline**\n",
       "\n",
       "*linewidths* and *edgecolors* can be used to customize the arrow\n",
       "outlines.\n",
       "\n",
       "Parameters\n",
       "----------\n",
       "X, Y : 1D or 2D array-like, optional\n",
       "    The x and y coordinates of the arrow locations.\n",
       "\n",
       "    If not given, they will be generated as a uniform integer meshgrid based\n",
       "    on the dimensions of *U* and *V*.\n",
       "\n",
       "    If *X* and *Y* are 1D but *U*, *V* are 2D, *X*, *Y* are expanded to 2D\n",
       "    using ``X, Y = np.meshgrid(X, Y)``. In this case ``len(X)`` and ``len(Y)``\n",
       "    must match the column and row dimensions of *U* and *V*.\n",
       "\n",
       "U, V : 1D or 2D array-like\n",
       "    The x and y direction components of the arrow vectors.\n",
       "\n",
       "    They must have the same number of elements, matching the number of arrow\n",
       "    locations. *U* and *V* may be masked. Only locations unmasked in\n",
       "    *U*, *V*, and *C* will be drawn.\n",
       "\n",
       "C : 1D or 2D array-like, optional\n",
       "    Numeric data that defines the arrow colors by colormapping via *norm* and\n",
       "    *cmap*.\n",
       "\n",
       "    This does not support explicit colors. If you want to set colors directly,\n",
       "    use *color* instead.  The size of *C* must match the number of arrow\n",
       "    locations.\n",
       "\n",
       "units : {'width', 'height', 'dots', 'inches', 'x', 'y', 'xy'}, default: 'width'\n",
       "    The arrow dimensions (except for *length*) are measured in multiples of\n",
       "    this unit.\n",
       "\n",
       "    The following values are supported:\n",
       "\n",
       "    - 'width', 'height': The width or height of the axis.\n",
       "    - 'dots', 'inches': Pixels or inches based on the figure dpi.\n",
       "    - 'x', 'y', 'xy': *X*, *Y* or :math:`\\sqrt{X^2 + Y^2}` in data units.\n",
       "\n",
       "    The arrows scale differently depending on the units.  For\n",
       "    'x' or 'y', the arrows get larger as one zooms in; for other\n",
       "    units, the arrow size is independent of the zoom state.  For\n",
       "    'width or 'height', the arrow size increases with the width and\n",
       "    height of the axes, respectively, when the window is resized;\n",
       "    for 'dots' or 'inches', resizing does not change the arrows.\n",
       "\n",
       "angles : {'uv', 'xy'} or array-like, default: 'uv'\n",
       "    Method for determining the angle of the arrows.\n",
       "\n",
       "    - 'uv': The arrow axis aspect ratio is 1 so that\n",
       "      if *U* == *V* the orientation of the arrow on the plot is 45 degrees\n",
       "      counter-clockwise from the horizontal axis (positive to the right).\n",
       "\n",
       "      Use this if the arrows symbolize a quantity that is not based on\n",
       "      *X*, *Y* data coordinates.\n",
       "\n",
       "    - 'xy': Arrows point from (x, y) to (x+u, y+v).\n",
       "      Use this for plotting a gradient field, for example.\n",
       "\n",
       "    - Alternatively, arbitrary angles may be specified explicitly as an array\n",
       "      of values in degrees, counter-clockwise from the horizontal axis.\n",
       "\n",
       "      In this case *U*, *V* is only used to determine the length of the\n",
       "      arrows.\n",
       "\n",
       "    Note: inverting a data axis will correspondingly invert the\n",
       "    arrows only with ``angles='xy'``.\n",
       "\n",
       "scale : float, optional\n",
       "    Number of data units per arrow length unit, e.g., m/s per plot width; a\n",
       "    smaller scale parameter makes the arrow longer. Default is *None*.\n",
       "\n",
       "    If *None*, a simple autoscaling algorithm is used, based on the average\n",
       "    vector length and the number of vectors. The arrow length unit is given by\n",
       "    the *scale_units* parameter.\n",
       "\n",
       "scale_units : {'width', 'height', 'dots', 'inches', 'x', 'y', 'xy'}, optional\n",
       "    If the *scale* kwarg is *None*, the arrow length unit. Default is *None*.\n",
       "\n",
       "    e.g. *scale_units* is 'inches', *scale* is 2.0, and ``(u, v) = (1, 0)``,\n",
       "    then the vector will be 0.5 inches long.\n",
       "\n",
       "    If *scale_units* is 'width' or 'height', then the vector will be half the\n",
       "    width/height of the axes.\n",
       "\n",
       "    If *scale_units* is 'x' then the vector will be 0.5 x-axis\n",
       "    units. To plot vectors in the x-y plane, with u and v having\n",
       "    the same units as x and y, use\n",
       "    ``angles='xy', scale_units='xy', scale=1``.\n",
       "\n",
       "width : float, optional\n",
       "    Shaft width in arrow units; default depends on choice of units,\n",
       "    above, and number of vectors; a typical starting value is about\n",
       "    0.005 times the width of the plot.\n",
       "\n",
       "headwidth : float, default: 3\n",
       "    Head width as multiple of shaft width.\n",
       "\n",
       "headlength : float, default: 5\n",
       "    Head length as multiple of shaft width.\n",
       "\n",
       "headaxislength : float, default: 4.5\n",
       "    Head length at shaft intersection.\n",
       "\n",
       "minshaft : float, default: 1\n",
       "    Length below which arrow scales, in units of head length. Do not\n",
       "    set this to less than 1, or small arrows will look terrible!\n",
       "\n",
       "minlength : float, default: 1\n",
       "    Minimum length as a multiple of shaft width; if an arrow length\n",
       "    is less than this, plot a dot (hexagon) of this diameter instead.\n",
       "\n",
       "pivot : {'tail', 'mid', 'middle', 'tip'}, default: 'tail'\n",
       "    The part of the arrow that is anchored to the *X*, *Y* grid. The arrow\n",
       "    rotates about this point.\n",
       "\n",
       "    'mid' is a synonym for 'middle'.\n",
       "\n",
       "color : color or color sequence, optional\n",
       "    Explicit color(s) for the arrows. If *C* has been set, *color* has no\n",
       "    effect.\n",
       "\n",
       "    This is a synonym for the `~.PolyCollection` *facecolor* parameter.\n",
       "\n",
       "Other Parameters\n",
       "----------------\n",
       "**kwargs : `~matplotlib.collections.PolyCollection` properties, optional\n",
       "    All other keyword arguments are passed on to `.PolyCollection`:\n",
       "\n",
       "    Properties:\n",
       "    agg_filter: a filter function, which takes a (m, n, 3) float array and a dpi value, and returns a (m, n, 3) array\n",
       "    alpha: array-like or scalar or None\n",
       "    animated: bool\n",
       "    antialiased or aa or antialiaseds: bool or list of bools\n",
       "    array: ndarray or None\n",
       "    capstyle: `.CapStyle` or {'butt', 'projecting', 'round'}\n",
       "    clim: (vmin: float, vmax: float)\n",
       "    clip_box: `.Bbox`\n",
       "    clip_on: bool\n",
       "    clip_path: Patch or (Path, Transform) or None\n",
       "    cmap: `.Colormap` or str or None\n",
       "    color: color or list of rgba tuples\n",
       "    contains: unknown\n",
       "    edgecolor or ec or edgecolors: color or list of colors or 'face'\n",
       "    facecolor or facecolors or fc: color or list of colors\n",
       "    figure: `.Figure`\n",
       "    gid: str\n",
       "    hatch: {'/', '\\\\', '|', '-', '+', 'x', 'o', 'O', '.', '*'}\n",
       "    in_layout: bool\n",
       "    joinstyle: `.JoinStyle` or {'miter', 'round', 'bevel'}\n",
       "    label: object\n",
       "    linestyle or dashes or linestyles or ls: str or tuple or list thereof\n",
       "    linewidth or linewidths or lw: float or list of floats\n",
       "    norm: `.Normalize` or None\n",
       "    offset_position: unknown\n",
       "    offsets: (N, 2) or (2,) array-like\n",
       "    path_effects: `.AbstractPathEffect`\n",
       "    picker: None or bool or float or callable\n",
       "    pickradius: float\n",
       "    rasterized: bool\n",
       "    sketch_params: (scale: float, length: float, randomness: float)\n",
       "    snap: bool or None\n",
       "    transform: `.Transform`\n",
       "    url: str\n",
       "    urls: list of str or None\n",
       "    visible: bool\n",
       "    zorder: float\n",
       "\n",
       "See Also\n",
       "--------\n",
       ".Axes.quiverkey : Add a key to a quiver plot.\n",
       "\u001b[0;31mFile:\u001b[0m      /opt/conda/lib/python3.9/site-packages/matplotlib/pyplot.py\n",
       "\u001b[0;31mType:\u001b[0m      function\n"
      ]
     },
     "metadata": {},
     "output_type": "display_data"
    }
   ],
   "source": [
    "?plt.quiver"
   ]
  },
  {
   "cell_type": "markdown",
   "metadata": {
    "id": "0IdopxrjIRk3"
   },
   "source": [
    "We define the ode function, create the grids, and then make the plot.\n",
    "\n"
   ]
  },
  {
   "cell_type": "code",
   "execution_count": 8,
   "metadata": {
    "colab": {
     "base_uri": "https://localhost:8080/",
     "height": 279
    },
    "executionInfo": {
     "elapsed": 399,
     "status": "ok",
     "timestamp": 1631622729687,
     "user": {
      "displayName": "John Kitchin",
      "photoUrl": "https://lh3.googleusercontent.com/a/default-user=s64",
      "userId": "14782011281593705406"
     },
     "user_tz": 240
    },
    "id": "wPTOhFnKIRk4",
    "outputId": "e1d9cf06-821e-48a3-f7c4-16bd4b85621f"
   },
   "outputs": [
    {
     "data": {
      "image/png": "[encoded data removed]",
      "text/plain": [
       "<Figure size 432x288 with 1 Axes>"
      ]
     },
     "metadata": {
      "needs_background": "light"
     },
     "output_type": "display_data"
    }
   ],
   "source": [
    "def yprime(x, y):\n",
    "    return x - y\n",
    "\n",
    "\n",
    "x = np.linspace(-1, 10, 20)\n",
    "y = np.linspace(-1, 10, 20)\n",
    "\n",
    "X, Y = np.meshgrid(x, y)  # These are the grid points where we want y'\n",
    "U = np.ones(X.shape)  # dx/dx\n",
    "V = yprime(X, Y)  # dy/dx\n",
    "\n",
    "# This normalizes the arrows so they are all the same length\n",
    "N = np.sqrt(U**2 + V**2)\n",
    "U /= N  # similar +=, it means U = U / N\n",
    "V /= N\n",
    "\n",
    "plt.quiver(X, Y, U, V)\n",
    "plt.xlabel(\"x\")\n",
    "plt.ylabel(\"y\")\n",
    "# suppress output with a ;"
   ]
  },
  {
   "cell_type": "markdown",
   "metadata": {
    "id": "jXgnAz3uIRk-"
   },
   "source": [
    "If you pick a point, the arrows show you which way the solution goes from there. You just follow the arrows to get an approximate solution to this equation. Let's consider some specific solutions. Suppose we start with the initial condition that $y(-1) = 0$. You can trace the arrows to estimate where the solution goes.\n",
    "\n",
    "Let us use a numerical solver to see how it works.\n",
    "\n"
   ]
  },
  {
   "cell_type": "code",
   "execution_count": 9,
   "metadata": {
    "colab": {
     "base_uri": "https://localhost:8080/"
    },
    "executionInfo": {
     "elapsed": 133,
     "status": "ok",
     "timestamp": 1631622897631,
     "user": {
      "displayName": "John Kitchin",
      "photoUrl": "https://lh3.googleusercontent.com/a/default-user=s64",
      "userId": "14782011281593705406"
     },
     "user_tz": 240
    },
    "id": "0YdLOgD1IRk_",
    "outputId": "de705fa3-ee43-462c-ed69-31a5b4b16964"
   },
   "outputs": [
    {
     "data": {
      "text/plain": [
       "  message: 'The solver successfully reached the end of the integration interval.'\n",
       "     nfev: 80\n",
       "     njev: 0\n",
       "      nlu: 0\n",
       "      sol: None\n",
       "   status: 0\n",
       "  success: True\n",
       "        t: array([-1.        , -0.7755102 , -0.55102041, -0.32653061, -0.10204082,\n",
       "        0.12244898,  0.34693878,  0.57142857,  0.79591837,  1.02040816,\n",
       "        1.24489796,  1.46938776,  1.69387755,  1.91836735,  2.14285714,\n",
       "        2.36734694,  2.59183673,  2.81632653,  3.04081633,  3.26530612,\n",
       "        3.48979592,  3.71428571,  3.93877551,  4.16326531,  4.3877551 ,\n",
       "        4.6122449 ,  4.83673469,  5.06122449,  5.28571429,  5.51020408,\n",
       "        5.73469388,  5.95918367,  6.18367347,  6.40816327,  6.63265306,\n",
       "        6.85714286,  7.08163265,  7.30612245,  7.53061224,  7.75510204,\n",
       "        7.97959184,  8.20408163,  8.42857143,  8.65306122,  8.87755102,\n",
       "        9.10204082,  9.32653061,  9.55102041,  9.7755102 , 10.        ])\n",
       " t_events: None\n",
       "        y: array([[ 0.        , -0.1776827 , -0.27448019, -0.30665353, -0.28729424,\n",
       "        -0.22658282, -0.13297509, -0.01310638,  0.12788377,  0.28564506,\n",
       "         0.45676556,  0.63866981,  0.82915521,  1.02635574,  1.22902777,\n",
       "         1.43620943,  1.64698157,  1.86046769,  2.07596797,  2.29321951,\n",
       "         2.51201102,  2.73209447,  2.95318506,  3.17496122,  3.397096  ,\n",
       "         3.61954419,  3.84236104,  4.06556316,  4.28913432,  4.51302545,\n",
       "         4.73715465,  4.96140715,  5.18563537,  5.40971166,  5.63373804,\n",
       "         5.8577887 ,  6.08191349,  6.30614647,  6.53050594,  6.75499439,\n",
       "         6.97959857,  7.20428943,  7.42902213,  7.65373607,  7.87835486,\n",
       "         8.1027869 ,  8.32712644,  8.55149631,  8.77589063,  9.00030415]])\n",
       " y_events: None"
      ]
     },
     "execution_count": 9,
     "metadata": {},
     "output_type": "execute_result"
    }
   ],
   "source": [
    "from scipy.integrate import solve_ivp\n",
    "\n",
    "sol = solve_ivp(\n",
    "    yprime, (-1, 10), (0,), t_eval=np.linspace(-1, 10)\n",
    ")  # (0,) is a 1D tuple\n",
    "sol.message  # you should at least check this message to see if it worked.\n",
    "sol"
   ]
  },
  {
   "cell_type": "markdown",
   "metadata": {
    "id": "_3Xc8nq6IRlE"
   },
   "source": [
    "Now, we plot the solution\n",
    "\n"
   ]
  },
  {
   "cell_type": "code",
   "execution_count": 10,
   "metadata": {
    "colab": {
     "base_uri": "https://localhost:8080/",
     "height": 279
    },
    "executionInfo": {
     "elapsed": 459,
     "status": "ok",
     "timestamp": 1631622913253,
     "user": {
      "displayName": "John Kitchin",
      "photoUrl": "https://lh3.googleusercontent.com/a/default-user=s64",
      "userId": "14782011281593705406"
     },
     "user_tz": 240
    },
    "id": "iC9Ko1SOIRlF",
    "outputId": "1244eaac-37c6-4897-f154-acaa84a434c3"
   },
   "outputs": [
    {
     "data": {
      "image/png": "[encoded data removed]",
      "text/plain": [
       "<Figure size 432x288 with 1 Axes>"
      ]
     },
     "metadata": {
      "needs_background": "light"
     },
     "output_type": "display_data"
    }
   ],
   "source": [
    "plt.plot(sol.t, sol.y[0], \"r\", lw=2)\n",
    "plt.quiver(X, Y, U, V)\n",
    "plt.xlabel(\"x\")\n",
    "plt.ylabel(\"y\");"
   ]
  },
  {
   "cell_type": "markdown",
   "metadata": {
    "id": "oMIQjAzqIRlL"
   },
   "source": [
    "Here are some more examples.\n",
    "\n"
   ]
  },
  {
   "cell_type": "code",
   "execution_count": 11,
   "metadata": {
    "colab": {
     "base_uri": "https://localhost:8080/",
     "height": 279
    },
    "executionInfo": {
     "elapsed": 487,
     "status": "ok",
     "timestamp": 1631622957508,
     "user": {
      "displayName": "John Kitchin",
      "photoUrl": "https://lh3.googleusercontent.com/a/default-user=s64",
      "userId": "14782011281593705406"
     },
     "user_tz": 240
    },
    "id": "7QzkbPgwIRlM",
    "outputId": "94441d23-06b6-4a08-e56f-10dcfa5c0039"
   },
   "outputs": [
    {
     "data": {
      "image/png": "[encoded data removed]",
      "text/plain": [
       "<Figure size 432x288 with 1 Axes>"
      ]
     },
     "metadata": {
      "needs_background": "light"
     },
     "output_type": "display_data"
    }
   ],
   "source": [
    "# sol2 = solve_ivp(yprime, (-0.5, 10), (0.5,), t_eval=np.linspace(-0.5, 10))\n",
    "# sol3 = solve_ivp(yprime, (0.0, 10), (-1,), t_eval=np.linspace(0.0, 10))\n",
    "# sol4 = solve_ivp(yprime, (2.0, 10), (8,), t_eval=np.linspace(2.0, 10))\n",
    "\n",
    "sol2 = solve_ivp(yprime, (-0.5, 10), (0.5,))\n",
    "sol3 = solve_ivp(yprime, (0.0, 10), (-1,))\n",
    "\n",
    "tspan = (2, 10)\n",
    "sol4 = solve_ivp(yprime, tspan, (8,), t_eval=np.linspace(*tspan))\n",
    "# np.linspace(*tspan) = np.linspace(tspan[0], tspan[1])\n",
    "\n",
    "plt.plot(sol2.t, sol2.y[0], \"r.-\", lw=2)\n",
    "plt.plot(sol3.t, sol3.y[0], \"g.-\", lw=2)\n",
    "plt.plot(sol4.t, sol4.y[0], \"b.-\", lw=2)\n",
    "\n",
    "# overlay the direction field\n",
    "plt.quiver(X, Y, U, V)\n",
    "plt.xlabel(\"x\")\n",
    "plt.ylabel(\"y\");"
   ]
  },
  {
   "cell_type": "markdown",
   "metadata": {
    "id": "w0JpiiWRIRlT"
   },
   "source": [
    "You can see the solution looks different depending on the initial condition, but in each case the solution follows the direction field.\n",
    "\n",
    "Direction field plots can be very helpful to visualize what nearby solutions might look like, or to get a qualitative idea of what a solution might look like, or to see if anything unusual happens in the solution space. We will see them again when we consider systems of differential equations.\n",
    "\n",
    "**Exercise:** Make a direction field plot for $y'=-y$ for the range of x from 0 to 4. What does the direction field tell you? How does this compare to what you know from the solution?\n",
    "\n"
   ]
  },
  {
   "cell_type": "code",
   "execution_count": 12,
   "metadata": {
    "colab": {
     "base_uri": "https://localhost:8080/",
     "height": 265
    },
    "executionInfo": {
     "elapsed": 528,
     "status": "ok",
     "timestamp": 1631623300015,
     "user": {
      "displayName": "John Kitchin",
      "photoUrl": "https://lh3.googleusercontent.com/a/default-user=s64",
      "userId": "14782011281593705406"
     },
     "user_tz": 240
    },
    "id": "5fBT4U_7T0Hq",
    "outputId": "c1a4cdc4-ce55-4029-8bda-e8cd4ad8e229"
   },
   "outputs": [
    {
     "data": {
      "image/png": "[encoded data removed]",
      "text/plain": [
       "<Figure size 432x288 with 1 Axes>"
      ]
     },
     "metadata": {
      "needs_background": "light"
     },
     "output_type": "display_data"
    }
   ],
   "source": [
    "x = np.linspace(0, 4, 20)\n",
    "y = np.linspace(0, 4, 20)\n",
    "\n",
    "X, Y = np.meshgrid(x, y)\n",
    "U = np.ones(X.shape)\n",
    "V = -Y\n",
    "\n",
    "N = np.sqrt(U**2 + V**2)\n",
    "U /= N\n",
    "V /= N\n",
    "\n",
    "plt.quiver(X, Y, U, V);"
   ]
  },
  {
   "cell_type": "markdown",
   "metadata": {
    "id": "6ugLldulfjFU"
   },
   "source": [
    "**Reflective Questions**"
   ]
  },
  {
   "cell_type": "code",
   "execution_count": 13,
   "metadata": {
    "colab": {
     "base_uri": "https://localhost:8080/"
    },
    "executionInfo": {
     "elapsed": 34867,
     "status": "ok",
     "timestamp": 1631623370919,
     "user": {
      "displayName": "John Kitchin",
      "photoUrl": "https://lh3.googleusercontent.com/a/default-user=s64",
      "userId": "14782011281593705406"
     },
     "user_tz": 240
    },
    "id": "ELqrofMGfiaU",
    "outputId": "cbd4848d-747d-4773-fe8e-69061a6c38d0"
   },
   "outputs": [
    {
     "ename": "NameError",
     "evalue": "name 'MCQ' is not defined",
     "output_type": "error",
     "traceback": [
      "\u001b[0;31m---------------------------------------------------------------------------\u001b[0m",
      "\u001b[0;31mNameError\u001b[0m                                 Traceback (most recent call last)",
      "\u001b[0;32m/tmp/ipykernel_11520/2330260068.py\u001b[0m in \u001b[0;36m<module>\u001b[0;34m\u001b[0m\n\u001b[0;32m----> 1\u001b[0;31m \u001b[0mMCQ\u001b[0m\u001b[0;34m(\u001b[0m\u001b[0;34m[\u001b[0m\u001b[0;34m'matplotlib'\u001b[0m\u001b[0;34m]\u001b[0m\u001b[0;34m)\u001b[0m\u001b[0;34m\u001b[0m\u001b[0;34m\u001b[0m\u001b[0m\n\u001b[0m",
      "\u001b[0;31mNameError\u001b[0m: name 'MCQ' is not defined"
     ]
    }
   ],
   "source": [
    "MCQ([\"matplotlib\"])"
   ]
  },
  {
   "cell_type": "markdown",
   "metadata": {
    "id": "abSuh_XTIRlU"
   },
   "source": [
    "## Systems of first-order differential equations\n",
    "\n"
   ]
  },
  {
   "cell_type": "markdown",
   "metadata": {
    "id": "JLZFT4RXIRlV"
   },
   "source": [
    "Many engineering systems are governed by *systems of coupled* differential equations. This usually means there are two or more independent variables and outputs, and the rate of change of the outputs depends on two or more of the independent variables.\n",
    "\n",
    "Let's consider the following tank mixing problem. You have two tanks: Tank A has 30 gallons containing 55 ounces of dissolved salt, and Tank B has 20 gallons containing 26 ounces of salt. Additionally,\n",
    "\n",
    "-   Water with a salt concentration of 1 oz/gal flows into Tank A at a rate of 1.5 gal/min.\n",
    "-   Water with a salt concentration of 3 oz/gal flows into Tank B at a rate of 1 gal/min\n",
    "-   Water flows from Tank A to Tank B at a rate of 3 gal/min.\n",
    "-   Water flows from Tank B to Tank A at a rate of 1.5 gal/min\n",
    "-   Water drains from Tank B at a rate of 2.5 gal/min.\n",
    "\n",
    "\n",
    "![two-tank-mixing.png](https://drive.google.com/uc?id=10znROrkJpW9VRKVg81z-fVeMuKqMRb5m)\n",
    "\n",
    "Plot the concentration of salt in Tank A and B as a function of time.\n",
    "\n",
    "First, we can define initial conditions.\n",
    "\n"
   ]
  },
  {
   "cell_type": "code",
   "execution_count": null,
   "metadata": {
    "colab": {
     "base_uri": "https://localhost:8080/"
    },
    "executionInfo": {
     "elapsed": 156,
     "status": "ok",
     "timestamp": 1631624066127,
     "user": {
      "displayName": "John Kitchin",
      "photoUrl": "https://lh3.googleusercontent.com/a/default-user=s64",
      "userId": "14782011281593705406"
     },
     "user_tz": 240
    },
    "id": "MO32uu0bIRlW",
    "outputId": "e9882502-46d2-4ca9-dcb2-d61c41a24ef4"
   },
   "outputs": [],
   "source": [
    "V_A = 30  # gal tank A\n",
    "V_B = 20  # gal tank B\n",
    "\n",
    "S_A0 = 55 / V_A  # oz/gallon in Tank A at T=0\n",
    "S_B0 = 26 / V_B  # oz/gallon in Tank B at T=0\n",
    "\n",
    "S_A0, S_B0"
   ]
  },
  {
   "cell_type": "markdown",
   "metadata": {
    "id": "rwqFQiCFIRlb"
   },
   "source": [
    "Now, let's define the flow rates and check the net volumetric flow into each tank.\n",
    "\n"
   ]
  },
  {
   "cell_type": "code",
   "execution_count": null,
   "metadata": {
    "colab": {
     "base_uri": "https://localhost:8080/"
    },
    "executionInfo": {
     "elapsed": 125,
     "status": "ok",
     "timestamp": 1631624205023,
     "user": {
      "displayName": "John Kitchin",
      "photoUrl": "https://lh3.googleusercontent.com/a/default-user=s64",
      "userId": "14782011281593705406"
     },
     "user_tz": 240
    },
    "id": "bPrXqQ10IRlc",
    "outputId": "8d5fae78-3e54-4182-ba08-b4b1c4919414"
   },
   "outputs": [],
   "source": [
    "f_A = 1.5  # volumetric flow into A gal/min\n",
    "C_A = 1  # salt concentration into A oz/gal\n",
    "\n",
    "f_B = 1.0  # volumetric flow into B, gal/min\n",
    "C_B = 3  # salt concentration into B, oz/gal\n",
    "\n",
    "f_AB = 3  # flow from A to B, gal/min\n",
    "f_BA = 1.5  # flow from B to A, gal/min\n",
    "\n",
    "f_Bexit = 2.5  # flow out of B\n",
    "\n",
    "print(f\"Net flow into A = {f_A - f_AB + f_BA} gal/min\")\n",
    "print(f\"Net flow into B = {f_B + f_AB - f_BA - f_Bexit} gal/min\")"
   ]
  },
  {
   "cell_type": "markdown",
   "metadata": {
    "id": "ZPigK8XjIRli"
   },
   "source": [
    "You can see the net volumetric flow in each tank is 0, so we do not have to worry about the volumes changing.\n",
    "\n",
    "We seek solutions for $S_A(t)$ and $S_B(t)$ where $S_x(t)$ represents the concentration (in oz/gal). Since these change with time, we need to solve the mass balances:\n",
    "\n",
    "$\\frac{dS_A}{dt} = \\frac{1}{V_A}(f_A C_A - f_{AB} S_A(t) + f_{BA} S_B(t))$\n",
    "\n",
    "and\n",
    "\n",
    "$\\frac{dS_B}{dt} = \\frac{1}{V_B}(f_B C_B + f_{AB} S_A(t) - f_{BA} S_B(t) - f_{Bexit} S_B(t))$\n",
    "\n",
    "Before we get into the solution, what should we expect to happen here? The concentration of salt into tank A is less than the initial concentration, and the initial concentration in Tank B is also lower than in Tank A, so we expect the concentration in Tank A to start decreasing. Similarly, we expect the concentration in Tank B to start rising since the concentration in each incoming stream is higher than the initial concentration.\n",
    "\n",
    "At some point, the two tanks will reach a steady state, but it is not evident how we will approach that steady state. Since the concentration of one stream is higher than all the other concentrations, it is possible for the concentration to go up and then down."
   ]
  },
  {
   "cell_type": "code",
   "execution_count": null,
   "metadata": {
    "colab": {
     "base_uri": "https://localhost:8080/"
    },
    "executionInfo": {
     "elapsed": 131,
     "status": "ok",
     "timestamp": 1631626421351,
     "user": {
      "displayName": "John Kitchin",
      "photoUrl": "https://lh3.googleusercontent.com/a/default-user=s64",
      "userId": "14782011281593705406"
     },
     "user_tz": 240
    },
    "id": "C5UwE1rrIRlj",
    "outputId": "666fdea0-7045-4e32-ae84-622247d800d9"
   },
   "outputs": [],
   "source": [
    "def dSdt(t, S):  # S is an array of values [SA, SB]\n",
    "    S_A = S[0]\n",
    "    S_B = S[1]\n",
    "    dSadt = (f_A * C_A - f_AB * S_A + f_BA * S_B) / V_A\n",
    "    dSbdt = (f_B * C_B + f_AB * S_A - f_BA * S_B - f_Bexit * S_B) / V_B\n",
    "    return [dSadt, dSbdt]\n",
    "\n",
    "\n",
    "# an alternative, hard to read version\n",
    "# def hard2read(t, S):\n",
    "#   return [(f_A * C_A - f_AB * S[0] + f_BA * S[1]) / V_A,\n",
    "#          (f_B * C_B + f_AB * S[0] - f_BA * S[1] - f_Bexit * S[1]) / V_B]\n",
    "\n",
    "from scipy.integrate import solve_ivp\n",
    "\n",
    "S0 = np.array([S_A0, S_B0])  # We need two initial conditions\n",
    "tspan = np.array([0, 200])\n",
    "\n",
    "# there is a new syntax here. *tspan means to \"unpack\" tspan into this position\n",
    "# it is equivalent to:\n",
    "# teval = np.linspace(tspan[0], tspan[1], 100)\n",
    "teval = np.linspace(*tspan, 1000)\n",
    "\n",
    "sol = solve_ivp(dSdt, tspan, S0, dense_output=True)\n",
    "sol.message\n",
    "sol"
   ]
  },
  {
   "cell_type": "code",
   "execution_count": null,
   "metadata": {
    "colab": {
     "base_uri": "https://localhost:8080/",
     "height": 340
    },
    "executionInfo": {
     "elapsed": 337,
     "status": "ok",
     "timestamp": 1631626434569,
     "user": {
      "displayName": "John Kitchin",
      "photoUrl": "https://lh3.googleusercontent.com/a/default-user=s64",
      "userId": "14782011281593705406"
     },
     "user_tz": 240
    },
    "id": "TwluSnTjeS1c",
    "outputId": "be67c402-d929-4e4d-be43-8f3cb4894163"
   },
   "outputs": [],
   "source": [
    "plt.plot(teval, sol.sol(teval).T, sol.t, sol.y.T, \"ko\");"
   ]
  },
  {
   "cell_type": "markdown",
   "metadata": {
    "id": "-kDG9j4gIRlo"
   },
   "source": [
    "The shape of our solution is two rows by 1000 columns.\n",
    "\n"
   ]
  },
  {
   "cell_type": "code",
   "execution_count": null,
   "metadata": {
    "colab": {
     "base_uri": "https://localhost:8080/"
    },
    "executionInfo": {
     "elapsed": 124,
     "status": "ok",
     "timestamp": 1631626435340,
     "user": {
      "displayName": "John Kitchin",
      "photoUrl": "https://lh3.googleusercontent.com/a/default-user=s64",
      "userId": "14782011281593705406"
     },
     "user_tz": 240
    },
    "id": "ZLuZ2sr7IRlp",
    "outputId": "acbbaa21-35c4-451b-eef3-b0e89004f09e"
   },
   "outputs": [],
   "source": [
    "sol.y.shape"
   ]
  },
  {
   "cell_type": "code",
   "execution_count": null,
   "metadata": {
    "colab": {
     "base_uri": "https://localhost:8080/"
    },
    "executionInfo": {
     "elapsed": 6,
     "status": "ok",
     "timestamp": 1631626435758,
     "user": {
      "displayName": "John Kitchin",
      "photoUrl": "https://lh3.googleusercontent.com/a/default-user=s64",
      "userId": "14782011281593705406"
     },
     "user_tz": 240
    },
    "id": "MVljjZ5McO1E",
    "outputId": "12af052e-9f9d-410a-c149-4c2a6da43c67"
   },
   "outputs": [],
   "source": [
    "sol.y"
   ]
  },
  {
   "cell_type": "markdown",
   "metadata": {
    "id": "dzRaQy3IIRlv"
   },
   "source": [
    "One way to plot these solutions is this, where we extract out each row of the solution:\n",
    "\n"
   ]
  },
  {
   "cell_type": "code",
   "execution_count": null,
   "metadata": {
    "colab": {
     "base_uri": "https://localhost:8080/",
     "height": 282
    },
    "executionInfo": {
     "elapsed": 229,
     "status": "ok",
     "timestamp": 1631626437729,
     "user": {
      "displayName": "John Kitchin",
      "photoUrl": "https://lh3.googleusercontent.com/a/default-user=s64",
      "userId": "14782011281593705406"
     },
     "user_tz": 240
    },
    "id": "EvYcLCL3IRlw",
    "outputId": "a5f28d94-0a3e-4a7a-fff2-6d09ab13fadb"
   },
   "outputs": [],
   "source": [
    "import matplotlib.pyplot as plt\n",
    "\n",
    "plt.plot(sol.t, sol.y[0], \"r-\", label=\"Tank A\")\n",
    "plt.plot(sol.t, sol.y[1], \"b-\", label=\"Tank B\")\n",
    "plt.xlabel(\"t (min)\")\n",
    "plt.ylabel(\"Mass of salt (oz)\")\n",
    "plt.legend();"
   ]
  },
  {
   "cell_type": "code",
   "execution_count": null,
   "metadata": {
    "executionInfo": {
     "elapsed": 128,
     "status": "ok",
     "timestamp": 1631625669013,
     "user": {
      "displayName": "John Kitchin",
      "photoUrl": "https://lh3.googleusercontent.com/a/default-user=s64",
      "userId": "14782011281593705406"
     },
     "user_tz": 240
    },
    "id": "n36Ovw91d9bj"
   },
   "outputs": [],
   "source": [
    "?solve_ivp"
   ]
  },
  {
   "cell_type": "code",
   "execution_count": null,
   "metadata": {
    "colab": {
     "base_uri": "https://localhost:8080/",
     "height": 283
    },
    "executionInfo": {
     "elapsed": 367,
     "status": "ok",
     "timestamp": 1631626055420,
     "user": {
      "displayName": "John Kitchin",
      "photoUrl": "https://lh3.googleusercontent.com/a/default-user=s64",
      "userId": "14782011281593705406"
     },
     "user_tz": 240
    },
    "id": "Cc94bBft4Ukq",
    "outputId": "2c36f44f-3692-4eea-9ed5-89a8010f9feb"
   },
   "outputs": [],
   "source": [
    "Sa, Sb = sol.y\n",
    "dSadt = np.gradient(Sa, sol.t, edge_order=2)  # numerical derivative of the solution\n",
    "dSbdt = np.gradient(Sb, sol.t, edge_order=2)\n",
    "\n",
    "adSdt = dSdt(sol.t, sol.y)  # analytical derivatives from ODE\n",
    "\n",
    "# plot the differences\n",
    "plt.plot(sol.t, dSadt - adSdt[0])\n",
    "plt.plot(sol.t, dSbdt - adSdt[1]);"
   ]
  },
  {
   "cell_type": "markdown",
   "metadata": {
    "id": "MPLyldiiIRl2"
   },
   "source": [
    "Another way is to convert the solution to an array where the data we want to plot is in columns. We can achieve this by *transposing* the array to convert it from 2 rows with 50 columns to 50 rows with 2 columns.\n",
    "\n"
   ]
  },
  {
   "cell_type": "code",
   "execution_count": null,
   "metadata": {
    "colab": {
     "base_uri": "https://localhost:8080/"
    },
    "executionInfo": {
     "elapsed": 141,
     "status": "ok",
     "timestamp": 1631626126532,
     "user": {
      "displayName": "John Kitchin",
      "photoUrl": "https://lh3.googleusercontent.com/a/default-user=s64",
      "userId": "14782011281593705406"
     },
     "user_tz": 240
    },
    "id": "agoJEYoRfrAw",
    "outputId": "d6c6b62f-476f-4781-e602-a48bbacc7c5c"
   },
   "outputs": [],
   "source": [
    "sol.y, sol.y.shape"
   ]
  },
  {
   "cell_type": "code",
   "execution_count": null,
   "metadata": {
    "colab": {
     "base_uri": "https://localhost:8080/"
    },
    "executionInfo": {
     "elapsed": 291,
     "status": "ok",
     "timestamp": 1631626179690,
     "user": {
      "displayName": "John Kitchin",
      "photoUrl": "https://lh3.googleusercontent.com/a/default-user=s64",
      "userId": "14782011281593705406"
     },
     "user_tz": 240
    },
    "id": "pksBNbvMIRl3",
    "outputId": "361f9942-dc39-4642-86df-94cdf1b4b25e"
   },
   "outputs": [],
   "source": [
    "sol.y.T.shape"
   ]
  },
  {
   "cell_type": "markdown",
   "metadata": {
    "id": "y17SGNNyIRl6"
   },
   "source": [
    "Now, we can also multiply each row by the volumes to get the mass of salt in each tank.\n",
    "\n"
   ]
  },
  {
   "cell_type": "code",
   "execution_count": null,
   "metadata": {
    "colab": {
     "base_uri": "https://localhost:8080/",
     "height": 279
    },
    "executionInfo": {
     "elapsed": 375,
     "status": "ok",
     "timestamp": 1631626449177,
     "user": {
      "displayName": "John Kitchin",
      "photoUrl": "https://lh3.googleusercontent.com/a/default-user=s64",
      "userId": "14782011281593705406"
     },
     "user_tz": 240
    },
    "id": "D9F9nCyfIRl7",
    "outputId": "86219b31-b269-403b-bd0c-cde85d8d9202"
   },
   "outputs": [],
   "source": [
    "plt.plot(sol.t, sol.y.T * [V_A, V_B])\n",
    "plt.xlabel(\"t (min)\")\n",
    "plt.ylabel(\"Mass of salt (oz)\")\n",
    "plt.legend([\"Tank A\", \"Tank B\"]);"
   ]
  },
  {
   "cell_type": "markdown",
   "metadata": {
    "id": "h6VKlN1jIRl_"
   },
   "source": [
    "This works because you can plot an array where the values to be plotted are all in columns.\n",
    "\n"
   ]
  },
  {
   "cell_type": "code",
   "execution_count": null,
   "metadata": {
    "colab": {
     "base_uri": "https://localhost:8080/"
    },
    "executionInfo": {
     "elapsed": 145,
     "status": "ok",
     "timestamp": 1631626482445,
     "user": {
      "displayName": "John Kitchin",
      "photoUrl": "https://lh3.googleusercontent.com/a/default-user=s64",
      "userId": "14782011281593705406"
     },
     "user_tz": 240
    },
    "id": "VPpFQKlJgsGs",
    "outputId": "40fa922b-367b-4f1f-ebd2-c0aac2056065"
   },
   "outputs": [],
   "source": [
    "sol.t, sol.y"
   ]
  },
  {
   "cell_type": "markdown",
   "metadata": {
    "id": "LnZs7u2SggRq"
   },
   "source": [
    "How would you find the maximum concentration of salt in tank B?"
   ]
  },
  {
   "cell_type": "code",
   "execution_count": null,
   "metadata": {
    "colab": {
     "base_uri": "https://localhost:8080/"
    },
    "executionInfo": {
     "elapsed": 137,
     "status": "ok",
     "timestamp": 1631626608576,
     "user": {
      "displayName": "John Kitchin",
      "photoUrl": "https://lh3.googleusercontent.com/a/default-user=s64",
      "userId": "14782011281593705406"
     },
     "user_tz": 240
    },
    "id": "QSUaKjsT6jh3",
    "outputId": "9483662e-9a2f-4524-880c-8eeb1a50acd4"
   },
   "outputs": [],
   "source": [
    "def event(t, S):\n",
    "    dSadt, dSbdt = dSdt(t, S)\n",
    "    return dSbdt\n",
    "\n",
    "\n",
    "event.terminal = True\n",
    "\n",
    "sol = solve_ivp(dSdt, tspan, S0, events=event)\n",
    "sol"
   ]
  },
  {
   "cell_type": "code",
   "execution_count": null,
   "metadata": {
    "colab": {
     "base_uri": "https://localhost:8080/",
     "height": 285
    },
    "executionInfo": {
     "elapsed": 294,
     "status": "ok",
     "timestamp": 1631626639574,
     "user": {
      "displayName": "John Kitchin",
      "photoUrl": "https://lh3.googleusercontent.com/a/default-user=s64",
      "userId": "14782011281593705406"
     },
     "user_tz": 240
    },
    "id": "4Ijzr9mc708T",
    "outputId": "a354be03-f15d-4343-81e9-f85900228be0"
   },
   "outputs": [],
   "source": [
    "plt.plot(sol.t, sol.y[1])"
   ]
  },
  {
   "cell_type": "markdown",
   "metadata": {
    "id": "38uLh0KuIRl_"
   },
   "source": [
    "### Brief review\n",
    "\n"
   ]
  },
  {
   "cell_type": "markdown",
   "metadata": {
    "id": "RtypShbsIRmA"
   },
   "source": [
    "For systems of first order differential equations, you need to:\n",
    "\n",
    "1.  Define a function $y'(t, y)$ where $y$ will be an array of values. The function must return an array that is the same shape as $y$. For example, if you have two equations, $y$ will contain the two function values, and $y'$ must return two derivative values.\n",
    "2.  You also need two initial conditions, one for each function, at the same value of $t$.\n",
    "3.  The solution from solve\\_ivp will return an array for the y-values, with each function in *a row* of that array. You can either extract the rows to plot them, or transpose the array and plot them all.\n",
    "\n"
   ]
  },
  {
   "cell_type": "markdown",
   "metadata": {
    "id": "kho5STOkIRmB"
   },
   "source": [
    "### Predator-prey model example\n",
    "\n"
   ]
  },
  {
   "cell_type": "markdown",
   "metadata": {
    "id": "Ro7NQJ3KIRmB"
   },
   "source": [
    "The Lotka-Volterra model can be used to simulate predator-prey populations. Suppose we have $u$ preys (e.g. rabbits) and $v$ predators (e.g. foxes). Then, we can do a \"mass balance\" on each species as\n",
    "\n",
    "$\\frac{du}{dt} = a u - b u v$\n",
    "\n",
    "$\\frac{dv}{dt} = -c v + d b u v$\n",
    "\n",
    "Here $a$ is the natural growth rate of rabbits with no foxes. $b$ is the rate that foxes eat rabbits. $c$ is the rate that foxes die, and $d$ describes how many new foxes result from the rabbits that are eaten. Suppose we start with 10 rabbits and 5 foxes. Plot the number of each species from t=0 to t=15.\n",
    "\n"
   ]
  },
  {
   "cell_type": "code",
   "execution_count": null,
   "metadata": {
    "colab": {
     "base_uri": "https://localhost:8080/",
     "height": 36
    },
    "executionInfo": {
     "elapsed": 137,
     "status": "ok",
     "timestamp": 1631626966083,
     "user": {
      "displayName": "John Kitchin",
      "photoUrl": "https://lh3.googleusercontent.com/a/default-user=s64",
      "userId": "14782011281593705406"
     },
     "user_tz": 240
    },
    "id": "hf-6US85IRmC",
    "outputId": "9c9d65c0-7121-4b9d-8f9b-67dd44a8913f"
   },
   "outputs": [],
   "source": [
    "# rate parameters\n",
    "a = 1.0\n",
    "b = 0.1\n",
    "c = 1.5\n",
    "d = 0.75\n",
    "\n",
    "Y0 = np.array([21, 5])\n",
    "tspan = (0, 15)\n",
    "teval = np.linspace(*tspan, 1500)\n",
    "\n",
    "\n",
    "def dXdt(t, X):\n",
    "    rabbits, foxes = X\n",
    "    drabbitdt = a * rabbits - b * rabbits * foxes\n",
    "    dfoxesdt = -c * foxes + d * b * rabbits * foxes\n",
    "    return np.array([drabbitdt, dfoxesdt])\n",
    "\n",
    "\n",
    "from scipy.integrate import solve_ivp\n",
    "\n",
    "sol = solve_ivp(dXdt, tspan, Y0, t_eval=teval)\n",
    "sol.message"
   ]
  },
  {
   "cell_type": "code",
   "execution_count": null,
   "metadata": {
    "colab": {
     "base_uri": "https://localhost:8080/",
     "height": 301
    },
    "executionInfo": {
     "elapsed": 344,
     "status": "ok",
     "timestamp": 1631626971064,
     "user": {
      "displayName": "John Kitchin",
      "photoUrl": "https://lh3.googleusercontent.com/a/default-user=s64",
      "userId": "14782011281593705406"
     },
     "user_tz": 240
    },
    "id": "C3jrZF5VIRmF",
    "outputId": "7c04c10e-b18d-42f2-c61a-3018089cf2f7"
   },
   "outputs": [],
   "source": [
    "plt.plot(sol.t, sol.y.T)\n",
    "plt.ylim([0, 50])\n",
    "plt.legend([\"rabbits\", \"foxes\"], loc=\"upper right\")\n",
    "plt.xlabel(\"t\")\n",
    "plt.ylabel(\"count\")\n",
    "plt.xlim(tspan);"
   ]
  },
  {
   "cell_type": "markdown",
   "metadata": {
    "id": "C48eJNE3IRmI"
   },
   "source": [
    "This is a classic boom/bust cycle of predator/prey.\n",
    "\n"
   ]
  },
  {
   "cell_type": "markdown",
   "metadata": {
    "id": "FDoRsMOnIRmJ"
   },
   "source": [
    "### Qualitative method for systems of ODEs\n",
    "\n"
   ]
  },
  {
   "cell_type": "markdown",
   "metadata": {
    "id": "iphnx9z5IRmK"
   },
   "source": [
    "We can consider direction fields for systems of ODEs to examine the qualitative behavior of solutions when there are two equations. The key here is to compute for each point (rabbit, fox) we compute (drabbit/dt, dfox/dt), and then plot these.\n",
    "\n"
   ]
  },
  {
   "cell_type": "code",
   "execution_count": null,
   "metadata": {
    "colab": {
     "base_uri": "https://localhost:8080/",
     "height": 279
    },
    "executionInfo": {
     "elapsed": 593,
     "status": "ok",
     "timestamp": 1631627217574,
     "user": {
      "displayName": "John Kitchin",
      "photoUrl": "https://lh3.googleusercontent.com/a/default-user=s64",
      "userId": "14782011281593705406"
     },
     "user_tz": 240
    },
    "id": "Iy_QSc5KIRmL",
    "outputId": "98c8527b-9a98-45ae-e218-e4ad09a6ae4a"
   },
   "outputs": [],
   "source": [
    "r = np.linspace(1, 40, 20)  # rabbit grid\n",
    "f = np.linspace(1, 40, 20)  # fox grid\n",
    "\n",
    "R, F = np.meshgrid(r, f)  # 2D arrays of (rabbit, fox) points\n",
    "\n",
    "DR, DF = dXdt(0, [R, F])\n",
    "\n",
    "# This normalizes the arrows so they are all the same length and just show the direction\n",
    "N = np.sqrt(DR**2 + DF**2)\n",
    "# N[N==0] = 1 # eliminate / 0 errors, it is sort of optional.\n",
    "DR /= N\n",
    "DF /= N\n",
    "\n",
    "plt.quiver(R, F, DR, DF)\n",
    "plt.xlabel(\"Number of rabbits\")\n",
    "plt.ylabel(\"Number of foxes\")\n",
    "plt.plot(sol.y[0], sol.y[1]);"
   ]
  },
  {
   "cell_type": "code",
   "execution_count": null,
   "metadata": {
    "id": "gRwEv_0EIRmO"
   },
   "outputs": [],
   "source": []
  },
  {
   "cell_type": "markdown",
   "metadata": {
    "id": "3jWdaAurIRmR"
   },
   "source": [
    "In this view, we have a *limit cycle* which just shows the number of rabbits and foxes goes up and down periodically as you travel around the solution curve. Time is parametric in this plot. It starts at t=0 at the initial state, and increases as you go around the cycle.\n",
    "\n"
   ]
  },
  {
   "cell_type": "markdown",
   "metadata": {
    "id": "PeW_ORX-IRmS"
   },
   "source": [
    "## Summary\n",
    "\n"
   ]
  },
  {
   "cell_type": "markdown",
   "metadata": {
    "id": "RntEFLgfIRmT"
   },
   "source": [
    "Systems of first order differential equations are solved the same way as single first order differential equations. The main difference is the system must be defined as:\n",
    "\n",
    "$Y'(t) = f(x, Y)$\n",
    "\n",
    "where $Y'$ is a vector/array of first derivatives, and $Y$ is a vector/array of function values.\n",
    "\n",
    "You still use `scipy.integrate.solve_ivp` to solve the equations, but you need an initial condition for each equation.\n",
    "\n",
    "<div class=\"alert alert-warning\">\n",
    "There are other ode integrators in scipy that have different function signatures than `scipy.integrate.solve_ivp`.\n",
    "\n",
    "For example, `scipy.integrate.odeint` requires functions like $y' = f(y, t)$ which is the opposite of `scipy.integrate.solve_ivp`. You **have** to keep track of which one you are using.\n",
    "\n",
    "`scipy.integrate.odeint` is older than `scipy.integrate.solve_ivp`, but it has fewer features (e.g. no events, fewer solver options).\n",
    "</div>\n",
    "\n"
   ]
  }
 ],
 "metadata": {
  "colab": {
   "collapsed_sections": [],
   "name": "04-fode-2.ipynb",
   "provenance": []
  },
  "kernelspec": {
   "display_name": "Python 3 (ipykernel)",
   "language": "python",
   "name": "python3"
  },
  "language_info": {
   "codemirror_mode": {
    "name": "ipython",
    "version": 3
   },
   "file_extension": ".py",
   "mimetype": "text/x-python",
   "name": "python",
   "nbconvert_exporter": "python",
   "pygments_lexer": "ipython3",
   "version": "3.9.7"
  },
  "org": {
   "KEYWORDS": "solve_ivp, meshgrid, quiver"
  }
 },
 "nbformat": 4,
 "nbformat_minor": 4
}
