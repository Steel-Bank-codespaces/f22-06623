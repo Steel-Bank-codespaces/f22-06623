{
 "cells": [
  {
   "cell_type": "markdown",
   "id": "ad8bdac8-c211-44d4-9d64-949574128566",
   "metadata": {},
   "source": [
    "F22 06623 - Mathematical Modeling of Chemical Engineering Processes\n",
    "===================================================================\n",
    "\n",
    "[Lectures](lectures/toc.ipynb)"
   ]
  }
 ],
 "metadata": {
  "kernelspec": {
   "display_name": "Python 3 (ipykernel)",
   "language": "python",
   "name": "python3"
  },
  "language_info": {
   "codemirror_mode": {
    "name": "ipython",
    "version": 3
   },
   "file_extension": ".py",
   "mimetype": "text/x-python",
   "name": "python",
   "nbconvert_exporter": "python",
   "pygments_lexer": "ipython3",
   "version": "3.9.12"
  },
  "vscode": {
   "interpreter": {
    "hash": "d4d1e4263499bec80672ea0156c357c1ee493ec2b1c70f0acce89fc37c4a6abe"
   }
  },
  "widgets": {
   "application/vnd.jupyter.widget-state+json": {
    "state": {},
    "version_major": 2,
    "version_minor": 0
   }
  }
 },
 "nbformat": 4,
 "nbformat_minor": 5
}
